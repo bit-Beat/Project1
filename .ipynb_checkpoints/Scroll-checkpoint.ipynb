{
 "cells": [
  {
   "cell_type": "code",
   "execution_count": 1,
   "metadata": {},
   "outputs": [],
   "source": [
    "import pandas as pd\n",
    "import plotly.express as px\n",
    "import numpy as np\n",
    "import json\n",
    "import folium\n",
    "import webbrowser\n",
    " "
   ]
  },
  {
   "cell_type": "code",
   "execution_count": 94,
   "metadata": {},
   "outputs": [],
   "source": [
    "korea = json.load(open('korea.json','r',encoding='UTF-8'))"
   ]
  },
  {
   "cell_type": "code",
   "execution_count": 158,
   "metadata": {
    "scrolled": true
   },
   "outputs": [
    {
     "data": {
      "text/html": [
       "<div>\n",
       "<style scoped>\n",
       "    .dataframe tbody tr th:only-of-type {\n",
       "        vertical-align: middle;\n",
       "    }\n",
       "\n",
       "    .dataframe tbody tr th {\n",
       "        vertical-align: top;\n",
       "    }\n",
       "\n",
       "    .dataframe thead th {\n",
       "        text-align: right;\n",
       "    }\n",
       "</style>\n",
       "<table border=\"1\" class=\"dataframe\">\n",
       "  <thead>\n",
       "    <tr style=\"text-align: right;\">\n",
       "      <th></th>\n",
       "      <th>code</th>\n",
       "      <th>2020년 12월28일</th>\n",
       "    </tr>\n",
       "    <tr>\n",
       "      <th>지 역</th>\n",
       "      <th></th>\n",
       "      <th></th>\n",
       "    </tr>\n",
       "  </thead>\n",
       "  <tbody>\n",
       "    <tr>\n",
       "      <th>서울</th>\n",
       "      <td>11</td>\n",
       "      <td>108.412</td>\n",
       "    </tr>\n",
       "    <tr>\n",
       "      <th>경기</th>\n",
       "      <td>41</td>\n",
       "      <td>112.582</td>\n",
       "    </tr>\n",
       "    <tr>\n",
       "      <th>인천</th>\n",
       "      <td>28</td>\n",
       "      <td>109.303</td>\n",
       "    </tr>\n",
       "    <tr>\n",
       "      <th>부산</th>\n",
       "      <td>26</td>\n",
       "      <td>100.369</td>\n",
       "    </tr>\n",
       "    <tr>\n",
       "      <th>대구</th>\n",
       "      <td>27</td>\n",
       "      <td>110.568</td>\n",
       "    </tr>\n",
       "    <tr>\n",
       "      <th>광주</th>\n",
       "      <td>29</td>\n",
       "      <td>106.173</td>\n",
       "    </tr>\n",
       "    <tr>\n",
       "      <th>대전</th>\n",
       "      <td>30</td>\n",
       "      <td>131.446</td>\n",
       "    </tr>\n",
       "    <tr>\n",
       "      <th>울산</th>\n",
       "      <td>31</td>\n",
       "      <td>94.886</td>\n",
       "    </tr>\n",
       "    <tr>\n",
       "      <th>세종</th>\n",
       "      <td>36</td>\n",
       "      <td>142.234</td>\n",
       "    </tr>\n",
       "    <tr>\n",
       "      <th>강원</th>\n",
       "      <td>42</td>\n",
       "      <td>90.567</td>\n",
       "    </tr>\n",
       "    <tr>\n",
       "      <th>충북</th>\n",
       "      <td>43</td>\n",
       "      <td>91.765</td>\n",
       "    </tr>\n",
       "    <tr>\n",
       "      <th>충남</th>\n",
       "      <td>44</td>\n",
       "      <td>95.973</td>\n",
       "    </tr>\n",
       "    <tr>\n",
       "      <th>전북</th>\n",
       "      <td>45</td>\n",
       "      <td>96.228</td>\n",
       "    </tr>\n",
       "    <tr>\n",
       "      <th>전남</th>\n",
       "      <td>46</td>\n",
       "      <td>105.595</td>\n",
       "    </tr>\n",
       "    <tr>\n",
       "      <th>경북</th>\n",
       "      <td>47</td>\n",
       "      <td>88.425</td>\n",
       "    </tr>\n",
       "    <tr>\n",
       "      <th>경남</th>\n",
       "      <td>48</td>\n",
       "      <td>86.870</td>\n",
       "    </tr>\n",
       "    <tr>\n",
       "      <th>제주</th>\n",
       "      <td>50</td>\n",
       "      <td>93.635</td>\n",
       "    </tr>\n",
       "  </tbody>\n",
       "</table>\n",
       "</div>"
      ],
      "text/plain": [
       "    code  2020년 12월28일\n",
       "지 역                   \n",
       "서울    11       108.412\n",
       "경기    41       112.582\n",
       "인천    28       109.303\n",
       "부산    26       100.369\n",
       "대구    27       110.568\n",
       "광주    29       106.173\n",
       "대전    30       131.446\n",
       "울산    31        94.886\n",
       "세종    36       142.234\n",
       "강원    42        90.567\n",
       "충북    43        91.765\n",
       "충남    44        95.973\n",
       "전북    45        96.228\n",
       "전남    46       105.595\n",
       "경북    47        88.425\n",
       "경남    48        86.870\n",
       "제주    50        93.635"
      ]
     },
     "execution_count": 158,
     "metadata": {},
     "output_type": "execute_result"
    }
   ],
   "source": [
    "korea"
   ]
  },
  {
   "cell_type": "code",
   "execution_count": 15,
   "metadata": {},
   "outputs": [],
   "source": [
    "apart_t = pd.read_csv('아파트_매매가_상승_지수.csv',encoding='CP949',header=[0,1]) #csv파일을 읽어온다. \n",
    "[apart_t.rename(columns={apart_t.columns[index][0]:apart_t.columns[index-1][0]},inplace=True) for index,i in enumerate(apart_t.columns) if index%2!=0]\n",
    "apart_t.drop(apart_t.columns[1:4],axis=1,inplace=True) # 1 ~ 3번째 열 삭제\n",
    "apart_t.rename(columns={'Unnamed: 0_level_1':'지역'},inplace=True) # 지역으로 이름변경\n",
    "apart_t.dropna(axis=0,inplace=True) #지역의 null값 행 모두 제거\n",
    "apart_t.set_index('지 역',inplace=True) # 지역 인덱스화\n",
    "apart_t.index = apart_t.index.map(lambda x : x[0]) #지역 인덱스 튜플값 풀어주기\n",
    "apart_i = pd.DataFrame(apart_t.iloc[:,0::2].values,columns=apart_t.columns[0::2].map(lambda x : x[0])) #지수별로 데이터프레임 생성\n",
    "apart_f = pd.DataFrame(apart_t.iloc[:,1::2].values,columns=apart_t.columns[0::2].map(lambda x : x[0])) #변동률별로 데이터프레임 생성\n",
    "apart_i.set_index(apart_t.index,inplace=True) #인덱스를 지역명으로 지정\n",
    "apart_f.set_index(apart_t.index,inplace=True) #\n",
    "# apart_f=apart_f.transpose()\n",
    "# apart_f = apart_f.astype(np.float)\n",
    "# apart_i=apart_i.transpose()\n",
    "# apart_i = apart_i.astype(np.float)"
   ]
  },
  {
   "cell_type": "code",
   "execution_count": 16,
   "metadata": {},
   "outputs": [],
   "source": [
    "apart=pd.DataFrame(apart_i.iloc[:,-1])"
   ]
  },
  {
   "cell_type": "code",
   "execution_count": 17,
   "metadata": {},
   "outputs": [],
   "source": [
    "apart.drop(apart.iloc[0:7].index,inplace=True)"
   ]
  },
  {
   "cell_type": "code",
   "execution_count": 18,
   "metadata": {},
   "outputs": [],
   "source": [
    "apart=apart.astype(float)"
   ]
  },
  {
   "cell_type": "code",
   "execution_count": 101,
   "metadata": {},
   "outputs": [],
   "source": [
    "apart['code']=['11','41','28','26','27','29','30','31','36','42','43','44','45','46','47','48','50']"
   ]
  },
  {
   "cell_type": "code",
   "execution_count": 20,
   "metadata": {},
   "outputs": [],
   "source": [
    "apart['code']=['서울특별시','경기도','강원도','경상남도','경상북도','광주광역시','대구광역시','대전광역시','부산광역시','세종특별자치시','울산광역시','인천광역시','전라남도','전라북도','제주특별자치도','충청남도','충청북도']"
   ]
  },
  {
   "cell_type": "code",
   "execution_count": 46,
   "metadata": {},
   "outputs": [],
   "source": [
    "apart = apart[['code','2020년 12월28일']]"
   ]
  },
  {
   "cell_type": "code",
   "execution_count": 97,
   "metadata": {},
   "outputs": [],
   "source": [
    "mapp = folium.Map(location=[36.658451288367225, 127.86120689780692],zoom_start=7)"
   ]
  },
  {
   "cell_type": "code",
   "execution_count": 103,
   "metadata": {},
   "outputs": [
    {
     "data": {
      "text/plain": [
       "True"
      ]
     },
     "execution_count": 103,
     "metadata": {},
     "output_type": "execute_result"
    }
   ],
   "source": [
    "folium.Choropleth(geo_data=korea,\n",
    "               data=apart,\n",
    "               columns=['code','2020년 12월28일'],\n",
    "               key_on='feature.properties.CTPRVN_CD',\n",
    "               fill_color='YlGn',\n",
    "#                fill_opacity=0.7,\n",
    "#                line_opacity=0.5,\n",
    "\n",
    "               ).add_to(mapp)\n",
    "\n",
    "map2.save('folium_kr.html')\n",
    "webbrowser.open_new(\"folium_kr.html\")\n",
    "\n"
   ]
  },
  {
   "cell_type": "code",
   "execution_count": null,
   "metadata": {},
   "outputs": [],
   "source": []
  }
 ],
 "metadata": {
  "kernelspec": {
   "display_name": "Python 3",
   "language": "python",
   "name": "python3"
  },
  "language_info": {
   "codemirror_mode": {
    "name": "ipython",
    "version": 3
   },
   "file_extension": ".py",
   "mimetype": "text/x-python",
   "name": "python",
   "nbconvert_exporter": "python",
   "pygments_lexer": "ipython3",
   "version": "3.8.5"
  }
 },
 "nbformat": 4,
 "nbformat_minor": 4
}
