{
 "cells": [
  {
   "cell_type": "code",
   "execution_count": 1,
   "metadata": {},
   "outputs": [],
   "source": [
    "import pandas as pd\n",
    "import numpy as np\n",
    "\n",
    "import seaborn as sns\n",
    "%matplotlib inline\n",
    "import matplotlib.pyplot as plt\n",
    "import plotly.express as px\n",
    "\n",
    "\n",
    "import dash\n",
    "import dash_html_components as html\n",
    "import dash_core_components as dcc\n",
    "import dash_bootstrap_components as dbc\n",
    "from dash.dependencies import Input, Output, State"
   ]
  },
  {
   "cell_type": "code",
   "execution_count": 2,
   "metadata": {},
   "outputs": [],
   "source": [
    "# apart_trading = pd.read_excel(\"아파트_매매가_상승_지수.xlsx\",header=10) #엑셀의 11번째 행부터 읽어들인다.\n",
    "# apart_trading.to_csv(\"아파트_매매가_상승_지수.csv\",index=False,encoding='CP949') #CSV 파일로 전환 index행을 만들지 않기위해 False"
   ]
  },
  {
   "cell_type": "code",
   "execution_count": 2,
   "metadata": {},
   "outputs": [],
   "source": [
    "apart_t = pd.read_csv('아파트_매매가_상승_지수.csv',encoding='CP949',header=[0,1]) #csv파일을 읽어온다. "
   ]
  },
  {
   "cell_type": "code",
   "execution_count": 3,
   "metadata": {
    "scrolled": true
   },
   "outputs": [
    {
     "name": "stderr",
     "output_type": "stream",
     "text": [
      "C:\\Users\\admin\\anaconda3\\lib\\site-packages\\pandas\\core\\frame.py:4163: SettingWithCopyWarning: \n",
      "A value is trying to be set on a copy of a slice from a DataFrame\n",
      "\n",
      "See the caveats in the documentation: https://pandas.pydata.org/pandas-docs/stable/user_guide/indexing.html#returning-a-view-versus-a-copy\n",
      "  return super().drop(\n",
      "C:\\Users\\admin\\anaconda3\\lib\\site-packages\\pandas\\core\\generic.py:3887: PerformanceWarning: dropping on a non-lexsorted multi-index without a level parameter may impact performance.\n",
      "  obj = obj._drop_axis(labels, axis, level=level, errors=errors)\n"
     ]
    }
   ],
   "source": [
    "test = pd.read_csv('아파트_매매가_상승_지수.csv',encoding='CP949')#,index_col=[0,1,2,3])\n",
    "test1=test.iloc[:,0:4]\n",
    "test2=test.iloc[:,4:]\n",
    "test2.columns = [[test2.columns[index-1] if index%2!=0 else i for index,i in enumerate(test2.columns)],[i for i in test2.iloc[0,:]]]\n",
    "test2.drop(index=[0],inplace=True)\n",
    "test2.reset_index(inplace=True)\n",
    "test2.drop(columns='index',inplace=True)"
   ]
  },
  {
   "cell_type": "code",
   "execution_count": 3,
   "metadata": {
    "scrolled": true
   },
   "outputs": [],
   "source": [
    "[apart_t.rename(columns={apart_t.columns[index][0]:apart_t.columns[index-1][0]},inplace=True) for index,i in enumerate(apart_t.columns) if index%2!=0]\n",
    "apart_t.drop(apart_t.columns[1:4],axis=1,inplace=True) # 1 ~ 3번째 열 삭제\n",
    "apart_t.rename(columns={'Unnamed: 0_level_1':'지역'},inplace=True) # 지역으로 이름변경\n",
    "apart_t.dropna(axis=0,inplace=True) #지역의 null값 행 모두 제거\n",
    "apart_t.set_index('지 역',inplace=True) # 지역 인덱스화\n",
    "apart_t.index = apart_t.index.map(lambda x : x[0]) #지역 인덱스 튜플값 풀어주기\n",
    "apart_i = pd.DataFrame(apart_t.iloc[:,0::2].values,columns=apart_t.columns[0::2].map(lambda x : x[0])) #지수별로 데이터프레임 생성\n",
    "apart_f = pd.DataFrame(apart_t.iloc[:,1::2].values,columns=apart_t.columns[0::2].map(lambda x : x[0])) #변동률별로 데이터프레임 생성\n",
    "apart_i.set_index(apart_t.index,inplace=True) #인덱스를 지역명으로 지정\n",
    "apart_f.set_index(apart_t.index,inplace=True) #"
   ]
  },
  {
   "cell_type": "code",
   "execution_count": 4,
   "metadata": {},
   "outputs": [],
   "source": [
    "apart_f=apart_f.transpose()\n",
    "apart_f = apart_f.astype(np.float)\n",
    "apart_i=apart_i.transpose()\n",
    "apart_i = apart_i.astype(np.float)"
   ]
  },
  {
   "cell_type": "code",
   "execution_count": 303,
   "metadata": {},
   "outputs": [],
   "source": [
    "tab_selected_style = {\n",
    "    'borderTop': '1px solid #d6d6d6',\n",
    "#     'borderBottom': '1px solid #d6d6d6',\n",
    "    'backgroundColor': '#119DFF',\n",
    "    'color': 'white',\n",
    "}\n",
    "tab_select_style = {'background-color':'#119DFF','width':'100%','height':'30px'}\n",
    "solid_border = {\n",
    "    'border' : '1px black solid'\n",
    "}\n",
    "\n",
    "dotted_border = {\n",
    "    'border' : '1px red dotted'\n",
    "}"
   ]
  },
  {
   "cell_type": "code",
   "execution_count": 304,
   "metadata": {},
   "outputs": [],
   "source": [
    "Title = html.H3(\"아파트 집값 상승세 추이 분석 \",style={'font-weight':'bold','text-align':'center','padding':'20px','border-bottom': '10px solid #2b90d9','color':'#87c1ff'})\n",
    "Main_tabs = dcc.Tabs(id='Tabs',\n",
    "                     value='tab1',\n",
    "                     children=[\n",
    "                     dcc.Tab(label='아파트 가격 변동률',value='tab1',selected_style=tab_selected_style),\n",
    "                     dcc.Tab(label='주택 가격 변동률',value='tab2',selected_style=tab_selected_style),\n",
    "                     dcc.Tab(label='자료 출처',value='tab3',selected_style=tab_selected_style)])\n",
    "country_drop = dcc.Dropdown(id=\"country_drop\",\n",
    "                            multi=True,\n",
    "                            value='전국',\n",
    "                            options = [{'label':i,'value':i} for i in apart_t.index])              \n",
    "year_slider = dcc.RangeSlider(id='year_slider',\n",
    "                              min=2015,\n",
    "                              max=2020, \n",
    "                              step=1,\n",
    "                              marks={2015:'15년',\n",
    "                                     2016:'16년',\n",
    "                                     2017:'17년',\n",
    "                                     2018:'18년',\n",
    "                                     2019:'19년',\n",
    "                                     2020:'20년'},\n",
    "                              value=[2015,2020])\n",
    "apart_f_graph = dcc.Graph(id='sale_graph')\n",
    "apart_i_graph = dcc.Graph(id='dim_graph')"
   ]
  },
  {
   "cell_type": "code",
   "execution_count": 305,
   "metadata": {},
   "outputs": [],
   "source": [
    "Header = html.Header([\n",
    "    Title\n",
    "],style={'border':'1px black solid','margin-top':'20px'})"
   ]
  },
  {
   "cell_type": "code",
   "execution_count": 306,
   "metadata": {},
   "outputs": [],
   "source": [
    "Tabs = html.Div([\n",
    "    Main_tabs\n",
    "])"
   ]
  },
  {
   "cell_type": "code",
   "execution_count": 307,
   "metadata": {},
   "outputs": [],
   "source": [
    "Tabs_select = html.Div(id='Tab_select')"
   ]
  },
  {
   "cell_type": "code",
   "execution_count": 308,
   "metadata": {},
   "outputs": [],
   "source": [
    "Tab1_div=html.Div([\n",
    "    dbc.Row(dbc.Col(html.Div(\"Title\"),style={'text-align':'center'})),\n",
    "    dbc.Row([\n",
    "        dbc.Col(html.Div([\n",
    "            html.Label('지역 선택'),\n",
    "            country_drop,\n",
    "            html.Hr(),\n",
    "            year_slider\n",
    "        ],style={'width':'100%','border':'1px solid black','padding':'10px','padding-bottom':'100px','padding-top':'20px'}),style=solid_border,width=3),\n",
    "        \n",
    "        dbc.Col(html.Div([\n",
    "            apart_f_graph,\n",
    "            apart_i_graph\n",
    "        ],style={'width':'100%'}),style=dotted_border)\n",
    "    ]),\n",
    "    dbc.Row([\n",
    "        dbc.Col(['Hello'],style=dotted_border,width=3),\n",
    "        dbc.Col(['test'],style=dotted_border) \n",
    "    ])\n",
    "])"
   ]
  },
  {
   "cell_type": "code",
   "execution_count": 309,
   "metadata": {},
   "outputs": [],
   "source": [
    "Tab2_div=html.Div([\n",
    "    html.H3(\"Tab2 contents\")\n",
    "])"
   ]
  },
  {
   "cell_type": "code",
   "execution_count": 310,
   "metadata": {},
   "outputs": [],
   "source": [
    "Tab3_div=html.Div([\n",
    "    html.H3(\"Tab3 contents\")\n",
    "])"
   ]
  },
  {
   "cell_type": "code",
   "execution_count": 311,
   "metadata": {},
   "outputs": [],
   "source": [
    "Main = html.Main(id='tab_contents',style={'border':'1px red solid','height':'auto'})"
   ]
  },
  {
   "cell_type": "code",
   "execution_count": 312,
   "metadata": {},
   "outputs": [],
   "source": [
    "Footer = html.Footer([\n",
    "    \"Producer : Pyeon Do-Jun\",\n",
    "    html.Br()\n",
    "],style={'height':'50px','text-align':'center','background-color':'#d9e1e8'},id='footer')"
   ]
  },
  {
   "cell_type": "code",
   "execution_count": 313,
   "metadata": {},
   "outputs": [],
   "source": [
    "app = dash.Dash(external_stylesheets=[dbc.themes.BOOTSTRAP])\n",
    "app.title = \"개별프로젝트1\"\n",
    "\n",
    "app.layout = html.Div(\n",
    "    [\n",
    "        html.Div(\n",
    "            [\n",
    "                Header,\n",
    "                Tabs,\n",
    "                Tabs_select,\n",
    "                Main,\n",
    "                Footer,\n",
    "            ],style={'border':'1px solid blue','height':'100%', 'width':'80vw','margin':'auto','background-color':'white'}\n",
    "        )\n",
    "    ],style={'border':'3px red dotted','height':'100%', 'width':'100vw','background-color':'#d1d1d1'}\n",
    ")"
   ]
  },
  {
   "cell_type": "code",
   "execution_count": 314,
   "metadata": {},
   "outputs": [
    {
     "name": "stdout",
     "output_type": "stream",
     "text": [
      "Dash is running on http://127.0.0.1:8050/\n",
      "\n",
      "Dash is running on http://127.0.0.1:8050/\n",
      "\n",
      "Dash is running on http://127.0.0.1:8050/\n",
      "\n",
      "Dash is running on http://127.0.0.1:8050/\n",
      "\n",
      "Dash is running on http://127.0.0.1:8050/\n",
      "\n",
      "Dash is running on http://127.0.0.1:8050/\n",
      "\n",
      "Dash is running on http://127.0.0.1:8050/\n",
      "\n",
      "Dash is running on http://127.0.0.1:8050/\n",
      "\n",
      "Dash is running on http://127.0.0.1:8050/\n",
      "\n",
      "Dash is running on http://127.0.0.1:8050/\n",
      "\n",
      "Dash is running on http://127.0.0.1:8050/\n",
      "\n",
      "Dash is running on http://127.0.0.1:8050/\n",
      "\n",
      "Dash is running on http://127.0.0.1:8050/\n",
      "\n",
      "Dash is running on http://127.0.0.1:8050/\n",
      "\n",
      "Dash is running on http://127.0.0.1:8050/\n",
      "\n",
      "Dash is running on http://127.0.0.1:8050/\n",
      "\n",
      "Dash is running on http://127.0.0.1:8050/\n",
      "\n",
      "Dash is running on http://127.0.0.1:8050/\n",
      "\n",
      "Dash is running on http://127.0.0.1:8050/\n",
      "\n",
      "Dash is running on http://127.0.0.1:8050/\n",
      "\n",
      "Dash is running on http://127.0.0.1:8050/\n",
      "\n",
      "Dash is running on http://127.0.0.1:8050/\n",
      "\n",
      "Dash is running on http://127.0.0.1:8050/\n",
      "\n",
      "Dash is running on http://127.0.0.1:8050/\n",
      "\n",
      "Dash is running on http://127.0.0.1:8050/\n",
      "\n",
      "Dash is running on http://127.0.0.1:8050/\n",
      "\n",
      "Dash is running on http://127.0.0.1:8050/\n",
      "\n",
      "Dash is running on http://127.0.0.1:8050/\n",
      "\n",
      "Dash is running on http://127.0.0.1:8050/\n",
      "\n",
      "Dash is running on http://127.0.0.1:8050/\n",
      "\n",
      "Dash is running on http://127.0.0.1:8050/\n",
      "\n",
      "Dash is running on http://127.0.0.1:8050/\n",
      "\n",
      "Dash is running on http://127.0.0.1:8050/\n",
      "\n",
      "Dash is running on http://127.0.0.1:8050/\n",
      "\n",
      "Dash is running on http://127.0.0.1:8050/\n",
      "\n",
      "Dash is running on http://127.0.0.1:8050/\n",
      "\n",
      "Dash is running on http://127.0.0.1:8050/\n",
      "\n",
      " * Serving Flask app \"__main__\" (lazy loading)\n",
      " * Environment: production\n",
      "   WARNING: This is a development server. Do not use it in a production deployment.\n",
      "   Use a production WSGI server instead.\n",
      " * Debug mode: off\n"
     ]
    },
    {
     "name": "stderr",
     "output_type": "stream",
     "text": [
      " * Running on http://127.0.0.1:8050/ (Press CTRL+C to quit)\n",
      "127.0.0.1 - - [28/Jun/2021 17:49:15] \"\u001b[37mGET / HTTP/1.1\u001b[0m\" 200 -\n",
      "127.0.0.1 - - [28/Jun/2021 17:49:15] \"\u001b[37mGET /_dash-layout HTTP/1.1\u001b[0m\" 200 -\n",
      "127.0.0.1 - - [28/Jun/2021 17:49:15] \"\u001b[37mGET /_dash-dependencies HTTP/1.1\u001b[0m\" 200 -\n",
      "127.0.0.1 - - [28/Jun/2021 17:49:15] \"\u001b[37mGET /_favicon.ico?v=1.20.0 HTTP/1.1\u001b[0m\" 200 -\n",
      "127.0.0.1 - - [28/Jun/2021 17:49:15] \"\u001b[37mPOST /_dash-update-component HTTP/1.1\u001b[0m\" 200 -\n",
      "127.0.0.1 - - [28/Jun/2021 17:49:16] \"\u001b[37mPOST /_dash-update-component HTTP/1.1\u001b[0m\" 200 -\n",
      "127.0.0.1 - - [28/Jun/2021 17:49:16] \"\u001b[37mPOST /_dash-update-component HTTP/1.1\u001b[0m\" 200 -\n",
      "127.0.0.1 - - [28/Jun/2021 17:49:16] \"\u001b[37mPOST /_dash-update-component HTTP/1.1\u001b[0m\" 200 -\n",
      "127.0.0.1 - - [28/Jun/2021 17:49:18] \"\u001b[37mPOST /_dash-update-component HTTP/1.1\u001b[0m\" 200 -\n",
      "127.0.0.1 - - [28/Jun/2021 17:49:19] \"\u001b[37mPOST /_dash-update-component HTTP/1.1\u001b[0m\" 200 -\n",
      "127.0.0.1 - - [28/Jun/2021 17:49:19] \"\u001b[37mPOST /_dash-update-component HTTP/1.1\u001b[0m\" 200 -\n",
      "127.0.0.1 - - [28/Jun/2021 17:49:19] \"\u001b[37mPOST /_dash-update-component HTTP/1.1\u001b[0m\" 200 -\n",
      "127.0.0.1 - - [28/Jun/2021 17:49:20] \"\u001b[37mPOST /_dash-update-component HTTP/1.1\u001b[0m\" 200 -\n",
      "127.0.0.1 - - [28/Jun/2021 17:49:20] \"\u001b[37mPOST /_dash-update-component HTTP/1.1\u001b[0m\" 200 -\n",
      "127.0.0.1 - - [28/Jun/2021 17:49:21] \"\u001b[37mPOST /_dash-update-component HTTP/1.1\u001b[0m\" 200 -\n",
      "127.0.0.1 - - [28/Jun/2021 17:49:21] \"\u001b[37mPOST /_dash-update-component HTTP/1.1\u001b[0m\" 200 -\n",
      "127.0.0.1 - - [28/Jun/2021 17:49:21] \"\u001b[37mPOST /_dash-update-component HTTP/1.1\u001b[0m\" 200 -\n"
     ]
    }
   ],
   "source": [
    "@app.callback(\n",
    "    Output('test','children'),\n",
    "    Input('year_slider','value')\n",
    ")\n",
    "def update_slider(value):\n",
    "    return \n",
    "#아파트 매매가 상승률 그래프==============================================================================================================================\n",
    "@app.callback(\n",
    "    Output('sale_graph','figure'),\n",
    "    Input('country_drop','value'),\n",
    "    Input('year_slider','value')\n",
    ")\n",
    "def update_graph(country,year):\n",
    "    apart = apart_f[country]\n",
    "    if year[1] != 2020:\n",
    "        apart = apart.iloc[list(apart.index.str.contains(str(year[0]))).index(True):list(apart.index.str.contains(str((year[1]+1)))).index(True)]\n",
    "    else :\n",
    "        apart = apart.iloc[list(apart.index.str.contains(str(year[0]))).index(True):]\n",
    "        \n",
    "    fig = px.line(apart)\n",
    "    fig.update_xaxes(ticktext=[\"15년1월\",\"15년12월\",\"16년12월\",\"17년12월\",\"18년12월\",\"19년12월\",\"20년12월\"],\n",
    "                     tickvals=['2015년 01월05일','2015년 12월28일','2016년 12월26일','2017년 12월25일','2018년 12월31일','2019년 12월30일','2020년 12월28일'],\n",
    "                     tickangle=0)\n",
    "    fig.update_layout(title = '아파트 매매가 상승률',\n",
    "                      xaxis_title = '년도' , \n",
    "                      yaxis_title = '상승률',\n",
    "                      title_x=0.5,\n",
    "                      hovermode=\"x unified\")\n",
    "    fig.update_traces(mode=\"lines\", hovertemplate=None)\n",
    "    return fig\n",
    "#아파트 지수 상승률 그래프==============================================================================================================================\n",
    "@app.callback(\n",
    "    Output('dim_graph','figure'),\n",
    "    Input('country_drop','value'),\n",
    "    Input('year_slider','value')\n",
    ")\n",
    "def update_dim_graph(country,year):\n",
    "    apart = apart_i[country]\n",
    "    if year[1] != 2020:\n",
    "        apart = apart.iloc[list(apart.index.str.contains(str(year[0]))).index(True):list(apart.index.str.contains(str((year[1]+1)))).index(True)]\n",
    "    else :\n",
    "        apart = apart.iloc[list(apart.index.str.contains(str(year[0]))).index(True):] \n",
    "    fig = px.line(apart)\n",
    "    fig.update_xaxes(ticktext=[\"15년1월\",\"15년12월\",\"16년12월\",\"17년12월\",\"18년12월\",\"19년12월\",\"20년12월\"],\n",
    "                     tickvals=['2015년 01월05일','2015년 12월28일','2016년 12월26일','2017년 12월25일','2018년 12월31일','2019년 12월30일','2020년 12월28일'],\n",
    "                     tickangle=0)\n",
    "    fig.update_layout(title = '아파트 지수 상승률',\n",
    "                      xaxis_title = '년도' , \n",
    "                      yaxis_title = '상승률',title_x=0.5)\n",
    "    fig.update_traces(mode=\"lines\", hovertemplate=None)\n",
    "    return fig\n",
    "    \n",
    "#탭 선택 함수==============================================================================================================================    \n",
    "@app.callback(\n",
    "    Output('Tab_select','style'),\n",
    "    Output('tab_contents', 'children'),\n",
    "    Input('Tabs', 'value'),\n",
    ")\n",
    "def render_content(tab):\n",
    "    if tab == 'tab1':\n",
    "        return tab_select_style,Tab1_div\n",
    "    elif tab == 'tab2':\n",
    "        return tab_select_style,Tab2_div\n",
    "    elif tab == 'tab3':\n",
    "        return tab_select_style,Tab3_div\n",
    "\n",
    "#============================================================================================================================== \n",
    "app.run_server()"
   ]
  },
  {
   "cell_type": "code",
   "execution_count": null,
   "metadata": {},
   "outputs": [],
   "source": []
  },
  {
   "cell_type": "code",
   "execution_count": null,
   "metadata": {},
   "outputs": [],
   "source": []
  },
  {
   "cell_type": "code",
   "execution_count": null,
   "metadata": {},
   "outputs": [],
   "source": []
  }
 ],
 "metadata": {
  "kernelspec": {
   "display_name": "Python 3.8.5 64-bit ('admin': virtualenv)",
   "language": "python",
   "name": "python385jvsc74a57bd0ef7f9a8012d9131766e31894c279374cc63c73121ed4db3b9e67a294a4bf0e74"
  },
  "language_info": {
   "codemirror_mode": {
    "name": "ipython",
    "version": 3
   },
   "file_extension": ".py",
   "mimetype": "text/x-python",
   "name": "python",
   "nbconvert_exporter": "python",
   "pygments_lexer": "ipython3",
   "version": "3.8.5"
  }
 },
 "nbformat": 4,
 "nbformat_minor": 4
}
