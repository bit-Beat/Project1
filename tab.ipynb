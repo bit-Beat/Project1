{
 "cells": [
  {
   "cell_type": "code",
   "execution_count": 10,
   "metadata": {},
   "outputs": [],
   "source": [
    "import pandas as pd\n",
    "import numpy as np\n",
    "import scipy.stats \n",
    "\n",
    "import json\n",
    "import folium\n",
    "\n",
    "import plotly.express as px\n",
    "import plotly.graph_objects as go\n",
    "import dash\n",
    "import dash_html_components as html\n",
    "import dash_core_components as dcc\n",
    "import dash_bootstrap_components as dbc\n",
    "from dash.dependencies import Input, Output, State\n",
    "from dash_router import Router"
   ]
  },
  {
   "cell_type": "code",
   "execution_count": 12,
   "metadata": {},
   "outputs": [],
   "source": [
    "Main_tabs = dcc.Tabs(id='Tabs',\n",
    "                     value='tab1',\n",
    "                     style={},\n",
    "                     children=[\n",
    "                     dcc.Tab(label='아파트 가격 변동률',value='tab1',style={'background-color':'white','border':'0px','text-align':'left','padding-left':'20px','width':'250px'},selected_style={'font-weight':'700','width':'250px','padding-left':'20px','border':'0px','text-align':'left'}),\n",
    "                     dcc.Tab(label='주택 가격 변동률',value='tab2',style={'background-color':'white','border':'0px','text-align':'left','width':'250px'},selected_style={'font-weight':'700','width':'250px','border':'0px','text-align':'left'}),\n",
    "                     dcc.Tab(label='자료 출처',value='tab3',style={'background-color':'white','border':'0px','text-align':'left','width':'250px'},selected_style={'font-weight':'700','width':'250px','border':'0px','text-align':'left'})])\n",
    "Tabs = html.Div([\n",
    "    Main_tabs\n",
    "],style={'padding':'5px'})"
   ]
  },
  {
   "cell_type": "code",
   "execution_count": 13,
   "metadata": {},
   "outputs": [],
   "source": [
    "Sub_tabs = dcc.Tabs(id='Sub_Tabs',\n",
    "                   value='sub_tab1',\n",
    "                   vertical=True,\n",
    "                   children=[\n",
    "                       dcc.Tab(label='sub_tab1',value='sub_tab1'),\n",
    "                       dcc.Tab(label='sub_tab2',value='sub_tab2'),\n",
    "                   ])"
   ]
  },
  {
   "cell_type": "code",
   "execution_count": 14,
   "metadata": {},
   "outputs": [],
   "source": [
    "Tab1_div=html.Div([\n",
    "    \"Hello\"\n",
    "])"
   ]
  },
  {
   "cell_type": "code",
   "execution_count": 15,
   "metadata": {},
   "outputs": [],
   "source": [
    "Tab2_div=html.Div([\n",
    "    \"Hello2\"\n",
    "])"
   ]
  },
  {
   "cell_type": "code",
   "execution_count": 16,
   "metadata": {},
   "outputs": [],
   "source": [
    "Tab3_div=html.Div([\n",
    "    \"Hello3\"\n",
    "])"
   ]
  },
  {
   "cell_type": "code",
   "execution_count": 23,
   "metadata": {
    "scrolled": true
   },
   "outputs": [
    {
     "data": {
      "text/plain": [
       "{'month_index': [0, 3, 7, 12, 16, 20, 25, 29, 34, 38, 42, 47],\n",
       " 'month': ['1월',\n",
       "  '2월',\n",
       "  '3월',\n",
       "  '4월',\n",
       "  '5월',\n",
       "  '6월',\n",
       "  '7월',\n",
       "  '8월',\n",
       "  '9월',\n",
       "  '10월',\n",
       "  '11월',\n",
       "  '12월']}"
      ]
     },
     "execution_count": 23,
     "metadata": {},
     "output_type": "execute_result"
    }
   ],
   "source": [
    "test={'month_index':[],'month':[]}\n",
    "\n",
    "for i in range(1,13):\n",
    "    test['month'].append(str(i)+'월')\n",
    "    if i < 10 :\n",
    "        test['month_index'].append(list(apart.index.str.contains('0'+str(i)+'월')).index(True))\n",
    "    else :\n",
    "        test['month_index'].append(list(apart.index.str.contains(str(i)+'월')).index(True))\n",
    "        \n",
    "test"
   ]
  },
  {
   "cell_type": "code",
   "execution_count": 26,
   "metadata": {},
   "outputs": [
    {
     "data": {
      "application/vnd.plotly.v1+json": {
       "config": {
        "plotlyServerURL": "https://plot.ly"
       },
       "data": [
        {
         "type": "scatter",
         "x": [
          1,
          2,
          3
         ],
         "xaxis": "x",
         "y": [
          4,
          5,
          6
         ],
         "yaxis": "y"
        },
        {
         "type": "scatter",
         "x": [
          "2015년 01월05일",
          "2015년 01월12일",
          "2015년 01월19일",
          "2015년 01월26일",
          "2015년 02월02일",
          "2015년 02월09일",
          "2015년 02월16일",
          "2015년 02월23일",
          "2015년 03월02일",
          "2015년 03월09일",
          "2015년 03월16일",
          "2015년 03월23일",
          "2015년 03월30일",
          "2015년 04월06일",
          "2015년 04월13일",
          "2015년 04월20일",
          "2015년 04월27일",
          "2015년 05월04일",
          "2015년 05월11일",
          "2015년 05월18일",
          "2015년 05월25일",
          "2015년 06월01일",
          "2015년 06월08일",
          "2015년 06월15일",
          "2015년 06월22일",
          "2015년 06월29일",
          "2015년 07월06일",
          "2015년 07월13일",
          "2015년 07월20일",
          "2015년 07월27일",
          "2015년 08월03일",
          "2015년 08월10일",
          "2015년 08월17일",
          "2015년 08월24일",
          "2015년 08월31일",
          "2015년 09월07일",
          "2015년 09월14일",
          "2015년 09월21일",
          "2015년 09월28일",
          "2015년 10월05일",
          "2015년 10월12일",
          "2015년 10월19일",
          "2015년 10월26일",
          "2015년 11월02일",
          "2015년 11월09일",
          "2015년 11월16일",
          "2015년 11월23일",
          "2015년 11월30일",
          "2015년 12월07일",
          "2015년 12월14일",
          "2015년 12월21일"
         ],
         "xaxis": "x2",
         "y": [
          0.06,
          0.06,
          0.06,
          0.09,
          0.1,
          0.11,
          0.12,
          0.1,
          0.13,
          0.15,
          0.15,
          0.16,
          0.18,
          0.16,
          0.17,
          0.16,
          0.12,
          0.12,
          0.12,
          0.13,
          0.14,
          0.11,
          0.12,
          0.12,
          0.13,
          0.13,
          0.1,
          0.09,
          0.11,
          0.11,
          0.1,
          0.1,
          0.1,
          0.11,
          0.11,
          0.12,
          0.12,
          0.13,
          0.12,
          0.12,
          0.14,
          0.13,
          0.13,
          0.14,
          0.11,
          0.09,
          0.08,
          0.05,
          0.05,
          0.03,
          0.01
         ],
         "yaxis": "y2"
        }
       ],
       "layout": {
        "height": 600,
        "template": {
         "data": {
          "bar": [
           {
            "error_x": {
             "color": "#2a3f5f"
            },
            "error_y": {
             "color": "#2a3f5f"
            },
            "marker": {
             "line": {
              "color": "#E5ECF6",
              "width": 0.5
             }
            },
            "type": "bar"
           }
          ],
          "barpolar": [
           {
            "marker": {
             "line": {
              "color": "#E5ECF6",
              "width": 0.5
             }
            },
            "type": "barpolar"
           }
          ],
          "carpet": [
           {
            "aaxis": {
             "endlinecolor": "#2a3f5f",
             "gridcolor": "white",
             "linecolor": "white",
             "minorgridcolor": "white",
             "startlinecolor": "#2a3f5f"
            },
            "baxis": {
             "endlinecolor": "#2a3f5f",
             "gridcolor": "white",
             "linecolor": "white",
             "minorgridcolor": "white",
             "startlinecolor": "#2a3f5f"
            },
            "type": "carpet"
           }
          ],
          "choropleth": [
           {
            "colorbar": {
             "outlinewidth": 0,
             "ticks": ""
            },
            "type": "choropleth"
           }
          ],
          "contour": [
           {
            "colorbar": {
             "outlinewidth": 0,
             "ticks": ""
            },
            "colorscale": [
             [
              0,
              "#0d0887"
             ],
             [
              0.1111111111111111,
              "#46039f"
             ],
             [
              0.2222222222222222,
              "#7201a8"
             ],
             [
              0.3333333333333333,
              "#9c179e"
             ],
             [
              0.4444444444444444,
              "#bd3786"
             ],
             [
              0.5555555555555556,
              "#d8576b"
             ],
             [
              0.6666666666666666,
              "#ed7953"
             ],
             [
              0.7777777777777778,
              "#fb9f3a"
             ],
             [
              0.8888888888888888,
              "#fdca26"
             ],
             [
              1,
              "#f0f921"
             ]
            ],
            "type": "contour"
           }
          ],
          "contourcarpet": [
           {
            "colorbar": {
             "outlinewidth": 0,
             "ticks": ""
            },
            "type": "contourcarpet"
           }
          ],
          "heatmap": [
           {
            "colorbar": {
             "outlinewidth": 0,
             "ticks": ""
            },
            "colorscale": [
             [
              0,
              "#0d0887"
             ],
             [
              0.1111111111111111,
              "#46039f"
             ],
             [
              0.2222222222222222,
              "#7201a8"
             ],
             [
              0.3333333333333333,
              "#9c179e"
             ],
             [
              0.4444444444444444,
              "#bd3786"
             ],
             [
              0.5555555555555556,
              "#d8576b"
             ],
             [
              0.6666666666666666,
              "#ed7953"
             ],
             [
              0.7777777777777778,
              "#fb9f3a"
             ],
             [
              0.8888888888888888,
              "#fdca26"
             ],
             [
              1,
              "#f0f921"
             ]
            ],
            "type": "heatmap"
           }
          ],
          "heatmapgl": [
           {
            "colorbar": {
             "outlinewidth": 0,
             "ticks": ""
            },
            "colorscale": [
             [
              0,
              "#0d0887"
             ],
             [
              0.1111111111111111,
              "#46039f"
             ],
             [
              0.2222222222222222,
              "#7201a8"
             ],
             [
              0.3333333333333333,
              "#9c179e"
             ],
             [
              0.4444444444444444,
              "#bd3786"
             ],
             [
              0.5555555555555556,
              "#d8576b"
             ],
             [
              0.6666666666666666,
              "#ed7953"
             ],
             [
              0.7777777777777778,
              "#fb9f3a"
             ],
             [
              0.8888888888888888,
              "#fdca26"
             ],
             [
              1,
              "#f0f921"
             ]
            ],
            "type": "heatmapgl"
           }
          ],
          "histogram": [
           {
            "marker": {
             "colorbar": {
              "outlinewidth": 0,
              "ticks": ""
             }
            },
            "type": "histogram"
           }
          ],
          "histogram2d": [
           {
            "colorbar": {
             "outlinewidth": 0,
             "ticks": ""
            },
            "colorscale": [
             [
              0,
              "#0d0887"
             ],
             [
              0.1111111111111111,
              "#46039f"
             ],
             [
              0.2222222222222222,
              "#7201a8"
             ],
             [
              0.3333333333333333,
              "#9c179e"
             ],
             [
              0.4444444444444444,
              "#bd3786"
             ],
             [
              0.5555555555555556,
              "#d8576b"
             ],
             [
              0.6666666666666666,
              "#ed7953"
             ],
             [
              0.7777777777777778,
              "#fb9f3a"
             ],
             [
              0.8888888888888888,
              "#fdca26"
             ],
             [
              1,
              "#f0f921"
             ]
            ],
            "type": "histogram2d"
           }
          ],
          "histogram2dcontour": [
           {
            "colorbar": {
             "outlinewidth": 0,
             "ticks": ""
            },
            "colorscale": [
             [
              0,
              "#0d0887"
             ],
             [
              0.1111111111111111,
              "#46039f"
             ],
             [
              0.2222222222222222,
              "#7201a8"
             ],
             [
              0.3333333333333333,
              "#9c179e"
             ],
             [
              0.4444444444444444,
              "#bd3786"
             ],
             [
              0.5555555555555556,
              "#d8576b"
             ],
             [
              0.6666666666666666,
              "#ed7953"
             ],
             [
              0.7777777777777778,
              "#fb9f3a"
             ],
             [
              0.8888888888888888,
              "#fdca26"
             ],
             [
              1,
              "#f0f921"
             ]
            ],
            "type": "histogram2dcontour"
           }
          ],
          "mesh3d": [
           {
            "colorbar": {
             "outlinewidth": 0,
             "ticks": ""
            },
            "type": "mesh3d"
           }
          ],
          "parcoords": [
           {
            "line": {
             "colorbar": {
              "outlinewidth": 0,
              "ticks": ""
             }
            },
            "type": "parcoords"
           }
          ],
          "pie": [
           {
            "automargin": true,
            "type": "pie"
           }
          ],
          "scatter": [
           {
            "marker": {
             "colorbar": {
              "outlinewidth": 0,
              "ticks": ""
             }
            },
            "type": "scatter"
           }
          ],
          "scatter3d": [
           {
            "line": {
             "colorbar": {
              "outlinewidth": 0,
              "ticks": ""
             }
            },
            "marker": {
             "colorbar": {
              "outlinewidth": 0,
              "ticks": ""
             }
            },
            "type": "scatter3d"
           }
          ],
          "scattercarpet": [
           {
            "marker": {
             "colorbar": {
              "outlinewidth": 0,
              "ticks": ""
             }
            },
            "type": "scattercarpet"
           }
          ],
          "scattergeo": [
           {
            "marker": {
             "colorbar": {
              "outlinewidth": 0,
              "ticks": ""
             }
            },
            "type": "scattergeo"
           }
          ],
          "scattergl": [
           {
            "marker": {
             "colorbar": {
              "outlinewidth": 0,
              "ticks": ""
             }
            },
            "type": "scattergl"
           }
          ],
          "scattermapbox": [
           {
            "marker": {
             "colorbar": {
              "outlinewidth": 0,
              "ticks": ""
             }
            },
            "type": "scattermapbox"
           }
          ],
          "scatterpolar": [
           {
            "marker": {
             "colorbar": {
              "outlinewidth": 0,
              "ticks": ""
             }
            },
            "type": "scatterpolar"
           }
          ],
          "scatterpolargl": [
           {
            "marker": {
             "colorbar": {
              "outlinewidth": 0,
              "ticks": ""
             }
            },
            "type": "scatterpolargl"
           }
          ],
          "scatterternary": [
           {
            "marker": {
             "colorbar": {
              "outlinewidth": 0,
              "ticks": ""
             }
            },
            "type": "scatterternary"
           }
          ],
          "surface": [
           {
            "colorbar": {
             "outlinewidth": 0,
             "ticks": ""
            },
            "colorscale": [
             [
              0,
              "#0d0887"
             ],
             [
              0.1111111111111111,
              "#46039f"
             ],
             [
              0.2222222222222222,
              "#7201a8"
             ],
             [
              0.3333333333333333,
              "#9c179e"
             ],
             [
              0.4444444444444444,
              "#bd3786"
             ],
             [
              0.5555555555555556,
              "#d8576b"
             ],
             [
              0.6666666666666666,
              "#ed7953"
             ],
             [
              0.7777777777777778,
              "#fb9f3a"
             ],
             [
              0.8888888888888888,
              "#fdca26"
             ],
             [
              1,
              "#f0f921"
             ]
            ],
            "type": "surface"
           }
          ],
          "table": [
           {
            "cells": {
             "fill": {
              "color": "#EBF0F8"
             },
             "line": {
              "color": "white"
             }
            },
            "header": {
             "fill": {
              "color": "#C8D4E3"
             },
             "line": {
              "color": "white"
             }
            },
            "type": "table"
           }
          ]
         },
         "layout": {
          "annotationdefaults": {
           "arrowcolor": "#2a3f5f",
           "arrowhead": 0,
           "arrowwidth": 1
          },
          "autotypenumbers": "strict",
          "coloraxis": {
           "colorbar": {
            "outlinewidth": 0,
            "ticks": ""
           }
          },
          "colorscale": {
           "diverging": [
            [
             0,
             "#8e0152"
            ],
            [
             0.1,
             "#c51b7d"
            ],
            [
             0.2,
             "#de77ae"
            ],
            [
             0.3,
             "#f1b6da"
            ],
            [
             0.4,
             "#fde0ef"
            ],
            [
             0.5,
             "#f7f7f7"
            ],
            [
             0.6,
             "#e6f5d0"
            ],
            [
             0.7,
             "#b8e186"
            ],
            [
             0.8,
             "#7fbc41"
            ],
            [
             0.9,
             "#4d9221"
            ],
            [
             1,
             "#276419"
            ]
           ],
           "sequential": [
            [
             0,
             "#0d0887"
            ],
            [
             0.1111111111111111,
             "#46039f"
            ],
            [
             0.2222222222222222,
             "#7201a8"
            ],
            [
             0.3333333333333333,
             "#9c179e"
            ],
            [
             0.4444444444444444,
             "#bd3786"
            ],
            [
             0.5555555555555556,
             "#d8576b"
            ],
            [
             0.6666666666666666,
             "#ed7953"
            ],
            [
             0.7777777777777778,
             "#fb9f3a"
            ],
            [
             0.8888888888888888,
             "#fdca26"
            ],
            [
             1,
             "#f0f921"
            ]
           ],
           "sequentialminus": [
            [
             0,
             "#0d0887"
            ],
            [
             0.1111111111111111,
             "#46039f"
            ],
            [
             0.2222222222222222,
             "#7201a8"
            ],
            [
             0.3333333333333333,
             "#9c179e"
            ],
            [
             0.4444444444444444,
             "#bd3786"
            ],
            [
             0.5555555555555556,
             "#d8576b"
            ],
            [
             0.6666666666666666,
             "#ed7953"
            ],
            [
             0.7777777777777778,
             "#fb9f3a"
            ],
            [
             0.8888888888888888,
             "#fdca26"
            ],
            [
             1,
             "#f0f921"
            ]
           ]
          },
          "colorway": [
           "#636efa",
           "#EF553B",
           "#00cc96",
           "#ab63fa",
           "#FFA15A",
           "#19d3f3",
           "#FF6692",
           "#B6E880",
           "#FF97FF",
           "#FECB52"
          ],
          "font": {
           "color": "#2a3f5f"
          },
          "geo": {
           "bgcolor": "white",
           "lakecolor": "white",
           "landcolor": "#E5ECF6",
           "showlakes": true,
           "showland": true,
           "subunitcolor": "white"
          },
          "hoverlabel": {
           "align": "left"
          },
          "hovermode": "closest",
          "mapbox": {
           "style": "light"
          },
          "paper_bgcolor": "white",
          "plot_bgcolor": "#E5ECF6",
          "polar": {
           "angularaxis": {
            "gridcolor": "white",
            "linecolor": "white",
            "ticks": ""
           },
           "bgcolor": "#E5ECF6",
           "radialaxis": {
            "gridcolor": "white",
            "linecolor": "white",
            "ticks": ""
           }
          },
          "scene": {
           "xaxis": {
            "backgroundcolor": "#E5ECF6",
            "gridcolor": "white",
            "gridwidth": 2,
            "linecolor": "white",
            "showbackground": true,
            "ticks": "",
            "zerolinecolor": "white"
           },
           "yaxis": {
            "backgroundcolor": "#E5ECF6",
            "gridcolor": "white",
            "gridwidth": 2,
            "linecolor": "white",
            "showbackground": true,
            "ticks": "",
            "zerolinecolor": "white"
           },
           "zaxis": {
            "backgroundcolor": "#E5ECF6",
            "gridcolor": "white",
            "gridwidth": 2,
            "linecolor": "white",
            "showbackground": true,
            "ticks": "",
            "zerolinecolor": "white"
           }
          },
          "shapedefaults": {
           "line": {
            "color": "#2a3f5f"
           }
          },
          "ternary": {
           "aaxis": {
            "gridcolor": "white",
            "linecolor": "white",
            "ticks": ""
           },
           "baxis": {
            "gridcolor": "white",
            "linecolor": "white",
            "ticks": ""
           },
           "bgcolor": "#E5ECF6",
           "caxis": {
            "gridcolor": "white",
            "linecolor": "white",
            "ticks": ""
           }
          },
          "title": {
           "x": 0.05
          },
          "xaxis": {
           "automargin": true,
           "gridcolor": "white",
           "linecolor": "white",
           "ticks": "",
           "title": {
            "standoff": 15
           },
           "zerolinecolor": "white",
           "zerolinewidth": 2
          },
          "yaxis": {
           "automargin": true,
           "gridcolor": "white",
           "linecolor": "white",
           "ticks": "",
           "title": {
            "standoff": 15
           },
           "zerolinecolor": "white",
           "zerolinewidth": 2
          }
         }
        },
        "title": {
         "text": "Side By Side Subplots"
        },
        "width": 800,
        "xaxis": {
         "anchor": "y",
         "domain": [
          0,
          0.45
         ]
        },
        "xaxis2": {
         "anchor": "y2",
         "domain": [
          0.55,
          1
         ]
        },
        "yaxis": {
         "anchor": "x",
         "domain": [
          0,
          1
         ]
        },
        "yaxis2": {
         "anchor": "x2",
         "domain": [
          0,
          1
         ]
        }
       }
      },
      "text/html": [
       "<div>                            <div id=\"7fc8a2b6-b45d-4fe6-8296-9635f87f0a09\" class=\"plotly-graph-div\" style=\"height:600px; width:800px;\"></div>            <script type=\"text/javascript\">                require([\"plotly\"], function(Plotly) {                    window.PLOTLYENV=window.PLOTLYENV || {};                                    if (document.getElementById(\"7fc8a2b6-b45d-4fe6-8296-9635f87f0a09\")) {                    Plotly.newPlot(                        \"7fc8a2b6-b45d-4fe6-8296-9635f87f0a09\",                        [{\"type\": \"scatter\", \"x\": [1, 2, 3], \"xaxis\": \"x\", \"y\": [4, 5, 6], \"yaxis\": \"y\"}, {\"type\": \"scatter\", \"x\": [\"2015\\ub144 01\\uc6d405\\uc77c\", \"2015\\ub144 01\\uc6d412\\uc77c\", \"2015\\ub144 01\\uc6d419\\uc77c\", \"2015\\ub144 01\\uc6d426\\uc77c\", \"2015\\ub144 02\\uc6d402\\uc77c\", \"2015\\ub144 02\\uc6d409\\uc77c\", \"2015\\ub144 02\\uc6d416\\uc77c\", \"2015\\ub144 02\\uc6d423\\uc77c\", \"2015\\ub144 03\\uc6d402\\uc77c\", \"2015\\ub144 03\\uc6d409\\uc77c\", \"2015\\ub144 03\\uc6d416\\uc77c\", \"2015\\ub144 03\\uc6d423\\uc77c\", \"2015\\ub144 03\\uc6d430\\uc77c\", \"2015\\ub144 04\\uc6d406\\uc77c\", \"2015\\ub144 04\\uc6d413\\uc77c\", \"2015\\ub144 04\\uc6d420\\uc77c\", \"2015\\ub144 04\\uc6d427\\uc77c\", \"2015\\ub144 05\\uc6d404\\uc77c\", \"2015\\ub144 05\\uc6d411\\uc77c\", \"2015\\ub144 05\\uc6d418\\uc77c\", \"2015\\ub144 05\\uc6d425\\uc77c\", \"2015\\ub144 06\\uc6d401\\uc77c\", \"2015\\ub144 06\\uc6d408\\uc77c\", \"2015\\ub144 06\\uc6d415\\uc77c\", \"2015\\ub144 06\\uc6d422\\uc77c\", \"2015\\ub144 06\\uc6d429\\uc77c\", \"2015\\ub144 07\\uc6d406\\uc77c\", \"2015\\ub144 07\\uc6d413\\uc77c\", \"2015\\ub144 07\\uc6d420\\uc77c\", \"2015\\ub144 07\\uc6d427\\uc77c\", \"2015\\ub144 08\\uc6d403\\uc77c\", \"2015\\ub144 08\\uc6d410\\uc77c\", \"2015\\ub144 08\\uc6d417\\uc77c\", \"2015\\ub144 08\\uc6d424\\uc77c\", \"2015\\ub144 08\\uc6d431\\uc77c\", \"2015\\ub144 09\\uc6d407\\uc77c\", \"2015\\ub144 09\\uc6d414\\uc77c\", \"2015\\ub144 09\\uc6d421\\uc77c\", \"2015\\ub144 09\\uc6d428\\uc77c\", \"2015\\ub144 10\\uc6d405\\uc77c\", \"2015\\ub144 10\\uc6d412\\uc77c\", \"2015\\ub144 10\\uc6d419\\uc77c\", \"2015\\ub144 10\\uc6d426\\uc77c\", \"2015\\ub144 11\\uc6d402\\uc77c\", \"2015\\ub144 11\\uc6d409\\uc77c\", \"2015\\ub144 11\\uc6d416\\uc77c\", \"2015\\ub144 11\\uc6d423\\uc77c\", \"2015\\ub144 11\\uc6d430\\uc77c\", \"2015\\ub144 12\\uc6d407\\uc77c\", \"2015\\ub144 12\\uc6d414\\uc77c\", \"2015\\ub144 12\\uc6d421\\uc77c\"], \"xaxis\": \"x2\", \"y\": [0.06, 0.06, 0.06, 0.09, 0.1, 0.11, 0.12, 0.1, 0.13, 0.15, 0.15, 0.16, 0.18, 0.16, 0.17, 0.16, 0.12, 0.12, 0.12, 0.13, 0.14, 0.11, 0.12, 0.12, 0.13, 0.13, 0.1, 0.09, 0.11, 0.11, 0.1, 0.1, 0.1, 0.11, 0.11, 0.12, 0.12, 0.13, 0.12, 0.12, 0.14, 0.13, 0.13, 0.14, 0.11, 0.09, 0.08, 0.05, 0.05, 0.03, 0.01], \"yaxis\": \"y2\"}],                        {\"height\": 600, \"template\": {\"data\": {\"bar\": [{\"error_x\": {\"color\": \"#2a3f5f\"}, \"error_y\": {\"color\": \"#2a3f5f\"}, \"marker\": {\"line\": {\"color\": \"#E5ECF6\", \"width\": 0.5}}, \"type\": \"bar\"}], \"barpolar\": [{\"marker\": {\"line\": {\"color\": \"#E5ECF6\", \"width\": 0.5}}, \"type\": \"barpolar\"}], \"carpet\": [{\"aaxis\": {\"endlinecolor\": \"#2a3f5f\", \"gridcolor\": \"white\", \"linecolor\": \"white\", \"minorgridcolor\": \"white\", \"startlinecolor\": \"#2a3f5f\"}, \"baxis\": {\"endlinecolor\": \"#2a3f5f\", \"gridcolor\": \"white\", \"linecolor\": \"white\", \"minorgridcolor\": \"white\", \"startlinecolor\": \"#2a3f5f\"}, \"type\": \"carpet\"}], \"choropleth\": [{\"colorbar\": {\"outlinewidth\": 0, \"ticks\": \"\"}, \"type\": \"choropleth\"}], \"contour\": [{\"colorbar\": {\"outlinewidth\": 0, \"ticks\": \"\"}, \"colorscale\": [[0.0, \"#0d0887\"], [0.1111111111111111, \"#46039f\"], [0.2222222222222222, \"#7201a8\"], [0.3333333333333333, \"#9c179e\"], [0.4444444444444444, \"#bd3786\"], [0.5555555555555556, \"#d8576b\"], [0.6666666666666666, \"#ed7953\"], [0.7777777777777778, \"#fb9f3a\"], [0.8888888888888888, \"#fdca26\"], [1.0, \"#f0f921\"]], \"type\": \"contour\"}], \"contourcarpet\": [{\"colorbar\": {\"outlinewidth\": 0, \"ticks\": \"\"}, \"type\": \"contourcarpet\"}], \"heatmap\": [{\"colorbar\": {\"outlinewidth\": 0, \"ticks\": \"\"}, \"colorscale\": [[0.0, \"#0d0887\"], [0.1111111111111111, \"#46039f\"], [0.2222222222222222, \"#7201a8\"], [0.3333333333333333, \"#9c179e\"], [0.4444444444444444, \"#bd3786\"], [0.5555555555555556, \"#d8576b\"], [0.6666666666666666, \"#ed7953\"], [0.7777777777777778, \"#fb9f3a\"], [0.8888888888888888, \"#fdca26\"], [1.0, \"#f0f921\"]], \"type\": \"heatmap\"}], \"heatmapgl\": [{\"colorbar\": {\"outlinewidth\": 0, \"ticks\": \"\"}, \"colorscale\": [[0.0, \"#0d0887\"], [0.1111111111111111, \"#46039f\"], [0.2222222222222222, \"#7201a8\"], [0.3333333333333333, \"#9c179e\"], [0.4444444444444444, \"#bd3786\"], [0.5555555555555556, \"#d8576b\"], [0.6666666666666666, \"#ed7953\"], [0.7777777777777778, \"#fb9f3a\"], [0.8888888888888888, \"#fdca26\"], [1.0, \"#f0f921\"]], \"type\": \"heatmapgl\"}], \"histogram\": [{\"marker\": {\"colorbar\": {\"outlinewidth\": 0, \"ticks\": \"\"}}, \"type\": \"histogram\"}], \"histogram2d\": [{\"colorbar\": {\"outlinewidth\": 0, \"ticks\": \"\"}, \"colorscale\": [[0.0, \"#0d0887\"], [0.1111111111111111, \"#46039f\"], [0.2222222222222222, \"#7201a8\"], [0.3333333333333333, \"#9c179e\"], [0.4444444444444444, \"#bd3786\"], [0.5555555555555556, \"#d8576b\"], [0.6666666666666666, \"#ed7953\"], [0.7777777777777778, \"#fb9f3a\"], [0.8888888888888888, \"#fdca26\"], [1.0, \"#f0f921\"]], \"type\": \"histogram2d\"}], \"histogram2dcontour\": [{\"colorbar\": {\"outlinewidth\": 0, \"ticks\": \"\"}, \"colorscale\": [[0.0, \"#0d0887\"], [0.1111111111111111, \"#46039f\"], [0.2222222222222222, \"#7201a8\"], [0.3333333333333333, \"#9c179e\"], [0.4444444444444444, \"#bd3786\"], [0.5555555555555556, \"#d8576b\"], [0.6666666666666666, \"#ed7953\"], [0.7777777777777778, \"#fb9f3a\"], [0.8888888888888888, \"#fdca26\"], [1.0, \"#f0f921\"]], \"type\": \"histogram2dcontour\"}], \"mesh3d\": [{\"colorbar\": {\"outlinewidth\": 0, \"ticks\": \"\"}, \"type\": \"mesh3d\"}], \"parcoords\": [{\"line\": {\"colorbar\": {\"outlinewidth\": 0, \"ticks\": \"\"}}, \"type\": \"parcoords\"}], \"pie\": [{\"automargin\": true, \"type\": \"pie\"}], \"scatter\": [{\"marker\": {\"colorbar\": {\"outlinewidth\": 0, \"ticks\": \"\"}}, \"type\": \"scatter\"}], \"scatter3d\": [{\"line\": {\"colorbar\": {\"outlinewidth\": 0, \"ticks\": \"\"}}, \"marker\": {\"colorbar\": {\"outlinewidth\": 0, \"ticks\": \"\"}}, \"type\": \"scatter3d\"}], \"scattercarpet\": [{\"marker\": {\"colorbar\": {\"outlinewidth\": 0, \"ticks\": \"\"}}, \"type\": \"scattercarpet\"}], \"scattergeo\": [{\"marker\": {\"colorbar\": {\"outlinewidth\": 0, \"ticks\": \"\"}}, \"type\": \"scattergeo\"}], \"scattergl\": [{\"marker\": {\"colorbar\": {\"outlinewidth\": 0, \"ticks\": \"\"}}, \"type\": \"scattergl\"}], \"scattermapbox\": [{\"marker\": {\"colorbar\": {\"outlinewidth\": 0, \"ticks\": \"\"}}, \"type\": \"scattermapbox\"}], \"scatterpolar\": [{\"marker\": {\"colorbar\": {\"outlinewidth\": 0, \"ticks\": \"\"}}, \"type\": \"scatterpolar\"}], \"scatterpolargl\": [{\"marker\": {\"colorbar\": {\"outlinewidth\": 0, \"ticks\": \"\"}}, \"type\": \"scatterpolargl\"}], \"scatterternary\": [{\"marker\": {\"colorbar\": {\"outlinewidth\": 0, \"ticks\": \"\"}}, \"type\": \"scatterternary\"}], \"surface\": [{\"colorbar\": {\"outlinewidth\": 0, \"ticks\": \"\"}, \"colorscale\": [[0.0, \"#0d0887\"], [0.1111111111111111, \"#46039f\"], [0.2222222222222222, \"#7201a8\"], [0.3333333333333333, \"#9c179e\"], [0.4444444444444444, \"#bd3786\"], [0.5555555555555556, \"#d8576b\"], [0.6666666666666666, \"#ed7953\"], [0.7777777777777778, \"#fb9f3a\"], [0.8888888888888888, \"#fdca26\"], [1.0, \"#f0f921\"]], \"type\": \"surface\"}], \"table\": [{\"cells\": {\"fill\": {\"color\": \"#EBF0F8\"}, \"line\": {\"color\": \"white\"}}, \"header\": {\"fill\": {\"color\": \"#C8D4E3\"}, \"line\": {\"color\": \"white\"}}, \"type\": \"table\"}]}, \"layout\": {\"annotationdefaults\": {\"arrowcolor\": \"#2a3f5f\", \"arrowhead\": 0, \"arrowwidth\": 1}, \"autotypenumbers\": \"strict\", \"coloraxis\": {\"colorbar\": {\"outlinewidth\": 0, \"ticks\": \"\"}}, \"colorscale\": {\"diverging\": [[0, \"#8e0152\"], [0.1, \"#c51b7d\"], [0.2, \"#de77ae\"], [0.3, \"#f1b6da\"], [0.4, \"#fde0ef\"], [0.5, \"#f7f7f7\"], [0.6, \"#e6f5d0\"], [0.7, \"#b8e186\"], [0.8, \"#7fbc41\"], [0.9, \"#4d9221\"], [1, \"#276419\"]], \"sequential\": [[0.0, \"#0d0887\"], [0.1111111111111111, \"#46039f\"], [0.2222222222222222, \"#7201a8\"], [0.3333333333333333, \"#9c179e\"], [0.4444444444444444, \"#bd3786\"], [0.5555555555555556, \"#d8576b\"], [0.6666666666666666, \"#ed7953\"], [0.7777777777777778, \"#fb9f3a\"], [0.8888888888888888, \"#fdca26\"], [1.0, \"#f0f921\"]], \"sequentialminus\": [[0.0, \"#0d0887\"], [0.1111111111111111, \"#46039f\"], [0.2222222222222222, \"#7201a8\"], [0.3333333333333333, \"#9c179e\"], [0.4444444444444444, \"#bd3786\"], [0.5555555555555556, \"#d8576b\"], [0.6666666666666666, \"#ed7953\"], [0.7777777777777778, \"#fb9f3a\"], [0.8888888888888888, \"#fdca26\"], [1.0, \"#f0f921\"]]}, \"colorway\": [\"#636efa\", \"#EF553B\", \"#00cc96\", \"#ab63fa\", \"#FFA15A\", \"#19d3f3\", \"#FF6692\", \"#B6E880\", \"#FF97FF\", \"#FECB52\"], \"font\": {\"color\": \"#2a3f5f\"}, \"geo\": {\"bgcolor\": \"white\", \"lakecolor\": \"white\", \"landcolor\": \"#E5ECF6\", \"showlakes\": true, \"showland\": true, \"subunitcolor\": \"white\"}, \"hoverlabel\": {\"align\": \"left\"}, \"hovermode\": \"closest\", \"mapbox\": {\"style\": \"light\"}, \"paper_bgcolor\": \"white\", \"plot_bgcolor\": \"#E5ECF6\", \"polar\": {\"angularaxis\": {\"gridcolor\": \"white\", \"linecolor\": \"white\", \"ticks\": \"\"}, \"bgcolor\": \"#E5ECF6\", \"radialaxis\": {\"gridcolor\": \"white\", \"linecolor\": \"white\", \"ticks\": \"\"}}, \"scene\": {\"xaxis\": {\"backgroundcolor\": \"#E5ECF6\", \"gridcolor\": \"white\", \"gridwidth\": 2, \"linecolor\": \"white\", \"showbackground\": true, \"ticks\": \"\", \"zerolinecolor\": \"white\"}, \"yaxis\": {\"backgroundcolor\": \"#E5ECF6\", \"gridcolor\": \"white\", \"gridwidth\": 2, \"linecolor\": \"white\", \"showbackground\": true, \"ticks\": \"\", \"zerolinecolor\": \"white\"}, \"zaxis\": {\"backgroundcolor\": \"#E5ECF6\", \"gridcolor\": \"white\", \"gridwidth\": 2, \"linecolor\": \"white\", \"showbackground\": true, \"ticks\": \"\", \"zerolinecolor\": \"white\"}}, \"shapedefaults\": {\"line\": {\"color\": \"#2a3f5f\"}}, \"ternary\": {\"aaxis\": {\"gridcolor\": \"white\", \"linecolor\": \"white\", \"ticks\": \"\"}, \"baxis\": {\"gridcolor\": \"white\", \"linecolor\": \"white\", \"ticks\": \"\"}, \"bgcolor\": \"#E5ECF6\", \"caxis\": {\"gridcolor\": \"white\", \"linecolor\": \"white\", \"ticks\": \"\"}}, \"title\": {\"x\": 0.05}, \"xaxis\": {\"automargin\": true, \"gridcolor\": \"white\", \"linecolor\": \"white\", \"ticks\": \"\", \"title\": {\"standoff\": 15}, \"zerolinecolor\": \"white\", \"zerolinewidth\": 2}, \"yaxis\": {\"automargin\": true, \"gridcolor\": \"white\", \"linecolor\": \"white\", \"ticks\": \"\", \"title\": {\"standoff\": 15}, \"zerolinecolor\": \"white\", \"zerolinewidth\": 2}}}, \"title\": {\"text\": \"Side By Side Subplots\"}, \"width\": 800, \"xaxis\": {\"anchor\": \"y\", \"domain\": [0.0, 0.45]}, \"xaxis2\": {\"anchor\": \"y2\", \"domain\": [0.55, 1.0]}, \"yaxis\": {\"anchor\": \"x\", \"domain\": [0.0, 1.0]}, \"yaxis2\": {\"anchor\": \"x2\", \"domain\": [0.0, 1.0]}},                        {\"responsive\": true}                    ).then(function(){\n",
       "                            \n",
       "var gd = document.getElementById('7fc8a2b6-b45d-4fe6-8296-9635f87f0a09');\n",
       "var x = new MutationObserver(function (mutations, observer) {{\n",
       "        var display = window.getComputedStyle(gd).display;\n",
       "        if (!display || display === 'none') {{\n",
       "            console.log([gd, 'removed!']);\n",
       "            Plotly.purge(gd);\n",
       "            observer.disconnect();\n",
       "        }}\n",
       "}});\n",
       "\n",
       "// Listen for the removal of the full notebook cells\n",
       "var notebookContainer = gd.closest('#notebook-container');\n",
       "if (notebookContainer) {{\n",
       "    x.observe(notebookContainer, {childList: true});\n",
       "}}\n",
       "\n",
       "// Listen for the clearing of the current output cell\n",
       "var outputEl = gd.closest('.output');\n",
       "if (outputEl) {{\n",
       "    x.observe(outputEl, {childList: true});\n",
       "}}\n",
       "\n",
       "                        })                };                });            </script>        </div>"
      ]
     },
     "metadata": {},
     "output_type": "display_data"
    }
   ],
   "source": [
    "from plotly.subplots import make_subplots\n",
    "fig2 = make_subplots(rows=1, cols=2)\n",
    "fig2.add_trace(\n",
    "    go.Scatter(x=[1, 2, 3], y=[4, 5, 6]),\n",
    "    row=1, col=1\n",
    ")\n",
    "\n",
    "fig2.add_trace(\n",
    "     go.Scatter(\n",
    "        x=apart2.index,\n",
    "        y=apart2.values\n",
    "    ),\n",
    "    row=1, col=2\n",
    ")\n",
    "\n",
    "fig = go.Figure()\n",
    "\n",
    "fig.add_trace(\n",
    "    go.Scatter(\n",
    "        x=apart2.index,\n",
    "        y=apart2.values\n",
    "    ))\n",
    "\n",
    "fig.add_trace(\n",
    "    go.Bar(\n",
    "        x=apart.index,\n",
    "        y=apart.values\n",
    "    ))\n",
    "fig2.update_layout(height=600, width=800, title_text=\"Side By Side Subplots\")\n",
    "fig2.show()"
   ]
  },
  {
   "cell_type": "code",
   "execution_count": 165,
   "metadata": {},
   "outputs": [
    {
     "data": {
      "application/vnd.plotly.v1+json": {
       "config": {
        "plotlyServerURL": "https://plot.ly"
       },
       "data": [
        {
         "hovertemplate": "variable=세종<br>index=%{x}<br>value=%{y}<extra></extra>",
         "legendgroup": "세종",
         "line": {
          "color": "#636efa",
          "dash": "solid"
         },
         "mode": "lines",
         "name": "세종",
         "orientation": "v",
         "showlegend": true,
         "type": "scatter",
         "x": [
          "2015년 01월05일",
          "2015년 01월12일",
          "2015년 01월19일",
          "2015년 01월26일",
          "2015년 02월02일",
          "2015년 02월09일",
          "2015년 02월16일",
          "2015년 02월23일",
          "2015년 03월02일",
          "2015년 03월09일",
          "2015년 03월16일",
          "2015년 03월23일",
          "2015년 03월30일",
          "2015년 04월06일",
          "2015년 04월13일",
          "2015년 04월20일",
          "2015년 04월27일",
          "2015년 05월04일",
          "2015년 05월11일",
          "2015년 05월18일",
          "2015년 05월25일",
          "2015년 06월01일",
          "2015년 06월08일",
          "2015년 06월15일",
          "2015년 06월22일",
          "2015년 06월29일",
          "2015년 07월06일",
          "2015년 07월13일",
          "2015년 07월20일",
          "2015년 07월27일",
          "2015년 08월03일",
          "2015년 08월10일",
          "2015년 08월17일",
          "2015년 08월24일",
          "2015년 08월31일",
          "2015년 09월07일",
          "2015년 09월14일",
          "2015년 09월21일",
          "2015년 09월28일",
          "2015년 10월05일",
          "2015년 10월12일",
          "2015년 10월19일",
          "2015년 10월26일",
          "2015년 11월02일",
          "2015년 11월09일",
          "2015년 11월16일",
          "2015년 11월23일",
          "2015년 11월30일",
          "2015년 12월07일",
          "2015년 12월14일",
          "2015년 12월21일"
         ],
         "xaxis": "x",
         "y": [
          -0.02,
          -0.03,
          -0.02,
          -0.13,
          0,
          0.01,
          0,
          -0.04,
          -0.02,
          0,
          0,
          0,
          -0.05,
          -0.02,
          -0.06,
          0,
          0.02,
          -0.06,
          -0.03,
          0,
          -0.1,
          -0.03,
          -0.1,
          -0.03,
          -0.02,
          -0.02,
          0.04,
          0.03,
          0.01,
          -0.04,
          0.01,
          -0.02,
          -0.01,
          -0.02,
          -0.01,
          0.01,
          -0.04,
          -0.01,
          -0.01,
          0.01,
          0.02,
          0,
          -0.02,
          0.02,
          -0.03,
          -0.02,
          0.03,
          -0.03,
          -0.05,
          -0.04,
          -0.04
         ],
         "yaxis": "y"
        },
        {
         "name": "전국",
         "type": "bar",
         "x": [
          "2015년 01월05일",
          "2015년 01월12일",
          "2015년 01월19일",
          "2015년 01월26일",
          "2015년 02월02일",
          "2015년 02월09일",
          "2015년 02월16일",
          "2015년 02월23일",
          "2015년 03월02일",
          "2015년 03월09일",
          "2015년 03월16일",
          "2015년 03월23일",
          "2015년 03월30일",
          "2015년 04월06일",
          "2015년 04월13일",
          "2015년 04월20일",
          "2015년 04월27일",
          "2015년 05월04일",
          "2015년 05월11일",
          "2015년 05월18일",
          "2015년 05월25일",
          "2015년 06월01일",
          "2015년 06월08일",
          "2015년 06월15일",
          "2015년 06월22일",
          "2015년 06월29일",
          "2015년 07월06일",
          "2015년 07월13일",
          "2015년 07월20일",
          "2015년 07월27일",
          "2015년 08월03일",
          "2015년 08월10일",
          "2015년 08월17일",
          "2015년 08월24일",
          "2015년 08월31일",
          "2015년 09월07일",
          "2015년 09월14일",
          "2015년 09월21일",
          "2015년 09월28일",
          "2015년 10월05일",
          "2015년 10월12일",
          "2015년 10월19일",
          "2015년 10월26일",
          "2015년 11월02일",
          "2015년 11월09일",
          "2015년 11월16일",
          "2015년 11월23일",
          "2015년 11월30일",
          "2015년 12월07일",
          "2015년 12월14일",
          "2015년 12월21일"
         ],
         "y": [
          0.06,
          0.06,
          0.06,
          0.09,
          0.1,
          0.11,
          0.12,
          0.1,
          0.13,
          0.15,
          0.15,
          0.16,
          0.18,
          0.16,
          0.17,
          0.16,
          0.12,
          0.12,
          0.12,
          0.13,
          0.14,
          0.11,
          0.12,
          0.12,
          0.13,
          0.13,
          0.1,
          0.09,
          0.11,
          0.11,
          0.1,
          0.1,
          0.1,
          0.11,
          0.11,
          0.12,
          0.12,
          0.13,
          0.12,
          0.12,
          0.14,
          0.13,
          0.13,
          0.14,
          0.11,
          0.09,
          0.08,
          0.05,
          0.05,
          0.03,
          0.01
         ]
        }
       ],
       "layout": {
        "hovermode": "x unified",
        "legend": {
         "title": {
          "text": "지역"
         },
         "tracegroupgap": 0
        },
        "margin": {
         "t": 60
        },
        "template": {
         "data": {
          "bar": [
           {
            "error_x": {
             "color": "#2a3f5f"
            },
            "error_y": {
             "color": "#2a3f5f"
            },
            "marker": {
             "line": {
              "color": "#E5ECF6",
              "width": 0.5
             }
            },
            "type": "bar"
           }
          ],
          "barpolar": [
           {
            "marker": {
             "line": {
              "color": "#E5ECF6",
              "width": 0.5
             }
            },
            "type": "barpolar"
           }
          ],
          "carpet": [
           {
            "aaxis": {
             "endlinecolor": "#2a3f5f",
             "gridcolor": "white",
             "linecolor": "white",
             "minorgridcolor": "white",
             "startlinecolor": "#2a3f5f"
            },
            "baxis": {
             "endlinecolor": "#2a3f5f",
             "gridcolor": "white",
             "linecolor": "white",
             "minorgridcolor": "white",
             "startlinecolor": "#2a3f5f"
            },
            "type": "carpet"
           }
          ],
          "choropleth": [
           {
            "colorbar": {
             "outlinewidth": 0,
             "ticks": ""
            },
            "type": "choropleth"
           }
          ],
          "contour": [
           {
            "colorbar": {
             "outlinewidth": 0,
             "ticks": ""
            },
            "colorscale": [
             [
              0,
              "#0d0887"
             ],
             [
              0.1111111111111111,
              "#46039f"
             ],
             [
              0.2222222222222222,
              "#7201a8"
             ],
             [
              0.3333333333333333,
              "#9c179e"
             ],
             [
              0.4444444444444444,
              "#bd3786"
             ],
             [
              0.5555555555555556,
              "#d8576b"
             ],
             [
              0.6666666666666666,
              "#ed7953"
             ],
             [
              0.7777777777777778,
              "#fb9f3a"
             ],
             [
              0.8888888888888888,
              "#fdca26"
             ],
             [
              1,
              "#f0f921"
             ]
            ],
            "type": "contour"
           }
          ],
          "contourcarpet": [
           {
            "colorbar": {
             "outlinewidth": 0,
             "ticks": ""
            },
            "type": "contourcarpet"
           }
          ],
          "heatmap": [
           {
            "colorbar": {
             "outlinewidth": 0,
             "ticks": ""
            },
            "colorscale": [
             [
              0,
              "#0d0887"
             ],
             [
              0.1111111111111111,
              "#46039f"
             ],
             [
              0.2222222222222222,
              "#7201a8"
             ],
             [
              0.3333333333333333,
              "#9c179e"
             ],
             [
              0.4444444444444444,
              "#bd3786"
             ],
             [
              0.5555555555555556,
              "#d8576b"
             ],
             [
              0.6666666666666666,
              "#ed7953"
             ],
             [
              0.7777777777777778,
              "#fb9f3a"
             ],
             [
              0.8888888888888888,
              "#fdca26"
             ],
             [
              1,
              "#f0f921"
             ]
            ],
            "type": "heatmap"
           }
          ],
          "heatmapgl": [
           {
            "colorbar": {
             "outlinewidth": 0,
             "ticks": ""
            },
            "colorscale": [
             [
              0,
              "#0d0887"
             ],
             [
              0.1111111111111111,
              "#46039f"
             ],
             [
              0.2222222222222222,
              "#7201a8"
             ],
             [
              0.3333333333333333,
              "#9c179e"
             ],
             [
              0.4444444444444444,
              "#bd3786"
             ],
             [
              0.5555555555555556,
              "#d8576b"
             ],
             [
              0.6666666666666666,
              "#ed7953"
             ],
             [
              0.7777777777777778,
              "#fb9f3a"
             ],
             [
              0.8888888888888888,
              "#fdca26"
             ],
             [
              1,
              "#f0f921"
             ]
            ],
            "type": "heatmapgl"
           }
          ],
          "histogram": [
           {
            "marker": {
             "colorbar": {
              "outlinewidth": 0,
              "ticks": ""
             }
            },
            "type": "histogram"
           }
          ],
          "histogram2d": [
           {
            "colorbar": {
             "outlinewidth": 0,
             "ticks": ""
            },
            "colorscale": [
             [
              0,
              "#0d0887"
             ],
             [
              0.1111111111111111,
              "#46039f"
             ],
             [
              0.2222222222222222,
              "#7201a8"
             ],
             [
              0.3333333333333333,
              "#9c179e"
             ],
             [
              0.4444444444444444,
              "#bd3786"
             ],
             [
              0.5555555555555556,
              "#d8576b"
             ],
             [
              0.6666666666666666,
              "#ed7953"
             ],
             [
              0.7777777777777778,
              "#fb9f3a"
             ],
             [
              0.8888888888888888,
              "#fdca26"
             ],
             [
              1,
              "#f0f921"
             ]
            ],
            "type": "histogram2d"
           }
          ],
          "histogram2dcontour": [
           {
            "colorbar": {
             "outlinewidth": 0,
             "ticks": ""
            },
            "colorscale": [
             [
              0,
              "#0d0887"
             ],
             [
              0.1111111111111111,
              "#46039f"
             ],
             [
              0.2222222222222222,
              "#7201a8"
             ],
             [
              0.3333333333333333,
              "#9c179e"
             ],
             [
              0.4444444444444444,
              "#bd3786"
             ],
             [
              0.5555555555555556,
              "#d8576b"
             ],
             [
              0.6666666666666666,
              "#ed7953"
             ],
             [
              0.7777777777777778,
              "#fb9f3a"
             ],
             [
              0.8888888888888888,
              "#fdca26"
             ],
             [
              1,
              "#f0f921"
             ]
            ],
            "type": "histogram2dcontour"
           }
          ],
          "mesh3d": [
           {
            "colorbar": {
             "outlinewidth": 0,
             "ticks": ""
            },
            "type": "mesh3d"
           }
          ],
          "parcoords": [
           {
            "line": {
             "colorbar": {
              "outlinewidth": 0,
              "ticks": ""
             }
            },
            "type": "parcoords"
           }
          ],
          "pie": [
           {
            "automargin": true,
            "type": "pie"
           }
          ],
          "scatter": [
           {
            "marker": {
             "colorbar": {
              "outlinewidth": 0,
              "ticks": ""
             }
            },
            "type": "scatter"
           }
          ],
          "scatter3d": [
           {
            "line": {
             "colorbar": {
              "outlinewidth": 0,
              "ticks": ""
             }
            },
            "marker": {
             "colorbar": {
              "outlinewidth": 0,
              "ticks": ""
             }
            },
            "type": "scatter3d"
           }
          ],
          "scattercarpet": [
           {
            "marker": {
             "colorbar": {
              "outlinewidth": 0,
              "ticks": ""
             }
            },
            "type": "scattercarpet"
           }
          ],
          "scattergeo": [
           {
            "marker": {
             "colorbar": {
              "outlinewidth": 0,
              "ticks": ""
             }
            },
            "type": "scattergeo"
           }
          ],
          "scattergl": [
           {
            "marker": {
             "colorbar": {
              "outlinewidth": 0,
              "ticks": ""
             }
            },
            "type": "scattergl"
           }
          ],
          "scattermapbox": [
           {
            "marker": {
             "colorbar": {
              "outlinewidth": 0,
              "ticks": ""
             }
            },
            "type": "scattermapbox"
           }
          ],
          "scatterpolar": [
           {
            "marker": {
             "colorbar": {
              "outlinewidth": 0,
              "ticks": ""
             }
            },
            "type": "scatterpolar"
           }
          ],
          "scatterpolargl": [
           {
            "marker": {
             "colorbar": {
              "outlinewidth": 0,
              "ticks": ""
             }
            },
            "type": "scatterpolargl"
           }
          ],
          "scatterternary": [
           {
            "marker": {
             "colorbar": {
              "outlinewidth": 0,
              "ticks": ""
             }
            },
            "type": "scatterternary"
           }
          ],
          "surface": [
           {
            "colorbar": {
             "outlinewidth": 0,
             "ticks": ""
            },
            "colorscale": [
             [
              0,
              "#0d0887"
             ],
             [
              0.1111111111111111,
              "#46039f"
             ],
             [
              0.2222222222222222,
              "#7201a8"
             ],
             [
              0.3333333333333333,
              "#9c179e"
             ],
             [
              0.4444444444444444,
              "#bd3786"
             ],
             [
              0.5555555555555556,
              "#d8576b"
             ],
             [
              0.6666666666666666,
              "#ed7953"
             ],
             [
              0.7777777777777778,
              "#fb9f3a"
             ],
             [
              0.8888888888888888,
              "#fdca26"
             ],
             [
              1,
              "#f0f921"
             ]
            ],
            "type": "surface"
           }
          ],
          "table": [
           {
            "cells": {
             "fill": {
              "color": "#EBF0F8"
             },
             "line": {
              "color": "white"
             }
            },
            "header": {
             "fill": {
              "color": "#C8D4E3"
             },
             "line": {
              "color": "white"
             }
            },
            "type": "table"
           }
          ]
         },
         "layout": {
          "annotationdefaults": {
           "arrowcolor": "#2a3f5f",
           "arrowhead": 0,
           "arrowwidth": 1
          },
          "autotypenumbers": "strict",
          "coloraxis": {
           "colorbar": {
            "outlinewidth": 0,
            "ticks": ""
           }
          },
          "colorscale": {
           "diverging": [
            [
             0,
             "#8e0152"
            ],
            [
             0.1,
             "#c51b7d"
            ],
            [
             0.2,
             "#de77ae"
            ],
            [
             0.3,
             "#f1b6da"
            ],
            [
             0.4,
             "#fde0ef"
            ],
            [
             0.5,
             "#f7f7f7"
            ],
            [
             0.6,
             "#e6f5d0"
            ],
            [
             0.7,
             "#b8e186"
            ],
            [
             0.8,
             "#7fbc41"
            ],
            [
             0.9,
             "#4d9221"
            ],
            [
             1,
             "#276419"
            ]
           ],
           "sequential": [
            [
             0,
             "#0d0887"
            ],
            [
             0.1111111111111111,
             "#46039f"
            ],
            [
             0.2222222222222222,
             "#7201a8"
            ],
            [
             0.3333333333333333,
             "#9c179e"
            ],
            [
             0.4444444444444444,
             "#bd3786"
            ],
            [
             0.5555555555555556,
             "#d8576b"
            ],
            [
             0.6666666666666666,
             "#ed7953"
            ],
            [
             0.7777777777777778,
             "#fb9f3a"
            ],
            [
             0.8888888888888888,
             "#fdca26"
            ],
            [
             1,
             "#f0f921"
            ]
           ],
           "sequentialminus": [
            [
             0,
             "#0d0887"
            ],
            [
             0.1111111111111111,
             "#46039f"
            ],
            [
             0.2222222222222222,
             "#7201a8"
            ],
            [
             0.3333333333333333,
             "#9c179e"
            ],
            [
             0.4444444444444444,
             "#bd3786"
            ],
            [
             0.5555555555555556,
             "#d8576b"
            ],
            [
             0.6666666666666666,
             "#ed7953"
            ],
            [
             0.7777777777777778,
             "#fb9f3a"
            ],
            [
             0.8888888888888888,
             "#fdca26"
            ],
            [
             1,
             "#f0f921"
            ]
           ]
          },
          "colorway": [
           "#636efa",
           "#EF553B",
           "#00cc96",
           "#ab63fa",
           "#FFA15A",
           "#19d3f3",
           "#FF6692",
           "#B6E880",
           "#FF97FF",
           "#FECB52"
          ],
          "font": {
           "color": "#2a3f5f"
          },
          "geo": {
           "bgcolor": "white",
           "lakecolor": "white",
           "landcolor": "#E5ECF6",
           "showlakes": true,
           "showland": true,
           "subunitcolor": "white"
          },
          "hoverlabel": {
           "align": "left"
          },
          "hovermode": "closest",
          "mapbox": {
           "style": "light"
          },
          "paper_bgcolor": "white",
          "plot_bgcolor": "#E5ECF6",
          "polar": {
           "angularaxis": {
            "gridcolor": "white",
            "linecolor": "white",
            "ticks": ""
           },
           "bgcolor": "#E5ECF6",
           "radialaxis": {
            "gridcolor": "white",
            "linecolor": "white",
            "ticks": ""
           }
          },
          "scene": {
           "xaxis": {
            "backgroundcolor": "#E5ECF6",
            "gridcolor": "white",
            "gridwidth": 2,
            "linecolor": "white",
            "showbackground": true,
            "ticks": "",
            "zerolinecolor": "white"
           },
           "yaxis": {
            "backgroundcolor": "#E5ECF6",
            "gridcolor": "white",
            "gridwidth": 2,
            "linecolor": "white",
            "showbackground": true,
            "ticks": "",
            "zerolinecolor": "white"
           },
           "zaxis": {
            "backgroundcolor": "#E5ECF6",
            "gridcolor": "white",
            "gridwidth": 2,
            "linecolor": "white",
            "showbackground": true,
            "ticks": "",
            "zerolinecolor": "white"
           }
          },
          "shapedefaults": {
           "line": {
            "color": "#2a3f5f"
           }
          },
          "ternary": {
           "aaxis": {
            "gridcolor": "white",
            "linecolor": "white",
            "ticks": ""
           },
           "baxis": {
            "gridcolor": "white",
            "linecolor": "white",
            "ticks": ""
           },
           "bgcolor": "#E5ECF6",
           "caxis": {
            "gridcolor": "white",
            "linecolor": "white",
            "ticks": ""
           }
          },
          "title": {
           "x": 0.05
          },
          "xaxis": {
           "automargin": true,
           "gridcolor": "white",
           "linecolor": "white",
           "ticks": "",
           "title": {
            "standoff": 15
           },
           "zerolinecolor": "white",
           "zerolinewidth": 2
          },
          "yaxis": {
           "automargin": true,
           "gridcolor": "white",
           "linecolor": "white",
           "ticks": "",
           "title": {
            "standoff": 15
           },
           "zerolinecolor": "white",
           "zerolinewidth": 2
          }
         }
        },
        "title": {
         "text": "아파트 매매 지역 월별 상승률",
         "x": 0.5
        },
        "xaxis": {
         "anchor": "y",
         "domain": [
          0,
          1
         ],
         "title": {
          "text": "월별"
         }
        },
        "yaxis": {
         "anchor": "x",
         "domain": [
          0,
          1
         ],
         "title": {
          "text": "상승률"
         }
        }
       }
      },
      "text/html": [
       "<div>                            <div id=\"8a48da48-0300-4356-8d60-8d1c6f8d4529\" class=\"plotly-graph-div\" style=\"height:525px; width:100%;\"></div>            <script type=\"text/javascript\">                require([\"plotly\"], function(Plotly) {                    window.PLOTLYENV=window.PLOTLYENV || {};                                    if (document.getElementById(\"8a48da48-0300-4356-8d60-8d1c6f8d4529\")) {                    Plotly.newPlot(                        \"8a48da48-0300-4356-8d60-8d1c6f8d4529\",                        [{\"hovertemplate\": \"variable=\\uc138\\uc885<br>index=%{x}<br>value=%{y}<extra></extra>\", \"legendgroup\": \"\\uc138\\uc885\", \"line\": {\"color\": \"#636efa\", \"dash\": \"solid\"}, \"mode\": \"lines\", \"name\": \"\\uc138\\uc885\", \"orientation\": \"v\", \"showlegend\": true, \"type\": \"scatter\", \"x\": [\"2015\\ub144 01\\uc6d405\\uc77c\", \"2015\\ub144 01\\uc6d412\\uc77c\", \"2015\\ub144 01\\uc6d419\\uc77c\", \"2015\\ub144 01\\uc6d426\\uc77c\", \"2015\\ub144 02\\uc6d402\\uc77c\", \"2015\\ub144 02\\uc6d409\\uc77c\", \"2015\\ub144 02\\uc6d416\\uc77c\", \"2015\\ub144 02\\uc6d423\\uc77c\", \"2015\\ub144 03\\uc6d402\\uc77c\", \"2015\\ub144 03\\uc6d409\\uc77c\", \"2015\\ub144 03\\uc6d416\\uc77c\", \"2015\\ub144 03\\uc6d423\\uc77c\", \"2015\\ub144 03\\uc6d430\\uc77c\", \"2015\\ub144 04\\uc6d406\\uc77c\", \"2015\\ub144 04\\uc6d413\\uc77c\", \"2015\\ub144 04\\uc6d420\\uc77c\", \"2015\\ub144 04\\uc6d427\\uc77c\", \"2015\\ub144 05\\uc6d404\\uc77c\", \"2015\\ub144 05\\uc6d411\\uc77c\", \"2015\\ub144 05\\uc6d418\\uc77c\", \"2015\\ub144 05\\uc6d425\\uc77c\", \"2015\\ub144 06\\uc6d401\\uc77c\", \"2015\\ub144 06\\uc6d408\\uc77c\", \"2015\\ub144 06\\uc6d415\\uc77c\", \"2015\\ub144 06\\uc6d422\\uc77c\", \"2015\\ub144 06\\uc6d429\\uc77c\", \"2015\\ub144 07\\uc6d406\\uc77c\", \"2015\\ub144 07\\uc6d413\\uc77c\", \"2015\\ub144 07\\uc6d420\\uc77c\", \"2015\\ub144 07\\uc6d427\\uc77c\", \"2015\\ub144 08\\uc6d403\\uc77c\", \"2015\\ub144 08\\uc6d410\\uc77c\", \"2015\\ub144 08\\uc6d417\\uc77c\", \"2015\\ub144 08\\uc6d424\\uc77c\", \"2015\\ub144 08\\uc6d431\\uc77c\", \"2015\\ub144 09\\uc6d407\\uc77c\", \"2015\\ub144 09\\uc6d414\\uc77c\", \"2015\\ub144 09\\uc6d421\\uc77c\", \"2015\\ub144 09\\uc6d428\\uc77c\", \"2015\\ub144 10\\uc6d405\\uc77c\", \"2015\\ub144 10\\uc6d412\\uc77c\", \"2015\\ub144 10\\uc6d419\\uc77c\", \"2015\\ub144 10\\uc6d426\\uc77c\", \"2015\\ub144 11\\uc6d402\\uc77c\", \"2015\\ub144 11\\uc6d409\\uc77c\", \"2015\\ub144 11\\uc6d416\\uc77c\", \"2015\\ub144 11\\uc6d423\\uc77c\", \"2015\\ub144 11\\uc6d430\\uc77c\", \"2015\\ub144 12\\uc6d407\\uc77c\", \"2015\\ub144 12\\uc6d414\\uc77c\", \"2015\\ub144 12\\uc6d421\\uc77c\"], \"xaxis\": \"x\", \"y\": [-0.02, -0.03, -0.02, -0.13, 0.0, 0.01, 0.0, -0.04, -0.02, 0.0, 0.0, 0.0, -0.05, -0.02, -0.06, 0.0, 0.02, -0.06, -0.03, 0.0, -0.1, -0.03, -0.1, -0.03, -0.02, -0.02, 0.04, 0.03, 0.01, -0.04, 0.01, -0.02, -0.01, -0.02, -0.01, 0.01, -0.04, -0.01, -0.01, 0.01, 0.02, 0.0, -0.02, 0.02, -0.03, -0.02, 0.03, -0.03, -0.05, -0.04, -0.04], \"yaxis\": \"y\"}, {\"name\": \"\\uc804\\uad6d\", \"type\": \"bar\", \"x\": [\"2015\\ub144 01\\uc6d405\\uc77c\", \"2015\\ub144 01\\uc6d412\\uc77c\", \"2015\\ub144 01\\uc6d419\\uc77c\", \"2015\\ub144 01\\uc6d426\\uc77c\", \"2015\\ub144 02\\uc6d402\\uc77c\", \"2015\\ub144 02\\uc6d409\\uc77c\", \"2015\\ub144 02\\uc6d416\\uc77c\", \"2015\\ub144 02\\uc6d423\\uc77c\", \"2015\\ub144 03\\uc6d402\\uc77c\", \"2015\\ub144 03\\uc6d409\\uc77c\", \"2015\\ub144 03\\uc6d416\\uc77c\", \"2015\\ub144 03\\uc6d423\\uc77c\", \"2015\\ub144 03\\uc6d430\\uc77c\", \"2015\\ub144 04\\uc6d406\\uc77c\", \"2015\\ub144 04\\uc6d413\\uc77c\", \"2015\\ub144 04\\uc6d420\\uc77c\", \"2015\\ub144 04\\uc6d427\\uc77c\", \"2015\\ub144 05\\uc6d404\\uc77c\", \"2015\\ub144 05\\uc6d411\\uc77c\", \"2015\\ub144 05\\uc6d418\\uc77c\", \"2015\\ub144 05\\uc6d425\\uc77c\", \"2015\\ub144 06\\uc6d401\\uc77c\", \"2015\\ub144 06\\uc6d408\\uc77c\", \"2015\\ub144 06\\uc6d415\\uc77c\", \"2015\\ub144 06\\uc6d422\\uc77c\", \"2015\\ub144 06\\uc6d429\\uc77c\", \"2015\\ub144 07\\uc6d406\\uc77c\", \"2015\\ub144 07\\uc6d413\\uc77c\", \"2015\\ub144 07\\uc6d420\\uc77c\", \"2015\\ub144 07\\uc6d427\\uc77c\", \"2015\\ub144 08\\uc6d403\\uc77c\", \"2015\\ub144 08\\uc6d410\\uc77c\", \"2015\\ub144 08\\uc6d417\\uc77c\", \"2015\\ub144 08\\uc6d424\\uc77c\", \"2015\\ub144 08\\uc6d431\\uc77c\", \"2015\\ub144 09\\uc6d407\\uc77c\", \"2015\\ub144 09\\uc6d414\\uc77c\", \"2015\\ub144 09\\uc6d421\\uc77c\", \"2015\\ub144 09\\uc6d428\\uc77c\", \"2015\\ub144 10\\uc6d405\\uc77c\", \"2015\\ub144 10\\uc6d412\\uc77c\", \"2015\\ub144 10\\uc6d419\\uc77c\", \"2015\\ub144 10\\uc6d426\\uc77c\", \"2015\\ub144 11\\uc6d402\\uc77c\", \"2015\\ub144 11\\uc6d409\\uc77c\", \"2015\\ub144 11\\uc6d416\\uc77c\", \"2015\\ub144 11\\uc6d423\\uc77c\", \"2015\\ub144 11\\uc6d430\\uc77c\", \"2015\\ub144 12\\uc6d407\\uc77c\", \"2015\\ub144 12\\uc6d414\\uc77c\", \"2015\\ub144 12\\uc6d421\\uc77c\"], \"y\": [0.06, 0.06, 0.06, 0.09, 0.1, 0.11, 0.12, 0.1, 0.13, 0.15, 0.15, 0.16, 0.18, 0.16, 0.17, 0.16, 0.12, 0.12, 0.12, 0.13, 0.14, 0.11, 0.12, 0.12, 0.13, 0.13, 0.1, 0.09, 0.11, 0.11, 0.1, 0.1, 0.1, 0.11, 0.11, 0.12, 0.12, 0.13, 0.12, 0.12, 0.14, 0.13, 0.13, 0.14, 0.11, 0.09, 0.08, 0.05, 0.05, 0.03, 0.01]}],                        {\"hovermode\": \"x unified\", \"legend\": {\"title\": {\"text\": \"\\uc9c0\\uc5ed\"}, \"tracegroupgap\": 0}, \"margin\": {\"t\": 60}, \"template\": {\"data\": {\"bar\": [{\"error_x\": {\"color\": \"#2a3f5f\"}, \"error_y\": {\"color\": \"#2a3f5f\"}, \"marker\": {\"line\": {\"color\": \"#E5ECF6\", \"width\": 0.5}}, \"type\": \"bar\"}], \"barpolar\": [{\"marker\": {\"line\": {\"color\": \"#E5ECF6\", \"width\": 0.5}}, \"type\": \"barpolar\"}], \"carpet\": [{\"aaxis\": {\"endlinecolor\": \"#2a3f5f\", \"gridcolor\": \"white\", \"linecolor\": \"white\", \"minorgridcolor\": \"white\", \"startlinecolor\": \"#2a3f5f\"}, \"baxis\": {\"endlinecolor\": \"#2a3f5f\", \"gridcolor\": \"white\", \"linecolor\": \"white\", \"minorgridcolor\": \"white\", \"startlinecolor\": \"#2a3f5f\"}, \"type\": \"carpet\"}], \"choropleth\": [{\"colorbar\": {\"outlinewidth\": 0, \"ticks\": \"\"}, \"type\": \"choropleth\"}], \"contour\": [{\"colorbar\": {\"outlinewidth\": 0, \"ticks\": \"\"}, \"colorscale\": [[0.0, \"#0d0887\"], [0.1111111111111111, \"#46039f\"], [0.2222222222222222, \"#7201a8\"], [0.3333333333333333, \"#9c179e\"], [0.4444444444444444, \"#bd3786\"], [0.5555555555555556, \"#d8576b\"], [0.6666666666666666, \"#ed7953\"], [0.7777777777777778, \"#fb9f3a\"], [0.8888888888888888, \"#fdca26\"], [1.0, \"#f0f921\"]], \"type\": \"contour\"}], \"contourcarpet\": [{\"colorbar\": {\"outlinewidth\": 0, \"ticks\": \"\"}, \"type\": \"contourcarpet\"}], \"heatmap\": [{\"colorbar\": {\"outlinewidth\": 0, \"ticks\": \"\"}, \"colorscale\": [[0.0, \"#0d0887\"], [0.1111111111111111, \"#46039f\"], [0.2222222222222222, \"#7201a8\"], [0.3333333333333333, \"#9c179e\"], [0.4444444444444444, \"#bd3786\"], [0.5555555555555556, \"#d8576b\"], [0.6666666666666666, \"#ed7953\"], [0.7777777777777778, \"#fb9f3a\"], [0.8888888888888888, \"#fdca26\"], [1.0, \"#f0f921\"]], \"type\": \"heatmap\"}], \"heatmapgl\": [{\"colorbar\": {\"outlinewidth\": 0, \"ticks\": \"\"}, \"colorscale\": [[0.0, \"#0d0887\"], [0.1111111111111111, \"#46039f\"], [0.2222222222222222, \"#7201a8\"], [0.3333333333333333, \"#9c179e\"], [0.4444444444444444, \"#bd3786\"], [0.5555555555555556, \"#d8576b\"], [0.6666666666666666, \"#ed7953\"], [0.7777777777777778, \"#fb9f3a\"], [0.8888888888888888, \"#fdca26\"], [1.0, \"#f0f921\"]], \"type\": \"heatmapgl\"}], \"histogram\": [{\"marker\": {\"colorbar\": {\"outlinewidth\": 0, \"ticks\": \"\"}}, \"type\": \"histogram\"}], \"histogram2d\": [{\"colorbar\": {\"outlinewidth\": 0, \"ticks\": \"\"}, \"colorscale\": [[0.0, \"#0d0887\"], [0.1111111111111111, \"#46039f\"], [0.2222222222222222, \"#7201a8\"], [0.3333333333333333, \"#9c179e\"], [0.4444444444444444, \"#bd3786\"], [0.5555555555555556, \"#d8576b\"], [0.6666666666666666, \"#ed7953\"], [0.7777777777777778, \"#fb9f3a\"], [0.8888888888888888, \"#fdca26\"], [1.0, \"#f0f921\"]], \"type\": \"histogram2d\"}], \"histogram2dcontour\": [{\"colorbar\": {\"outlinewidth\": 0, \"ticks\": \"\"}, \"colorscale\": [[0.0, \"#0d0887\"], [0.1111111111111111, \"#46039f\"], [0.2222222222222222, \"#7201a8\"], [0.3333333333333333, \"#9c179e\"], [0.4444444444444444, \"#bd3786\"], [0.5555555555555556, \"#d8576b\"], [0.6666666666666666, \"#ed7953\"], [0.7777777777777778, \"#fb9f3a\"], [0.8888888888888888, \"#fdca26\"], [1.0, \"#f0f921\"]], \"type\": \"histogram2dcontour\"}], \"mesh3d\": [{\"colorbar\": {\"outlinewidth\": 0, \"ticks\": \"\"}, \"type\": \"mesh3d\"}], \"parcoords\": [{\"line\": {\"colorbar\": {\"outlinewidth\": 0, \"ticks\": \"\"}}, \"type\": \"parcoords\"}], \"pie\": [{\"automargin\": true, \"type\": \"pie\"}], \"scatter\": [{\"marker\": {\"colorbar\": {\"outlinewidth\": 0, \"ticks\": \"\"}}, \"type\": \"scatter\"}], \"scatter3d\": [{\"line\": {\"colorbar\": {\"outlinewidth\": 0, \"ticks\": \"\"}}, \"marker\": {\"colorbar\": {\"outlinewidth\": 0, \"ticks\": \"\"}}, \"type\": \"scatter3d\"}], \"scattercarpet\": [{\"marker\": {\"colorbar\": {\"outlinewidth\": 0, \"ticks\": \"\"}}, \"type\": \"scattercarpet\"}], \"scattergeo\": [{\"marker\": {\"colorbar\": {\"outlinewidth\": 0, \"ticks\": \"\"}}, \"type\": \"scattergeo\"}], \"scattergl\": [{\"marker\": {\"colorbar\": {\"outlinewidth\": 0, \"ticks\": \"\"}}, \"type\": \"scattergl\"}], \"scattermapbox\": [{\"marker\": {\"colorbar\": {\"outlinewidth\": 0, \"ticks\": \"\"}}, \"type\": \"scattermapbox\"}], \"scatterpolar\": [{\"marker\": {\"colorbar\": {\"outlinewidth\": 0, \"ticks\": \"\"}}, \"type\": \"scatterpolar\"}], \"scatterpolargl\": [{\"marker\": {\"colorbar\": {\"outlinewidth\": 0, \"ticks\": \"\"}}, \"type\": \"scatterpolargl\"}], \"scatterternary\": [{\"marker\": {\"colorbar\": {\"outlinewidth\": 0, \"ticks\": \"\"}}, \"type\": \"scatterternary\"}], \"surface\": [{\"colorbar\": {\"outlinewidth\": 0, \"ticks\": \"\"}, \"colorscale\": [[0.0, \"#0d0887\"], [0.1111111111111111, \"#46039f\"], [0.2222222222222222, \"#7201a8\"], [0.3333333333333333, \"#9c179e\"], [0.4444444444444444, \"#bd3786\"], [0.5555555555555556, \"#d8576b\"], [0.6666666666666666, \"#ed7953\"], [0.7777777777777778, \"#fb9f3a\"], [0.8888888888888888, \"#fdca26\"], [1.0, \"#f0f921\"]], \"type\": \"surface\"}], \"table\": [{\"cells\": {\"fill\": {\"color\": \"#EBF0F8\"}, \"line\": {\"color\": \"white\"}}, \"header\": {\"fill\": {\"color\": \"#C8D4E3\"}, \"line\": {\"color\": \"white\"}}, \"type\": \"table\"}]}, \"layout\": {\"annotationdefaults\": {\"arrowcolor\": \"#2a3f5f\", \"arrowhead\": 0, \"arrowwidth\": 1}, \"autotypenumbers\": \"strict\", \"coloraxis\": {\"colorbar\": {\"outlinewidth\": 0, \"ticks\": \"\"}}, \"colorscale\": {\"diverging\": [[0, \"#8e0152\"], [0.1, \"#c51b7d\"], [0.2, \"#de77ae\"], [0.3, \"#f1b6da\"], [0.4, \"#fde0ef\"], [0.5, \"#f7f7f7\"], [0.6, \"#e6f5d0\"], [0.7, \"#b8e186\"], [0.8, \"#7fbc41\"], [0.9, \"#4d9221\"], [1, \"#276419\"]], \"sequential\": [[0.0, \"#0d0887\"], [0.1111111111111111, \"#46039f\"], [0.2222222222222222, \"#7201a8\"], [0.3333333333333333, \"#9c179e\"], [0.4444444444444444, \"#bd3786\"], [0.5555555555555556, \"#d8576b\"], [0.6666666666666666, \"#ed7953\"], [0.7777777777777778, \"#fb9f3a\"], [0.8888888888888888, \"#fdca26\"], [1.0, \"#f0f921\"]], \"sequentialminus\": [[0.0, \"#0d0887\"], [0.1111111111111111, \"#46039f\"], [0.2222222222222222, \"#7201a8\"], [0.3333333333333333, \"#9c179e\"], [0.4444444444444444, \"#bd3786\"], [0.5555555555555556, \"#d8576b\"], [0.6666666666666666, \"#ed7953\"], [0.7777777777777778, \"#fb9f3a\"], [0.8888888888888888, \"#fdca26\"], [1.0, \"#f0f921\"]]}, \"colorway\": [\"#636efa\", \"#EF553B\", \"#00cc96\", \"#ab63fa\", \"#FFA15A\", \"#19d3f3\", \"#FF6692\", \"#B6E880\", \"#FF97FF\", \"#FECB52\"], \"font\": {\"color\": \"#2a3f5f\"}, \"geo\": {\"bgcolor\": \"white\", \"lakecolor\": \"white\", \"landcolor\": \"#E5ECF6\", \"showlakes\": true, \"showland\": true, \"subunitcolor\": \"white\"}, \"hoverlabel\": {\"align\": \"left\"}, \"hovermode\": \"closest\", \"mapbox\": {\"style\": \"light\"}, \"paper_bgcolor\": \"white\", \"plot_bgcolor\": \"#E5ECF6\", \"polar\": {\"angularaxis\": {\"gridcolor\": \"white\", \"linecolor\": \"white\", \"ticks\": \"\"}, \"bgcolor\": \"#E5ECF6\", \"radialaxis\": {\"gridcolor\": \"white\", \"linecolor\": \"white\", \"ticks\": \"\"}}, \"scene\": {\"xaxis\": {\"backgroundcolor\": \"#E5ECF6\", \"gridcolor\": \"white\", \"gridwidth\": 2, \"linecolor\": \"white\", \"showbackground\": true, \"ticks\": \"\", \"zerolinecolor\": \"white\"}, \"yaxis\": {\"backgroundcolor\": \"#E5ECF6\", \"gridcolor\": \"white\", \"gridwidth\": 2, \"linecolor\": \"white\", \"showbackground\": true, \"ticks\": \"\", \"zerolinecolor\": \"white\"}, \"zaxis\": {\"backgroundcolor\": \"#E5ECF6\", \"gridcolor\": \"white\", \"gridwidth\": 2, \"linecolor\": \"white\", \"showbackground\": true, \"ticks\": \"\", \"zerolinecolor\": \"white\"}}, \"shapedefaults\": {\"line\": {\"color\": \"#2a3f5f\"}}, \"ternary\": {\"aaxis\": {\"gridcolor\": \"white\", \"linecolor\": \"white\", \"ticks\": \"\"}, \"baxis\": {\"gridcolor\": \"white\", \"linecolor\": \"white\", \"ticks\": \"\"}, \"bgcolor\": \"#E5ECF6\", \"caxis\": {\"gridcolor\": \"white\", \"linecolor\": \"white\", \"ticks\": \"\"}}, \"title\": {\"x\": 0.05}, \"xaxis\": {\"automargin\": true, \"gridcolor\": \"white\", \"linecolor\": \"white\", \"ticks\": \"\", \"title\": {\"standoff\": 15}, \"zerolinecolor\": \"white\", \"zerolinewidth\": 2}, \"yaxis\": {\"automargin\": true, \"gridcolor\": \"white\", \"linecolor\": \"white\", \"ticks\": \"\", \"title\": {\"standoff\": 15}, \"zerolinecolor\": \"white\", \"zerolinewidth\": 2}}}, \"title\": {\"text\": \"\\uc544\\ud30c\\ud2b8 \\ub9e4\\ub9e4 \\uc9c0\\uc5ed \\uc6d4\\ubcc4 \\uc0c1\\uc2b9\\ub960\", \"x\": 0.5}, \"xaxis\": {\"anchor\": \"y\", \"domain\": [0.0, 1.0], \"title\": {\"text\": \"\\uc6d4\\ubcc4\"}}, \"yaxis\": {\"anchor\": \"x\", \"domain\": [0.0, 1.0], \"title\": {\"text\": \"\\uc0c1\\uc2b9\\ub960\"}}},                        {\"responsive\": true}                    ).then(function(){\n",
       "                            \n",
       "var gd = document.getElementById('8a48da48-0300-4356-8d60-8d1c6f8d4529');\n",
       "var x = new MutationObserver(function (mutations, observer) {{\n",
       "        var display = window.getComputedStyle(gd).display;\n",
       "        if (!display || display === 'none') {{\n",
       "            console.log([gd, 'removed!']);\n",
       "            Plotly.purge(gd);\n",
       "            observer.disconnect();\n",
       "        }}\n",
       "}});\n",
       "\n",
       "// Listen for the removal of the full notebook cells\n",
       "var notebookContainer = gd.closest('#notebook-container');\n",
       "if (notebookContainer) {{\n",
       "    x.observe(notebookContainer, {childList: true});\n",
       "}}\n",
       "\n",
       "// Listen for the clearing of the current output cell\n",
       "var outputEl = gd.closest('.output');\n",
       "if (outputEl) {{\n",
       "    x.observe(outputEl, {childList: true});\n",
       "}}\n",
       "\n",
       "                        })                };                });            </script>        </div>"
      ]
     },
     "metadata": {},
     "output_type": "display_data"
    }
   ],
   "source": [
    "fig1 = px.line(apart)\n",
    "fig1.add_bar(x=apart2.index,y=apart2.values,name=\"전국\")\n",
    "fig1.update_layout(\n",
    "        title = '아파트 매매 지역 월별 상승률',\n",
    "        xaxis_title = '월별', \n",
    "        yaxis_title = '상승률',\n",
    "        title_x=0.5,\n",
    "        hovermode=\"x unified\",\n",
    "        legend_title='지역')\n",
    "fig1.update_traces(mode=\"lines\", hovertemplate=None)"
   ]
  },
  {
   "cell_type": "code",
   "execution_count": 47,
   "metadata": {},
   "outputs": [
    {
     "data": {
      "text/plain": [
       "['__class__',\n",
       " '__contains__',\n",
       " '__delattr__',\n",
       " '__dict__',\n",
       " '__dir__',\n",
       " '__doc__',\n",
       " '__eq__',\n",
       " '__format__',\n",
       " '__ge__',\n",
       " '__getattribute__',\n",
       " '__getitem__',\n",
       " '__gt__',\n",
       " '__hash__',\n",
       " '__init__',\n",
       " '__init_subclass__',\n",
       " '__iter__',\n",
       " '__le__',\n",
       " '__lt__',\n",
       " '__module__',\n",
       " '__ne__',\n",
       " '__new__',\n",
       " '__reduce__',\n",
       " '__reduce_ex__',\n",
       " '__repr__',\n",
       " '__setattr__',\n",
       " '__setitem__',\n",
       " '__sizeof__',\n",
       " '__str__',\n",
       " '__subclasshook__',\n",
       " '__weakref__',\n",
       " '_build_repr_for_class',\n",
       " '_dispatch_change_callbacks',\n",
       " '_dispatch_on_click',\n",
       " '_dispatch_on_deselect',\n",
       " '_dispatch_on_hover',\n",
       " '_dispatch_on_selection',\n",
       " '_dispatch_on_unhover',\n",
       " '_get_child_prop_defaults',\n",
       " '_get_child_props',\n",
       " '_get_prop_validator',\n",
       " '_get_validator',\n",
       " '_in_batch_mode',\n",
       " '_init_child_props',\n",
       " '_init_props',\n",
       " '_mapped_properties',\n",
       " '_parent_path_str',\n",
       " '_path_str',\n",
       " '_process_kwargs',\n",
       " '_prop_defaults',\n",
       " '_prop_descriptions',\n",
       " '_prop_set_child',\n",
       " '_props',\n",
       " '_raise_on_invalid_property_error',\n",
       " '_relayout_child',\n",
       " '_restyle_child',\n",
       " '_send_prop_set',\n",
       " '_set_array_prop',\n",
       " '_set_compound_prop',\n",
       " '_set_prop',\n",
       " '_valid_props',\n",
       " '_validators',\n",
       " '_vals_equal',\n",
       " 'alignmentgroup',\n",
       " 'base',\n",
       " 'basesrc',\n",
       " 'cliponaxis',\n",
       " 'constraintext',\n",
       " 'customdata',\n",
       " 'customdatasrc',\n",
       " 'dx',\n",
       " 'dy',\n",
       " 'error_x',\n",
       " 'error_y',\n",
       " 'figure',\n",
       " 'hoverinfo',\n",
       " 'hoverinfosrc',\n",
       " 'hoverlabel',\n",
       " 'hovertemplate',\n",
       " 'hovertemplatesrc',\n",
       " 'hovertext',\n",
       " 'hovertextsrc',\n",
       " 'ids',\n",
       " 'idssrc',\n",
       " 'insidetextanchor',\n",
       " 'insidetextfont',\n",
       " 'legendgroup',\n",
       " 'marker',\n",
       " 'meta',\n",
       " 'metasrc',\n",
       " 'name',\n",
       " 'offset',\n",
       " 'offsetgroup',\n",
       " 'offsetsrc',\n",
       " 'on_change',\n",
       " 'on_click',\n",
       " 'on_deselect',\n",
       " 'on_hover',\n",
       " 'on_selection',\n",
       " 'on_unhover',\n",
       " 'opacity',\n",
       " 'orientation',\n",
       " 'outsidetextfont',\n",
       " 'parent',\n",
       " 'plotly_name',\n",
       " 'pop',\n",
       " 'r',\n",
       " 'rsrc',\n",
       " 'selected',\n",
       " 'selectedpoints',\n",
       " 'showlegend',\n",
       " 'stream',\n",
       " 't',\n",
       " 'text',\n",
       " 'textangle',\n",
       " 'textfont',\n",
       " 'textposition',\n",
       " 'textpositionsrc',\n",
       " 'textsrc',\n",
       " 'texttemplate',\n",
       " 'texttemplatesrc',\n",
       " 'to_plotly_json',\n",
       " 'tsrc',\n",
       " 'type',\n",
       " 'uid',\n",
       " 'uirevision',\n",
       " 'unselected',\n",
       " 'update',\n",
       " 'visible',\n",
       " 'width',\n",
       " 'widthsrc',\n",
       " 'x',\n",
       " 'x0',\n",
       " 'xaxis',\n",
       " 'xcalendar',\n",
       " 'xperiod',\n",
       " 'xperiod0',\n",
       " 'xperiodalignment',\n",
       " 'xsrc',\n",
       " 'y',\n",
       " 'y0',\n",
       " 'yaxis',\n",
       " 'ycalendar',\n",
       " 'yperiod',\n",
       " 'yperiod0',\n",
       " 'yperiodalignment',\n",
       " 'ysrc']"
      ]
     },
     "execution_count": 47,
     "metadata": {},
     "output_type": "execute_result"
    }
   ],
   "source": [
    "dir(go.Bar)"
   ]
  },
  {
   "cell_type": "code",
   "execution_count": 54,
   "metadata": {},
   "outputs": [
    {
     "data": {
      "text/plain": [
       "array([ 0,  1,  2,  3,  4,  5,  6,  7,  8,  9, 10, 11, 12, 13, 14, 15, 16,\n",
       "       17, 18, 19, 20, 21, 22, 23, 24, 25, 26, 27, 28, 29, 30, 31, 32, 33,\n",
       "       34, 35, 36, 37, 38, 39, 40, 41, 42, 43, 44, 45, 46, 47, 48, 49, 50])"
      ]
     },
     "execution_count": 54,
     "metadata": {},
     "output_type": "execute_result"
    }
   ],
   "source": [
    "np.arange(apart.values.size)"
   ]
  },
  {
   "cell_type": "code",
   "execution_count": 59,
   "metadata": {},
   "outputs": [
    {
     "data": {
      "text/plain": [
       "-0.13"
      ]
     },
     "execution_count": 59,
     "metadata": {},
     "output_type": "execute_result"
    }
   ],
   "source": [
    "apart.values.min()"
   ]
  },
  {
   "cell_type": "code",
   "execution_count": 116,
   "metadata": {
    "scrolled": true
   },
   "outputs": [
    {
     "data": {
      "text/plain": [
       "array([False, False, False, False, False, False, False, False, False,\n",
       "       False, False, False, False, False, False, False, False, False,\n",
       "       False, False, False, False, False, False, False, False,  True,\n",
       "       False, False, False, False, False, False, False, False, False,\n",
       "       False, False, False, False, False, False, False, False, False,\n",
       "       False, False, False, False, False, False])"
      ]
     },
     "execution_count": 116,
     "metadata": {},
     "output_type": "execute_result"
    }
   ],
   "source": [
    "apart.values==apart.values.max()"
   ]
  },
  {
   "cell_type": "code",
   "execution_count": 120,
   "metadata": {},
   "outputs": [],
   "source": [
    "test=apart_f.iloc[1:52,:].loc[:,['세종']]"
   ]
  },
  {
   "cell_type": "code",
   "execution_count": 135,
   "metadata": {},
   "outputs": [],
   "source": [
    "test2 = test.reset_index()"
   ]
  },
  {
   "cell_type": "code",
   "execution_count": 146,
   "metadata": {},
   "outputs": [
    {
     "data": {
      "text/plain": [
       "array([26], dtype=int64)"
      ]
     },
     "execution_count": 146,
     "metadata": {},
     "output_type": "execute_result"
    }
   ],
   "source": [
    "test2.drop(columns='index',inplace=True)"
   ]
  },
  {
   "cell_type": "code",
   "execution_count": 145,
   "metadata": {},
   "outputs": [
    {
     "data": {
      "text/plain": [
       "array([26], dtype=int64)"
      ]
     },
     "execution_count": 145,
     "metadata": {},
     "output_type": "execute_result"
    }
   ],
   "source": [
    "d=test2.loc[test2.values==test2.values.max()].index.values\n",
    "d"
   ]
  },
  {
   "cell_type": "code",
   "execution_count": 158,
   "metadata": {},
   "outputs": [
    {
     "data": {
      "text/plain": [
       "[0,\n",
       " 0,\n",
       " 0,\n",
       " 2,\n",
       " 0,\n",
       " 1,\n",
       " 0,\n",
       " 0,\n",
       " 0,\n",
       " 0,\n",
       " 0,\n",
       " 0,\n",
       " 0,\n",
       " 0,\n",
       " 0,\n",
       " 0,\n",
       " 1,\n",
       " 0,\n",
       " 0,\n",
       " 0,\n",
       " 0,\n",
       " 0,\n",
       " 0,\n",
       " 0,\n",
       " 0,\n",
       " 0,\n",
       " 1,\n",
       " 1,\n",
       " 1,\n",
       " 0,\n",
       " 1,\n",
       " 0,\n",
       " 0,\n",
       " 0,\n",
       " 0,\n",
       " 1,\n",
       " 0,\n",
       " 0,\n",
       " 0,\n",
       " 1,\n",
       " 1,\n",
       " 0,\n",
       " 0,\n",
       " 1,\n",
       " 0,\n",
       " 0,\n",
       " 1,\n",
       " 0,\n",
       " 0,\n",
       " 0,\n",
       " 0]"
      ]
     },
     "execution_count": 158,
     "metadata": {},
     "output_type": "execute_result"
    }
   ],
   "source": [
    "n = [1 if i>0 else 2 if i==apart.values.min() else 0 for i in apart]\n",
    "n"
   ]
  },
  {
   "cell_type": "code",
   "execution_count": 159,
   "metadata": {
    "scrolled": false
   },
   "outputs": [
    {
     "data": {
      "application/vnd.plotly.v1+json": {
       "config": {
        "plotlyServerURL": "https://plot.ly"
       },
       "data": [
        {
         "name": "전국",
         "type": "scatter",
         "x": [
          "2015년 01월05일",
          "2015년 01월12일",
          "2015년 01월19일",
          "2015년 01월26일",
          "2015년 02월02일",
          "2015년 02월09일",
          "2015년 02월16일",
          "2015년 02월23일",
          "2015년 03월02일",
          "2015년 03월09일",
          "2015년 03월16일",
          "2015년 03월23일",
          "2015년 03월30일",
          "2015년 04월06일",
          "2015년 04월13일",
          "2015년 04월20일",
          "2015년 04월27일",
          "2015년 05월04일",
          "2015년 05월11일",
          "2015년 05월18일",
          "2015년 05월25일",
          "2015년 06월01일",
          "2015년 06월08일",
          "2015년 06월15일",
          "2015년 06월22일",
          "2015년 06월29일",
          "2015년 07월06일",
          "2015년 07월13일",
          "2015년 07월20일",
          "2015년 07월27일",
          "2015년 08월03일",
          "2015년 08월10일",
          "2015년 08월17일",
          "2015년 08월24일",
          "2015년 08월31일",
          "2015년 09월07일",
          "2015년 09월14일",
          "2015년 09월21일",
          "2015년 09월28일",
          "2015년 10월05일",
          "2015년 10월12일",
          "2015년 10월19일",
          "2015년 10월26일",
          "2015년 11월02일",
          "2015년 11월09일",
          "2015년 11월16일",
          "2015년 11월23일",
          "2015년 11월30일",
          "2015년 12월07일",
          "2015년 12월14일",
          "2015년 12월21일"
         ],
         "y": [
          0.06,
          0.06,
          0.06,
          0.09,
          0.1,
          0.11,
          0.12,
          0.1,
          0.13,
          0.15,
          0.15,
          0.16,
          0.18,
          0.16,
          0.17,
          0.16,
          0.12,
          0.12,
          0.12,
          0.13,
          0.14,
          0.11,
          0.12,
          0.12,
          0.13,
          0.13,
          0.1,
          0.09,
          0.11,
          0.11,
          0.1,
          0.1,
          0.1,
          0.11,
          0.11,
          0.12,
          0.12,
          0.13,
          0.12,
          0.12,
          0.14,
          0.13,
          0.13,
          0.14,
          0.11,
          0.09,
          0.08,
          0.05,
          0.05,
          0.03,
          0.01
         ]
        },
        {
         "marker": {
          "color": [
           0,
           0,
           0,
           2,
           0,
           1,
           0,
           0,
           0,
           0,
           0,
           0,
           0,
           0,
           0,
           0,
           1,
           0,
           0,
           0,
           0,
           0,
           0,
           0,
           0,
           0,
           1,
           1,
           1,
           0,
           1,
           0,
           0,
           0,
           0,
           1,
           0,
           0,
           0,
           1,
           1,
           0,
           0,
           1,
           0,
           0,
           1,
           0,
           0,
           0,
           0
          ]
         },
         "name": "세종",
         "type": "bar",
         "x": [
          "2015년 01월05일",
          "2015년 01월12일",
          "2015년 01월19일",
          "2015년 01월26일",
          "2015년 02월02일",
          "2015년 02월09일",
          "2015년 02월16일",
          "2015년 02월23일",
          "2015년 03월02일",
          "2015년 03월09일",
          "2015년 03월16일",
          "2015년 03월23일",
          "2015년 03월30일",
          "2015년 04월06일",
          "2015년 04월13일",
          "2015년 04월20일",
          "2015년 04월27일",
          "2015년 05월04일",
          "2015년 05월11일",
          "2015년 05월18일",
          "2015년 05월25일",
          "2015년 06월01일",
          "2015년 06월08일",
          "2015년 06월15일",
          "2015년 06월22일",
          "2015년 06월29일",
          "2015년 07월06일",
          "2015년 07월13일",
          "2015년 07월20일",
          "2015년 07월27일",
          "2015년 08월03일",
          "2015년 08월10일",
          "2015년 08월17일",
          "2015년 08월24일",
          "2015년 08월31일",
          "2015년 09월07일",
          "2015년 09월14일",
          "2015년 09월21일",
          "2015년 09월28일",
          "2015년 10월05일",
          "2015년 10월12일",
          "2015년 10월19일",
          "2015년 10월26일",
          "2015년 11월02일",
          "2015년 11월09일",
          "2015년 11월16일",
          "2015년 11월23일",
          "2015년 11월30일",
          "2015년 12월07일",
          "2015년 12월14일",
          "2015년 12월21일"
         ],
         "y": [
          -0.02,
          -0.03,
          -0.02,
          -0.13,
          0,
          0.01,
          0,
          -0.04,
          -0.02,
          0,
          0,
          0,
          -0.05,
          -0.02,
          -0.06,
          0,
          0.02,
          -0.06,
          -0.03,
          0,
          -0.1,
          -0.03,
          -0.1,
          -0.03,
          -0.02,
          -0.02,
          0.04,
          0.03,
          0.01,
          -0.04,
          0.01,
          -0.02,
          -0.01,
          -0.02,
          -0.01,
          0.01,
          -0.04,
          -0.01,
          -0.01,
          0.01,
          0.02,
          0,
          -0.02,
          0.02,
          -0.03,
          -0.02,
          0.03,
          -0.03,
          -0.05,
          -0.04,
          -0.04
         ]
        }
       ],
       "layout": {
        "template": {
         "data": {
          "bar": [
           {
            "error_x": {
             "color": "#2a3f5f"
            },
            "error_y": {
             "color": "#2a3f5f"
            },
            "marker": {
             "line": {
              "color": "#E5ECF6",
              "width": 0.5
             }
            },
            "type": "bar"
           }
          ],
          "barpolar": [
           {
            "marker": {
             "line": {
              "color": "#E5ECF6",
              "width": 0.5
             }
            },
            "type": "barpolar"
           }
          ],
          "carpet": [
           {
            "aaxis": {
             "endlinecolor": "#2a3f5f",
             "gridcolor": "white",
             "linecolor": "white",
             "minorgridcolor": "white",
             "startlinecolor": "#2a3f5f"
            },
            "baxis": {
             "endlinecolor": "#2a3f5f",
             "gridcolor": "white",
             "linecolor": "white",
             "minorgridcolor": "white",
             "startlinecolor": "#2a3f5f"
            },
            "type": "carpet"
           }
          ],
          "choropleth": [
           {
            "colorbar": {
             "outlinewidth": 0,
             "ticks": ""
            },
            "type": "choropleth"
           }
          ],
          "contour": [
           {
            "colorbar": {
             "outlinewidth": 0,
             "ticks": ""
            },
            "colorscale": [
             [
              0,
              "#0d0887"
             ],
             [
              0.1111111111111111,
              "#46039f"
             ],
             [
              0.2222222222222222,
              "#7201a8"
             ],
             [
              0.3333333333333333,
              "#9c179e"
             ],
             [
              0.4444444444444444,
              "#bd3786"
             ],
             [
              0.5555555555555556,
              "#d8576b"
             ],
             [
              0.6666666666666666,
              "#ed7953"
             ],
             [
              0.7777777777777778,
              "#fb9f3a"
             ],
             [
              0.8888888888888888,
              "#fdca26"
             ],
             [
              1,
              "#f0f921"
             ]
            ],
            "type": "contour"
           }
          ],
          "contourcarpet": [
           {
            "colorbar": {
             "outlinewidth": 0,
             "ticks": ""
            },
            "type": "contourcarpet"
           }
          ],
          "heatmap": [
           {
            "colorbar": {
             "outlinewidth": 0,
             "ticks": ""
            },
            "colorscale": [
             [
              0,
              "#0d0887"
             ],
             [
              0.1111111111111111,
              "#46039f"
             ],
             [
              0.2222222222222222,
              "#7201a8"
             ],
             [
              0.3333333333333333,
              "#9c179e"
             ],
             [
              0.4444444444444444,
              "#bd3786"
             ],
             [
              0.5555555555555556,
              "#d8576b"
             ],
             [
              0.6666666666666666,
              "#ed7953"
             ],
             [
              0.7777777777777778,
              "#fb9f3a"
             ],
             [
              0.8888888888888888,
              "#fdca26"
             ],
             [
              1,
              "#f0f921"
             ]
            ],
            "type": "heatmap"
           }
          ],
          "heatmapgl": [
           {
            "colorbar": {
             "outlinewidth": 0,
             "ticks": ""
            },
            "colorscale": [
             [
              0,
              "#0d0887"
             ],
             [
              0.1111111111111111,
              "#46039f"
             ],
             [
              0.2222222222222222,
              "#7201a8"
             ],
             [
              0.3333333333333333,
              "#9c179e"
             ],
             [
              0.4444444444444444,
              "#bd3786"
             ],
             [
              0.5555555555555556,
              "#d8576b"
             ],
             [
              0.6666666666666666,
              "#ed7953"
             ],
             [
              0.7777777777777778,
              "#fb9f3a"
             ],
             [
              0.8888888888888888,
              "#fdca26"
             ],
             [
              1,
              "#f0f921"
             ]
            ],
            "type": "heatmapgl"
           }
          ],
          "histogram": [
           {
            "marker": {
             "colorbar": {
              "outlinewidth": 0,
              "ticks": ""
             }
            },
            "type": "histogram"
           }
          ],
          "histogram2d": [
           {
            "colorbar": {
             "outlinewidth": 0,
             "ticks": ""
            },
            "colorscale": [
             [
              0,
              "#0d0887"
             ],
             [
              0.1111111111111111,
              "#46039f"
             ],
             [
              0.2222222222222222,
              "#7201a8"
             ],
             [
              0.3333333333333333,
              "#9c179e"
             ],
             [
              0.4444444444444444,
              "#bd3786"
             ],
             [
              0.5555555555555556,
              "#d8576b"
             ],
             [
              0.6666666666666666,
              "#ed7953"
             ],
             [
              0.7777777777777778,
              "#fb9f3a"
             ],
             [
              0.8888888888888888,
              "#fdca26"
             ],
             [
              1,
              "#f0f921"
             ]
            ],
            "type": "histogram2d"
           }
          ],
          "histogram2dcontour": [
           {
            "colorbar": {
             "outlinewidth": 0,
             "ticks": ""
            },
            "colorscale": [
             [
              0,
              "#0d0887"
             ],
             [
              0.1111111111111111,
              "#46039f"
             ],
             [
              0.2222222222222222,
              "#7201a8"
             ],
             [
              0.3333333333333333,
              "#9c179e"
             ],
             [
              0.4444444444444444,
              "#bd3786"
             ],
             [
              0.5555555555555556,
              "#d8576b"
             ],
             [
              0.6666666666666666,
              "#ed7953"
             ],
             [
              0.7777777777777778,
              "#fb9f3a"
             ],
             [
              0.8888888888888888,
              "#fdca26"
             ],
             [
              1,
              "#f0f921"
             ]
            ],
            "type": "histogram2dcontour"
           }
          ],
          "mesh3d": [
           {
            "colorbar": {
             "outlinewidth": 0,
             "ticks": ""
            },
            "type": "mesh3d"
           }
          ],
          "parcoords": [
           {
            "line": {
             "colorbar": {
              "outlinewidth": 0,
              "ticks": ""
             }
            },
            "type": "parcoords"
           }
          ],
          "pie": [
           {
            "automargin": true,
            "type": "pie"
           }
          ],
          "scatter": [
           {
            "marker": {
             "colorbar": {
              "outlinewidth": 0,
              "ticks": ""
             }
            },
            "type": "scatter"
           }
          ],
          "scatter3d": [
           {
            "line": {
             "colorbar": {
              "outlinewidth": 0,
              "ticks": ""
             }
            },
            "marker": {
             "colorbar": {
              "outlinewidth": 0,
              "ticks": ""
             }
            },
            "type": "scatter3d"
           }
          ],
          "scattercarpet": [
           {
            "marker": {
             "colorbar": {
              "outlinewidth": 0,
              "ticks": ""
             }
            },
            "type": "scattercarpet"
           }
          ],
          "scattergeo": [
           {
            "marker": {
             "colorbar": {
              "outlinewidth": 0,
              "ticks": ""
             }
            },
            "type": "scattergeo"
           }
          ],
          "scattergl": [
           {
            "marker": {
             "colorbar": {
              "outlinewidth": 0,
              "ticks": ""
             }
            },
            "type": "scattergl"
           }
          ],
          "scattermapbox": [
           {
            "marker": {
             "colorbar": {
              "outlinewidth": 0,
              "ticks": ""
             }
            },
            "type": "scattermapbox"
           }
          ],
          "scatterpolar": [
           {
            "marker": {
             "colorbar": {
              "outlinewidth": 0,
              "ticks": ""
             }
            },
            "type": "scatterpolar"
           }
          ],
          "scatterpolargl": [
           {
            "marker": {
             "colorbar": {
              "outlinewidth": 0,
              "ticks": ""
             }
            },
            "type": "scatterpolargl"
           }
          ],
          "scatterternary": [
           {
            "marker": {
             "colorbar": {
              "outlinewidth": 0,
              "ticks": ""
             }
            },
            "type": "scatterternary"
           }
          ],
          "surface": [
           {
            "colorbar": {
             "outlinewidth": 0,
             "ticks": ""
            },
            "colorscale": [
             [
              0,
              "#0d0887"
             ],
             [
              0.1111111111111111,
              "#46039f"
             ],
             [
              0.2222222222222222,
              "#7201a8"
             ],
             [
              0.3333333333333333,
              "#9c179e"
             ],
             [
              0.4444444444444444,
              "#bd3786"
             ],
             [
              0.5555555555555556,
              "#d8576b"
             ],
             [
              0.6666666666666666,
              "#ed7953"
             ],
             [
              0.7777777777777778,
              "#fb9f3a"
             ],
             [
              0.8888888888888888,
              "#fdca26"
             ],
             [
              1,
              "#f0f921"
             ]
            ],
            "type": "surface"
           }
          ],
          "table": [
           {
            "cells": {
             "fill": {
              "color": "#EBF0F8"
             },
             "line": {
              "color": "white"
             }
            },
            "header": {
             "fill": {
              "color": "#C8D4E3"
             },
             "line": {
              "color": "white"
             }
            },
            "type": "table"
           }
          ]
         },
         "layout": {
          "annotationdefaults": {
           "arrowcolor": "#2a3f5f",
           "arrowhead": 0,
           "arrowwidth": 1
          },
          "autotypenumbers": "strict",
          "coloraxis": {
           "colorbar": {
            "outlinewidth": 0,
            "ticks": ""
           }
          },
          "colorscale": {
           "diverging": [
            [
             0,
             "#8e0152"
            ],
            [
             0.1,
             "#c51b7d"
            ],
            [
             0.2,
             "#de77ae"
            ],
            [
             0.3,
             "#f1b6da"
            ],
            [
             0.4,
             "#fde0ef"
            ],
            [
             0.5,
             "#f7f7f7"
            ],
            [
             0.6,
             "#e6f5d0"
            ],
            [
             0.7,
             "#b8e186"
            ],
            [
             0.8,
             "#7fbc41"
            ],
            [
             0.9,
             "#4d9221"
            ],
            [
             1,
             "#276419"
            ]
           ],
           "sequential": [
            [
             0,
             "#0d0887"
            ],
            [
             0.1111111111111111,
             "#46039f"
            ],
            [
             0.2222222222222222,
             "#7201a8"
            ],
            [
             0.3333333333333333,
             "#9c179e"
            ],
            [
             0.4444444444444444,
             "#bd3786"
            ],
            [
             0.5555555555555556,
             "#d8576b"
            ],
            [
             0.6666666666666666,
             "#ed7953"
            ],
            [
             0.7777777777777778,
             "#fb9f3a"
            ],
            [
             0.8888888888888888,
             "#fdca26"
            ],
            [
             1,
             "#f0f921"
            ]
           ],
           "sequentialminus": [
            [
             0,
             "#0d0887"
            ],
            [
             0.1111111111111111,
             "#46039f"
            ],
            [
             0.2222222222222222,
             "#7201a8"
            ],
            [
             0.3333333333333333,
             "#9c179e"
            ],
            [
             0.4444444444444444,
             "#bd3786"
            ],
            [
             0.5555555555555556,
             "#d8576b"
            ],
            [
             0.6666666666666666,
             "#ed7953"
            ],
            [
             0.7777777777777778,
             "#fb9f3a"
            ],
            [
             0.8888888888888888,
             "#fdca26"
            ],
            [
             1,
             "#f0f921"
            ]
           ]
          },
          "colorway": [
           "#636efa",
           "#EF553B",
           "#00cc96",
           "#ab63fa",
           "#FFA15A",
           "#19d3f3",
           "#FF6692",
           "#B6E880",
           "#FF97FF",
           "#FECB52"
          ],
          "font": {
           "color": "#2a3f5f"
          },
          "geo": {
           "bgcolor": "white",
           "lakecolor": "white",
           "landcolor": "#E5ECF6",
           "showlakes": true,
           "showland": true,
           "subunitcolor": "white"
          },
          "hoverlabel": {
           "align": "left"
          },
          "hovermode": "closest",
          "mapbox": {
           "style": "light"
          },
          "paper_bgcolor": "white",
          "plot_bgcolor": "#E5ECF6",
          "polar": {
           "angularaxis": {
            "gridcolor": "white",
            "linecolor": "white",
            "ticks": ""
           },
           "bgcolor": "#E5ECF6",
           "radialaxis": {
            "gridcolor": "white",
            "linecolor": "white",
            "ticks": ""
           }
          },
          "scene": {
           "xaxis": {
            "backgroundcolor": "#E5ECF6",
            "gridcolor": "white",
            "gridwidth": 2,
            "linecolor": "white",
            "showbackground": true,
            "ticks": "",
            "zerolinecolor": "white"
           },
           "yaxis": {
            "backgroundcolor": "#E5ECF6",
            "gridcolor": "white",
            "gridwidth": 2,
            "linecolor": "white",
            "showbackground": true,
            "ticks": "",
            "zerolinecolor": "white"
           },
           "zaxis": {
            "backgroundcolor": "#E5ECF6",
            "gridcolor": "white",
            "gridwidth": 2,
            "linecolor": "white",
            "showbackground": true,
            "ticks": "",
            "zerolinecolor": "white"
           }
          },
          "shapedefaults": {
           "line": {
            "color": "#2a3f5f"
           }
          },
          "ternary": {
           "aaxis": {
            "gridcolor": "white",
            "linecolor": "white",
            "ticks": ""
           },
           "baxis": {
            "gridcolor": "white",
            "linecolor": "white",
            "ticks": ""
           },
           "bgcolor": "#E5ECF6",
           "caxis": {
            "gridcolor": "white",
            "linecolor": "white",
            "ticks": ""
           }
          },
          "title": {
           "x": 0.05
          },
          "xaxis": {
           "automargin": true,
           "gridcolor": "white",
           "linecolor": "white",
           "ticks": "",
           "title": {
            "standoff": 15
           },
           "zerolinecolor": "white",
           "zerolinewidth": 2
          },
          "yaxis": {
           "automargin": true,
           "gridcolor": "white",
           "linecolor": "white",
           "ticks": "",
           "title": {
            "standoff": 15
           },
           "zerolinecolor": "white",
           "zerolinewidth": 2
          }
         }
        }
       }
      },
      "text/html": [
       "<div>                            <div id=\"56329b07-2372-4596-909a-2876d6dc183a\" class=\"plotly-graph-div\" style=\"height:525px; width:100%;\"></div>            <script type=\"text/javascript\">                require([\"plotly\"], function(Plotly) {                    window.PLOTLYENV=window.PLOTLYENV || {};                                    if (document.getElementById(\"56329b07-2372-4596-909a-2876d6dc183a\")) {                    Plotly.newPlot(                        \"56329b07-2372-4596-909a-2876d6dc183a\",                        [{\"name\": \"\\uc804\\uad6d\", \"type\": \"scatter\", \"x\": [\"2015\\ub144 01\\uc6d405\\uc77c\", \"2015\\ub144 01\\uc6d412\\uc77c\", \"2015\\ub144 01\\uc6d419\\uc77c\", \"2015\\ub144 01\\uc6d426\\uc77c\", \"2015\\ub144 02\\uc6d402\\uc77c\", \"2015\\ub144 02\\uc6d409\\uc77c\", \"2015\\ub144 02\\uc6d416\\uc77c\", \"2015\\ub144 02\\uc6d423\\uc77c\", \"2015\\ub144 03\\uc6d402\\uc77c\", \"2015\\ub144 03\\uc6d409\\uc77c\", \"2015\\ub144 03\\uc6d416\\uc77c\", \"2015\\ub144 03\\uc6d423\\uc77c\", \"2015\\ub144 03\\uc6d430\\uc77c\", \"2015\\ub144 04\\uc6d406\\uc77c\", \"2015\\ub144 04\\uc6d413\\uc77c\", \"2015\\ub144 04\\uc6d420\\uc77c\", \"2015\\ub144 04\\uc6d427\\uc77c\", \"2015\\ub144 05\\uc6d404\\uc77c\", \"2015\\ub144 05\\uc6d411\\uc77c\", \"2015\\ub144 05\\uc6d418\\uc77c\", \"2015\\ub144 05\\uc6d425\\uc77c\", \"2015\\ub144 06\\uc6d401\\uc77c\", \"2015\\ub144 06\\uc6d408\\uc77c\", \"2015\\ub144 06\\uc6d415\\uc77c\", \"2015\\ub144 06\\uc6d422\\uc77c\", \"2015\\ub144 06\\uc6d429\\uc77c\", \"2015\\ub144 07\\uc6d406\\uc77c\", \"2015\\ub144 07\\uc6d413\\uc77c\", \"2015\\ub144 07\\uc6d420\\uc77c\", \"2015\\ub144 07\\uc6d427\\uc77c\", \"2015\\ub144 08\\uc6d403\\uc77c\", \"2015\\ub144 08\\uc6d410\\uc77c\", \"2015\\ub144 08\\uc6d417\\uc77c\", \"2015\\ub144 08\\uc6d424\\uc77c\", \"2015\\ub144 08\\uc6d431\\uc77c\", \"2015\\ub144 09\\uc6d407\\uc77c\", \"2015\\ub144 09\\uc6d414\\uc77c\", \"2015\\ub144 09\\uc6d421\\uc77c\", \"2015\\ub144 09\\uc6d428\\uc77c\", \"2015\\ub144 10\\uc6d405\\uc77c\", \"2015\\ub144 10\\uc6d412\\uc77c\", \"2015\\ub144 10\\uc6d419\\uc77c\", \"2015\\ub144 10\\uc6d426\\uc77c\", \"2015\\ub144 11\\uc6d402\\uc77c\", \"2015\\ub144 11\\uc6d409\\uc77c\", \"2015\\ub144 11\\uc6d416\\uc77c\", \"2015\\ub144 11\\uc6d423\\uc77c\", \"2015\\ub144 11\\uc6d430\\uc77c\", \"2015\\ub144 12\\uc6d407\\uc77c\", \"2015\\ub144 12\\uc6d414\\uc77c\", \"2015\\ub144 12\\uc6d421\\uc77c\"], \"y\": [0.06, 0.06, 0.06, 0.09, 0.1, 0.11, 0.12, 0.1, 0.13, 0.15, 0.15, 0.16, 0.18, 0.16, 0.17, 0.16, 0.12, 0.12, 0.12, 0.13, 0.14, 0.11, 0.12, 0.12, 0.13, 0.13, 0.1, 0.09, 0.11, 0.11, 0.1, 0.1, 0.1, 0.11, 0.11, 0.12, 0.12, 0.13, 0.12, 0.12, 0.14, 0.13, 0.13, 0.14, 0.11, 0.09, 0.08, 0.05, 0.05, 0.03, 0.01]}, {\"marker\": {\"color\": [0, 0, 0, 2, 0, 1, 0, 0, 0, 0, 0, 0, 0, 0, 0, 0, 1, 0, 0, 0, 0, 0, 0, 0, 0, 0, 1, 1, 1, 0, 1, 0, 0, 0, 0, 1, 0, 0, 0, 1, 1, 0, 0, 1, 0, 0, 1, 0, 0, 0, 0]}, \"name\": \"\\uc138\\uc885\", \"type\": \"bar\", \"x\": [\"2015\\ub144 01\\uc6d405\\uc77c\", \"2015\\ub144 01\\uc6d412\\uc77c\", \"2015\\ub144 01\\uc6d419\\uc77c\", \"2015\\ub144 01\\uc6d426\\uc77c\", \"2015\\ub144 02\\uc6d402\\uc77c\", \"2015\\ub144 02\\uc6d409\\uc77c\", \"2015\\ub144 02\\uc6d416\\uc77c\", \"2015\\ub144 02\\uc6d423\\uc77c\", \"2015\\ub144 03\\uc6d402\\uc77c\", \"2015\\ub144 03\\uc6d409\\uc77c\", \"2015\\ub144 03\\uc6d416\\uc77c\", \"2015\\ub144 03\\uc6d423\\uc77c\", \"2015\\ub144 03\\uc6d430\\uc77c\", \"2015\\ub144 04\\uc6d406\\uc77c\", \"2015\\ub144 04\\uc6d413\\uc77c\", \"2015\\ub144 04\\uc6d420\\uc77c\", \"2015\\ub144 04\\uc6d427\\uc77c\", \"2015\\ub144 05\\uc6d404\\uc77c\", \"2015\\ub144 05\\uc6d411\\uc77c\", \"2015\\ub144 05\\uc6d418\\uc77c\", \"2015\\ub144 05\\uc6d425\\uc77c\", \"2015\\ub144 06\\uc6d401\\uc77c\", \"2015\\ub144 06\\uc6d408\\uc77c\", \"2015\\ub144 06\\uc6d415\\uc77c\", \"2015\\ub144 06\\uc6d422\\uc77c\", \"2015\\ub144 06\\uc6d429\\uc77c\", \"2015\\ub144 07\\uc6d406\\uc77c\", \"2015\\ub144 07\\uc6d413\\uc77c\", \"2015\\ub144 07\\uc6d420\\uc77c\", \"2015\\ub144 07\\uc6d427\\uc77c\", \"2015\\ub144 08\\uc6d403\\uc77c\", \"2015\\ub144 08\\uc6d410\\uc77c\", \"2015\\ub144 08\\uc6d417\\uc77c\", \"2015\\ub144 08\\uc6d424\\uc77c\", \"2015\\ub144 08\\uc6d431\\uc77c\", \"2015\\ub144 09\\uc6d407\\uc77c\", \"2015\\ub144 09\\uc6d414\\uc77c\", \"2015\\ub144 09\\uc6d421\\uc77c\", \"2015\\ub144 09\\uc6d428\\uc77c\", \"2015\\ub144 10\\uc6d405\\uc77c\", \"2015\\ub144 10\\uc6d412\\uc77c\", \"2015\\ub144 10\\uc6d419\\uc77c\", \"2015\\ub144 10\\uc6d426\\uc77c\", \"2015\\ub144 11\\uc6d402\\uc77c\", \"2015\\ub144 11\\uc6d409\\uc77c\", \"2015\\ub144 11\\uc6d416\\uc77c\", \"2015\\ub144 11\\uc6d423\\uc77c\", \"2015\\ub144 11\\uc6d430\\uc77c\", \"2015\\ub144 12\\uc6d407\\uc77c\", \"2015\\ub144 12\\uc6d414\\uc77c\", \"2015\\ub144 12\\uc6d421\\uc77c\"], \"y\": [-0.02, -0.03, -0.02, -0.13, 0.0, 0.01, 0.0, -0.04, -0.02, 0.0, 0.0, 0.0, -0.05, -0.02, -0.06, 0.0, 0.02, -0.06, -0.03, 0.0, -0.1, -0.03, -0.1, -0.03, -0.02, -0.02, 0.04, 0.03, 0.01, -0.04, 0.01, -0.02, -0.01, -0.02, -0.01, 0.01, -0.04, -0.01, -0.01, 0.01, 0.02, 0.0, -0.02, 0.02, -0.03, -0.02, 0.03, -0.03, -0.05, -0.04, -0.04]}],                        {\"template\": {\"data\": {\"bar\": [{\"error_x\": {\"color\": \"#2a3f5f\"}, \"error_y\": {\"color\": \"#2a3f5f\"}, \"marker\": {\"line\": {\"color\": \"#E5ECF6\", \"width\": 0.5}}, \"type\": \"bar\"}], \"barpolar\": [{\"marker\": {\"line\": {\"color\": \"#E5ECF6\", \"width\": 0.5}}, \"type\": \"barpolar\"}], \"carpet\": [{\"aaxis\": {\"endlinecolor\": \"#2a3f5f\", \"gridcolor\": \"white\", \"linecolor\": \"white\", \"minorgridcolor\": \"white\", \"startlinecolor\": \"#2a3f5f\"}, \"baxis\": {\"endlinecolor\": \"#2a3f5f\", \"gridcolor\": \"white\", \"linecolor\": \"white\", \"minorgridcolor\": \"white\", \"startlinecolor\": \"#2a3f5f\"}, \"type\": \"carpet\"}], \"choropleth\": [{\"colorbar\": {\"outlinewidth\": 0, \"ticks\": \"\"}, \"type\": \"choropleth\"}], \"contour\": [{\"colorbar\": {\"outlinewidth\": 0, \"ticks\": \"\"}, \"colorscale\": [[0.0, \"#0d0887\"], [0.1111111111111111, \"#46039f\"], [0.2222222222222222, \"#7201a8\"], [0.3333333333333333, \"#9c179e\"], [0.4444444444444444, \"#bd3786\"], [0.5555555555555556, \"#d8576b\"], [0.6666666666666666, \"#ed7953\"], [0.7777777777777778, \"#fb9f3a\"], [0.8888888888888888, \"#fdca26\"], [1.0, \"#f0f921\"]], \"type\": \"contour\"}], \"contourcarpet\": [{\"colorbar\": {\"outlinewidth\": 0, \"ticks\": \"\"}, \"type\": \"contourcarpet\"}], \"heatmap\": [{\"colorbar\": {\"outlinewidth\": 0, \"ticks\": \"\"}, \"colorscale\": [[0.0, \"#0d0887\"], [0.1111111111111111, \"#46039f\"], [0.2222222222222222, \"#7201a8\"], [0.3333333333333333, \"#9c179e\"], [0.4444444444444444, \"#bd3786\"], [0.5555555555555556, \"#d8576b\"], [0.6666666666666666, \"#ed7953\"], [0.7777777777777778, \"#fb9f3a\"], [0.8888888888888888, \"#fdca26\"], [1.0, \"#f0f921\"]], \"type\": \"heatmap\"}], \"heatmapgl\": [{\"colorbar\": {\"outlinewidth\": 0, \"ticks\": \"\"}, \"colorscale\": [[0.0, \"#0d0887\"], [0.1111111111111111, \"#46039f\"], [0.2222222222222222, \"#7201a8\"], [0.3333333333333333, \"#9c179e\"], [0.4444444444444444, \"#bd3786\"], [0.5555555555555556, \"#d8576b\"], [0.6666666666666666, \"#ed7953\"], [0.7777777777777778, \"#fb9f3a\"], [0.8888888888888888, \"#fdca26\"], [1.0, \"#f0f921\"]], \"type\": \"heatmapgl\"}], \"histogram\": [{\"marker\": {\"colorbar\": {\"outlinewidth\": 0, \"ticks\": \"\"}}, \"type\": \"histogram\"}], \"histogram2d\": [{\"colorbar\": {\"outlinewidth\": 0, \"ticks\": \"\"}, \"colorscale\": [[0.0, \"#0d0887\"], [0.1111111111111111, \"#46039f\"], [0.2222222222222222, \"#7201a8\"], [0.3333333333333333, \"#9c179e\"], [0.4444444444444444, \"#bd3786\"], [0.5555555555555556, \"#d8576b\"], [0.6666666666666666, \"#ed7953\"], [0.7777777777777778, \"#fb9f3a\"], [0.8888888888888888, \"#fdca26\"], [1.0, \"#f0f921\"]], \"type\": \"histogram2d\"}], \"histogram2dcontour\": [{\"colorbar\": {\"outlinewidth\": 0, \"ticks\": \"\"}, \"colorscale\": [[0.0, \"#0d0887\"], [0.1111111111111111, \"#46039f\"], [0.2222222222222222, \"#7201a8\"], [0.3333333333333333, \"#9c179e\"], [0.4444444444444444, \"#bd3786\"], [0.5555555555555556, \"#d8576b\"], [0.6666666666666666, \"#ed7953\"], [0.7777777777777778, \"#fb9f3a\"], [0.8888888888888888, \"#fdca26\"], [1.0, \"#f0f921\"]], \"type\": \"histogram2dcontour\"}], \"mesh3d\": [{\"colorbar\": {\"outlinewidth\": 0, \"ticks\": \"\"}, \"type\": \"mesh3d\"}], \"parcoords\": [{\"line\": {\"colorbar\": {\"outlinewidth\": 0, \"ticks\": \"\"}}, \"type\": \"parcoords\"}], \"pie\": [{\"automargin\": true, \"type\": \"pie\"}], \"scatter\": [{\"marker\": {\"colorbar\": {\"outlinewidth\": 0, \"ticks\": \"\"}}, \"type\": \"scatter\"}], \"scatter3d\": [{\"line\": {\"colorbar\": {\"outlinewidth\": 0, \"ticks\": \"\"}}, \"marker\": {\"colorbar\": {\"outlinewidth\": 0, \"ticks\": \"\"}}, \"type\": \"scatter3d\"}], \"scattercarpet\": [{\"marker\": {\"colorbar\": {\"outlinewidth\": 0, \"ticks\": \"\"}}, \"type\": \"scattercarpet\"}], \"scattergeo\": [{\"marker\": {\"colorbar\": {\"outlinewidth\": 0, \"ticks\": \"\"}}, \"type\": \"scattergeo\"}], \"scattergl\": [{\"marker\": {\"colorbar\": {\"outlinewidth\": 0, \"ticks\": \"\"}}, \"type\": \"scattergl\"}], \"scattermapbox\": [{\"marker\": {\"colorbar\": {\"outlinewidth\": 0, \"ticks\": \"\"}}, \"type\": \"scattermapbox\"}], \"scatterpolar\": [{\"marker\": {\"colorbar\": {\"outlinewidth\": 0, \"ticks\": \"\"}}, \"type\": \"scatterpolar\"}], \"scatterpolargl\": [{\"marker\": {\"colorbar\": {\"outlinewidth\": 0, \"ticks\": \"\"}}, \"type\": \"scatterpolargl\"}], \"scatterternary\": [{\"marker\": {\"colorbar\": {\"outlinewidth\": 0, \"ticks\": \"\"}}, \"type\": \"scatterternary\"}], \"surface\": [{\"colorbar\": {\"outlinewidth\": 0, \"ticks\": \"\"}, \"colorscale\": [[0.0, \"#0d0887\"], [0.1111111111111111, \"#46039f\"], [0.2222222222222222, \"#7201a8\"], [0.3333333333333333, \"#9c179e\"], [0.4444444444444444, \"#bd3786\"], [0.5555555555555556, \"#d8576b\"], [0.6666666666666666, \"#ed7953\"], [0.7777777777777778, \"#fb9f3a\"], [0.8888888888888888, \"#fdca26\"], [1.0, \"#f0f921\"]], \"type\": \"surface\"}], \"table\": [{\"cells\": {\"fill\": {\"color\": \"#EBF0F8\"}, \"line\": {\"color\": \"white\"}}, \"header\": {\"fill\": {\"color\": \"#C8D4E3\"}, \"line\": {\"color\": \"white\"}}, \"type\": \"table\"}]}, \"layout\": {\"annotationdefaults\": {\"arrowcolor\": \"#2a3f5f\", \"arrowhead\": 0, \"arrowwidth\": 1}, \"autotypenumbers\": \"strict\", \"coloraxis\": {\"colorbar\": {\"outlinewidth\": 0, \"ticks\": \"\"}}, \"colorscale\": {\"diverging\": [[0, \"#8e0152\"], [0.1, \"#c51b7d\"], [0.2, \"#de77ae\"], [0.3, \"#f1b6da\"], [0.4, \"#fde0ef\"], [0.5, \"#f7f7f7\"], [0.6, \"#e6f5d0\"], [0.7, \"#b8e186\"], [0.8, \"#7fbc41\"], [0.9, \"#4d9221\"], [1, \"#276419\"]], \"sequential\": [[0.0, \"#0d0887\"], [0.1111111111111111, \"#46039f\"], [0.2222222222222222, \"#7201a8\"], [0.3333333333333333, \"#9c179e\"], [0.4444444444444444, \"#bd3786\"], [0.5555555555555556, \"#d8576b\"], [0.6666666666666666, \"#ed7953\"], [0.7777777777777778, \"#fb9f3a\"], [0.8888888888888888, \"#fdca26\"], [1.0, \"#f0f921\"]], \"sequentialminus\": [[0.0, \"#0d0887\"], [0.1111111111111111, \"#46039f\"], [0.2222222222222222, \"#7201a8\"], [0.3333333333333333, \"#9c179e\"], [0.4444444444444444, \"#bd3786\"], [0.5555555555555556, \"#d8576b\"], [0.6666666666666666, \"#ed7953\"], [0.7777777777777778, \"#fb9f3a\"], [0.8888888888888888, \"#fdca26\"], [1.0, \"#f0f921\"]]}, \"colorway\": [\"#636efa\", \"#EF553B\", \"#00cc96\", \"#ab63fa\", \"#FFA15A\", \"#19d3f3\", \"#FF6692\", \"#B6E880\", \"#FF97FF\", \"#FECB52\"], \"font\": {\"color\": \"#2a3f5f\"}, \"geo\": {\"bgcolor\": \"white\", \"lakecolor\": \"white\", \"landcolor\": \"#E5ECF6\", \"showlakes\": true, \"showland\": true, \"subunitcolor\": \"white\"}, \"hoverlabel\": {\"align\": \"left\"}, \"hovermode\": \"closest\", \"mapbox\": {\"style\": \"light\"}, \"paper_bgcolor\": \"white\", \"plot_bgcolor\": \"#E5ECF6\", \"polar\": {\"angularaxis\": {\"gridcolor\": \"white\", \"linecolor\": \"white\", \"ticks\": \"\"}, \"bgcolor\": \"#E5ECF6\", \"radialaxis\": {\"gridcolor\": \"white\", \"linecolor\": \"white\", \"ticks\": \"\"}}, \"scene\": {\"xaxis\": {\"backgroundcolor\": \"#E5ECF6\", \"gridcolor\": \"white\", \"gridwidth\": 2, \"linecolor\": \"white\", \"showbackground\": true, \"ticks\": \"\", \"zerolinecolor\": \"white\"}, \"yaxis\": {\"backgroundcolor\": \"#E5ECF6\", \"gridcolor\": \"white\", \"gridwidth\": 2, \"linecolor\": \"white\", \"showbackground\": true, \"ticks\": \"\", \"zerolinecolor\": \"white\"}, \"zaxis\": {\"backgroundcolor\": \"#E5ECF6\", \"gridcolor\": \"white\", \"gridwidth\": 2, \"linecolor\": \"white\", \"showbackground\": true, \"ticks\": \"\", \"zerolinecolor\": \"white\"}}, \"shapedefaults\": {\"line\": {\"color\": \"#2a3f5f\"}}, \"ternary\": {\"aaxis\": {\"gridcolor\": \"white\", \"linecolor\": \"white\", \"ticks\": \"\"}, \"baxis\": {\"gridcolor\": \"white\", \"linecolor\": \"white\", \"ticks\": \"\"}, \"bgcolor\": \"#E5ECF6\", \"caxis\": {\"gridcolor\": \"white\", \"linecolor\": \"white\", \"ticks\": \"\"}}, \"title\": {\"x\": 0.05}, \"xaxis\": {\"automargin\": true, \"gridcolor\": \"white\", \"linecolor\": \"white\", \"ticks\": \"\", \"title\": {\"standoff\": 15}, \"zerolinecolor\": \"white\", \"zerolinewidth\": 2}, \"yaxis\": {\"automargin\": true, \"gridcolor\": \"white\", \"linecolor\": \"white\", \"ticks\": \"\", \"title\": {\"standoff\": 15}, \"zerolinecolor\": \"white\", \"zerolinewidth\": 2}}}},                        {\"responsive\": true}                    ).then(function(){\n",
       "                            \n",
       "var gd = document.getElementById('56329b07-2372-4596-909a-2876d6dc183a');\n",
       "var x = new MutationObserver(function (mutations, observer) {{\n",
       "        var display = window.getComputedStyle(gd).display;\n",
       "        if (!display || display === 'none') {{\n",
       "            console.log([gd, 'removed!']);\n",
       "            Plotly.purge(gd);\n",
       "            observer.disconnect();\n",
       "        }}\n",
       "}});\n",
       "\n",
       "// Listen for the removal of the full notebook cells\n",
       "var notebookContainer = gd.closest('#notebook-container');\n",
       "if (notebookContainer) {{\n",
       "    x.observe(notebookContainer, {childList: true});\n",
       "}}\n",
       "\n",
       "// Listen for the clearing of the current output cell\n",
       "var outputEl = gd.closest('.output');\n",
       "if (outputEl) {{\n",
       "    x.observe(outputEl, {childList: true});\n",
       "}}\n",
       "\n",
       "                        })                };                });            </script>        </div>"
      ]
     },
     "metadata": {},
     "output_type": "display_data"
    }
   ],
   "source": [
    "fig = go.Figure()\n",
    "fig.add_trace(\n",
    "    go.Scatter(\n",
    "        x=apart2.index,\n",
    "        y=apart2.values,\n",
    "        \n",
    "        name=\"전국\"\n",
    "    ))\n",
    "fig.add_trace(\n",
    "    go.Bar(\n",
    "        x=apart.index,\n",
    "        y=apart.values,\n",
    "        marker_color=n,\n",
    "        name='세종'\n",
    "    ))\n"
   ]
  },
  {
   "cell_type": "code",
   "execution_count": 29,
   "metadata": {},
   "outputs": [
    {
     "data": {
      "application/vnd.plotly.v1+json": {
       "config": {
        "plotlyServerURL": "https://plot.ly"
       },
       "data": [
        {
         "name": "세종",
         "type": "scatter",
         "x": [
          "2020년 01월13일",
          "2020년 01월20일",
          "2020년 01월27일",
          "2020년 02월03일",
          "2020년 02월10일",
          "2020년 02월17일",
          "2020년 02월24일",
          "2020년 03월02일",
          "2020년 03월09일",
          "2020년 03월16일",
          "2020년 03월23일",
          "2020년 03월30일",
          "2020년 04월06일",
          "2020년 04월13일",
          "2020년 04월20일",
          "2020년 04월27일",
          "2020년 05월04일",
          "2020년 05월11일",
          "2020년 05월18일",
          "2020년 05월25일",
          "2020년 06월01일",
          "2020년 06월08일",
          "2020년 06월15일",
          "2020년 06월22일",
          "2020년 06월29일",
          "2020년 07월06일",
          "2020년 07월13일",
          "2020년 07월20일",
          "2020년 07월27일",
          "2020년 08월03일",
          "2020년 08월10일",
          "2020년 08월17일",
          "2020년 08월24일",
          "2020년 08월31일",
          "2020년 09월07일",
          "2020년 09월14일",
          "2020년 09월21일",
          "2020년 09월28일",
          "2020년 10월05일",
          "2020년 10월12일",
          "2020년 10월19일",
          "2020년 10월26일",
          "2020년 11월02일",
          "2020년 11월09일",
          "2020년 11월16일",
          "2020년 11월23일",
          "2020년 11월30일",
          "2020년 12월07일",
          "2020년 12월14일",
          "2020년 12월21일",
          "2020년 12월28일"
         ],
         "xaxis": "x",
         "y": [
          0.14,
          0.34,
          0.44,
          0.35,
          0.71,
          1.41,
          1.52,
          1.02,
          0.98,
          1,
          0.27,
          0.24,
          0.24,
          0.18,
          0.06,
          0.04,
          0.08,
          0.09,
          0.24,
          0.28,
          0.44,
          0.62,
          0.98,
          1.55,
          1.48,
          2.06,
          1.46,
          0.97,
          2.95,
          2.77,
          2.48,
          1.59,
          0.66,
          0.51,
          0.47,
          0.44,
          0.43,
          0.42,
          0.39,
          0.27,
          0.25,
          0.24,
          0.25,
          0.25,
          0.23,
          0.27,
          0.27,
          0.23,
          0.21,
          0.26,
          0.27
         ],
         "yaxis": "y"
        },
        {
         "name": "전국",
         "type": "bar",
         "x": [
          "2015년 01월05일",
          "2015년 01월12일",
          "2015년 01월19일",
          "2015년 01월26일",
          "2015년 02월02일",
          "2015년 02월09일",
          "2015년 02월16일",
          "2015년 02월23일",
          "2015년 03월02일",
          "2015년 03월09일",
          "2015년 03월16일",
          "2015년 03월23일",
          "2015년 03월30일",
          "2015년 04월06일",
          "2015년 04월13일",
          "2015년 04월20일",
          "2015년 04월27일",
          "2015년 05월04일",
          "2015년 05월11일",
          "2015년 05월18일",
          "2015년 05월25일",
          "2015년 06월01일",
          "2015년 06월08일",
          "2015년 06월15일",
          "2015년 06월22일",
          "2015년 06월29일",
          "2015년 07월06일",
          "2015년 07월13일",
          "2015년 07월20일",
          "2015년 07월27일",
          "2015년 08월03일",
          "2015년 08월10일",
          "2015년 08월17일",
          "2015년 08월24일",
          "2015년 08월31일",
          "2015년 09월07일",
          "2015년 09월14일",
          "2015년 09월21일",
          "2015년 09월28일",
          "2015년 10월05일",
          "2015년 10월12일",
          "2015년 10월19일",
          "2015년 10월26일",
          "2015년 11월02일",
          "2015년 11월09일",
          "2015년 11월16일",
          "2015년 11월23일",
          "2015년 11월30일",
          "2015년 12월07일",
          "2015년 12월14일",
          "2015년 12월21일"
         ],
         "xaxis": "x2",
         "y": [
          0.06,
          0.06,
          0.06,
          0.09,
          0.1,
          0.11,
          0.12,
          0.1,
          0.13,
          0.15,
          0.15,
          0.16,
          0.18,
          0.16,
          0.17,
          0.16,
          0.12,
          0.12,
          0.12,
          0.13,
          0.14,
          0.11,
          0.12,
          0.12,
          0.13,
          0.13,
          0.1,
          0.09,
          0.11,
          0.11,
          0.1,
          0.1,
          0.1,
          0.11,
          0.11,
          0.12,
          0.12,
          0.13,
          0.12,
          0.12,
          0.14,
          0.13,
          0.13,
          0.14,
          0.11,
          0.09,
          0.08,
          0.05,
          0.05,
          0.03,
          0.01
         ],
         "yaxis": "y2"
        }
       ],
       "layout": {
        "height": 600,
        "template": {
         "data": {
          "bar": [
           {
            "error_x": {
             "color": "#2a3f5f"
            },
            "error_y": {
             "color": "#2a3f5f"
            },
            "marker": {
             "line": {
              "color": "#E5ECF6",
              "width": 0.5
             }
            },
            "type": "bar"
           }
          ],
          "barpolar": [
           {
            "marker": {
             "line": {
              "color": "#E5ECF6",
              "width": 0.5
             }
            },
            "type": "barpolar"
           }
          ],
          "carpet": [
           {
            "aaxis": {
             "endlinecolor": "#2a3f5f",
             "gridcolor": "white",
             "linecolor": "white",
             "minorgridcolor": "white",
             "startlinecolor": "#2a3f5f"
            },
            "baxis": {
             "endlinecolor": "#2a3f5f",
             "gridcolor": "white",
             "linecolor": "white",
             "minorgridcolor": "white",
             "startlinecolor": "#2a3f5f"
            },
            "type": "carpet"
           }
          ],
          "choropleth": [
           {
            "colorbar": {
             "outlinewidth": 0,
             "ticks": ""
            },
            "type": "choropleth"
           }
          ],
          "contour": [
           {
            "colorbar": {
             "outlinewidth": 0,
             "ticks": ""
            },
            "colorscale": [
             [
              0,
              "#0d0887"
             ],
             [
              0.1111111111111111,
              "#46039f"
             ],
             [
              0.2222222222222222,
              "#7201a8"
             ],
             [
              0.3333333333333333,
              "#9c179e"
             ],
             [
              0.4444444444444444,
              "#bd3786"
             ],
             [
              0.5555555555555556,
              "#d8576b"
             ],
             [
              0.6666666666666666,
              "#ed7953"
             ],
             [
              0.7777777777777778,
              "#fb9f3a"
             ],
             [
              0.8888888888888888,
              "#fdca26"
             ],
             [
              1,
              "#f0f921"
             ]
            ],
            "type": "contour"
           }
          ],
          "contourcarpet": [
           {
            "colorbar": {
             "outlinewidth": 0,
             "ticks": ""
            },
            "type": "contourcarpet"
           }
          ],
          "heatmap": [
           {
            "colorbar": {
             "outlinewidth": 0,
             "ticks": ""
            },
            "colorscale": [
             [
              0,
              "#0d0887"
             ],
             [
              0.1111111111111111,
              "#46039f"
             ],
             [
              0.2222222222222222,
              "#7201a8"
             ],
             [
              0.3333333333333333,
              "#9c179e"
             ],
             [
              0.4444444444444444,
              "#bd3786"
             ],
             [
              0.5555555555555556,
              "#d8576b"
             ],
             [
              0.6666666666666666,
              "#ed7953"
             ],
             [
              0.7777777777777778,
              "#fb9f3a"
             ],
             [
              0.8888888888888888,
              "#fdca26"
             ],
             [
              1,
              "#f0f921"
             ]
            ],
            "type": "heatmap"
           }
          ],
          "heatmapgl": [
           {
            "colorbar": {
             "outlinewidth": 0,
             "ticks": ""
            },
            "colorscale": [
             [
              0,
              "#0d0887"
             ],
             [
              0.1111111111111111,
              "#46039f"
             ],
             [
              0.2222222222222222,
              "#7201a8"
             ],
             [
              0.3333333333333333,
              "#9c179e"
             ],
             [
              0.4444444444444444,
              "#bd3786"
             ],
             [
              0.5555555555555556,
              "#d8576b"
             ],
             [
              0.6666666666666666,
              "#ed7953"
             ],
             [
              0.7777777777777778,
              "#fb9f3a"
             ],
             [
              0.8888888888888888,
              "#fdca26"
             ],
             [
              1,
              "#f0f921"
             ]
            ],
            "type": "heatmapgl"
           }
          ],
          "histogram": [
           {
            "marker": {
             "colorbar": {
              "outlinewidth": 0,
              "ticks": ""
             }
            },
            "type": "histogram"
           }
          ],
          "histogram2d": [
           {
            "colorbar": {
             "outlinewidth": 0,
             "ticks": ""
            },
            "colorscale": [
             [
              0,
              "#0d0887"
             ],
             [
              0.1111111111111111,
              "#46039f"
             ],
             [
              0.2222222222222222,
              "#7201a8"
             ],
             [
              0.3333333333333333,
              "#9c179e"
             ],
             [
              0.4444444444444444,
              "#bd3786"
             ],
             [
              0.5555555555555556,
              "#d8576b"
             ],
             [
              0.6666666666666666,
              "#ed7953"
             ],
             [
              0.7777777777777778,
              "#fb9f3a"
             ],
             [
              0.8888888888888888,
              "#fdca26"
             ],
             [
              1,
              "#f0f921"
             ]
            ],
            "type": "histogram2d"
           }
          ],
          "histogram2dcontour": [
           {
            "colorbar": {
             "outlinewidth": 0,
             "ticks": ""
            },
            "colorscale": [
             [
              0,
              "#0d0887"
             ],
             [
              0.1111111111111111,
              "#46039f"
             ],
             [
              0.2222222222222222,
              "#7201a8"
             ],
             [
              0.3333333333333333,
              "#9c179e"
             ],
             [
              0.4444444444444444,
              "#bd3786"
             ],
             [
              0.5555555555555556,
              "#d8576b"
             ],
             [
              0.6666666666666666,
              "#ed7953"
             ],
             [
              0.7777777777777778,
              "#fb9f3a"
             ],
             [
              0.8888888888888888,
              "#fdca26"
             ],
             [
              1,
              "#f0f921"
             ]
            ],
            "type": "histogram2dcontour"
           }
          ],
          "mesh3d": [
           {
            "colorbar": {
             "outlinewidth": 0,
             "ticks": ""
            },
            "type": "mesh3d"
           }
          ],
          "parcoords": [
           {
            "line": {
             "colorbar": {
              "outlinewidth": 0,
              "ticks": ""
             }
            },
            "type": "parcoords"
           }
          ],
          "pie": [
           {
            "automargin": true,
            "type": "pie"
           }
          ],
          "scatter": [
           {
            "marker": {
             "colorbar": {
              "outlinewidth": 0,
              "ticks": ""
             }
            },
            "type": "scatter"
           }
          ],
          "scatter3d": [
           {
            "line": {
             "colorbar": {
              "outlinewidth": 0,
              "ticks": ""
             }
            },
            "marker": {
             "colorbar": {
              "outlinewidth": 0,
              "ticks": ""
             }
            },
            "type": "scatter3d"
           }
          ],
          "scattercarpet": [
           {
            "marker": {
             "colorbar": {
              "outlinewidth": 0,
              "ticks": ""
             }
            },
            "type": "scattercarpet"
           }
          ],
          "scattergeo": [
           {
            "marker": {
             "colorbar": {
              "outlinewidth": 0,
              "ticks": ""
             }
            },
            "type": "scattergeo"
           }
          ],
          "scattergl": [
           {
            "marker": {
             "colorbar": {
              "outlinewidth": 0,
              "ticks": ""
             }
            },
            "type": "scattergl"
           }
          ],
          "scattermapbox": [
           {
            "marker": {
             "colorbar": {
              "outlinewidth": 0,
              "ticks": ""
             }
            },
            "type": "scattermapbox"
           }
          ],
          "scatterpolar": [
           {
            "marker": {
             "colorbar": {
              "outlinewidth": 0,
              "ticks": ""
             }
            },
            "type": "scatterpolar"
           }
          ],
          "scatterpolargl": [
           {
            "marker": {
             "colorbar": {
              "outlinewidth": 0,
              "ticks": ""
             }
            },
            "type": "scatterpolargl"
           }
          ],
          "scatterternary": [
           {
            "marker": {
             "colorbar": {
              "outlinewidth": 0,
              "ticks": ""
             }
            },
            "type": "scatterternary"
           }
          ],
          "surface": [
           {
            "colorbar": {
             "outlinewidth": 0,
             "ticks": ""
            },
            "colorscale": [
             [
              0,
              "#0d0887"
             ],
             [
              0.1111111111111111,
              "#46039f"
             ],
             [
              0.2222222222222222,
              "#7201a8"
             ],
             [
              0.3333333333333333,
              "#9c179e"
             ],
             [
              0.4444444444444444,
              "#bd3786"
             ],
             [
              0.5555555555555556,
              "#d8576b"
             ],
             [
              0.6666666666666666,
              "#ed7953"
             ],
             [
              0.7777777777777778,
              "#fb9f3a"
             ],
             [
              0.8888888888888888,
              "#fdca26"
             ],
             [
              1,
              "#f0f921"
             ]
            ],
            "type": "surface"
           }
          ],
          "table": [
           {
            "cells": {
             "fill": {
              "color": "#EBF0F8"
             },
             "line": {
              "color": "white"
             }
            },
            "header": {
             "fill": {
              "color": "#C8D4E3"
             },
             "line": {
              "color": "white"
             }
            },
            "type": "table"
           }
          ]
         },
         "layout": {
          "annotationdefaults": {
           "arrowcolor": "#2a3f5f",
           "arrowhead": 0,
           "arrowwidth": 1
          },
          "autotypenumbers": "strict",
          "coloraxis": {
           "colorbar": {
            "outlinewidth": 0,
            "ticks": ""
           }
          },
          "colorscale": {
           "diverging": [
            [
             0,
             "#8e0152"
            ],
            [
             0.1,
             "#c51b7d"
            ],
            [
             0.2,
             "#de77ae"
            ],
            [
             0.3,
             "#f1b6da"
            ],
            [
             0.4,
             "#fde0ef"
            ],
            [
             0.5,
             "#f7f7f7"
            ],
            [
             0.6,
             "#e6f5d0"
            ],
            [
             0.7,
             "#b8e186"
            ],
            [
             0.8,
             "#7fbc41"
            ],
            [
             0.9,
             "#4d9221"
            ],
            [
             1,
             "#276419"
            ]
           ],
           "sequential": [
            [
             0,
             "#0d0887"
            ],
            [
             0.1111111111111111,
             "#46039f"
            ],
            [
             0.2222222222222222,
             "#7201a8"
            ],
            [
             0.3333333333333333,
             "#9c179e"
            ],
            [
             0.4444444444444444,
             "#bd3786"
            ],
            [
             0.5555555555555556,
             "#d8576b"
            ],
            [
             0.6666666666666666,
             "#ed7953"
            ],
            [
             0.7777777777777778,
             "#fb9f3a"
            ],
            [
             0.8888888888888888,
             "#fdca26"
            ],
            [
             1,
             "#f0f921"
            ]
           ],
           "sequentialminus": [
            [
             0,
             "#0d0887"
            ],
            [
             0.1111111111111111,
             "#46039f"
            ],
            [
             0.2222222222222222,
             "#7201a8"
            ],
            [
             0.3333333333333333,
             "#9c179e"
            ],
            [
             0.4444444444444444,
             "#bd3786"
            ],
            [
             0.5555555555555556,
             "#d8576b"
            ],
            [
             0.6666666666666666,
             "#ed7953"
            ],
            [
             0.7777777777777778,
             "#fb9f3a"
            ],
            [
             0.8888888888888888,
             "#fdca26"
            ],
            [
             1,
             "#f0f921"
            ]
           ]
          },
          "colorway": [
           "#636efa",
           "#EF553B",
           "#00cc96",
           "#ab63fa",
           "#FFA15A",
           "#19d3f3",
           "#FF6692",
           "#B6E880",
           "#FF97FF",
           "#FECB52"
          ],
          "font": {
           "color": "#2a3f5f"
          },
          "geo": {
           "bgcolor": "white",
           "lakecolor": "white",
           "landcolor": "#E5ECF6",
           "showlakes": true,
           "showland": true,
           "subunitcolor": "white"
          },
          "hoverlabel": {
           "align": "left"
          },
          "hovermode": "closest",
          "mapbox": {
           "style": "light"
          },
          "paper_bgcolor": "white",
          "plot_bgcolor": "#E5ECF6",
          "polar": {
           "angularaxis": {
            "gridcolor": "white",
            "linecolor": "white",
            "ticks": ""
           },
           "bgcolor": "#E5ECF6",
           "radialaxis": {
            "gridcolor": "white",
            "linecolor": "white",
            "ticks": ""
           }
          },
          "scene": {
           "xaxis": {
            "backgroundcolor": "#E5ECF6",
            "gridcolor": "white",
            "gridwidth": 2,
            "linecolor": "white",
            "showbackground": true,
            "ticks": "",
            "zerolinecolor": "white"
           },
           "yaxis": {
            "backgroundcolor": "#E5ECF6",
            "gridcolor": "white",
            "gridwidth": 2,
            "linecolor": "white",
            "showbackground": true,
            "ticks": "",
            "zerolinecolor": "white"
           },
           "zaxis": {
            "backgroundcolor": "#E5ECF6",
            "gridcolor": "white",
            "gridwidth": 2,
            "linecolor": "white",
            "showbackground": true,
            "ticks": "",
            "zerolinecolor": "white"
           }
          },
          "shapedefaults": {
           "line": {
            "color": "#2a3f5f"
           }
          },
          "ternary": {
           "aaxis": {
            "gridcolor": "white",
            "linecolor": "white",
            "ticks": ""
           },
           "baxis": {
            "gridcolor": "white",
            "linecolor": "white",
            "ticks": ""
           },
           "bgcolor": "#E5ECF6",
           "caxis": {
            "gridcolor": "white",
            "linecolor": "white",
            "ticks": ""
           }
          },
          "title": {
           "x": 0.05
          },
          "xaxis": {
           "automargin": true,
           "gridcolor": "white",
           "linecolor": "white",
           "ticks": "",
           "title": {
            "standoff": 15
           },
           "zerolinecolor": "white",
           "zerolinewidth": 2
          },
          "yaxis": {
           "automargin": true,
           "gridcolor": "white",
           "linecolor": "white",
           "ticks": "",
           "title": {
            "standoff": 15
           },
           "zerolinecolor": "white",
           "zerolinewidth": 2
          }
         }
        },
        "title": {
         "text": "세종 전국"
        },
        "width": 800,
        "xaxis": {
         "anchor": "y",
         "domain": [
          0,
          0.45
         ]
        },
        "xaxis2": {
         "anchor": "y2",
         "domain": [
          0.55,
          1
         ]
        },
        "yaxis": {
         "anchor": "x",
         "domain": [
          0,
          1
         ]
        },
        "yaxis2": {
         "anchor": "x2",
         "domain": [
          0,
          1
         ]
        }
       }
      },
      "text/html": [
       "<div>                            <div id=\"143fe8b8-f2c2-43c1-901b-d7658f77230c\" class=\"plotly-graph-div\" style=\"height:600px; width:800px;\"></div>            <script type=\"text/javascript\">                require([\"plotly\"], function(Plotly) {                    window.PLOTLYENV=window.PLOTLYENV || {};                                    if (document.getElementById(\"143fe8b8-f2c2-43c1-901b-d7658f77230c\")) {                    Plotly.newPlot(                        \"143fe8b8-f2c2-43c1-901b-d7658f77230c\",                        [{\"name\": \"\\uc138\\uc885\", \"type\": \"scatter\", \"x\": [\"2020\\ub144 01\\uc6d413\\uc77c\", \"2020\\ub144 01\\uc6d420\\uc77c\", \"2020\\ub144 01\\uc6d427\\uc77c\", \"2020\\ub144 02\\uc6d403\\uc77c\", \"2020\\ub144 02\\uc6d410\\uc77c\", \"2020\\ub144 02\\uc6d417\\uc77c\", \"2020\\ub144 02\\uc6d424\\uc77c\", \"2020\\ub144 03\\uc6d402\\uc77c\", \"2020\\ub144 03\\uc6d409\\uc77c\", \"2020\\ub144 03\\uc6d416\\uc77c\", \"2020\\ub144 03\\uc6d423\\uc77c\", \"2020\\ub144 03\\uc6d430\\uc77c\", \"2020\\ub144 04\\uc6d406\\uc77c\", \"2020\\ub144 04\\uc6d413\\uc77c\", \"2020\\ub144 04\\uc6d420\\uc77c\", \"2020\\ub144 04\\uc6d427\\uc77c\", \"2020\\ub144 05\\uc6d404\\uc77c\", \"2020\\ub144 05\\uc6d411\\uc77c\", \"2020\\ub144 05\\uc6d418\\uc77c\", \"2020\\ub144 05\\uc6d425\\uc77c\", \"2020\\ub144 06\\uc6d401\\uc77c\", \"2020\\ub144 06\\uc6d408\\uc77c\", \"2020\\ub144 06\\uc6d415\\uc77c\", \"2020\\ub144 06\\uc6d422\\uc77c\", \"2020\\ub144 06\\uc6d429\\uc77c\", \"2020\\ub144 07\\uc6d406\\uc77c\", \"2020\\ub144 07\\uc6d413\\uc77c\", \"2020\\ub144 07\\uc6d420\\uc77c\", \"2020\\ub144 07\\uc6d427\\uc77c\", \"2020\\ub144 08\\uc6d403\\uc77c\", \"2020\\ub144 08\\uc6d410\\uc77c\", \"2020\\ub144 08\\uc6d417\\uc77c\", \"2020\\ub144 08\\uc6d424\\uc77c\", \"2020\\ub144 08\\uc6d431\\uc77c\", \"2020\\ub144 09\\uc6d407\\uc77c\", \"2020\\ub144 09\\uc6d414\\uc77c\", \"2020\\ub144 09\\uc6d421\\uc77c\", \"2020\\ub144 09\\uc6d428\\uc77c\", \"2020\\ub144 10\\uc6d405\\uc77c\", \"2020\\ub144 10\\uc6d412\\uc77c\", \"2020\\ub144 10\\uc6d419\\uc77c\", \"2020\\ub144 10\\uc6d426\\uc77c\", \"2020\\ub144 11\\uc6d402\\uc77c\", \"2020\\ub144 11\\uc6d409\\uc77c\", \"2020\\ub144 11\\uc6d416\\uc77c\", \"2020\\ub144 11\\uc6d423\\uc77c\", \"2020\\ub144 11\\uc6d430\\uc77c\", \"2020\\ub144 12\\uc6d407\\uc77c\", \"2020\\ub144 12\\uc6d414\\uc77c\", \"2020\\ub144 12\\uc6d421\\uc77c\", \"2020\\ub144 12\\uc6d428\\uc77c\"], \"xaxis\": \"x\", \"y\": [0.14, 0.34, 0.44, 0.35, 0.71, 1.41, 1.52, 1.02, 0.98, 1.0, 0.27, 0.24, 0.24, 0.18, 0.06, 0.04, 0.08, 0.09, 0.24, 0.28, 0.44, 0.62, 0.98, 1.55, 1.48, 2.06, 1.46, 0.97, 2.95, 2.77, 2.48, 1.59, 0.66, 0.51, 0.47, 0.44, 0.43, 0.42, 0.39, 0.27, 0.25, 0.24, 0.25, 0.25, 0.23, 0.27, 0.27, 0.23, 0.21, 0.26, 0.27], \"yaxis\": \"y\"}, {\"name\": \"\\uc804\\uad6d\", \"type\": \"bar\", \"x\": [\"2015\\ub144 01\\uc6d405\\uc77c\", \"2015\\ub144 01\\uc6d412\\uc77c\", \"2015\\ub144 01\\uc6d419\\uc77c\", \"2015\\ub144 01\\uc6d426\\uc77c\", \"2015\\ub144 02\\uc6d402\\uc77c\", \"2015\\ub144 02\\uc6d409\\uc77c\", \"2015\\ub144 02\\uc6d416\\uc77c\", \"2015\\ub144 02\\uc6d423\\uc77c\", \"2015\\ub144 03\\uc6d402\\uc77c\", \"2015\\ub144 03\\uc6d409\\uc77c\", \"2015\\ub144 03\\uc6d416\\uc77c\", \"2015\\ub144 03\\uc6d423\\uc77c\", \"2015\\ub144 03\\uc6d430\\uc77c\", \"2015\\ub144 04\\uc6d406\\uc77c\", \"2015\\ub144 04\\uc6d413\\uc77c\", \"2015\\ub144 04\\uc6d420\\uc77c\", \"2015\\ub144 04\\uc6d427\\uc77c\", \"2015\\ub144 05\\uc6d404\\uc77c\", \"2015\\ub144 05\\uc6d411\\uc77c\", \"2015\\ub144 05\\uc6d418\\uc77c\", \"2015\\ub144 05\\uc6d425\\uc77c\", \"2015\\ub144 06\\uc6d401\\uc77c\", \"2015\\ub144 06\\uc6d408\\uc77c\", \"2015\\ub144 06\\uc6d415\\uc77c\", \"2015\\ub144 06\\uc6d422\\uc77c\", \"2015\\ub144 06\\uc6d429\\uc77c\", \"2015\\ub144 07\\uc6d406\\uc77c\", \"2015\\ub144 07\\uc6d413\\uc77c\", \"2015\\ub144 07\\uc6d420\\uc77c\", \"2015\\ub144 07\\uc6d427\\uc77c\", \"2015\\ub144 08\\uc6d403\\uc77c\", \"2015\\ub144 08\\uc6d410\\uc77c\", \"2015\\ub144 08\\uc6d417\\uc77c\", \"2015\\ub144 08\\uc6d424\\uc77c\", \"2015\\ub144 08\\uc6d431\\uc77c\", \"2015\\ub144 09\\uc6d407\\uc77c\", \"2015\\ub144 09\\uc6d414\\uc77c\", \"2015\\ub144 09\\uc6d421\\uc77c\", \"2015\\ub144 09\\uc6d428\\uc77c\", \"2015\\ub144 10\\uc6d405\\uc77c\", \"2015\\ub144 10\\uc6d412\\uc77c\", \"2015\\ub144 10\\uc6d419\\uc77c\", \"2015\\ub144 10\\uc6d426\\uc77c\", \"2015\\ub144 11\\uc6d402\\uc77c\", \"2015\\ub144 11\\uc6d409\\uc77c\", \"2015\\ub144 11\\uc6d416\\uc77c\", \"2015\\ub144 11\\uc6d423\\uc77c\", \"2015\\ub144 11\\uc6d430\\uc77c\", \"2015\\ub144 12\\uc6d407\\uc77c\", \"2015\\ub144 12\\uc6d414\\uc77c\", \"2015\\ub144 12\\uc6d421\\uc77c\"], \"xaxis\": \"x2\", \"y\": [0.06, 0.06, 0.06, 0.09, 0.1, 0.11, 0.12, 0.1, 0.13, 0.15, 0.15, 0.16, 0.18, 0.16, 0.17, 0.16, 0.12, 0.12, 0.12, 0.13, 0.14, 0.11, 0.12, 0.12, 0.13, 0.13, 0.1, 0.09, 0.11, 0.11, 0.1, 0.1, 0.1, 0.11, 0.11, 0.12, 0.12, 0.13, 0.12, 0.12, 0.14, 0.13, 0.13, 0.14, 0.11, 0.09, 0.08, 0.05, 0.05, 0.03, 0.01], \"yaxis\": \"y2\"}],                        {\"height\": 600, \"template\": {\"data\": {\"bar\": [{\"error_x\": {\"color\": \"#2a3f5f\"}, \"error_y\": {\"color\": \"#2a3f5f\"}, \"marker\": {\"line\": {\"color\": \"#E5ECF6\", \"width\": 0.5}}, \"type\": \"bar\"}], \"barpolar\": [{\"marker\": {\"line\": {\"color\": \"#E5ECF6\", \"width\": 0.5}}, \"type\": \"barpolar\"}], \"carpet\": [{\"aaxis\": {\"endlinecolor\": \"#2a3f5f\", \"gridcolor\": \"white\", \"linecolor\": \"white\", \"minorgridcolor\": \"white\", \"startlinecolor\": \"#2a3f5f\"}, \"baxis\": {\"endlinecolor\": \"#2a3f5f\", \"gridcolor\": \"white\", \"linecolor\": \"white\", \"minorgridcolor\": \"white\", \"startlinecolor\": \"#2a3f5f\"}, \"type\": \"carpet\"}], \"choropleth\": [{\"colorbar\": {\"outlinewidth\": 0, \"ticks\": \"\"}, \"type\": \"choropleth\"}], \"contour\": [{\"colorbar\": {\"outlinewidth\": 0, \"ticks\": \"\"}, \"colorscale\": [[0.0, \"#0d0887\"], [0.1111111111111111, \"#46039f\"], [0.2222222222222222, \"#7201a8\"], [0.3333333333333333, \"#9c179e\"], [0.4444444444444444, \"#bd3786\"], [0.5555555555555556, \"#d8576b\"], [0.6666666666666666, \"#ed7953\"], [0.7777777777777778, \"#fb9f3a\"], [0.8888888888888888, \"#fdca26\"], [1.0, \"#f0f921\"]], \"type\": \"contour\"}], \"contourcarpet\": [{\"colorbar\": {\"outlinewidth\": 0, \"ticks\": \"\"}, \"type\": \"contourcarpet\"}], \"heatmap\": [{\"colorbar\": {\"outlinewidth\": 0, \"ticks\": \"\"}, \"colorscale\": [[0.0, \"#0d0887\"], [0.1111111111111111, \"#46039f\"], [0.2222222222222222, \"#7201a8\"], [0.3333333333333333, \"#9c179e\"], [0.4444444444444444, \"#bd3786\"], [0.5555555555555556, \"#d8576b\"], [0.6666666666666666, \"#ed7953\"], [0.7777777777777778, \"#fb9f3a\"], [0.8888888888888888, \"#fdca26\"], [1.0, \"#f0f921\"]], \"type\": \"heatmap\"}], \"heatmapgl\": [{\"colorbar\": {\"outlinewidth\": 0, \"ticks\": \"\"}, \"colorscale\": [[0.0, \"#0d0887\"], [0.1111111111111111, \"#46039f\"], [0.2222222222222222, \"#7201a8\"], [0.3333333333333333, \"#9c179e\"], [0.4444444444444444, \"#bd3786\"], [0.5555555555555556, \"#d8576b\"], [0.6666666666666666, \"#ed7953\"], [0.7777777777777778, \"#fb9f3a\"], [0.8888888888888888, \"#fdca26\"], [1.0, \"#f0f921\"]], \"type\": \"heatmapgl\"}], \"histogram\": [{\"marker\": {\"colorbar\": {\"outlinewidth\": 0, \"ticks\": \"\"}}, \"type\": \"histogram\"}], \"histogram2d\": [{\"colorbar\": {\"outlinewidth\": 0, \"ticks\": \"\"}, \"colorscale\": [[0.0, \"#0d0887\"], [0.1111111111111111, \"#46039f\"], [0.2222222222222222, \"#7201a8\"], [0.3333333333333333, \"#9c179e\"], [0.4444444444444444, \"#bd3786\"], [0.5555555555555556, \"#d8576b\"], [0.6666666666666666, \"#ed7953\"], [0.7777777777777778, \"#fb9f3a\"], [0.8888888888888888, \"#fdca26\"], [1.0, \"#f0f921\"]], \"type\": \"histogram2d\"}], \"histogram2dcontour\": [{\"colorbar\": {\"outlinewidth\": 0, \"ticks\": \"\"}, \"colorscale\": [[0.0, \"#0d0887\"], [0.1111111111111111, \"#46039f\"], [0.2222222222222222, \"#7201a8\"], [0.3333333333333333, \"#9c179e\"], [0.4444444444444444, \"#bd3786\"], [0.5555555555555556, \"#d8576b\"], [0.6666666666666666, \"#ed7953\"], [0.7777777777777778, \"#fb9f3a\"], [0.8888888888888888, \"#fdca26\"], [1.0, \"#f0f921\"]], \"type\": \"histogram2dcontour\"}], \"mesh3d\": [{\"colorbar\": {\"outlinewidth\": 0, \"ticks\": \"\"}, \"type\": \"mesh3d\"}], \"parcoords\": [{\"line\": {\"colorbar\": {\"outlinewidth\": 0, \"ticks\": \"\"}}, \"type\": \"parcoords\"}], \"pie\": [{\"automargin\": true, \"type\": \"pie\"}], \"scatter\": [{\"marker\": {\"colorbar\": {\"outlinewidth\": 0, \"ticks\": \"\"}}, \"type\": \"scatter\"}], \"scatter3d\": [{\"line\": {\"colorbar\": {\"outlinewidth\": 0, \"ticks\": \"\"}}, \"marker\": {\"colorbar\": {\"outlinewidth\": 0, \"ticks\": \"\"}}, \"type\": \"scatter3d\"}], \"scattercarpet\": [{\"marker\": {\"colorbar\": {\"outlinewidth\": 0, \"ticks\": \"\"}}, \"type\": \"scattercarpet\"}], \"scattergeo\": [{\"marker\": {\"colorbar\": {\"outlinewidth\": 0, \"ticks\": \"\"}}, \"type\": \"scattergeo\"}], \"scattergl\": [{\"marker\": {\"colorbar\": {\"outlinewidth\": 0, \"ticks\": \"\"}}, \"type\": \"scattergl\"}], \"scattermapbox\": [{\"marker\": {\"colorbar\": {\"outlinewidth\": 0, \"ticks\": \"\"}}, \"type\": \"scattermapbox\"}], \"scatterpolar\": [{\"marker\": {\"colorbar\": {\"outlinewidth\": 0, \"ticks\": \"\"}}, \"type\": \"scatterpolar\"}], \"scatterpolargl\": [{\"marker\": {\"colorbar\": {\"outlinewidth\": 0, \"ticks\": \"\"}}, \"type\": \"scatterpolargl\"}], \"scatterternary\": [{\"marker\": {\"colorbar\": {\"outlinewidth\": 0, \"ticks\": \"\"}}, \"type\": \"scatterternary\"}], \"surface\": [{\"colorbar\": {\"outlinewidth\": 0, \"ticks\": \"\"}, \"colorscale\": [[0.0, \"#0d0887\"], [0.1111111111111111, \"#46039f\"], [0.2222222222222222, \"#7201a8\"], [0.3333333333333333, \"#9c179e\"], [0.4444444444444444, \"#bd3786\"], [0.5555555555555556, \"#d8576b\"], [0.6666666666666666, \"#ed7953\"], [0.7777777777777778, \"#fb9f3a\"], [0.8888888888888888, \"#fdca26\"], [1.0, \"#f0f921\"]], \"type\": \"surface\"}], \"table\": [{\"cells\": {\"fill\": {\"color\": \"#EBF0F8\"}, \"line\": {\"color\": \"white\"}}, \"header\": {\"fill\": {\"color\": \"#C8D4E3\"}, \"line\": {\"color\": \"white\"}}, \"type\": \"table\"}]}, \"layout\": {\"annotationdefaults\": {\"arrowcolor\": \"#2a3f5f\", \"arrowhead\": 0, \"arrowwidth\": 1}, \"autotypenumbers\": \"strict\", \"coloraxis\": {\"colorbar\": {\"outlinewidth\": 0, \"ticks\": \"\"}}, \"colorscale\": {\"diverging\": [[0, \"#8e0152\"], [0.1, \"#c51b7d\"], [0.2, \"#de77ae\"], [0.3, \"#f1b6da\"], [0.4, \"#fde0ef\"], [0.5, \"#f7f7f7\"], [0.6, \"#e6f5d0\"], [0.7, \"#b8e186\"], [0.8, \"#7fbc41\"], [0.9, \"#4d9221\"], [1, \"#276419\"]], \"sequential\": [[0.0, \"#0d0887\"], [0.1111111111111111, \"#46039f\"], [0.2222222222222222, \"#7201a8\"], [0.3333333333333333, \"#9c179e\"], [0.4444444444444444, \"#bd3786\"], [0.5555555555555556, \"#d8576b\"], [0.6666666666666666, \"#ed7953\"], [0.7777777777777778, \"#fb9f3a\"], [0.8888888888888888, \"#fdca26\"], [1.0, \"#f0f921\"]], \"sequentialminus\": [[0.0, \"#0d0887\"], [0.1111111111111111, \"#46039f\"], [0.2222222222222222, \"#7201a8\"], [0.3333333333333333, \"#9c179e\"], [0.4444444444444444, \"#bd3786\"], [0.5555555555555556, \"#d8576b\"], [0.6666666666666666, \"#ed7953\"], [0.7777777777777778, \"#fb9f3a\"], [0.8888888888888888, \"#fdca26\"], [1.0, \"#f0f921\"]]}, \"colorway\": [\"#636efa\", \"#EF553B\", \"#00cc96\", \"#ab63fa\", \"#FFA15A\", \"#19d3f3\", \"#FF6692\", \"#B6E880\", \"#FF97FF\", \"#FECB52\"], \"font\": {\"color\": \"#2a3f5f\"}, \"geo\": {\"bgcolor\": \"white\", \"lakecolor\": \"white\", \"landcolor\": \"#E5ECF6\", \"showlakes\": true, \"showland\": true, \"subunitcolor\": \"white\"}, \"hoverlabel\": {\"align\": \"left\"}, \"hovermode\": \"closest\", \"mapbox\": {\"style\": \"light\"}, \"paper_bgcolor\": \"white\", \"plot_bgcolor\": \"#E5ECF6\", \"polar\": {\"angularaxis\": {\"gridcolor\": \"white\", \"linecolor\": \"white\", \"ticks\": \"\"}, \"bgcolor\": \"#E5ECF6\", \"radialaxis\": {\"gridcolor\": \"white\", \"linecolor\": \"white\", \"ticks\": \"\"}}, \"scene\": {\"xaxis\": {\"backgroundcolor\": \"#E5ECF6\", \"gridcolor\": \"white\", \"gridwidth\": 2, \"linecolor\": \"white\", \"showbackground\": true, \"ticks\": \"\", \"zerolinecolor\": \"white\"}, \"yaxis\": {\"backgroundcolor\": \"#E5ECF6\", \"gridcolor\": \"white\", \"gridwidth\": 2, \"linecolor\": \"white\", \"showbackground\": true, \"ticks\": \"\", \"zerolinecolor\": \"white\"}, \"zaxis\": {\"backgroundcolor\": \"#E5ECF6\", \"gridcolor\": \"white\", \"gridwidth\": 2, \"linecolor\": \"white\", \"showbackground\": true, \"ticks\": \"\", \"zerolinecolor\": \"white\"}}, \"shapedefaults\": {\"line\": {\"color\": \"#2a3f5f\"}}, \"ternary\": {\"aaxis\": {\"gridcolor\": \"white\", \"linecolor\": \"white\", \"ticks\": \"\"}, \"baxis\": {\"gridcolor\": \"white\", \"linecolor\": \"white\", \"ticks\": \"\"}, \"bgcolor\": \"#E5ECF6\", \"caxis\": {\"gridcolor\": \"white\", \"linecolor\": \"white\", \"ticks\": \"\"}}, \"title\": {\"x\": 0.05}, \"xaxis\": {\"automargin\": true, \"gridcolor\": \"white\", \"linecolor\": \"white\", \"ticks\": \"\", \"title\": {\"standoff\": 15}, \"zerolinecolor\": \"white\", \"zerolinewidth\": 2}, \"yaxis\": {\"automargin\": true, \"gridcolor\": \"white\", \"linecolor\": \"white\", \"ticks\": \"\", \"title\": {\"standoff\": 15}, \"zerolinecolor\": \"white\", \"zerolinewidth\": 2}}}, \"title\": {\"text\": \"\\uc138\\uc885 \\uc804\\uad6d\"}, \"width\": 800, \"xaxis\": {\"anchor\": \"y\", \"domain\": [0.0, 0.45]}, \"xaxis2\": {\"anchor\": \"y2\", \"domain\": [0.55, 1.0]}, \"yaxis\": {\"anchor\": \"x\", \"domain\": [0.0, 1.0]}, \"yaxis2\": {\"anchor\": \"x2\", \"domain\": [0.0, 1.0]}},                        {\"responsive\": true}                    ).then(function(){\n",
       "                            \n",
       "var gd = document.getElementById('143fe8b8-f2c2-43c1-901b-d7658f77230c');\n",
       "var x = new MutationObserver(function (mutations, observer) {{\n",
       "        var display = window.getComputedStyle(gd).display;\n",
       "        if (!display || display === 'none') {{\n",
       "            console.log([gd, 'removed!']);\n",
       "            Plotly.purge(gd);\n",
       "            observer.disconnect();\n",
       "        }}\n",
       "}});\n",
       "\n",
       "// Listen for the removal of the full notebook cells\n",
       "var notebookContainer = gd.closest('#notebook-container');\n",
       "if (notebookContainer) {{\n",
       "    x.observe(notebookContainer, {childList: true});\n",
       "}}\n",
       "\n",
       "// Listen for the clearing of the current output cell\n",
       "var outputEl = gd.closest('.output');\n",
       "if (outputEl) {{\n",
       "    x.observe(outputEl, {childList: true});\n",
       "}}\n",
       "\n",
       "                        })                };                });            </script>        </div>"
      ]
     },
     "metadata": {},
     "output_type": "display_data"
    }
   ],
   "source": [
    "from plotly.subplots import make_subplots\n",
    "import plotly.graph_objects as go\n",
    "\n",
    "fig2 = make_subplots(rows=1, cols=2)\n",
    "\n",
    "fig2.add_trace(\n",
    "    go.Scatter(x=apart.index, y=apart.values,name=\"세종\"),\n",
    "    row=1, col=1\n",
    ")\n",
    "\n",
    "fig2.add_trace(\n",
    "    go.Bar(x=apart2.index, y=apart2.values,name=\"전국\"),\n",
    "    row=1, col=2\n",
    ")\n",
    "\n",
    "fig2.update_layout(height=600, width=800, title_text=\"세종 전국\")\n",
    "fig2.show()"
   ]
  },
  {
   "cell_type": "code",
   "execution_count": 30,
   "metadata": {},
   "outputs": [
    {
     "data": {
      "application/vnd.plotly.v1+json": {
       "config": {
        "plotlyServerURL": "https://plot.ly"
       },
       "data": [
        {
         "hovertemplate": "variable=세종<br>index=%{x}<br>value=%{y}<extra></extra>",
         "legendgroup": "세종",
         "line": {
          "color": "#636efa",
          "dash": "solid"
         },
         "mode": "lines",
         "name": "세종",
         "orientation": "v",
         "showlegend": true,
         "type": "scatter",
         "x": [
          "2015년 01월05일",
          "2015년 01월12일",
          "2015년 01월19일",
          "2015년 01월26일",
          "2015년 02월02일",
          "2015년 02월09일",
          "2015년 02월16일",
          "2015년 02월23일",
          "2015년 03월02일",
          "2015년 03월09일",
          "2015년 03월16일",
          "2015년 03월23일",
          "2015년 03월30일",
          "2015년 04월06일",
          "2015년 04월13일",
          "2015년 04월20일",
          "2015년 04월27일",
          "2015년 05월04일",
          "2015년 05월11일",
          "2015년 05월18일",
          "2015년 05월25일",
          "2015년 06월01일",
          "2015년 06월08일",
          "2015년 06월15일",
          "2015년 06월22일",
          "2015년 06월29일",
          "2015년 07월06일",
          "2015년 07월13일",
          "2015년 07월20일",
          "2015년 07월27일",
          "2015년 08월03일",
          "2015년 08월10일",
          "2015년 08월17일",
          "2015년 08월24일",
          "2015년 08월31일",
          "2015년 09월07일",
          "2015년 09월14일",
          "2015년 09월21일",
          "2015년 09월28일",
          "2015년 10월05일",
          "2015년 10월12일",
          "2015년 10월19일",
          "2015년 10월26일",
          "2015년 11월02일",
          "2015년 11월09일",
          "2015년 11월16일",
          "2015년 11월23일",
          "2015년 11월30일",
          "2015년 12월07일",
          "2015년 12월14일",
          "2015년 12월21일"
         ],
         "xaxis": "x",
         "y": [
          -0.02,
          -0.03,
          -0.02,
          -0.13,
          0,
          0.01,
          0,
          -0.04,
          -0.02,
          0,
          0,
          0,
          -0.05,
          -0.02,
          -0.06,
          0,
          0.02,
          -0.06,
          -0.03,
          0,
          -0.1,
          -0.03,
          -0.1,
          -0.03,
          -0.02,
          -0.02,
          0.04,
          0.03,
          0.01,
          -0.04,
          0.01,
          -0.02,
          -0.01,
          -0.02,
          -0.01,
          0.01,
          -0.04,
          -0.01,
          -0.01,
          0.01,
          0.02,
          0,
          -0.02,
          0.02,
          -0.03,
          -0.02,
          0.03,
          -0.03,
          -0.05,
          -0.04,
          -0.04
         ],
         "yaxis": "y"
        },
        {
         "name": "Last year",
         "type": "bar",
         "x": [
          "2015년 01월05일",
          "2015년 01월12일",
          "2015년 01월19일",
          "2015년 01월26일",
          "2015년 02월02일",
          "2015년 02월09일",
          "2015년 02월16일",
          "2015년 02월23일",
          "2015년 03월02일",
          "2015년 03월09일",
          "2015년 03월16일",
          "2015년 03월23일",
          "2015년 03월30일",
          "2015년 04월06일",
          "2015년 04월13일",
          "2015년 04월20일",
          "2015년 04월27일",
          "2015년 05월04일",
          "2015년 05월11일",
          "2015년 05월18일",
          "2015년 05월25일",
          "2015년 06월01일",
          "2015년 06월08일",
          "2015년 06월15일",
          "2015년 06월22일",
          "2015년 06월29일",
          "2015년 07월06일",
          "2015년 07월13일",
          "2015년 07월20일",
          "2015년 07월27일",
          "2015년 08월03일",
          "2015년 08월10일",
          "2015년 08월17일",
          "2015년 08월24일",
          "2015년 08월31일",
          "2015년 09월07일",
          "2015년 09월14일",
          "2015년 09월21일",
          "2015년 09월28일",
          "2015년 10월05일",
          "2015년 10월12일",
          "2015년 10월19일",
          "2015년 10월26일",
          "2015년 11월02일",
          "2015년 11월09일",
          "2015년 11월16일",
          "2015년 11월23일",
          "2015년 11월30일",
          "2015년 12월07일",
          "2015년 12월14일",
          "2015년 12월21일"
         ],
         "y": [
          0.06,
          0.06,
          0.06,
          0.09,
          0.1,
          0.11,
          0.12,
          0.1,
          0.13,
          0.15,
          0.15,
          0.16,
          0.18,
          0.16,
          0.17,
          0.16,
          0.12,
          0.12,
          0.12,
          0.13,
          0.14,
          0.11,
          0.12,
          0.12,
          0.13,
          0.13,
          0.1,
          0.09,
          0.11,
          0.11,
          0.1,
          0.1,
          0.1,
          0.11,
          0.11,
          0.12,
          0.12,
          0.13,
          0.12,
          0.12,
          0.14,
          0.13,
          0.13,
          0.14,
          0.11,
          0.09,
          0.08,
          0.05,
          0.05,
          0.03,
          0.01
         ]
        }
       ],
       "layout": {
        "hovermode": "x unified",
        "legend": {
         "title": {
          "text": "지역"
         },
         "tracegroupgap": 0
        },
        "margin": {
         "t": 60
        },
        "template": {
         "data": {
          "bar": [
           {
            "error_x": {
             "color": "#2a3f5f"
            },
            "error_y": {
             "color": "#2a3f5f"
            },
            "marker": {
             "line": {
              "color": "#E5ECF6",
              "width": 0.5
             }
            },
            "type": "bar"
           }
          ],
          "barpolar": [
           {
            "marker": {
             "line": {
              "color": "#E5ECF6",
              "width": 0.5
             }
            },
            "type": "barpolar"
           }
          ],
          "carpet": [
           {
            "aaxis": {
             "endlinecolor": "#2a3f5f",
             "gridcolor": "white",
             "linecolor": "white",
             "minorgridcolor": "white",
             "startlinecolor": "#2a3f5f"
            },
            "baxis": {
             "endlinecolor": "#2a3f5f",
             "gridcolor": "white",
             "linecolor": "white",
             "minorgridcolor": "white",
             "startlinecolor": "#2a3f5f"
            },
            "type": "carpet"
           }
          ],
          "choropleth": [
           {
            "colorbar": {
             "outlinewidth": 0,
             "ticks": ""
            },
            "type": "choropleth"
           }
          ],
          "contour": [
           {
            "colorbar": {
             "outlinewidth": 0,
             "ticks": ""
            },
            "colorscale": [
             [
              0,
              "#0d0887"
             ],
             [
              0.1111111111111111,
              "#46039f"
             ],
             [
              0.2222222222222222,
              "#7201a8"
             ],
             [
              0.3333333333333333,
              "#9c179e"
             ],
             [
              0.4444444444444444,
              "#bd3786"
             ],
             [
              0.5555555555555556,
              "#d8576b"
             ],
             [
              0.6666666666666666,
              "#ed7953"
             ],
             [
              0.7777777777777778,
              "#fb9f3a"
             ],
             [
              0.8888888888888888,
              "#fdca26"
             ],
             [
              1,
              "#f0f921"
             ]
            ],
            "type": "contour"
           }
          ],
          "contourcarpet": [
           {
            "colorbar": {
             "outlinewidth": 0,
             "ticks": ""
            },
            "type": "contourcarpet"
           }
          ],
          "heatmap": [
           {
            "colorbar": {
             "outlinewidth": 0,
             "ticks": ""
            },
            "colorscale": [
             [
              0,
              "#0d0887"
             ],
             [
              0.1111111111111111,
              "#46039f"
             ],
             [
              0.2222222222222222,
              "#7201a8"
             ],
             [
              0.3333333333333333,
              "#9c179e"
             ],
             [
              0.4444444444444444,
              "#bd3786"
             ],
             [
              0.5555555555555556,
              "#d8576b"
             ],
             [
              0.6666666666666666,
              "#ed7953"
             ],
             [
              0.7777777777777778,
              "#fb9f3a"
             ],
             [
              0.8888888888888888,
              "#fdca26"
             ],
             [
              1,
              "#f0f921"
             ]
            ],
            "type": "heatmap"
           }
          ],
          "heatmapgl": [
           {
            "colorbar": {
             "outlinewidth": 0,
             "ticks": ""
            },
            "colorscale": [
             [
              0,
              "#0d0887"
             ],
             [
              0.1111111111111111,
              "#46039f"
             ],
             [
              0.2222222222222222,
              "#7201a8"
             ],
             [
              0.3333333333333333,
              "#9c179e"
             ],
             [
              0.4444444444444444,
              "#bd3786"
             ],
             [
              0.5555555555555556,
              "#d8576b"
             ],
             [
              0.6666666666666666,
              "#ed7953"
             ],
             [
              0.7777777777777778,
              "#fb9f3a"
             ],
             [
              0.8888888888888888,
              "#fdca26"
             ],
             [
              1,
              "#f0f921"
             ]
            ],
            "type": "heatmapgl"
           }
          ],
          "histogram": [
           {
            "marker": {
             "colorbar": {
              "outlinewidth": 0,
              "ticks": ""
             }
            },
            "type": "histogram"
           }
          ],
          "histogram2d": [
           {
            "colorbar": {
             "outlinewidth": 0,
             "ticks": ""
            },
            "colorscale": [
             [
              0,
              "#0d0887"
             ],
             [
              0.1111111111111111,
              "#46039f"
             ],
             [
              0.2222222222222222,
              "#7201a8"
             ],
             [
              0.3333333333333333,
              "#9c179e"
             ],
             [
              0.4444444444444444,
              "#bd3786"
             ],
             [
              0.5555555555555556,
              "#d8576b"
             ],
             [
              0.6666666666666666,
              "#ed7953"
             ],
             [
              0.7777777777777778,
              "#fb9f3a"
             ],
             [
              0.8888888888888888,
              "#fdca26"
             ],
             [
              1,
              "#f0f921"
             ]
            ],
            "type": "histogram2d"
           }
          ],
          "histogram2dcontour": [
           {
            "colorbar": {
             "outlinewidth": 0,
             "ticks": ""
            },
            "colorscale": [
             [
              0,
              "#0d0887"
             ],
             [
              0.1111111111111111,
              "#46039f"
             ],
             [
              0.2222222222222222,
              "#7201a8"
             ],
             [
              0.3333333333333333,
              "#9c179e"
             ],
             [
              0.4444444444444444,
              "#bd3786"
             ],
             [
              0.5555555555555556,
              "#d8576b"
             ],
             [
              0.6666666666666666,
              "#ed7953"
             ],
             [
              0.7777777777777778,
              "#fb9f3a"
             ],
             [
              0.8888888888888888,
              "#fdca26"
             ],
             [
              1,
              "#f0f921"
             ]
            ],
            "type": "histogram2dcontour"
           }
          ],
          "mesh3d": [
           {
            "colorbar": {
             "outlinewidth": 0,
             "ticks": ""
            },
            "type": "mesh3d"
           }
          ],
          "parcoords": [
           {
            "line": {
             "colorbar": {
              "outlinewidth": 0,
              "ticks": ""
             }
            },
            "type": "parcoords"
           }
          ],
          "pie": [
           {
            "automargin": true,
            "type": "pie"
           }
          ],
          "scatter": [
           {
            "marker": {
             "colorbar": {
              "outlinewidth": 0,
              "ticks": ""
             }
            },
            "type": "scatter"
           }
          ],
          "scatter3d": [
           {
            "line": {
             "colorbar": {
              "outlinewidth": 0,
              "ticks": ""
             }
            },
            "marker": {
             "colorbar": {
              "outlinewidth": 0,
              "ticks": ""
             }
            },
            "type": "scatter3d"
           }
          ],
          "scattercarpet": [
           {
            "marker": {
             "colorbar": {
              "outlinewidth": 0,
              "ticks": ""
             }
            },
            "type": "scattercarpet"
           }
          ],
          "scattergeo": [
           {
            "marker": {
             "colorbar": {
              "outlinewidth": 0,
              "ticks": ""
             }
            },
            "type": "scattergeo"
           }
          ],
          "scattergl": [
           {
            "marker": {
             "colorbar": {
              "outlinewidth": 0,
              "ticks": ""
             }
            },
            "type": "scattergl"
           }
          ],
          "scattermapbox": [
           {
            "marker": {
             "colorbar": {
              "outlinewidth": 0,
              "ticks": ""
             }
            },
            "type": "scattermapbox"
           }
          ],
          "scatterpolar": [
           {
            "marker": {
             "colorbar": {
              "outlinewidth": 0,
              "ticks": ""
             }
            },
            "type": "scatterpolar"
           }
          ],
          "scatterpolargl": [
           {
            "marker": {
             "colorbar": {
              "outlinewidth": 0,
              "ticks": ""
             }
            },
            "type": "scatterpolargl"
           }
          ],
          "scatterternary": [
           {
            "marker": {
             "colorbar": {
              "outlinewidth": 0,
              "ticks": ""
             }
            },
            "type": "scatterternary"
           }
          ],
          "surface": [
           {
            "colorbar": {
             "outlinewidth": 0,
             "ticks": ""
            },
            "colorscale": [
             [
              0,
              "#0d0887"
             ],
             [
              0.1111111111111111,
              "#46039f"
             ],
             [
              0.2222222222222222,
              "#7201a8"
             ],
             [
              0.3333333333333333,
              "#9c179e"
             ],
             [
              0.4444444444444444,
              "#bd3786"
             ],
             [
              0.5555555555555556,
              "#d8576b"
             ],
             [
              0.6666666666666666,
              "#ed7953"
             ],
             [
              0.7777777777777778,
              "#fb9f3a"
             ],
             [
              0.8888888888888888,
              "#fdca26"
             ],
             [
              1,
              "#f0f921"
             ]
            ],
            "type": "surface"
           }
          ],
          "table": [
           {
            "cells": {
             "fill": {
              "color": "#EBF0F8"
             },
             "line": {
              "color": "white"
             }
            },
            "header": {
             "fill": {
              "color": "#C8D4E3"
             },
             "line": {
              "color": "white"
             }
            },
            "type": "table"
           }
          ]
         },
         "layout": {
          "annotationdefaults": {
           "arrowcolor": "#2a3f5f",
           "arrowhead": 0,
           "arrowwidth": 1
          },
          "autotypenumbers": "strict",
          "coloraxis": {
           "colorbar": {
            "outlinewidth": 0,
            "ticks": ""
           }
          },
          "colorscale": {
           "diverging": [
            [
             0,
             "#8e0152"
            ],
            [
             0.1,
             "#c51b7d"
            ],
            [
             0.2,
             "#de77ae"
            ],
            [
             0.3,
             "#f1b6da"
            ],
            [
             0.4,
             "#fde0ef"
            ],
            [
             0.5,
             "#f7f7f7"
            ],
            [
             0.6,
             "#e6f5d0"
            ],
            [
             0.7,
             "#b8e186"
            ],
            [
             0.8,
             "#7fbc41"
            ],
            [
             0.9,
             "#4d9221"
            ],
            [
             1,
             "#276419"
            ]
           ],
           "sequential": [
            [
             0,
             "#0d0887"
            ],
            [
             0.1111111111111111,
             "#46039f"
            ],
            [
             0.2222222222222222,
             "#7201a8"
            ],
            [
             0.3333333333333333,
             "#9c179e"
            ],
            [
             0.4444444444444444,
             "#bd3786"
            ],
            [
             0.5555555555555556,
             "#d8576b"
            ],
            [
             0.6666666666666666,
             "#ed7953"
            ],
            [
             0.7777777777777778,
             "#fb9f3a"
            ],
            [
             0.8888888888888888,
             "#fdca26"
            ],
            [
             1,
             "#f0f921"
            ]
           ],
           "sequentialminus": [
            [
             0,
             "#0d0887"
            ],
            [
             0.1111111111111111,
             "#46039f"
            ],
            [
             0.2222222222222222,
             "#7201a8"
            ],
            [
             0.3333333333333333,
             "#9c179e"
            ],
            [
             0.4444444444444444,
             "#bd3786"
            ],
            [
             0.5555555555555556,
             "#d8576b"
            ],
            [
             0.6666666666666666,
             "#ed7953"
            ],
            [
             0.7777777777777778,
             "#fb9f3a"
            ],
            [
             0.8888888888888888,
             "#fdca26"
            ],
            [
             1,
             "#f0f921"
            ]
           ]
          },
          "colorway": [
           "#636efa",
           "#EF553B",
           "#00cc96",
           "#ab63fa",
           "#FFA15A",
           "#19d3f3",
           "#FF6692",
           "#B6E880",
           "#FF97FF",
           "#FECB52"
          ],
          "font": {
           "color": "#2a3f5f"
          },
          "geo": {
           "bgcolor": "white",
           "lakecolor": "white",
           "landcolor": "#E5ECF6",
           "showlakes": true,
           "showland": true,
           "subunitcolor": "white"
          },
          "hoverlabel": {
           "align": "left"
          },
          "hovermode": "closest",
          "mapbox": {
           "style": "light"
          },
          "paper_bgcolor": "white",
          "plot_bgcolor": "#E5ECF6",
          "polar": {
           "angularaxis": {
            "gridcolor": "white",
            "linecolor": "white",
            "ticks": ""
           },
           "bgcolor": "#E5ECF6",
           "radialaxis": {
            "gridcolor": "white",
            "linecolor": "white",
            "ticks": ""
           }
          },
          "scene": {
           "xaxis": {
            "backgroundcolor": "#E5ECF6",
            "gridcolor": "white",
            "gridwidth": 2,
            "linecolor": "white",
            "showbackground": true,
            "ticks": "",
            "zerolinecolor": "white"
           },
           "yaxis": {
            "backgroundcolor": "#E5ECF6",
            "gridcolor": "white",
            "gridwidth": 2,
            "linecolor": "white",
            "showbackground": true,
            "ticks": "",
            "zerolinecolor": "white"
           },
           "zaxis": {
            "backgroundcolor": "#E5ECF6",
            "gridcolor": "white",
            "gridwidth": 2,
            "linecolor": "white",
            "showbackground": true,
            "ticks": "",
            "zerolinecolor": "white"
           }
          },
          "shapedefaults": {
           "line": {
            "color": "#2a3f5f"
           }
          },
          "ternary": {
           "aaxis": {
            "gridcolor": "white",
            "linecolor": "white",
            "ticks": ""
           },
           "baxis": {
            "gridcolor": "white",
            "linecolor": "white",
            "ticks": ""
           },
           "bgcolor": "#E5ECF6",
           "caxis": {
            "gridcolor": "white",
            "linecolor": "white",
            "ticks": ""
           }
          },
          "title": {
           "x": 0.05
          },
          "xaxis": {
           "automargin": true,
           "gridcolor": "white",
           "linecolor": "white",
           "ticks": "",
           "title": {
            "standoff": 15
           },
           "zerolinecolor": "white",
           "zerolinewidth": 2
          },
          "yaxis": {
           "automargin": true,
           "gridcolor": "white",
           "linecolor": "white",
           "ticks": "",
           "title": {
            "standoff": 15
           },
           "zerolinecolor": "white",
           "zerolinewidth": 2
          }
         }
        },
        "title": {
         "text": "아파트 매매 지역 월별 상승률",
         "x": 0.5
        },
        "xaxis": {
         "anchor": "y",
         "domain": [
          0,
          1
         ],
         "tickmode": "array",
         "ticktext": [
          "1월",
          "2월",
          "3월",
          "4월",
          "5월",
          "6월",
          "7월",
          "8월",
          "9월",
          "10월",
          "11월",
          "12월",
          "1월",
          "2월",
          "3월",
          "4월",
          "5월",
          "6월",
          "7월",
          "8월",
          "9월",
          "10월",
          "11월",
          "12월"
         ],
         "tickvals": [
          0,
          3,
          7,
          12,
          16,
          20,
          25,
          29,
          34,
          38,
          42,
          47,
          0,
          4,
          8,
          13,
          17,
          21,
          26,
          30,
          35,
          39,
          43,
          48
         ],
         "title": {
          "text": "월별"
         }
        },
        "yaxis": {
         "anchor": "x",
         "domain": [
          0,
          1
         ],
         "title": {
          "text": "상승률"
         }
        }
       }
      },
      "text/html": [
       "<div>                            <div id=\"13dc9e65-fac4-4383-8678-46a28d446d71\" class=\"plotly-graph-div\" style=\"height:525px; width:100%;\"></div>            <script type=\"text/javascript\">                require([\"plotly\"], function(Plotly) {                    window.PLOTLYENV=window.PLOTLYENV || {};                                    if (document.getElementById(\"13dc9e65-fac4-4383-8678-46a28d446d71\")) {                    Plotly.newPlot(                        \"13dc9e65-fac4-4383-8678-46a28d446d71\",                        [{\"hovertemplate\": \"variable=\\uc138\\uc885<br>index=%{x}<br>value=%{y}<extra></extra>\", \"legendgroup\": \"\\uc138\\uc885\", \"line\": {\"color\": \"#636efa\", \"dash\": \"solid\"}, \"mode\": \"lines\", \"name\": \"\\uc138\\uc885\", \"orientation\": \"v\", \"showlegend\": true, \"type\": \"scatter\", \"x\": [\"2015\\ub144 01\\uc6d405\\uc77c\", \"2015\\ub144 01\\uc6d412\\uc77c\", \"2015\\ub144 01\\uc6d419\\uc77c\", \"2015\\ub144 01\\uc6d426\\uc77c\", \"2015\\ub144 02\\uc6d402\\uc77c\", \"2015\\ub144 02\\uc6d409\\uc77c\", \"2015\\ub144 02\\uc6d416\\uc77c\", \"2015\\ub144 02\\uc6d423\\uc77c\", \"2015\\ub144 03\\uc6d402\\uc77c\", \"2015\\ub144 03\\uc6d409\\uc77c\", \"2015\\ub144 03\\uc6d416\\uc77c\", \"2015\\ub144 03\\uc6d423\\uc77c\", \"2015\\ub144 03\\uc6d430\\uc77c\", \"2015\\ub144 04\\uc6d406\\uc77c\", \"2015\\ub144 04\\uc6d413\\uc77c\", \"2015\\ub144 04\\uc6d420\\uc77c\", \"2015\\ub144 04\\uc6d427\\uc77c\", \"2015\\ub144 05\\uc6d404\\uc77c\", \"2015\\ub144 05\\uc6d411\\uc77c\", \"2015\\ub144 05\\uc6d418\\uc77c\", \"2015\\ub144 05\\uc6d425\\uc77c\", \"2015\\ub144 06\\uc6d401\\uc77c\", \"2015\\ub144 06\\uc6d408\\uc77c\", \"2015\\ub144 06\\uc6d415\\uc77c\", \"2015\\ub144 06\\uc6d422\\uc77c\", \"2015\\ub144 06\\uc6d429\\uc77c\", \"2015\\ub144 07\\uc6d406\\uc77c\", \"2015\\ub144 07\\uc6d413\\uc77c\", \"2015\\ub144 07\\uc6d420\\uc77c\", \"2015\\ub144 07\\uc6d427\\uc77c\", \"2015\\ub144 08\\uc6d403\\uc77c\", \"2015\\ub144 08\\uc6d410\\uc77c\", \"2015\\ub144 08\\uc6d417\\uc77c\", \"2015\\ub144 08\\uc6d424\\uc77c\", \"2015\\ub144 08\\uc6d431\\uc77c\", \"2015\\ub144 09\\uc6d407\\uc77c\", \"2015\\ub144 09\\uc6d414\\uc77c\", \"2015\\ub144 09\\uc6d421\\uc77c\", \"2015\\ub144 09\\uc6d428\\uc77c\", \"2015\\ub144 10\\uc6d405\\uc77c\", \"2015\\ub144 10\\uc6d412\\uc77c\", \"2015\\ub144 10\\uc6d419\\uc77c\", \"2015\\ub144 10\\uc6d426\\uc77c\", \"2015\\ub144 11\\uc6d402\\uc77c\", \"2015\\ub144 11\\uc6d409\\uc77c\", \"2015\\ub144 11\\uc6d416\\uc77c\", \"2015\\ub144 11\\uc6d423\\uc77c\", \"2015\\ub144 11\\uc6d430\\uc77c\", \"2015\\ub144 12\\uc6d407\\uc77c\", \"2015\\ub144 12\\uc6d414\\uc77c\", \"2015\\ub144 12\\uc6d421\\uc77c\"], \"xaxis\": \"x\", \"y\": [-0.02, -0.03, -0.02, -0.13, 0.0, 0.01, 0.0, -0.04, -0.02, 0.0, 0.0, 0.0, -0.05, -0.02, -0.06, 0.0, 0.02, -0.06, -0.03, 0.0, -0.1, -0.03, -0.1, -0.03, -0.02, -0.02, 0.04, 0.03, 0.01, -0.04, 0.01, -0.02, -0.01, -0.02, -0.01, 0.01, -0.04, -0.01, -0.01, 0.01, 0.02, 0.0, -0.02, 0.02, -0.03, -0.02, 0.03, -0.03, -0.05, -0.04, -0.04], \"yaxis\": \"y\"}, {\"name\": \"Last year\", \"type\": \"bar\", \"x\": [\"2015\\ub144 01\\uc6d405\\uc77c\", \"2015\\ub144 01\\uc6d412\\uc77c\", \"2015\\ub144 01\\uc6d419\\uc77c\", \"2015\\ub144 01\\uc6d426\\uc77c\", \"2015\\ub144 02\\uc6d402\\uc77c\", \"2015\\ub144 02\\uc6d409\\uc77c\", \"2015\\ub144 02\\uc6d416\\uc77c\", \"2015\\ub144 02\\uc6d423\\uc77c\", \"2015\\ub144 03\\uc6d402\\uc77c\", \"2015\\ub144 03\\uc6d409\\uc77c\", \"2015\\ub144 03\\uc6d416\\uc77c\", \"2015\\ub144 03\\uc6d423\\uc77c\", \"2015\\ub144 03\\uc6d430\\uc77c\", \"2015\\ub144 04\\uc6d406\\uc77c\", \"2015\\ub144 04\\uc6d413\\uc77c\", \"2015\\ub144 04\\uc6d420\\uc77c\", \"2015\\ub144 04\\uc6d427\\uc77c\", \"2015\\ub144 05\\uc6d404\\uc77c\", \"2015\\ub144 05\\uc6d411\\uc77c\", \"2015\\ub144 05\\uc6d418\\uc77c\", \"2015\\ub144 05\\uc6d425\\uc77c\", \"2015\\ub144 06\\uc6d401\\uc77c\", \"2015\\ub144 06\\uc6d408\\uc77c\", \"2015\\ub144 06\\uc6d415\\uc77c\", \"2015\\ub144 06\\uc6d422\\uc77c\", \"2015\\ub144 06\\uc6d429\\uc77c\", \"2015\\ub144 07\\uc6d406\\uc77c\", \"2015\\ub144 07\\uc6d413\\uc77c\", \"2015\\ub144 07\\uc6d420\\uc77c\", \"2015\\ub144 07\\uc6d427\\uc77c\", \"2015\\ub144 08\\uc6d403\\uc77c\", \"2015\\ub144 08\\uc6d410\\uc77c\", \"2015\\ub144 08\\uc6d417\\uc77c\", \"2015\\ub144 08\\uc6d424\\uc77c\", \"2015\\ub144 08\\uc6d431\\uc77c\", \"2015\\ub144 09\\uc6d407\\uc77c\", \"2015\\ub144 09\\uc6d414\\uc77c\", \"2015\\ub144 09\\uc6d421\\uc77c\", \"2015\\ub144 09\\uc6d428\\uc77c\", \"2015\\ub144 10\\uc6d405\\uc77c\", \"2015\\ub144 10\\uc6d412\\uc77c\", \"2015\\ub144 10\\uc6d419\\uc77c\", \"2015\\ub144 10\\uc6d426\\uc77c\", \"2015\\ub144 11\\uc6d402\\uc77c\", \"2015\\ub144 11\\uc6d409\\uc77c\", \"2015\\ub144 11\\uc6d416\\uc77c\", \"2015\\ub144 11\\uc6d423\\uc77c\", \"2015\\ub144 11\\uc6d430\\uc77c\", \"2015\\ub144 12\\uc6d407\\uc77c\", \"2015\\ub144 12\\uc6d414\\uc77c\", \"2015\\ub144 12\\uc6d421\\uc77c\"], \"y\": [0.06, 0.06, 0.06, 0.09, 0.1, 0.11, 0.12, 0.1, 0.13, 0.15, 0.15, 0.16, 0.18, 0.16, 0.17, 0.16, 0.12, 0.12, 0.12, 0.13, 0.14, 0.11, 0.12, 0.12, 0.13, 0.13, 0.1, 0.09, 0.11, 0.11, 0.1, 0.1, 0.1, 0.11, 0.11, 0.12, 0.12, 0.13, 0.12, 0.12, 0.14, 0.13, 0.13, 0.14, 0.11, 0.09, 0.08, 0.05, 0.05, 0.03, 0.01]}],                        {\"hovermode\": \"x unified\", \"legend\": {\"title\": {\"text\": \"\\uc9c0\\uc5ed\"}, \"tracegroupgap\": 0}, \"margin\": {\"t\": 60}, \"template\": {\"data\": {\"bar\": [{\"error_x\": {\"color\": \"#2a3f5f\"}, \"error_y\": {\"color\": \"#2a3f5f\"}, \"marker\": {\"line\": {\"color\": \"#E5ECF6\", \"width\": 0.5}}, \"type\": \"bar\"}], \"barpolar\": [{\"marker\": {\"line\": {\"color\": \"#E5ECF6\", \"width\": 0.5}}, \"type\": \"barpolar\"}], \"carpet\": [{\"aaxis\": {\"endlinecolor\": \"#2a3f5f\", \"gridcolor\": \"white\", \"linecolor\": \"white\", \"minorgridcolor\": \"white\", \"startlinecolor\": \"#2a3f5f\"}, \"baxis\": {\"endlinecolor\": \"#2a3f5f\", \"gridcolor\": \"white\", \"linecolor\": \"white\", \"minorgridcolor\": \"white\", \"startlinecolor\": \"#2a3f5f\"}, \"type\": \"carpet\"}], \"choropleth\": [{\"colorbar\": {\"outlinewidth\": 0, \"ticks\": \"\"}, \"type\": \"choropleth\"}], \"contour\": [{\"colorbar\": {\"outlinewidth\": 0, \"ticks\": \"\"}, \"colorscale\": [[0.0, \"#0d0887\"], [0.1111111111111111, \"#46039f\"], [0.2222222222222222, \"#7201a8\"], [0.3333333333333333, \"#9c179e\"], [0.4444444444444444, \"#bd3786\"], [0.5555555555555556, \"#d8576b\"], [0.6666666666666666, \"#ed7953\"], [0.7777777777777778, \"#fb9f3a\"], [0.8888888888888888, \"#fdca26\"], [1.0, \"#f0f921\"]], \"type\": \"contour\"}], \"contourcarpet\": [{\"colorbar\": {\"outlinewidth\": 0, \"ticks\": \"\"}, \"type\": \"contourcarpet\"}], \"heatmap\": [{\"colorbar\": {\"outlinewidth\": 0, \"ticks\": \"\"}, \"colorscale\": [[0.0, \"#0d0887\"], [0.1111111111111111, \"#46039f\"], [0.2222222222222222, \"#7201a8\"], [0.3333333333333333, \"#9c179e\"], [0.4444444444444444, \"#bd3786\"], [0.5555555555555556, \"#d8576b\"], [0.6666666666666666, \"#ed7953\"], [0.7777777777777778, \"#fb9f3a\"], [0.8888888888888888, \"#fdca26\"], [1.0, \"#f0f921\"]], \"type\": \"heatmap\"}], \"heatmapgl\": [{\"colorbar\": {\"outlinewidth\": 0, \"ticks\": \"\"}, \"colorscale\": [[0.0, \"#0d0887\"], [0.1111111111111111, \"#46039f\"], [0.2222222222222222, \"#7201a8\"], [0.3333333333333333, \"#9c179e\"], [0.4444444444444444, \"#bd3786\"], [0.5555555555555556, \"#d8576b\"], [0.6666666666666666, \"#ed7953\"], [0.7777777777777778, \"#fb9f3a\"], [0.8888888888888888, \"#fdca26\"], [1.0, \"#f0f921\"]], \"type\": \"heatmapgl\"}], \"histogram\": [{\"marker\": {\"colorbar\": {\"outlinewidth\": 0, \"ticks\": \"\"}}, \"type\": \"histogram\"}], \"histogram2d\": [{\"colorbar\": {\"outlinewidth\": 0, \"ticks\": \"\"}, \"colorscale\": [[0.0, \"#0d0887\"], [0.1111111111111111, \"#46039f\"], [0.2222222222222222, \"#7201a8\"], [0.3333333333333333, \"#9c179e\"], [0.4444444444444444, \"#bd3786\"], [0.5555555555555556, \"#d8576b\"], [0.6666666666666666, \"#ed7953\"], [0.7777777777777778, \"#fb9f3a\"], [0.8888888888888888, \"#fdca26\"], [1.0, \"#f0f921\"]], \"type\": \"histogram2d\"}], \"histogram2dcontour\": [{\"colorbar\": {\"outlinewidth\": 0, \"ticks\": \"\"}, \"colorscale\": [[0.0, \"#0d0887\"], [0.1111111111111111, \"#46039f\"], [0.2222222222222222, \"#7201a8\"], [0.3333333333333333, \"#9c179e\"], [0.4444444444444444, \"#bd3786\"], [0.5555555555555556, \"#d8576b\"], [0.6666666666666666, \"#ed7953\"], [0.7777777777777778, \"#fb9f3a\"], [0.8888888888888888, \"#fdca26\"], [1.0, \"#f0f921\"]], \"type\": \"histogram2dcontour\"}], \"mesh3d\": [{\"colorbar\": {\"outlinewidth\": 0, \"ticks\": \"\"}, \"type\": \"mesh3d\"}], \"parcoords\": [{\"line\": {\"colorbar\": {\"outlinewidth\": 0, \"ticks\": \"\"}}, \"type\": \"parcoords\"}], \"pie\": [{\"automargin\": true, \"type\": \"pie\"}], \"scatter\": [{\"marker\": {\"colorbar\": {\"outlinewidth\": 0, \"ticks\": \"\"}}, \"type\": \"scatter\"}], \"scatter3d\": [{\"line\": {\"colorbar\": {\"outlinewidth\": 0, \"ticks\": \"\"}}, \"marker\": {\"colorbar\": {\"outlinewidth\": 0, \"ticks\": \"\"}}, \"type\": \"scatter3d\"}], \"scattercarpet\": [{\"marker\": {\"colorbar\": {\"outlinewidth\": 0, \"ticks\": \"\"}}, \"type\": \"scattercarpet\"}], \"scattergeo\": [{\"marker\": {\"colorbar\": {\"outlinewidth\": 0, \"ticks\": \"\"}}, \"type\": \"scattergeo\"}], \"scattergl\": [{\"marker\": {\"colorbar\": {\"outlinewidth\": 0, \"ticks\": \"\"}}, \"type\": \"scattergl\"}], \"scattermapbox\": [{\"marker\": {\"colorbar\": {\"outlinewidth\": 0, \"ticks\": \"\"}}, \"type\": \"scattermapbox\"}], \"scatterpolar\": [{\"marker\": {\"colorbar\": {\"outlinewidth\": 0, \"ticks\": \"\"}}, \"type\": \"scatterpolar\"}], \"scatterpolargl\": [{\"marker\": {\"colorbar\": {\"outlinewidth\": 0, \"ticks\": \"\"}}, \"type\": \"scatterpolargl\"}], \"scatterternary\": [{\"marker\": {\"colorbar\": {\"outlinewidth\": 0, \"ticks\": \"\"}}, \"type\": \"scatterternary\"}], \"surface\": [{\"colorbar\": {\"outlinewidth\": 0, \"ticks\": \"\"}, \"colorscale\": [[0.0, \"#0d0887\"], [0.1111111111111111, \"#46039f\"], [0.2222222222222222, \"#7201a8\"], [0.3333333333333333, \"#9c179e\"], [0.4444444444444444, \"#bd3786\"], [0.5555555555555556, \"#d8576b\"], [0.6666666666666666, \"#ed7953\"], [0.7777777777777778, \"#fb9f3a\"], [0.8888888888888888, \"#fdca26\"], [1.0, \"#f0f921\"]], \"type\": \"surface\"}], \"table\": [{\"cells\": {\"fill\": {\"color\": \"#EBF0F8\"}, \"line\": {\"color\": \"white\"}}, \"header\": {\"fill\": {\"color\": \"#C8D4E3\"}, \"line\": {\"color\": \"white\"}}, \"type\": \"table\"}]}, \"layout\": {\"annotationdefaults\": {\"arrowcolor\": \"#2a3f5f\", \"arrowhead\": 0, \"arrowwidth\": 1}, \"autotypenumbers\": \"strict\", \"coloraxis\": {\"colorbar\": {\"outlinewidth\": 0, \"ticks\": \"\"}}, \"colorscale\": {\"diverging\": [[0, \"#8e0152\"], [0.1, \"#c51b7d\"], [0.2, \"#de77ae\"], [0.3, \"#f1b6da\"], [0.4, \"#fde0ef\"], [0.5, \"#f7f7f7\"], [0.6, \"#e6f5d0\"], [0.7, \"#b8e186\"], [0.8, \"#7fbc41\"], [0.9, \"#4d9221\"], [1, \"#276419\"]], \"sequential\": [[0.0, \"#0d0887\"], [0.1111111111111111, \"#46039f\"], [0.2222222222222222, \"#7201a8\"], [0.3333333333333333, \"#9c179e\"], [0.4444444444444444, \"#bd3786\"], [0.5555555555555556, \"#d8576b\"], [0.6666666666666666, \"#ed7953\"], [0.7777777777777778, \"#fb9f3a\"], [0.8888888888888888, \"#fdca26\"], [1.0, \"#f0f921\"]], \"sequentialminus\": [[0.0, \"#0d0887\"], [0.1111111111111111, \"#46039f\"], [0.2222222222222222, \"#7201a8\"], [0.3333333333333333, \"#9c179e\"], [0.4444444444444444, \"#bd3786\"], [0.5555555555555556, \"#d8576b\"], [0.6666666666666666, \"#ed7953\"], [0.7777777777777778, \"#fb9f3a\"], [0.8888888888888888, \"#fdca26\"], [1.0, \"#f0f921\"]]}, \"colorway\": [\"#636efa\", \"#EF553B\", \"#00cc96\", \"#ab63fa\", \"#FFA15A\", \"#19d3f3\", \"#FF6692\", \"#B6E880\", \"#FF97FF\", \"#FECB52\"], \"font\": {\"color\": \"#2a3f5f\"}, \"geo\": {\"bgcolor\": \"white\", \"lakecolor\": \"white\", \"landcolor\": \"#E5ECF6\", \"showlakes\": true, \"showland\": true, \"subunitcolor\": \"white\"}, \"hoverlabel\": {\"align\": \"left\"}, \"hovermode\": \"closest\", \"mapbox\": {\"style\": \"light\"}, \"paper_bgcolor\": \"white\", \"plot_bgcolor\": \"#E5ECF6\", \"polar\": {\"angularaxis\": {\"gridcolor\": \"white\", \"linecolor\": \"white\", \"ticks\": \"\"}, \"bgcolor\": \"#E5ECF6\", \"radialaxis\": {\"gridcolor\": \"white\", \"linecolor\": \"white\", \"ticks\": \"\"}}, \"scene\": {\"xaxis\": {\"backgroundcolor\": \"#E5ECF6\", \"gridcolor\": \"white\", \"gridwidth\": 2, \"linecolor\": \"white\", \"showbackground\": true, \"ticks\": \"\", \"zerolinecolor\": \"white\"}, \"yaxis\": {\"backgroundcolor\": \"#E5ECF6\", \"gridcolor\": \"white\", \"gridwidth\": 2, \"linecolor\": \"white\", \"showbackground\": true, \"ticks\": \"\", \"zerolinecolor\": \"white\"}, \"zaxis\": {\"backgroundcolor\": \"#E5ECF6\", \"gridcolor\": \"white\", \"gridwidth\": 2, \"linecolor\": \"white\", \"showbackground\": true, \"ticks\": \"\", \"zerolinecolor\": \"white\"}}, \"shapedefaults\": {\"line\": {\"color\": \"#2a3f5f\"}}, \"ternary\": {\"aaxis\": {\"gridcolor\": \"white\", \"linecolor\": \"white\", \"ticks\": \"\"}, \"baxis\": {\"gridcolor\": \"white\", \"linecolor\": \"white\", \"ticks\": \"\"}, \"bgcolor\": \"#E5ECF6\", \"caxis\": {\"gridcolor\": \"white\", \"linecolor\": \"white\", \"ticks\": \"\"}}, \"title\": {\"x\": 0.05}, \"xaxis\": {\"automargin\": true, \"gridcolor\": \"white\", \"linecolor\": \"white\", \"ticks\": \"\", \"title\": {\"standoff\": 15}, \"zerolinecolor\": \"white\", \"zerolinewidth\": 2}, \"yaxis\": {\"automargin\": true, \"gridcolor\": \"white\", \"linecolor\": \"white\", \"ticks\": \"\", \"title\": {\"standoff\": 15}, \"zerolinecolor\": \"white\", \"zerolinewidth\": 2}}}, \"title\": {\"text\": \"\\uc544\\ud30c\\ud2b8 \\ub9e4\\ub9e4 \\uc9c0\\uc5ed \\uc6d4\\ubcc4 \\uc0c1\\uc2b9\\ub960\", \"x\": 0.5}, \"xaxis\": {\"anchor\": \"y\", \"domain\": [0.0, 1.0], \"tickmode\": \"array\", \"ticktext\": [\"1\\uc6d4\", \"2\\uc6d4\", \"3\\uc6d4\", \"4\\uc6d4\", \"5\\uc6d4\", \"6\\uc6d4\", \"7\\uc6d4\", \"8\\uc6d4\", \"9\\uc6d4\", \"10\\uc6d4\", \"11\\uc6d4\", \"12\\uc6d4\", \"1\\uc6d4\", \"2\\uc6d4\", \"3\\uc6d4\", \"4\\uc6d4\", \"5\\uc6d4\", \"6\\uc6d4\", \"7\\uc6d4\", \"8\\uc6d4\", \"9\\uc6d4\", \"10\\uc6d4\", \"11\\uc6d4\", \"12\\uc6d4\"], \"tickvals\": [0, 3, 7, 12, 16, 20, 25, 29, 34, 38, 42, 47, 0, 4, 8, 13, 17, 21, 26, 30, 35, 39, 43, 48], \"title\": {\"text\": \"\\uc6d4\\ubcc4\"}}, \"yaxis\": {\"anchor\": \"x\", \"domain\": [0.0, 1.0], \"title\": {\"text\": \"\\uc0c1\\uc2b9\\ub960\"}}},                        {\"responsive\": true}                    ).then(function(){\n",
       "                            \n",
       "var gd = document.getElementById('13dc9e65-fac4-4383-8678-46a28d446d71');\n",
       "var x = new MutationObserver(function (mutations, observer) {{\n",
       "        var display = window.getComputedStyle(gd).display;\n",
       "        if (!display || display === 'none') {{\n",
       "            console.log([gd, 'removed!']);\n",
       "            Plotly.purge(gd);\n",
       "            observer.disconnect();\n",
       "        }}\n",
       "}});\n",
       "\n",
       "// Listen for the removal of the full notebook cells\n",
       "var notebookContainer = gd.closest('#notebook-container');\n",
       "if (notebookContainer) {{\n",
       "    x.observe(notebookContainer, {childList: true});\n",
       "}}\n",
       "\n",
       "// Listen for the clearing of the current output cell\n",
       "var outputEl = gd.closest('.output');\n",
       "if (outputEl) {{\n",
       "    x.observe(outputEl, {childList: true});\n",
       "}}\n",
       "\n",
       "                        })                };                });            </script>        </div>"
      ]
     },
     "metadata": {},
     "output_type": "display_data"
    }
   ],
   "source": [
    "apart = apart_f.iloc[1:52,:].loc[:,'세종']\n",
    "apart2 = apart_f.iloc[1:52,:].loc[:,'전국']\n",
    "for i in range(1,13):\n",
    "    test['month'].append(str(i)+'월')\n",
    "    if i < 10 :\n",
    "        test['month_index'].append(list(apart.index.str.contains('0'+str(i)+'월')).index(True))\n",
    "    else :\n",
    "        test['month_index'].append(list(apart.index.str.contains(str(i)+'월')).index(True))\n",
    "                \n",
    "fig1 = px.line(apart)\n",
    "\n",
    "fig1.add_bar(x=apart2.index,y=apart2.values, name=\"Last year\")\n",
    "fig1.update_layout(\n",
    "        xaxis = dict(\n",
    "            tickmode = 'array',\n",
    "            tickvals = test['month_index'],\n",
    "            ticktext = test['month'],),\n",
    "        title = '아파트 매매 지역 월별 상승률',\n",
    "        xaxis_title = '월별', \n",
    "        yaxis_title = '상승률',\n",
    "        title_x=0.5,\n",
    "        hovermode=\"x unified\",\n",
    "        legend_title='지역')"
   ]
  },
  {
   "cell_type": "code",
   "execution_count": 31,
   "metadata": {},
   "outputs": [],
   "source": [
    "app = dash.Dash(external_stylesheets=[dbc.themes.BOOTSTRAP])\n",
    "app.title = \"개별프로젝트1\"\n",
    "\n",
    "app.layout = html.Div(\n",
    "    [\n",
    "        html.Div(\n",
    "            [\n",
    "                Tabs,\n",
    "                html.Div(id='sub'),\n",
    "                html.Main(id='tab_contents',style={'height':'auto'}),\n",
    "                dcc.Dropdown(id=\"country2_drop\",\n",
    "                            value='세종',\n",
    "                            options = [{'label':i,'value':i} for i in apart_t.index[7:]])   ,\n",
    "                dcc.RadioItems(\n",
    "        options=[\n",
    "            {'label': '2015년', 'value': '2015'},\n",
    "            {'label': '2016년', 'value': '2016'},\n",
    "            {'label': '2017년', 'value': '2017'},\n",
    "            {'label': '2018년', 'value': '2018'},\n",
    "            {'label': '2019년', 'value': '2019'},\n",
    "            {'label': '2020년', 'value': '2020'},\n",
    "        ],\n",
    "        value='2020',\n",
    "        id='month_radio',\n",
    "        labelStyle={'display': 'block'},\n",
    "        style={'padding-left':'10px'}\n",
    "    ),\n",
    "                dcc.Graph(id='graph'),\n",
    "                dcc.Graph(figure=fig),\n",
    "                dcc.Graph(figure=fig1),\n",
    "                dcc.Graph(figure=fig2)\n",
    "            ],style={'height':'100%', 'width':'85vw','margin':'auto','background-color':'white',}\n",
    "        )\n",
    "        \n",
    "    ],style={'height':'100%', 'width':'100vw','background-color':'white','padding-top':'15px'}\n",
    ")"
   ]
  },
  {
   "cell_type": "code",
   "execution_count": 32,
   "metadata": {},
   "outputs": [
    {
     "name": "stdout",
     "output_type": "stream",
     "text": [
      "Dash is running on http://127.0.0.1:8050/\n",
      "\n",
      "Dash is running on http://127.0.0.1:8050/\n",
      "\n",
      "Dash is running on http://127.0.0.1:8050/\n",
      "\n",
      " * Serving Flask app \"__main__\" (lazy loading)\n",
      " * Environment: production\n",
      "   WARNING: This is a development server. Do not use it in a production deployment.\n",
      "   Use a production WSGI server instead.\n",
      " * Debug mode: off\n"
     ]
    },
    {
     "name": "stderr",
     "output_type": "stream",
     "text": [
      " * Running on http://127.0.0.1:8050/ (Press CTRL+C to quit)\n",
      "127.0.0.1 - - [07/Jul/2021 16:10:45] \"\u001b[37mGET / HTTP/1.1\u001b[0m\" 200 -\n",
      "127.0.0.1 - - [07/Jul/2021 16:10:45] \"\u001b[37mGET /_dash-component-suites/dash_renderer/react@16.v1_9_1m1623650891.14.0.min.js HTTP/1.1\u001b[0m\" 200 -\n",
      "127.0.0.1 - - [07/Jul/2021 16:10:45] \"\u001b[37mGET /_dash-component-suites/dash_renderer/polyfill@7.v1_9_1m1623650891.8.7.min.js HTTP/1.1\u001b[0m\" 200 -\n",
      "127.0.0.1 - - [07/Jul/2021 16:10:45] \"\u001b[37mGET /_dash-component-suites/dash_renderer/prop-types@15.v1_9_1m1623650891.7.2.min.js HTTP/1.1\u001b[0m\" 200 -\n",
      "127.0.0.1 - - [07/Jul/2021 16:10:45] \"\u001b[37mGET /_dash-component-suites/dash_renderer/react-dom@16.v1_9_1m1623650891.14.0.min.js HTTP/1.1\u001b[0m\" 200 -\n",
      "127.0.0.1 - - [07/Jul/2021 16:10:45] \"\u001b[37mGET /_dash-component-suites/dash_html_components/dash_html_components.v1_1_3m1623650891.min.js HTTP/1.1\u001b[0m\" 200 -\n",
      "127.0.0.1 - - [07/Jul/2021 16:10:45] \"\u001b[37mGET /_dash-component-suites/dash_bootstrap_components/_components/dash_bootstrap_components.v0_12_2m1623650912.min.js HTTP/1.1\u001b[0m\" 200 -\n",
      "127.0.0.1 - - [07/Jul/2021 16:10:45] \"\u001b[37mGET /_dash-component-suites/dash_core_components/dash_core_components-shared.v1_16_0m1623650891.js HTTP/1.1\u001b[0m\" 200 -\n",
      "127.0.0.1 - - [07/Jul/2021 16:10:45] \"\u001b[37mGET /_dash-component-suites/dash_renderer/dash_renderer.v1_9_1m1623650891.min.js HTTP/1.1\u001b[0m\" 200 -\n",
      "127.0.0.1 - - [07/Jul/2021 16:10:45] \"\u001b[37mGET /_dash-component-suites/dash_core_components/dash_core_components.v1_16_0m1623650891.min.js HTTP/1.1\u001b[0m\" 200 -\n",
      "127.0.0.1 - - [07/Jul/2021 16:10:46] \"\u001b[37mGET /_dash-layout HTTP/1.1\u001b[0m\" 200 -\n",
      "127.0.0.1 - - [07/Jul/2021 16:10:46] \"\u001b[37mGET /_dash-dependencies HTTP/1.1\u001b[0m\" 200 -\n",
      "127.0.0.1 - - [07/Jul/2021 16:10:46] \"\u001b[37mGET /_dash-component-suites/dash_core_components/async-graph.v1_16_0m1617903285.js HTTP/1.1\u001b[0m\" 200 -\n",
      "127.0.0.1 - - [07/Jul/2021 16:10:46] \"\u001b[37mGET /_dash-component-suites/dash_core_components/async-dropdown.v1_16_0m1617903285.js HTTP/1.1\u001b[0m\" 200 -\n",
      "127.0.0.1 - - [07/Jul/2021 16:10:46] \"\u001b[37mPOST /_dash-update-component HTTP/1.1\u001b[0m\" 200 -\n",
      "127.0.0.1 - - [07/Jul/2021 16:10:46] \"\u001b[37mPOST /_dash-update-component HTTP/1.1\u001b[0m\" 200 -\n",
      "127.0.0.1 - - [07/Jul/2021 16:10:46] \"\u001b[37mPOST /_dash-update-component HTTP/1.1\u001b[0m\" 200 -\n",
      "127.0.0.1 - - [07/Jul/2021 16:10:46] \"\u001b[37mGET /_dash-component-suites/dash_core_components/async-plotlyjs.v1_16_0m1617903285.js HTTP/1.1\u001b[0m\" 200 -\n"
     ]
    }
   ],
   "source": [
    "@app.callback(\n",
    "    Output('graph','figure'),\n",
    "    Input('month_radio','value'),\n",
    "    Input('country2_drop','value')\n",
    ")\n",
    "def update(value,country):\n",
    "    test={'month_index':[],'month':[]}\n",
    "    apart2 = apart_f.iloc[1:52,:].loc[:,'전국']\n",
    "    if value=='2015':\n",
    "        apart = apart_f.iloc[1:52,:].loc[:,country]\n",
    "        for i in range(1,13):\n",
    "            test['month'].append(str(i)+'월')\n",
    "            if i < 10 :\n",
    "                test['month_index'].append(list(apart.index.str.contains('0'+str(i)+'월')).index(True))\n",
    "            else :\n",
    "                test['month_index'].append(list(apart.index.str.contains(str(i)+'월')).index(True))\n",
    "                \n",
    "        fig = px.line(apart)\n",
    "    elif value=='2016':\n",
    "        apart = apart_f.iloc[53:104,:].loc[:,country]\n",
    "        for i in range(1,13):\n",
    "            test['month'].append(str(i)+'월')\n",
    "            if i < 10 :\n",
    "                test['month_index'].append(list(apart.index.str.contains('0'+str(i)+'월')).index(True))\n",
    "            else :\n",
    "                test['month_index'].append(list(apart.index.str.contains(str(i)+'월')).index(True))\n",
    "        \n",
    "        fig = px.line(apart)\n",
    "    elif value=='2017':\n",
    "        apart = apart_f.iloc[105:155,:].loc[:,country]\n",
    "        for i in range(1,13):\n",
    "            test['month'].append(str(i)+'월')\n",
    "            if i < 10 :\n",
    "                test['month_index'].append(list(apart.index.str.contains('0'+str(i)+'월')).index(True))\n",
    "            else :\n",
    "                test['month_index'].append(list(apart.index.str.contains(str(i)+'월')).index(True))\n",
    "                \n",
    "        fig = px.line(apart)\n",
    "    elif value=='2018':\n",
    "        apart = apart_f.iloc[156:208,:].loc[:,country]\n",
    "        for i in range(1,13):\n",
    "            test['month'].append(str(i)+'월')\n",
    "            if i < 10 :\n",
    "                test['month_index'].append(list(apart.index.str.contains('0'+str(i)+'월')).index(True))\n",
    "            else :\n",
    "                test['month_index'].append(list(apart.index.str.contains(str(i)+'월')).index(True))\n",
    "                \n",
    "        fig = px.line(apart)\n",
    "    elif value=='2019':\n",
    "        apart = apart_f.iloc[209:261,:].loc[:,country]\n",
    "        for i in range(1,13):\n",
    "            test['month'].append(str(i)+'월')\n",
    "            if i < 10 :\n",
    "                test['month_index'].append(list(apart.index.str.contains('0'+str(i)+'월')).index(True))\n",
    "            else :\n",
    "                test['month_index'].append(list(apart.index.str.contains(str(i)+'월')).index(True))\n",
    "                \n",
    "        fig = px.line(apart)\n",
    "    elif value=='2020' :\n",
    "        apart = apart_f.iloc[262:,:].loc[:,country]\n",
    "        for i in range(1,13):\n",
    "            test['month'].append(str(i)+'월')\n",
    "            if i < 10 :\n",
    "                test['month_index'].append(list(apart.index.str.contains('0'+str(i)+'월')).index(True))\n",
    "            else :\n",
    "                test['month_index'].append(list(apart.index.str.contains(str(i)+'월')).index(True))\n",
    "                \n",
    "        fig = px.line(apart)\n",
    "    \n",
    "    fig.update_layout(\n",
    "        xaxis = dict(\n",
    "            tickmode = 'array',\n",
    "            tickvals = test['month_index'],\n",
    "            ticktext = test['month'],),\n",
    "        title = '아파트 매매 지역 월별 상승률',\n",
    "        xaxis_title = '월별', \n",
    "        yaxis_title = '상승률',\n",
    "        title_x=0.5,\n",
    "        hovermode=\"x unified\",\n",
    "        legend_title='지역')\n",
    "    fig.update_traces(mode=\"lines\", hovertemplate=None)\n",
    "    \n",
    "    return fig\n",
    "\n",
    "@app.callback(\n",
    "    Output('sub', 'children'),\n",
    "    Input('Tabs', 'value'),\n",
    ")\n",
    "def render_content(tab):\n",
    "    if tab == 'tab1':\n",
    "        return Sub_tabs\n",
    "    elif tab == 'tab2':\n",
    "        return Sub_tabs\n",
    "    elif tab == 'tab3':\n",
    "        return Sub_tabs\n",
    "    \n",
    "@app.callback(\n",
    "    Output('tab_contents', 'children'),\n",
    "    Input('Sub_Tabs', 'value'),\n",
    ")\n",
    "def render_content(tab):\n",
    "    if tab == 'sub_tab1':\n",
    "        return Tab1_div\n",
    "    elif tab == 'sub_tab2':\n",
    "        return Tab2_div\n",
    "app.run_server()"
   ]
  },
  {
   "cell_type": "code",
   "execution_count": 21,
   "metadata": {},
   "outputs": [
    {
     "ename": "NameError",
     "evalue": "name 'month_ticks' is not defined",
     "output_type": "error",
     "traceback": [
      "\u001b[1;31m---------------------------------------------------------------------------\u001b[0m",
      "\u001b[1;31mNameError\u001b[0m                                 Traceback (most recent call last)",
      "\u001b[1;32m<ipython-input-21-2db0ea04ab7a>\u001b[0m in \u001b[0;36m<module>\u001b[1;34m\u001b[0m\n\u001b[0;32m      1\u001b[0m \u001b[0mapart\u001b[0m \u001b[1;33m=\u001b[0m \u001b[0mapart_f\u001b[0m\u001b[1;33m.\u001b[0m\u001b[0miloc\u001b[0m\u001b[1;33m[\u001b[0m\u001b[1;36m262\u001b[0m\u001b[1;33m:\u001b[0m\u001b[1;33m,\u001b[0m\u001b[1;33m:\u001b[0m\u001b[1;33m]\u001b[0m\u001b[1;33m.\u001b[0m\u001b[0mloc\u001b[0m\u001b[1;33m[\u001b[0m\u001b[1;33m:\u001b[0m\u001b[1;33m,\u001b[0m\u001b[1;34m'세종'\u001b[0m\u001b[1;33m]\u001b[0m\u001b[1;33m\u001b[0m\u001b[1;33m\u001b[0m\u001b[0m\n\u001b[0;32m      2\u001b[0m \u001b[1;32mfor\u001b[0m \u001b[0mi\u001b[0m \u001b[1;32min\u001b[0m \u001b[0mrange\u001b[0m\u001b[1;33m(\u001b[0m\u001b[1;36m1\u001b[0m\u001b[1;33m,\u001b[0m\u001b[1;36m13\u001b[0m\u001b[1;33m)\u001b[0m\u001b[1;33m:\u001b[0m\u001b[1;33m\u001b[0m\u001b[1;33m\u001b[0m\u001b[0m\n\u001b[1;32m----> 3\u001b[1;33m             \u001b[0mmonth_ticks\u001b[0m\u001b[1;33m[\u001b[0m\u001b[1;34m'month'\u001b[0m\u001b[1;33m]\u001b[0m\u001b[1;33m.\u001b[0m\u001b[0mappend\u001b[0m\u001b[1;33m(\u001b[0m\u001b[0mstr\u001b[0m\u001b[1;33m(\u001b[0m\u001b[0mi\u001b[0m\u001b[1;33m)\u001b[0m\u001b[1;33m+\u001b[0m\u001b[1;34m'월'\u001b[0m\u001b[1;33m)\u001b[0m\u001b[1;33m\u001b[0m\u001b[1;33m\u001b[0m\u001b[0m\n\u001b[0m\u001b[0;32m      4\u001b[0m             \u001b[1;32mif\u001b[0m \u001b[0mi\u001b[0m \u001b[1;33m<\u001b[0m \u001b[1;36m10\u001b[0m \u001b[1;33m:\u001b[0m\u001b[1;33m\u001b[0m\u001b[1;33m\u001b[0m\u001b[0m\n\u001b[0;32m      5\u001b[0m                 \u001b[0mmonth_ticks\u001b[0m\u001b[1;33m[\u001b[0m\u001b[1;34m'month_index'\u001b[0m\u001b[1;33m]\u001b[0m\u001b[1;33m.\u001b[0m\u001b[0mappend\u001b[0m\u001b[1;33m(\u001b[0m\u001b[0mlist\u001b[0m\u001b[1;33m(\u001b[0m\u001b[0mapart\u001b[0m\u001b[1;33m.\u001b[0m\u001b[0mindex\u001b[0m\u001b[1;33m.\u001b[0m\u001b[0mstr\u001b[0m\u001b[1;33m.\u001b[0m\u001b[0mcontains\u001b[0m\u001b[1;33m(\u001b[0m\u001b[1;34m'0'\u001b[0m\u001b[1;33m+\u001b[0m\u001b[0mstr\u001b[0m\u001b[1;33m(\u001b[0m\u001b[0mi\u001b[0m\u001b[1;33m)\u001b[0m\u001b[1;33m+\u001b[0m\u001b[1;34m'월'\u001b[0m\u001b[1;33m)\u001b[0m\u001b[1;33m)\u001b[0m\u001b[1;33m.\u001b[0m\u001b[0mindex\u001b[0m\u001b[1;33m(\u001b[0m\u001b[1;32mTrue\u001b[0m\u001b[1;33m)\u001b[0m\u001b[1;33m)\u001b[0m\u001b[1;33m\u001b[0m\u001b[1;33m\u001b[0m\u001b[0m\n",
      "\u001b[1;31mNameError\u001b[0m: name 'month_ticks' is not defined"
     ]
    }
   ],
   "source": [
    "apart = apart_f.iloc[262:,:].loc[:,'세종']\n",
    "for i in range(1,13):\n",
    "            month_ticks['month'].append(str(i)+'월')\n",
    "            if i < 10 :\n",
    "                month_ticks['month_index'].append(list(apart.index.str.contains('0'+str(i)+'월')).index(True))\n",
    "            else :\n",
    "                month_ticks['month_index'].append(list(apart.index.str.contains(str(i)+'월')).index(True))"
   ]
  },
  {
   "cell_type": "code",
   "execution_count": null,
   "metadata": {
    "scrolled": false
   },
   "outputs": [],
   "source": [
    "material_data = pd.DataFrame({\"자료명\":[\"아파트 매매 데이터\",\"아파트 월세 데이터\",\"아파트 전세 데이터\",\"아파트 지수 데이터\"],\n",
    "                              \"자료 출처 기관명\":\"부동산통계정보 R-ONE\",\n",
    "                              \"자료 출처 주소\":\"https://www.r-one.co.kr/rone/resis/common/main/main.do\",})\n",
    "\n",
    "\n",
    "material_data"
   ]
  },
  {
   "cell_type": "code",
   "execution_count": null,
   "metadata": {},
   "outputs": [],
   "source": [
    "m_link=html.Td(dcc.Link(\"https://www.r-one.co.kr/rone/resis/common/main/main.do\",href='https://www.r-one.co.kr/rone/resis/common/main/main.do',target='blank'))\n",
    "\n",
    "table_header = [\n",
    "    html.Thead(html.Tr([html.Th(\"자료명\"), html.Th(\"자료 출처 기관명\"), html.Th(\"자료 출처 주소\")]))\n",
    "]\n",
    "\n",
    "row1 = html.Tr([html.Td(\"아파트 매매 데이터\"),html.Td(\"부동산통계정보 R-ONE\"),m_link])\n",
    "row2 = html.Tr([html.Td(\"아파트 월세 데이터\"),html.Td(\"부동산통계정보 R-ONE\"),m_link])\n",
    "row3 = html.Tr([html.Td(\"아파트 전세 데이터\"),html.Td(\"부동산통계정보 R-ONE\"),m_link])\n",
    "row4 = html.Tr([html.Td(\"아파트 지수 데이터\"),html.Td(\"부동산통계정보 R-ONE\"),m_link])\n",
    "row5 = html.Tr([html.Td(\"지도 행정구역 데이터(geoJson)\"),html.Td(\"GIS Developoer\"),html.Td(dcc.Link(\"http://www.gisdeveloper.co.kr/\",href='http://www.gisdeveloper.co.kr/',target='blank'))])\n",
    "table_body = [html.Tbody([row1, row2, row3, row4,row5])]\n",
    "\n",
    "table = dbc.Table(table_header + table_body, striped=True, bordered=True, hover=True)\n",
    "\n",
    "table_header2 = [\n",
    "    html.Thead(html.Tr([html.Th(\"참고 자료\"), html.Th(\"자료 출처 기관명\"), html.Th(\"자료 출처 주소\")]))\n",
    "]\n",
    "\n",
    "row11 = html.Tr([html.Td(\"Dash\"),html.Td(\"Plotly\")])\n",
    "row22 = html.Tr([html.Td(\"Dbc\"),html.Td(\"Dash Bootstrap\")])\n",
    "row33 = html.Tr([html.Td(\"Plotly\"),html.Td(\"Plotly\")])\n",
    "table_body2 = [html.Tbody([row11, row22, row33])]\n",
    "\n",
    "table2 = dbc.Table(table_header2 + table_body2, striped=True, bordered=True, hover=True)"
   ]
  },
  {
   "cell_type": "code",
   "execution_count": null,
   "metadata": {},
   "outputs": [],
   "source": [
    "dbc.Table.from_dataframe(apart_f.iloc[[-1],7:],id='country_table', striped=True, bordered=True, hover=True,size='sm'),"
   ]
  },
  {
   "cell_type": "code",
   "execution_count": null,
   "metadata": {},
   "outputs": [],
   "source": [
    "country_table=html.Div(id='country_table',style={'width':'100%','overflow':'scroll'})"
   ]
  },
  {
   "cell_type": "code",
   "execution_count": null,
   "metadata": {},
   "outputs": [],
   "source": [
    "app = dash.Dash(external_stylesheets=[dbc.themes.BOOTSTRAP])\n",
    "app.title = \"개별프로젝트1\"\n",
    "\n",
    "app.layout = html.Div([\n",
    "    country_table,\n",
    "    html.Br(),\n",
    "    html.Hr(style={'border':'10px black dotted'}),\n",
    "    html.Br(),\n",
    "    dcc.Graph(figure=fig),\n",
    "    dcc.RadioItems(\n",
    "        options=[\n",
    "            {'label': '2015년', 'value': '2015'},\n",
    "            {'label': '2016년', 'value': '2016'},\n",
    "            {'label': '2017년', 'value': '2017'},\n",
    "            {'label': '2018년', 'value': '2018'},\n",
    "            {'label': '2019년', 'value': '2019'},\n",
    "            {'label': '2020년', 'value': '2020'},\n",
    "        ],\n",
    "        value='2020',\n",
    "        id='country_radio',\n",
    "        labelStyle={'display': 'block','padding-left':'20px','border':'1px solid black','width':'auto'},\n",
    "        style={'font-size':'20px'},\n",
    "    ),\n",
    "    html.Div(id='test')\n",
    "])"
   ]
  },
  {
   "cell_type": "code",
   "execution_count": 8,
   "metadata": {},
   "outputs": [
    {
     "ename": "NameError",
     "evalue": "name 'app' is not defined",
     "output_type": "error",
     "traceback": [
      "\u001b[1;31m---------------------------------------------------------------------------\u001b[0m",
      "\u001b[1;31mNameError\u001b[0m                                 Traceback (most recent call last)",
      "\u001b[1;32m<ipython-input-8-17cd3a04f597>\u001b[0m in \u001b[0;36m<module>\u001b[1;34m\u001b[0m\n\u001b[1;32m----> 1\u001b[1;33m @app.callback(\n\u001b[0m\u001b[0;32m      2\u001b[0m     \u001b[0mOutput\u001b[0m\u001b[1;33m(\u001b[0m\u001b[1;34m'test'\u001b[0m\u001b[1;33m,\u001b[0m\u001b[1;34m'children'\u001b[0m\u001b[1;33m)\u001b[0m\u001b[1;33m,\u001b[0m\u001b[1;33m\u001b[0m\u001b[1;33m\u001b[0m\u001b[0m\n\u001b[0;32m      3\u001b[0m     \u001b[0mInput\u001b[0m\u001b[1;33m(\u001b[0m\u001b[1;34m'country_radio'\u001b[0m\u001b[1;33m,\u001b[0m\u001b[1;34m'value'\u001b[0m\u001b[1;33m)\u001b[0m\u001b[1;33m\u001b[0m\u001b[1;33m\u001b[0m\u001b[0m\n\u001b[0;32m      4\u001b[0m )\n\u001b[0;32m      5\u001b[0m \u001b[1;33m\u001b[0m\u001b[0m\n",
      "\u001b[1;31mNameError\u001b[0m: name 'app' is not defined"
     ]
    }
   ],
   "source": [
    "@app.callback(\n",
    "    Output('test','children'),\n",
    "    Input('country_radio','value')\n",
    ")\n",
    "\n",
    "def country_graph_update(value):\n",
    "    return value\n",
    "@app.callback(\n",
    "    Output('country_table','children'),\n",
    "    Input('country_radio','value')\n",
    ")\n",
    "def dk(radio):\n",
    "    if radio=='2015':\n",
    "        return dbc.Table.from_dataframe(apart_f.iloc[[-1],7:],id='country_table', striped=True, bordered=True, hover=True,size='sm'),\n",
    "app.run_server()"
   ]
  },
  {
   "cell_type": "code",
   "execution_count": 6,
   "metadata": {},
   "outputs": [
    {
     "data": {
      "text/html": [
       "<div>\n",
       "<style scoped>\n",
       "    .dataframe tbody tr th:only-of-type {\n",
       "        vertical-align: middle;\n",
       "    }\n",
       "\n",
       "    .dataframe tbody tr th {\n",
       "        vertical-align: top;\n",
       "    }\n",
       "\n",
       "    .dataframe thead th {\n",
       "        text-align: right;\n",
       "    }\n",
       "</style>\n",
       "<table border=\"1\" class=\"dataframe\">\n",
       "  <thead>\n",
       "    <tr style=\"text-align: right;\">\n",
       "      <th>지 역</th>\n",
       "      <th>전국</th>\n",
       "      <th>수도권</th>\n",
       "      <th>지방권</th>\n",
       "      <th>6대광역시</th>\n",
       "      <th>5대광역시</th>\n",
       "      <th>9개도</th>\n",
       "      <th>8개도</th>\n",
       "      <th>서울</th>\n",
       "      <th>경기</th>\n",
       "      <th>인천</th>\n",
       "      <th>...</th>\n",
       "      <th>울산</th>\n",
       "      <th>세종</th>\n",
       "      <th>강원</th>\n",
       "      <th>충북</th>\n",
       "      <th>충남</th>\n",
       "      <th>전북</th>\n",
       "      <th>전남</th>\n",
       "      <th>경북</th>\n",
       "      <th>경남</th>\n",
       "      <th>제주</th>\n",
       "    </tr>\n",
       "  </thead>\n",
       "  <tbody>\n",
       "    <tr>\n",
       "      <th>2014년 12월29일</th>\n",
       "      <td>0.04</td>\n",
       "      <td>0.04</td>\n",
       "      <td>0.05</td>\n",
       "      <td>0.06</td>\n",
       "      <td>0.07</td>\n",
       "      <td>0.04</td>\n",
       "      <td>0.04</td>\n",
       "      <td>0.04</td>\n",
       "      <td>0.04</td>\n",
       "      <td>0.02</td>\n",
       "      <td>...</td>\n",
       "      <td>0.03</td>\n",
       "      <td>-0.05</td>\n",
       "      <td>0.03</td>\n",
       "      <td>0.08</td>\n",
       "      <td>-0.02</td>\n",
       "      <td>-0.01</td>\n",
       "      <td>-0.03</td>\n",
       "      <td>0.05</td>\n",
       "      <td>0.07</td>\n",
       "      <td>0.39</td>\n",
       "    </tr>\n",
       "    <tr>\n",
       "      <th>2015년 01월05일</th>\n",
       "      <td>0.06</td>\n",
       "      <td>0.06</td>\n",
       "      <td>0.06</td>\n",
       "      <td>0.06</td>\n",
       "      <td>0.07</td>\n",
       "      <td>0.07</td>\n",
       "      <td>0.05</td>\n",
       "      <td>0.05</td>\n",
       "      <td>0.08</td>\n",
       "      <td>0.01</td>\n",
       "      <td>...</td>\n",
       "      <td>0.02</td>\n",
       "      <td>-0.02</td>\n",
       "      <td>0.02</td>\n",
       "      <td>0.16</td>\n",
       "      <td>0.04</td>\n",
       "      <td>0.01</td>\n",
       "      <td>-0.06</td>\n",
       "      <td>0.06</td>\n",
       "      <td>0.04</td>\n",
       "      <td>0.33</td>\n",
       "    </tr>\n",
       "    <tr>\n",
       "      <th>2015년 01월12일</th>\n",
       "      <td>0.06</td>\n",
       "      <td>0.06</td>\n",
       "      <td>0.06</td>\n",
       "      <td>0.07</td>\n",
       "      <td>0.08</td>\n",
       "      <td>0.06</td>\n",
       "      <td>0.05</td>\n",
       "      <td>0.02</td>\n",
       "      <td>0.08</td>\n",
       "      <td>0.05</td>\n",
       "      <td>...</td>\n",
       "      <td>0.04</td>\n",
       "      <td>-0.03</td>\n",
       "      <td>0.04</td>\n",
       "      <td>0.05</td>\n",
       "      <td>0.08</td>\n",
       "      <td>-0.07</td>\n",
       "      <td>-0.10</td>\n",
       "      <td>0.12</td>\n",
       "      <td>0.06</td>\n",
       "      <td>0.40</td>\n",
       "    </tr>\n",
       "    <tr>\n",
       "      <th>2015년 01월19일</th>\n",
       "      <td>0.06</td>\n",
       "      <td>0.07</td>\n",
       "      <td>0.05</td>\n",
       "      <td>0.06</td>\n",
       "      <td>0.06</td>\n",
       "      <td>0.06</td>\n",
       "      <td>0.04</td>\n",
       "      <td>0.06</td>\n",
       "      <td>0.08</td>\n",
       "      <td>0.03</td>\n",
       "      <td>...</td>\n",
       "      <td>0.05</td>\n",
       "      <td>-0.02</td>\n",
       "      <td>0.03</td>\n",
       "      <td>0.15</td>\n",
       "      <td>0.01</td>\n",
       "      <td>0.00</td>\n",
       "      <td>-0.10</td>\n",
       "      <td>0.08</td>\n",
       "      <td>0.03</td>\n",
       "      <td>0.23</td>\n",
       "    </tr>\n",
       "    <tr>\n",
       "      <th>2015년 01월26일</th>\n",
       "      <td>0.09</td>\n",
       "      <td>0.09</td>\n",
       "      <td>0.09</td>\n",
       "      <td>0.10</td>\n",
       "      <td>0.11</td>\n",
       "      <td>0.08</td>\n",
       "      <td>0.06</td>\n",
       "      <td>0.08</td>\n",
       "      <td>0.10</td>\n",
       "      <td>0.07</td>\n",
       "      <td>...</td>\n",
       "      <td>0.11</td>\n",
       "      <td>-0.13</td>\n",
       "      <td>0.04</td>\n",
       "      <td>0.07</td>\n",
       "      <td>0.12</td>\n",
       "      <td>-0.03</td>\n",
       "      <td>-0.05</td>\n",
       "      <td>0.13</td>\n",
       "      <td>0.06</td>\n",
       "      <td>0.24</td>\n",
       "    </tr>\n",
       "    <tr>\n",
       "      <th>...</th>\n",
       "      <td>...</td>\n",
       "      <td>...</td>\n",
       "      <td>...</td>\n",
       "      <td>...</td>\n",
       "      <td>...</td>\n",
       "      <td>...</td>\n",
       "      <td>...</td>\n",
       "      <td>...</td>\n",
       "      <td>...</td>\n",
       "      <td>...</td>\n",
       "      <td>...</td>\n",
       "      <td>...</td>\n",
       "      <td>...</td>\n",
       "      <td>...</td>\n",
       "      <td>...</td>\n",
       "      <td>...</td>\n",
       "      <td>...</td>\n",
       "      <td>...</td>\n",
       "      <td>...</td>\n",
       "      <td>...</td>\n",
       "      <td>...</td>\n",
       "    </tr>\n",
       "    <tr>\n",
       "      <th>2020년 11월30일</th>\n",
       "      <td>0.24</td>\n",
       "      <td>0.16</td>\n",
       "      <td>0.31</td>\n",
       "      <td>0.38</td>\n",
       "      <td>0.44</td>\n",
       "      <td>0.22</td>\n",
       "      <td>0.20</td>\n",
       "      <td>0.03</td>\n",
       "      <td>0.24</td>\n",
       "      <td>0.13</td>\n",
       "      <td>...</td>\n",
       "      <td>0.83</td>\n",
       "      <td>0.27</td>\n",
       "      <td>0.09</td>\n",
       "      <td>0.27</td>\n",
       "      <td>0.25</td>\n",
       "      <td>0.12</td>\n",
       "      <td>0.06</td>\n",
       "      <td>0.12</td>\n",
       "      <td>0.34</td>\n",
       "      <td>0.01</td>\n",
       "    </tr>\n",
       "    <tr>\n",
       "      <th>2020년 12월07일</th>\n",
       "      <td>0.27</td>\n",
       "      <td>0.18</td>\n",
       "      <td>0.35</td>\n",
       "      <td>0.42</td>\n",
       "      <td>0.50</td>\n",
       "      <td>0.25</td>\n",
       "      <td>0.23</td>\n",
       "      <td>0.03</td>\n",
       "      <td>0.27</td>\n",
       "      <td>0.15</td>\n",
       "      <td>...</td>\n",
       "      <td>0.76</td>\n",
       "      <td>0.23</td>\n",
       "      <td>0.08</td>\n",
       "      <td>0.23</td>\n",
       "      <td>0.26</td>\n",
       "      <td>0.24</td>\n",
       "      <td>0.08</td>\n",
       "      <td>0.20</td>\n",
       "      <td>0.36</td>\n",
       "      <td>0.03</td>\n",
       "    </tr>\n",
       "    <tr>\n",
       "      <th>2020년 12월14일</th>\n",
       "      <td>0.29</td>\n",
       "      <td>0.20</td>\n",
       "      <td>0.38</td>\n",
       "      <td>0.46</td>\n",
       "      <td>0.55</td>\n",
       "      <td>0.27</td>\n",
       "      <td>0.24</td>\n",
       "      <td>0.04</td>\n",
       "      <td>0.30</td>\n",
       "      <td>0.15</td>\n",
       "      <td>...</td>\n",
       "      <td>0.79</td>\n",
       "      <td>0.21</td>\n",
       "      <td>0.08</td>\n",
       "      <td>0.23</td>\n",
       "      <td>0.29</td>\n",
       "      <td>0.23</td>\n",
       "      <td>0.10</td>\n",
       "      <td>0.19</td>\n",
       "      <td>0.38</td>\n",
       "      <td>0.15</td>\n",
       "    </tr>\n",
       "    <tr>\n",
       "      <th>2020년 12월21일</th>\n",
       "      <td>0.29</td>\n",
       "      <td>0.22</td>\n",
       "      <td>0.37</td>\n",
       "      <td>0.43</td>\n",
       "      <td>0.48</td>\n",
       "      <td>0.29</td>\n",
       "      <td>0.27</td>\n",
       "      <td>0.05</td>\n",
       "      <td>0.31</td>\n",
       "      <td>0.22</td>\n",
       "      <td>...</td>\n",
       "      <td>0.62</td>\n",
       "      <td>0.26</td>\n",
       "      <td>0.19</td>\n",
       "      <td>0.16</td>\n",
       "      <td>0.42</td>\n",
       "      <td>0.16</td>\n",
       "      <td>0.10</td>\n",
       "      <td>0.31</td>\n",
       "      <td>0.37</td>\n",
       "      <td>0.06</td>\n",
       "    </tr>\n",
       "    <tr>\n",
       "      <th>2020년 12월28일</th>\n",
       "      <td>0.28</td>\n",
       "      <td>0.23</td>\n",
       "      <td>0.33</td>\n",
       "      <td>0.41</td>\n",
       "      <td>0.45</td>\n",
       "      <td>0.28</td>\n",
       "      <td>0.23</td>\n",
       "      <td>0.06</td>\n",
       "      <td>0.32</td>\n",
       "      <td>0.26</td>\n",
       "      <td>...</td>\n",
       "      <td>0.60</td>\n",
       "      <td>0.27</td>\n",
       "      <td>0.18</td>\n",
       "      <td>0.18</td>\n",
       "      <td>0.27</td>\n",
       "      <td>0.04</td>\n",
       "      <td>0.06</td>\n",
       "      <td>0.32</td>\n",
       "      <td>0.37</td>\n",
       "      <td>0.06</td>\n",
       "    </tr>\n",
       "  </tbody>\n",
       "</table>\n",
       "<p>313 rows × 24 columns</p>\n",
       "</div>"
      ],
      "text/plain": [
       "지 역             전국   수도권   지방권  6대광역시  5대광역시   9개도   8개도    서울    경기    인천  \\\n",
       "2014년 12월29일  0.04  0.04  0.05   0.06   0.07  0.04  0.04  0.04  0.04  0.02   \n",
       "2015년 01월05일  0.06  0.06  0.06   0.06   0.07  0.07  0.05  0.05  0.08  0.01   \n",
       "2015년 01월12일  0.06  0.06  0.06   0.07   0.08  0.06  0.05  0.02  0.08  0.05   \n",
       "2015년 01월19일  0.06  0.07  0.05   0.06   0.06  0.06  0.04  0.06  0.08  0.03   \n",
       "2015년 01월26일  0.09  0.09  0.09   0.10   0.11  0.08  0.06  0.08  0.10  0.07   \n",
       "...            ...   ...   ...    ...    ...   ...   ...   ...   ...   ...   \n",
       "2020년 11월30일  0.24  0.16  0.31   0.38   0.44  0.22  0.20  0.03  0.24  0.13   \n",
       "2020년 12월07일  0.27  0.18  0.35   0.42   0.50  0.25  0.23  0.03  0.27  0.15   \n",
       "2020년 12월14일  0.29  0.20  0.38   0.46   0.55  0.27  0.24  0.04  0.30  0.15   \n",
       "2020년 12월21일  0.29  0.22  0.37   0.43   0.48  0.29  0.27  0.05  0.31  0.22   \n",
       "2020년 12월28일  0.28  0.23  0.33   0.41   0.45  0.28  0.23  0.06  0.32  0.26   \n",
       "\n",
       "지 역           ...    울산    세종    강원    충북    충남    전북    전남    경북    경남    제주  \n",
       "2014년 12월29일  ...  0.03 -0.05  0.03  0.08 -0.02 -0.01 -0.03  0.05  0.07  0.39  \n",
       "2015년 01월05일  ...  0.02 -0.02  0.02  0.16  0.04  0.01 -0.06  0.06  0.04  0.33  \n",
       "2015년 01월12일  ...  0.04 -0.03  0.04  0.05  0.08 -0.07 -0.10  0.12  0.06  0.40  \n",
       "2015년 01월19일  ...  0.05 -0.02  0.03  0.15  0.01  0.00 -0.10  0.08  0.03  0.23  \n",
       "2015년 01월26일  ...  0.11 -0.13  0.04  0.07  0.12 -0.03 -0.05  0.13  0.06  0.24  \n",
       "...           ...   ...   ...   ...   ...   ...   ...   ...   ...   ...   ...  \n",
       "2020년 11월30일  ...  0.83  0.27  0.09  0.27  0.25  0.12  0.06  0.12  0.34  0.01  \n",
       "2020년 12월07일  ...  0.76  0.23  0.08  0.23  0.26  0.24  0.08  0.20  0.36  0.03  \n",
       "2020년 12월14일  ...  0.79  0.21  0.08  0.23  0.29  0.23  0.10  0.19  0.38  0.15  \n",
       "2020년 12월21일  ...  0.62  0.26  0.19  0.16  0.42  0.16  0.10  0.31  0.37  0.06  \n",
       "2020년 12월28일  ...  0.60  0.27  0.18  0.18  0.27  0.04  0.06  0.32  0.37  0.06  \n",
       "\n",
       "[313 rows x 24 columns]"
      ]
     },
     "execution_count": 6,
     "metadata": {},
     "output_type": "execute_result"
    }
   ],
   "source": [
    "apart_f"
   ]
  },
  {
   "cell_type": "code",
   "execution_count": 31,
   "metadata": {
    "scrolled": true
   },
   "outputs": [],
   "source": [
    "fig1=ff.create_table([apart_f.columns[7:],apart_f.iloc[0,7:]], height_constant=60)"
   ]
  },
  {
   "cell_type": "code",
   "execution_count": 35,
   "metadata": {
    "scrolled": true
   },
   "outputs": [],
   "source": [
    "test1=go.Bar(x=teams,y=GFPG)\n",
    "test2=go.Bar(x=teams,y=GFPG)"
   ]
  },
  {
   "cell_type": "code",
   "execution_count": 47,
   "metadata": {},
   "outputs": [
    {
     "data": {
      "application/vnd.plotly.v1+json": {
       "config": {
        "plotlyServerURL": "https://plot.ly"
       },
       "data": [
        {
         "colorscale": [
          [
           0,
           "#00083e"
          ],
          [
           0.5,
           "#ededee"
          ],
          [
           1,
           "#ffffff"
          ]
         ],
         "hoverinfo": "none",
         "opacity": 0.75,
         "showscale": false,
         "type": "heatmap",
         "z": [
          [
           0,
           0,
           0,
           0,
           0,
           0,
           0,
           0,
           0,
           0,
           0,
           0,
           0,
           0,
           0,
           0,
           0
          ],
          [
           0.5,
           0.5,
           0.5,
           0.5,
           0.5,
           0.5,
           0.5,
           0.5,
           0.5,
           0.5,
           0.5,
           0.5,
           0.5,
           0.5,
           0.5,
           0.5,
           0.5
          ]
         ]
        },
        {
         "type": "bar",
         "x": [
          "Montréal Canadiens",
          "Dallas Stars",
          "NY Rangers",
          "Boston Bruins",
          "Chicago Blackhawks",
          "Ottawa Senators"
         ],
         "y": [
          3.54,
          3.48,
          3,
          3.27,
          2.83,
          3.18
         ]
        },
        {
         "type": "bar",
         "x": [
          "Montréal Canadiens",
          "Dallas Stars",
          "NY Rangers",
          "Boston Bruins",
          "Chicago Blackhawks",
          "Ottawa Senators"
         ],
         "y": [
          3.54,
          3.48,
          3,
          3.27,
          2.83,
          3.18
         ]
        },
        {
         "type": "bar",
         "x": [
          "Montréal Canadiens",
          "Dallas Stars",
          "NY Rangers",
          "Boston Bruins",
          "Chicago Blackhawks",
          "Ottawa Senators"
         ],
         "y": [
          3.54,
          3.48,
          3,
          3.27,
          2.83,
          3.18
         ]
        },
        {
         "type": "bar",
         "x": [
          "Montréal Canadiens",
          "Dallas Stars",
          "NY Rangers",
          "Boston Bruins",
          "Chicago Blackhawks",
          "Ottawa Senators"
         ],
         "y": [
          3.54,
          3.48,
          3,
          3.27,
          2.83,
          3.18
         ]
        },
        {
         "type": "bar",
         "x": [
          "Montréal Canadiens",
          "Dallas Stars",
          "NY Rangers",
          "Boston Bruins",
          "Chicago Blackhawks",
          "Ottawa Senators"
         ],
         "y": [
          3.54,
          3.48,
          3,
          3.27,
          2.83,
          3.18
         ]
        },
        {
         "type": "bar",
         "x": [
          "Montréal Canadiens",
          "Dallas Stars",
          "NY Rangers",
          "Boston Bruins",
          "Chicago Blackhawks",
          "Ottawa Senators"
         ],
         "y": [
          3.54,
          3.48,
          3,
          3.27,
          2.83,
          3.18
         ]
        },
        {
         "type": "bar",
         "x": [
          "Montréal Canadiens",
          "Dallas Stars",
          "NY Rangers",
          "Boston Bruins",
          "Chicago Blackhawks",
          "Ottawa Senators"
         ],
         "y": [
          3.54,
          3.48,
          3,
          3.27,
          2.83,
          3.18
         ]
        },
        {
         "type": "bar",
         "x": [
          "Montréal Canadiens",
          "Dallas Stars",
          "NY Rangers",
          "Boston Bruins",
          "Chicago Blackhawks",
          "Ottawa Senators"
         ],
         "y": [
          3.54,
          3.48,
          3,
          3.27,
          2.83,
          3.18
         ]
        }
       ],
       "layout": {
        "annotations": [
         {
          "align": "left",
          "font": {
           "color": "#ffffff"
          },
          "showarrow": false,
          "text": "<b>서울</b>",
          "x": -0.45,
          "xanchor": "left",
          "xref": "x",
          "y": 0,
          "yref": "y"
         },
         {
          "align": "left",
          "font": {
           "color": "#ffffff"
          },
          "showarrow": false,
          "text": "<b>경기</b>",
          "x": 0.55,
          "xanchor": "left",
          "xref": "x",
          "y": 0,
          "yref": "y"
         },
         {
          "align": "left",
          "font": {
           "color": "#ffffff"
          },
          "showarrow": false,
          "text": "<b>인천</b>",
          "x": 1.55,
          "xanchor": "left",
          "xref": "x",
          "y": 0,
          "yref": "y"
         },
         {
          "align": "left",
          "font": {
           "color": "#ffffff"
          },
          "showarrow": false,
          "text": "<b>부산</b>",
          "x": 2.55,
          "xanchor": "left",
          "xref": "x",
          "y": 0,
          "yref": "y"
         },
         {
          "align": "left",
          "font": {
           "color": "#ffffff"
          },
          "showarrow": false,
          "text": "<b>대구</b>",
          "x": 3.55,
          "xanchor": "left",
          "xref": "x",
          "y": 0,
          "yref": "y"
         },
         {
          "align": "left",
          "font": {
           "color": "#ffffff"
          },
          "showarrow": false,
          "text": "<b>광주</b>",
          "x": 4.55,
          "xanchor": "left",
          "xref": "x",
          "y": 0,
          "yref": "y"
         },
         {
          "align": "left",
          "font": {
           "color": "#ffffff"
          },
          "showarrow": false,
          "text": "<b>대전</b>",
          "x": 5.55,
          "xanchor": "left",
          "xref": "x",
          "y": 0,
          "yref": "y"
         },
         {
          "align": "left",
          "font": {
           "color": "#ffffff"
          },
          "showarrow": false,
          "text": "<b>울산</b>",
          "x": 6.55,
          "xanchor": "left",
          "xref": "x",
          "y": 0,
          "yref": "y"
         },
         {
          "align": "left",
          "font": {
           "color": "#ffffff"
          },
          "showarrow": false,
          "text": "<b>세종</b>",
          "x": 7.55,
          "xanchor": "left",
          "xref": "x",
          "y": 0,
          "yref": "y"
         },
         {
          "align": "left",
          "font": {
           "color": "#ffffff"
          },
          "showarrow": false,
          "text": "<b>강원</b>",
          "x": 8.55,
          "xanchor": "left",
          "xref": "x",
          "y": 0,
          "yref": "y"
         },
         {
          "align": "left",
          "font": {
           "color": "#ffffff"
          },
          "showarrow": false,
          "text": "<b>충북</b>",
          "x": 9.55,
          "xanchor": "left",
          "xref": "x",
          "y": 0,
          "yref": "y"
         },
         {
          "align": "left",
          "font": {
           "color": "#ffffff"
          },
          "showarrow": false,
          "text": "<b>충남</b>",
          "x": 10.55,
          "xanchor": "left",
          "xref": "x",
          "y": 0,
          "yref": "y"
         },
         {
          "align": "left",
          "font": {
           "color": "#ffffff"
          },
          "showarrow": false,
          "text": "<b>전북</b>",
          "x": 11.55,
          "xanchor": "left",
          "xref": "x",
          "y": 0,
          "yref": "y"
         },
         {
          "align": "left",
          "font": {
           "color": "#ffffff"
          },
          "showarrow": false,
          "text": "<b>전남</b>",
          "x": 12.55,
          "xanchor": "left",
          "xref": "x",
          "y": 0,
          "yref": "y"
         },
         {
          "align": "left",
          "font": {
           "color": "#ffffff"
          },
          "showarrow": false,
          "text": "<b>경북</b>",
          "x": 13.55,
          "xanchor": "left",
          "xref": "x",
          "y": 0,
          "yref": "y"
         },
         {
          "align": "left",
          "font": {
           "color": "#ffffff"
          },
          "showarrow": false,
          "text": "<b>경남</b>",
          "x": 14.55,
          "xanchor": "left",
          "xref": "x",
          "y": 0,
          "yref": "y"
         },
         {
          "align": "left",
          "font": {
           "color": "#ffffff"
          },
          "showarrow": false,
          "text": "<b>제주</b>",
          "x": 15.55,
          "xanchor": "left",
          "xref": "x",
          "y": 0,
          "yref": "y"
         },
         {
          "align": "left",
          "font": {
           "color": "#000000"
          },
          "showarrow": false,
          "text": "0.04",
          "x": -0.45,
          "xanchor": "left",
          "xref": "x",
          "y": 1,
          "yref": "y"
         },
         {
          "align": "left",
          "font": {
           "color": "#000000"
          },
          "showarrow": false,
          "text": "0.04",
          "x": 0.55,
          "xanchor": "left",
          "xref": "x",
          "y": 1,
          "yref": "y"
         },
         {
          "align": "left",
          "font": {
           "color": "#000000"
          },
          "showarrow": false,
          "text": "0.02",
          "x": 1.55,
          "xanchor": "left",
          "xref": "x",
          "y": 1,
          "yref": "y"
         },
         {
          "align": "left",
          "font": {
           "color": "#000000"
          },
          "showarrow": false,
          "text": "0.05",
          "x": 2.55,
          "xanchor": "left",
          "xref": "x",
          "y": 1,
          "yref": "y"
         },
         {
          "align": "left",
          "font": {
           "color": "#000000"
          },
          "showarrow": false,
          "text": "0.12",
          "x": 3.55,
          "xanchor": "left",
          "xref": "x",
          "y": 1,
          "yref": "y"
         },
         {
          "align": "left",
          "font": {
           "color": "#000000"
          },
          "showarrow": false,
          "text": "0.07",
          "x": 4.55,
          "xanchor": "left",
          "xref": "x",
          "y": 1,
          "yref": "y"
         },
         {
          "align": "left",
          "font": {
           "color": "#000000"
          },
          "showarrow": false,
          "text": "0.03",
          "x": 5.55,
          "xanchor": "left",
          "xref": "x",
          "y": 1,
          "yref": "y"
         },
         {
          "align": "left",
          "font": {
           "color": "#000000"
          },
          "showarrow": false,
          "text": "0.03",
          "x": 6.55,
          "xanchor": "left",
          "xref": "x",
          "y": 1,
          "yref": "y"
         },
         {
          "align": "left",
          "font": {
           "color": "#000000"
          },
          "showarrow": false,
          "text": "-0.05",
          "x": 7.55,
          "xanchor": "left",
          "xref": "x",
          "y": 1,
          "yref": "y"
         },
         {
          "align": "left",
          "font": {
           "color": "#000000"
          },
          "showarrow": false,
          "text": "0.03",
          "x": 8.55,
          "xanchor": "left",
          "xref": "x",
          "y": 1,
          "yref": "y"
         },
         {
          "align": "left",
          "font": {
           "color": "#000000"
          },
          "showarrow": false,
          "text": "0.08",
          "x": 9.55,
          "xanchor": "left",
          "xref": "x",
          "y": 1,
          "yref": "y"
         },
         {
          "align": "left",
          "font": {
           "color": "#000000"
          },
          "showarrow": false,
          "text": "-0.02",
          "x": 10.55,
          "xanchor": "left",
          "xref": "x",
          "y": 1,
          "yref": "y"
         },
         {
          "align": "left",
          "font": {
           "color": "#000000"
          },
          "showarrow": false,
          "text": "-0.01",
          "x": 11.55,
          "xanchor": "left",
          "xref": "x",
          "y": 1,
          "yref": "y"
         },
         {
          "align": "left",
          "font": {
           "color": "#000000"
          },
          "showarrow": false,
          "text": "-0.03",
          "x": 12.55,
          "xanchor": "left",
          "xref": "x",
          "y": 1,
          "yref": "y"
         },
         {
          "align": "left",
          "font": {
           "color": "#000000"
          },
          "showarrow": false,
          "text": "0.05",
          "x": 13.55,
          "xanchor": "left",
          "xref": "x",
          "y": 1,
          "yref": "y"
         },
         {
          "align": "left",
          "font": {
           "color": "#000000"
          },
          "showarrow": false,
          "text": "0.07",
          "x": 14.55,
          "xanchor": "left",
          "xref": "x",
          "y": 1,
          "yref": "y"
         },
         {
          "align": "left",
          "font": {
           "color": "#000000"
          },
          "showarrow": false,
          "text": "0.39",
          "x": 15.55,
          "xanchor": "left",
          "xref": "x",
          "y": 1,
          "yref": "y"
         }
        ],
        "height": 170,
        "margin": {
         "b": 0,
         "l": 0,
         "r": 0,
         "t": 0
        },
        "template": {
         "data": {
          "bar": [
           {
            "error_x": {
             "color": "#2a3f5f"
            },
            "error_y": {
             "color": "#2a3f5f"
            },
            "marker": {
             "line": {
              "color": "#E5ECF6",
              "width": 0.5
             }
            },
            "type": "bar"
           }
          ],
          "barpolar": [
           {
            "marker": {
             "line": {
              "color": "#E5ECF6",
              "width": 0.5
             }
            },
            "type": "barpolar"
           }
          ],
          "carpet": [
           {
            "aaxis": {
             "endlinecolor": "#2a3f5f",
             "gridcolor": "white",
             "linecolor": "white",
             "minorgridcolor": "white",
             "startlinecolor": "#2a3f5f"
            },
            "baxis": {
             "endlinecolor": "#2a3f5f",
             "gridcolor": "white",
             "linecolor": "white",
             "minorgridcolor": "white",
             "startlinecolor": "#2a3f5f"
            },
            "type": "carpet"
           }
          ],
          "choropleth": [
           {
            "colorbar": {
             "outlinewidth": 0,
             "ticks": ""
            },
            "type": "choropleth"
           }
          ],
          "contour": [
           {
            "colorbar": {
             "outlinewidth": 0,
             "ticks": ""
            },
            "colorscale": [
             [
              0,
              "#0d0887"
             ],
             [
              0.1111111111111111,
              "#46039f"
             ],
             [
              0.2222222222222222,
              "#7201a8"
             ],
             [
              0.3333333333333333,
              "#9c179e"
             ],
             [
              0.4444444444444444,
              "#bd3786"
             ],
             [
              0.5555555555555556,
              "#d8576b"
             ],
             [
              0.6666666666666666,
              "#ed7953"
             ],
             [
              0.7777777777777778,
              "#fb9f3a"
             ],
             [
              0.8888888888888888,
              "#fdca26"
             ],
             [
              1,
              "#f0f921"
             ]
            ],
            "type": "contour"
           }
          ],
          "contourcarpet": [
           {
            "colorbar": {
             "outlinewidth": 0,
             "ticks": ""
            },
            "type": "contourcarpet"
           }
          ],
          "heatmap": [
           {
            "colorbar": {
             "outlinewidth": 0,
             "ticks": ""
            },
            "colorscale": [
             [
              0,
              "#0d0887"
             ],
             [
              0.1111111111111111,
              "#46039f"
             ],
             [
              0.2222222222222222,
              "#7201a8"
             ],
             [
              0.3333333333333333,
              "#9c179e"
             ],
             [
              0.4444444444444444,
              "#bd3786"
             ],
             [
              0.5555555555555556,
              "#d8576b"
             ],
             [
              0.6666666666666666,
              "#ed7953"
             ],
             [
              0.7777777777777778,
              "#fb9f3a"
             ],
             [
              0.8888888888888888,
              "#fdca26"
             ],
             [
              1,
              "#f0f921"
             ]
            ],
            "type": "heatmap"
           }
          ],
          "heatmapgl": [
           {
            "colorbar": {
             "outlinewidth": 0,
             "ticks": ""
            },
            "colorscale": [
             [
              0,
              "#0d0887"
             ],
             [
              0.1111111111111111,
              "#46039f"
             ],
             [
              0.2222222222222222,
              "#7201a8"
             ],
             [
              0.3333333333333333,
              "#9c179e"
             ],
             [
              0.4444444444444444,
              "#bd3786"
             ],
             [
              0.5555555555555556,
              "#d8576b"
             ],
             [
              0.6666666666666666,
              "#ed7953"
             ],
             [
              0.7777777777777778,
              "#fb9f3a"
             ],
             [
              0.8888888888888888,
              "#fdca26"
             ],
             [
              1,
              "#f0f921"
             ]
            ],
            "type": "heatmapgl"
           }
          ],
          "histogram": [
           {
            "marker": {
             "colorbar": {
              "outlinewidth": 0,
              "ticks": ""
             }
            },
            "type": "histogram"
           }
          ],
          "histogram2d": [
           {
            "colorbar": {
             "outlinewidth": 0,
             "ticks": ""
            },
            "colorscale": [
             [
              0,
              "#0d0887"
             ],
             [
              0.1111111111111111,
              "#46039f"
             ],
             [
              0.2222222222222222,
              "#7201a8"
             ],
             [
              0.3333333333333333,
              "#9c179e"
             ],
             [
              0.4444444444444444,
              "#bd3786"
             ],
             [
              0.5555555555555556,
              "#d8576b"
             ],
             [
              0.6666666666666666,
              "#ed7953"
             ],
             [
              0.7777777777777778,
              "#fb9f3a"
             ],
             [
              0.8888888888888888,
              "#fdca26"
             ],
             [
              1,
              "#f0f921"
             ]
            ],
            "type": "histogram2d"
           }
          ],
          "histogram2dcontour": [
           {
            "colorbar": {
             "outlinewidth": 0,
             "ticks": ""
            },
            "colorscale": [
             [
              0,
              "#0d0887"
             ],
             [
              0.1111111111111111,
              "#46039f"
             ],
             [
              0.2222222222222222,
              "#7201a8"
             ],
             [
              0.3333333333333333,
              "#9c179e"
             ],
             [
              0.4444444444444444,
              "#bd3786"
             ],
             [
              0.5555555555555556,
              "#d8576b"
             ],
             [
              0.6666666666666666,
              "#ed7953"
             ],
             [
              0.7777777777777778,
              "#fb9f3a"
             ],
             [
              0.8888888888888888,
              "#fdca26"
             ],
             [
              1,
              "#f0f921"
             ]
            ],
            "type": "histogram2dcontour"
           }
          ],
          "mesh3d": [
           {
            "colorbar": {
             "outlinewidth": 0,
             "ticks": ""
            },
            "type": "mesh3d"
           }
          ],
          "parcoords": [
           {
            "line": {
             "colorbar": {
              "outlinewidth": 0,
              "ticks": ""
             }
            },
            "type": "parcoords"
           }
          ],
          "pie": [
           {
            "automargin": true,
            "type": "pie"
           }
          ],
          "scatter": [
           {
            "marker": {
             "colorbar": {
              "outlinewidth": 0,
              "ticks": ""
             }
            },
            "type": "scatter"
           }
          ],
          "scatter3d": [
           {
            "line": {
             "colorbar": {
              "outlinewidth": 0,
              "ticks": ""
             }
            },
            "marker": {
             "colorbar": {
              "outlinewidth": 0,
              "ticks": ""
             }
            },
            "type": "scatter3d"
           }
          ],
          "scattercarpet": [
           {
            "marker": {
             "colorbar": {
              "outlinewidth": 0,
              "ticks": ""
             }
            },
            "type": "scattercarpet"
           }
          ],
          "scattergeo": [
           {
            "marker": {
             "colorbar": {
              "outlinewidth": 0,
              "ticks": ""
             }
            },
            "type": "scattergeo"
           }
          ],
          "scattergl": [
           {
            "marker": {
             "colorbar": {
              "outlinewidth": 0,
              "ticks": ""
             }
            },
            "type": "scattergl"
           }
          ],
          "scattermapbox": [
           {
            "marker": {
             "colorbar": {
              "outlinewidth": 0,
              "ticks": ""
             }
            },
            "type": "scattermapbox"
           }
          ],
          "scatterpolar": [
           {
            "marker": {
             "colorbar": {
              "outlinewidth": 0,
              "ticks": ""
             }
            },
            "type": "scatterpolar"
           }
          ],
          "scatterpolargl": [
           {
            "marker": {
             "colorbar": {
              "outlinewidth": 0,
              "ticks": ""
             }
            },
            "type": "scatterpolargl"
           }
          ],
          "scatterternary": [
           {
            "marker": {
             "colorbar": {
              "outlinewidth": 0,
              "ticks": ""
             }
            },
            "type": "scatterternary"
           }
          ],
          "surface": [
           {
            "colorbar": {
             "outlinewidth": 0,
             "ticks": ""
            },
            "colorscale": [
             [
              0,
              "#0d0887"
             ],
             [
              0.1111111111111111,
              "#46039f"
             ],
             [
              0.2222222222222222,
              "#7201a8"
             ],
             [
              0.3333333333333333,
              "#9c179e"
             ],
             [
              0.4444444444444444,
              "#bd3786"
             ],
             [
              0.5555555555555556,
              "#d8576b"
             ],
             [
              0.6666666666666666,
              "#ed7953"
             ],
             [
              0.7777777777777778,
              "#fb9f3a"
             ],
             [
              0.8888888888888888,
              "#fdca26"
             ],
             [
              1,
              "#f0f921"
             ]
            ],
            "type": "surface"
           }
          ],
          "table": [
           {
            "cells": {
             "fill": {
              "color": "#EBF0F8"
             },
             "line": {
              "color": "white"
             }
            },
            "header": {
             "fill": {
              "color": "#C8D4E3"
             },
             "line": {
              "color": "white"
             }
            },
            "type": "table"
           }
          ]
         },
         "layout": {
          "annotationdefaults": {
           "arrowcolor": "#2a3f5f",
           "arrowhead": 0,
           "arrowwidth": 1
          },
          "autotypenumbers": "strict",
          "coloraxis": {
           "colorbar": {
            "outlinewidth": 0,
            "ticks": ""
           }
          },
          "colorscale": {
           "diverging": [
            [
             0,
             "#8e0152"
            ],
            [
             0.1,
             "#c51b7d"
            ],
            [
             0.2,
             "#de77ae"
            ],
            [
             0.3,
             "#f1b6da"
            ],
            [
             0.4,
             "#fde0ef"
            ],
            [
             0.5,
             "#f7f7f7"
            ],
            [
             0.6,
             "#e6f5d0"
            ],
            [
             0.7,
             "#b8e186"
            ],
            [
             0.8,
             "#7fbc41"
            ],
            [
             0.9,
             "#4d9221"
            ],
            [
             1,
             "#276419"
            ]
           ],
           "sequential": [
            [
             0,
             "#0d0887"
            ],
            [
             0.1111111111111111,
             "#46039f"
            ],
            [
             0.2222222222222222,
             "#7201a8"
            ],
            [
             0.3333333333333333,
             "#9c179e"
            ],
            [
             0.4444444444444444,
             "#bd3786"
            ],
            [
             0.5555555555555556,
             "#d8576b"
            ],
            [
             0.6666666666666666,
             "#ed7953"
            ],
            [
             0.7777777777777778,
             "#fb9f3a"
            ],
            [
             0.8888888888888888,
             "#fdca26"
            ],
            [
             1,
             "#f0f921"
            ]
           ],
           "sequentialminus": [
            [
             0,
             "#0d0887"
            ],
            [
             0.1111111111111111,
             "#46039f"
            ],
            [
             0.2222222222222222,
             "#7201a8"
            ],
            [
             0.3333333333333333,
             "#9c179e"
            ],
            [
             0.4444444444444444,
             "#bd3786"
            ],
            [
             0.5555555555555556,
             "#d8576b"
            ],
            [
             0.6666666666666666,
             "#ed7953"
            ],
            [
             0.7777777777777778,
             "#fb9f3a"
            ],
            [
             0.8888888888888888,
             "#fdca26"
            ],
            [
             1,
             "#f0f921"
            ]
           ]
          },
          "colorway": [
           "#636efa",
           "#EF553B",
           "#00cc96",
           "#ab63fa",
           "#FFA15A",
           "#19d3f3",
           "#FF6692",
           "#B6E880",
           "#FF97FF",
           "#FECB52"
          ],
          "font": {
           "color": "#2a3f5f"
          },
          "geo": {
           "bgcolor": "white",
           "lakecolor": "white",
           "landcolor": "#E5ECF6",
           "showlakes": true,
           "showland": true,
           "subunitcolor": "white"
          },
          "hoverlabel": {
           "align": "left"
          },
          "hovermode": "closest",
          "mapbox": {
           "style": "light"
          },
          "paper_bgcolor": "white",
          "plot_bgcolor": "#E5ECF6",
          "polar": {
           "angularaxis": {
            "gridcolor": "white",
            "linecolor": "white",
            "ticks": ""
           },
           "bgcolor": "#E5ECF6",
           "radialaxis": {
            "gridcolor": "white",
            "linecolor": "white",
            "ticks": ""
           }
          },
          "scene": {
           "xaxis": {
            "backgroundcolor": "#E5ECF6",
            "gridcolor": "white",
            "gridwidth": 2,
            "linecolor": "white",
            "showbackground": true,
            "ticks": "",
            "zerolinecolor": "white"
           },
           "yaxis": {
            "backgroundcolor": "#E5ECF6",
            "gridcolor": "white",
            "gridwidth": 2,
            "linecolor": "white",
            "showbackground": true,
            "ticks": "",
            "zerolinecolor": "white"
           },
           "zaxis": {
            "backgroundcolor": "#E5ECF6",
            "gridcolor": "white",
            "gridwidth": 2,
            "linecolor": "white",
            "showbackground": true,
            "ticks": "",
            "zerolinecolor": "white"
           }
          },
          "shapedefaults": {
           "line": {
            "color": "#2a3f5f"
           }
          },
          "ternary": {
           "aaxis": {
            "gridcolor": "white",
            "linecolor": "white",
            "ticks": ""
           },
           "baxis": {
            "gridcolor": "white",
            "linecolor": "white",
            "ticks": ""
           },
           "bgcolor": "#E5ECF6",
           "caxis": {
            "gridcolor": "white",
            "linecolor": "white",
            "ticks": ""
           }
          },
          "title": {
           "x": 0.05
          },
          "xaxis": {
           "automargin": true,
           "gridcolor": "white",
           "linecolor": "white",
           "ticks": "",
           "title": {
            "standoff": 15
           },
           "zerolinecolor": "white",
           "zerolinewidth": 2
          },
          "yaxis": {
           "automargin": true,
           "gridcolor": "white",
           "linecolor": "white",
           "ticks": "",
           "title": {
            "standoff": 15
           },
           "zerolinecolor": "white",
           "zerolinewidth": 2
          }
         }
        },
        "xaxis": {
         "dtick": 1,
         "gridwidth": 2,
         "showticklabels": false,
         "tick0": -0.5,
         "ticks": "",
         "zeroline": false
        },
        "xaxis2": {
         "anchor": "y2"
        },
        "yaxis": {
         "autorange": "reversed",
         "domain": [
          0,
          0.45
         ],
         "dtick": 1,
         "gridwidth": 2,
         "showticklabels": false,
         "tick0": 0.5,
         "ticks": "",
         "zeroline": false
        },
        "yaxis2": {
         "anchor": "x2",
         "domain": [
          0.6,
          1
         ],
         "title": {
          "text": "Goals"
         }
        }
       }
      },
      "text/html": [
       "<div>                            <div id=\"3b41ddb6-a89b-454d-b575-eb1717a78e3d\" class=\"plotly-graph-div\" style=\"height:170px; width:100%;\"></div>            <script type=\"text/javascript\">                require([\"plotly\"], function(Plotly) {                    window.PLOTLYENV=window.PLOTLYENV || {};                                    if (document.getElementById(\"3b41ddb6-a89b-454d-b575-eb1717a78e3d\")) {                    Plotly.newPlot(                        \"3b41ddb6-a89b-454d-b575-eb1717a78e3d\",                        [{\"colorscale\": [[0, \"#00083e\"], [0.5, \"#ededee\"], [1, \"#ffffff\"]], \"hoverinfo\": \"none\", \"opacity\": 0.75, \"showscale\": false, \"type\": \"heatmap\", \"z\": [[0, 0, 0, 0, 0, 0, 0, 0, 0, 0, 0, 0, 0, 0, 0, 0, 0], [0.5, 0.5, 0.5, 0.5, 0.5, 0.5, 0.5, 0.5, 0.5, 0.5, 0.5, 0.5, 0.5, 0.5, 0.5, 0.5, 0.5]]}, {\"type\": \"bar\", \"x\": [\"Montr\\u00e9al Canadiens\", \"Dallas Stars\", \"NY Rangers\", \"Boston Bruins\", \"Chicago Blackhawks\", \"Ottawa Senators\"], \"y\": [3.54, 3.48, 3.0, 3.27, 2.83, 3.18]}, {\"type\": \"bar\", \"x\": [\"Montr\\u00e9al Canadiens\", \"Dallas Stars\", \"NY Rangers\", \"Boston Bruins\", \"Chicago Blackhawks\", \"Ottawa Senators\"], \"y\": [3.54, 3.48, 3.0, 3.27, 2.83, 3.18]}, {\"type\": \"bar\", \"x\": [\"Montr\\u00e9al Canadiens\", \"Dallas Stars\", \"NY Rangers\", \"Boston Bruins\", \"Chicago Blackhawks\", \"Ottawa Senators\"], \"y\": [3.54, 3.48, 3.0, 3.27, 2.83, 3.18]}, {\"type\": \"bar\", \"x\": [\"Montr\\u00e9al Canadiens\", \"Dallas Stars\", \"NY Rangers\", \"Boston Bruins\", \"Chicago Blackhawks\", \"Ottawa Senators\"], \"y\": [3.54, 3.48, 3.0, 3.27, 2.83, 3.18]}, {\"type\": \"bar\", \"x\": [\"Montr\\u00e9al Canadiens\", \"Dallas Stars\", \"NY Rangers\", \"Boston Bruins\", \"Chicago Blackhawks\", \"Ottawa Senators\"], \"y\": [3.54, 3.48, 3.0, 3.27, 2.83, 3.18]}, {\"type\": \"bar\", \"x\": [\"Montr\\u00e9al Canadiens\", \"Dallas Stars\", \"NY Rangers\", \"Boston Bruins\", \"Chicago Blackhawks\", \"Ottawa Senators\"], \"y\": [3.54, 3.48, 3.0, 3.27, 2.83, 3.18]}, {\"type\": \"bar\", \"x\": [\"Montr\\u00e9al Canadiens\", \"Dallas Stars\", \"NY Rangers\", \"Boston Bruins\", \"Chicago Blackhawks\", \"Ottawa Senators\"], \"y\": [3.54, 3.48, 3.0, 3.27, 2.83, 3.18]}, {\"type\": \"bar\", \"x\": [\"Montr\\u00e9al Canadiens\", \"Dallas Stars\", \"NY Rangers\", \"Boston Bruins\", \"Chicago Blackhawks\", \"Ottawa Senators\"], \"y\": [3.54, 3.48, 3.0, 3.27, 2.83, 3.18]}],                        {\"annotations\": [{\"align\": \"left\", \"font\": {\"color\": \"#ffffff\"}, \"showarrow\": false, \"text\": \"<b>\\uc11c\\uc6b8</b>\", \"x\": -0.45, \"xanchor\": \"left\", \"xref\": \"x\", \"y\": 0, \"yref\": \"y\"}, {\"align\": \"left\", \"font\": {\"color\": \"#ffffff\"}, \"showarrow\": false, \"text\": \"<b>\\uacbd\\uae30</b>\", \"x\": 0.55, \"xanchor\": \"left\", \"xref\": \"x\", \"y\": 0, \"yref\": \"y\"}, {\"align\": \"left\", \"font\": {\"color\": \"#ffffff\"}, \"showarrow\": false, \"text\": \"<b>\\uc778\\ucc9c</b>\", \"x\": 1.55, \"xanchor\": \"left\", \"xref\": \"x\", \"y\": 0, \"yref\": \"y\"}, {\"align\": \"left\", \"font\": {\"color\": \"#ffffff\"}, \"showarrow\": false, \"text\": \"<b>\\ubd80\\uc0b0</b>\", \"x\": 2.55, \"xanchor\": \"left\", \"xref\": \"x\", \"y\": 0, \"yref\": \"y\"}, {\"align\": \"left\", \"font\": {\"color\": \"#ffffff\"}, \"showarrow\": false, \"text\": \"<b>\\ub300\\uad6c</b>\", \"x\": 3.55, \"xanchor\": \"left\", \"xref\": \"x\", \"y\": 0, \"yref\": \"y\"}, {\"align\": \"left\", \"font\": {\"color\": \"#ffffff\"}, \"showarrow\": false, \"text\": \"<b>\\uad11\\uc8fc</b>\", \"x\": 4.55, \"xanchor\": \"left\", \"xref\": \"x\", \"y\": 0, \"yref\": \"y\"}, {\"align\": \"left\", \"font\": {\"color\": \"#ffffff\"}, \"showarrow\": false, \"text\": \"<b>\\ub300\\uc804</b>\", \"x\": 5.55, \"xanchor\": \"left\", \"xref\": \"x\", \"y\": 0, \"yref\": \"y\"}, {\"align\": \"left\", \"font\": {\"color\": \"#ffffff\"}, \"showarrow\": false, \"text\": \"<b>\\uc6b8\\uc0b0</b>\", \"x\": 6.55, \"xanchor\": \"left\", \"xref\": \"x\", \"y\": 0, \"yref\": \"y\"}, {\"align\": \"left\", \"font\": {\"color\": \"#ffffff\"}, \"showarrow\": false, \"text\": \"<b>\\uc138\\uc885</b>\", \"x\": 7.55, \"xanchor\": \"left\", \"xref\": \"x\", \"y\": 0, \"yref\": \"y\"}, {\"align\": \"left\", \"font\": {\"color\": \"#ffffff\"}, \"showarrow\": false, \"text\": \"<b>\\uac15\\uc6d0</b>\", \"x\": 8.55, \"xanchor\": \"left\", \"xref\": \"x\", \"y\": 0, \"yref\": \"y\"}, {\"align\": \"left\", \"font\": {\"color\": \"#ffffff\"}, \"showarrow\": false, \"text\": \"<b>\\ucda9\\ubd81</b>\", \"x\": 9.55, \"xanchor\": \"left\", \"xref\": \"x\", \"y\": 0, \"yref\": \"y\"}, {\"align\": \"left\", \"font\": {\"color\": \"#ffffff\"}, \"showarrow\": false, \"text\": \"<b>\\ucda9\\ub0a8</b>\", \"x\": 10.55, \"xanchor\": \"left\", \"xref\": \"x\", \"y\": 0, \"yref\": \"y\"}, {\"align\": \"left\", \"font\": {\"color\": \"#ffffff\"}, \"showarrow\": false, \"text\": \"<b>\\uc804\\ubd81</b>\", \"x\": 11.55, \"xanchor\": \"left\", \"xref\": \"x\", \"y\": 0, \"yref\": \"y\"}, {\"align\": \"left\", \"font\": {\"color\": \"#ffffff\"}, \"showarrow\": false, \"text\": \"<b>\\uc804\\ub0a8</b>\", \"x\": 12.55, \"xanchor\": \"left\", \"xref\": \"x\", \"y\": 0, \"yref\": \"y\"}, {\"align\": \"left\", \"font\": {\"color\": \"#ffffff\"}, \"showarrow\": false, \"text\": \"<b>\\uacbd\\ubd81</b>\", \"x\": 13.55, \"xanchor\": \"left\", \"xref\": \"x\", \"y\": 0, \"yref\": \"y\"}, {\"align\": \"left\", \"font\": {\"color\": \"#ffffff\"}, \"showarrow\": false, \"text\": \"<b>\\uacbd\\ub0a8</b>\", \"x\": 14.55, \"xanchor\": \"left\", \"xref\": \"x\", \"y\": 0, \"yref\": \"y\"}, {\"align\": \"left\", \"font\": {\"color\": \"#ffffff\"}, \"showarrow\": false, \"text\": \"<b>\\uc81c\\uc8fc</b>\", \"x\": 15.55, \"xanchor\": \"left\", \"xref\": \"x\", \"y\": 0, \"yref\": \"y\"}, {\"align\": \"left\", \"font\": {\"color\": \"#000000\"}, \"showarrow\": false, \"text\": \"0.04\", \"x\": -0.45, \"xanchor\": \"left\", \"xref\": \"x\", \"y\": 1, \"yref\": \"y\"}, {\"align\": \"left\", \"font\": {\"color\": \"#000000\"}, \"showarrow\": false, \"text\": \"0.04\", \"x\": 0.55, \"xanchor\": \"left\", \"xref\": \"x\", \"y\": 1, \"yref\": \"y\"}, {\"align\": \"left\", \"font\": {\"color\": \"#000000\"}, \"showarrow\": false, \"text\": \"0.02\", \"x\": 1.55, \"xanchor\": \"left\", \"xref\": \"x\", \"y\": 1, \"yref\": \"y\"}, {\"align\": \"left\", \"font\": {\"color\": \"#000000\"}, \"showarrow\": false, \"text\": \"0.05\", \"x\": 2.55, \"xanchor\": \"left\", \"xref\": \"x\", \"y\": 1, \"yref\": \"y\"}, {\"align\": \"left\", \"font\": {\"color\": \"#000000\"}, \"showarrow\": false, \"text\": \"0.12\", \"x\": 3.55, \"xanchor\": \"left\", \"xref\": \"x\", \"y\": 1, \"yref\": \"y\"}, {\"align\": \"left\", \"font\": {\"color\": \"#000000\"}, \"showarrow\": false, \"text\": \"0.07\", \"x\": 4.55, \"xanchor\": \"left\", \"xref\": \"x\", \"y\": 1, \"yref\": \"y\"}, {\"align\": \"left\", \"font\": {\"color\": \"#000000\"}, \"showarrow\": false, \"text\": \"0.03\", \"x\": 5.55, \"xanchor\": \"left\", \"xref\": \"x\", \"y\": 1, \"yref\": \"y\"}, {\"align\": \"left\", \"font\": {\"color\": \"#000000\"}, \"showarrow\": false, \"text\": \"0.03\", \"x\": 6.55, \"xanchor\": \"left\", \"xref\": \"x\", \"y\": 1, \"yref\": \"y\"}, {\"align\": \"left\", \"font\": {\"color\": \"#000000\"}, \"showarrow\": false, \"text\": \"-0.05\", \"x\": 7.55, \"xanchor\": \"left\", \"xref\": \"x\", \"y\": 1, \"yref\": \"y\"}, {\"align\": \"left\", \"font\": {\"color\": \"#000000\"}, \"showarrow\": false, \"text\": \"0.03\", \"x\": 8.55, \"xanchor\": \"left\", \"xref\": \"x\", \"y\": 1, \"yref\": \"y\"}, {\"align\": \"left\", \"font\": {\"color\": \"#000000\"}, \"showarrow\": false, \"text\": \"0.08\", \"x\": 9.55, \"xanchor\": \"left\", \"xref\": \"x\", \"y\": 1, \"yref\": \"y\"}, {\"align\": \"left\", \"font\": {\"color\": \"#000000\"}, \"showarrow\": false, \"text\": \"-0.02\", \"x\": 10.55, \"xanchor\": \"left\", \"xref\": \"x\", \"y\": 1, \"yref\": \"y\"}, {\"align\": \"left\", \"font\": {\"color\": \"#000000\"}, \"showarrow\": false, \"text\": \"-0.01\", \"x\": 11.55, \"xanchor\": \"left\", \"xref\": \"x\", \"y\": 1, \"yref\": \"y\"}, {\"align\": \"left\", \"font\": {\"color\": \"#000000\"}, \"showarrow\": false, \"text\": \"-0.03\", \"x\": 12.55, \"xanchor\": \"left\", \"xref\": \"x\", \"y\": 1, \"yref\": \"y\"}, {\"align\": \"left\", \"font\": {\"color\": \"#000000\"}, \"showarrow\": false, \"text\": \"0.05\", \"x\": 13.55, \"xanchor\": \"left\", \"xref\": \"x\", \"y\": 1, \"yref\": \"y\"}, {\"align\": \"left\", \"font\": {\"color\": \"#000000\"}, \"showarrow\": false, \"text\": \"0.07\", \"x\": 14.55, \"xanchor\": \"left\", \"xref\": \"x\", \"y\": 1, \"yref\": \"y\"}, {\"align\": \"left\", \"font\": {\"color\": \"#000000\"}, \"showarrow\": false, \"text\": \"0.39\", \"x\": 15.55, \"xanchor\": \"left\", \"xref\": \"x\", \"y\": 1, \"yref\": \"y\"}], \"height\": 170, \"margin\": {\"b\": 0, \"l\": 0, \"r\": 0, \"t\": 0}, \"template\": {\"data\": {\"bar\": [{\"error_x\": {\"color\": \"#2a3f5f\"}, \"error_y\": {\"color\": \"#2a3f5f\"}, \"marker\": {\"line\": {\"color\": \"#E5ECF6\", \"width\": 0.5}}, \"type\": \"bar\"}], \"barpolar\": [{\"marker\": {\"line\": {\"color\": \"#E5ECF6\", \"width\": 0.5}}, \"type\": \"barpolar\"}], \"carpet\": [{\"aaxis\": {\"endlinecolor\": \"#2a3f5f\", \"gridcolor\": \"white\", \"linecolor\": \"white\", \"minorgridcolor\": \"white\", \"startlinecolor\": \"#2a3f5f\"}, \"baxis\": {\"endlinecolor\": \"#2a3f5f\", \"gridcolor\": \"white\", \"linecolor\": \"white\", \"minorgridcolor\": \"white\", \"startlinecolor\": \"#2a3f5f\"}, \"type\": \"carpet\"}], \"choropleth\": [{\"colorbar\": {\"outlinewidth\": 0, \"ticks\": \"\"}, \"type\": \"choropleth\"}], \"contour\": [{\"colorbar\": {\"outlinewidth\": 0, \"ticks\": \"\"}, \"colorscale\": [[0.0, \"#0d0887\"], [0.1111111111111111, \"#46039f\"], [0.2222222222222222, \"#7201a8\"], [0.3333333333333333, \"#9c179e\"], [0.4444444444444444, \"#bd3786\"], [0.5555555555555556, \"#d8576b\"], [0.6666666666666666, \"#ed7953\"], [0.7777777777777778, \"#fb9f3a\"], [0.8888888888888888, \"#fdca26\"], [1.0, \"#f0f921\"]], \"type\": \"contour\"}], \"contourcarpet\": [{\"colorbar\": {\"outlinewidth\": 0, \"ticks\": \"\"}, \"type\": \"contourcarpet\"}], \"heatmap\": [{\"colorbar\": {\"outlinewidth\": 0, \"ticks\": \"\"}, \"colorscale\": [[0.0, \"#0d0887\"], [0.1111111111111111, \"#46039f\"], [0.2222222222222222, \"#7201a8\"], [0.3333333333333333, \"#9c179e\"], [0.4444444444444444, \"#bd3786\"], [0.5555555555555556, \"#d8576b\"], [0.6666666666666666, \"#ed7953\"], [0.7777777777777778, \"#fb9f3a\"], [0.8888888888888888, \"#fdca26\"], [1.0, \"#f0f921\"]], \"type\": \"heatmap\"}], \"heatmapgl\": [{\"colorbar\": {\"outlinewidth\": 0, \"ticks\": \"\"}, \"colorscale\": [[0.0, \"#0d0887\"], [0.1111111111111111, \"#46039f\"], [0.2222222222222222, \"#7201a8\"], [0.3333333333333333, \"#9c179e\"], [0.4444444444444444, \"#bd3786\"], [0.5555555555555556, \"#d8576b\"], [0.6666666666666666, \"#ed7953\"], [0.7777777777777778, \"#fb9f3a\"], [0.8888888888888888, \"#fdca26\"], [1.0, \"#f0f921\"]], \"type\": \"heatmapgl\"}], \"histogram\": [{\"marker\": {\"colorbar\": {\"outlinewidth\": 0, \"ticks\": \"\"}}, \"type\": \"histogram\"}], \"histogram2d\": [{\"colorbar\": {\"outlinewidth\": 0, \"ticks\": \"\"}, \"colorscale\": [[0.0, \"#0d0887\"], [0.1111111111111111, \"#46039f\"], [0.2222222222222222, \"#7201a8\"], [0.3333333333333333, \"#9c179e\"], [0.4444444444444444, \"#bd3786\"], [0.5555555555555556, \"#d8576b\"], [0.6666666666666666, \"#ed7953\"], [0.7777777777777778, \"#fb9f3a\"], [0.8888888888888888, \"#fdca26\"], [1.0, \"#f0f921\"]], \"type\": \"histogram2d\"}], \"histogram2dcontour\": [{\"colorbar\": {\"outlinewidth\": 0, \"ticks\": \"\"}, \"colorscale\": [[0.0, \"#0d0887\"], [0.1111111111111111, \"#46039f\"], [0.2222222222222222, \"#7201a8\"], [0.3333333333333333, \"#9c179e\"], [0.4444444444444444, \"#bd3786\"], [0.5555555555555556, \"#d8576b\"], [0.6666666666666666, \"#ed7953\"], [0.7777777777777778, \"#fb9f3a\"], [0.8888888888888888, \"#fdca26\"], [1.0, \"#f0f921\"]], \"type\": \"histogram2dcontour\"}], \"mesh3d\": [{\"colorbar\": {\"outlinewidth\": 0, \"ticks\": \"\"}, \"type\": \"mesh3d\"}], \"parcoords\": [{\"line\": {\"colorbar\": {\"outlinewidth\": 0, \"ticks\": \"\"}}, \"type\": \"parcoords\"}], \"pie\": [{\"automargin\": true, \"type\": \"pie\"}], \"scatter\": [{\"marker\": {\"colorbar\": {\"outlinewidth\": 0, \"ticks\": \"\"}}, \"type\": \"scatter\"}], \"scatter3d\": [{\"line\": {\"colorbar\": {\"outlinewidth\": 0, \"ticks\": \"\"}}, \"marker\": {\"colorbar\": {\"outlinewidth\": 0, \"ticks\": \"\"}}, \"type\": \"scatter3d\"}], \"scattercarpet\": [{\"marker\": {\"colorbar\": {\"outlinewidth\": 0, \"ticks\": \"\"}}, \"type\": \"scattercarpet\"}], \"scattergeo\": [{\"marker\": {\"colorbar\": {\"outlinewidth\": 0, \"ticks\": \"\"}}, \"type\": \"scattergeo\"}], \"scattergl\": [{\"marker\": {\"colorbar\": {\"outlinewidth\": 0, \"ticks\": \"\"}}, \"type\": \"scattergl\"}], \"scattermapbox\": [{\"marker\": {\"colorbar\": {\"outlinewidth\": 0, \"ticks\": \"\"}}, \"type\": \"scattermapbox\"}], \"scatterpolar\": [{\"marker\": {\"colorbar\": {\"outlinewidth\": 0, \"ticks\": \"\"}}, \"type\": \"scatterpolar\"}], \"scatterpolargl\": [{\"marker\": {\"colorbar\": {\"outlinewidth\": 0, \"ticks\": \"\"}}, \"type\": \"scatterpolargl\"}], \"scatterternary\": [{\"marker\": {\"colorbar\": {\"outlinewidth\": 0, \"ticks\": \"\"}}, \"type\": \"scatterternary\"}], \"surface\": [{\"colorbar\": {\"outlinewidth\": 0, \"ticks\": \"\"}, \"colorscale\": [[0.0, \"#0d0887\"], [0.1111111111111111, \"#46039f\"], [0.2222222222222222, \"#7201a8\"], [0.3333333333333333, \"#9c179e\"], [0.4444444444444444, \"#bd3786\"], [0.5555555555555556, \"#d8576b\"], [0.6666666666666666, \"#ed7953\"], [0.7777777777777778, \"#fb9f3a\"], [0.8888888888888888, \"#fdca26\"], [1.0, \"#f0f921\"]], \"type\": \"surface\"}], \"table\": [{\"cells\": {\"fill\": {\"color\": \"#EBF0F8\"}, \"line\": {\"color\": \"white\"}}, \"header\": {\"fill\": {\"color\": \"#C8D4E3\"}, \"line\": {\"color\": \"white\"}}, \"type\": \"table\"}]}, \"layout\": {\"annotationdefaults\": {\"arrowcolor\": \"#2a3f5f\", \"arrowhead\": 0, \"arrowwidth\": 1}, \"autotypenumbers\": \"strict\", \"coloraxis\": {\"colorbar\": {\"outlinewidth\": 0, \"ticks\": \"\"}}, \"colorscale\": {\"diverging\": [[0, \"#8e0152\"], [0.1, \"#c51b7d\"], [0.2, \"#de77ae\"], [0.3, \"#f1b6da\"], [0.4, \"#fde0ef\"], [0.5, \"#f7f7f7\"], [0.6, \"#e6f5d0\"], [0.7, \"#b8e186\"], [0.8, \"#7fbc41\"], [0.9, \"#4d9221\"], [1, \"#276419\"]], \"sequential\": [[0.0, \"#0d0887\"], [0.1111111111111111, \"#46039f\"], [0.2222222222222222, \"#7201a8\"], [0.3333333333333333, \"#9c179e\"], [0.4444444444444444, \"#bd3786\"], [0.5555555555555556, \"#d8576b\"], [0.6666666666666666, \"#ed7953\"], [0.7777777777777778, \"#fb9f3a\"], [0.8888888888888888, \"#fdca26\"], [1.0, \"#f0f921\"]], \"sequentialminus\": [[0.0, \"#0d0887\"], [0.1111111111111111, \"#46039f\"], [0.2222222222222222, \"#7201a8\"], [0.3333333333333333, \"#9c179e\"], [0.4444444444444444, \"#bd3786\"], [0.5555555555555556, \"#d8576b\"], [0.6666666666666666, \"#ed7953\"], [0.7777777777777778, \"#fb9f3a\"], [0.8888888888888888, \"#fdca26\"], [1.0, \"#f0f921\"]]}, \"colorway\": [\"#636efa\", \"#EF553B\", \"#00cc96\", \"#ab63fa\", \"#FFA15A\", \"#19d3f3\", \"#FF6692\", \"#B6E880\", \"#FF97FF\", \"#FECB52\"], \"font\": {\"color\": \"#2a3f5f\"}, \"geo\": {\"bgcolor\": \"white\", \"lakecolor\": \"white\", \"landcolor\": \"#E5ECF6\", \"showlakes\": true, \"showland\": true, \"subunitcolor\": \"white\"}, \"hoverlabel\": {\"align\": \"left\"}, \"hovermode\": \"closest\", \"mapbox\": {\"style\": \"light\"}, \"paper_bgcolor\": \"white\", \"plot_bgcolor\": \"#E5ECF6\", \"polar\": {\"angularaxis\": {\"gridcolor\": \"white\", \"linecolor\": \"white\", \"ticks\": \"\"}, \"bgcolor\": \"#E5ECF6\", \"radialaxis\": {\"gridcolor\": \"white\", \"linecolor\": \"white\", \"ticks\": \"\"}}, \"scene\": {\"xaxis\": {\"backgroundcolor\": \"#E5ECF6\", \"gridcolor\": \"white\", \"gridwidth\": 2, \"linecolor\": \"white\", \"showbackground\": true, \"ticks\": \"\", \"zerolinecolor\": \"white\"}, \"yaxis\": {\"backgroundcolor\": \"#E5ECF6\", \"gridcolor\": \"white\", \"gridwidth\": 2, \"linecolor\": \"white\", \"showbackground\": true, \"ticks\": \"\", \"zerolinecolor\": \"white\"}, \"zaxis\": {\"backgroundcolor\": \"#E5ECF6\", \"gridcolor\": \"white\", \"gridwidth\": 2, \"linecolor\": \"white\", \"showbackground\": true, \"ticks\": \"\", \"zerolinecolor\": \"white\"}}, \"shapedefaults\": {\"line\": {\"color\": \"#2a3f5f\"}}, \"ternary\": {\"aaxis\": {\"gridcolor\": \"white\", \"linecolor\": \"white\", \"ticks\": \"\"}, \"baxis\": {\"gridcolor\": \"white\", \"linecolor\": \"white\", \"ticks\": \"\"}, \"bgcolor\": \"#E5ECF6\", \"caxis\": {\"gridcolor\": \"white\", \"linecolor\": \"white\", \"ticks\": \"\"}}, \"title\": {\"x\": 0.05}, \"xaxis\": {\"automargin\": true, \"gridcolor\": \"white\", \"linecolor\": \"white\", \"ticks\": \"\", \"title\": {\"standoff\": 15}, \"zerolinecolor\": \"white\", \"zerolinewidth\": 2}, \"yaxis\": {\"automargin\": true, \"gridcolor\": \"white\", \"linecolor\": \"white\", \"ticks\": \"\", \"title\": {\"standoff\": 15}, \"zerolinecolor\": \"white\", \"zerolinewidth\": 2}}}, \"xaxis\": {\"dtick\": 1, \"gridwidth\": 2, \"showticklabels\": false, \"tick0\": -0.5, \"ticks\": \"\", \"zeroline\": false}, \"xaxis2\": {\"anchor\": \"y2\"}, \"yaxis\": {\"autorange\": \"reversed\", \"domain\": [0, 0.45], \"dtick\": 1, \"gridwidth\": 2, \"showticklabels\": false, \"tick0\": 0.5, \"ticks\": \"\", \"zeroline\": false}, \"yaxis2\": {\"anchor\": \"x2\", \"domain\": [0.6, 1], \"title\": {\"text\": \"Goals\"}}},                        {\"responsive\": true}                    ).then(function(){\n",
       "                            \n",
       "var gd = document.getElementById('3b41ddb6-a89b-454d-b575-eb1717a78e3d');\n",
       "var x = new MutationObserver(function (mutations, observer) {{\n",
       "        var display = window.getComputedStyle(gd).display;\n",
       "        if (!display || display === 'none') {{\n",
       "            console.log([gd, 'removed!']);\n",
       "            Plotly.purge(gd);\n",
       "            observer.disconnect();\n",
       "        }}\n",
       "}});\n",
       "\n",
       "// Listen for the removal of the full notebook cells\n",
       "var notebookContainer = gd.closest('#notebook-container');\n",
       "if (notebookContainer) {{\n",
       "    x.observe(notebookContainer, {childList: true});\n",
       "}}\n",
       "\n",
       "// Listen for the clearing of the current output cell\n",
       "var outputEl = gd.closest('.output');\n",
       "if (outputEl) {{\n",
       "    x.observe(outputEl, {childList: true});\n",
       "}}\n",
       "\n",
       "                        })                };                });            </script>        </div>"
      ]
     },
     "metadata": {},
     "output_type": "display_data"
    }
   ],
   "source": [
    "fig1.add_traces([test1,test2])\n",
    "fig1['layout']['xaxis2'] = {}\n",
    "fig1['layout']['yaxis2'] = {}\n",
    "\n",
    "# # Edit layout for subplots\n",
    "fig1.layout.yaxis.update({'domain': [0, .45]})\n",
    "fig1.layout.yaxis2.update({'domain': [.6, 1]})\n",
    "\n",
    "fig1.layout.yaxis2.update({'anchor': 'x2'})\n",
    "fig1.layout.xaxis2.update({'anchor': 'y2'})\n",
    "fig1.layout.yaxis2.update({'title': 'Goals'})\n",
    "\n",
    "fig1.show()"
   ]
  },
  {
   "cell_type": "code",
   "execution_count": 44,
   "metadata": {},
   "outputs": [
    {
     "data": {
      "application/vnd.plotly.v1+json": {
       "config": {
        "plotlyServerURL": "https://plot.ly"
       },
       "data": [
        {
         "colorscale": [
          [
           0,
           "#00083e"
          ],
          [
           0.5,
           "#ededee"
          ],
          [
           1,
           "#ffffff"
          ]
         ],
         "hoverinfo": "none",
         "opacity": 0.75,
         "showscale": false,
         "type": "heatmap",
         "z": [
          [
           0,
           0,
           0,
           0
          ],
          [
           0.5,
           0.5,
           0.5,
           0.5
          ],
          [
           1,
           1,
           1,
           1
          ],
          [
           0.5,
           0.5,
           0.5,
           0.5
          ],
          [
           1,
           1,
           1,
           1
          ],
          [
           0.5,
           0.5,
           0.5,
           0.5
          ],
          [
           1,
           1,
           1,
           1
          ]
         ]
        },
        {
         "marker": {
          "color": "#0099ff"
         },
         "name": "Goals For<br>Per Game",
         "type": "bar",
         "x": [
          "Montréal Canadiens",
          "Dallas Stars",
          "NY Rangers",
          "Boston Bruins",
          "Chicago Blackhawks",
          "Ottawa Senators"
         ],
         "xaxis": "x2",
         "y": [
          3.54,
          3.48,
          3,
          3.27,
          2.83,
          3.18
         ],
         "yaxis": "y2"
        },
        {
         "marker": {
          "color": "white"
         },
         "name": "Goals Against<br>Per Game",
         "type": "bar",
         "x": [
          "Montréal Canadiens",
          "Dallas Stars",
          "NY Rangers",
          "Boston Bruins",
          "Chicago Blackhawks",
          "Ottawa Senators"
         ],
         "xaxis": "x2",
         "y": [
          2.17,
          2.57,
          2,
          2.91,
          2.57,
          2.77
         ],
         "yaxis": "y2"
        }
       ],
       "layout": {
        "annotations": [
         {
          "align": "left",
          "font": {
           "color": "#ffffff"
          },
          "showarrow": false,
          "text": "<b>Team</b>",
          "x": -0.45,
          "xanchor": "left",
          "xref": "x",
          "y": 0,
          "yref": "y"
         },
         {
          "align": "left",
          "font": {
           "color": "#ffffff"
          },
          "showarrow": false,
          "text": "<b>Wins</b>",
          "x": 0.55,
          "xanchor": "left",
          "xref": "x",
          "y": 0,
          "yref": "y"
         },
         {
          "align": "left",
          "font": {
           "color": "#ffffff"
          },
          "showarrow": false,
          "text": "<b>Losses</b>",
          "x": 1.55,
          "xanchor": "left",
          "xref": "x",
          "y": 0,
          "yref": "y"
         },
         {
          "align": "left",
          "font": {
           "color": "#ffffff"
          },
          "showarrow": false,
          "text": "<b>Ties</b>",
          "x": 2.55,
          "xanchor": "left",
          "xref": "x",
          "y": 0,
          "yref": "y"
         },
         {
          "align": "left",
          "font": {
           "color": "#000000"
          },
          "showarrow": false,
          "text": "Montréal<br>Canadiens",
          "x": -0.45,
          "xanchor": "left",
          "xref": "x",
          "y": 1,
          "yref": "y"
         },
         {
          "align": "left",
          "font": {
           "color": "#000000"
          },
          "showarrow": false,
          "text": "18",
          "x": 0.55,
          "xanchor": "left",
          "xref": "x",
          "y": 1,
          "yref": "y"
         },
         {
          "align": "left",
          "font": {
           "color": "#000000"
          },
          "showarrow": false,
          "text": "4",
          "x": 1.55,
          "xanchor": "left",
          "xref": "x",
          "y": 1,
          "yref": "y"
         },
         {
          "align": "left",
          "font": {
           "color": "#000000"
          },
          "showarrow": false,
          "text": "0",
          "x": 2.55,
          "xanchor": "left",
          "xref": "x",
          "y": 1,
          "yref": "y"
         },
         {
          "align": "left",
          "font": {
           "color": "#000000"
          },
          "showarrow": false,
          "text": "Dallas Stars",
          "x": -0.45,
          "xanchor": "left",
          "xref": "x",
          "y": 2,
          "yref": "y"
         },
         {
          "align": "left",
          "font": {
           "color": "#000000"
          },
          "showarrow": false,
          "text": "18",
          "x": 0.55,
          "xanchor": "left",
          "xref": "x",
          "y": 2,
          "yref": "y"
         },
         {
          "align": "left",
          "font": {
           "color": "#000000"
          },
          "showarrow": false,
          "text": "5",
          "x": 1.55,
          "xanchor": "left",
          "xref": "x",
          "y": 2,
          "yref": "y"
         },
         {
          "align": "left",
          "font": {
           "color": "#000000"
          },
          "showarrow": false,
          "text": "0",
          "x": 2.55,
          "xanchor": "left",
          "xref": "x",
          "y": 2,
          "yref": "y"
         },
         {
          "align": "left",
          "font": {
           "color": "#000000"
          },
          "showarrow": false,
          "text": "NY Rangers",
          "x": -0.45,
          "xanchor": "left",
          "xref": "x",
          "y": 3,
          "yref": "y"
         },
         {
          "align": "left",
          "font": {
           "color": "#000000"
          },
          "showarrow": false,
          "text": "16",
          "x": 0.55,
          "xanchor": "left",
          "xref": "x",
          "y": 3,
          "yref": "y"
         },
         {
          "align": "left",
          "font": {
           "color": "#000000"
          },
          "showarrow": false,
          "text": "5",
          "x": 1.55,
          "xanchor": "left",
          "xref": "x",
          "y": 3,
          "yref": "y"
         },
         {
          "align": "left",
          "font": {
           "color": "#000000"
          },
          "showarrow": false,
          "text": "0",
          "x": 2.55,
          "xanchor": "left",
          "xref": "x",
          "y": 3,
          "yref": "y"
         },
         {
          "align": "left",
          "font": {
           "color": "#000000"
          },
          "showarrow": false,
          "text": "Boston<br>Bruins",
          "x": -0.45,
          "xanchor": "left",
          "xref": "x",
          "y": 4,
          "yref": "y"
         },
         {
          "align": "left",
          "font": {
           "color": "#000000"
          },
          "showarrow": false,
          "text": "13",
          "x": 0.55,
          "xanchor": "left",
          "xref": "x",
          "y": 4,
          "yref": "y"
         },
         {
          "align": "left",
          "font": {
           "color": "#000000"
          },
          "showarrow": false,
          "text": "8",
          "x": 1.55,
          "xanchor": "left",
          "xref": "x",
          "y": 4,
          "yref": "y"
         },
         {
          "align": "left",
          "font": {
           "color": "#000000"
          },
          "showarrow": false,
          "text": "0",
          "x": 2.55,
          "xanchor": "left",
          "xref": "x",
          "y": 4,
          "yref": "y"
         },
         {
          "align": "left",
          "font": {
           "color": "#000000"
          },
          "showarrow": false,
          "text": "Chicago<br>Blackhawks",
          "x": -0.45,
          "xanchor": "left",
          "xref": "x",
          "y": 5,
          "yref": "y"
         },
         {
          "align": "left",
          "font": {
           "color": "#000000"
          },
          "showarrow": false,
          "text": "13",
          "x": 0.55,
          "xanchor": "left",
          "xref": "x",
          "y": 5,
          "yref": "y"
         },
         {
          "align": "left",
          "font": {
           "color": "#000000"
          },
          "showarrow": false,
          "text": "8",
          "x": 1.55,
          "xanchor": "left",
          "xref": "x",
          "y": 5,
          "yref": "y"
         },
         {
          "align": "left",
          "font": {
           "color": "#000000"
          },
          "showarrow": false,
          "text": "0",
          "x": 2.55,
          "xanchor": "left",
          "xref": "x",
          "y": 5,
          "yref": "y"
         },
         {
          "align": "left",
          "font": {
           "color": "#000000"
          },
          "showarrow": false,
          "text": "Ottawa<br>Senators",
          "x": -0.45,
          "xanchor": "left",
          "xref": "x",
          "y": 6,
          "yref": "y"
         },
         {
          "align": "left",
          "font": {
           "color": "#000000"
          },
          "showarrow": false,
          "text": "12",
          "x": 0.55,
          "xanchor": "left",
          "xref": "x",
          "y": 6,
          "yref": "y"
         },
         {
          "align": "left",
          "font": {
           "color": "#000000"
          },
          "showarrow": false,
          "text": "5",
          "x": 1.55,
          "xanchor": "left",
          "xref": "x",
          "y": 6,
          "yref": "y"
         },
         {
          "align": "left",
          "font": {
           "color": "#000000"
          },
          "showarrow": false,
          "text": "0",
          "x": 2.55,
          "xanchor": "left",
          "xref": "x",
          "y": 6,
          "yref": "y"
         }
        ],
        "height": 800,
        "margin": {
         "b": 0,
         "l": 50,
         "r": 0,
         "t": 75
        },
        "template": {
         "data": {
          "bar": [
           {
            "error_x": {
             "color": "#2a3f5f"
            },
            "error_y": {
             "color": "#2a3f5f"
            },
            "marker": {
             "line": {
              "color": "#E5ECF6",
              "width": 0.5
             }
            },
            "type": "bar"
           }
          ],
          "barpolar": [
           {
            "marker": {
             "line": {
              "color": "#E5ECF6",
              "width": 0.5
             }
            },
            "type": "barpolar"
           }
          ],
          "carpet": [
           {
            "aaxis": {
             "endlinecolor": "#2a3f5f",
             "gridcolor": "white",
             "linecolor": "white",
             "minorgridcolor": "white",
             "startlinecolor": "#2a3f5f"
            },
            "baxis": {
             "endlinecolor": "#2a3f5f",
             "gridcolor": "white",
             "linecolor": "white",
             "minorgridcolor": "white",
             "startlinecolor": "#2a3f5f"
            },
            "type": "carpet"
           }
          ],
          "choropleth": [
           {
            "colorbar": {
             "outlinewidth": 0,
             "ticks": ""
            },
            "type": "choropleth"
           }
          ],
          "contour": [
           {
            "colorbar": {
             "outlinewidth": 0,
             "ticks": ""
            },
            "colorscale": [
             [
              0,
              "#0d0887"
             ],
             [
              0.1111111111111111,
              "#46039f"
             ],
             [
              0.2222222222222222,
              "#7201a8"
             ],
             [
              0.3333333333333333,
              "#9c179e"
             ],
             [
              0.4444444444444444,
              "#bd3786"
             ],
             [
              0.5555555555555556,
              "#d8576b"
             ],
             [
              0.6666666666666666,
              "#ed7953"
             ],
             [
              0.7777777777777778,
              "#fb9f3a"
             ],
             [
              0.8888888888888888,
              "#fdca26"
             ],
             [
              1,
              "#f0f921"
             ]
            ],
            "type": "contour"
           }
          ],
          "contourcarpet": [
           {
            "colorbar": {
             "outlinewidth": 0,
             "ticks": ""
            },
            "type": "contourcarpet"
           }
          ],
          "heatmap": [
           {
            "colorbar": {
             "outlinewidth": 0,
             "ticks": ""
            },
            "colorscale": [
             [
              0,
              "#0d0887"
             ],
             [
              0.1111111111111111,
              "#46039f"
             ],
             [
              0.2222222222222222,
              "#7201a8"
             ],
             [
              0.3333333333333333,
              "#9c179e"
             ],
             [
              0.4444444444444444,
              "#bd3786"
             ],
             [
              0.5555555555555556,
              "#d8576b"
             ],
             [
              0.6666666666666666,
              "#ed7953"
             ],
             [
              0.7777777777777778,
              "#fb9f3a"
             ],
             [
              0.8888888888888888,
              "#fdca26"
             ],
             [
              1,
              "#f0f921"
             ]
            ],
            "type": "heatmap"
           }
          ],
          "heatmapgl": [
           {
            "colorbar": {
             "outlinewidth": 0,
             "ticks": ""
            },
            "colorscale": [
             [
              0,
              "#0d0887"
             ],
             [
              0.1111111111111111,
              "#46039f"
             ],
             [
              0.2222222222222222,
              "#7201a8"
             ],
             [
              0.3333333333333333,
              "#9c179e"
             ],
             [
              0.4444444444444444,
              "#bd3786"
             ],
             [
              0.5555555555555556,
              "#d8576b"
             ],
             [
              0.6666666666666666,
              "#ed7953"
             ],
             [
              0.7777777777777778,
              "#fb9f3a"
             ],
             [
              0.8888888888888888,
              "#fdca26"
             ],
             [
              1,
              "#f0f921"
             ]
            ],
            "type": "heatmapgl"
           }
          ],
          "histogram": [
           {
            "marker": {
             "colorbar": {
              "outlinewidth": 0,
              "ticks": ""
             }
            },
            "type": "histogram"
           }
          ],
          "histogram2d": [
           {
            "colorbar": {
             "outlinewidth": 0,
             "ticks": ""
            },
            "colorscale": [
             [
              0,
              "#0d0887"
             ],
             [
              0.1111111111111111,
              "#46039f"
             ],
             [
              0.2222222222222222,
              "#7201a8"
             ],
             [
              0.3333333333333333,
              "#9c179e"
             ],
             [
              0.4444444444444444,
              "#bd3786"
             ],
             [
              0.5555555555555556,
              "#d8576b"
             ],
             [
              0.6666666666666666,
              "#ed7953"
             ],
             [
              0.7777777777777778,
              "#fb9f3a"
             ],
             [
              0.8888888888888888,
              "#fdca26"
             ],
             [
              1,
              "#f0f921"
             ]
            ],
            "type": "histogram2d"
           }
          ],
          "histogram2dcontour": [
           {
            "colorbar": {
             "outlinewidth": 0,
             "ticks": ""
            },
            "colorscale": [
             [
              0,
              "#0d0887"
             ],
             [
              0.1111111111111111,
              "#46039f"
             ],
             [
              0.2222222222222222,
              "#7201a8"
             ],
             [
              0.3333333333333333,
              "#9c179e"
             ],
             [
              0.4444444444444444,
              "#bd3786"
             ],
             [
              0.5555555555555556,
              "#d8576b"
             ],
             [
              0.6666666666666666,
              "#ed7953"
             ],
             [
              0.7777777777777778,
              "#fb9f3a"
             ],
             [
              0.8888888888888888,
              "#fdca26"
             ],
             [
              1,
              "#f0f921"
             ]
            ],
            "type": "histogram2dcontour"
           }
          ],
          "mesh3d": [
           {
            "colorbar": {
             "outlinewidth": 0,
             "ticks": ""
            },
            "type": "mesh3d"
           }
          ],
          "parcoords": [
           {
            "line": {
             "colorbar": {
              "outlinewidth": 0,
              "ticks": ""
             }
            },
            "type": "parcoords"
           }
          ],
          "pie": [
           {
            "automargin": true,
            "type": "pie"
           }
          ],
          "scatter": [
           {
            "marker": {
             "colorbar": {
              "outlinewidth": 0,
              "ticks": ""
             }
            },
            "type": "scatter"
           }
          ],
          "scatter3d": [
           {
            "line": {
             "colorbar": {
              "outlinewidth": 0,
              "ticks": ""
             }
            },
            "marker": {
             "colorbar": {
              "outlinewidth": 0,
              "ticks": ""
             }
            },
            "type": "scatter3d"
           }
          ],
          "scattercarpet": [
           {
            "marker": {
             "colorbar": {
              "outlinewidth": 0,
              "ticks": ""
             }
            },
            "type": "scattercarpet"
           }
          ],
          "scattergeo": [
           {
            "marker": {
             "colorbar": {
              "outlinewidth": 0,
              "ticks": ""
             }
            },
            "type": "scattergeo"
           }
          ],
          "scattergl": [
           {
            "marker": {
             "colorbar": {
              "outlinewidth": 0,
              "ticks": ""
             }
            },
            "type": "scattergl"
           }
          ],
          "scattermapbox": [
           {
            "marker": {
             "colorbar": {
              "outlinewidth": 0,
              "ticks": ""
             }
            },
            "type": "scattermapbox"
           }
          ],
          "scatterpolar": [
           {
            "marker": {
             "colorbar": {
              "outlinewidth": 0,
              "ticks": ""
             }
            },
            "type": "scatterpolar"
           }
          ],
          "scatterpolargl": [
           {
            "marker": {
             "colorbar": {
              "outlinewidth": 0,
              "ticks": ""
             }
            },
            "type": "scatterpolargl"
           }
          ],
          "scatterternary": [
           {
            "marker": {
             "colorbar": {
              "outlinewidth": 0,
              "ticks": ""
             }
            },
            "type": "scatterternary"
           }
          ],
          "surface": [
           {
            "colorbar": {
             "outlinewidth": 0,
             "ticks": ""
            },
            "colorscale": [
             [
              0,
              "#0d0887"
             ],
             [
              0.1111111111111111,
              "#46039f"
             ],
             [
              0.2222222222222222,
              "#7201a8"
             ],
             [
              0.3333333333333333,
              "#9c179e"
             ],
             [
              0.4444444444444444,
              "#bd3786"
             ],
             [
              0.5555555555555556,
              "#d8576b"
             ],
             [
              0.6666666666666666,
              "#ed7953"
             ],
             [
              0.7777777777777778,
              "#fb9f3a"
             ],
             [
              0.8888888888888888,
              "#fdca26"
             ],
             [
              1,
              "#f0f921"
             ]
            ],
            "type": "surface"
           }
          ],
          "table": [
           {
            "cells": {
             "fill": {
              "color": "#EBF0F8"
             },
             "line": {
              "color": "white"
             }
            },
            "header": {
             "fill": {
              "color": "#C8D4E3"
             },
             "line": {
              "color": "white"
             }
            },
            "type": "table"
           }
          ]
         },
         "layout": {
          "annotationdefaults": {
           "arrowcolor": "#2a3f5f",
           "arrowhead": 0,
           "arrowwidth": 1
          },
          "autotypenumbers": "strict",
          "coloraxis": {
           "colorbar": {
            "outlinewidth": 0,
            "ticks": ""
           }
          },
          "colorscale": {
           "diverging": [
            [
             0,
             "#8e0152"
            ],
            [
             0.1,
             "#c51b7d"
            ],
            [
             0.2,
             "#de77ae"
            ],
            [
             0.3,
             "#f1b6da"
            ],
            [
             0.4,
             "#fde0ef"
            ],
            [
             0.5,
             "#f7f7f7"
            ],
            [
             0.6,
             "#e6f5d0"
            ],
            [
             0.7,
             "#b8e186"
            ],
            [
             0.8,
             "#7fbc41"
            ],
            [
             0.9,
             "#4d9221"
            ],
            [
             1,
             "#276419"
            ]
           ],
           "sequential": [
            [
             0,
             "#0d0887"
            ],
            [
             0.1111111111111111,
             "#46039f"
            ],
            [
             0.2222222222222222,
             "#7201a8"
            ],
            [
             0.3333333333333333,
             "#9c179e"
            ],
            [
             0.4444444444444444,
             "#bd3786"
            ],
            [
             0.5555555555555556,
             "#d8576b"
            ],
            [
             0.6666666666666666,
             "#ed7953"
            ],
            [
             0.7777777777777778,
             "#fb9f3a"
            ],
            [
             0.8888888888888888,
             "#fdca26"
            ],
            [
             1,
             "#f0f921"
            ]
           ],
           "sequentialminus": [
            [
             0,
             "#0d0887"
            ],
            [
             0.1111111111111111,
             "#46039f"
            ],
            [
             0.2222222222222222,
             "#7201a8"
            ],
            [
             0.3333333333333333,
             "#9c179e"
            ],
            [
             0.4444444444444444,
             "#bd3786"
            ],
            [
             0.5555555555555556,
             "#d8576b"
            ],
            [
             0.6666666666666666,
             "#ed7953"
            ],
            [
             0.7777777777777778,
             "#fb9f3a"
            ],
            [
             0.8888888888888888,
             "#fdca26"
            ],
            [
             1,
             "#f0f921"
            ]
           ]
          },
          "colorway": [
           "#636efa",
           "#EF553B",
           "#00cc96",
           "#ab63fa",
           "#FFA15A",
           "#19d3f3",
           "#FF6692",
           "#B6E880",
           "#FF97FF",
           "#FECB52"
          ],
          "font": {
           "color": "#2a3f5f"
          },
          "geo": {
           "bgcolor": "white",
           "lakecolor": "white",
           "landcolor": "#E5ECF6",
           "showlakes": true,
           "showland": true,
           "subunitcolor": "white"
          },
          "hoverlabel": {
           "align": "left"
          },
          "hovermode": "closest",
          "mapbox": {
           "style": "light"
          },
          "paper_bgcolor": "white",
          "plot_bgcolor": "#E5ECF6",
          "polar": {
           "angularaxis": {
            "gridcolor": "white",
            "linecolor": "white",
            "ticks": ""
           },
           "bgcolor": "#E5ECF6",
           "radialaxis": {
            "gridcolor": "white",
            "linecolor": "white",
            "ticks": ""
           }
          },
          "scene": {
           "xaxis": {
            "backgroundcolor": "#E5ECF6",
            "gridcolor": "white",
            "gridwidth": 2,
            "linecolor": "white",
            "showbackground": true,
            "ticks": "",
            "zerolinecolor": "white"
           },
           "yaxis": {
            "backgroundcolor": "#E5ECF6",
            "gridcolor": "white",
            "gridwidth": 2,
            "linecolor": "white",
            "showbackground": true,
            "ticks": "",
            "zerolinecolor": "white"
           },
           "zaxis": {
            "backgroundcolor": "#E5ECF6",
            "gridcolor": "white",
            "gridwidth": 2,
            "linecolor": "white",
            "showbackground": true,
            "ticks": "",
            "zerolinecolor": "white"
           }
          },
          "shapedefaults": {
           "line": {
            "color": "#2a3f5f"
           }
          },
          "ternary": {
           "aaxis": {
            "gridcolor": "white",
            "linecolor": "white",
            "ticks": ""
           },
           "baxis": {
            "gridcolor": "white",
            "linecolor": "white",
            "ticks": ""
           },
           "bgcolor": "#E5ECF6",
           "caxis": {
            "gridcolor": "white",
            "linecolor": "white",
            "ticks": ""
           }
          },
          "title": {
           "x": 0.05
          },
          "xaxis": {
           "automargin": true,
           "gridcolor": "white",
           "linecolor": "white",
           "ticks": "",
           "title": {
            "standoff": 15
           },
           "zerolinecolor": "white",
           "zerolinewidth": 2
          },
          "yaxis": {
           "automargin": true,
           "gridcolor": "white",
           "linecolor": "white",
           "ticks": "",
           "title": {
            "standoff": 15
           },
           "zerolinecolor": "white",
           "zerolinewidth": 2
          }
         }
        },
        "title": {
         "text": "2016 Hockey Stats"
        },
        "xaxis": {
         "dtick": 1,
         "gridwidth": 2,
         "showticklabels": false,
         "tick0": -0.5,
         "ticks": "",
         "zeroline": false
        },
        "xaxis2": {
         "anchor": "y2"
        },
        "yaxis": {
         "autorange": "reversed",
         "domain": [
          0,
          0.45
         ],
         "dtick": 1,
         "gridwidth": 2,
         "showticklabels": false,
         "tick0": 0.5,
         "ticks": "",
         "zeroline": false
        },
        "yaxis2": {
         "anchor": "x2",
         "domain": [
          0.6,
          1
         ],
         "title": {
          "text": "Goals"
         }
        }
       }
      },
      "text/html": [
       "<div>                            <div id=\"d28a88e7-3be3-4d90-a1ca-7222d96af7ee\" class=\"plotly-graph-div\" style=\"height:800px; width:100%;\"></div>            <script type=\"text/javascript\">                require([\"plotly\"], function(Plotly) {                    window.PLOTLYENV=window.PLOTLYENV || {};                                    if (document.getElementById(\"d28a88e7-3be3-4d90-a1ca-7222d96af7ee\")) {                    Plotly.newPlot(                        \"d28a88e7-3be3-4d90-a1ca-7222d96af7ee\",                        [{\"colorscale\": [[0, \"#00083e\"], [0.5, \"#ededee\"], [1, \"#ffffff\"]], \"hoverinfo\": \"none\", \"opacity\": 0.75, \"showscale\": false, \"type\": \"heatmap\", \"z\": [[0, 0, 0, 0], [0.5, 0.5, 0.5, 0.5], [1, 1, 1, 1], [0.5, 0.5, 0.5, 0.5], [1, 1, 1, 1], [0.5, 0.5, 0.5, 0.5], [1, 1, 1, 1]]}, {\"marker\": {\"color\": \"#0099ff\"}, \"name\": \"Goals For<br>Per Game\", \"type\": \"bar\", \"x\": [\"Montr\\u00e9al Canadiens\", \"Dallas Stars\", \"NY Rangers\", \"Boston Bruins\", \"Chicago Blackhawks\", \"Ottawa Senators\"], \"xaxis\": \"x2\", \"y\": [3.54, 3.48, 3.0, 3.27, 2.83, 3.18], \"yaxis\": \"y2\"}, {\"marker\": {\"color\": \"white\"}, \"name\": \"Goals Against<br>Per Game\", \"type\": \"bar\", \"x\": [\"Montr\\u00e9al Canadiens\", \"Dallas Stars\", \"NY Rangers\", \"Boston Bruins\", \"Chicago Blackhawks\", \"Ottawa Senators\"], \"xaxis\": \"x2\", \"y\": [2.17, 2.57, 2.0, 2.91, 2.57, 2.77], \"yaxis\": \"y2\"}],                        {\"annotations\": [{\"align\": \"left\", \"font\": {\"color\": \"#ffffff\"}, \"showarrow\": false, \"text\": \"<b>Team</b>\", \"x\": -0.45, \"xanchor\": \"left\", \"xref\": \"x\", \"y\": 0, \"yref\": \"y\"}, {\"align\": \"left\", \"font\": {\"color\": \"#ffffff\"}, \"showarrow\": false, \"text\": \"<b>Wins</b>\", \"x\": 0.55, \"xanchor\": \"left\", \"xref\": \"x\", \"y\": 0, \"yref\": \"y\"}, {\"align\": \"left\", \"font\": {\"color\": \"#ffffff\"}, \"showarrow\": false, \"text\": \"<b>Losses</b>\", \"x\": 1.55, \"xanchor\": \"left\", \"xref\": \"x\", \"y\": 0, \"yref\": \"y\"}, {\"align\": \"left\", \"font\": {\"color\": \"#ffffff\"}, \"showarrow\": false, \"text\": \"<b>Ties</b>\", \"x\": 2.55, \"xanchor\": \"left\", \"xref\": \"x\", \"y\": 0, \"yref\": \"y\"}, {\"align\": \"left\", \"font\": {\"color\": \"#000000\"}, \"showarrow\": false, \"text\": \"Montr\\u00e9al<br>Canadiens\", \"x\": -0.45, \"xanchor\": \"left\", \"xref\": \"x\", \"y\": 1, \"yref\": \"y\"}, {\"align\": \"left\", \"font\": {\"color\": \"#000000\"}, \"showarrow\": false, \"text\": \"18\", \"x\": 0.55, \"xanchor\": \"left\", \"xref\": \"x\", \"y\": 1, \"yref\": \"y\"}, {\"align\": \"left\", \"font\": {\"color\": \"#000000\"}, \"showarrow\": false, \"text\": \"4\", \"x\": 1.55, \"xanchor\": \"left\", \"xref\": \"x\", \"y\": 1, \"yref\": \"y\"}, {\"align\": \"left\", \"font\": {\"color\": \"#000000\"}, \"showarrow\": false, \"text\": \"0\", \"x\": 2.55, \"xanchor\": \"left\", \"xref\": \"x\", \"y\": 1, \"yref\": \"y\"}, {\"align\": \"left\", \"font\": {\"color\": \"#000000\"}, \"showarrow\": false, \"text\": \"Dallas Stars\", \"x\": -0.45, \"xanchor\": \"left\", \"xref\": \"x\", \"y\": 2, \"yref\": \"y\"}, {\"align\": \"left\", \"font\": {\"color\": \"#000000\"}, \"showarrow\": false, \"text\": \"18\", \"x\": 0.55, \"xanchor\": \"left\", \"xref\": \"x\", \"y\": 2, \"yref\": \"y\"}, {\"align\": \"left\", \"font\": {\"color\": \"#000000\"}, \"showarrow\": false, \"text\": \"5\", \"x\": 1.55, \"xanchor\": \"left\", \"xref\": \"x\", \"y\": 2, \"yref\": \"y\"}, {\"align\": \"left\", \"font\": {\"color\": \"#000000\"}, \"showarrow\": false, \"text\": \"0\", \"x\": 2.55, \"xanchor\": \"left\", \"xref\": \"x\", \"y\": 2, \"yref\": \"y\"}, {\"align\": \"left\", \"font\": {\"color\": \"#000000\"}, \"showarrow\": false, \"text\": \"NY Rangers\", \"x\": -0.45, \"xanchor\": \"left\", \"xref\": \"x\", \"y\": 3, \"yref\": \"y\"}, {\"align\": \"left\", \"font\": {\"color\": \"#000000\"}, \"showarrow\": false, \"text\": \"16\", \"x\": 0.55, \"xanchor\": \"left\", \"xref\": \"x\", \"y\": 3, \"yref\": \"y\"}, {\"align\": \"left\", \"font\": {\"color\": \"#000000\"}, \"showarrow\": false, \"text\": \"5\", \"x\": 1.55, \"xanchor\": \"left\", \"xref\": \"x\", \"y\": 3, \"yref\": \"y\"}, {\"align\": \"left\", \"font\": {\"color\": \"#000000\"}, \"showarrow\": false, \"text\": \"0\", \"x\": 2.55, \"xanchor\": \"left\", \"xref\": \"x\", \"y\": 3, \"yref\": \"y\"}, {\"align\": \"left\", \"font\": {\"color\": \"#000000\"}, \"showarrow\": false, \"text\": \"Boston<br>Bruins\", \"x\": -0.45, \"xanchor\": \"left\", \"xref\": \"x\", \"y\": 4, \"yref\": \"y\"}, {\"align\": \"left\", \"font\": {\"color\": \"#000000\"}, \"showarrow\": false, \"text\": \"13\", \"x\": 0.55, \"xanchor\": \"left\", \"xref\": \"x\", \"y\": 4, \"yref\": \"y\"}, {\"align\": \"left\", \"font\": {\"color\": \"#000000\"}, \"showarrow\": false, \"text\": \"8\", \"x\": 1.55, \"xanchor\": \"left\", \"xref\": \"x\", \"y\": 4, \"yref\": \"y\"}, {\"align\": \"left\", \"font\": {\"color\": \"#000000\"}, \"showarrow\": false, \"text\": \"0\", \"x\": 2.55, \"xanchor\": \"left\", \"xref\": \"x\", \"y\": 4, \"yref\": \"y\"}, {\"align\": \"left\", \"font\": {\"color\": \"#000000\"}, \"showarrow\": false, \"text\": \"Chicago<br>Blackhawks\", \"x\": -0.45, \"xanchor\": \"left\", \"xref\": \"x\", \"y\": 5, \"yref\": \"y\"}, {\"align\": \"left\", \"font\": {\"color\": \"#000000\"}, \"showarrow\": false, \"text\": \"13\", \"x\": 0.55, \"xanchor\": \"left\", \"xref\": \"x\", \"y\": 5, \"yref\": \"y\"}, {\"align\": \"left\", \"font\": {\"color\": \"#000000\"}, \"showarrow\": false, \"text\": \"8\", \"x\": 1.55, \"xanchor\": \"left\", \"xref\": \"x\", \"y\": 5, \"yref\": \"y\"}, {\"align\": \"left\", \"font\": {\"color\": \"#000000\"}, \"showarrow\": false, \"text\": \"0\", \"x\": 2.55, \"xanchor\": \"left\", \"xref\": \"x\", \"y\": 5, \"yref\": \"y\"}, {\"align\": \"left\", \"font\": {\"color\": \"#000000\"}, \"showarrow\": false, \"text\": \"Ottawa<br>Senators\", \"x\": -0.45, \"xanchor\": \"left\", \"xref\": \"x\", \"y\": 6, \"yref\": \"y\"}, {\"align\": \"left\", \"font\": {\"color\": \"#000000\"}, \"showarrow\": false, \"text\": \"12\", \"x\": 0.55, \"xanchor\": \"left\", \"xref\": \"x\", \"y\": 6, \"yref\": \"y\"}, {\"align\": \"left\", \"font\": {\"color\": \"#000000\"}, \"showarrow\": false, \"text\": \"5\", \"x\": 1.55, \"xanchor\": \"left\", \"xref\": \"x\", \"y\": 6, \"yref\": \"y\"}, {\"align\": \"left\", \"font\": {\"color\": \"#000000\"}, \"showarrow\": false, \"text\": \"0\", \"x\": 2.55, \"xanchor\": \"left\", \"xref\": \"x\", \"y\": 6, \"yref\": \"y\"}], \"height\": 800, \"margin\": {\"b\": 0, \"l\": 50, \"r\": 0, \"t\": 75}, \"template\": {\"data\": {\"bar\": [{\"error_x\": {\"color\": \"#2a3f5f\"}, \"error_y\": {\"color\": \"#2a3f5f\"}, \"marker\": {\"line\": {\"color\": \"#E5ECF6\", \"width\": 0.5}}, \"type\": \"bar\"}], \"barpolar\": [{\"marker\": {\"line\": {\"color\": \"#E5ECF6\", \"width\": 0.5}}, \"type\": \"barpolar\"}], \"carpet\": [{\"aaxis\": {\"endlinecolor\": \"#2a3f5f\", \"gridcolor\": \"white\", \"linecolor\": \"white\", \"minorgridcolor\": \"white\", \"startlinecolor\": \"#2a3f5f\"}, \"baxis\": {\"endlinecolor\": \"#2a3f5f\", \"gridcolor\": \"white\", \"linecolor\": \"white\", \"minorgridcolor\": \"white\", \"startlinecolor\": \"#2a3f5f\"}, \"type\": \"carpet\"}], \"choropleth\": [{\"colorbar\": {\"outlinewidth\": 0, \"ticks\": \"\"}, \"type\": \"choropleth\"}], \"contour\": [{\"colorbar\": {\"outlinewidth\": 0, \"ticks\": \"\"}, \"colorscale\": [[0.0, \"#0d0887\"], [0.1111111111111111, \"#46039f\"], [0.2222222222222222, \"#7201a8\"], [0.3333333333333333, \"#9c179e\"], [0.4444444444444444, \"#bd3786\"], [0.5555555555555556, \"#d8576b\"], [0.6666666666666666, \"#ed7953\"], [0.7777777777777778, \"#fb9f3a\"], [0.8888888888888888, \"#fdca26\"], [1.0, \"#f0f921\"]], \"type\": \"contour\"}], \"contourcarpet\": [{\"colorbar\": {\"outlinewidth\": 0, \"ticks\": \"\"}, \"type\": \"contourcarpet\"}], \"heatmap\": [{\"colorbar\": {\"outlinewidth\": 0, \"ticks\": \"\"}, \"colorscale\": [[0.0, \"#0d0887\"], [0.1111111111111111, \"#46039f\"], [0.2222222222222222, \"#7201a8\"], [0.3333333333333333, \"#9c179e\"], [0.4444444444444444, \"#bd3786\"], [0.5555555555555556, \"#d8576b\"], [0.6666666666666666, \"#ed7953\"], [0.7777777777777778, \"#fb9f3a\"], [0.8888888888888888, \"#fdca26\"], [1.0, \"#f0f921\"]], \"type\": \"heatmap\"}], \"heatmapgl\": [{\"colorbar\": {\"outlinewidth\": 0, \"ticks\": \"\"}, \"colorscale\": [[0.0, \"#0d0887\"], [0.1111111111111111, \"#46039f\"], [0.2222222222222222, \"#7201a8\"], [0.3333333333333333, \"#9c179e\"], [0.4444444444444444, \"#bd3786\"], [0.5555555555555556, \"#d8576b\"], [0.6666666666666666, \"#ed7953\"], [0.7777777777777778, \"#fb9f3a\"], [0.8888888888888888, \"#fdca26\"], [1.0, \"#f0f921\"]], \"type\": \"heatmapgl\"}], \"histogram\": [{\"marker\": {\"colorbar\": {\"outlinewidth\": 0, \"ticks\": \"\"}}, \"type\": \"histogram\"}], \"histogram2d\": [{\"colorbar\": {\"outlinewidth\": 0, \"ticks\": \"\"}, \"colorscale\": [[0.0, \"#0d0887\"], [0.1111111111111111, \"#46039f\"], [0.2222222222222222, \"#7201a8\"], [0.3333333333333333, \"#9c179e\"], [0.4444444444444444, \"#bd3786\"], [0.5555555555555556, \"#d8576b\"], [0.6666666666666666, \"#ed7953\"], [0.7777777777777778, \"#fb9f3a\"], [0.8888888888888888, \"#fdca26\"], [1.0, \"#f0f921\"]], \"type\": \"histogram2d\"}], \"histogram2dcontour\": [{\"colorbar\": {\"outlinewidth\": 0, \"ticks\": \"\"}, \"colorscale\": [[0.0, \"#0d0887\"], [0.1111111111111111, \"#46039f\"], [0.2222222222222222, \"#7201a8\"], [0.3333333333333333, \"#9c179e\"], [0.4444444444444444, \"#bd3786\"], [0.5555555555555556, \"#d8576b\"], [0.6666666666666666, \"#ed7953\"], [0.7777777777777778, \"#fb9f3a\"], [0.8888888888888888, \"#fdca26\"], [1.0, \"#f0f921\"]], \"type\": \"histogram2dcontour\"}], \"mesh3d\": [{\"colorbar\": {\"outlinewidth\": 0, \"ticks\": \"\"}, \"type\": \"mesh3d\"}], \"parcoords\": [{\"line\": {\"colorbar\": {\"outlinewidth\": 0, \"ticks\": \"\"}}, \"type\": \"parcoords\"}], \"pie\": [{\"automargin\": true, \"type\": \"pie\"}], \"scatter\": [{\"marker\": {\"colorbar\": {\"outlinewidth\": 0, \"ticks\": \"\"}}, \"type\": \"scatter\"}], \"scatter3d\": [{\"line\": {\"colorbar\": {\"outlinewidth\": 0, \"ticks\": \"\"}}, \"marker\": {\"colorbar\": {\"outlinewidth\": 0, \"ticks\": \"\"}}, \"type\": \"scatter3d\"}], \"scattercarpet\": [{\"marker\": {\"colorbar\": {\"outlinewidth\": 0, \"ticks\": \"\"}}, \"type\": \"scattercarpet\"}], \"scattergeo\": [{\"marker\": {\"colorbar\": {\"outlinewidth\": 0, \"ticks\": \"\"}}, \"type\": \"scattergeo\"}], \"scattergl\": [{\"marker\": {\"colorbar\": {\"outlinewidth\": 0, \"ticks\": \"\"}}, \"type\": \"scattergl\"}], \"scattermapbox\": [{\"marker\": {\"colorbar\": {\"outlinewidth\": 0, \"ticks\": \"\"}}, \"type\": \"scattermapbox\"}], \"scatterpolar\": [{\"marker\": {\"colorbar\": {\"outlinewidth\": 0, \"ticks\": \"\"}}, \"type\": \"scatterpolar\"}], \"scatterpolargl\": [{\"marker\": {\"colorbar\": {\"outlinewidth\": 0, \"ticks\": \"\"}}, \"type\": \"scatterpolargl\"}], \"scatterternary\": [{\"marker\": {\"colorbar\": {\"outlinewidth\": 0, \"ticks\": \"\"}}, \"type\": \"scatterternary\"}], \"surface\": [{\"colorbar\": {\"outlinewidth\": 0, \"ticks\": \"\"}, \"colorscale\": [[0.0, \"#0d0887\"], [0.1111111111111111, \"#46039f\"], [0.2222222222222222, \"#7201a8\"], [0.3333333333333333, \"#9c179e\"], [0.4444444444444444, \"#bd3786\"], [0.5555555555555556, \"#d8576b\"], [0.6666666666666666, \"#ed7953\"], [0.7777777777777778, \"#fb9f3a\"], [0.8888888888888888, \"#fdca26\"], [1.0, \"#f0f921\"]], \"type\": \"surface\"}], \"table\": [{\"cells\": {\"fill\": {\"color\": \"#EBF0F8\"}, \"line\": {\"color\": \"white\"}}, \"header\": {\"fill\": {\"color\": \"#C8D4E3\"}, \"line\": {\"color\": \"white\"}}, \"type\": \"table\"}]}, \"layout\": {\"annotationdefaults\": {\"arrowcolor\": \"#2a3f5f\", \"arrowhead\": 0, \"arrowwidth\": 1}, \"autotypenumbers\": \"strict\", \"coloraxis\": {\"colorbar\": {\"outlinewidth\": 0, \"ticks\": \"\"}}, \"colorscale\": {\"diverging\": [[0, \"#8e0152\"], [0.1, \"#c51b7d\"], [0.2, \"#de77ae\"], [0.3, \"#f1b6da\"], [0.4, \"#fde0ef\"], [0.5, \"#f7f7f7\"], [0.6, \"#e6f5d0\"], [0.7, \"#b8e186\"], [0.8, \"#7fbc41\"], [0.9, \"#4d9221\"], [1, \"#276419\"]], \"sequential\": [[0.0, \"#0d0887\"], [0.1111111111111111, \"#46039f\"], [0.2222222222222222, \"#7201a8\"], [0.3333333333333333, \"#9c179e\"], [0.4444444444444444, \"#bd3786\"], [0.5555555555555556, \"#d8576b\"], [0.6666666666666666, \"#ed7953\"], [0.7777777777777778, \"#fb9f3a\"], [0.8888888888888888, \"#fdca26\"], [1.0, \"#f0f921\"]], \"sequentialminus\": [[0.0, \"#0d0887\"], [0.1111111111111111, \"#46039f\"], [0.2222222222222222, \"#7201a8\"], [0.3333333333333333, \"#9c179e\"], [0.4444444444444444, \"#bd3786\"], [0.5555555555555556, \"#d8576b\"], [0.6666666666666666, \"#ed7953\"], [0.7777777777777778, \"#fb9f3a\"], [0.8888888888888888, \"#fdca26\"], [1.0, \"#f0f921\"]]}, \"colorway\": [\"#636efa\", \"#EF553B\", \"#00cc96\", \"#ab63fa\", \"#FFA15A\", \"#19d3f3\", \"#FF6692\", \"#B6E880\", \"#FF97FF\", \"#FECB52\"], \"font\": {\"color\": \"#2a3f5f\"}, \"geo\": {\"bgcolor\": \"white\", \"lakecolor\": \"white\", \"landcolor\": \"#E5ECF6\", \"showlakes\": true, \"showland\": true, \"subunitcolor\": \"white\"}, \"hoverlabel\": {\"align\": \"left\"}, \"hovermode\": \"closest\", \"mapbox\": {\"style\": \"light\"}, \"paper_bgcolor\": \"white\", \"plot_bgcolor\": \"#E5ECF6\", \"polar\": {\"angularaxis\": {\"gridcolor\": \"white\", \"linecolor\": \"white\", \"ticks\": \"\"}, \"bgcolor\": \"#E5ECF6\", \"radialaxis\": {\"gridcolor\": \"white\", \"linecolor\": \"white\", \"ticks\": \"\"}}, \"scene\": {\"xaxis\": {\"backgroundcolor\": \"#E5ECF6\", \"gridcolor\": \"white\", \"gridwidth\": 2, \"linecolor\": \"white\", \"showbackground\": true, \"ticks\": \"\", \"zerolinecolor\": \"white\"}, \"yaxis\": {\"backgroundcolor\": \"#E5ECF6\", \"gridcolor\": \"white\", \"gridwidth\": 2, \"linecolor\": \"white\", \"showbackground\": true, \"ticks\": \"\", \"zerolinecolor\": \"white\"}, \"zaxis\": {\"backgroundcolor\": \"#E5ECF6\", \"gridcolor\": \"white\", \"gridwidth\": 2, \"linecolor\": \"white\", \"showbackground\": true, \"ticks\": \"\", \"zerolinecolor\": \"white\"}}, \"shapedefaults\": {\"line\": {\"color\": \"#2a3f5f\"}}, \"ternary\": {\"aaxis\": {\"gridcolor\": \"white\", \"linecolor\": \"white\", \"ticks\": \"\"}, \"baxis\": {\"gridcolor\": \"white\", \"linecolor\": \"white\", \"ticks\": \"\"}, \"bgcolor\": \"#E5ECF6\", \"caxis\": {\"gridcolor\": \"white\", \"linecolor\": \"white\", \"ticks\": \"\"}}, \"title\": {\"x\": 0.05}, \"xaxis\": {\"automargin\": true, \"gridcolor\": \"white\", \"linecolor\": \"white\", \"ticks\": \"\", \"title\": {\"standoff\": 15}, \"zerolinecolor\": \"white\", \"zerolinewidth\": 2}, \"yaxis\": {\"automargin\": true, \"gridcolor\": \"white\", \"linecolor\": \"white\", \"ticks\": \"\", \"title\": {\"standoff\": 15}, \"zerolinecolor\": \"white\", \"zerolinewidth\": 2}}}, \"title\": {\"text\": \"2016 Hockey Stats\"}, \"xaxis\": {\"dtick\": 1, \"gridwidth\": 2, \"showticklabels\": false, \"tick0\": -0.5, \"ticks\": \"\", \"zeroline\": false}, \"xaxis2\": {\"anchor\": \"y2\"}, \"yaxis\": {\"autorange\": \"reversed\", \"domain\": [0, 0.45], \"dtick\": 1, \"gridwidth\": 2, \"showticklabels\": false, \"tick0\": 0.5, \"ticks\": \"\", \"zeroline\": false}, \"yaxis2\": {\"anchor\": \"x2\", \"domain\": [0.6, 1], \"title\": {\"text\": \"Goals\"}}},                        {\"responsive\": true}                    ).then(function(){\n",
       "                            \n",
       "var gd = document.getElementById('d28a88e7-3be3-4d90-a1ca-7222d96af7ee');\n",
       "var x = new MutationObserver(function (mutations, observer) {{\n",
       "        var display = window.getComputedStyle(gd).display;\n",
       "        if (!display || display === 'none') {{\n",
       "            console.log([gd, 'removed!']);\n",
       "            Plotly.purge(gd);\n",
       "            observer.disconnect();\n",
       "        }}\n",
       "}});\n",
       "\n",
       "// Listen for the removal of the full notebook cells\n",
       "var notebookContainer = gd.closest('#notebook-container');\n",
       "if (notebookContainer) {{\n",
       "    x.observe(notebookContainer, {childList: true});\n",
       "}}\n",
       "\n",
       "// Listen for the clearing of the current output cell\n",
       "var outputEl = gd.closest('.output');\n",
       "if (outputEl) {{\n",
       "    x.observe(outputEl, {childList: true});\n",
       "}}\n",
       "\n",
       "                        })                };                });            </script>        </div>"
      ]
     },
     "metadata": {},
     "output_type": "display_data"
    }
   ],
   "source": [
    "import plotly.graph_objects as go\n",
    "import plotly.figure_factory as ff\n",
    "\n",
    "import plotly.express as px\n",
    "# Add table data\n",
    "table_data = [['Team', 'Wins', 'Losses', 'Ties'],\n",
    "              ['Montréal<br>Canadiens', 18, 4, 0],\n",
    "              ['Dallas Stars', 18, 5, 0],\n",
    "              ['NY Rangers', 16, 5, 0],\n",
    "              ['Boston<br>Bruins', 13, 8, 0],\n",
    "              ['Chicago<br>Blackhawks', 13, 8, 0],\n",
    "              ['Ottawa<br>Senators', 12, 5, 0]]\n",
    "\n",
    "# Initialize a figure with ff.create_table(table_data)\n",
    "fig = ff.create_table(table_data, height_constant=60)\n",
    "\n",
    "# Add graph data\n",
    "teams = ['Montréal Canadiens', 'Dallas Stars', 'NY Rangers',\n",
    "         'Boston Bruins', 'Chicago Blackhawks', 'Ottawa Senators']\n",
    "GFPG = [3.54, 3.48, 3.0, 3.27, 2.83, 3.18]\n",
    "GAPG = [2.17, 2.57, 2.0, 2.91, 2.57, 2.77]\n",
    "\n",
    "# Make traces for graph\n",
    "trace1 = go.Bar(x=teams, y=GFPG, xaxis='x2', yaxis='y2',\n",
    "                marker=dict(color='#0099ff'),\n",
    "                name='Goals For<br>Per Game')\n",
    "trace2 = go.Bar(x=teams, y=GAPG, xaxis='x2', yaxis='y2',\n",
    "                marker=dict(color='white'),\n",
    "                name='Goals Against<br>Per Game')\n",
    "\n",
    "# Add trace data to figure\n",
    "fig.add_traces([trace1, trace2])\n",
    "\n",
    "# initialize xaxis2 and yaxis2\n",
    "fig['layout']['xaxis2'] = {}\n",
    "fig['layout']['yaxis2'] = {}\n",
    "\n",
    "# # Edit layout for subplots\n",
    "fig.layout.yaxis.update({'domain': [0, .45]})\n",
    "fig.layout.yaxis2.update({'domain': [.6, 1]})\n",
    "\n",
    "# # The graph's yaxis2 MUST BE anchored to the graph's xaxis2 and vice versa\n",
    "fig.layout.yaxis2.update({'anchor': 'x2'})\n",
    "fig.layout.xaxis2.update({'anchor': 'y2'})\n",
    "fig.layout.yaxis2.update({'title': 'Goals'})\n",
    "\n",
    "# # Update the margins to add a title and see graph x-labels.\n",
    "fig.layout.margin.update({'t':75, 'l':50})\n",
    "fig.layout.update({'title': '2016 Hockey Stats'})\n",
    "\n",
    "# # Update the height because adding a graph vertically will interact with\n",
    "# the plot height calculated for the table\n",
    "fig.layout.update({'height':800})\n",
    "\n",
    "# Plot!\n",
    "fig.show()"
   ]
  },
  {
   "cell_type": "code",
   "execution_count": 2,
   "metadata": {},
   "outputs": [],
   "source": [
    "apart_t = pd.read_csv('아파트_매매가_상승_지수.csv',encoding='CP949',header=[0,1]) #csv파일을 읽어온다. \n",
    "[apart_t.rename(columns={apart_t.columns[index][0]:apart_t.columns[index-1][0]},inplace=True) for index,i in enumerate(apart_t.columns) if index%2!=0]\n",
    "apart_t.drop(apart_t.columns[1:4],axis=1,inplace=True) # 1 ~ 3번째 열 삭제\n",
    "apart_t.rename(columns={'Unnamed: 0_level_1':'지역'},inplace=True) # 지역으로 이름변경\n",
    "apart_t.dropna(axis=0,inplace=True) #지역의 null값 행 모두 제거\n",
    "apart_t.set_index('지 역',inplace=True) # 지역 인덱스화\n",
    "apart_t.index = apart_t.index.map(lambda x : x[0]) #지역 인덱스 튜플값 풀어주기\n",
    "apart_i = pd.DataFrame(apart_t.iloc[:,0::2].values,columns=apart_t.columns[0::2].map(lambda x : x[0])) #지수별로 데이터프레임 생성\n",
    "apart_f = pd.DataFrame(apart_t.iloc[:,1::2].values,columns=apart_t.columns[0::2].map(lambda x : x[0])) #변동률별로 데이터프레임 생성\n",
    "apart_i.set_index(apart_t.index,inplace=True) #인덱스를 지역명으로 지정\n",
    "apart_f.set_index(apart_t.index,inplace=True) #\n",
    "apart_f=apart_f.transpose()\n",
    "apart_f = apart_f.astype(np.float)\n",
    "apart_i=apart_i.transpose()\n",
    "apart_i = apart_i.astype(np.float)"
   ]
  },
  {
   "cell_type": "code",
   "execution_count": 53,
   "metadata": {
    "scrolled": true
   },
   "outputs": [
    {
     "data": {
      "text/html": [
       "<div>\n",
       "<style scoped>\n",
       "    .dataframe tbody tr th:only-of-type {\n",
       "        vertical-align: middle;\n",
       "    }\n",
       "\n",
       "    .dataframe tbody tr th {\n",
       "        vertical-align: top;\n",
       "    }\n",
       "\n",
       "    .dataframe thead th {\n",
       "        text-align: right;\n",
       "    }\n",
       "</style>\n",
       "<table border=\"1\" class=\"dataframe\">\n",
       "  <thead>\n",
       "    <tr style=\"text-align: right;\">\n",
       "      <th></th>\n",
       "      <th>Rank</th>\n",
       "      <th>State</th>\n",
       "      <th>Postal</th>\n",
       "      <th>Population</th>\n",
       "    </tr>\n",
       "  </thead>\n",
       "  <tbody>\n",
       "    <tr>\n",
       "      <th>0</th>\n",
       "      <td>1</td>\n",
       "      <td>Alabama</td>\n",
       "      <td>AL</td>\n",
       "      <td>4849377.0</td>\n",
       "    </tr>\n",
       "    <tr>\n",
       "      <th>1</th>\n",
       "      <td>2</td>\n",
       "      <td>Alaska</td>\n",
       "      <td>AK</td>\n",
       "      <td>736732.0</td>\n",
       "    </tr>\n",
       "    <tr>\n",
       "      <th>2</th>\n",
       "      <td>3</td>\n",
       "      <td>Arizona</td>\n",
       "      <td>AZ</td>\n",
       "      <td>6731484.0</td>\n",
       "    </tr>\n",
       "    <tr>\n",
       "      <th>3</th>\n",
       "      <td>4</td>\n",
       "      <td>Arkansas</td>\n",
       "      <td>AR</td>\n",
       "      <td>2966369.0</td>\n",
       "    </tr>\n",
       "    <tr>\n",
       "      <th>4</th>\n",
       "      <td>5</td>\n",
       "      <td>California</td>\n",
       "      <td>CA</td>\n",
       "      <td>38802500.0</td>\n",
       "    </tr>\n",
       "    <tr>\n",
       "      <th>5</th>\n",
       "      <td>6</td>\n",
       "      <td>Colorado</td>\n",
       "      <td>CO</td>\n",
       "      <td>5355866.0</td>\n",
       "    </tr>\n",
       "    <tr>\n",
       "      <th>6</th>\n",
       "      <td>7</td>\n",
       "      <td>Connecticut</td>\n",
       "      <td>CT</td>\n",
       "      <td>3596677.0</td>\n",
       "    </tr>\n",
       "    <tr>\n",
       "      <th>7</th>\n",
       "      <td>8</td>\n",
       "      <td>Delaware</td>\n",
       "      <td>DE</td>\n",
       "      <td>935614.0</td>\n",
       "    </tr>\n",
       "    <tr>\n",
       "      <th>8</th>\n",
       "      <td>9</td>\n",
       "      <td>District of Columbia</td>\n",
       "      <td>DC</td>\n",
       "      <td>658893.0</td>\n",
       "    </tr>\n",
       "    <tr>\n",
       "      <th>9</th>\n",
       "      <td>10</td>\n",
       "      <td>Florida</td>\n",
       "      <td>FL</td>\n",
       "      <td>19893297.0</td>\n",
       "    </tr>\n",
       "    <tr>\n",
       "      <th>10</th>\n",
       "      <td>11</td>\n",
       "      <td>Georgia</td>\n",
       "      <td>GA</td>\n",
       "      <td>10097343.0</td>\n",
       "    </tr>\n",
       "    <tr>\n",
       "      <th>11</th>\n",
       "      <td>12</td>\n",
       "      <td>Hawaii</td>\n",
       "      <td>HI</td>\n",
       "      <td>1419561.0</td>\n",
       "    </tr>\n",
       "    <tr>\n",
       "      <th>12</th>\n",
       "      <td>13</td>\n",
       "      <td>Idaho</td>\n",
       "      <td>ID</td>\n",
       "      <td>1634464.0</td>\n",
       "    </tr>\n",
       "    <tr>\n",
       "      <th>13</th>\n",
       "      <td>14</td>\n",
       "      <td>Illinois</td>\n",
       "      <td>IL</td>\n",
       "      <td>12880580.0</td>\n",
       "    </tr>\n",
       "    <tr>\n",
       "      <th>14</th>\n",
       "      <td>15</td>\n",
       "      <td>Indiana</td>\n",
       "      <td>IN</td>\n",
       "      <td>6596855.0</td>\n",
       "    </tr>\n",
       "    <tr>\n",
       "      <th>15</th>\n",
       "      <td>16</td>\n",
       "      <td>Iowa</td>\n",
       "      <td>IA</td>\n",
       "      <td>3107126.0</td>\n",
       "    </tr>\n",
       "    <tr>\n",
       "      <th>16</th>\n",
       "      <td>17</td>\n",
       "      <td>Kansas</td>\n",
       "      <td>KS</td>\n",
       "      <td>2904021.0</td>\n",
       "    </tr>\n",
       "    <tr>\n",
       "      <th>17</th>\n",
       "      <td>18</td>\n",
       "      <td>Kentucky</td>\n",
       "      <td>KY</td>\n",
       "      <td>4413457.0</td>\n",
       "    </tr>\n",
       "    <tr>\n",
       "      <th>18</th>\n",
       "      <td>19</td>\n",
       "      <td>Louisiana</td>\n",
       "      <td>LA</td>\n",
       "      <td>4649676.0</td>\n",
       "    </tr>\n",
       "    <tr>\n",
       "      <th>19</th>\n",
       "      <td>20</td>\n",
       "      <td>Maine</td>\n",
       "      <td>ME</td>\n",
       "      <td>1330089.0</td>\n",
       "    </tr>\n",
       "    <tr>\n",
       "      <th>20</th>\n",
       "      <td>21</td>\n",
       "      <td>Maryland</td>\n",
       "      <td>MD</td>\n",
       "      <td>5976407.0</td>\n",
       "    </tr>\n",
       "    <tr>\n",
       "      <th>21</th>\n",
       "      <td>22</td>\n",
       "      <td>Massachusetts</td>\n",
       "      <td>MA</td>\n",
       "      <td>6745408.0</td>\n",
       "    </tr>\n",
       "    <tr>\n",
       "      <th>22</th>\n",
       "      <td>23</td>\n",
       "      <td>Michigan</td>\n",
       "      <td>MI</td>\n",
       "      <td>9909877.0</td>\n",
       "    </tr>\n",
       "    <tr>\n",
       "      <th>23</th>\n",
       "      <td>24</td>\n",
       "      <td>Minnesota</td>\n",
       "      <td>MN</td>\n",
       "      <td>5457173.0</td>\n",
       "    </tr>\n",
       "    <tr>\n",
       "      <th>24</th>\n",
       "      <td>25</td>\n",
       "      <td>Mississippi</td>\n",
       "      <td>MS</td>\n",
       "      <td>2994079.0</td>\n",
       "    </tr>\n",
       "    <tr>\n",
       "      <th>25</th>\n",
       "      <td>26</td>\n",
       "      <td>Missouri</td>\n",
       "      <td>MO</td>\n",
       "      <td>6063589.0</td>\n",
       "    </tr>\n",
       "    <tr>\n",
       "      <th>26</th>\n",
       "      <td>27</td>\n",
       "      <td>Montana</td>\n",
       "      <td>MT</td>\n",
       "      <td>1023579.0</td>\n",
       "    </tr>\n",
       "    <tr>\n",
       "      <th>27</th>\n",
       "      <td>28</td>\n",
       "      <td>Nebraska</td>\n",
       "      <td>NE</td>\n",
       "      <td>1881503.0</td>\n",
       "    </tr>\n",
       "    <tr>\n",
       "      <th>28</th>\n",
       "      <td>29</td>\n",
       "      <td>Nevada</td>\n",
       "      <td>NV</td>\n",
       "      <td>2839098.0</td>\n",
       "    </tr>\n",
       "    <tr>\n",
       "      <th>29</th>\n",
       "      <td>30</td>\n",
       "      <td>New Hampshire</td>\n",
       "      <td>NH</td>\n",
       "      <td>1326813.0</td>\n",
       "    </tr>\n",
       "    <tr>\n",
       "      <th>30</th>\n",
       "      <td>31</td>\n",
       "      <td>New Jersey</td>\n",
       "      <td>NJ</td>\n",
       "      <td>8938175.0</td>\n",
       "    </tr>\n",
       "    <tr>\n",
       "      <th>31</th>\n",
       "      <td>32</td>\n",
       "      <td>New Mexico</td>\n",
       "      <td>NM</td>\n",
       "      <td>2085572.0</td>\n",
       "    </tr>\n",
       "    <tr>\n",
       "      <th>32</th>\n",
       "      <td>33</td>\n",
       "      <td>New York</td>\n",
       "      <td>NY</td>\n",
       "      <td>19746227.0</td>\n",
       "    </tr>\n",
       "    <tr>\n",
       "      <th>33</th>\n",
       "      <td>34</td>\n",
       "      <td>North Carolina</td>\n",
       "      <td>NC</td>\n",
       "      <td>9943964.0</td>\n",
       "    </tr>\n",
       "    <tr>\n",
       "      <th>34</th>\n",
       "      <td>35</td>\n",
       "      <td>North Dakota</td>\n",
       "      <td>ND</td>\n",
       "      <td>739482.0</td>\n",
       "    </tr>\n",
       "    <tr>\n",
       "      <th>35</th>\n",
       "      <td>36</td>\n",
       "      <td>Ohio</td>\n",
       "      <td>OH</td>\n",
       "      <td>11594163.0</td>\n",
       "    </tr>\n",
       "    <tr>\n",
       "      <th>36</th>\n",
       "      <td>37</td>\n",
       "      <td>Oklahoma</td>\n",
       "      <td>OK</td>\n",
       "      <td>3878051.0</td>\n",
       "    </tr>\n",
       "    <tr>\n",
       "      <th>37</th>\n",
       "      <td>38</td>\n",
       "      <td>Oregon</td>\n",
       "      <td>OR</td>\n",
       "      <td>3970239.0</td>\n",
       "    </tr>\n",
       "    <tr>\n",
       "      <th>38</th>\n",
       "      <td>39</td>\n",
       "      <td>Pennsylvania</td>\n",
       "      <td>PA</td>\n",
       "      <td>12787209.0</td>\n",
       "    </tr>\n",
       "    <tr>\n",
       "      <th>39</th>\n",
       "      <td>40</td>\n",
       "      <td>Puerto Rico</td>\n",
       "      <td>PR</td>\n",
       "      <td>3548397.0</td>\n",
       "    </tr>\n",
       "    <tr>\n",
       "      <th>40</th>\n",
       "      <td>41</td>\n",
       "      <td>Rhode Island</td>\n",
       "      <td>RI</td>\n",
       "      <td>1055173.0</td>\n",
       "    </tr>\n",
       "    <tr>\n",
       "      <th>41</th>\n",
       "      <td>42</td>\n",
       "      <td>South Carolina</td>\n",
       "      <td>SC</td>\n",
       "      <td>4832482.0</td>\n",
       "    </tr>\n",
       "    <tr>\n",
       "      <th>42</th>\n",
       "      <td>43</td>\n",
       "      <td>South Dakota</td>\n",
       "      <td>SD</td>\n",
       "      <td>853175.0</td>\n",
       "    </tr>\n",
       "    <tr>\n",
       "      <th>43</th>\n",
       "      <td>44</td>\n",
       "      <td>Tennessee</td>\n",
       "      <td>TN</td>\n",
       "      <td>6549352.0</td>\n",
       "    </tr>\n",
       "    <tr>\n",
       "      <th>44</th>\n",
       "      <td>45</td>\n",
       "      <td>Texas</td>\n",
       "      <td>TX</td>\n",
       "      <td>26956958.0</td>\n",
       "    </tr>\n",
       "    <tr>\n",
       "      <th>45</th>\n",
       "      <td>46</td>\n",
       "      <td>Utah</td>\n",
       "      <td>UT</td>\n",
       "      <td>2942902.0</td>\n",
       "    </tr>\n",
       "    <tr>\n",
       "      <th>46</th>\n",
       "      <td>47</td>\n",
       "      <td>Vermont</td>\n",
       "      <td>VT</td>\n",
       "      <td>626562.0</td>\n",
       "    </tr>\n",
       "    <tr>\n",
       "      <th>47</th>\n",
       "      <td>48</td>\n",
       "      <td>Virginia</td>\n",
       "      <td>VA</td>\n",
       "      <td>8326289.0</td>\n",
       "    </tr>\n",
       "    <tr>\n",
       "      <th>48</th>\n",
       "      <td>49</td>\n",
       "      <td>Washington</td>\n",
       "      <td>WA</td>\n",
       "      <td>7061530.0</td>\n",
       "    </tr>\n",
       "    <tr>\n",
       "      <th>49</th>\n",
       "      <td>50</td>\n",
       "      <td>West Virginia</td>\n",
       "      <td>WV</td>\n",
       "      <td>1850326.0</td>\n",
       "    </tr>\n",
       "    <tr>\n",
       "      <th>50</th>\n",
       "      <td>51</td>\n",
       "      <td>Wisconsin</td>\n",
       "      <td>WI</td>\n",
       "      <td>5757564.0</td>\n",
       "    </tr>\n",
       "    <tr>\n",
       "      <th>51</th>\n",
       "      <td>52</td>\n",
       "      <td>Wyoming</td>\n",
       "      <td>WY</td>\n",
       "      <td>584153.0</td>\n",
       "    </tr>\n",
       "  </tbody>\n",
       "</table>\n",
       "</div>"
      ],
      "text/plain": [
       "    Rank                 State Postal  Population\n",
       "0      1               Alabama     AL   4849377.0\n",
       "1      2                Alaska     AK    736732.0\n",
       "2      3               Arizona     AZ   6731484.0\n",
       "3      4              Arkansas     AR   2966369.0\n",
       "4      5            California     CA  38802500.0\n",
       "5      6              Colorado     CO   5355866.0\n",
       "6      7           Connecticut     CT   3596677.0\n",
       "7      8              Delaware     DE    935614.0\n",
       "8      9  District of Columbia     DC    658893.0\n",
       "9     10               Florida     FL  19893297.0\n",
       "10    11               Georgia     GA  10097343.0\n",
       "11    12                Hawaii     HI   1419561.0\n",
       "12    13                 Idaho     ID   1634464.0\n",
       "13    14              Illinois     IL  12880580.0\n",
       "14    15               Indiana     IN   6596855.0\n",
       "15    16                  Iowa     IA   3107126.0\n",
       "16    17                Kansas     KS   2904021.0\n",
       "17    18              Kentucky     KY   4413457.0\n",
       "18    19             Louisiana     LA   4649676.0\n",
       "19    20                 Maine     ME   1330089.0\n",
       "20    21              Maryland     MD   5976407.0\n",
       "21    22         Massachusetts     MA   6745408.0\n",
       "22    23              Michigan     MI   9909877.0\n",
       "23    24             Minnesota     MN   5457173.0\n",
       "24    25           Mississippi     MS   2994079.0\n",
       "25    26              Missouri     MO   6063589.0\n",
       "26    27               Montana     MT   1023579.0\n",
       "27    28              Nebraska     NE   1881503.0\n",
       "28    29                Nevada     NV   2839098.0\n",
       "29    30         New Hampshire     NH   1326813.0\n",
       "30    31            New Jersey     NJ   8938175.0\n",
       "31    32            New Mexico     NM   2085572.0\n",
       "32    33              New York     NY  19746227.0\n",
       "33    34        North Carolina     NC   9943964.0\n",
       "34    35          North Dakota     ND    739482.0\n",
       "35    36                  Ohio     OH  11594163.0\n",
       "36    37              Oklahoma     OK   3878051.0\n",
       "37    38                Oregon     OR   3970239.0\n",
       "38    39          Pennsylvania     PA  12787209.0\n",
       "39    40           Puerto Rico     PR   3548397.0\n",
       "40    41          Rhode Island     RI   1055173.0\n",
       "41    42        South Carolina     SC   4832482.0\n",
       "42    43          South Dakota     SD    853175.0\n",
       "43    44             Tennessee     TN   6549352.0\n",
       "44    45                 Texas     TX  26956958.0\n",
       "45    46                  Utah     UT   2942902.0\n",
       "46    47               Vermont     VT    626562.0\n",
       "47    48              Virginia     VA   8326289.0\n",
       "48    49            Washington     WA   7061530.0\n",
       "49    50         West Virginia     WV   1850326.0\n",
       "50    51             Wisconsin     WI   5757564.0\n",
       "51    52               Wyoming     WY    584153.0"
      ]
     },
     "execution_count": 53,
     "metadata": {},
     "output_type": "execute_result"
    }
   ],
   "source": [
    "df = pd.read_csv('https://raw.githubusercontent.com/plotly/datasets/master/2014_usa_states.csv')\n",
    "df"
   ]
  },
  {
   "cell_type": "code",
   "execution_count": 3,
   "metadata": {},
   "outputs": [
    {
     "data": {
      "text/html": [
       "<div>\n",
       "<style scoped>\n",
       "    .dataframe tbody tr th:only-of-type {\n",
       "        vertical-align: middle;\n",
       "    }\n",
       "\n",
       "    .dataframe tbody tr th {\n",
       "        vertical-align: top;\n",
       "    }\n",
       "\n",
       "    .dataframe thead th {\n",
       "        text-align: right;\n",
       "    }\n",
       "</style>\n",
       "<table border=\"1\" class=\"dataframe\">\n",
       "  <thead>\n",
       "    <tr style=\"text-align: right;\">\n",
       "      <th>지 역</th>\n",
       "      <th>전국</th>\n",
       "      <th>수도권</th>\n",
       "      <th>지방권</th>\n",
       "      <th>6대광역시</th>\n",
       "      <th>5대광역시</th>\n",
       "      <th>9개도</th>\n",
       "      <th>8개도</th>\n",
       "      <th>서울</th>\n",
       "      <th>경기</th>\n",
       "      <th>인천</th>\n",
       "      <th>...</th>\n",
       "      <th>울산</th>\n",
       "      <th>세종</th>\n",
       "      <th>강원</th>\n",
       "      <th>충북</th>\n",
       "      <th>충남</th>\n",
       "      <th>전북</th>\n",
       "      <th>전남</th>\n",
       "      <th>경북</th>\n",
       "      <th>경남</th>\n",
       "      <th>제주</th>\n",
       "    </tr>\n",
       "  </thead>\n",
       "  <tbody>\n",
       "    <tr>\n",
       "      <th>2014년 12월29일</th>\n",
       "      <td>0.04</td>\n",
       "      <td>0.04</td>\n",
       "      <td>0.05</td>\n",
       "      <td>0.06</td>\n",
       "      <td>0.07</td>\n",
       "      <td>0.04</td>\n",
       "      <td>0.04</td>\n",
       "      <td>0.04</td>\n",
       "      <td>0.04</td>\n",
       "      <td>0.02</td>\n",
       "      <td>...</td>\n",
       "      <td>0.03</td>\n",
       "      <td>-0.05</td>\n",
       "      <td>0.03</td>\n",
       "      <td>0.08</td>\n",
       "      <td>-0.02</td>\n",
       "      <td>-0.01</td>\n",
       "      <td>-0.03</td>\n",
       "      <td>0.05</td>\n",
       "      <td>0.07</td>\n",
       "      <td>0.39</td>\n",
       "    </tr>\n",
       "    <tr>\n",
       "      <th>2015년 01월05일</th>\n",
       "      <td>0.06</td>\n",
       "      <td>0.06</td>\n",
       "      <td>0.06</td>\n",
       "      <td>0.06</td>\n",
       "      <td>0.07</td>\n",
       "      <td>0.07</td>\n",
       "      <td>0.05</td>\n",
       "      <td>0.05</td>\n",
       "      <td>0.08</td>\n",
       "      <td>0.01</td>\n",
       "      <td>...</td>\n",
       "      <td>0.02</td>\n",
       "      <td>-0.02</td>\n",
       "      <td>0.02</td>\n",
       "      <td>0.16</td>\n",
       "      <td>0.04</td>\n",
       "      <td>0.01</td>\n",
       "      <td>-0.06</td>\n",
       "      <td>0.06</td>\n",
       "      <td>0.04</td>\n",
       "      <td>0.33</td>\n",
       "    </tr>\n",
       "    <tr>\n",
       "      <th>2015년 01월12일</th>\n",
       "      <td>0.06</td>\n",
       "      <td>0.06</td>\n",
       "      <td>0.06</td>\n",
       "      <td>0.07</td>\n",
       "      <td>0.08</td>\n",
       "      <td>0.06</td>\n",
       "      <td>0.05</td>\n",
       "      <td>0.02</td>\n",
       "      <td>0.08</td>\n",
       "      <td>0.05</td>\n",
       "      <td>...</td>\n",
       "      <td>0.04</td>\n",
       "      <td>-0.03</td>\n",
       "      <td>0.04</td>\n",
       "      <td>0.05</td>\n",
       "      <td>0.08</td>\n",
       "      <td>-0.07</td>\n",
       "      <td>-0.10</td>\n",
       "      <td>0.12</td>\n",
       "      <td>0.06</td>\n",
       "      <td>0.40</td>\n",
       "    </tr>\n",
       "    <tr>\n",
       "      <th>2015년 01월19일</th>\n",
       "      <td>0.06</td>\n",
       "      <td>0.07</td>\n",
       "      <td>0.05</td>\n",
       "      <td>0.06</td>\n",
       "      <td>0.06</td>\n",
       "      <td>0.06</td>\n",
       "      <td>0.04</td>\n",
       "      <td>0.06</td>\n",
       "      <td>0.08</td>\n",
       "      <td>0.03</td>\n",
       "      <td>...</td>\n",
       "      <td>0.05</td>\n",
       "      <td>-0.02</td>\n",
       "      <td>0.03</td>\n",
       "      <td>0.15</td>\n",
       "      <td>0.01</td>\n",
       "      <td>0.00</td>\n",
       "      <td>-0.10</td>\n",
       "      <td>0.08</td>\n",
       "      <td>0.03</td>\n",
       "      <td>0.23</td>\n",
       "    </tr>\n",
       "    <tr>\n",
       "      <th>2015년 01월26일</th>\n",
       "      <td>0.09</td>\n",
       "      <td>0.09</td>\n",
       "      <td>0.09</td>\n",
       "      <td>0.10</td>\n",
       "      <td>0.11</td>\n",
       "      <td>0.08</td>\n",
       "      <td>0.06</td>\n",
       "      <td>0.08</td>\n",
       "      <td>0.10</td>\n",
       "      <td>0.07</td>\n",
       "      <td>...</td>\n",
       "      <td>0.11</td>\n",
       "      <td>-0.13</td>\n",
       "      <td>0.04</td>\n",
       "      <td>0.07</td>\n",
       "      <td>0.12</td>\n",
       "      <td>-0.03</td>\n",
       "      <td>-0.05</td>\n",
       "      <td>0.13</td>\n",
       "      <td>0.06</td>\n",
       "      <td>0.24</td>\n",
       "    </tr>\n",
       "    <tr>\n",
       "      <th>...</th>\n",
       "      <td>...</td>\n",
       "      <td>...</td>\n",
       "      <td>...</td>\n",
       "      <td>...</td>\n",
       "      <td>...</td>\n",
       "      <td>...</td>\n",
       "      <td>...</td>\n",
       "      <td>...</td>\n",
       "      <td>...</td>\n",
       "      <td>...</td>\n",
       "      <td>...</td>\n",
       "      <td>...</td>\n",
       "      <td>...</td>\n",
       "      <td>...</td>\n",
       "      <td>...</td>\n",
       "      <td>...</td>\n",
       "      <td>...</td>\n",
       "      <td>...</td>\n",
       "      <td>...</td>\n",
       "      <td>...</td>\n",
       "      <td>...</td>\n",
       "    </tr>\n",
       "    <tr>\n",
       "      <th>2020년 11월30일</th>\n",
       "      <td>0.24</td>\n",
       "      <td>0.16</td>\n",
       "      <td>0.31</td>\n",
       "      <td>0.38</td>\n",
       "      <td>0.44</td>\n",
       "      <td>0.22</td>\n",
       "      <td>0.20</td>\n",
       "      <td>0.03</td>\n",
       "      <td>0.24</td>\n",
       "      <td>0.13</td>\n",
       "      <td>...</td>\n",
       "      <td>0.83</td>\n",
       "      <td>0.27</td>\n",
       "      <td>0.09</td>\n",
       "      <td>0.27</td>\n",
       "      <td>0.25</td>\n",
       "      <td>0.12</td>\n",
       "      <td>0.06</td>\n",
       "      <td>0.12</td>\n",
       "      <td>0.34</td>\n",
       "      <td>0.01</td>\n",
       "    </tr>\n",
       "    <tr>\n",
       "      <th>2020년 12월07일</th>\n",
       "      <td>0.27</td>\n",
       "      <td>0.18</td>\n",
       "      <td>0.35</td>\n",
       "      <td>0.42</td>\n",
       "      <td>0.50</td>\n",
       "      <td>0.25</td>\n",
       "      <td>0.23</td>\n",
       "      <td>0.03</td>\n",
       "      <td>0.27</td>\n",
       "      <td>0.15</td>\n",
       "      <td>...</td>\n",
       "      <td>0.76</td>\n",
       "      <td>0.23</td>\n",
       "      <td>0.08</td>\n",
       "      <td>0.23</td>\n",
       "      <td>0.26</td>\n",
       "      <td>0.24</td>\n",
       "      <td>0.08</td>\n",
       "      <td>0.20</td>\n",
       "      <td>0.36</td>\n",
       "      <td>0.03</td>\n",
       "    </tr>\n",
       "    <tr>\n",
       "      <th>2020년 12월14일</th>\n",
       "      <td>0.29</td>\n",
       "      <td>0.20</td>\n",
       "      <td>0.38</td>\n",
       "      <td>0.46</td>\n",
       "      <td>0.55</td>\n",
       "      <td>0.27</td>\n",
       "      <td>0.24</td>\n",
       "      <td>0.04</td>\n",
       "      <td>0.30</td>\n",
       "      <td>0.15</td>\n",
       "      <td>...</td>\n",
       "      <td>0.79</td>\n",
       "      <td>0.21</td>\n",
       "      <td>0.08</td>\n",
       "      <td>0.23</td>\n",
       "      <td>0.29</td>\n",
       "      <td>0.23</td>\n",
       "      <td>0.10</td>\n",
       "      <td>0.19</td>\n",
       "      <td>0.38</td>\n",
       "      <td>0.15</td>\n",
       "    </tr>\n",
       "    <tr>\n",
       "      <th>2020년 12월21일</th>\n",
       "      <td>0.29</td>\n",
       "      <td>0.22</td>\n",
       "      <td>0.37</td>\n",
       "      <td>0.43</td>\n",
       "      <td>0.48</td>\n",
       "      <td>0.29</td>\n",
       "      <td>0.27</td>\n",
       "      <td>0.05</td>\n",
       "      <td>0.31</td>\n",
       "      <td>0.22</td>\n",
       "      <td>...</td>\n",
       "      <td>0.62</td>\n",
       "      <td>0.26</td>\n",
       "      <td>0.19</td>\n",
       "      <td>0.16</td>\n",
       "      <td>0.42</td>\n",
       "      <td>0.16</td>\n",
       "      <td>0.10</td>\n",
       "      <td>0.31</td>\n",
       "      <td>0.37</td>\n",
       "      <td>0.06</td>\n",
       "    </tr>\n",
       "    <tr>\n",
       "      <th>2020년 12월28일</th>\n",
       "      <td>0.28</td>\n",
       "      <td>0.23</td>\n",
       "      <td>0.33</td>\n",
       "      <td>0.41</td>\n",
       "      <td>0.45</td>\n",
       "      <td>0.28</td>\n",
       "      <td>0.23</td>\n",
       "      <td>0.06</td>\n",
       "      <td>0.32</td>\n",
       "      <td>0.26</td>\n",
       "      <td>...</td>\n",
       "      <td>0.60</td>\n",
       "      <td>0.27</td>\n",
       "      <td>0.18</td>\n",
       "      <td>0.18</td>\n",
       "      <td>0.27</td>\n",
       "      <td>0.04</td>\n",
       "      <td>0.06</td>\n",
       "      <td>0.32</td>\n",
       "      <td>0.37</td>\n",
       "      <td>0.06</td>\n",
       "    </tr>\n",
       "  </tbody>\n",
       "</table>\n",
       "<p>313 rows × 24 columns</p>\n",
       "</div>"
      ],
      "text/plain": [
       "지 역             전국   수도권   지방권  6대광역시  5대광역시   9개도   8개도    서울    경기    인천  \\\n",
       "2014년 12월29일  0.04  0.04  0.05   0.06   0.07  0.04  0.04  0.04  0.04  0.02   \n",
       "2015년 01월05일  0.06  0.06  0.06   0.06   0.07  0.07  0.05  0.05  0.08  0.01   \n",
       "2015년 01월12일  0.06  0.06  0.06   0.07   0.08  0.06  0.05  0.02  0.08  0.05   \n",
       "2015년 01월19일  0.06  0.07  0.05   0.06   0.06  0.06  0.04  0.06  0.08  0.03   \n",
       "2015년 01월26일  0.09  0.09  0.09   0.10   0.11  0.08  0.06  0.08  0.10  0.07   \n",
       "...            ...   ...   ...    ...    ...   ...   ...   ...   ...   ...   \n",
       "2020년 11월30일  0.24  0.16  0.31   0.38   0.44  0.22  0.20  0.03  0.24  0.13   \n",
       "2020년 12월07일  0.27  0.18  0.35   0.42   0.50  0.25  0.23  0.03  0.27  0.15   \n",
       "2020년 12월14일  0.29  0.20  0.38   0.46   0.55  0.27  0.24  0.04  0.30  0.15   \n",
       "2020년 12월21일  0.29  0.22  0.37   0.43   0.48  0.29  0.27  0.05  0.31  0.22   \n",
       "2020년 12월28일  0.28  0.23  0.33   0.41   0.45  0.28  0.23  0.06  0.32  0.26   \n",
       "\n",
       "지 역           ...    울산    세종    강원    충북    충남    전북    전남    경북    경남    제주  \n",
       "2014년 12월29일  ...  0.03 -0.05  0.03  0.08 -0.02 -0.01 -0.03  0.05  0.07  0.39  \n",
       "2015년 01월05일  ...  0.02 -0.02  0.02  0.16  0.04  0.01 -0.06  0.06  0.04  0.33  \n",
       "2015년 01월12일  ...  0.04 -0.03  0.04  0.05  0.08 -0.07 -0.10  0.12  0.06  0.40  \n",
       "2015년 01월19일  ...  0.05 -0.02  0.03  0.15  0.01  0.00 -0.10  0.08  0.03  0.23  \n",
       "2015년 01월26일  ...  0.11 -0.13  0.04  0.07  0.12 -0.03 -0.05  0.13  0.06  0.24  \n",
       "...           ...   ...   ...   ...   ...   ...   ...   ...   ...   ...   ...  \n",
       "2020년 11월30일  ...  0.83  0.27  0.09  0.27  0.25  0.12  0.06  0.12  0.34  0.01  \n",
       "2020년 12월07일  ...  0.76  0.23  0.08  0.23  0.26  0.24  0.08  0.20  0.36  0.03  \n",
       "2020년 12월14일  ...  0.79  0.21  0.08  0.23  0.29  0.23  0.10  0.19  0.38  0.15  \n",
       "2020년 12월21일  ...  0.62  0.26  0.19  0.16  0.42  0.16  0.10  0.31  0.37  0.06  \n",
       "2020년 12월28일  ...  0.60  0.27  0.18  0.18  0.27  0.04  0.06  0.32  0.37  0.06  \n",
       "\n",
       "[313 rows x 24 columns]"
      ]
     },
     "execution_count": 3,
     "metadata": {},
     "output_type": "execute_result"
    }
   ],
   "source": [
    "apart_f"
   ]
  },
  {
   "cell_type": "code",
   "execution_count": 143,
   "metadata": {},
   "outputs": [],
   "source": [
    "d=list(apart_f.columns[7:14])"
   ]
  },
  {
   "cell_type": "code",
   "execution_count": 144,
   "metadata": {},
   "outputs": [],
   "source": [
    "d.insert(0, \"날짜\")"
   ]
  },
  {
   "cell_type": "code",
   "execution_count": 145,
   "metadata": {},
   "outputs": [
    {
     "data": {
      "text/plain": [
       "['날짜', '서울', '경기', '인천', '부산', '대구', '광주', '대전']"
      ]
     },
     "execution_count": 145,
     "metadata": {},
     "output_type": "execute_result"
    }
   ],
   "source": [
    "d"
   ]
  },
  {
   "cell_type": "code",
   "execution_count": 147,
   "metadata": {
    "scrolled": true
   },
   "outputs": [
    {
     "data": {
      "application/vnd.plotly.v1+json": {
       "config": {
        "plotlyServerURL": "https://plot.ly"
       },
       "data": [
        {
         "cells": {
          "values": [
           [
            "2014년 12월29일",
            "2015년 01월05일",
            "2015년 01월12일",
            "2015년 01월19일",
            "2015년 01월26일",
            "2015년 02월02일",
            "2015년 02월09일",
            "2015년 02월16일",
            "2015년 02월23일",
            "2015년 03월02일",
            "2015년 03월09일",
            "2015년 03월16일",
            "2015년 03월23일",
            "2015년 03월30일",
            "2015년 04월06일",
            "2015년 04월13일",
            "2015년 04월20일",
            "2015년 04월27일",
            "2015년 05월04일",
            "2015년 05월11일",
            "2015년 05월18일",
            "2015년 05월25일",
            "2015년 06월01일",
            "2015년 06월08일",
            "2015년 06월15일",
            "2015년 06월22일",
            "2015년 06월29일",
            "2015년 07월06일",
            "2015년 07월13일",
            "2015년 07월20일",
            "2015년 07월27일",
            "2015년 08월03일",
            "2015년 08월10일",
            "2015년 08월17일",
            "2015년 08월24일",
            "2015년 08월31일",
            "2015년 09월07일",
            "2015년 09월14일",
            "2015년 09월21일",
            "2015년 09월28일",
            "2015년 10월05일",
            "2015년 10월12일",
            "2015년 10월19일",
            "2015년 10월26일",
            "2015년 11월02일",
            "2015년 11월09일",
            "2015년 11월16일",
            "2015년 11월23일",
            "2015년 11월30일",
            "2015년 12월07일",
            "2015년 12월14일",
            "2015년 12월21일",
            "2015년 12월28일",
            "2016년 01월04일",
            "2016년 01월11일",
            "2016년 01월18일",
            "2016년 01월25일",
            "2016년 02월01일",
            "2016년 02월08일",
            "2016년 02월15일",
            "2016년 02월22일",
            "2016년 02월29일",
            "2016년 03월07일",
            "2016년 03월14일",
            "2016년 03월21일",
            "2016년 03월28일",
            "2016년 04월04일",
            "2016년 04월11일",
            "2016년 04월18일",
            "2016년 04월25일",
            "2016년 05월02일",
            "2016년 05월09일",
            "2016년 05월16일",
            "2016년 05월23일",
            "2016년 05월30일",
            "2016년 06월06일",
            "2016년 06월13일",
            "2016년 06월20일",
            "2016년 06월27일",
            "2016년 07월04일",
            "2016년 07월11일",
            "2016년 07월18일",
            "2016년 07월25일",
            "2016년 08월01일",
            "2016년 08월08일",
            "2016년 08월15일",
            "2016년 08월22일",
            "2016년 08월29일",
            "2016년 09월05일",
            "2016년 09월12일",
            "2016년 09월19일",
            "2016년 09월26일",
            "2016년 10월03일",
            "2016년 10월10일",
            "2016년 10월17일",
            "2016년 10월24일",
            "2016년 10월31일",
            "2016년 11월07일",
            "2016년 11월14일",
            "2016년 11월21일",
            "2016년 11월28일",
            "2016년 12월05일",
            "2016년 12월12일",
            "2016년 12월19일",
            "2016년 12월26일",
            "2017년 01월02일",
            "2017년 01월09일",
            "2017년 01월16일",
            "2017년 01월23일",
            "2017년 01월30일",
            "2017년 02월06일",
            "2017년 02월13일",
            "2017년 02월20일",
            "2017년 02월27일",
            "2017년 03월06일",
            "2017년 03월13일",
            "2017년 03월20일",
            "2017년 03월27일",
            "2017년 04월03일",
            "2017년 04월10일",
            "2017년 04월17일",
            "2017년 04월24일",
            "2017년 05월01일",
            "2017년 05월08일",
            "2017년 05월15일",
            "2017년 05월22일",
            "2017년 05월29일",
            "2017년 06월05일",
            "2017년 06월12일",
            "2017년 06월19일",
            "2017년 06월26일",
            "2017년 07월03일",
            "2017년 07월10일",
            "2017년 07월17일",
            "2017년 07월24일",
            "2017년 07월31일",
            "2017년 08월07일",
            "2017년 08월14일",
            "2017년 08월21일",
            "2017년 08월28일",
            "2017년 09월04일",
            "2017년 09월11일",
            "2017년 09월18일",
            "2017년 09월25일",
            "2017년 10월09일",
            "2017년 10월16일",
            "2017년 10월23일",
            "2017년 10월30일",
            "2017년 11월06일",
            "2017년 11월13일",
            "2017년 11월20일",
            "2017년 11월27일",
            "2017년 12월04일",
            "2017년 12월11일",
            "2017년 12월18일",
            "2017년 12월25일",
            "2018년 01월01일",
            "2018년 01월08일",
            "2018년 01월15일",
            "2018년 01월22일",
            "2018년 01월29일",
            "2018년 02월05일",
            "2018년 02월12일",
            "2018년 02월19일",
            "2018년 02월26일",
            "2018년 03월05일",
            "2018년 03월12일",
            "2018년 03월19일",
            "2018년 03월26일",
            "2018년 04월02일",
            "2018년 04월09일",
            "2018년 04월16일",
            "2018년 04월23일",
            "2018년 04월30일",
            "2018년 05월07일",
            "2018년 05월14일",
            "2018년 05월21일",
            "2018년 05월28일",
            "2018년 06월04일",
            "2018년 06월11일",
            "2018년 06월18일",
            "2018년 06월25일",
            "2018년 07월02일",
            "2018년 07월09일",
            "2018년 07월16일",
            "2018년 07월23일",
            "2018년 07월30일",
            "2018년 08월06일",
            "2018년 08월13일",
            "2018년 08월20일",
            "2018년 08월27일",
            "2018년 09월03일",
            "2018년 09월10일",
            "2018년 09월17일",
            "2018년 09월24일",
            "2018년 10월01일",
            "2018년 10월08일",
            "2018년 10월15일",
            "2018년 10월22일",
            "2018년 10월29일",
            "2018년 11월05일",
            "2018년 11월12일",
            "2018년 11월19일",
            "2018년 11월26일",
            "2018년 12월03일",
            "2018년 12월10일",
            "2018년 12월17일",
            "2018년 12월24일",
            "2018년 12월31일",
            "2019년 01월07일",
            "2019년 01월14일",
            "2019년 01월21일",
            "2019년 01월28일",
            "2019년 02월04일",
            "2019년 02월11일",
            "2019년 02월18일",
            "2019년 02월25일",
            "2019년 03월04일",
            "2019년 03월11일",
            "2019년 03월18일",
            "2019년 03월25일",
            "2019년 04월01일",
            "2019년 04월08일",
            "2019년 04월15일",
            "2019년 04월22일",
            "2019년 04월29일",
            "2019년 05월06일",
            "2019년 05월13일",
            "2019년 05월20일",
            "2019년 05월27일",
            "2019년 06월03일",
            "2019년 06월10일",
            "2019년 06월17일",
            "2019년 06월24일",
            "2019년 07월01일",
            "2019년 07월08일",
            "2019년 07월15일",
            "2019년 07월22일",
            "2019년 07월29일",
            "2019년 08월05일",
            "2019년 08월12일",
            "2019년 08월19일",
            "2019년 08월26일",
            "2019년 09월02일",
            "2019년 09월09일",
            "2019년 09월16일",
            "2019년 09월23일",
            "2019년 09월30일",
            "2019년 10월07일",
            "2019년 10월14일",
            "2019년 10월21일",
            "2019년 10월28일",
            "2019년 11월04일",
            "2019년 11월11일",
            "2019년 11월18일",
            "2019년 11월25일",
            "2019년 12월02일",
            "2019년 12월09일",
            "2019년 12월16일",
            "2019년 12월23일",
            "2019년 12월30일",
            "2020년 01월06일",
            "2020년 01월13일",
            "2020년 01월20일",
            "2020년 01월27일",
            "2020년 02월03일",
            "2020년 02월10일",
            "2020년 02월17일",
            "2020년 02월24일",
            "2020년 03월02일",
            "2020년 03월09일",
            "2020년 03월16일",
            "2020년 03월23일",
            "2020년 03월30일",
            "2020년 04월06일",
            "2020년 04월13일",
            "2020년 04월20일",
            "2020년 04월27일",
            "2020년 05월04일",
            "2020년 05월11일",
            "2020년 05월18일",
            "2020년 05월25일",
            "2020년 06월01일",
            "2020년 06월08일",
            "2020년 06월15일",
            "2020년 06월22일",
            "2020년 06월29일",
            "2020년 07월06일",
            "2020년 07월13일",
            "2020년 07월20일",
            "2020년 07월27일",
            "2020년 08월03일",
            "2020년 08월10일",
            "2020년 08월17일",
            "2020년 08월24일",
            "2020년 08월31일",
            "2020년 09월07일",
            "2020년 09월14일",
            "2020년 09월21일",
            "2020년 09월28일",
            "2020년 10월05일",
            "2020년 10월12일",
            "2020년 10월19일",
            "2020년 10월26일",
            "2020년 11월02일",
            "2020년 11월09일",
            "2020년 11월16일",
            "2020년 11월23일",
            "2020년 11월30일",
            "2020년 12월07일",
            "2020년 12월14일",
            "2020년 12월21일",
            "2020년 12월28일"
           ],
           [
            0.04,
            0.05,
            0.02,
            0.06,
            0.08,
            0.1,
            0.15,
            0.17,
            0.12,
            0.18,
            0.18,
            0.18,
            0.18,
            0.2,
            0.18,
            0.19,
            0.15,
            0.17,
            0.19,
            0.17,
            0.17,
            0.2,
            0.16,
            0.16,
            0.16,
            0.16,
            0.16,
            0.13,
            0.14,
            0.17,
            0.16,
            0.16,
            0.16,
            0.13,
            0.19,
            0.17,
            0.17,
            0.19,
            0.22,
            0.19,
            0.19,
            0.21,
            0.22,
            0.2,
            0.19,
            0.18,
            0.16,
            0.14,
            0.09,
            0.07,
            0.05,
            0.04,
            0,
            0,
            0,
            0.01,
            0,
            0.01,
            0,
            -0.01,
            0,
            -0.01,
            0,
            0,
            0,
            0.01,
            0.03,
            0.05,
            0.05,
            0.05,
            0.05,
            0.06,
            0.07,
            0.06,
            0.08,
            0.07,
            0.09,
            0.11,
            0.11,
            0.07,
            0.08,
            0.09,
            0.09,
            0.1,
            0.08,
            0.09,
            0.11,
            0.11,
            0.13,
            0.13,
            0.12,
            0.16,
            0.21,
            0.22,
            0.22,
            0.17,
            0.15,
            0.11,
            0.08,
            0.05,
            0.05,
            0.02,
            0.01,
            0,
            0,
            0,
            0,
            0,
            0.01,
            0.02,
            0.01,
            0.03,
            0.03,
            0.03,
            0.04,
            0.05,
            0.06,
            0.05,
            0.07,
            0.08,
            0.09,
            0.09,
            0.09,
            0.08,
            0.13,
            0.2,
            0.28,
            0.28,
            0.18,
            0.12,
            0.1,
            0.11,
            0.14,
            0.17,
            0.24,
            0.33,
            -0.03,
            -0.04,
            -0.04,
            -0.03,
            -0.01,
            0.01,
            0.04,
            0.08,
            0.08,
            0.07,
            0.06,
            0.07,
            0.08,
            0.09,
            0.18,
            0.29,
            0.26,
            0.17,
            0.18,
            0.2,
            0.26,
            0.29,
            0.39,
            0.38,
            0.31,
            0.3,
            0.29,
            0.22,
            0.21,
            0.12,
            0.11,
            0.11,
            0.09,
            0.06,
            0.06,
            0.05,
            0.03,
            0.04,
            0.03,
            0.03,
            0.04,
            0.03,
            0.02,
            0.05,
            0.07,
            0.1,
            0.09,
            0.08,
            0.1,
            0.11,
            0.16,
            0.18,
            0.18,
            0.37,
            0.45,
            0.47,
            0.45,
            0.26,
            0.1,
            0.09,
            0.07,
            0.05,
            0.03,
            0.02,
            0,
            -0.01,
            -0.02,
            -0.05,
            -0.06,
            -0.05,
            -0.08,
            -0.08,
            -0.09,
            -0.1,
            -0.09,
            -0.11,
            -0.14,
            -0.08,
            -0.07,
            -0.1,
            -0.09,
            -0.11,
            -0.1,
            -0.1,
            -0.09,
            -0.08,
            -0.07,
            -0.06,
            -0.06,
            -0.05,
            -0.05,
            -0.04,
            -0.03,
            -0.03,
            -0.02,
            -0.01,
            -0.01,
            0,
            0.02,
            0.02,
            0.01,
            0.02,
            0.02,
            0.03,
            0.02,
            0.02,
            0.03,
            0.03,
            0.03,
            0.03,
            0.06,
            0.08,
            0.07,
            0.07,
            0.08,
            0.09,
            0.09,
            0.09,
            0.1,
            0.11,
            0.13,
            0.17,
            0.2,
            0.1,
            0.08,
            0.07,
            0.04,
            0.03,
            0.02,
            0.01,
            0.01,
            0.01,
            0.01,
            0.01,
            0.02,
            0,
            0,
            -0.02,
            -0.04,
            -0.05,
            -0.05,
            -0.07,
            -0.06,
            -0.04,
            -0.04,
            -0.02,
            0,
            0.02,
            0.07,
            0.06,
            0.06,
            0.11,
            0.09,
            0.06,
            0.04,
            0.04,
            0.02,
            0.02,
            0.01,
            0.01,
            0.01,
            0.01,
            0.01,
            0.01,
            0.01,
            0.01,
            0.01,
            0.01,
            0.02,
            0.02,
            0.02,
            0.02,
            0.03,
            0.03,
            0.04,
            0.05,
            0.06
           ],
           [
            0.04,
            0.08,
            0.08,
            0.08,
            0.1,
            0.14,
            0.17,
            0.13,
            0.11,
            0.19,
            0.17,
            0.17,
            0.21,
            0.24,
            0.2,
            0.16,
            0.19,
            0.15,
            0.14,
            0.16,
            0.17,
            0.18,
            0.1,
            0.13,
            0.11,
            0.15,
            0.15,
            0.12,
            0.11,
            0.12,
            0.16,
            0.12,
            0.11,
            0.09,
            0.12,
            0.12,
            0.15,
            0.13,
            0.15,
            0.12,
            0.16,
            0.16,
            0.15,
            0.13,
            0.14,
            0.1,
            0.1,
            0.08,
            0.05,
            0.04,
            0.04,
            0.03,
            0.02,
            0,
            0,
            0,
            0,
            0.01,
            0,
            0,
            -0.01,
            -0.01,
            -0.01,
            0,
            0,
            -0.01,
            -0.01,
            0,
            0,
            0.02,
            0.02,
            0.02,
            0.02,
            0.03,
            0.04,
            0.03,
            0.04,
            0.04,
            0.04,
            0.03,
            0.03,
            0.03,
            0.03,
            0.04,
            0.03,
            0.04,
            0.04,
            0.04,
            0.04,
            0.05,
            0.06,
            0.07,
            0.08,
            0.08,
            0.08,
            0.08,
            0.06,
            0.05,
            0.03,
            0.04,
            0.03,
            0.02,
            0.01,
            0,
            0,
            0,
            0,
            -0.02,
            -0.01,
            -0.01,
            -0.01,
            0,
            0.01,
            0,
            0.01,
            0.02,
            0.02,
            0.01,
            0.01,
            0.02,
            0.03,
            0.04,
            0.03,
            0.03,
            0.04,
            0.05,
            0.05,
            0.05,
            0.04,
            0.04,
            0.05,
            0.05,
            0.09,
            0.1,
            0.11,
            0.12,
            0.03,
            0.02,
            0.04,
            0.05,
            0.04,
            0.03,
            0.05,
            0.05,
            0.05,
            0.05,
            0.06,
            0.02,
            0.02,
            0.02,
            0.03,
            0.01,
            0.01,
            0.01,
            0.01,
            0.01,
            0,
            0.01,
            0.01,
            0.05,
            0.07,
            0.04,
            0.07,
            0.1,
            0.05,
            0.07,
            0.03,
            0.05,
            0.04,
            0.03,
            0.01,
            0.02,
            -0.01,
            0,
            0.01,
            -0.01,
            -0.02,
            -0.03,
            -0.03,
            -0.01,
            0,
            -0.03,
            -0.04,
            -0.03,
            -0.02,
            -0.05,
            -0.01,
            -0.01,
            0.02,
            0.05,
            0.09,
            0.16,
            0.21,
            0.18,
            0.07,
            0.02,
            0.1,
            0.08,
            0.11,
            0.06,
            0.07,
            0.03,
            0.02,
            0,
            -0.03,
            -0.01,
            -0.03,
            -0.06,
            -0.05,
            -0.05,
            -0.05,
            -0.05,
            -0.08,
            -0.05,
            -0.05,
            -0.07,
            -0.07,
            -0.07,
            -0.1,
            -0.08,
            -0.12,
            -0.13,
            -0.09,
            -0.12,
            -0.15,
            -0.1,
            -0.08,
            -0.1,
            -0.09,
            -0.09,
            -0.06,
            -0.07,
            -0.09,
            -0.07,
            -0.05,
            -0.01,
            -0.01,
            -0.03,
            0,
            0,
            0,
            -0.01,
            0.01,
            0.04,
            0.02,
            0.04,
            0.04,
            0.06,
            0.03,
            0.04,
            0.06,
            0.08,
            0.09,
            0.1,
            0.13,
            0.15,
            0.17,
            0.16,
            0.18,
            0.18,
            0.17,
            0.14,
            0.18,
            0.19,
            0.2,
            0.22,
            0.39,
            0.42,
            0.44,
            0.39,
            0.41,
            0.4,
            0.28,
            0.19,
            0.17,
            0.09,
            0.11,
            0.1,
            0.1,
            0.1,
            0.13,
            0.15,
            0.17,
            0.19,
            0.22,
            0.39,
            0.24,
            0.24,
            0.23,
            0.19,
            0.19,
            0.18,
            0.15,
            0.12,
            0.12,
            0.11,
            0.09,
            0.1,
            0.1,
            0.1,
            0.09,
            0.1,
            0.14,
            0.16,
            0.23,
            0.23,
            0.28,
            0.22,
            0.24,
            0.27,
            0.3,
            0.31,
            0.32
           ],
           [
            0.02,
            0.01,
            0.05,
            0.03,
            0.07,
            0.11,
            0.07,
            0.09,
            0.07,
            0.1,
            0.11,
            0.13,
            0.14,
            0.21,
            0.15,
            0.17,
            0.17,
            0.2,
            0.12,
            0.15,
            0.11,
            0.17,
            0.1,
            0.15,
            0.16,
            0.17,
            0.15,
            0.09,
            0.07,
            0.14,
            0.1,
            0.09,
            0.11,
            0.1,
            0.12,
            0.11,
            0.09,
            0.1,
            0.05,
            0.15,
            0.13,
            0.09,
            0.12,
            0.19,
            0.08,
            0.07,
            0.09,
            0.07,
            0.07,
            0.06,
            0.02,
            0.03,
            0.01,
            0,
            0.01,
            0,
            0,
            -0.03,
            0,
            0,
            -0.01,
            0,
            0.01,
            -0.01,
            0.01,
            0,
            0.01,
            0.01,
            0.01,
            0.01,
            0,
            0.01,
            0.02,
            0.03,
            0.01,
            0.02,
            0.03,
            0.03,
            0.03,
            0.04,
            0.03,
            0.05,
            0.04,
            0.04,
            0.04,
            0.04,
            0.04,
            0.06,
            0.03,
            0.05,
            0.05,
            0.05,
            0.08,
            0.07,
            0.1,
            0.08,
            0.06,
            0.05,
            0.04,
            0.05,
            0.03,
            0.01,
            0.01,
            0.02,
            0.01,
            -0.01,
            -0.01,
            -0.02,
            -0.01,
            -0.02,
            -0.03,
            -0.02,
            -0.03,
            0,
            0.02,
            0.01,
            0.03,
            0.01,
            0.03,
            0.02,
            0.02,
            0.03,
            0.02,
            0.01,
            0.05,
            0.04,
            0.04,
            0.03,
            0.06,
            0.02,
            0.03,
            0.03,
            0.06,
            0.08,
            0.07,
            0.1,
            0.09,
            0.12,
            0.13,
            0.09,
            0.08,
            0.07,
            0.07,
            0.06,
            0.05,
            0.04,
            0.06,
            0.03,
            0.03,
            0.03,
            0.02,
            0.03,
            0.03,
            0,
            0.01,
            0.01,
            -0.02,
            -0.02,
            -0.01,
            0.01,
            0,
            0.04,
            0.03,
            0.03,
            0.02,
            0.01,
            0.03,
            0.02,
            0.02,
            -0.01,
            -0.02,
            -0.01,
            -0.02,
            -0.02,
            -0.02,
            -0.01,
            -0.02,
            -0.01,
            -0.01,
            0,
            -0.07,
            -0.02,
            -0.03,
            -0.03,
            -0.04,
            -0.13,
            -0.1,
            -0.09,
            -0.05,
            -0.07,
            -0.04,
            0,
            -0.01,
            0.04,
            0,
            -0.02,
            0,
            0.05,
            0.03,
            0.02,
            0.06,
            0.05,
            0.09,
            0.09,
            0.03,
            0.03,
            0.01,
            0.03,
            0.01,
            -0.01,
            -0.02,
            -0.04,
            -0.06,
            -0.03,
            -0.01,
            -0.06,
            -0.06,
            -0.03,
            -0.01,
            -0.03,
            0.01,
            -0.02,
            0,
            0.03,
            0.03,
            -0.02,
            -0.01,
            -0.02,
            0.01,
            -0.01,
            0,
            0.02,
            0,
            0,
            0.02,
            -0.01,
            -0.07,
            -0.07,
            -0.1,
            -0.06,
            -0.04,
            -0.01,
            0.03,
            0.04,
            0.09,
            0.07,
            0.03,
            0.02,
            0.02,
            0.02,
            0.07,
            0.07,
            0.03,
            0.15,
            0.08,
            0.1,
            0.09,
            0.11,
            0.08,
            0.05,
            0.07,
            0.08,
            0.09,
            0.02,
            0.07,
            0.07,
            0.11,
            0.3,
            0.4,
            0.42,
            0.38,
            0.53,
            0.42,
            0.34,
            0.29,
            0.21,
            0.23,
            0.24,
            0.22,
            0.24,
            0.22,
            0.19,
            0.21,
            0.21,
            0.26,
            0.34,
            0.07,
            0.05,
            0.06,
            0.05,
            0.03,
            0.03,
            0.02,
            0.03,
            0.03,
            0.03,
            0.04,
            0.04,
            0.05,
            0.06,
            0.05,
            0.08,
            0.12,
            0.12,
            0.15,
            0.16,
            0.14,
            0.12,
            0.13,
            0.15,
            0.15,
            0.22,
            0.26
           ],
           [
            0.05,
            0.03,
            0.06,
            0.03,
            0.04,
            0.05,
            0.05,
            0.1,
            0.09,
            0.1,
            0.15,
            0.13,
            0.15,
            0.16,
            0.13,
            0.19,
            0.17,
            0.13,
            0.13,
            0.1,
            0.12,
            0.12,
            0.16,
            0.15,
            0.12,
            0.13,
            0.16,
            0.11,
            0.1,
            0.09,
            0.08,
            0.08,
            0.05,
            0.07,
            0.09,
            0.06,
            0.13,
            0.12,
            0.14,
            0.18,
            0.17,
            0.15,
            0.16,
            0.17,
            0.24,
            0.23,
            0.19,
            0.18,
            0.14,
            0.11,
            0.05,
            0.02,
            0.02,
            0,
            0.02,
            0.01,
            0.01,
            0.02,
            0,
            0.01,
            0.02,
            0.03,
            0.03,
            0.02,
            0.03,
            0.02,
            0.06,
            0.04,
            0.06,
            0.04,
            0.02,
            0.04,
            0.04,
            0.06,
            0.04,
            0.04,
            0.04,
            0.06,
            0.06,
            0.07,
            0.06,
            0.13,
            0.12,
            0.11,
            0.11,
            0.11,
            0.12,
            0.14,
            0.15,
            0.17,
            0.17,
            0.25,
            0.25,
            0.34,
            0.29,
            0.29,
            0.26,
            0.22,
            0.21,
            0.2,
            0.15,
            0.16,
            0.12,
            0.12,
            0.12,
            0.09,
            0.08,
            0.08,
            0.06,
            0.04,
            0.06,
            0.06,
            0.05,
            0.04,
            0.03,
            0.05,
            0.08,
            0.09,
            0.09,
            0.09,
            0.1,
            0.07,
            0.14,
            0.1,
            0.09,
            0.15,
            0.16,
            0.12,
            0.1,
            0.07,
            0.06,
            0.05,
            0.05,
            0.06,
            0.07,
            0.1,
            0.03,
            0.03,
            0.02,
            0.01,
            0.01,
            0,
            -0.01,
            -0.01,
            -0.01,
            -0.01,
            -0.02,
            -0.02,
            -0.01,
            -0.02,
            -0.03,
            -0.03,
            -0.02,
            -0.05,
            -0.06,
            -0.04,
            -0.05,
            -0.06,
            -0.03,
            -0.06,
            -0.05,
            -0.05,
            -0.07,
            -0.06,
            -0.05,
            -0.04,
            -0.07,
            -0.12,
            -0.08,
            -0.07,
            -0.07,
            -0.08,
            -0.07,
            -0.06,
            -0.06,
            -0.07,
            -0.06,
            -0.11,
            -0.11,
            -0.11,
            -0.08,
            -0.1,
            -0.1,
            -0.09,
            -0.1,
            -0.13,
            -0.15,
            -0.13,
            -0.14,
            -0.12,
            -0.1,
            -0.08,
            -0.11,
            -0.09,
            -0.06,
            -0.07,
            -0.05,
            -0.06,
            -0.1,
            -0.06,
            -0.09,
            -0.08,
            -0.09,
            -0.1,
            -0.07,
            -0.1,
            -0.1,
            -0.09,
            -0.11,
            -0.07,
            -0.07,
            -0.09,
            -0.12,
            -0.08,
            -0.08,
            -0.09,
            -0.12,
            -0.1,
            -0.1,
            -0.08,
            -0.16,
            -0.12,
            -0.1,
            -0.08,
            -0.12,
            -0.11,
            -0.12,
            -0.12,
            -0.1,
            -0.1,
            -0.09,
            -0.1,
            -0.11,
            -0.13,
            -0.08,
            -0.07,
            -0.09,
            -0.07,
            -0.06,
            -0.09,
            -0.11,
            -0.07,
            -0.11,
            -0.07,
            -0.06,
            -0.04,
            -0.06,
            -0.06,
            -0.06,
            -0.08,
            -0.05,
            -0.04,
            -0.04,
            0.1,
            0.19,
            0.17,
            0.11,
            0.11,
            0.11,
            0.08,
            0.04,
            0.04,
            0.05,
            0.04,
            0.04,
            0.02,
            0.01,
            0.02,
            0,
            0,
            -0.02,
            -0.02,
            -0.04,
            -0.02,
            -0.03,
            -0.03,
            -0.04,
            -0.03,
            -0.04,
            -0.02,
            -0.03,
            0,
            -0.01,
            0,
            0.05,
            0.11,
            0.09,
            0.11,
            0.12,
            0.06,
            0.12,
            0.12,
            0.16,
            0.17,
            0.17,
            0.16,
            0.11,
            0.14,
            0.12,
            0.18,
            0.12,
            0.18,
            0.23,
            0.3,
            0.37,
            0.56,
            0.72,
            0.54,
            0.5,
            0.58,
            0.71,
            0.61,
            0.58
           ],
           [
            0.12,
            0.15,
            0.12,
            0.13,
            0.21,
            0.14,
            0.14,
            0.2,
            0.15,
            0.17,
            0.21,
            0.24,
            0.21,
            0.22,
            0.28,
            0.28,
            0.27,
            0.21,
            0.18,
            0.17,
            0.27,
            0.24,
            0.24,
            0.27,
            0.22,
            0.27,
            0.31,
            0.18,
            0.14,
            0.24,
            0.16,
            0.23,
            0.19,
            0.2,
            0.25,
            0.23,
            0.31,
            0.23,
            0.22,
            0.26,
            0.15,
            0.22,
            0.26,
            0.25,
            0.13,
            0.14,
            0.11,
            0.07,
            0,
            0.01,
            0,
            -0.08,
            -0.1,
            -0.03,
            -0.03,
            -0.07,
            -0.07,
            -0.04,
            -0.02,
            -0.04,
            -0.08,
            -0.07,
            -0.12,
            -0.14,
            -0.16,
            -0.11,
            -0.09,
            -0.07,
            -0.07,
            -0.06,
            -0.06,
            -0.07,
            -0.08,
            -0.12,
            -0.11,
            -0.12,
            -0.11,
            -0.08,
            -0.09,
            -0.05,
            -0.1,
            -0.07,
            -0.05,
            -0.09,
            -0.11,
            -0.1,
            -0.09,
            -0.06,
            -0.08,
            -0.09,
            -0.04,
            -0.04,
            -0.04,
            -0.05,
            -0.01,
            -0.03,
            -0.02,
            -0.03,
            -0.05,
            -0.05,
            -0.04,
            -0.06,
            -0.04,
            -0.05,
            -0.07,
            -0.02,
            -0.03,
            -0.05,
            -0.07,
            -0.05,
            -0.05,
            -0.06,
            -0.06,
            -0.04,
            -0.04,
            -0.04,
            -0.04,
            -0.04,
            -0.04,
            -0.05,
            -0.04,
            -0.03,
            -0.05,
            -0.03,
            -0.06,
            -0.12,
            -0.03,
            -0.02,
            0.01,
            -0.01,
            0,
            0,
            0.01,
            0.05,
            0.15,
            0.14,
            0.11,
            0.09,
            0.11,
            0.08,
            0.1,
            0.06,
            0.04,
            0.07,
            0.11,
            0.08,
            0.07,
            0.06,
            0.08,
            0.05,
            0.04,
            0.05,
            0.07,
            0.03,
            0.07,
            0.07,
            0.01,
            0.05,
            0.05,
            0.08,
            0.04,
            0.05,
            0.02,
            0.04,
            0.06,
            0.05,
            0.02,
            0.07,
            0.05,
            0.07,
            0.05,
            0.07,
            0.02,
            0.04,
            0.05,
            0.06,
            0.05,
            0.02,
            0.04,
            0.03,
            0.02,
            0.05,
            0.03,
            0.02,
            0.01,
            0.02,
            0.03,
            0.07,
            0.03,
            0.05,
            0.08,
            0.11,
            0.12,
            0.19,
            0.12,
            0.14,
            0.15,
            0.14,
            0.1,
            0.12,
            0.09,
            0.1,
            0.1,
            0.06,
            0.07,
            0.03,
            0.02,
            0.02,
            -0.01,
            -0.01,
            -0.02,
            -0.02,
            -0.01,
            0,
            -0.01,
            -0.03,
            0,
            0,
            -0.02,
            -0.01,
            -0.05,
            -0.06,
            -0.05,
            0,
            -0.02,
            -0.03,
            -0.03,
            -0.04,
            -0.07,
            -0.07,
            -0.03,
            -0.03,
            -0.03,
            -0.04,
            -0.07,
            -0.04,
            -0.04,
            -0.05,
            -0.04,
            -0.03,
            -0.06,
            -0.03,
            -0.02,
            -0.01,
            -0.03,
            0.01,
            0.02,
            0.02,
            0.04,
            0.02,
            0.03,
            0.03,
            0.03,
            0.02,
            0.03,
            0.05,
            0.05,
            0.12,
            0.1,
            0.13,
            0.14,
            0.14,
            0.12,
            0.18,
            0.05,
            0.05,
            0.03,
            0.07,
            0.03,
            -0.03,
            -0.04,
            -0.05,
            -0.06,
            -0.04,
            -0.04,
            -0.04,
            -0.05,
            -0.03,
            -0.02,
            0,
            0.01,
            0.04,
            0.05,
            0.05,
            0.07,
            0.06,
            0.06,
            0.03,
            0.07,
            0.13,
            0.15,
            0.14,
            0.14,
            0.17,
            0.15,
            0.2,
            0.18,
            0.18,
            0.22,
            0.26,
            0.2,
            0.22,
            0.26,
            0.26,
            0.3,
            0.39,
            0.39,
            0.32,
            0.36,
            0.41,
            0.4,
            0.43,
            0.4
           ],
           [
            0.07,
            0.16,
            0.11,
            0.07,
            0.19,
            0.2,
            0.04,
            0.23,
            0.19,
            0.22,
            0.37,
            0.39,
            0.31,
            0.53,
            0.54,
            0.63,
            0.59,
            0.21,
            0.23,
            0.21,
            0.22,
            0.29,
            0.26,
            0.25,
            0.35,
            0.32,
            0.24,
            0.24,
            0.09,
            0.18,
            0.12,
            0.26,
            0.1,
            0.09,
            0.14,
            0.06,
            0.1,
            0.1,
            0.1,
            0.13,
            0.15,
            0.11,
            0.19,
            0.21,
            0.36,
            0.23,
            0.2,
            0.09,
            0.07,
            0.07,
            0.03,
            0,
            0.05,
            0.01,
            -0.03,
            -0.06,
            -0.04,
            -0.05,
            -0.01,
            0.01,
            -0.04,
            0.01,
            -0.01,
            -0.01,
            -0.05,
            0.02,
            0.07,
            0.08,
            -0.01,
            -0.01,
            -0.08,
            -0.05,
            -0.02,
            -0.02,
            -0.03,
            -0.02,
            -0.01,
            -0.02,
            -0.05,
            -0.07,
            -0.04,
            -0.06,
            -0.02,
            -0.05,
            -0.02,
            -0.02,
            -0.02,
            -0.03,
            -0.01,
            0,
            0,
            0.02,
            0.04,
            0.01,
            0.03,
            0.04,
            0.04,
            0.01,
            0.02,
            0.03,
            0.03,
            0.02,
            0.05,
            0.06,
            0.04,
            0.03,
            0.02,
            0.02,
            0.03,
            -0.01,
            0.01,
            0.01,
            0.01,
            0,
            0.03,
            -0.07,
            0.05,
            0,
            0.02,
            0.02,
            -0.02,
            -0.03,
            -0.01,
            -0.02,
            0.01,
            0.03,
            0.03,
            0.01,
            -0.07,
            0.02,
            -0.03,
            0,
            0.08,
            0,
            0.05,
            0.07,
            0.04,
            0.03,
            0.07,
            0.02,
            0.05,
            0.04,
            0.09,
            0.09,
            0.05,
            0.03,
            0.03,
            0.01,
            0.01,
            0,
            0.01,
            0.04,
            0.02,
            0.02,
            0.11,
            0.06,
            0,
            0.04,
            0.01,
            0.07,
            0.15,
            -0.01,
            0.07,
            0.02,
            0.15,
            0.04,
            0.05,
            0.04,
            0.03,
            0,
            0.09,
            0.02,
            0.07,
            0.03,
            0.09,
            0.01,
            0.03,
            0.04,
            0.01,
            0.03,
            0.06,
            0.05,
            0.05,
            0.06,
            0.09,
            0.05,
            0.04,
            0.01,
            0.08,
            0.07,
            0.16,
            0.21,
            0.24,
            0.43,
            0.15,
            0.38,
            0.15,
            0.12,
            0.05,
            0.08,
            0.12,
            0.08,
            0.05,
            0.04,
            0.07,
            0.09,
            0.08,
            0.11,
            0.07,
            0.02,
            0.01,
            0.03,
            0.03,
            0.03,
            0.03,
            0.01,
            0.01,
            0.01,
            -0.01,
            -0.01,
            0.01,
            -0.02,
            -0.02,
            -0.04,
            -0.02,
            -0.04,
            -0.05,
            -0.05,
            -0.06,
            -0.06,
            -0.06,
            -0.05,
            -0.05,
            -0.07,
            -0.07,
            -0.06,
            -0.05,
            -0.05,
            -0.04,
            -0.04,
            -0.03,
            -0.02,
            -0.02,
            -0.02,
            -0.03,
            -0.02,
            -0.01,
            0,
            0,
            0.01,
            0.01,
            0,
            0,
            0,
            0.02,
            0.03,
            0.02,
            0.03,
            0.02,
            0.01,
            0.01,
            0.02,
            0.03,
            0.01,
            0.01,
            0.02,
            0.02,
            0.02,
            0.01,
            0.02,
            0,
            0,
            0.01,
            -0.01,
            -0.01,
            -0.03,
            -0.02,
            -0.02,
            -0.03,
            -0.03,
            -0.03,
            -0.02,
            -0.03,
            -0.02,
            0,
            -0.01,
            -0.01,
            0.01,
            0.01,
            0.02,
            0.01,
            0.02,
            0.01,
            0.02,
            0.02,
            0.03,
            0.02,
            0.03,
            0.02,
            0.02,
            0.01,
            0.02,
            0.03,
            0.04,
            0.05,
            0.08,
            0.14,
            0.19,
            0.18,
            0.37,
            0.4,
            0.29,
            0.18
           ],
           [
            0.03,
            -0.01,
            0.05,
            0.04,
            0.04,
            0,
            0.01,
            0.01,
            0.02,
            -0.02,
            0.05,
            0.07,
            0.02,
            0.03,
            -0.02,
            0.01,
            -0.02,
            0,
            -0.01,
            0.01,
            0.01,
            -0.03,
            0,
            -0.02,
            0.01,
            -0.01,
            -0.03,
            0,
            0.01,
            0,
            0.02,
            -0.01,
            -0.01,
            0,
            -0.05,
            -0.04,
            0,
            -0.01,
            0.01,
            0.01,
            0.02,
            0.03,
            0.03,
            0.04,
            0.04,
            0.05,
            -0.02,
            0.01,
            -0.03,
            -0.02,
            -0.02,
            -0.04,
            -0.04,
            -0.03,
            -0.04,
            -0.03,
            -0.04,
            -0.03,
            -0.03,
            -0.01,
            0,
            0.01,
            0,
            0,
            0.01,
            0,
            0.01,
            0,
            0.01,
            -0.01,
            -0.01,
            -0.01,
            -0.02,
            -0.03,
            0,
            -0.01,
            -0.01,
            0,
            0,
            0,
            0.02,
            0.01,
            0.01,
            0.01,
            0,
            0.01,
            0.02,
            0.01,
            0.01,
            0.01,
            0.01,
            0.02,
            0.01,
            0.02,
            0.03,
            0.04,
            0.02,
            0.02,
            0.02,
            0.04,
            0.03,
            0.05,
            0.04,
            0.03,
            0.03,
            0.02,
            0.03,
            0.06,
            0.02,
            0.01,
            0.01,
            0.04,
            0.01,
            0.02,
            0.01,
            0,
            0,
            0,
            0,
            0.03,
            0.01,
            -0.02,
            -0.04,
            0.01,
            0,
            0.02,
            0.01,
            -0.01,
            0,
            -0.03,
            0.01,
            0.03,
            0.03,
            0.02,
            0.03,
            0.04,
            0.05,
            0.09,
            0.1,
            0.04,
            0.04,
            0.05,
            0.06,
            0.05,
            0.05,
            0.08,
            0.06,
            0.1,
            0.04,
            0.09,
            0.06,
            0.08,
            0.07,
            0.16,
            0.02,
            0,
            0.01,
            -0.01,
            0.04,
            0.06,
            0.04,
            0.02,
            -0.02,
            0.03,
            0.06,
            0.04,
            0.02,
            0.02,
            0.05,
            0.05,
            -0.06,
            0,
            -0.02,
            -0.03,
            -0.05,
            0,
            -0.03,
            -0.02,
            0,
            -0.02,
            -0.01,
            -0.02,
            -0.05,
            0.04,
            0.04,
            0.01,
            0.02,
            0.02,
            0.01,
            0.02,
            0.02,
            0,
            -0.02,
            0.01,
            0.02,
            0.03,
            0.04,
            0.43,
            0.27,
            0.37,
            0.28,
            0.18,
            0.14,
            0.07,
            0.05,
            0.17,
            0.2,
            0.13,
            0.11,
            0.11,
            0.03,
            0.04,
            0.01,
            0.01,
            0.06,
            0,
            0.02,
            0.02,
            0.02,
            -0.02,
            -0.02,
            -0.01,
            -0.05,
            -0.03,
            0.02,
            0.02,
            0.03,
            0.04,
            0.08,
            0.08,
            0.11,
            0.12,
            0.08,
            0.05,
            0.07,
            0.05,
            0.11,
            0.32,
            0.29,
            0.26,
            0.15,
            0.12,
            0.13,
            0.18,
            0.25,
            0.21,
            0.36,
            0.27,
            0.33,
            0.39,
            0.39,
            0.36,
            0.34,
            0.3,
            0.41,
            0.36,
            0.32,
            0.39,
            0.34,
            0.32,
            0.14,
            0.31,
            0.36,
            0.52,
            0.39,
            0.17,
            0.31,
            0.53,
            0.75,
            0.41,
            0.4,
            0.46,
            0.37,
            0.2,
            0.11,
            0.12,
            0.11,
            0.09,
            0.08,
            0.15,
            0.27,
            0.33,
            0.46,
            0.46,
            0.85,
            0.75,
            0.05,
            0.09,
            0.11,
            0.2,
            0.16,
            0.2,
            0.28,
            0.27,
            0.32,
            0.32,
            0.31,
            0.28,
            0.3,
            0.25,
            0.24,
            0.24,
            0.23,
            0.24,
            0.41,
            0.37,
            0.34,
            0.42,
            0.4,
            0.36,
            0.36,
            0.36,
            0.39
           ]
          ]
         },
         "header": {
          "values": [
           "날짜",
           "서울",
           "경기",
           "인천",
           "부산",
           "대구",
           "광주",
           "대전"
          ]
         },
         "type": "table"
        }
       ],
       "layout": {
        "template": {
         "data": {
          "bar": [
           {
            "error_x": {
             "color": "#2a3f5f"
            },
            "error_y": {
             "color": "#2a3f5f"
            },
            "marker": {
             "line": {
              "color": "#E5ECF6",
              "width": 0.5
             }
            },
            "type": "bar"
           }
          ],
          "barpolar": [
           {
            "marker": {
             "line": {
              "color": "#E5ECF6",
              "width": 0.5
             }
            },
            "type": "barpolar"
           }
          ],
          "carpet": [
           {
            "aaxis": {
             "endlinecolor": "#2a3f5f",
             "gridcolor": "white",
             "linecolor": "white",
             "minorgridcolor": "white",
             "startlinecolor": "#2a3f5f"
            },
            "baxis": {
             "endlinecolor": "#2a3f5f",
             "gridcolor": "white",
             "linecolor": "white",
             "minorgridcolor": "white",
             "startlinecolor": "#2a3f5f"
            },
            "type": "carpet"
           }
          ],
          "choropleth": [
           {
            "colorbar": {
             "outlinewidth": 0,
             "ticks": ""
            },
            "type": "choropleth"
           }
          ],
          "contour": [
           {
            "colorbar": {
             "outlinewidth": 0,
             "ticks": ""
            },
            "colorscale": [
             [
              0,
              "#0d0887"
             ],
             [
              0.1111111111111111,
              "#46039f"
             ],
             [
              0.2222222222222222,
              "#7201a8"
             ],
             [
              0.3333333333333333,
              "#9c179e"
             ],
             [
              0.4444444444444444,
              "#bd3786"
             ],
             [
              0.5555555555555556,
              "#d8576b"
             ],
             [
              0.6666666666666666,
              "#ed7953"
             ],
             [
              0.7777777777777778,
              "#fb9f3a"
             ],
             [
              0.8888888888888888,
              "#fdca26"
             ],
             [
              1,
              "#f0f921"
             ]
            ],
            "type": "contour"
           }
          ],
          "contourcarpet": [
           {
            "colorbar": {
             "outlinewidth": 0,
             "ticks": ""
            },
            "type": "contourcarpet"
           }
          ],
          "heatmap": [
           {
            "colorbar": {
             "outlinewidth": 0,
             "ticks": ""
            },
            "colorscale": [
             [
              0,
              "#0d0887"
             ],
             [
              0.1111111111111111,
              "#46039f"
             ],
             [
              0.2222222222222222,
              "#7201a8"
             ],
             [
              0.3333333333333333,
              "#9c179e"
             ],
             [
              0.4444444444444444,
              "#bd3786"
             ],
             [
              0.5555555555555556,
              "#d8576b"
             ],
             [
              0.6666666666666666,
              "#ed7953"
             ],
             [
              0.7777777777777778,
              "#fb9f3a"
             ],
             [
              0.8888888888888888,
              "#fdca26"
             ],
             [
              1,
              "#f0f921"
             ]
            ],
            "type": "heatmap"
           }
          ],
          "heatmapgl": [
           {
            "colorbar": {
             "outlinewidth": 0,
             "ticks": ""
            },
            "colorscale": [
             [
              0,
              "#0d0887"
             ],
             [
              0.1111111111111111,
              "#46039f"
             ],
             [
              0.2222222222222222,
              "#7201a8"
             ],
             [
              0.3333333333333333,
              "#9c179e"
             ],
             [
              0.4444444444444444,
              "#bd3786"
             ],
             [
              0.5555555555555556,
              "#d8576b"
             ],
             [
              0.6666666666666666,
              "#ed7953"
             ],
             [
              0.7777777777777778,
              "#fb9f3a"
             ],
             [
              0.8888888888888888,
              "#fdca26"
             ],
             [
              1,
              "#f0f921"
             ]
            ],
            "type": "heatmapgl"
           }
          ],
          "histogram": [
           {
            "marker": {
             "colorbar": {
              "outlinewidth": 0,
              "ticks": ""
             }
            },
            "type": "histogram"
           }
          ],
          "histogram2d": [
           {
            "colorbar": {
             "outlinewidth": 0,
             "ticks": ""
            },
            "colorscale": [
             [
              0,
              "#0d0887"
             ],
             [
              0.1111111111111111,
              "#46039f"
             ],
             [
              0.2222222222222222,
              "#7201a8"
             ],
             [
              0.3333333333333333,
              "#9c179e"
             ],
             [
              0.4444444444444444,
              "#bd3786"
             ],
             [
              0.5555555555555556,
              "#d8576b"
             ],
             [
              0.6666666666666666,
              "#ed7953"
             ],
             [
              0.7777777777777778,
              "#fb9f3a"
             ],
             [
              0.8888888888888888,
              "#fdca26"
             ],
             [
              1,
              "#f0f921"
             ]
            ],
            "type": "histogram2d"
           }
          ],
          "histogram2dcontour": [
           {
            "colorbar": {
             "outlinewidth": 0,
             "ticks": ""
            },
            "colorscale": [
             [
              0,
              "#0d0887"
             ],
             [
              0.1111111111111111,
              "#46039f"
             ],
             [
              0.2222222222222222,
              "#7201a8"
             ],
             [
              0.3333333333333333,
              "#9c179e"
             ],
             [
              0.4444444444444444,
              "#bd3786"
             ],
             [
              0.5555555555555556,
              "#d8576b"
             ],
             [
              0.6666666666666666,
              "#ed7953"
             ],
             [
              0.7777777777777778,
              "#fb9f3a"
             ],
             [
              0.8888888888888888,
              "#fdca26"
             ],
             [
              1,
              "#f0f921"
             ]
            ],
            "type": "histogram2dcontour"
           }
          ],
          "mesh3d": [
           {
            "colorbar": {
             "outlinewidth": 0,
             "ticks": ""
            },
            "type": "mesh3d"
           }
          ],
          "parcoords": [
           {
            "line": {
             "colorbar": {
              "outlinewidth": 0,
              "ticks": ""
             }
            },
            "type": "parcoords"
           }
          ],
          "pie": [
           {
            "automargin": true,
            "type": "pie"
           }
          ],
          "scatter": [
           {
            "marker": {
             "colorbar": {
              "outlinewidth": 0,
              "ticks": ""
             }
            },
            "type": "scatter"
           }
          ],
          "scatter3d": [
           {
            "line": {
             "colorbar": {
              "outlinewidth": 0,
              "ticks": ""
             }
            },
            "marker": {
             "colorbar": {
              "outlinewidth": 0,
              "ticks": ""
             }
            },
            "type": "scatter3d"
           }
          ],
          "scattercarpet": [
           {
            "marker": {
             "colorbar": {
              "outlinewidth": 0,
              "ticks": ""
             }
            },
            "type": "scattercarpet"
           }
          ],
          "scattergeo": [
           {
            "marker": {
             "colorbar": {
              "outlinewidth": 0,
              "ticks": ""
             }
            },
            "type": "scattergeo"
           }
          ],
          "scattergl": [
           {
            "marker": {
             "colorbar": {
              "outlinewidth": 0,
              "ticks": ""
             }
            },
            "type": "scattergl"
           }
          ],
          "scattermapbox": [
           {
            "marker": {
             "colorbar": {
              "outlinewidth": 0,
              "ticks": ""
             }
            },
            "type": "scattermapbox"
           }
          ],
          "scatterpolar": [
           {
            "marker": {
             "colorbar": {
              "outlinewidth": 0,
              "ticks": ""
             }
            },
            "type": "scatterpolar"
           }
          ],
          "scatterpolargl": [
           {
            "marker": {
             "colorbar": {
              "outlinewidth": 0,
              "ticks": ""
             }
            },
            "type": "scatterpolargl"
           }
          ],
          "scatterternary": [
           {
            "marker": {
             "colorbar": {
              "outlinewidth": 0,
              "ticks": ""
             }
            },
            "type": "scatterternary"
           }
          ],
          "surface": [
           {
            "colorbar": {
             "outlinewidth": 0,
             "ticks": ""
            },
            "colorscale": [
             [
              0,
              "#0d0887"
             ],
             [
              0.1111111111111111,
              "#46039f"
             ],
             [
              0.2222222222222222,
              "#7201a8"
             ],
             [
              0.3333333333333333,
              "#9c179e"
             ],
             [
              0.4444444444444444,
              "#bd3786"
             ],
             [
              0.5555555555555556,
              "#d8576b"
             ],
             [
              0.6666666666666666,
              "#ed7953"
             ],
             [
              0.7777777777777778,
              "#fb9f3a"
             ],
             [
              0.8888888888888888,
              "#fdca26"
             ],
             [
              1,
              "#f0f921"
             ]
            ],
            "type": "surface"
           }
          ],
          "table": [
           {
            "cells": {
             "fill": {
              "color": "#EBF0F8"
             },
             "line": {
              "color": "white"
             }
            },
            "header": {
             "fill": {
              "color": "#C8D4E3"
             },
             "line": {
              "color": "white"
             }
            },
            "type": "table"
           }
          ]
         },
         "layout": {
          "annotationdefaults": {
           "arrowcolor": "#2a3f5f",
           "arrowhead": 0,
           "arrowwidth": 1
          },
          "autotypenumbers": "strict",
          "coloraxis": {
           "colorbar": {
            "outlinewidth": 0,
            "ticks": ""
           }
          },
          "colorscale": {
           "diverging": [
            [
             0,
             "#8e0152"
            ],
            [
             0.1,
             "#c51b7d"
            ],
            [
             0.2,
             "#de77ae"
            ],
            [
             0.3,
             "#f1b6da"
            ],
            [
             0.4,
             "#fde0ef"
            ],
            [
             0.5,
             "#f7f7f7"
            ],
            [
             0.6,
             "#e6f5d0"
            ],
            [
             0.7,
             "#b8e186"
            ],
            [
             0.8,
             "#7fbc41"
            ],
            [
             0.9,
             "#4d9221"
            ],
            [
             1,
             "#276419"
            ]
           ],
           "sequential": [
            [
             0,
             "#0d0887"
            ],
            [
             0.1111111111111111,
             "#46039f"
            ],
            [
             0.2222222222222222,
             "#7201a8"
            ],
            [
             0.3333333333333333,
             "#9c179e"
            ],
            [
             0.4444444444444444,
             "#bd3786"
            ],
            [
             0.5555555555555556,
             "#d8576b"
            ],
            [
             0.6666666666666666,
             "#ed7953"
            ],
            [
             0.7777777777777778,
             "#fb9f3a"
            ],
            [
             0.8888888888888888,
             "#fdca26"
            ],
            [
             1,
             "#f0f921"
            ]
           ],
           "sequentialminus": [
            [
             0,
             "#0d0887"
            ],
            [
             0.1111111111111111,
             "#46039f"
            ],
            [
             0.2222222222222222,
             "#7201a8"
            ],
            [
             0.3333333333333333,
             "#9c179e"
            ],
            [
             0.4444444444444444,
             "#bd3786"
            ],
            [
             0.5555555555555556,
             "#d8576b"
            ],
            [
             0.6666666666666666,
             "#ed7953"
            ],
            [
             0.7777777777777778,
             "#fb9f3a"
            ],
            [
             0.8888888888888888,
             "#fdca26"
            ],
            [
             1,
             "#f0f921"
            ]
           ]
          },
          "colorway": [
           "#636efa",
           "#EF553B",
           "#00cc96",
           "#ab63fa",
           "#FFA15A",
           "#19d3f3",
           "#FF6692",
           "#B6E880",
           "#FF97FF",
           "#FECB52"
          ],
          "font": {
           "color": "#2a3f5f"
          },
          "geo": {
           "bgcolor": "white",
           "lakecolor": "white",
           "landcolor": "#E5ECF6",
           "showlakes": true,
           "showland": true,
           "subunitcolor": "white"
          },
          "hoverlabel": {
           "align": "left"
          },
          "hovermode": "closest",
          "mapbox": {
           "style": "light"
          },
          "paper_bgcolor": "white",
          "plot_bgcolor": "#E5ECF6",
          "polar": {
           "angularaxis": {
            "gridcolor": "white",
            "linecolor": "white",
            "ticks": ""
           },
           "bgcolor": "#E5ECF6",
           "radialaxis": {
            "gridcolor": "white",
            "linecolor": "white",
            "ticks": ""
           }
          },
          "scene": {
           "xaxis": {
            "backgroundcolor": "#E5ECF6",
            "gridcolor": "white",
            "gridwidth": 2,
            "linecolor": "white",
            "showbackground": true,
            "ticks": "",
            "zerolinecolor": "white"
           },
           "yaxis": {
            "backgroundcolor": "#E5ECF6",
            "gridcolor": "white",
            "gridwidth": 2,
            "linecolor": "white",
            "showbackground": true,
            "ticks": "",
            "zerolinecolor": "white"
           },
           "zaxis": {
            "backgroundcolor": "#E5ECF6",
            "gridcolor": "white",
            "gridwidth": 2,
            "linecolor": "white",
            "showbackground": true,
            "ticks": "",
            "zerolinecolor": "white"
           }
          },
          "shapedefaults": {
           "line": {
            "color": "#2a3f5f"
           }
          },
          "ternary": {
           "aaxis": {
            "gridcolor": "white",
            "linecolor": "white",
            "ticks": ""
           },
           "baxis": {
            "gridcolor": "white",
            "linecolor": "white",
            "ticks": ""
           },
           "bgcolor": "#E5ECF6",
           "caxis": {
            "gridcolor": "white",
            "linecolor": "white",
            "ticks": ""
           }
          },
          "title": {
           "x": 0.05
          },
          "xaxis": {
           "automargin": true,
           "gridcolor": "white",
           "linecolor": "white",
           "ticks": "",
           "title": {
            "standoff": 15
           },
           "zerolinecolor": "white",
           "zerolinewidth": 2
          },
          "yaxis": {
           "automargin": true,
           "gridcolor": "white",
           "linecolor": "white",
           "ticks": "",
           "title": {
            "standoff": 15
           },
           "zerolinecolor": "white",
           "zerolinewidth": 2
          }
         }
        }
       }
      },
      "text/html": [
       "<div>                            <div id=\"0ceab08e-8702-4d57-9ddb-b2fefd022692\" class=\"plotly-graph-div\" style=\"height:525px; width:100%;\"></div>            <script type=\"text/javascript\">                require([\"plotly\"], function(Plotly) {                    window.PLOTLYENV=window.PLOTLYENV || {};                                    if (document.getElementById(\"0ceab08e-8702-4d57-9ddb-b2fefd022692\")) {                    Plotly.newPlot(                        \"0ceab08e-8702-4d57-9ddb-b2fefd022692\",                        [{\"cells\": {\"values\": [[\"2014\\ub144 12\\uc6d429\\uc77c\", \"2015\\ub144 01\\uc6d405\\uc77c\", \"2015\\ub144 01\\uc6d412\\uc77c\", \"2015\\ub144 01\\uc6d419\\uc77c\", \"2015\\ub144 01\\uc6d426\\uc77c\", \"2015\\ub144 02\\uc6d402\\uc77c\", \"2015\\ub144 02\\uc6d409\\uc77c\", \"2015\\ub144 02\\uc6d416\\uc77c\", \"2015\\ub144 02\\uc6d423\\uc77c\", \"2015\\ub144 03\\uc6d402\\uc77c\", \"2015\\ub144 03\\uc6d409\\uc77c\", \"2015\\ub144 03\\uc6d416\\uc77c\", \"2015\\ub144 03\\uc6d423\\uc77c\", \"2015\\ub144 03\\uc6d430\\uc77c\", \"2015\\ub144 04\\uc6d406\\uc77c\", \"2015\\ub144 04\\uc6d413\\uc77c\", \"2015\\ub144 04\\uc6d420\\uc77c\", \"2015\\ub144 04\\uc6d427\\uc77c\", \"2015\\ub144 05\\uc6d404\\uc77c\", \"2015\\ub144 05\\uc6d411\\uc77c\", \"2015\\ub144 05\\uc6d418\\uc77c\", \"2015\\ub144 05\\uc6d425\\uc77c\", \"2015\\ub144 06\\uc6d401\\uc77c\", \"2015\\ub144 06\\uc6d408\\uc77c\", \"2015\\ub144 06\\uc6d415\\uc77c\", \"2015\\ub144 06\\uc6d422\\uc77c\", \"2015\\ub144 06\\uc6d429\\uc77c\", \"2015\\ub144 07\\uc6d406\\uc77c\", \"2015\\ub144 07\\uc6d413\\uc77c\", \"2015\\ub144 07\\uc6d420\\uc77c\", \"2015\\ub144 07\\uc6d427\\uc77c\", \"2015\\ub144 08\\uc6d403\\uc77c\", \"2015\\ub144 08\\uc6d410\\uc77c\", \"2015\\ub144 08\\uc6d417\\uc77c\", \"2015\\ub144 08\\uc6d424\\uc77c\", \"2015\\ub144 08\\uc6d431\\uc77c\", \"2015\\ub144 09\\uc6d407\\uc77c\", \"2015\\ub144 09\\uc6d414\\uc77c\", \"2015\\ub144 09\\uc6d421\\uc77c\", \"2015\\ub144 09\\uc6d428\\uc77c\", \"2015\\ub144 10\\uc6d405\\uc77c\", \"2015\\ub144 10\\uc6d412\\uc77c\", \"2015\\ub144 10\\uc6d419\\uc77c\", \"2015\\ub144 10\\uc6d426\\uc77c\", \"2015\\ub144 11\\uc6d402\\uc77c\", \"2015\\ub144 11\\uc6d409\\uc77c\", \"2015\\ub144 11\\uc6d416\\uc77c\", \"2015\\ub144 11\\uc6d423\\uc77c\", \"2015\\ub144 11\\uc6d430\\uc77c\", \"2015\\ub144 12\\uc6d407\\uc77c\", \"2015\\ub144 12\\uc6d414\\uc77c\", \"2015\\ub144 12\\uc6d421\\uc77c\", \"2015\\ub144 12\\uc6d428\\uc77c\", \"2016\\ub144 01\\uc6d404\\uc77c\", \"2016\\ub144 01\\uc6d411\\uc77c\", \"2016\\ub144 01\\uc6d418\\uc77c\", \"2016\\ub144 01\\uc6d425\\uc77c\", \"2016\\ub144 02\\uc6d401\\uc77c\", \"2016\\ub144 02\\uc6d408\\uc77c\", \"2016\\ub144 02\\uc6d415\\uc77c\", \"2016\\ub144 02\\uc6d422\\uc77c\", \"2016\\ub144 02\\uc6d429\\uc77c\", \"2016\\ub144 03\\uc6d407\\uc77c\", \"2016\\ub144 03\\uc6d414\\uc77c\", \"2016\\ub144 03\\uc6d421\\uc77c\", \"2016\\ub144 03\\uc6d428\\uc77c\", \"2016\\ub144 04\\uc6d404\\uc77c\", \"2016\\ub144 04\\uc6d411\\uc77c\", \"2016\\ub144 04\\uc6d418\\uc77c\", \"2016\\ub144 04\\uc6d425\\uc77c\", \"2016\\ub144 05\\uc6d402\\uc77c\", \"2016\\ub144 05\\uc6d409\\uc77c\", \"2016\\ub144 05\\uc6d416\\uc77c\", \"2016\\ub144 05\\uc6d423\\uc77c\", \"2016\\ub144 05\\uc6d430\\uc77c\", \"2016\\ub144 06\\uc6d406\\uc77c\", \"2016\\ub144 06\\uc6d413\\uc77c\", \"2016\\ub144 06\\uc6d420\\uc77c\", \"2016\\ub144 06\\uc6d427\\uc77c\", \"2016\\ub144 07\\uc6d404\\uc77c\", \"2016\\ub144 07\\uc6d411\\uc77c\", \"2016\\ub144 07\\uc6d418\\uc77c\", \"2016\\ub144 07\\uc6d425\\uc77c\", \"2016\\ub144 08\\uc6d401\\uc77c\", \"2016\\ub144 08\\uc6d408\\uc77c\", \"2016\\ub144 08\\uc6d415\\uc77c\", \"2016\\ub144 08\\uc6d422\\uc77c\", \"2016\\ub144 08\\uc6d429\\uc77c\", \"2016\\ub144 09\\uc6d405\\uc77c\", \"2016\\ub144 09\\uc6d412\\uc77c\", \"2016\\ub144 09\\uc6d419\\uc77c\", \"2016\\ub144 09\\uc6d426\\uc77c\", \"2016\\ub144 10\\uc6d403\\uc77c\", \"2016\\ub144 10\\uc6d410\\uc77c\", \"2016\\ub144 10\\uc6d417\\uc77c\", \"2016\\ub144 10\\uc6d424\\uc77c\", \"2016\\ub144 10\\uc6d431\\uc77c\", \"2016\\ub144 11\\uc6d407\\uc77c\", \"2016\\ub144 11\\uc6d414\\uc77c\", \"2016\\ub144 11\\uc6d421\\uc77c\", \"2016\\ub144 11\\uc6d428\\uc77c\", \"2016\\ub144 12\\uc6d405\\uc77c\", \"2016\\ub144 12\\uc6d412\\uc77c\", \"2016\\ub144 12\\uc6d419\\uc77c\", \"2016\\ub144 12\\uc6d426\\uc77c\", \"2017\\ub144 01\\uc6d402\\uc77c\", \"2017\\ub144 01\\uc6d409\\uc77c\", \"2017\\ub144 01\\uc6d416\\uc77c\", \"2017\\ub144 01\\uc6d423\\uc77c\", \"2017\\ub144 01\\uc6d430\\uc77c\", \"2017\\ub144 02\\uc6d406\\uc77c\", \"2017\\ub144 02\\uc6d413\\uc77c\", \"2017\\ub144 02\\uc6d420\\uc77c\", \"2017\\ub144 02\\uc6d427\\uc77c\", \"2017\\ub144 03\\uc6d406\\uc77c\", \"2017\\ub144 03\\uc6d413\\uc77c\", \"2017\\ub144 03\\uc6d420\\uc77c\", \"2017\\ub144 03\\uc6d427\\uc77c\", \"2017\\ub144 04\\uc6d403\\uc77c\", \"2017\\ub144 04\\uc6d410\\uc77c\", \"2017\\ub144 04\\uc6d417\\uc77c\", \"2017\\ub144 04\\uc6d424\\uc77c\", \"2017\\ub144 05\\uc6d401\\uc77c\", \"2017\\ub144 05\\uc6d408\\uc77c\", \"2017\\ub144 05\\uc6d415\\uc77c\", \"2017\\ub144 05\\uc6d422\\uc77c\", \"2017\\ub144 05\\uc6d429\\uc77c\", \"2017\\ub144 06\\uc6d405\\uc77c\", \"2017\\ub144 06\\uc6d412\\uc77c\", \"2017\\ub144 06\\uc6d419\\uc77c\", \"2017\\ub144 06\\uc6d426\\uc77c\", \"2017\\ub144 07\\uc6d403\\uc77c\", \"2017\\ub144 07\\uc6d410\\uc77c\", \"2017\\ub144 07\\uc6d417\\uc77c\", \"2017\\ub144 07\\uc6d424\\uc77c\", \"2017\\ub144 07\\uc6d431\\uc77c\", \"2017\\ub144 08\\uc6d407\\uc77c\", \"2017\\ub144 08\\uc6d414\\uc77c\", \"2017\\ub144 08\\uc6d421\\uc77c\", \"2017\\ub144 08\\uc6d428\\uc77c\", \"2017\\ub144 09\\uc6d404\\uc77c\", \"2017\\ub144 09\\uc6d411\\uc77c\", \"2017\\ub144 09\\uc6d418\\uc77c\", \"2017\\ub144 09\\uc6d425\\uc77c\", \"2017\\ub144 10\\uc6d409\\uc77c\", \"2017\\ub144 10\\uc6d416\\uc77c\", \"2017\\ub144 10\\uc6d423\\uc77c\", \"2017\\ub144 10\\uc6d430\\uc77c\", \"2017\\ub144 11\\uc6d406\\uc77c\", \"2017\\ub144 11\\uc6d413\\uc77c\", \"2017\\ub144 11\\uc6d420\\uc77c\", \"2017\\ub144 11\\uc6d427\\uc77c\", \"2017\\ub144 12\\uc6d404\\uc77c\", \"2017\\ub144 12\\uc6d411\\uc77c\", \"2017\\ub144 12\\uc6d418\\uc77c\", \"2017\\ub144 12\\uc6d425\\uc77c\", \"2018\\ub144 01\\uc6d401\\uc77c\", \"2018\\ub144 01\\uc6d408\\uc77c\", \"2018\\ub144 01\\uc6d415\\uc77c\", \"2018\\ub144 01\\uc6d422\\uc77c\", \"2018\\ub144 01\\uc6d429\\uc77c\", \"2018\\ub144 02\\uc6d405\\uc77c\", \"2018\\ub144 02\\uc6d412\\uc77c\", \"2018\\ub144 02\\uc6d419\\uc77c\", \"2018\\ub144 02\\uc6d426\\uc77c\", \"2018\\ub144 03\\uc6d405\\uc77c\", \"2018\\ub144 03\\uc6d412\\uc77c\", \"2018\\ub144 03\\uc6d419\\uc77c\", \"2018\\ub144 03\\uc6d426\\uc77c\", \"2018\\ub144 04\\uc6d402\\uc77c\", \"2018\\ub144 04\\uc6d409\\uc77c\", \"2018\\ub144 04\\uc6d416\\uc77c\", \"2018\\ub144 04\\uc6d423\\uc77c\", \"2018\\ub144 04\\uc6d430\\uc77c\", \"2018\\ub144 05\\uc6d407\\uc77c\", \"2018\\ub144 05\\uc6d414\\uc77c\", \"2018\\ub144 05\\uc6d421\\uc77c\", \"2018\\ub144 05\\uc6d428\\uc77c\", \"2018\\ub144 06\\uc6d404\\uc77c\", \"2018\\ub144 06\\uc6d411\\uc77c\", \"2018\\ub144 06\\uc6d418\\uc77c\", \"2018\\ub144 06\\uc6d425\\uc77c\", \"2018\\ub144 07\\uc6d402\\uc77c\", \"2018\\ub144 07\\uc6d409\\uc77c\", \"2018\\ub144 07\\uc6d416\\uc77c\", \"2018\\ub144 07\\uc6d423\\uc77c\", \"2018\\ub144 07\\uc6d430\\uc77c\", \"2018\\ub144 08\\uc6d406\\uc77c\", \"2018\\ub144 08\\uc6d413\\uc77c\", \"2018\\ub144 08\\uc6d420\\uc77c\", \"2018\\ub144 08\\uc6d427\\uc77c\", \"2018\\ub144 09\\uc6d403\\uc77c\", \"2018\\ub144 09\\uc6d410\\uc77c\", \"2018\\ub144 09\\uc6d417\\uc77c\", \"2018\\ub144 09\\uc6d424\\uc77c\", \"2018\\ub144 10\\uc6d401\\uc77c\", \"2018\\ub144 10\\uc6d408\\uc77c\", \"2018\\ub144 10\\uc6d415\\uc77c\", \"2018\\ub144 10\\uc6d422\\uc77c\", \"2018\\ub144 10\\uc6d429\\uc77c\", \"2018\\ub144 11\\uc6d405\\uc77c\", \"2018\\ub144 11\\uc6d412\\uc77c\", \"2018\\ub144 11\\uc6d419\\uc77c\", \"2018\\ub144 11\\uc6d426\\uc77c\", \"2018\\ub144 12\\uc6d403\\uc77c\", \"2018\\ub144 12\\uc6d410\\uc77c\", \"2018\\ub144 12\\uc6d417\\uc77c\", \"2018\\ub144 12\\uc6d424\\uc77c\", \"2018\\ub144 12\\uc6d431\\uc77c\", \"2019\\ub144 01\\uc6d407\\uc77c\", \"2019\\ub144 01\\uc6d414\\uc77c\", \"2019\\ub144 01\\uc6d421\\uc77c\", \"2019\\ub144 01\\uc6d428\\uc77c\", \"2019\\ub144 02\\uc6d404\\uc77c\", \"2019\\ub144 02\\uc6d411\\uc77c\", \"2019\\ub144 02\\uc6d418\\uc77c\", \"2019\\ub144 02\\uc6d425\\uc77c\", \"2019\\ub144 03\\uc6d404\\uc77c\", \"2019\\ub144 03\\uc6d411\\uc77c\", \"2019\\ub144 03\\uc6d418\\uc77c\", \"2019\\ub144 03\\uc6d425\\uc77c\", \"2019\\ub144 04\\uc6d401\\uc77c\", \"2019\\ub144 04\\uc6d408\\uc77c\", \"2019\\ub144 04\\uc6d415\\uc77c\", \"2019\\ub144 04\\uc6d422\\uc77c\", \"2019\\ub144 04\\uc6d429\\uc77c\", \"2019\\ub144 05\\uc6d406\\uc77c\", \"2019\\ub144 05\\uc6d413\\uc77c\", \"2019\\ub144 05\\uc6d420\\uc77c\", \"2019\\ub144 05\\uc6d427\\uc77c\", \"2019\\ub144 06\\uc6d403\\uc77c\", \"2019\\ub144 06\\uc6d410\\uc77c\", \"2019\\ub144 06\\uc6d417\\uc77c\", \"2019\\ub144 06\\uc6d424\\uc77c\", \"2019\\ub144 07\\uc6d401\\uc77c\", \"2019\\ub144 07\\uc6d408\\uc77c\", \"2019\\ub144 07\\uc6d415\\uc77c\", \"2019\\ub144 07\\uc6d422\\uc77c\", \"2019\\ub144 07\\uc6d429\\uc77c\", \"2019\\ub144 08\\uc6d405\\uc77c\", \"2019\\ub144 08\\uc6d412\\uc77c\", \"2019\\ub144 08\\uc6d419\\uc77c\", \"2019\\ub144 08\\uc6d426\\uc77c\", \"2019\\ub144 09\\uc6d402\\uc77c\", \"2019\\ub144 09\\uc6d409\\uc77c\", \"2019\\ub144 09\\uc6d416\\uc77c\", \"2019\\ub144 09\\uc6d423\\uc77c\", \"2019\\ub144 09\\uc6d430\\uc77c\", \"2019\\ub144 10\\uc6d407\\uc77c\", \"2019\\ub144 10\\uc6d414\\uc77c\", \"2019\\ub144 10\\uc6d421\\uc77c\", \"2019\\ub144 10\\uc6d428\\uc77c\", \"2019\\ub144 11\\uc6d404\\uc77c\", \"2019\\ub144 11\\uc6d411\\uc77c\", \"2019\\ub144 11\\uc6d418\\uc77c\", \"2019\\ub144 11\\uc6d425\\uc77c\", \"2019\\ub144 12\\uc6d402\\uc77c\", \"2019\\ub144 12\\uc6d409\\uc77c\", \"2019\\ub144 12\\uc6d416\\uc77c\", \"2019\\ub144 12\\uc6d423\\uc77c\", \"2019\\ub144 12\\uc6d430\\uc77c\", \"2020\\ub144 01\\uc6d406\\uc77c\", \"2020\\ub144 01\\uc6d413\\uc77c\", \"2020\\ub144 01\\uc6d420\\uc77c\", \"2020\\ub144 01\\uc6d427\\uc77c\", \"2020\\ub144 02\\uc6d403\\uc77c\", \"2020\\ub144 02\\uc6d410\\uc77c\", \"2020\\ub144 02\\uc6d417\\uc77c\", \"2020\\ub144 02\\uc6d424\\uc77c\", \"2020\\ub144 03\\uc6d402\\uc77c\", \"2020\\ub144 03\\uc6d409\\uc77c\", \"2020\\ub144 03\\uc6d416\\uc77c\", \"2020\\ub144 03\\uc6d423\\uc77c\", \"2020\\ub144 03\\uc6d430\\uc77c\", \"2020\\ub144 04\\uc6d406\\uc77c\", \"2020\\ub144 04\\uc6d413\\uc77c\", \"2020\\ub144 04\\uc6d420\\uc77c\", \"2020\\ub144 04\\uc6d427\\uc77c\", \"2020\\ub144 05\\uc6d404\\uc77c\", \"2020\\ub144 05\\uc6d411\\uc77c\", \"2020\\ub144 05\\uc6d418\\uc77c\", \"2020\\ub144 05\\uc6d425\\uc77c\", \"2020\\ub144 06\\uc6d401\\uc77c\", \"2020\\ub144 06\\uc6d408\\uc77c\", \"2020\\ub144 06\\uc6d415\\uc77c\", \"2020\\ub144 06\\uc6d422\\uc77c\", \"2020\\ub144 06\\uc6d429\\uc77c\", \"2020\\ub144 07\\uc6d406\\uc77c\", \"2020\\ub144 07\\uc6d413\\uc77c\", \"2020\\ub144 07\\uc6d420\\uc77c\", \"2020\\ub144 07\\uc6d427\\uc77c\", \"2020\\ub144 08\\uc6d403\\uc77c\", \"2020\\ub144 08\\uc6d410\\uc77c\", \"2020\\ub144 08\\uc6d417\\uc77c\", \"2020\\ub144 08\\uc6d424\\uc77c\", \"2020\\ub144 08\\uc6d431\\uc77c\", \"2020\\ub144 09\\uc6d407\\uc77c\", \"2020\\ub144 09\\uc6d414\\uc77c\", \"2020\\ub144 09\\uc6d421\\uc77c\", \"2020\\ub144 09\\uc6d428\\uc77c\", \"2020\\ub144 10\\uc6d405\\uc77c\", \"2020\\ub144 10\\uc6d412\\uc77c\", \"2020\\ub144 10\\uc6d419\\uc77c\", \"2020\\ub144 10\\uc6d426\\uc77c\", \"2020\\ub144 11\\uc6d402\\uc77c\", \"2020\\ub144 11\\uc6d409\\uc77c\", \"2020\\ub144 11\\uc6d416\\uc77c\", \"2020\\ub144 11\\uc6d423\\uc77c\", \"2020\\ub144 11\\uc6d430\\uc77c\", \"2020\\ub144 12\\uc6d407\\uc77c\", \"2020\\ub144 12\\uc6d414\\uc77c\", \"2020\\ub144 12\\uc6d421\\uc77c\", \"2020\\ub144 12\\uc6d428\\uc77c\"], [0.04, 0.05, 0.02, 0.06, 0.08, 0.1, 0.15, 0.17, 0.12, 0.18, 0.18, 0.18, 0.18, 0.2, 0.18, 0.19, 0.15, 0.17, 0.19, 0.17, 0.17, 0.2, 0.16, 0.16, 0.16, 0.16, 0.16, 0.13, 0.14, 0.17, 0.16, 0.16, 0.16, 0.13, 0.19, 0.17, 0.17, 0.19, 0.22, 0.19, 0.19, 0.21, 0.22, 0.2, 0.19, 0.18, 0.16, 0.14, 0.09, 0.07, 0.05, 0.04, 0.0, 0.0, 0.0, 0.01, 0.0, 0.01, 0.0, -0.01, 0.0, -0.01, 0.0, 0.0, 0.0, 0.01, 0.03, 0.05, 0.05, 0.05, 0.05, 0.06, 0.07, 0.06, 0.08, 0.07, 0.09, 0.11, 0.11, 0.07, 0.08, 0.09, 0.09, 0.1, 0.08, 0.09, 0.11, 0.11, 0.13, 0.13, 0.12, 0.16, 0.21, 0.22, 0.22, 0.17, 0.15, 0.11, 0.08, 0.05, 0.05, 0.02, 0.01, 0.0, 0.0, 0.0, 0.0, 0.0, 0.01, 0.02, 0.01, 0.03, 0.03, 0.03, 0.04, 0.05, 0.06, 0.05, 0.07, 0.08, 0.09, 0.09, 0.09, 0.08, 0.13, 0.2, 0.28, 0.28, 0.18, 0.12, 0.1, 0.11, 0.14, 0.17, 0.24, 0.33, -0.03, -0.04, -0.04, -0.03, -0.01, 0.01, 0.04, 0.08, 0.08, 0.07, 0.06, 0.07, 0.08, 0.09, 0.18, 0.29, 0.26, 0.17, 0.18, 0.2, 0.26, 0.29, 0.39, 0.38, 0.31, 0.3, 0.29, 0.22, 0.21, 0.12, 0.11, 0.11, 0.09, 0.06, 0.06, 0.05, 0.03, 0.04, 0.03, 0.03, 0.04, 0.03, 0.02, 0.05, 0.07, 0.1, 0.09, 0.08, 0.1, 0.11, 0.16, 0.18, 0.18, 0.37, 0.45, 0.47, 0.45, 0.26, 0.1, 0.09, 0.07, 0.05, 0.03, 0.02, 0.0, -0.01, -0.02, -0.05, -0.06, -0.05, -0.08, -0.08, -0.09, -0.1, -0.09, -0.11, -0.14, -0.08, -0.07, -0.1, -0.09, -0.11, -0.1, -0.1, -0.09, -0.08, -0.07, -0.06, -0.06, -0.05, -0.05, -0.04, -0.03, -0.03, -0.02, -0.01, -0.01, 0.0, 0.02, 0.02, 0.01, 0.02, 0.02, 0.03, 0.02, 0.02, 0.03, 0.03, 0.03, 0.03, 0.06, 0.08, 0.07, 0.07, 0.08, 0.09, 0.09, 0.09, 0.1, 0.11, 0.13, 0.17, 0.2, 0.1, 0.08, 0.07, 0.04, 0.03, 0.02, 0.01, 0.01, 0.01, 0.01, 0.01, 0.02, 0.0, 0.0, -0.02, -0.04, -0.05, -0.05, -0.07, -0.06, -0.04, -0.04, -0.02, 0.0, 0.02, 0.07, 0.06, 0.06, 0.11, 0.09, 0.06, 0.04, 0.04, 0.02, 0.02, 0.01, 0.01, 0.01, 0.01, 0.01, 0.01, 0.01, 0.01, 0.01, 0.01, 0.02, 0.02, 0.02, 0.02, 0.03, 0.03, 0.04, 0.05, 0.06], [0.04, 0.08, 0.08, 0.08, 0.1, 0.14, 0.17, 0.13, 0.11, 0.19, 0.17, 0.17, 0.21, 0.24, 0.2, 0.16, 0.19, 0.15, 0.14, 0.16, 0.17, 0.18, 0.1, 0.13, 0.11, 0.15, 0.15, 0.12, 0.11, 0.12, 0.16, 0.12, 0.11, 0.09, 0.12, 0.12, 0.15, 0.13, 0.15, 0.12, 0.16, 0.16, 0.15, 0.13, 0.14, 0.1, 0.1, 0.08, 0.05, 0.04, 0.04, 0.03, 0.02, 0.0, 0.0, 0.0, 0.0, 0.01, 0.0, 0.0, -0.01, -0.01, -0.01, 0.0, 0.0, -0.01, -0.01, 0.0, 0.0, 0.02, 0.02, 0.02, 0.02, 0.03, 0.04, 0.03, 0.04, 0.04, 0.04, 0.03, 0.03, 0.03, 0.03, 0.04, 0.03, 0.04, 0.04, 0.04, 0.04, 0.05, 0.06, 0.07, 0.08, 0.08, 0.08, 0.08, 0.06, 0.05, 0.03, 0.04, 0.03, 0.02, 0.01, 0.0, 0.0, 0.0, 0.0, -0.02, -0.01, -0.01, -0.01, 0.0, 0.01, 0.0, 0.01, 0.02, 0.02, 0.01, 0.01, 0.02, 0.03, 0.04, 0.03, 0.03, 0.04, 0.05, 0.05, 0.05, 0.04, 0.04, 0.05, 0.05, 0.09, 0.1, 0.11, 0.12, 0.03, 0.02, 0.04, 0.05, 0.04, 0.03, 0.05, 0.05, 0.05, 0.05, 0.06, 0.02, 0.02, 0.02, 0.03, 0.01, 0.01, 0.01, 0.01, 0.01, 0.0, 0.01, 0.01, 0.05, 0.07, 0.04, 0.07, 0.1, 0.05, 0.07, 0.03, 0.05, 0.04, 0.03, 0.01, 0.02, -0.01, 0.0, 0.01, -0.01, -0.02, -0.03, -0.03, -0.01, 0.0, -0.03, -0.04, -0.03, -0.02, -0.05, -0.01, -0.01, 0.02, 0.05, 0.09, 0.16, 0.21, 0.18, 0.07, 0.02, 0.1, 0.08, 0.11, 0.06, 0.07, 0.03, 0.02, 0.0, -0.03, -0.01, -0.03, -0.06, -0.05, -0.05, -0.05, -0.05, -0.08, -0.05, -0.05, -0.07, -0.07, -0.07, -0.1, -0.08, -0.12, -0.13, -0.09, -0.12, -0.15, -0.1, -0.08, -0.1, -0.09, -0.09, -0.06, -0.07, -0.09, -0.07, -0.05, -0.01, -0.01, -0.03, 0.0, 0.0, 0.0, -0.01, 0.01, 0.04, 0.02, 0.04, 0.04, 0.06, 0.03, 0.04, 0.06, 0.08, 0.09, 0.1, 0.13, 0.15, 0.17, 0.16, 0.18, 0.18, 0.17, 0.14, 0.18, 0.19, 0.2, 0.22, 0.39, 0.42, 0.44, 0.39, 0.41, 0.4, 0.28, 0.19, 0.17, 0.09, 0.11, 0.1, 0.1, 0.1, 0.13, 0.15, 0.17, 0.19, 0.22, 0.39, 0.24, 0.24, 0.23, 0.19, 0.19, 0.18, 0.15, 0.12, 0.12, 0.11, 0.09, 0.1, 0.1, 0.1, 0.09, 0.1, 0.14, 0.16, 0.23, 0.23, 0.28, 0.22, 0.24, 0.27, 0.3, 0.31, 0.32], [0.02, 0.01, 0.05, 0.03, 0.07, 0.11, 0.07, 0.09, 0.07, 0.1, 0.11, 0.13, 0.14, 0.21, 0.15, 0.17, 0.17, 0.2, 0.12, 0.15, 0.11, 0.17, 0.1, 0.15, 0.16, 0.17, 0.15, 0.09, 0.07, 0.14, 0.1, 0.09, 0.11, 0.1, 0.12, 0.11, 0.09, 0.1, 0.05, 0.15, 0.13, 0.09, 0.12, 0.19, 0.08, 0.07, 0.09, 0.07, 0.07, 0.06, 0.02, 0.03, 0.01, 0.0, 0.01, 0.0, 0.0, -0.03, 0.0, 0.0, -0.01, 0.0, 0.01, -0.01, 0.01, 0.0, 0.01, 0.01, 0.01, 0.01, 0.0, 0.01, 0.02, 0.03, 0.01, 0.02, 0.03, 0.03, 0.03, 0.04, 0.03, 0.05, 0.04, 0.04, 0.04, 0.04, 0.04, 0.06, 0.03, 0.05, 0.05, 0.05, 0.08, 0.07, 0.1, 0.08, 0.06, 0.05, 0.04, 0.05, 0.03, 0.01, 0.01, 0.02, 0.01, -0.01, -0.01, -0.02, -0.01, -0.02, -0.03, -0.02, -0.03, 0.0, 0.02, 0.01, 0.03, 0.01, 0.03, 0.02, 0.02, 0.03, 0.02, 0.01, 0.05, 0.04, 0.04, 0.03, 0.06, 0.02, 0.03, 0.03, 0.06, 0.08, 0.07, 0.1, 0.09, 0.12, 0.13, 0.09, 0.08, 0.07, 0.07, 0.06, 0.05, 0.04, 0.06, 0.03, 0.03, 0.03, 0.02, 0.03, 0.03, 0.0, 0.01, 0.01, -0.02, -0.02, -0.01, 0.01, 0.0, 0.04, 0.03, 0.03, 0.02, 0.01, 0.03, 0.02, 0.02, -0.01, -0.02, -0.01, -0.02, -0.02, -0.02, -0.01, -0.02, -0.01, -0.01, 0.0, -0.07, -0.02, -0.03, -0.03, -0.04, -0.13, -0.1, -0.09, -0.05, -0.07, -0.04, 0.0, -0.01, 0.04, 0.0, -0.02, 0.0, 0.05, 0.03, 0.02, 0.06, 0.05, 0.09, 0.09, 0.03, 0.03, 0.01, 0.03, 0.01, -0.01, -0.02, -0.04, -0.06, -0.03, -0.01, -0.06, -0.06, -0.03, -0.01, -0.03, 0.01, -0.02, 0.0, 0.03, 0.03, -0.02, -0.01, -0.02, 0.01, -0.01, 0.0, 0.02, 0.0, 0.0, 0.02, -0.01, -0.07, -0.07, -0.1, -0.06, -0.04, -0.01, 0.03, 0.04, 0.09, 0.07, 0.03, 0.02, 0.02, 0.02, 0.07, 0.07, 0.03, 0.15, 0.08, 0.1, 0.09, 0.11, 0.08, 0.05, 0.07, 0.08, 0.09, 0.02, 0.07, 0.07, 0.11, 0.3, 0.4, 0.42, 0.38, 0.53, 0.42, 0.34, 0.29, 0.21, 0.23, 0.24, 0.22, 0.24, 0.22, 0.19, 0.21, 0.21, 0.26, 0.34, 0.07, 0.05, 0.06, 0.05, 0.03, 0.03, 0.02, 0.03, 0.03, 0.03, 0.04, 0.04, 0.05, 0.06, 0.05, 0.08, 0.12, 0.12, 0.15, 0.16, 0.14, 0.12, 0.13, 0.15, 0.15, 0.22, 0.26], [0.05, 0.03, 0.06, 0.03, 0.04, 0.05, 0.05, 0.1, 0.09, 0.1, 0.15, 0.13, 0.15, 0.16, 0.13, 0.19, 0.17, 0.13, 0.13, 0.1, 0.12, 0.12, 0.16, 0.15, 0.12, 0.13, 0.16, 0.11, 0.1, 0.09, 0.08, 0.08, 0.05, 0.07, 0.09, 0.06, 0.13, 0.12, 0.14, 0.18, 0.17, 0.15, 0.16, 0.17, 0.24, 0.23, 0.19, 0.18, 0.14, 0.11, 0.05, 0.02, 0.02, 0.0, 0.02, 0.01, 0.01, 0.02, 0.0, 0.01, 0.02, 0.03, 0.03, 0.02, 0.03, 0.02, 0.06, 0.04, 0.06, 0.04, 0.02, 0.04, 0.04, 0.06, 0.04, 0.04, 0.04, 0.06, 0.06, 0.07, 0.06, 0.13, 0.12, 0.11, 0.11, 0.11, 0.12, 0.14, 0.15, 0.17, 0.17, 0.25, 0.25, 0.34, 0.29, 0.29, 0.26, 0.22, 0.21, 0.2, 0.15, 0.16, 0.12, 0.12, 0.12, 0.09, 0.08, 0.08, 0.06, 0.04, 0.06, 0.06, 0.05, 0.04, 0.03, 0.05, 0.08, 0.09, 0.09, 0.09, 0.1, 0.07, 0.14, 0.1, 0.09, 0.15, 0.16, 0.12, 0.1, 0.07, 0.06, 0.05, 0.05, 0.06, 0.07, 0.1, 0.03, 0.03, 0.02, 0.01, 0.01, 0.0, -0.01, -0.01, -0.01, -0.01, -0.02, -0.02, -0.01, -0.02, -0.03, -0.03, -0.02, -0.05, -0.06, -0.04, -0.05, -0.06, -0.03, -0.06, -0.05, -0.05, -0.07, -0.06, -0.05, -0.04, -0.07, -0.12, -0.08, -0.07, -0.07, -0.08, -0.07, -0.06, -0.06, -0.07, -0.06, -0.11, -0.11, -0.11, -0.08, -0.1, -0.1, -0.09, -0.1, -0.13, -0.15, -0.13, -0.14, -0.12, -0.1, -0.08, -0.11, -0.09, -0.06, -0.07, -0.05, -0.06, -0.1, -0.06, -0.09, -0.08, -0.09, -0.1, -0.07, -0.1, -0.1, -0.09, -0.11, -0.07, -0.07, -0.09, -0.12, -0.08, -0.08, -0.09, -0.12, -0.1, -0.1, -0.08, -0.16, -0.12, -0.1, -0.08, -0.12, -0.11, -0.12, -0.12, -0.1, -0.1, -0.09, -0.1, -0.11, -0.13, -0.08, -0.07, -0.09, -0.07, -0.06, -0.09, -0.11, -0.07, -0.11, -0.07, -0.06, -0.04, -0.06, -0.06, -0.06, -0.08, -0.05, -0.04, -0.04, 0.1, 0.19, 0.17, 0.11, 0.11, 0.11, 0.08, 0.04, 0.04, 0.05, 0.04, 0.04, 0.02, 0.01, 0.02, 0.0, 0.0, -0.02, -0.02, -0.04, -0.02, -0.03, -0.03, -0.04, -0.03, -0.04, -0.02, -0.03, 0.0, -0.01, 0.0, 0.05, 0.11, 0.09, 0.11, 0.12, 0.06, 0.12, 0.12, 0.16, 0.17, 0.17, 0.16, 0.11, 0.14, 0.12, 0.18, 0.12, 0.18, 0.23, 0.3, 0.37, 0.56, 0.72, 0.54, 0.5, 0.58, 0.71, 0.61, 0.58], [0.12, 0.15, 0.12, 0.13, 0.21, 0.14, 0.14, 0.2, 0.15, 0.17, 0.21, 0.24, 0.21, 0.22, 0.28, 0.28, 0.27, 0.21, 0.18, 0.17, 0.27, 0.24, 0.24, 0.27, 0.22, 0.27, 0.31, 0.18, 0.14, 0.24, 0.16, 0.23, 0.19, 0.2, 0.25, 0.23, 0.31, 0.23, 0.22, 0.26, 0.15, 0.22, 0.26, 0.25, 0.13, 0.14, 0.11, 0.07, 0.0, 0.01, 0.0, -0.08, -0.1, -0.03, -0.03, -0.07, -0.07, -0.04, -0.02, -0.04, -0.08, -0.07, -0.12, -0.14, -0.16, -0.11, -0.09, -0.07, -0.07, -0.06, -0.06, -0.07, -0.08, -0.12, -0.11, -0.12, -0.11, -0.08, -0.09, -0.05, -0.1, -0.07, -0.05, -0.09, -0.11, -0.1, -0.09, -0.06, -0.08, -0.09, -0.04, -0.04, -0.04, -0.05, -0.01, -0.03, -0.02, -0.03, -0.05, -0.05, -0.04, -0.06, -0.04, -0.05, -0.07, -0.02, -0.03, -0.05, -0.07, -0.05, -0.05, -0.06, -0.06, -0.04, -0.04, -0.04, -0.04, -0.04, -0.04, -0.05, -0.04, -0.03, -0.05, -0.03, -0.06, -0.12, -0.03, -0.02, 0.01, -0.01, 0.0, 0.0, 0.01, 0.05, 0.15, 0.14, 0.11, 0.09, 0.11, 0.08, 0.1, 0.06, 0.04, 0.07, 0.11, 0.08, 0.07, 0.06, 0.08, 0.05, 0.04, 0.05, 0.07, 0.03, 0.07, 0.07, 0.01, 0.05, 0.05, 0.08, 0.04, 0.05, 0.02, 0.04, 0.06, 0.05, 0.02, 0.07, 0.05, 0.07, 0.05, 0.07, 0.02, 0.04, 0.05, 0.06, 0.05, 0.02, 0.04, 0.03, 0.02, 0.05, 0.03, 0.02, 0.01, 0.02, 0.03, 0.07, 0.03, 0.05, 0.08, 0.11, 0.12, 0.19, 0.12, 0.14, 0.15, 0.14, 0.1, 0.12, 0.09, 0.1, 0.1, 0.06, 0.07, 0.03, 0.02, 0.02, -0.01, -0.01, -0.02, -0.02, -0.01, 0.0, -0.01, -0.03, 0.0, 0.0, -0.02, -0.01, -0.05, -0.06, -0.05, 0.0, -0.02, -0.03, -0.03, -0.04, -0.07, -0.07, -0.03, -0.03, -0.03, -0.04, -0.07, -0.04, -0.04, -0.05, -0.04, -0.03, -0.06, -0.03, -0.02, -0.01, -0.03, 0.01, 0.02, 0.02, 0.04, 0.02, 0.03, 0.03, 0.03, 0.02, 0.03, 0.05, 0.05, 0.12, 0.1, 0.13, 0.14, 0.14, 0.12, 0.18, 0.05, 0.05, 0.03, 0.07, 0.03, -0.03, -0.04, -0.05, -0.06, -0.04, -0.04, -0.04, -0.05, -0.03, -0.02, 0.0, 0.01, 0.04, 0.05, 0.05, 0.07, 0.06, 0.06, 0.03, 0.07, 0.13, 0.15, 0.14, 0.14, 0.17, 0.15, 0.2, 0.18, 0.18, 0.22, 0.26, 0.2, 0.22, 0.26, 0.26, 0.3, 0.39, 0.39, 0.32, 0.36, 0.41, 0.4, 0.43, 0.4], [0.07, 0.16, 0.11, 0.07, 0.19, 0.2, 0.04, 0.23, 0.19, 0.22, 0.37, 0.39, 0.31, 0.53, 0.54, 0.63, 0.59, 0.21, 0.23, 0.21, 0.22, 0.29, 0.26, 0.25, 0.35, 0.32, 0.24, 0.24, 0.09, 0.18, 0.12, 0.26, 0.1, 0.09, 0.14, 0.06, 0.1, 0.1, 0.1, 0.13, 0.15, 0.11, 0.19, 0.21, 0.36, 0.23, 0.2, 0.09, 0.07, 0.07, 0.03, 0.0, 0.05, 0.01, -0.03, -0.06, -0.04, -0.05, -0.01, 0.01, -0.04, 0.01, -0.01, -0.01, -0.05, 0.02, 0.07, 0.08, -0.01, -0.01, -0.08, -0.05, -0.02, -0.02, -0.03, -0.02, -0.01, -0.02, -0.05, -0.07, -0.04, -0.06, -0.02, -0.05, -0.02, -0.02, -0.02, -0.03, -0.01, 0.0, 0.0, 0.02, 0.04, 0.01, 0.03, 0.04, 0.04, 0.01, 0.02, 0.03, 0.03, 0.02, 0.05, 0.06, 0.04, 0.03, 0.02, 0.02, 0.03, -0.01, 0.01, 0.01, 0.01, 0.0, 0.03, -0.07, 0.05, 0.0, 0.02, 0.02, -0.02, -0.03, -0.01, -0.02, 0.01, 0.03, 0.03, 0.01, -0.07, 0.02, -0.03, 0.0, 0.08, 0.0, 0.05, 0.07, 0.04, 0.03, 0.07, 0.02, 0.05, 0.04, 0.09, 0.09, 0.05, 0.03, 0.03, 0.01, 0.01, 0.0, 0.01, 0.04, 0.02, 0.02, 0.11, 0.06, 0.0, 0.04, 0.01, 0.07, 0.15, -0.01, 0.07, 0.02, 0.15, 0.04, 0.05, 0.04, 0.03, 0.0, 0.09, 0.02, 0.07, 0.03, 0.09, 0.01, 0.03, 0.04, 0.01, 0.03, 0.06, 0.05, 0.05, 0.06, 0.09, 0.05, 0.04, 0.01, 0.08, 0.07, 0.16, 0.21, 0.24, 0.43, 0.15, 0.38, 0.15, 0.12, 0.05, 0.08, 0.12, 0.08, 0.05, 0.04, 0.07, 0.09, 0.08, 0.11, 0.07, 0.02, 0.01, 0.03, 0.03, 0.03, 0.03, 0.01, 0.01, 0.01, -0.01, -0.01, 0.01, -0.02, -0.02, -0.04, -0.02, -0.04, -0.05, -0.05, -0.06, -0.06, -0.06, -0.05, -0.05, -0.07, -0.07, -0.06, -0.05, -0.05, -0.04, -0.04, -0.03, -0.02, -0.02, -0.02, -0.03, -0.02, -0.01, 0.0, 0.0, 0.01, 0.01, 0.0, 0.0, 0.0, 0.02, 0.03, 0.02, 0.03, 0.02, 0.01, 0.01, 0.02, 0.03, 0.01, 0.01, 0.02, 0.02, 0.02, 0.01, 0.02, 0.0, 0.0, 0.01, -0.01, -0.01, -0.03, -0.02, -0.02, -0.03, -0.03, -0.03, -0.02, -0.03, -0.02, 0.0, -0.01, -0.01, 0.01, 0.01, 0.02, 0.01, 0.02, 0.01, 0.02, 0.02, 0.03, 0.02, 0.03, 0.02, 0.02, 0.01, 0.02, 0.03, 0.04, 0.05, 0.08, 0.14, 0.19, 0.18, 0.37, 0.4, 0.29, 0.18], [0.03, -0.01, 0.05, 0.04, 0.04, 0.0, 0.01, 0.01, 0.02, -0.02, 0.05, 0.07, 0.02, 0.03, -0.02, 0.01, -0.02, 0.0, -0.01, 0.01, 0.01, -0.03, 0.0, -0.02, 0.01, -0.01, -0.03, 0.0, 0.01, 0.0, 0.02, -0.01, -0.01, 0.0, -0.05, -0.04, 0.0, -0.01, 0.01, 0.01, 0.02, 0.03, 0.03, 0.04, 0.04, 0.05, -0.02, 0.01, -0.03, -0.02, -0.02, -0.04, -0.04, -0.03, -0.04, -0.03, -0.04, -0.03, -0.03, -0.01, 0.0, 0.01, 0.0, 0.0, 0.01, 0.0, 0.01, 0.0, 0.01, -0.01, -0.01, -0.01, -0.02, -0.03, 0.0, -0.01, -0.01, 0.0, 0.0, 0.0, 0.02, 0.01, 0.01, 0.01, 0.0, 0.01, 0.02, 0.01, 0.01, 0.01, 0.01, 0.02, 0.01, 0.02, 0.03, 0.04, 0.02, 0.02, 0.02, 0.04, 0.03, 0.05, 0.04, 0.03, 0.03, 0.02, 0.03, 0.06, 0.02, 0.01, 0.01, 0.04, 0.01, 0.02, 0.01, 0.0, 0.0, 0.0, 0.0, 0.03, 0.01, -0.02, -0.04, 0.01, 0.0, 0.02, 0.01, -0.01, 0.0, -0.03, 0.01, 0.03, 0.03, 0.02, 0.03, 0.04, 0.05, 0.09, 0.1, 0.04, 0.04, 0.05, 0.06, 0.05, 0.05, 0.08, 0.06, 0.1, 0.04, 0.09, 0.06, 0.08, 0.07, 0.16, 0.02, 0.0, 0.01, -0.01, 0.04, 0.06, 0.04, 0.02, -0.02, 0.03, 0.06, 0.04, 0.02, 0.02, 0.05, 0.05, -0.06, 0.0, -0.02, -0.03, -0.05, 0.0, -0.03, -0.02, 0.0, -0.02, -0.01, -0.02, -0.05, 0.04, 0.04, 0.01, 0.02, 0.02, 0.01, 0.02, 0.02, 0.0, -0.02, 0.01, 0.02, 0.03, 0.04, 0.43, 0.27, 0.37, 0.28, 0.18, 0.14, 0.07, 0.05, 0.17, 0.2, 0.13, 0.11, 0.11, 0.03, 0.04, 0.01, 0.01, 0.06, 0.0, 0.02, 0.02, 0.02, -0.02, -0.02, -0.01, -0.05, -0.03, 0.02, 0.02, 0.03, 0.04, 0.08, 0.08, 0.11, 0.12, 0.08, 0.05, 0.07, 0.05, 0.11, 0.32, 0.29, 0.26, 0.15, 0.12, 0.13, 0.18, 0.25, 0.21, 0.36, 0.27, 0.33, 0.39, 0.39, 0.36, 0.34, 0.3, 0.41, 0.36, 0.32, 0.39, 0.34, 0.32, 0.14, 0.31, 0.36, 0.52, 0.39, 0.17, 0.31, 0.53, 0.75, 0.41, 0.4, 0.46, 0.37, 0.2, 0.11, 0.12, 0.11, 0.09, 0.08, 0.15, 0.27, 0.33, 0.46, 0.46, 0.85, 0.75, 0.05, 0.09, 0.11, 0.2, 0.16, 0.2, 0.28, 0.27, 0.32, 0.32, 0.31, 0.28, 0.3, 0.25, 0.24, 0.24, 0.23, 0.24, 0.41, 0.37, 0.34, 0.42, 0.4, 0.36, 0.36, 0.36, 0.39]]}, \"header\": {\"values\": [\"\\ub0a0\\uc9dc\", \"\\uc11c\\uc6b8\", \"\\uacbd\\uae30\", \"\\uc778\\ucc9c\", \"\\ubd80\\uc0b0\", \"\\ub300\\uad6c\", \"\\uad11\\uc8fc\", \"\\ub300\\uc804\"]}, \"type\": \"table\"}],                        {\"template\": {\"data\": {\"bar\": [{\"error_x\": {\"color\": \"#2a3f5f\"}, \"error_y\": {\"color\": \"#2a3f5f\"}, \"marker\": {\"line\": {\"color\": \"#E5ECF6\", \"width\": 0.5}}, \"type\": \"bar\"}], \"barpolar\": [{\"marker\": {\"line\": {\"color\": \"#E5ECF6\", \"width\": 0.5}}, \"type\": \"barpolar\"}], \"carpet\": [{\"aaxis\": {\"endlinecolor\": \"#2a3f5f\", \"gridcolor\": \"white\", \"linecolor\": \"white\", \"minorgridcolor\": \"white\", \"startlinecolor\": \"#2a3f5f\"}, \"baxis\": {\"endlinecolor\": \"#2a3f5f\", \"gridcolor\": \"white\", \"linecolor\": \"white\", \"minorgridcolor\": \"white\", \"startlinecolor\": \"#2a3f5f\"}, \"type\": \"carpet\"}], \"choropleth\": [{\"colorbar\": {\"outlinewidth\": 0, \"ticks\": \"\"}, \"type\": \"choropleth\"}], \"contour\": [{\"colorbar\": {\"outlinewidth\": 0, \"ticks\": \"\"}, \"colorscale\": [[0.0, \"#0d0887\"], [0.1111111111111111, \"#46039f\"], [0.2222222222222222, \"#7201a8\"], [0.3333333333333333, \"#9c179e\"], [0.4444444444444444, \"#bd3786\"], [0.5555555555555556, \"#d8576b\"], [0.6666666666666666, \"#ed7953\"], [0.7777777777777778, \"#fb9f3a\"], [0.8888888888888888, \"#fdca26\"], [1.0, \"#f0f921\"]], \"type\": \"contour\"}], \"contourcarpet\": [{\"colorbar\": {\"outlinewidth\": 0, \"ticks\": \"\"}, \"type\": \"contourcarpet\"}], \"heatmap\": [{\"colorbar\": {\"outlinewidth\": 0, \"ticks\": \"\"}, \"colorscale\": [[0.0, \"#0d0887\"], [0.1111111111111111, \"#46039f\"], [0.2222222222222222, \"#7201a8\"], [0.3333333333333333, \"#9c179e\"], [0.4444444444444444, \"#bd3786\"], [0.5555555555555556, \"#d8576b\"], [0.6666666666666666, \"#ed7953\"], [0.7777777777777778, \"#fb9f3a\"], [0.8888888888888888, \"#fdca26\"], [1.0, \"#f0f921\"]], \"type\": \"heatmap\"}], \"heatmapgl\": [{\"colorbar\": {\"outlinewidth\": 0, \"ticks\": \"\"}, \"colorscale\": [[0.0, \"#0d0887\"], [0.1111111111111111, \"#46039f\"], [0.2222222222222222, \"#7201a8\"], [0.3333333333333333, \"#9c179e\"], [0.4444444444444444, \"#bd3786\"], [0.5555555555555556, \"#d8576b\"], [0.6666666666666666, \"#ed7953\"], [0.7777777777777778, \"#fb9f3a\"], [0.8888888888888888, \"#fdca26\"], [1.0, \"#f0f921\"]], \"type\": \"heatmapgl\"}], \"histogram\": [{\"marker\": {\"colorbar\": {\"outlinewidth\": 0, \"ticks\": \"\"}}, \"type\": \"histogram\"}], \"histogram2d\": [{\"colorbar\": {\"outlinewidth\": 0, \"ticks\": \"\"}, \"colorscale\": [[0.0, \"#0d0887\"], [0.1111111111111111, \"#46039f\"], [0.2222222222222222, \"#7201a8\"], [0.3333333333333333, \"#9c179e\"], [0.4444444444444444, \"#bd3786\"], [0.5555555555555556, \"#d8576b\"], [0.6666666666666666, \"#ed7953\"], [0.7777777777777778, \"#fb9f3a\"], [0.8888888888888888, \"#fdca26\"], [1.0, \"#f0f921\"]], \"type\": \"histogram2d\"}], \"histogram2dcontour\": [{\"colorbar\": {\"outlinewidth\": 0, \"ticks\": \"\"}, \"colorscale\": [[0.0, \"#0d0887\"], [0.1111111111111111, \"#46039f\"], [0.2222222222222222, \"#7201a8\"], [0.3333333333333333, \"#9c179e\"], [0.4444444444444444, \"#bd3786\"], [0.5555555555555556, \"#d8576b\"], [0.6666666666666666, \"#ed7953\"], [0.7777777777777778, \"#fb9f3a\"], [0.8888888888888888, \"#fdca26\"], [1.0, \"#f0f921\"]], \"type\": \"histogram2dcontour\"}], \"mesh3d\": [{\"colorbar\": {\"outlinewidth\": 0, \"ticks\": \"\"}, \"type\": \"mesh3d\"}], \"parcoords\": [{\"line\": {\"colorbar\": {\"outlinewidth\": 0, \"ticks\": \"\"}}, \"type\": \"parcoords\"}], \"pie\": [{\"automargin\": true, \"type\": \"pie\"}], \"scatter\": [{\"marker\": {\"colorbar\": {\"outlinewidth\": 0, \"ticks\": \"\"}}, \"type\": \"scatter\"}], \"scatter3d\": [{\"line\": {\"colorbar\": {\"outlinewidth\": 0, \"ticks\": \"\"}}, \"marker\": {\"colorbar\": {\"outlinewidth\": 0, \"ticks\": \"\"}}, \"type\": \"scatter3d\"}], \"scattercarpet\": [{\"marker\": {\"colorbar\": {\"outlinewidth\": 0, \"ticks\": \"\"}}, \"type\": \"scattercarpet\"}], \"scattergeo\": [{\"marker\": {\"colorbar\": {\"outlinewidth\": 0, \"ticks\": \"\"}}, \"type\": \"scattergeo\"}], \"scattergl\": [{\"marker\": {\"colorbar\": {\"outlinewidth\": 0, \"ticks\": \"\"}}, \"type\": \"scattergl\"}], \"scattermapbox\": [{\"marker\": {\"colorbar\": {\"outlinewidth\": 0, \"ticks\": \"\"}}, \"type\": \"scattermapbox\"}], \"scatterpolar\": [{\"marker\": {\"colorbar\": {\"outlinewidth\": 0, \"ticks\": \"\"}}, \"type\": \"scatterpolar\"}], \"scatterpolargl\": [{\"marker\": {\"colorbar\": {\"outlinewidth\": 0, \"ticks\": \"\"}}, \"type\": \"scatterpolargl\"}], \"scatterternary\": [{\"marker\": {\"colorbar\": {\"outlinewidth\": 0, \"ticks\": \"\"}}, \"type\": \"scatterternary\"}], \"surface\": [{\"colorbar\": {\"outlinewidth\": 0, \"ticks\": \"\"}, \"colorscale\": [[0.0, \"#0d0887\"], [0.1111111111111111, \"#46039f\"], [0.2222222222222222, \"#7201a8\"], [0.3333333333333333, \"#9c179e\"], [0.4444444444444444, \"#bd3786\"], [0.5555555555555556, \"#d8576b\"], [0.6666666666666666, \"#ed7953\"], [0.7777777777777778, \"#fb9f3a\"], [0.8888888888888888, \"#fdca26\"], [1.0, \"#f0f921\"]], \"type\": \"surface\"}], \"table\": [{\"cells\": {\"fill\": {\"color\": \"#EBF0F8\"}, \"line\": {\"color\": \"white\"}}, \"header\": {\"fill\": {\"color\": \"#C8D4E3\"}, \"line\": {\"color\": \"white\"}}, \"type\": \"table\"}]}, \"layout\": {\"annotationdefaults\": {\"arrowcolor\": \"#2a3f5f\", \"arrowhead\": 0, \"arrowwidth\": 1}, \"autotypenumbers\": \"strict\", \"coloraxis\": {\"colorbar\": {\"outlinewidth\": 0, \"ticks\": \"\"}}, \"colorscale\": {\"diverging\": [[0, \"#8e0152\"], [0.1, \"#c51b7d\"], [0.2, \"#de77ae\"], [0.3, \"#f1b6da\"], [0.4, \"#fde0ef\"], [0.5, \"#f7f7f7\"], [0.6, \"#e6f5d0\"], [0.7, \"#b8e186\"], [0.8, \"#7fbc41\"], [0.9, \"#4d9221\"], [1, \"#276419\"]], \"sequential\": [[0.0, \"#0d0887\"], [0.1111111111111111, \"#46039f\"], [0.2222222222222222, \"#7201a8\"], [0.3333333333333333, \"#9c179e\"], [0.4444444444444444, \"#bd3786\"], [0.5555555555555556, \"#d8576b\"], [0.6666666666666666, \"#ed7953\"], [0.7777777777777778, \"#fb9f3a\"], [0.8888888888888888, \"#fdca26\"], [1.0, \"#f0f921\"]], \"sequentialminus\": [[0.0, \"#0d0887\"], [0.1111111111111111, \"#46039f\"], [0.2222222222222222, \"#7201a8\"], [0.3333333333333333, \"#9c179e\"], [0.4444444444444444, \"#bd3786\"], [0.5555555555555556, \"#d8576b\"], [0.6666666666666666, \"#ed7953\"], [0.7777777777777778, \"#fb9f3a\"], [0.8888888888888888, \"#fdca26\"], [1.0, \"#f0f921\"]]}, \"colorway\": [\"#636efa\", \"#EF553B\", \"#00cc96\", \"#ab63fa\", \"#FFA15A\", \"#19d3f3\", \"#FF6692\", \"#B6E880\", \"#FF97FF\", \"#FECB52\"], \"font\": {\"color\": \"#2a3f5f\"}, \"geo\": {\"bgcolor\": \"white\", \"lakecolor\": \"white\", \"landcolor\": \"#E5ECF6\", \"showlakes\": true, \"showland\": true, \"subunitcolor\": \"white\"}, \"hoverlabel\": {\"align\": \"left\"}, \"hovermode\": \"closest\", \"mapbox\": {\"style\": \"light\"}, \"paper_bgcolor\": \"white\", \"plot_bgcolor\": \"#E5ECF6\", \"polar\": {\"angularaxis\": {\"gridcolor\": \"white\", \"linecolor\": \"white\", \"ticks\": \"\"}, \"bgcolor\": \"#E5ECF6\", \"radialaxis\": {\"gridcolor\": \"white\", \"linecolor\": \"white\", \"ticks\": \"\"}}, \"scene\": {\"xaxis\": {\"backgroundcolor\": \"#E5ECF6\", \"gridcolor\": \"white\", \"gridwidth\": 2, \"linecolor\": \"white\", \"showbackground\": true, \"ticks\": \"\", \"zerolinecolor\": \"white\"}, \"yaxis\": {\"backgroundcolor\": \"#E5ECF6\", \"gridcolor\": \"white\", \"gridwidth\": 2, \"linecolor\": \"white\", \"showbackground\": true, \"ticks\": \"\", \"zerolinecolor\": \"white\"}, \"zaxis\": {\"backgroundcolor\": \"#E5ECF6\", \"gridcolor\": \"white\", \"gridwidth\": 2, \"linecolor\": \"white\", \"showbackground\": true, \"ticks\": \"\", \"zerolinecolor\": \"white\"}}, \"shapedefaults\": {\"line\": {\"color\": \"#2a3f5f\"}}, \"ternary\": {\"aaxis\": {\"gridcolor\": \"white\", \"linecolor\": \"white\", \"ticks\": \"\"}, \"baxis\": {\"gridcolor\": \"white\", \"linecolor\": \"white\", \"ticks\": \"\"}, \"bgcolor\": \"#E5ECF6\", \"caxis\": {\"gridcolor\": \"white\", \"linecolor\": \"white\", \"ticks\": \"\"}}, \"title\": {\"x\": 0.05}, \"xaxis\": {\"automargin\": true, \"gridcolor\": \"white\", \"linecolor\": \"white\", \"ticks\": \"\", \"title\": {\"standoff\": 15}, \"zerolinecolor\": \"white\", \"zerolinewidth\": 2}, \"yaxis\": {\"automargin\": true, \"gridcolor\": \"white\", \"linecolor\": \"white\", \"ticks\": \"\", \"title\": {\"standoff\": 15}, \"zerolinecolor\": \"white\", \"zerolinewidth\": 2}}}},                        {\"responsive\": true}                    ).then(function(){\n",
       "                            \n",
       "var gd = document.getElementById('0ceab08e-8702-4d57-9ddb-b2fefd022692');\n",
       "var x = new MutationObserver(function (mutations, observer) {{\n",
       "        var display = window.getComputedStyle(gd).display;\n",
       "        if (!display || display === 'none') {{\n",
       "            console.log([gd, 'removed!']);\n",
       "            Plotly.purge(gd);\n",
       "            observer.disconnect();\n",
       "        }}\n",
       "}});\n",
       "\n",
       "// Listen for the removal of the full notebook cells\n",
       "var notebookContainer = gd.closest('#notebook-container');\n",
       "if (notebookContainer) {{\n",
       "    x.observe(notebookContainer, {childList: true});\n",
       "}}\n",
       "\n",
       "// Listen for the clearing of the current output cell\n",
       "var outputEl = gd.closest('.output');\n",
       "if (outputEl) {{\n",
       "    x.observe(outputEl, {childList: true});\n",
       "}}\n",
       "\n",
       "                        })                };                });            </script>        </div>"
      ]
     },
     "metadata": {},
     "output_type": "display_data"
    }
   ],
   "source": [
    "data = go.Table(\n",
    "                header=dict(values=d),\n",
    "                cells=dict(values=[apart_f.index,apart_f.iloc[:,7],apart_f.iloc[:,8],apart_f.iloc[:,9],apart_f.iloc[:,10],apart_f.iloc[:,11],apart_f.iloc[:,12],apart_f.iloc[:,13]])\n",
    ")\n",
    "fig = go.Figure(data)\n",
    "fig.show()"
   ]
  },
  {
   "cell_type": "markdown",
   "metadata": {},
   "source": [
    "# 상관분석"
   ]
  },
  {
   "cell_type": "code",
   "execution_count": 587,
   "metadata": {},
   "outputs": [
    {
     "data": {
      "text/html": [
       "<div>\n",
       "<style scoped>\n",
       "    .dataframe tbody tr th:only-of-type {\n",
       "        vertical-align: middle;\n",
       "    }\n",
       "\n",
       "    .dataframe tbody tr th {\n",
       "        vertical-align: top;\n",
       "    }\n",
       "\n",
       "    .dataframe thead th {\n",
       "        text-align: right;\n",
       "    }\n",
       "</style>\n",
       "<table border=\"1\" class=\"dataframe\">\n",
       "  <thead>\n",
       "    <tr style=\"text-align: right;\">\n",
       "      <th>지 역</th>\n",
       "      <th>서울</th>\n",
       "      <th>경기</th>\n",
       "      <th>인천</th>\n",
       "      <th>부산</th>\n",
       "      <th>대구</th>\n",
       "      <th>광주</th>\n",
       "      <th>대전</th>\n",
       "      <th>울산</th>\n",
       "      <th>세종</th>\n",
       "      <th>강원</th>\n",
       "      <th>충북</th>\n",
       "      <th>충남</th>\n",
       "      <th>전북</th>\n",
       "      <th>전남</th>\n",
       "      <th>경북</th>\n",
       "      <th>경남</th>\n",
       "      <th>제주</th>\n",
       "    </tr>\n",
       "    <tr>\n",
       "      <th>지 역</th>\n",
       "      <th></th>\n",
       "      <th></th>\n",
       "      <th></th>\n",
       "      <th></th>\n",
       "      <th></th>\n",
       "      <th></th>\n",
       "      <th></th>\n",
       "      <th></th>\n",
       "      <th></th>\n",
       "      <th></th>\n",
       "      <th></th>\n",
       "      <th></th>\n",
       "      <th></th>\n",
       "      <th></th>\n",
       "      <th></th>\n",
       "      <th></th>\n",
       "      <th></th>\n",
       "    </tr>\n",
       "  </thead>\n",
       "  <tbody>\n",
       "    <tr>\n",
       "      <th>서울</th>\n",
       "      <td>1.000000</td>\n",
       "      <td>0.272608</td>\n",
       "      <td>0.013668</td>\n",
       "      <td>0.170774</td>\n",
       "      <td>0.279894</td>\n",
       "      <td>0.394336</td>\n",
       "      <td>-0.217388</td>\n",
       "      <td>0.013229</td>\n",
       "      <td>-0.045324</td>\n",
       "      <td>0.232429</td>\n",
       "      <td>0.061352</td>\n",
       "      <td>-0.007058</td>\n",
       "      <td>0.234400</td>\n",
       "      <td>0.203735</td>\n",
       "      <td>0.115732</td>\n",
       "      <td>-0.019326</td>\n",
       "      <td>0.126145</td>\n",
       "    </tr>\n",
       "    <tr>\n",
       "      <th>경기</th>\n",
       "      <td>0.272608</td>\n",
       "      <td>1.000000</td>\n",
       "      <td>0.774746</td>\n",
       "      <td>0.528743</td>\n",
       "      <td>0.562724</td>\n",
       "      <td>0.399179</td>\n",
       "      <td>0.559539</td>\n",
       "      <td>0.645234</td>\n",
       "      <td>0.526304</td>\n",
       "      <td>0.444465</td>\n",
       "      <td>0.641899</td>\n",
       "      <td>0.671561</td>\n",
       "      <td>0.593542</td>\n",
       "      <td>0.034734</td>\n",
       "      <td>0.616290</td>\n",
       "      <td>0.634139</td>\n",
       "      <td>0.062384</td>\n",
       "    </tr>\n",
       "    <tr>\n",
       "      <th>인천</th>\n",
       "      <td>0.013668</td>\n",
       "      <td>0.774746</td>\n",
       "      <td>1.000000</td>\n",
       "      <td>0.366589</td>\n",
       "      <td>0.347140</td>\n",
       "      <td>0.263093</td>\n",
       "      <td>0.485044</td>\n",
       "      <td>0.520145</td>\n",
       "      <td>0.307291</td>\n",
       "      <td>0.384256</td>\n",
       "      <td>0.578186</td>\n",
       "      <td>0.469429</td>\n",
       "      <td>0.437462</td>\n",
       "      <td>-0.028656</td>\n",
       "      <td>0.465654</td>\n",
       "      <td>0.548583</td>\n",
       "      <td>0.064762</td>\n",
       "    </tr>\n",
       "    <tr>\n",
       "      <th>부산</th>\n",
       "      <td>0.170774</td>\n",
       "      <td>0.528743</td>\n",
       "      <td>0.366589</td>\n",
       "      <td>1.000000</td>\n",
       "      <td>0.506211</td>\n",
       "      <td>0.357277</td>\n",
       "      <td>0.195678</td>\n",
       "      <td>0.817042</td>\n",
       "      <td>0.195392</td>\n",
       "      <td>0.673488</td>\n",
       "      <td>0.504613</td>\n",
       "      <td>0.637445</td>\n",
       "      <td>0.696027</td>\n",
       "      <td>0.250590</td>\n",
       "      <td>0.645036</td>\n",
       "      <td>0.805188</td>\n",
       "      <td>0.286664</td>\n",
       "    </tr>\n",
       "    <tr>\n",
       "      <th>대구</th>\n",
       "      <td>0.279894</td>\n",
       "      <td>0.562724</td>\n",
       "      <td>0.347140</td>\n",
       "      <td>0.506211</td>\n",
       "      <td>1.000000</td>\n",
       "      <td>0.690020</td>\n",
       "      <td>0.249282</td>\n",
       "      <td>0.508493</td>\n",
       "      <td>0.139930</td>\n",
       "      <td>0.279458</td>\n",
       "      <td>0.397304</td>\n",
       "      <td>0.616393</td>\n",
       "      <td>0.521942</td>\n",
       "      <td>0.133399</td>\n",
       "      <td>0.702729</td>\n",
       "      <td>0.483359</td>\n",
       "      <td>0.136225</td>\n",
       "    </tr>\n",
       "    <tr>\n",
       "      <th>광주</th>\n",
       "      <td>0.394336</td>\n",
       "      <td>0.399179</td>\n",
       "      <td>0.263093</td>\n",
       "      <td>0.357277</td>\n",
       "      <td>0.690020</td>\n",
       "      <td>1.000000</td>\n",
       "      <td>-0.094991</td>\n",
       "      <td>0.265109</td>\n",
       "      <td>-0.105951</td>\n",
       "      <td>0.229531</td>\n",
       "      <td>0.234440</td>\n",
       "      <td>0.298944</td>\n",
       "      <td>0.352102</td>\n",
       "      <td>0.095016</td>\n",
       "      <td>0.519559</td>\n",
       "      <td>0.317186</td>\n",
       "      <td>0.285638</td>\n",
       "    </tr>\n",
       "    <tr>\n",
       "      <th>대전</th>\n",
       "      <td>-0.217388</td>\n",
       "      <td>0.559539</td>\n",
       "      <td>0.485044</td>\n",
       "      <td>0.195678</td>\n",
       "      <td>0.249282</td>\n",
       "      <td>-0.094991</td>\n",
       "      <td>1.000000</td>\n",
       "      <td>0.402561</td>\n",
       "      <td>0.450170</td>\n",
       "      <td>-0.035085</td>\n",
       "      <td>0.447752</td>\n",
       "      <td>0.504500</td>\n",
       "      <td>0.190763</td>\n",
       "      <td>-0.009549</td>\n",
       "      <td>0.185295</td>\n",
       "      <td>0.284758</td>\n",
       "      <td>-0.329683</td>\n",
       "    </tr>\n",
       "    <tr>\n",
       "      <th>울산</th>\n",
       "      <td>0.013229</td>\n",
       "      <td>0.645234</td>\n",
       "      <td>0.520145</td>\n",
       "      <td>0.817042</td>\n",
       "      <td>0.508493</td>\n",
       "      <td>0.265109</td>\n",
       "      <td>0.402561</td>\n",
       "      <td>1.000000</td>\n",
       "      <td>0.268831</td>\n",
       "      <td>0.590099</td>\n",
       "      <td>0.635292</td>\n",
       "      <td>0.762813</td>\n",
       "      <td>0.616703</td>\n",
       "      <td>0.046093</td>\n",
       "      <td>0.737006</td>\n",
       "      <td>0.895682</td>\n",
       "      <td>0.286093</td>\n",
       "    </tr>\n",
       "    <tr>\n",
       "      <th>세종</th>\n",
       "      <td>-0.045324</td>\n",
       "      <td>0.526304</td>\n",
       "      <td>0.307291</td>\n",
       "      <td>0.195392</td>\n",
       "      <td>0.139930</td>\n",
       "      <td>-0.105951</td>\n",
       "      <td>0.450170</td>\n",
       "      <td>0.268831</td>\n",
       "      <td>1.000000</td>\n",
       "      <td>0.215482</td>\n",
       "      <td>0.348794</td>\n",
       "      <td>0.467288</td>\n",
       "      <td>0.275819</td>\n",
       "      <td>0.063011</td>\n",
       "      <td>0.292447</td>\n",
       "      <td>0.295775</td>\n",
       "      <td>-0.158420</td>\n",
       "    </tr>\n",
       "    <tr>\n",
       "      <th>강원</th>\n",
       "      <td>0.232429</td>\n",
       "      <td>0.444465</td>\n",
       "      <td>0.384256</td>\n",
       "      <td>0.673488</td>\n",
       "      <td>0.279458</td>\n",
       "      <td>0.229531</td>\n",
       "      <td>-0.035085</td>\n",
       "      <td>0.590099</td>\n",
       "      <td>0.215482</td>\n",
       "      <td>1.000000</td>\n",
       "      <td>0.526895</td>\n",
       "      <td>0.440044</td>\n",
       "      <td>0.697102</td>\n",
       "      <td>0.229934</td>\n",
       "      <td>0.524467</td>\n",
       "      <td>0.655418</td>\n",
       "      <td>0.363802</td>\n",
       "    </tr>\n",
       "    <tr>\n",
       "      <th>충북</th>\n",
       "      <td>0.061352</td>\n",
       "      <td>0.641899</td>\n",
       "      <td>0.578186</td>\n",
       "      <td>0.504613</td>\n",
       "      <td>0.397304</td>\n",
       "      <td>0.234440</td>\n",
       "      <td>0.447752</td>\n",
       "      <td>0.635292</td>\n",
       "      <td>0.348794</td>\n",
       "      <td>0.526895</td>\n",
       "      <td>1.000000</td>\n",
       "      <td>0.623375</td>\n",
       "      <td>0.536935</td>\n",
       "      <td>-0.056539</td>\n",
       "      <td>0.580993</td>\n",
       "      <td>0.657092</td>\n",
       "      <td>0.174774</td>\n",
       "    </tr>\n",
       "    <tr>\n",
       "      <th>충남</th>\n",
       "      <td>-0.007058</td>\n",
       "      <td>0.671561</td>\n",
       "      <td>0.469429</td>\n",
       "      <td>0.637445</td>\n",
       "      <td>0.616393</td>\n",
       "      <td>0.298944</td>\n",
       "      <td>0.504500</td>\n",
       "      <td>0.762813</td>\n",
       "      <td>0.467288</td>\n",
       "      <td>0.440044</td>\n",
       "      <td>0.623375</td>\n",
       "      <td>1.000000</td>\n",
       "      <td>0.562262</td>\n",
       "      <td>-0.012187</td>\n",
       "      <td>0.750188</td>\n",
       "      <td>0.755620</td>\n",
       "      <td>0.103785</td>\n",
       "    </tr>\n",
       "    <tr>\n",
       "      <th>전북</th>\n",
       "      <td>0.234400</td>\n",
       "      <td>0.593542</td>\n",
       "      <td>0.437462</td>\n",
       "      <td>0.696027</td>\n",
       "      <td>0.521942</td>\n",
       "      <td>0.352102</td>\n",
       "      <td>0.190763</td>\n",
       "      <td>0.616703</td>\n",
       "      <td>0.275819</td>\n",
       "      <td>0.697102</td>\n",
       "      <td>0.536935</td>\n",
       "      <td>0.562262</td>\n",
       "      <td>1.000000</td>\n",
       "      <td>0.344231</td>\n",
       "      <td>0.522598</td>\n",
       "      <td>0.609248</td>\n",
       "      <td>0.198025</td>\n",
       "    </tr>\n",
       "    <tr>\n",
       "      <th>전남</th>\n",
       "      <td>0.203735</td>\n",
       "      <td>0.034734</td>\n",
       "      <td>-0.028656</td>\n",
       "      <td>0.250590</td>\n",
       "      <td>0.133399</td>\n",
       "      <td>0.095016</td>\n",
       "      <td>-0.009549</td>\n",
       "      <td>0.046093</td>\n",
       "      <td>0.063011</td>\n",
       "      <td>0.229934</td>\n",
       "      <td>-0.056539</td>\n",
       "      <td>-0.012187</td>\n",
       "      <td>0.344231</td>\n",
       "      <td>1.000000</td>\n",
       "      <td>-0.089071</td>\n",
       "      <td>-0.011544</td>\n",
       "      <td>0.002730</td>\n",
       "    </tr>\n",
       "    <tr>\n",
       "      <th>경북</th>\n",
       "      <td>0.115732</td>\n",
       "      <td>0.616290</td>\n",
       "      <td>0.465654</td>\n",
       "      <td>0.645036</td>\n",
       "      <td>0.702729</td>\n",
       "      <td>0.519559</td>\n",
       "      <td>0.185295</td>\n",
       "      <td>0.737006</td>\n",
       "      <td>0.292447</td>\n",
       "      <td>0.524467</td>\n",
       "      <td>0.580993</td>\n",
       "      <td>0.750188</td>\n",
       "      <td>0.522598</td>\n",
       "      <td>-0.089071</td>\n",
       "      <td>1.000000</td>\n",
       "      <td>0.786937</td>\n",
       "      <td>0.363620</td>\n",
       "    </tr>\n",
       "    <tr>\n",
       "      <th>경남</th>\n",
       "      <td>-0.019326</td>\n",
       "      <td>0.634139</td>\n",
       "      <td>0.548583</td>\n",
       "      <td>0.805188</td>\n",
       "      <td>0.483359</td>\n",
       "      <td>0.317186</td>\n",
       "      <td>0.284758</td>\n",
       "      <td>0.895682</td>\n",
       "      <td>0.295775</td>\n",
       "      <td>0.655418</td>\n",
       "      <td>0.657092</td>\n",
       "      <td>0.755620</td>\n",
       "      <td>0.609248</td>\n",
       "      <td>-0.011544</td>\n",
       "      <td>0.786937</td>\n",
       "      <td>1.000000</td>\n",
       "      <td>0.381141</td>\n",
       "    </tr>\n",
       "    <tr>\n",
       "      <th>제주</th>\n",
       "      <td>0.126145</td>\n",
       "      <td>0.062384</td>\n",
       "      <td>0.064762</td>\n",
       "      <td>0.286664</td>\n",
       "      <td>0.136225</td>\n",
       "      <td>0.285638</td>\n",
       "      <td>-0.329683</td>\n",
       "      <td>0.286093</td>\n",
       "      <td>-0.158420</td>\n",
       "      <td>0.363802</td>\n",
       "      <td>0.174774</td>\n",
       "      <td>0.103785</td>\n",
       "      <td>0.198025</td>\n",
       "      <td>0.002730</td>\n",
       "      <td>0.363620</td>\n",
       "      <td>0.381141</td>\n",
       "      <td>1.000000</td>\n",
       "    </tr>\n",
       "  </tbody>\n",
       "</table>\n",
       "</div>"
      ],
      "text/plain": [
       "지 역        서울        경기        인천        부산        대구        광주        대전  \\\n",
       "지 역                                                                         \n",
       "서울   1.000000  0.272608  0.013668  0.170774  0.279894  0.394336 -0.217388   \n",
       "경기   0.272608  1.000000  0.774746  0.528743  0.562724  0.399179  0.559539   \n",
       "인천   0.013668  0.774746  1.000000  0.366589  0.347140  0.263093  0.485044   \n",
       "부산   0.170774  0.528743  0.366589  1.000000  0.506211  0.357277  0.195678   \n",
       "대구   0.279894  0.562724  0.347140  0.506211  1.000000  0.690020  0.249282   \n",
       "광주   0.394336  0.399179  0.263093  0.357277  0.690020  1.000000 -0.094991   \n",
       "대전  -0.217388  0.559539  0.485044  0.195678  0.249282 -0.094991  1.000000   \n",
       "울산   0.013229  0.645234  0.520145  0.817042  0.508493  0.265109  0.402561   \n",
       "세종  -0.045324  0.526304  0.307291  0.195392  0.139930 -0.105951  0.450170   \n",
       "강원   0.232429  0.444465  0.384256  0.673488  0.279458  0.229531 -0.035085   \n",
       "충북   0.061352  0.641899  0.578186  0.504613  0.397304  0.234440  0.447752   \n",
       "충남  -0.007058  0.671561  0.469429  0.637445  0.616393  0.298944  0.504500   \n",
       "전북   0.234400  0.593542  0.437462  0.696027  0.521942  0.352102  0.190763   \n",
       "전남   0.203735  0.034734 -0.028656  0.250590  0.133399  0.095016 -0.009549   \n",
       "경북   0.115732  0.616290  0.465654  0.645036  0.702729  0.519559  0.185295   \n",
       "경남  -0.019326  0.634139  0.548583  0.805188  0.483359  0.317186  0.284758   \n",
       "제주   0.126145  0.062384  0.064762  0.286664  0.136225  0.285638 -0.329683   \n",
       "\n",
       "지 역        울산        세종        강원        충북        충남        전북        전남  \\\n",
       "지 역                                                                         \n",
       "서울   0.013229 -0.045324  0.232429  0.061352 -0.007058  0.234400  0.203735   \n",
       "경기   0.645234  0.526304  0.444465  0.641899  0.671561  0.593542  0.034734   \n",
       "인천   0.520145  0.307291  0.384256  0.578186  0.469429  0.437462 -0.028656   \n",
       "부산   0.817042  0.195392  0.673488  0.504613  0.637445  0.696027  0.250590   \n",
       "대구   0.508493  0.139930  0.279458  0.397304  0.616393  0.521942  0.133399   \n",
       "광주   0.265109 -0.105951  0.229531  0.234440  0.298944  0.352102  0.095016   \n",
       "대전   0.402561  0.450170 -0.035085  0.447752  0.504500  0.190763 -0.009549   \n",
       "울산   1.000000  0.268831  0.590099  0.635292  0.762813  0.616703  0.046093   \n",
       "세종   0.268831  1.000000  0.215482  0.348794  0.467288  0.275819  0.063011   \n",
       "강원   0.590099  0.215482  1.000000  0.526895  0.440044  0.697102  0.229934   \n",
       "충북   0.635292  0.348794  0.526895  1.000000  0.623375  0.536935 -0.056539   \n",
       "충남   0.762813  0.467288  0.440044  0.623375  1.000000  0.562262 -0.012187   \n",
       "전북   0.616703  0.275819  0.697102  0.536935  0.562262  1.000000  0.344231   \n",
       "전남   0.046093  0.063011  0.229934 -0.056539 -0.012187  0.344231  1.000000   \n",
       "경북   0.737006  0.292447  0.524467  0.580993  0.750188  0.522598 -0.089071   \n",
       "경남   0.895682  0.295775  0.655418  0.657092  0.755620  0.609248 -0.011544   \n",
       "제주   0.286093 -0.158420  0.363802  0.174774  0.103785  0.198025  0.002730   \n",
       "\n",
       "지 역        경북        경남        제주  \n",
       "지 역                                \n",
       "서울   0.115732 -0.019326  0.126145  \n",
       "경기   0.616290  0.634139  0.062384  \n",
       "인천   0.465654  0.548583  0.064762  \n",
       "부산   0.645036  0.805188  0.286664  \n",
       "대구   0.702729  0.483359  0.136225  \n",
       "광주   0.519559  0.317186  0.285638  \n",
       "대전   0.185295  0.284758 -0.329683  \n",
       "울산   0.737006  0.895682  0.286093  \n",
       "세종   0.292447  0.295775 -0.158420  \n",
       "강원   0.524467  0.655418  0.363802  \n",
       "충북   0.580993  0.657092  0.174774  \n",
       "충남   0.750188  0.755620  0.103785  \n",
       "전북   0.522598  0.609248  0.198025  \n",
       "전남  -0.089071 -0.011544  0.002730  \n",
       "경북   1.000000  0.786937  0.363620  \n",
       "경남   0.786937  1.000000  0.381141  \n",
       "제주   0.363620  0.381141  1.000000  "
      ]
     },
     "execution_count": 587,
     "metadata": {},
     "output_type": "execute_result"
    }
   ],
   "source": [
    "apart_f.iloc[:,7:].corr(method = 'pearson')"
   ]
  },
  {
   "cell_type": "code",
   "execution_count": 582,
   "metadata": {
    "scrolled": true
   },
   "outputs": [
    {
     "data": {
      "application/vnd.plotly.v1+json": {
       "config": {
        "plotlyServerURL": "https://plot.ly"
       },
       "data": [
        {
         "coloraxis": "coloraxis",
         "hovertemplate": "지 역: %{x}<br>지 역: %{y}<br>color: %{z}<extra></extra>",
         "name": "0",
         "type": "heatmap",
         "x": [
          "서울",
          "경기",
          "인천",
          "부산",
          "대구",
          "광주",
          "대전",
          "울산",
          "세종",
          "강원",
          "충북",
          "충남",
          "전북",
          "전남",
          "경북",
          "경남",
          "제주"
         ],
         "xaxis": "x",
         "y": [
          "서울",
          "경기",
          "인천",
          "부산",
          "대구",
          "광주",
          "대전",
          "울산",
          "세종",
          "강원",
          "충북",
          "충남",
          "전북",
          "전남",
          "경북",
          "경남",
          "제주"
         ],
         "yaxis": "y",
         "z": [
          [
           1,
           0.2726075420476592,
           0.013667630502762667,
           0.17077351849703656,
           0.27989356461414133,
           0.39433601079287867,
           -0.2173882350452682,
           0.013229468864343273,
           -0.0453244678805741,
           0.2324294764786436,
           0.06135195618352306,
           -0.007057980813958792,
           0.2343998005178307,
           0.20373509455936564,
           0.11573234129275083,
           -0.019325933215064248,
           0.12614505115731006
          ],
          [
           0.2726075420476592,
           1,
           0.7747462666819275,
           0.5287430010553278,
           0.5627241745887213,
           0.3991785964742467,
           0.5595388039940944,
           0.6452343502380642,
           0.5263039009425181,
           0.44446544378983055,
           0.6418987374340401,
           0.6715606209685271,
           0.5935422901620575,
           0.03473439735800744,
           0.6162899766557043,
           0.6341387069478335,
           0.06238383043405872
          ],
          [
           0.013667630502762667,
           0.7747462666819275,
           1,
           0.3665893113582749,
           0.3471402779418949,
           0.26309331090784566,
           0.4850439180546315,
           0.5201447330574615,
           0.3072909356119122,
           0.3842558044550186,
           0.578185977414526,
           0.46942856757528567,
           0.4374622540345654,
           -0.02865601483547705,
           0.465653917498913,
           0.5485831793836002,
           0.06476225020439542
          ],
          [
           0.17077351849703656,
           0.5287430010553278,
           0.3665893113582749,
           1,
           0.506211320989984,
           0.3572768716150445,
           0.1956782143640946,
           0.8170415984036197,
           0.1953915151691083,
           0.6734879364831385,
           0.5046133439509795,
           0.6374452126243622,
           0.6960269813840244,
           0.2505902161875822,
           0.6450364369576163,
           0.8051882792544943,
           0.2866642263829753
          ],
          [
           0.27989356461414133,
           0.5627241745887213,
           0.3471402779418949,
           0.506211320989984,
           1,
           0.6900195901989372,
           0.24928245455502965,
           0.508493205936004,
           0.13993023291696546,
           0.2794580828566152,
           0.3973040181629505,
           0.6163931907664488,
           0.5219416482730587,
           0.13339888089292826,
           0.702729158005323,
           0.48335921458274367,
           0.13622532994469272
          ],
          [
           0.39433601079287867,
           0.3991785964742467,
           0.26309331090784566,
           0.3572768716150445,
           0.6900195901989372,
           1,
           -0.09499117934556017,
           0.2651086539115592,
           -0.10595051585643107,
           0.2295308634175265,
           0.23443965021922958,
           0.29894406188013306,
           0.3521022475008173,
           0.09501607541202392,
           0.5195585595080764,
           0.31718649213708955,
           0.2856376605650382
          ],
          [
           -0.2173882350452682,
           0.5595388039940944,
           0.4850439180546315,
           0.1956782143640946,
           0.24928245455502965,
           -0.09499117934556017,
           1,
           0.40256083074092486,
           0.45017044535789646,
           -0.03508478356766053,
           0.44775175522034827,
           0.504499854898604,
           0.19076270673077322,
           -0.009549340250953624,
           0.18529456264996907,
           0.2847581124364767,
           -0.3296829172943949
          ],
          [
           0.013229468864343273,
           0.6452343502380642,
           0.5201447330574615,
           0.8170415984036197,
           0.508493205936004,
           0.2651086539115592,
           0.40256083074092486,
           1,
           0.2688310955642195,
           0.5900985905870628,
           0.6352918297393668,
           0.7628127398860157,
           0.6167027644149997,
           0.04609329359865782,
           0.737006007291619,
           0.895681851553016,
           0.2860927140951612
          ],
          [
           -0.0453244678805741,
           0.5263039009425181,
           0.3072909356119122,
           0.1953915151691083,
           0.13993023291696546,
           -0.10595051585643107,
           0.45017044535789646,
           0.2688310955642195,
           1,
           0.21548182223531692,
           0.3487938781633325,
           0.46728828951487633,
           0.2758191802419416,
           0.06301072910411695,
           0.2924467340761049,
           0.29577544034952835,
           -0.15841951798240786
          ],
          [
           0.2324294764786436,
           0.44446544378983055,
           0.3842558044550186,
           0.6734879364831385,
           0.2794580828566152,
           0.2295308634175265,
           -0.03508478356766053,
           0.5900985905870628,
           0.21548182223531692,
           1,
           0.5268954682172584,
           0.4400438370911604,
           0.6971017297305336,
           0.22993377242111862,
           0.5244666402440995,
           0.6554181385150412,
           0.3638018030451332
          ],
          [
           0.06135195618352306,
           0.6418987374340401,
           0.578185977414526,
           0.5046133439509795,
           0.3973040181629505,
           0.23443965021922958,
           0.44775175522034827,
           0.6352918297393668,
           0.3487938781633325,
           0.5268954682172584,
           1,
           0.6233752872162124,
           0.5369354025184627,
           -0.05653904083538144,
           0.5809928177587845,
           0.6570915533002138,
           0.1747735767134274
          ],
          [
           -0.007057980813958792,
           0.6715606209685271,
           0.46942856757528567,
           0.6374452126243622,
           0.6163931907664488,
           0.29894406188013306,
           0.504499854898604,
           0.7628127398860157,
           0.46728828951487633,
           0.4400438370911604,
           0.6233752872162124,
           1,
           0.5622624721196597,
           -0.012186767857352008,
           0.7501875270981158,
           0.7556197857309963,
           0.10378510071414568
          ],
          [
           0.2343998005178307,
           0.5935422901620575,
           0.4374622540345654,
           0.6960269813840244,
           0.5219416482730587,
           0.3521022475008173,
           0.19076270673077322,
           0.6167027644149997,
           0.2758191802419416,
           0.6971017297305336,
           0.5369354025184627,
           0.5622624721196597,
           1,
           0.3442307547641174,
           0.5225978542980638,
           0.6092484342762007,
           0.1980246013872006
          ],
          [
           0.20373509455936564,
           0.03473439735800744,
           -0.02865601483547705,
           0.2505902161875822,
           0.13339888089292826,
           0.09501607541202392,
           -0.009549340250953624,
           0.04609329359865782,
           0.06301072910411695,
           0.22993377242111862,
           -0.05653904083538144,
           -0.012186767857352008,
           0.3442307547641174,
           1,
           -0.08907121967357053,
           -0.011543986063889476,
           0.0027295149843678613
          ],
          [
           0.11573234129275083,
           0.6162899766557043,
           0.465653917498913,
           0.6450364369576163,
           0.702729158005323,
           0.5195585595080764,
           0.18529456264996907,
           0.737006007291619,
           0.2924467340761049,
           0.5244666402440995,
           0.5809928177587845,
           0.7501875270981158,
           0.5225978542980638,
           -0.08907121967357053,
           1,
           0.7869367876661514,
           0.363619676014646
          ],
          [
           -0.019325933215064248,
           0.6341387069478335,
           0.5485831793836002,
           0.8051882792544943,
           0.48335921458274367,
           0.31718649213708955,
           0.2847581124364767,
           0.895681851553016,
           0.29577544034952835,
           0.6554181385150412,
           0.6570915533002138,
           0.7556197857309963,
           0.6092484342762007,
           -0.011543986063889476,
           0.7869367876661514,
           1,
           0.38114120553309144
          ],
          [
           0.12614505115731006,
           0.06238383043405872,
           0.06476225020439542,
           0.2866642263829753,
           0.13622532994469272,
           0.2856376605650382,
           -0.3296829172943949,
           0.2860927140951612,
           -0.15841951798240786,
           0.3638018030451332,
           0.1747735767134274,
           0.10378510071414568,
           0.1980246013872006,
           0.0027295149843678613,
           0.363619676014646,
           0.38114120553309144,
           1
          ]
         ]
        }
       ],
       "layout": {
        "coloraxis": {
         "colorscale": [
          [
           0,
           "#0d0887"
          ],
          [
           0.1111111111111111,
           "#46039f"
          ],
          [
           0.2222222222222222,
           "#7201a8"
          ],
          [
           0.3333333333333333,
           "#9c179e"
          ],
          [
           0.4444444444444444,
           "#bd3786"
          ],
          [
           0.5555555555555556,
           "#d8576b"
          ],
          [
           0.6666666666666666,
           "#ed7953"
          ],
          [
           0.7777777777777778,
           "#fb9f3a"
          ],
          [
           0.8888888888888888,
           "#fdca26"
          ],
          [
           1,
           "#f0f921"
          ]
         ]
        },
        "margin": {
         "t": 60
        },
        "template": {
         "data": {
          "bar": [
           {
            "error_x": {
             "color": "#2a3f5f"
            },
            "error_y": {
             "color": "#2a3f5f"
            },
            "marker": {
             "line": {
              "color": "#E5ECF6",
              "width": 0.5
             }
            },
            "type": "bar"
           }
          ],
          "barpolar": [
           {
            "marker": {
             "line": {
              "color": "#E5ECF6",
              "width": 0.5
             }
            },
            "type": "barpolar"
           }
          ],
          "carpet": [
           {
            "aaxis": {
             "endlinecolor": "#2a3f5f",
             "gridcolor": "white",
             "linecolor": "white",
             "minorgridcolor": "white",
             "startlinecolor": "#2a3f5f"
            },
            "baxis": {
             "endlinecolor": "#2a3f5f",
             "gridcolor": "white",
             "linecolor": "white",
             "minorgridcolor": "white",
             "startlinecolor": "#2a3f5f"
            },
            "type": "carpet"
           }
          ],
          "choropleth": [
           {
            "colorbar": {
             "outlinewidth": 0,
             "ticks": ""
            },
            "type": "choropleth"
           }
          ],
          "contour": [
           {
            "colorbar": {
             "outlinewidth": 0,
             "ticks": ""
            },
            "colorscale": [
             [
              0,
              "#0d0887"
             ],
             [
              0.1111111111111111,
              "#46039f"
             ],
             [
              0.2222222222222222,
              "#7201a8"
             ],
             [
              0.3333333333333333,
              "#9c179e"
             ],
             [
              0.4444444444444444,
              "#bd3786"
             ],
             [
              0.5555555555555556,
              "#d8576b"
             ],
             [
              0.6666666666666666,
              "#ed7953"
             ],
             [
              0.7777777777777778,
              "#fb9f3a"
             ],
             [
              0.8888888888888888,
              "#fdca26"
             ],
             [
              1,
              "#f0f921"
             ]
            ],
            "type": "contour"
           }
          ],
          "contourcarpet": [
           {
            "colorbar": {
             "outlinewidth": 0,
             "ticks": ""
            },
            "type": "contourcarpet"
           }
          ],
          "heatmap": [
           {
            "colorbar": {
             "outlinewidth": 0,
             "ticks": ""
            },
            "colorscale": [
             [
              0,
              "#0d0887"
             ],
             [
              0.1111111111111111,
              "#46039f"
             ],
             [
              0.2222222222222222,
              "#7201a8"
             ],
             [
              0.3333333333333333,
              "#9c179e"
             ],
             [
              0.4444444444444444,
              "#bd3786"
             ],
             [
              0.5555555555555556,
              "#d8576b"
             ],
             [
              0.6666666666666666,
              "#ed7953"
             ],
             [
              0.7777777777777778,
              "#fb9f3a"
             ],
             [
              0.8888888888888888,
              "#fdca26"
             ],
             [
              1,
              "#f0f921"
             ]
            ],
            "type": "heatmap"
           }
          ],
          "heatmapgl": [
           {
            "colorbar": {
             "outlinewidth": 0,
             "ticks": ""
            },
            "colorscale": [
             [
              0,
              "#0d0887"
             ],
             [
              0.1111111111111111,
              "#46039f"
             ],
             [
              0.2222222222222222,
              "#7201a8"
             ],
             [
              0.3333333333333333,
              "#9c179e"
             ],
             [
              0.4444444444444444,
              "#bd3786"
             ],
             [
              0.5555555555555556,
              "#d8576b"
             ],
             [
              0.6666666666666666,
              "#ed7953"
             ],
             [
              0.7777777777777778,
              "#fb9f3a"
             ],
             [
              0.8888888888888888,
              "#fdca26"
             ],
             [
              1,
              "#f0f921"
             ]
            ],
            "type": "heatmapgl"
           }
          ],
          "histogram": [
           {
            "marker": {
             "colorbar": {
              "outlinewidth": 0,
              "ticks": ""
             }
            },
            "type": "histogram"
           }
          ],
          "histogram2d": [
           {
            "colorbar": {
             "outlinewidth": 0,
             "ticks": ""
            },
            "colorscale": [
             [
              0,
              "#0d0887"
             ],
             [
              0.1111111111111111,
              "#46039f"
             ],
             [
              0.2222222222222222,
              "#7201a8"
             ],
             [
              0.3333333333333333,
              "#9c179e"
             ],
             [
              0.4444444444444444,
              "#bd3786"
             ],
             [
              0.5555555555555556,
              "#d8576b"
             ],
             [
              0.6666666666666666,
              "#ed7953"
             ],
             [
              0.7777777777777778,
              "#fb9f3a"
             ],
             [
              0.8888888888888888,
              "#fdca26"
             ],
             [
              1,
              "#f0f921"
             ]
            ],
            "type": "histogram2d"
           }
          ],
          "histogram2dcontour": [
           {
            "colorbar": {
             "outlinewidth": 0,
             "ticks": ""
            },
            "colorscale": [
             [
              0,
              "#0d0887"
             ],
             [
              0.1111111111111111,
              "#46039f"
             ],
             [
              0.2222222222222222,
              "#7201a8"
             ],
             [
              0.3333333333333333,
              "#9c179e"
             ],
             [
              0.4444444444444444,
              "#bd3786"
             ],
             [
              0.5555555555555556,
              "#d8576b"
             ],
             [
              0.6666666666666666,
              "#ed7953"
             ],
             [
              0.7777777777777778,
              "#fb9f3a"
             ],
             [
              0.8888888888888888,
              "#fdca26"
             ],
             [
              1,
              "#f0f921"
             ]
            ],
            "type": "histogram2dcontour"
           }
          ],
          "mesh3d": [
           {
            "colorbar": {
             "outlinewidth": 0,
             "ticks": ""
            },
            "type": "mesh3d"
           }
          ],
          "parcoords": [
           {
            "line": {
             "colorbar": {
              "outlinewidth": 0,
              "ticks": ""
             }
            },
            "type": "parcoords"
           }
          ],
          "pie": [
           {
            "automargin": true,
            "type": "pie"
           }
          ],
          "scatter": [
           {
            "marker": {
             "colorbar": {
              "outlinewidth": 0,
              "ticks": ""
             }
            },
            "type": "scatter"
           }
          ],
          "scatter3d": [
           {
            "line": {
             "colorbar": {
              "outlinewidth": 0,
              "ticks": ""
             }
            },
            "marker": {
             "colorbar": {
              "outlinewidth": 0,
              "ticks": ""
             }
            },
            "type": "scatter3d"
           }
          ],
          "scattercarpet": [
           {
            "marker": {
             "colorbar": {
              "outlinewidth": 0,
              "ticks": ""
             }
            },
            "type": "scattercarpet"
           }
          ],
          "scattergeo": [
           {
            "marker": {
             "colorbar": {
              "outlinewidth": 0,
              "ticks": ""
             }
            },
            "type": "scattergeo"
           }
          ],
          "scattergl": [
           {
            "marker": {
             "colorbar": {
              "outlinewidth": 0,
              "ticks": ""
             }
            },
            "type": "scattergl"
           }
          ],
          "scattermapbox": [
           {
            "marker": {
             "colorbar": {
              "outlinewidth": 0,
              "ticks": ""
             }
            },
            "type": "scattermapbox"
           }
          ],
          "scatterpolar": [
           {
            "marker": {
             "colorbar": {
              "outlinewidth": 0,
              "ticks": ""
             }
            },
            "type": "scatterpolar"
           }
          ],
          "scatterpolargl": [
           {
            "marker": {
             "colorbar": {
              "outlinewidth": 0,
              "ticks": ""
             }
            },
            "type": "scatterpolargl"
           }
          ],
          "scatterternary": [
           {
            "marker": {
             "colorbar": {
              "outlinewidth": 0,
              "ticks": ""
             }
            },
            "type": "scatterternary"
           }
          ],
          "surface": [
           {
            "colorbar": {
             "outlinewidth": 0,
             "ticks": ""
            },
            "colorscale": [
             [
              0,
              "#0d0887"
             ],
             [
              0.1111111111111111,
              "#46039f"
             ],
             [
              0.2222222222222222,
              "#7201a8"
             ],
             [
              0.3333333333333333,
              "#9c179e"
             ],
             [
              0.4444444444444444,
              "#bd3786"
             ],
             [
              0.5555555555555556,
              "#d8576b"
             ],
             [
              0.6666666666666666,
              "#ed7953"
             ],
             [
              0.7777777777777778,
              "#fb9f3a"
             ],
             [
              0.8888888888888888,
              "#fdca26"
             ],
             [
              1,
              "#f0f921"
             ]
            ],
            "type": "surface"
           }
          ],
          "table": [
           {
            "cells": {
             "fill": {
              "color": "#EBF0F8"
             },
             "line": {
              "color": "white"
             }
            },
            "header": {
             "fill": {
              "color": "#C8D4E3"
             },
             "line": {
              "color": "white"
             }
            },
            "type": "table"
           }
          ]
         },
         "layout": {
          "annotationdefaults": {
           "arrowcolor": "#2a3f5f",
           "arrowhead": 0,
           "arrowwidth": 1
          },
          "autotypenumbers": "strict",
          "coloraxis": {
           "colorbar": {
            "outlinewidth": 0,
            "ticks": ""
           }
          },
          "colorscale": {
           "diverging": [
            [
             0,
             "#8e0152"
            ],
            [
             0.1,
             "#c51b7d"
            ],
            [
             0.2,
             "#de77ae"
            ],
            [
             0.3,
             "#f1b6da"
            ],
            [
             0.4,
             "#fde0ef"
            ],
            [
             0.5,
             "#f7f7f7"
            ],
            [
             0.6,
             "#e6f5d0"
            ],
            [
             0.7,
             "#b8e186"
            ],
            [
             0.8,
             "#7fbc41"
            ],
            [
             0.9,
             "#4d9221"
            ],
            [
             1,
             "#276419"
            ]
           ],
           "sequential": [
            [
             0,
             "#0d0887"
            ],
            [
             0.1111111111111111,
             "#46039f"
            ],
            [
             0.2222222222222222,
             "#7201a8"
            ],
            [
             0.3333333333333333,
             "#9c179e"
            ],
            [
             0.4444444444444444,
             "#bd3786"
            ],
            [
             0.5555555555555556,
             "#d8576b"
            ],
            [
             0.6666666666666666,
             "#ed7953"
            ],
            [
             0.7777777777777778,
             "#fb9f3a"
            ],
            [
             0.8888888888888888,
             "#fdca26"
            ],
            [
             1,
             "#f0f921"
            ]
           ],
           "sequentialminus": [
            [
             0,
             "#0d0887"
            ],
            [
             0.1111111111111111,
             "#46039f"
            ],
            [
             0.2222222222222222,
             "#7201a8"
            ],
            [
             0.3333333333333333,
             "#9c179e"
            ],
            [
             0.4444444444444444,
             "#bd3786"
            ],
            [
             0.5555555555555556,
             "#d8576b"
            ],
            [
             0.6666666666666666,
             "#ed7953"
            ],
            [
             0.7777777777777778,
             "#fb9f3a"
            ],
            [
             0.8888888888888888,
             "#fdca26"
            ],
            [
             1,
             "#f0f921"
            ]
           ]
          },
          "colorway": [
           "#636efa",
           "#EF553B",
           "#00cc96",
           "#ab63fa",
           "#FFA15A",
           "#19d3f3",
           "#FF6692",
           "#B6E880",
           "#FF97FF",
           "#FECB52"
          ],
          "font": {
           "color": "#2a3f5f"
          },
          "geo": {
           "bgcolor": "white",
           "lakecolor": "white",
           "landcolor": "#E5ECF6",
           "showlakes": true,
           "showland": true,
           "subunitcolor": "white"
          },
          "hoverlabel": {
           "align": "left"
          },
          "hovermode": "closest",
          "mapbox": {
           "style": "light"
          },
          "paper_bgcolor": "white",
          "plot_bgcolor": "#E5ECF6",
          "polar": {
           "angularaxis": {
            "gridcolor": "white",
            "linecolor": "white",
            "ticks": ""
           },
           "bgcolor": "#E5ECF6",
           "radialaxis": {
            "gridcolor": "white",
            "linecolor": "white",
            "ticks": ""
           }
          },
          "scene": {
           "xaxis": {
            "backgroundcolor": "#E5ECF6",
            "gridcolor": "white",
            "gridwidth": 2,
            "linecolor": "white",
            "showbackground": true,
            "ticks": "",
            "zerolinecolor": "white"
           },
           "yaxis": {
            "backgroundcolor": "#E5ECF6",
            "gridcolor": "white",
            "gridwidth": 2,
            "linecolor": "white",
            "showbackground": true,
            "ticks": "",
            "zerolinecolor": "white"
           },
           "zaxis": {
            "backgroundcolor": "#E5ECF6",
            "gridcolor": "white",
            "gridwidth": 2,
            "linecolor": "white",
            "showbackground": true,
            "ticks": "",
            "zerolinecolor": "white"
           }
          },
          "shapedefaults": {
           "line": {
            "color": "#2a3f5f"
           }
          },
          "ternary": {
           "aaxis": {
            "gridcolor": "white",
            "linecolor": "white",
            "ticks": ""
           },
           "baxis": {
            "gridcolor": "white",
            "linecolor": "white",
            "ticks": ""
           },
           "bgcolor": "#E5ECF6",
           "caxis": {
            "gridcolor": "white",
            "linecolor": "white",
            "ticks": ""
           }
          },
          "title": {
           "x": 0.05
          },
          "xaxis": {
           "automargin": true,
           "gridcolor": "white",
           "linecolor": "white",
           "ticks": "",
           "title": {
            "standoff": 15
           },
           "zerolinecolor": "white",
           "zerolinewidth": 2
          },
          "yaxis": {
           "automargin": true,
           "gridcolor": "white",
           "linecolor": "white",
           "ticks": "",
           "title": {
            "standoff": 15
           },
           "zerolinecolor": "white",
           "zerolinewidth": 2
          }
         }
        },
        "xaxis": {
         "anchor": "y",
         "constrain": "domain",
         "domain": [
          0,
          1
         ],
         "scaleanchor": "y",
         "title": {
          "text": "지 역"
         }
        },
        "yaxis": {
         "anchor": "x",
         "autorange": "reversed",
         "constrain": "domain",
         "domain": [
          0,
          1
         ],
         "title": {
          "text": "지 역"
         }
        }
       }
      },
      "text/html": [
       "<div>                            <div id=\"0eaa1a51-3315-43d7-b745-a84cbbf59cbe\" class=\"plotly-graph-div\" style=\"height:525px; width:100%;\"></div>            <script type=\"text/javascript\">                require([\"plotly\"], function(Plotly) {                    window.PLOTLYENV=window.PLOTLYENV || {};                                    if (document.getElementById(\"0eaa1a51-3315-43d7-b745-a84cbbf59cbe\")) {                    Plotly.newPlot(                        \"0eaa1a51-3315-43d7-b745-a84cbbf59cbe\",                        [{\"coloraxis\": \"coloraxis\", \"hovertemplate\": \"\\uc9c0 \\uc5ed: %{x}<br>\\uc9c0 \\uc5ed: %{y}<br>color: %{z}<extra></extra>\", \"name\": \"0\", \"type\": \"heatmap\", \"x\": [\"\\uc11c\\uc6b8\", \"\\uacbd\\uae30\", \"\\uc778\\ucc9c\", \"\\ubd80\\uc0b0\", \"\\ub300\\uad6c\", \"\\uad11\\uc8fc\", \"\\ub300\\uc804\", \"\\uc6b8\\uc0b0\", \"\\uc138\\uc885\", \"\\uac15\\uc6d0\", \"\\ucda9\\ubd81\", \"\\ucda9\\ub0a8\", \"\\uc804\\ubd81\", \"\\uc804\\ub0a8\", \"\\uacbd\\ubd81\", \"\\uacbd\\ub0a8\", \"\\uc81c\\uc8fc\"], \"xaxis\": \"x\", \"y\": [\"\\uc11c\\uc6b8\", \"\\uacbd\\uae30\", \"\\uc778\\ucc9c\", \"\\ubd80\\uc0b0\", \"\\ub300\\uad6c\", \"\\uad11\\uc8fc\", \"\\ub300\\uc804\", \"\\uc6b8\\uc0b0\", \"\\uc138\\uc885\", \"\\uac15\\uc6d0\", \"\\ucda9\\ubd81\", \"\\ucda9\\ub0a8\", \"\\uc804\\ubd81\", \"\\uc804\\ub0a8\", \"\\uacbd\\ubd81\", \"\\uacbd\\ub0a8\", \"\\uc81c\\uc8fc\"], \"yaxis\": \"y\", \"z\": [[1.0, 0.2726075420476592, 0.013667630502762667, 0.17077351849703656, 0.27989356461414133, 0.39433601079287867, -0.2173882350452682, 0.013229468864343273, -0.0453244678805741, 0.2324294764786436, 0.06135195618352306, -0.007057980813958792, 0.2343998005178307, 0.20373509455936564, 0.11573234129275083, -0.019325933215064248, 0.12614505115731006], [0.2726075420476592, 1.0, 0.7747462666819275, 0.5287430010553278, 0.5627241745887213, 0.3991785964742467, 0.5595388039940944, 0.6452343502380642, 0.5263039009425181, 0.44446544378983055, 0.6418987374340401, 0.6715606209685271, 0.5935422901620575, 0.03473439735800744, 0.6162899766557043, 0.6341387069478335, 0.06238383043405872], [0.013667630502762667, 0.7747462666819275, 1.0, 0.3665893113582749, 0.3471402779418949, 0.26309331090784566, 0.4850439180546315, 0.5201447330574615, 0.3072909356119122, 0.3842558044550186, 0.578185977414526, 0.46942856757528567, 0.4374622540345654, -0.02865601483547705, 0.465653917498913, 0.5485831793836002, 0.06476225020439542], [0.17077351849703656, 0.5287430010553278, 0.3665893113582749, 1.0, 0.506211320989984, 0.3572768716150445, 0.1956782143640946, 0.8170415984036197, 0.1953915151691083, 0.6734879364831385, 0.5046133439509795, 0.6374452126243622, 0.6960269813840244, 0.2505902161875822, 0.6450364369576163, 0.8051882792544943, 0.2866642263829753], [0.27989356461414133, 0.5627241745887213, 0.3471402779418949, 0.506211320989984, 1.0, 0.6900195901989372, 0.24928245455502965, 0.508493205936004, 0.13993023291696546, 0.2794580828566152, 0.3973040181629505, 0.6163931907664488, 0.5219416482730587, 0.13339888089292826, 0.702729158005323, 0.48335921458274367, 0.13622532994469272], [0.39433601079287867, 0.3991785964742467, 0.26309331090784566, 0.3572768716150445, 0.6900195901989372, 1.0, -0.09499117934556017, 0.2651086539115592, -0.10595051585643107, 0.2295308634175265, 0.23443965021922958, 0.29894406188013306, 0.3521022475008173, 0.09501607541202392, 0.5195585595080764, 0.31718649213708955, 0.2856376605650382], [-0.2173882350452682, 0.5595388039940944, 0.4850439180546315, 0.1956782143640946, 0.24928245455502965, -0.09499117934556017, 1.0, 0.40256083074092486, 0.45017044535789646, -0.03508478356766053, 0.44775175522034827, 0.504499854898604, 0.19076270673077322, -0.009549340250953624, 0.18529456264996907, 0.2847581124364767, -0.3296829172943949], [0.013229468864343273, 0.6452343502380642, 0.5201447330574615, 0.8170415984036197, 0.508493205936004, 0.2651086539115592, 0.40256083074092486, 1.0, 0.2688310955642195, 0.5900985905870628, 0.6352918297393668, 0.7628127398860157, 0.6167027644149997, 0.04609329359865782, 0.737006007291619, 0.895681851553016, 0.2860927140951612], [-0.0453244678805741, 0.5263039009425181, 0.3072909356119122, 0.1953915151691083, 0.13993023291696546, -0.10595051585643107, 0.45017044535789646, 0.2688310955642195, 1.0, 0.21548182223531692, 0.3487938781633325, 0.46728828951487633, 0.2758191802419416, 0.06301072910411695, 0.2924467340761049, 0.29577544034952835, -0.15841951798240786], [0.2324294764786436, 0.44446544378983055, 0.3842558044550186, 0.6734879364831385, 0.2794580828566152, 0.2295308634175265, -0.03508478356766053, 0.5900985905870628, 0.21548182223531692, 1.0, 0.5268954682172584, 0.4400438370911604, 0.6971017297305336, 0.22993377242111862, 0.5244666402440995, 0.6554181385150412, 0.3638018030451332], [0.06135195618352306, 0.6418987374340401, 0.578185977414526, 0.5046133439509795, 0.3973040181629505, 0.23443965021922958, 0.44775175522034827, 0.6352918297393668, 0.3487938781633325, 0.5268954682172584, 1.0, 0.6233752872162124, 0.5369354025184627, -0.05653904083538144, 0.5809928177587845, 0.6570915533002138, 0.1747735767134274], [-0.007057980813958792, 0.6715606209685271, 0.46942856757528567, 0.6374452126243622, 0.6163931907664488, 0.29894406188013306, 0.504499854898604, 0.7628127398860157, 0.46728828951487633, 0.4400438370911604, 0.6233752872162124, 1.0, 0.5622624721196597, -0.012186767857352008, 0.7501875270981158, 0.7556197857309963, 0.10378510071414568], [0.2343998005178307, 0.5935422901620575, 0.4374622540345654, 0.6960269813840244, 0.5219416482730587, 0.3521022475008173, 0.19076270673077322, 0.6167027644149997, 0.2758191802419416, 0.6971017297305336, 0.5369354025184627, 0.5622624721196597, 1.0, 0.3442307547641174, 0.5225978542980638, 0.6092484342762007, 0.1980246013872006], [0.20373509455936564, 0.03473439735800744, -0.02865601483547705, 0.2505902161875822, 0.13339888089292826, 0.09501607541202392, -0.009549340250953624, 0.04609329359865782, 0.06301072910411695, 0.22993377242111862, -0.05653904083538144, -0.012186767857352008, 0.3442307547641174, 1.0, -0.08907121967357053, -0.011543986063889476, 0.0027295149843678613], [0.11573234129275083, 0.6162899766557043, 0.465653917498913, 0.6450364369576163, 0.702729158005323, 0.5195585595080764, 0.18529456264996907, 0.737006007291619, 0.2924467340761049, 0.5244666402440995, 0.5809928177587845, 0.7501875270981158, 0.5225978542980638, -0.08907121967357053, 1.0, 0.7869367876661514, 0.363619676014646], [-0.019325933215064248, 0.6341387069478335, 0.5485831793836002, 0.8051882792544943, 0.48335921458274367, 0.31718649213708955, 0.2847581124364767, 0.895681851553016, 0.29577544034952835, 0.6554181385150412, 0.6570915533002138, 0.7556197857309963, 0.6092484342762007, -0.011543986063889476, 0.7869367876661514, 1.0, 0.38114120553309144], [0.12614505115731006, 0.06238383043405872, 0.06476225020439542, 0.2866642263829753, 0.13622532994469272, 0.2856376605650382, -0.3296829172943949, 0.2860927140951612, -0.15841951798240786, 0.3638018030451332, 0.1747735767134274, 0.10378510071414568, 0.1980246013872006, 0.0027295149843678613, 0.363619676014646, 0.38114120553309144, 1.0]]}],                        {\"coloraxis\": {\"colorscale\": [[0.0, \"#0d0887\"], [0.1111111111111111, \"#46039f\"], [0.2222222222222222, \"#7201a8\"], [0.3333333333333333, \"#9c179e\"], [0.4444444444444444, \"#bd3786\"], [0.5555555555555556, \"#d8576b\"], [0.6666666666666666, \"#ed7953\"], [0.7777777777777778, \"#fb9f3a\"], [0.8888888888888888, \"#fdca26\"], [1.0, \"#f0f921\"]]}, \"margin\": {\"t\": 60}, \"template\": {\"data\": {\"bar\": [{\"error_x\": {\"color\": \"#2a3f5f\"}, \"error_y\": {\"color\": \"#2a3f5f\"}, \"marker\": {\"line\": {\"color\": \"#E5ECF6\", \"width\": 0.5}}, \"type\": \"bar\"}], \"barpolar\": [{\"marker\": {\"line\": {\"color\": \"#E5ECF6\", \"width\": 0.5}}, \"type\": \"barpolar\"}], \"carpet\": [{\"aaxis\": {\"endlinecolor\": \"#2a3f5f\", \"gridcolor\": \"white\", \"linecolor\": \"white\", \"minorgridcolor\": \"white\", \"startlinecolor\": \"#2a3f5f\"}, \"baxis\": {\"endlinecolor\": \"#2a3f5f\", \"gridcolor\": \"white\", \"linecolor\": \"white\", \"minorgridcolor\": \"white\", \"startlinecolor\": \"#2a3f5f\"}, \"type\": \"carpet\"}], \"choropleth\": [{\"colorbar\": {\"outlinewidth\": 0, \"ticks\": \"\"}, \"type\": \"choropleth\"}], \"contour\": [{\"colorbar\": {\"outlinewidth\": 0, \"ticks\": \"\"}, \"colorscale\": [[0.0, \"#0d0887\"], [0.1111111111111111, \"#46039f\"], [0.2222222222222222, \"#7201a8\"], [0.3333333333333333, \"#9c179e\"], [0.4444444444444444, \"#bd3786\"], [0.5555555555555556, \"#d8576b\"], [0.6666666666666666, \"#ed7953\"], [0.7777777777777778, \"#fb9f3a\"], [0.8888888888888888, \"#fdca26\"], [1.0, \"#f0f921\"]], \"type\": \"contour\"}], \"contourcarpet\": [{\"colorbar\": {\"outlinewidth\": 0, \"ticks\": \"\"}, \"type\": \"contourcarpet\"}], \"heatmap\": [{\"colorbar\": {\"outlinewidth\": 0, \"ticks\": \"\"}, \"colorscale\": [[0.0, \"#0d0887\"], [0.1111111111111111, \"#46039f\"], [0.2222222222222222, \"#7201a8\"], [0.3333333333333333, \"#9c179e\"], [0.4444444444444444, \"#bd3786\"], [0.5555555555555556, \"#d8576b\"], [0.6666666666666666, \"#ed7953\"], [0.7777777777777778, \"#fb9f3a\"], [0.8888888888888888, \"#fdca26\"], [1.0, \"#f0f921\"]], \"type\": \"heatmap\"}], \"heatmapgl\": [{\"colorbar\": {\"outlinewidth\": 0, \"ticks\": \"\"}, \"colorscale\": [[0.0, \"#0d0887\"], [0.1111111111111111, \"#46039f\"], [0.2222222222222222, \"#7201a8\"], [0.3333333333333333, \"#9c179e\"], [0.4444444444444444, \"#bd3786\"], [0.5555555555555556, \"#d8576b\"], [0.6666666666666666, \"#ed7953\"], [0.7777777777777778, \"#fb9f3a\"], [0.8888888888888888, \"#fdca26\"], [1.0, \"#f0f921\"]], \"type\": \"heatmapgl\"}], \"histogram\": [{\"marker\": {\"colorbar\": {\"outlinewidth\": 0, \"ticks\": \"\"}}, \"type\": \"histogram\"}], \"histogram2d\": [{\"colorbar\": {\"outlinewidth\": 0, \"ticks\": \"\"}, \"colorscale\": [[0.0, \"#0d0887\"], [0.1111111111111111, \"#46039f\"], [0.2222222222222222, \"#7201a8\"], [0.3333333333333333, \"#9c179e\"], [0.4444444444444444, \"#bd3786\"], [0.5555555555555556, \"#d8576b\"], [0.6666666666666666, \"#ed7953\"], [0.7777777777777778, \"#fb9f3a\"], [0.8888888888888888, \"#fdca26\"], [1.0, \"#f0f921\"]], \"type\": \"histogram2d\"}], \"histogram2dcontour\": [{\"colorbar\": {\"outlinewidth\": 0, \"ticks\": \"\"}, \"colorscale\": [[0.0, \"#0d0887\"], [0.1111111111111111, \"#46039f\"], [0.2222222222222222, \"#7201a8\"], [0.3333333333333333, \"#9c179e\"], [0.4444444444444444, \"#bd3786\"], [0.5555555555555556, \"#d8576b\"], [0.6666666666666666, \"#ed7953\"], [0.7777777777777778, \"#fb9f3a\"], [0.8888888888888888, \"#fdca26\"], [1.0, \"#f0f921\"]], \"type\": \"histogram2dcontour\"}], \"mesh3d\": [{\"colorbar\": {\"outlinewidth\": 0, \"ticks\": \"\"}, \"type\": \"mesh3d\"}], \"parcoords\": [{\"line\": {\"colorbar\": {\"outlinewidth\": 0, \"ticks\": \"\"}}, \"type\": \"parcoords\"}], \"pie\": [{\"automargin\": true, \"type\": \"pie\"}], \"scatter\": [{\"marker\": {\"colorbar\": {\"outlinewidth\": 0, \"ticks\": \"\"}}, \"type\": \"scatter\"}], \"scatter3d\": [{\"line\": {\"colorbar\": {\"outlinewidth\": 0, \"ticks\": \"\"}}, \"marker\": {\"colorbar\": {\"outlinewidth\": 0, \"ticks\": \"\"}}, \"type\": \"scatter3d\"}], \"scattercarpet\": [{\"marker\": {\"colorbar\": {\"outlinewidth\": 0, \"ticks\": \"\"}}, \"type\": \"scattercarpet\"}], \"scattergeo\": [{\"marker\": {\"colorbar\": {\"outlinewidth\": 0, \"ticks\": \"\"}}, \"type\": \"scattergeo\"}], \"scattergl\": [{\"marker\": {\"colorbar\": {\"outlinewidth\": 0, \"ticks\": \"\"}}, \"type\": \"scattergl\"}], \"scattermapbox\": [{\"marker\": {\"colorbar\": {\"outlinewidth\": 0, \"ticks\": \"\"}}, \"type\": \"scattermapbox\"}], \"scatterpolar\": [{\"marker\": {\"colorbar\": {\"outlinewidth\": 0, \"ticks\": \"\"}}, \"type\": \"scatterpolar\"}], \"scatterpolargl\": [{\"marker\": {\"colorbar\": {\"outlinewidth\": 0, \"ticks\": \"\"}}, \"type\": \"scatterpolargl\"}], \"scatterternary\": [{\"marker\": {\"colorbar\": {\"outlinewidth\": 0, \"ticks\": \"\"}}, \"type\": \"scatterternary\"}], \"surface\": [{\"colorbar\": {\"outlinewidth\": 0, \"ticks\": \"\"}, \"colorscale\": [[0.0, \"#0d0887\"], [0.1111111111111111, \"#46039f\"], [0.2222222222222222, \"#7201a8\"], [0.3333333333333333, \"#9c179e\"], [0.4444444444444444, \"#bd3786\"], [0.5555555555555556, \"#d8576b\"], [0.6666666666666666, \"#ed7953\"], [0.7777777777777778, \"#fb9f3a\"], [0.8888888888888888, \"#fdca26\"], [1.0, \"#f0f921\"]], \"type\": \"surface\"}], \"table\": [{\"cells\": {\"fill\": {\"color\": \"#EBF0F8\"}, \"line\": {\"color\": \"white\"}}, \"header\": {\"fill\": {\"color\": \"#C8D4E3\"}, \"line\": {\"color\": \"white\"}}, \"type\": \"table\"}]}, \"layout\": {\"annotationdefaults\": {\"arrowcolor\": \"#2a3f5f\", \"arrowhead\": 0, \"arrowwidth\": 1}, \"autotypenumbers\": \"strict\", \"coloraxis\": {\"colorbar\": {\"outlinewidth\": 0, \"ticks\": \"\"}}, \"colorscale\": {\"diverging\": [[0, \"#8e0152\"], [0.1, \"#c51b7d\"], [0.2, \"#de77ae\"], [0.3, \"#f1b6da\"], [0.4, \"#fde0ef\"], [0.5, \"#f7f7f7\"], [0.6, \"#e6f5d0\"], [0.7, \"#b8e186\"], [0.8, \"#7fbc41\"], [0.9, \"#4d9221\"], [1, \"#276419\"]], \"sequential\": [[0.0, \"#0d0887\"], [0.1111111111111111, \"#46039f\"], [0.2222222222222222, \"#7201a8\"], [0.3333333333333333, \"#9c179e\"], [0.4444444444444444, \"#bd3786\"], [0.5555555555555556, \"#d8576b\"], [0.6666666666666666, \"#ed7953\"], [0.7777777777777778, \"#fb9f3a\"], [0.8888888888888888, \"#fdca26\"], [1.0, \"#f0f921\"]], \"sequentialminus\": [[0.0, \"#0d0887\"], [0.1111111111111111, \"#46039f\"], [0.2222222222222222, \"#7201a8\"], [0.3333333333333333, \"#9c179e\"], [0.4444444444444444, \"#bd3786\"], [0.5555555555555556, \"#d8576b\"], [0.6666666666666666, \"#ed7953\"], [0.7777777777777778, \"#fb9f3a\"], [0.8888888888888888, \"#fdca26\"], [1.0, \"#f0f921\"]]}, \"colorway\": [\"#636efa\", \"#EF553B\", \"#00cc96\", \"#ab63fa\", \"#FFA15A\", \"#19d3f3\", \"#FF6692\", \"#B6E880\", \"#FF97FF\", \"#FECB52\"], \"font\": {\"color\": \"#2a3f5f\"}, \"geo\": {\"bgcolor\": \"white\", \"lakecolor\": \"white\", \"landcolor\": \"#E5ECF6\", \"showlakes\": true, \"showland\": true, \"subunitcolor\": \"white\"}, \"hoverlabel\": {\"align\": \"left\"}, \"hovermode\": \"closest\", \"mapbox\": {\"style\": \"light\"}, \"paper_bgcolor\": \"white\", \"plot_bgcolor\": \"#E5ECF6\", \"polar\": {\"angularaxis\": {\"gridcolor\": \"white\", \"linecolor\": \"white\", \"ticks\": \"\"}, \"bgcolor\": \"#E5ECF6\", \"radialaxis\": {\"gridcolor\": \"white\", \"linecolor\": \"white\", \"ticks\": \"\"}}, \"scene\": {\"xaxis\": {\"backgroundcolor\": \"#E5ECF6\", \"gridcolor\": \"white\", \"gridwidth\": 2, \"linecolor\": \"white\", \"showbackground\": true, \"ticks\": \"\", \"zerolinecolor\": \"white\"}, \"yaxis\": {\"backgroundcolor\": \"#E5ECF6\", \"gridcolor\": \"white\", \"gridwidth\": 2, \"linecolor\": \"white\", \"showbackground\": true, \"ticks\": \"\", \"zerolinecolor\": \"white\"}, \"zaxis\": {\"backgroundcolor\": \"#E5ECF6\", \"gridcolor\": \"white\", \"gridwidth\": 2, \"linecolor\": \"white\", \"showbackground\": true, \"ticks\": \"\", \"zerolinecolor\": \"white\"}}, \"shapedefaults\": {\"line\": {\"color\": \"#2a3f5f\"}}, \"ternary\": {\"aaxis\": {\"gridcolor\": \"white\", \"linecolor\": \"white\", \"ticks\": \"\"}, \"baxis\": {\"gridcolor\": \"white\", \"linecolor\": \"white\", \"ticks\": \"\"}, \"bgcolor\": \"#E5ECF6\", \"caxis\": {\"gridcolor\": \"white\", \"linecolor\": \"white\", \"ticks\": \"\"}}, \"title\": {\"x\": 0.05}, \"xaxis\": {\"automargin\": true, \"gridcolor\": \"white\", \"linecolor\": \"white\", \"ticks\": \"\", \"title\": {\"standoff\": 15}, \"zerolinecolor\": \"white\", \"zerolinewidth\": 2}, \"yaxis\": {\"automargin\": true, \"gridcolor\": \"white\", \"linecolor\": \"white\", \"ticks\": \"\", \"title\": {\"standoff\": 15}, \"zerolinecolor\": \"white\", \"zerolinewidth\": 2}}}, \"xaxis\": {\"anchor\": \"y\", \"constrain\": \"domain\", \"domain\": [0.0, 1.0], \"scaleanchor\": \"y\", \"title\": {\"text\": \"\\uc9c0 \\uc5ed\"}}, \"yaxis\": {\"anchor\": \"x\", \"autorange\": \"reversed\", \"constrain\": \"domain\", \"domain\": [0.0, 1.0], \"title\": {\"text\": \"\\uc9c0 \\uc5ed\"}}},                        {\"responsive\": true}                    ).then(function(){\n",
       "                            \n",
       "var gd = document.getElementById('0eaa1a51-3315-43d7-b745-a84cbbf59cbe');\n",
       "var x = new MutationObserver(function (mutations, observer) {{\n",
       "        var display = window.getComputedStyle(gd).display;\n",
       "        if (!display || display === 'none') {{\n",
       "            console.log([gd, 'removed!']);\n",
       "            Plotly.purge(gd);\n",
       "            observer.disconnect();\n",
       "        }}\n",
       "}});\n",
       "\n",
       "// Listen for the removal of the full notebook cells\n",
       "var notebookContainer = gd.closest('#notebook-container');\n",
       "if (notebookContainer) {{\n",
       "    x.observe(notebookContainer, {childList: true});\n",
       "}}\n",
       "\n",
       "// Listen for the clearing of the current output cell\n",
       "var outputEl = gd.closest('.output');\n",
       "if (outputEl) {{\n",
       "    x.observe(outputEl, {childList: true});\n",
       "}}\n",
       "\n",
       "                        })                };                });            </script>        </div>"
      ]
     },
     "metadata": {},
     "output_type": "display_data"
    }
   ],
   "source": [
    "corr = apart_f.corr(method = 'pearson') \n",
    "corr.iloc[:,7:]\n",
    "fig = px.imshow(corr.iloc[7:,7:])\n",
    "fig.show() # 상관분석 타지역의 집값과 연관이 전혀 상관 없음 세종은 특히 더더욱 상관이 없음. "
   ]
  },
  {
   "cell_type": "code",
   "execution_count": 388,
   "metadata": {},
   "outputs": [],
   "source": [
    "pop = pd.read_csv('총인구.csv',encoding='CP949',index_col=1) \n",
    "pop.drop(columns='가정별',inplace=True)\n",
    "total= pop.iloc[[0],:]\n",
    "total.index.name='인구'\n",
    "total = total_pop.transpose()\n",
    "total = total.astype(int)"
   ]
  },
  {
   "cell_type": "code",
   "execution_count": 389,
   "metadata": {
    "scrolled": false
   },
   "outputs": [],
   "source": [
    "sejong = apart_f.loc[:,['세종']]\n",
    "sejong.drop(sejong.index[0],inplace=True)\n",
    "\n",
    "sejong2 = sejong.loc[sejong.index.str.contains('2015')].iloc[[-1]]\n",
    "for i in range(2016,2021):\n",
    "    sejong2 = sejong2.append( sejong.loc[sejong.index.str.contains(str(i))].iloc[[-1]])\n",
    "sejong2.index  = total.index"
   ]
  },
  {
   "cell_type": "code",
   "execution_count": 198,
   "metadata": {
    "scrolled": false
   },
   "outputs": [],
   "source": [
    "populations = pd.concat([sejong2,total], axis=1)"
   ]
  },
  {
   "cell_type": "code",
   "execution_count": 413,
   "metadata": {},
   "outputs": [],
   "source": [
    "total_populations=pd.DataFrame()\n",
    "\n",
    "for i in range(2015,2021):\n",
    "    for n in range(sejong.loc[sejong.index.str.contains(str(i))].size):\n",
    "        total_populations = total_populations.append(total.loc[[str(i)]])"
   ]
  },
  {
   "cell_type": "code",
   "execution_count": 430,
   "metadata": {},
   "outputs": [
    {
     "data": {
      "text/plain": [
       "(0.33666747648668327, 1.0480930317411977e-09)"
      ]
     },
     "execution_count": 430,
     "metadata": {},
     "output_type": "execute_result"
    }
   ],
   "source": [
    "scipy.stats.pearsonr(total_populations.values.flatten(), sejong.values.flatten())"
   ]
  },
  {
   "cell_type": "code",
   "execution_count": 400,
   "metadata": {},
   "outputs": [
    {
     "data": {
      "application/vnd.plotly.v1+json": {
       "config": {
        "plotlyServerURL": "https://plot.ly"
       },
       "data": [
        {
         "coloraxis": "coloraxis",
         "hovertemplate": "x: %{x}<br>y: %{y}<br>color: %{z}<extra></extra>",
         "name": "0",
         "type": "heatmap",
         "x": [
          "세종",
          "세종특별자치시"
         ],
         "xaxis": "x",
         "y": [
          "세종",
          "세종특별자치시"
         ],
         "yaxis": "y",
         "z": [
          [
           1,
           0.35132170929521644
          ],
          [
           0.35132170929521644,
           1
          ]
         ]
        }
       ],
       "layout": {
        "coloraxis": {
         "colorscale": [
          [
           0,
           "#0d0887"
          ],
          [
           0.1111111111111111,
           "#46039f"
          ],
          [
           0.2222222222222222,
           "#7201a8"
          ],
          [
           0.3333333333333333,
           "#9c179e"
          ],
          [
           0.4444444444444444,
           "#bd3786"
          ],
          [
           0.5555555555555556,
           "#d8576b"
          ],
          [
           0.6666666666666666,
           "#ed7953"
          ],
          [
           0.7777777777777778,
           "#fb9f3a"
          ],
          [
           0.8888888888888888,
           "#fdca26"
          ],
          [
           1,
           "#f0f921"
          ]
         ]
        },
        "margin": {
         "t": 60
        },
        "template": {
         "data": {
          "bar": [
           {
            "error_x": {
             "color": "#2a3f5f"
            },
            "error_y": {
             "color": "#2a3f5f"
            },
            "marker": {
             "line": {
              "color": "#E5ECF6",
              "width": 0.5
             }
            },
            "type": "bar"
           }
          ],
          "barpolar": [
           {
            "marker": {
             "line": {
              "color": "#E5ECF6",
              "width": 0.5
             }
            },
            "type": "barpolar"
           }
          ],
          "carpet": [
           {
            "aaxis": {
             "endlinecolor": "#2a3f5f",
             "gridcolor": "white",
             "linecolor": "white",
             "minorgridcolor": "white",
             "startlinecolor": "#2a3f5f"
            },
            "baxis": {
             "endlinecolor": "#2a3f5f",
             "gridcolor": "white",
             "linecolor": "white",
             "minorgridcolor": "white",
             "startlinecolor": "#2a3f5f"
            },
            "type": "carpet"
           }
          ],
          "choropleth": [
           {
            "colorbar": {
             "outlinewidth": 0,
             "ticks": ""
            },
            "type": "choropleth"
           }
          ],
          "contour": [
           {
            "colorbar": {
             "outlinewidth": 0,
             "ticks": ""
            },
            "colorscale": [
             [
              0,
              "#0d0887"
             ],
             [
              0.1111111111111111,
              "#46039f"
             ],
             [
              0.2222222222222222,
              "#7201a8"
             ],
             [
              0.3333333333333333,
              "#9c179e"
             ],
             [
              0.4444444444444444,
              "#bd3786"
             ],
             [
              0.5555555555555556,
              "#d8576b"
             ],
             [
              0.6666666666666666,
              "#ed7953"
             ],
             [
              0.7777777777777778,
              "#fb9f3a"
             ],
             [
              0.8888888888888888,
              "#fdca26"
             ],
             [
              1,
              "#f0f921"
             ]
            ],
            "type": "contour"
           }
          ],
          "contourcarpet": [
           {
            "colorbar": {
             "outlinewidth": 0,
             "ticks": ""
            },
            "type": "contourcarpet"
           }
          ],
          "heatmap": [
           {
            "colorbar": {
             "outlinewidth": 0,
             "ticks": ""
            },
            "colorscale": [
             [
              0,
              "#0d0887"
             ],
             [
              0.1111111111111111,
              "#46039f"
             ],
             [
              0.2222222222222222,
              "#7201a8"
             ],
             [
              0.3333333333333333,
              "#9c179e"
             ],
             [
              0.4444444444444444,
              "#bd3786"
             ],
             [
              0.5555555555555556,
              "#d8576b"
             ],
             [
              0.6666666666666666,
              "#ed7953"
             ],
             [
              0.7777777777777778,
              "#fb9f3a"
             ],
             [
              0.8888888888888888,
              "#fdca26"
             ],
             [
              1,
              "#f0f921"
             ]
            ],
            "type": "heatmap"
           }
          ],
          "heatmapgl": [
           {
            "colorbar": {
             "outlinewidth": 0,
             "ticks": ""
            },
            "colorscale": [
             [
              0,
              "#0d0887"
             ],
             [
              0.1111111111111111,
              "#46039f"
             ],
             [
              0.2222222222222222,
              "#7201a8"
             ],
             [
              0.3333333333333333,
              "#9c179e"
             ],
             [
              0.4444444444444444,
              "#bd3786"
             ],
             [
              0.5555555555555556,
              "#d8576b"
             ],
             [
              0.6666666666666666,
              "#ed7953"
             ],
             [
              0.7777777777777778,
              "#fb9f3a"
             ],
             [
              0.8888888888888888,
              "#fdca26"
             ],
             [
              1,
              "#f0f921"
             ]
            ],
            "type": "heatmapgl"
           }
          ],
          "histogram": [
           {
            "marker": {
             "colorbar": {
              "outlinewidth": 0,
              "ticks": ""
             }
            },
            "type": "histogram"
           }
          ],
          "histogram2d": [
           {
            "colorbar": {
             "outlinewidth": 0,
             "ticks": ""
            },
            "colorscale": [
             [
              0,
              "#0d0887"
             ],
             [
              0.1111111111111111,
              "#46039f"
             ],
             [
              0.2222222222222222,
              "#7201a8"
             ],
             [
              0.3333333333333333,
              "#9c179e"
             ],
             [
              0.4444444444444444,
              "#bd3786"
             ],
             [
              0.5555555555555556,
              "#d8576b"
             ],
             [
              0.6666666666666666,
              "#ed7953"
             ],
             [
              0.7777777777777778,
              "#fb9f3a"
             ],
             [
              0.8888888888888888,
              "#fdca26"
             ],
             [
              1,
              "#f0f921"
             ]
            ],
            "type": "histogram2d"
           }
          ],
          "histogram2dcontour": [
           {
            "colorbar": {
             "outlinewidth": 0,
             "ticks": ""
            },
            "colorscale": [
             [
              0,
              "#0d0887"
             ],
             [
              0.1111111111111111,
              "#46039f"
             ],
             [
              0.2222222222222222,
              "#7201a8"
             ],
             [
              0.3333333333333333,
              "#9c179e"
             ],
             [
              0.4444444444444444,
              "#bd3786"
             ],
             [
              0.5555555555555556,
              "#d8576b"
             ],
             [
              0.6666666666666666,
              "#ed7953"
             ],
             [
              0.7777777777777778,
              "#fb9f3a"
             ],
             [
              0.8888888888888888,
              "#fdca26"
             ],
             [
              1,
              "#f0f921"
             ]
            ],
            "type": "histogram2dcontour"
           }
          ],
          "mesh3d": [
           {
            "colorbar": {
             "outlinewidth": 0,
             "ticks": ""
            },
            "type": "mesh3d"
           }
          ],
          "parcoords": [
           {
            "line": {
             "colorbar": {
              "outlinewidth": 0,
              "ticks": ""
             }
            },
            "type": "parcoords"
           }
          ],
          "pie": [
           {
            "automargin": true,
            "type": "pie"
           }
          ],
          "scatter": [
           {
            "marker": {
             "colorbar": {
              "outlinewidth": 0,
              "ticks": ""
             }
            },
            "type": "scatter"
           }
          ],
          "scatter3d": [
           {
            "line": {
             "colorbar": {
              "outlinewidth": 0,
              "ticks": ""
             }
            },
            "marker": {
             "colorbar": {
              "outlinewidth": 0,
              "ticks": ""
             }
            },
            "type": "scatter3d"
           }
          ],
          "scattercarpet": [
           {
            "marker": {
             "colorbar": {
              "outlinewidth": 0,
              "ticks": ""
             }
            },
            "type": "scattercarpet"
           }
          ],
          "scattergeo": [
           {
            "marker": {
             "colorbar": {
              "outlinewidth": 0,
              "ticks": ""
             }
            },
            "type": "scattergeo"
           }
          ],
          "scattergl": [
           {
            "marker": {
             "colorbar": {
              "outlinewidth": 0,
              "ticks": ""
             }
            },
            "type": "scattergl"
           }
          ],
          "scattermapbox": [
           {
            "marker": {
             "colorbar": {
              "outlinewidth": 0,
              "ticks": ""
             }
            },
            "type": "scattermapbox"
           }
          ],
          "scatterpolar": [
           {
            "marker": {
             "colorbar": {
              "outlinewidth": 0,
              "ticks": ""
             }
            },
            "type": "scatterpolar"
           }
          ],
          "scatterpolargl": [
           {
            "marker": {
             "colorbar": {
              "outlinewidth": 0,
              "ticks": ""
             }
            },
            "type": "scatterpolargl"
           }
          ],
          "scatterternary": [
           {
            "marker": {
             "colorbar": {
              "outlinewidth": 0,
              "ticks": ""
             }
            },
            "type": "scatterternary"
           }
          ],
          "surface": [
           {
            "colorbar": {
             "outlinewidth": 0,
             "ticks": ""
            },
            "colorscale": [
             [
              0,
              "#0d0887"
             ],
             [
              0.1111111111111111,
              "#46039f"
             ],
             [
              0.2222222222222222,
              "#7201a8"
             ],
             [
              0.3333333333333333,
              "#9c179e"
             ],
             [
              0.4444444444444444,
              "#bd3786"
             ],
             [
              0.5555555555555556,
              "#d8576b"
             ],
             [
              0.6666666666666666,
              "#ed7953"
             ],
             [
              0.7777777777777778,
              "#fb9f3a"
             ],
             [
              0.8888888888888888,
              "#fdca26"
             ],
             [
              1,
              "#f0f921"
             ]
            ],
            "type": "surface"
           }
          ],
          "table": [
           {
            "cells": {
             "fill": {
              "color": "#EBF0F8"
             },
             "line": {
              "color": "white"
             }
            },
            "header": {
             "fill": {
              "color": "#C8D4E3"
             },
             "line": {
              "color": "white"
             }
            },
            "type": "table"
           }
          ]
         },
         "layout": {
          "annotationdefaults": {
           "arrowcolor": "#2a3f5f",
           "arrowhead": 0,
           "arrowwidth": 1
          },
          "autotypenumbers": "strict",
          "coloraxis": {
           "colorbar": {
            "outlinewidth": 0,
            "ticks": ""
           }
          },
          "colorscale": {
           "diverging": [
            [
             0,
             "#8e0152"
            ],
            [
             0.1,
             "#c51b7d"
            ],
            [
             0.2,
             "#de77ae"
            ],
            [
             0.3,
             "#f1b6da"
            ],
            [
             0.4,
             "#fde0ef"
            ],
            [
             0.5,
             "#f7f7f7"
            ],
            [
             0.6,
             "#e6f5d0"
            ],
            [
             0.7,
             "#b8e186"
            ],
            [
             0.8,
             "#7fbc41"
            ],
            [
             0.9,
             "#4d9221"
            ],
            [
             1,
             "#276419"
            ]
           ],
           "sequential": [
            [
             0,
             "#0d0887"
            ],
            [
             0.1111111111111111,
             "#46039f"
            ],
            [
             0.2222222222222222,
             "#7201a8"
            ],
            [
             0.3333333333333333,
             "#9c179e"
            ],
            [
             0.4444444444444444,
             "#bd3786"
            ],
            [
             0.5555555555555556,
             "#d8576b"
            ],
            [
             0.6666666666666666,
             "#ed7953"
            ],
            [
             0.7777777777777778,
             "#fb9f3a"
            ],
            [
             0.8888888888888888,
             "#fdca26"
            ],
            [
             1,
             "#f0f921"
            ]
           ],
           "sequentialminus": [
            [
             0,
             "#0d0887"
            ],
            [
             0.1111111111111111,
             "#46039f"
            ],
            [
             0.2222222222222222,
             "#7201a8"
            ],
            [
             0.3333333333333333,
             "#9c179e"
            ],
            [
             0.4444444444444444,
             "#bd3786"
            ],
            [
             0.5555555555555556,
             "#d8576b"
            ],
            [
             0.6666666666666666,
             "#ed7953"
            ],
            [
             0.7777777777777778,
             "#fb9f3a"
            ],
            [
             0.8888888888888888,
             "#fdca26"
            ],
            [
             1,
             "#f0f921"
            ]
           ]
          },
          "colorway": [
           "#636efa",
           "#EF553B",
           "#00cc96",
           "#ab63fa",
           "#FFA15A",
           "#19d3f3",
           "#FF6692",
           "#B6E880",
           "#FF97FF",
           "#FECB52"
          ],
          "font": {
           "color": "#2a3f5f"
          },
          "geo": {
           "bgcolor": "white",
           "lakecolor": "white",
           "landcolor": "#E5ECF6",
           "showlakes": true,
           "showland": true,
           "subunitcolor": "white"
          },
          "hoverlabel": {
           "align": "left"
          },
          "hovermode": "closest",
          "mapbox": {
           "style": "light"
          },
          "paper_bgcolor": "white",
          "plot_bgcolor": "#E5ECF6",
          "polar": {
           "angularaxis": {
            "gridcolor": "white",
            "linecolor": "white",
            "ticks": ""
           },
           "bgcolor": "#E5ECF6",
           "radialaxis": {
            "gridcolor": "white",
            "linecolor": "white",
            "ticks": ""
           }
          },
          "scene": {
           "xaxis": {
            "backgroundcolor": "#E5ECF6",
            "gridcolor": "white",
            "gridwidth": 2,
            "linecolor": "white",
            "showbackground": true,
            "ticks": "",
            "zerolinecolor": "white"
           },
           "yaxis": {
            "backgroundcolor": "#E5ECF6",
            "gridcolor": "white",
            "gridwidth": 2,
            "linecolor": "white",
            "showbackground": true,
            "ticks": "",
            "zerolinecolor": "white"
           },
           "zaxis": {
            "backgroundcolor": "#E5ECF6",
            "gridcolor": "white",
            "gridwidth": 2,
            "linecolor": "white",
            "showbackground": true,
            "ticks": "",
            "zerolinecolor": "white"
           }
          },
          "shapedefaults": {
           "line": {
            "color": "#2a3f5f"
           }
          },
          "ternary": {
           "aaxis": {
            "gridcolor": "white",
            "linecolor": "white",
            "ticks": ""
           },
           "baxis": {
            "gridcolor": "white",
            "linecolor": "white",
            "ticks": ""
           },
           "bgcolor": "#E5ECF6",
           "caxis": {
            "gridcolor": "white",
            "linecolor": "white",
            "ticks": ""
           }
          },
          "title": {
           "x": 0.05
          },
          "xaxis": {
           "automargin": true,
           "gridcolor": "white",
           "linecolor": "white",
           "ticks": "",
           "title": {
            "standoff": 15
           },
           "zerolinecolor": "white",
           "zerolinewidth": 2
          },
          "yaxis": {
           "automargin": true,
           "gridcolor": "white",
           "linecolor": "white",
           "ticks": "",
           "title": {
            "standoff": 15
           },
           "zerolinecolor": "white",
           "zerolinewidth": 2
          }
         }
        },
        "xaxis": {
         "anchor": "y",
         "constrain": "domain",
         "domain": [
          0,
          1
         ],
         "scaleanchor": "y"
        },
        "yaxis": {
         "anchor": "x",
         "autorange": "reversed",
         "constrain": "domain",
         "domain": [
          0,
          1
         ]
        }
       }
      },
      "text/html": [
       "<div>                            <div id=\"d274c339-718c-4d84-b43a-f573540d0a17\" class=\"plotly-graph-div\" style=\"height:525px; width:100%;\"></div>            <script type=\"text/javascript\">                require([\"plotly\"], function(Plotly) {                    window.PLOTLYENV=window.PLOTLYENV || {};                                    if (document.getElementById(\"d274c339-718c-4d84-b43a-f573540d0a17\")) {                    Plotly.newPlot(                        \"d274c339-718c-4d84-b43a-f573540d0a17\",                        [{\"coloraxis\": \"coloraxis\", \"hovertemplate\": \"x: %{x}<br>y: %{y}<br>color: %{z}<extra></extra>\", \"name\": \"0\", \"type\": \"heatmap\", \"x\": [\"\\uc138\\uc885\", \"\\uc138\\uc885\\ud2b9\\ubcc4\\uc790\\uce58\\uc2dc\"], \"xaxis\": \"x\", \"y\": [\"\\uc138\\uc885\", \"\\uc138\\uc885\\ud2b9\\ubcc4\\uc790\\uce58\\uc2dc\"], \"yaxis\": \"y\", \"z\": [[1.0, 0.35132170929521644], [0.35132170929521644, 1.0]]}],                        {\"coloraxis\": {\"colorscale\": [[0.0, \"#0d0887\"], [0.1111111111111111, \"#46039f\"], [0.2222222222222222, \"#7201a8\"], [0.3333333333333333, \"#9c179e\"], [0.4444444444444444, \"#bd3786\"], [0.5555555555555556, \"#d8576b\"], [0.6666666666666666, \"#ed7953\"], [0.7777777777777778, \"#fb9f3a\"], [0.8888888888888888, \"#fdca26\"], [1.0, \"#f0f921\"]]}, \"margin\": {\"t\": 60}, \"template\": {\"data\": {\"bar\": [{\"error_x\": {\"color\": \"#2a3f5f\"}, \"error_y\": {\"color\": \"#2a3f5f\"}, \"marker\": {\"line\": {\"color\": \"#E5ECF6\", \"width\": 0.5}}, \"type\": \"bar\"}], \"barpolar\": [{\"marker\": {\"line\": {\"color\": \"#E5ECF6\", \"width\": 0.5}}, \"type\": \"barpolar\"}], \"carpet\": [{\"aaxis\": {\"endlinecolor\": \"#2a3f5f\", \"gridcolor\": \"white\", \"linecolor\": \"white\", \"minorgridcolor\": \"white\", \"startlinecolor\": \"#2a3f5f\"}, \"baxis\": {\"endlinecolor\": \"#2a3f5f\", \"gridcolor\": \"white\", \"linecolor\": \"white\", \"minorgridcolor\": \"white\", \"startlinecolor\": \"#2a3f5f\"}, \"type\": \"carpet\"}], \"choropleth\": [{\"colorbar\": {\"outlinewidth\": 0, \"ticks\": \"\"}, \"type\": \"choropleth\"}], \"contour\": [{\"colorbar\": {\"outlinewidth\": 0, \"ticks\": \"\"}, \"colorscale\": [[0.0, \"#0d0887\"], [0.1111111111111111, \"#46039f\"], [0.2222222222222222, \"#7201a8\"], [0.3333333333333333, \"#9c179e\"], [0.4444444444444444, \"#bd3786\"], [0.5555555555555556, \"#d8576b\"], [0.6666666666666666, \"#ed7953\"], [0.7777777777777778, \"#fb9f3a\"], [0.8888888888888888, \"#fdca26\"], [1.0, \"#f0f921\"]], \"type\": \"contour\"}], \"contourcarpet\": [{\"colorbar\": {\"outlinewidth\": 0, \"ticks\": \"\"}, \"type\": \"contourcarpet\"}], \"heatmap\": [{\"colorbar\": {\"outlinewidth\": 0, \"ticks\": \"\"}, \"colorscale\": [[0.0, \"#0d0887\"], [0.1111111111111111, \"#46039f\"], [0.2222222222222222, \"#7201a8\"], [0.3333333333333333, \"#9c179e\"], [0.4444444444444444, \"#bd3786\"], [0.5555555555555556, \"#d8576b\"], [0.6666666666666666, \"#ed7953\"], [0.7777777777777778, \"#fb9f3a\"], [0.8888888888888888, \"#fdca26\"], [1.0, \"#f0f921\"]], \"type\": \"heatmap\"}], \"heatmapgl\": [{\"colorbar\": {\"outlinewidth\": 0, \"ticks\": \"\"}, \"colorscale\": [[0.0, \"#0d0887\"], [0.1111111111111111, \"#46039f\"], [0.2222222222222222, \"#7201a8\"], [0.3333333333333333, \"#9c179e\"], [0.4444444444444444, \"#bd3786\"], [0.5555555555555556, \"#d8576b\"], [0.6666666666666666, \"#ed7953\"], [0.7777777777777778, \"#fb9f3a\"], [0.8888888888888888, \"#fdca26\"], [1.0, \"#f0f921\"]], \"type\": \"heatmapgl\"}], \"histogram\": [{\"marker\": {\"colorbar\": {\"outlinewidth\": 0, \"ticks\": \"\"}}, \"type\": \"histogram\"}], \"histogram2d\": [{\"colorbar\": {\"outlinewidth\": 0, \"ticks\": \"\"}, \"colorscale\": [[0.0, \"#0d0887\"], [0.1111111111111111, \"#46039f\"], [0.2222222222222222, \"#7201a8\"], [0.3333333333333333, \"#9c179e\"], [0.4444444444444444, \"#bd3786\"], [0.5555555555555556, \"#d8576b\"], [0.6666666666666666, \"#ed7953\"], [0.7777777777777778, \"#fb9f3a\"], [0.8888888888888888, \"#fdca26\"], [1.0, \"#f0f921\"]], \"type\": \"histogram2d\"}], \"histogram2dcontour\": [{\"colorbar\": {\"outlinewidth\": 0, \"ticks\": \"\"}, \"colorscale\": [[0.0, \"#0d0887\"], [0.1111111111111111, \"#46039f\"], [0.2222222222222222, \"#7201a8\"], [0.3333333333333333, \"#9c179e\"], [0.4444444444444444, \"#bd3786\"], [0.5555555555555556, \"#d8576b\"], [0.6666666666666666, \"#ed7953\"], [0.7777777777777778, \"#fb9f3a\"], [0.8888888888888888, \"#fdca26\"], [1.0, \"#f0f921\"]], \"type\": \"histogram2dcontour\"}], \"mesh3d\": [{\"colorbar\": {\"outlinewidth\": 0, \"ticks\": \"\"}, \"type\": \"mesh3d\"}], \"parcoords\": [{\"line\": {\"colorbar\": {\"outlinewidth\": 0, \"ticks\": \"\"}}, \"type\": \"parcoords\"}], \"pie\": [{\"automargin\": true, \"type\": \"pie\"}], \"scatter\": [{\"marker\": {\"colorbar\": {\"outlinewidth\": 0, \"ticks\": \"\"}}, \"type\": \"scatter\"}], \"scatter3d\": [{\"line\": {\"colorbar\": {\"outlinewidth\": 0, \"ticks\": \"\"}}, \"marker\": {\"colorbar\": {\"outlinewidth\": 0, \"ticks\": \"\"}}, \"type\": \"scatter3d\"}], \"scattercarpet\": [{\"marker\": {\"colorbar\": {\"outlinewidth\": 0, \"ticks\": \"\"}}, \"type\": \"scattercarpet\"}], \"scattergeo\": [{\"marker\": {\"colorbar\": {\"outlinewidth\": 0, \"ticks\": \"\"}}, \"type\": \"scattergeo\"}], \"scattergl\": [{\"marker\": {\"colorbar\": {\"outlinewidth\": 0, \"ticks\": \"\"}}, \"type\": \"scattergl\"}], \"scattermapbox\": [{\"marker\": {\"colorbar\": {\"outlinewidth\": 0, \"ticks\": \"\"}}, \"type\": \"scattermapbox\"}], \"scatterpolar\": [{\"marker\": {\"colorbar\": {\"outlinewidth\": 0, \"ticks\": \"\"}}, \"type\": \"scatterpolar\"}], \"scatterpolargl\": [{\"marker\": {\"colorbar\": {\"outlinewidth\": 0, \"ticks\": \"\"}}, \"type\": \"scatterpolargl\"}], \"scatterternary\": [{\"marker\": {\"colorbar\": {\"outlinewidth\": 0, \"ticks\": \"\"}}, \"type\": \"scatterternary\"}], \"surface\": [{\"colorbar\": {\"outlinewidth\": 0, \"ticks\": \"\"}, \"colorscale\": [[0.0, \"#0d0887\"], [0.1111111111111111, \"#46039f\"], [0.2222222222222222, \"#7201a8\"], [0.3333333333333333, \"#9c179e\"], [0.4444444444444444, \"#bd3786\"], [0.5555555555555556, \"#d8576b\"], [0.6666666666666666, \"#ed7953\"], [0.7777777777777778, \"#fb9f3a\"], [0.8888888888888888, \"#fdca26\"], [1.0, \"#f0f921\"]], \"type\": \"surface\"}], \"table\": [{\"cells\": {\"fill\": {\"color\": \"#EBF0F8\"}, \"line\": {\"color\": \"white\"}}, \"header\": {\"fill\": {\"color\": \"#C8D4E3\"}, \"line\": {\"color\": \"white\"}}, \"type\": \"table\"}]}, \"layout\": {\"annotationdefaults\": {\"arrowcolor\": \"#2a3f5f\", \"arrowhead\": 0, \"arrowwidth\": 1}, \"autotypenumbers\": \"strict\", \"coloraxis\": {\"colorbar\": {\"outlinewidth\": 0, \"ticks\": \"\"}}, \"colorscale\": {\"diverging\": [[0, \"#8e0152\"], [0.1, \"#c51b7d\"], [0.2, \"#de77ae\"], [0.3, \"#f1b6da\"], [0.4, \"#fde0ef\"], [0.5, \"#f7f7f7\"], [0.6, \"#e6f5d0\"], [0.7, \"#b8e186\"], [0.8, \"#7fbc41\"], [0.9, \"#4d9221\"], [1, \"#276419\"]], \"sequential\": [[0.0, \"#0d0887\"], [0.1111111111111111, \"#46039f\"], [0.2222222222222222, \"#7201a8\"], [0.3333333333333333, \"#9c179e\"], [0.4444444444444444, \"#bd3786\"], [0.5555555555555556, \"#d8576b\"], [0.6666666666666666, \"#ed7953\"], [0.7777777777777778, \"#fb9f3a\"], [0.8888888888888888, \"#fdca26\"], [1.0, \"#f0f921\"]], \"sequentialminus\": [[0.0, \"#0d0887\"], [0.1111111111111111, \"#46039f\"], [0.2222222222222222, \"#7201a8\"], [0.3333333333333333, \"#9c179e\"], [0.4444444444444444, \"#bd3786\"], [0.5555555555555556, \"#d8576b\"], [0.6666666666666666, \"#ed7953\"], [0.7777777777777778, \"#fb9f3a\"], [0.8888888888888888, \"#fdca26\"], [1.0, \"#f0f921\"]]}, \"colorway\": [\"#636efa\", \"#EF553B\", \"#00cc96\", \"#ab63fa\", \"#FFA15A\", \"#19d3f3\", \"#FF6692\", \"#B6E880\", \"#FF97FF\", \"#FECB52\"], \"font\": {\"color\": \"#2a3f5f\"}, \"geo\": {\"bgcolor\": \"white\", \"lakecolor\": \"white\", \"landcolor\": \"#E5ECF6\", \"showlakes\": true, \"showland\": true, \"subunitcolor\": \"white\"}, \"hoverlabel\": {\"align\": \"left\"}, \"hovermode\": \"closest\", \"mapbox\": {\"style\": \"light\"}, \"paper_bgcolor\": \"white\", \"plot_bgcolor\": \"#E5ECF6\", \"polar\": {\"angularaxis\": {\"gridcolor\": \"white\", \"linecolor\": \"white\", \"ticks\": \"\"}, \"bgcolor\": \"#E5ECF6\", \"radialaxis\": {\"gridcolor\": \"white\", \"linecolor\": \"white\", \"ticks\": \"\"}}, \"scene\": {\"xaxis\": {\"backgroundcolor\": \"#E5ECF6\", \"gridcolor\": \"white\", \"gridwidth\": 2, \"linecolor\": \"white\", \"showbackground\": true, \"ticks\": \"\", \"zerolinecolor\": \"white\"}, \"yaxis\": {\"backgroundcolor\": \"#E5ECF6\", \"gridcolor\": \"white\", \"gridwidth\": 2, \"linecolor\": \"white\", \"showbackground\": true, \"ticks\": \"\", \"zerolinecolor\": \"white\"}, \"zaxis\": {\"backgroundcolor\": \"#E5ECF6\", \"gridcolor\": \"white\", \"gridwidth\": 2, \"linecolor\": \"white\", \"showbackground\": true, \"ticks\": \"\", \"zerolinecolor\": \"white\"}}, \"shapedefaults\": {\"line\": {\"color\": \"#2a3f5f\"}}, \"ternary\": {\"aaxis\": {\"gridcolor\": \"white\", \"linecolor\": \"white\", \"ticks\": \"\"}, \"baxis\": {\"gridcolor\": \"white\", \"linecolor\": \"white\", \"ticks\": \"\"}, \"bgcolor\": \"#E5ECF6\", \"caxis\": {\"gridcolor\": \"white\", \"linecolor\": \"white\", \"ticks\": \"\"}}, \"title\": {\"x\": 0.05}, \"xaxis\": {\"automargin\": true, \"gridcolor\": \"white\", \"linecolor\": \"white\", \"ticks\": \"\", \"title\": {\"standoff\": 15}, \"zerolinecolor\": \"white\", \"zerolinewidth\": 2}, \"yaxis\": {\"automargin\": true, \"gridcolor\": \"white\", \"linecolor\": \"white\", \"ticks\": \"\", \"title\": {\"standoff\": 15}, \"zerolinecolor\": \"white\", \"zerolinewidth\": 2}}}, \"xaxis\": {\"anchor\": \"y\", \"constrain\": \"domain\", \"domain\": [0.0, 1.0], \"scaleanchor\": \"y\"}, \"yaxis\": {\"anchor\": \"x\", \"autorange\": \"reversed\", \"constrain\": \"domain\", \"domain\": [0.0, 1.0]}},                        {\"responsive\": true}                    ).then(function(){\n",
       "                            \n",
       "var gd = document.getElementById('d274c339-718c-4d84-b43a-f573540d0a17');\n",
       "var x = new MutationObserver(function (mutations, observer) {{\n",
       "        var display = window.getComputedStyle(gd).display;\n",
       "        if (!display || display === 'none') {{\n",
       "            console.log([gd, 'removed!']);\n",
       "            Plotly.purge(gd);\n",
       "            observer.disconnect();\n",
       "        }}\n",
       "}});\n",
       "\n",
       "// Listen for the removal of the full notebook cells\n",
       "var notebookContainer = gd.closest('#notebook-container');\n",
       "if (notebookContainer) {{\n",
       "    x.observe(notebookContainer, {childList: true});\n",
       "}}\n",
       "\n",
       "// Listen for the clearing of the current output cell\n",
       "var outputEl = gd.closest('.output');\n",
       "if (outputEl) {{\n",
       "    x.observe(outputEl, {childList: true});\n",
       "}}\n",
       "\n",
       "                        })                };                });            </script>        </div>"
      ]
     },
     "metadata": {},
     "output_type": "display_data"
    }
   ],
   "source": [
    "corr = populations.corr(method = 'pearson') \n",
    "corr.iloc[:,7:]\n",
    "fig = px.imshow(corr)\n",
    "fig.show() # 상관분석 타지역의 집값과 연관이 전혀 상관 없음 세종은 특히 더더욱 상관이 없음. "
   ]
  },
  {
   "cell_type": "code",
   "execution_count": 20,
   "metadata": {},
   "outputs": [],
   "source": [
    "pop = pd.read_csv('행정구역_인구.csv',encoding='CP949',header=1,index_col=0) \n",
    "pop = pop.transpose()\n",
    "pop_sejong = pop[['세종특별자치시']] #216개\n",
    "pop_sejong = pop_sejong.iloc[:list(pop_sejong.index.str.contains('2020. 12')).index(True)+1,:] #총인구수 72"
   ]
  },
  {
   "cell_type": "code",
   "execution_count": 21,
   "metadata": {},
   "outputs": [],
   "source": [
    "sejong = apart_f.loc[:,['세종']]\n",
    "sejong2 = pd.DataFrame()\n",
    "\n",
    "for i in range(2015,2021):\n",
    "    for n in range(1, 13):\n",
    "        if n<10:\n",
    "            sejong2 = sejong2.append(sejong.loc[sejong.index.str.contains(str(i)+'년'+' '+'0'+str(n)+'월')].iloc[[-1]])\n",
    "        else:\n",
    "            sejong2 = sejong2.append( sejong.loc[sejong.index.str.contains(str(i)+'년'+' '+str(n)+'월')].iloc[[-1]] )\n",
    "sejong2.index=pop_sejong.index"
   ]
  },
  {
   "cell_type": "code",
   "execution_count": 22,
   "metadata": {},
   "outputs": [],
   "source": [
    "populations = pd.concat([sejong2,pop_sejong], axis=1)"
   ]
  },
  {
   "cell_type": "code",
   "execution_count": 23,
   "metadata": {},
   "outputs": [
    {
     "data": {
      "text/html": [
       "<div>\n",
       "<style scoped>\n",
       "    .dataframe tbody tr th:only-of-type {\n",
       "        vertical-align: middle;\n",
       "    }\n",
       "\n",
       "    .dataframe tbody tr th {\n",
       "        vertical-align: top;\n",
       "    }\n",
       "\n",
       "    .dataframe thead th {\n",
       "        text-align: right;\n",
       "    }\n",
       "</style>\n",
       "<table border=\"1\" class=\"dataframe\">\n",
       "  <thead>\n",
       "    <tr style=\"text-align: right;\">\n",
       "      <th></th>\n",
       "      <th>세종</th>\n",
       "      <th>세종특별자치시</th>\n",
       "    </tr>\n",
       "  </thead>\n",
       "  <tbody>\n",
       "    <tr>\n",
       "      <th>2015. 01</th>\n",
       "      <td>-0.13</td>\n",
       "      <td>161716</td>\n",
       "    </tr>\n",
       "    <tr>\n",
       "      <th>2015. 02</th>\n",
       "      <td>-0.04</td>\n",
       "      <td>169762</td>\n",
       "    </tr>\n",
       "    <tr>\n",
       "      <th>2015. 03</th>\n",
       "      <td>-0.05</td>\n",
       "      <td>174920</td>\n",
       "    </tr>\n",
       "    <tr>\n",
       "      <th>2015. 04</th>\n",
       "      <td>0.02</td>\n",
       "      <td>178656</td>\n",
       "    </tr>\n",
       "    <tr>\n",
       "      <th>2015. 05</th>\n",
       "      <td>-0.10</td>\n",
       "      <td>182028</td>\n",
       "    </tr>\n",
       "    <tr>\n",
       "      <th>...</th>\n",
       "      <td>...</td>\n",
       "      <td>...</td>\n",
       "    </tr>\n",
       "    <tr>\n",
       "      <th>2020. 08</th>\n",
       "      <td>0.51</td>\n",
       "      <td>347232</td>\n",
       "    </tr>\n",
       "    <tr>\n",
       "      <th>2020. 09</th>\n",
       "      <td>0.42</td>\n",
       "      <td>348014</td>\n",
       "    </tr>\n",
       "    <tr>\n",
       "      <th>2020. 10</th>\n",
       "      <td>0.24</td>\n",
       "      <td>351007</td>\n",
       "    </tr>\n",
       "    <tr>\n",
       "      <th>2020. 11</th>\n",
       "      <td>0.27</td>\n",
       "      <td>353430</td>\n",
       "    </tr>\n",
       "    <tr>\n",
       "      <th>2020. 12</th>\n",
       "      <td>0.27</td>\n",
       "      <td>355831</td>\n",
       "    </tr>\n",
       "  </tbody>\n",
       "</table>\n",
       "<p>72 rows × 2 columns</p>\n",
       "</div>"
      ],
      "text/plain": [
       "            세종  세종특별자치시\n",
       "2015. 01 -0.13   161716\n",
       "2015. 02 -0.04   169762\n",
       "2015. 03 -0.05   174920\n",
       "2015. 04  0.02   178656\n",
       "2015. 05 -0.10   182028\n",
       "...        ...      ...\n",
       "2020. 08  0.51   347232\n",
       "2020. 09  0.42   348014\n",
       "2020. 10  0.24   351007\n",
       "2020. 11  0.27   353430\n",
       "2020. 12  0.27   355831\n",
       "\n",
       "[72 rows x 2 columns]"
      ]
     },
     "execution_count": 23,
     "metadata": {},
     "output_type": "execute_result"
    }
   ],
   "source": [
    "populations"
   ]
  },
  {
   "cell_type": "code",
   "execution_count": 326,
   "metadata": {},
   "outputs": [
    {
     "data": {
      "application/vnd.plotly.v1+json": {
       "config": {
        "plotlyServerURL": "https://plot.ly"
       },
       "data": [
        {
         "coloraxis": "coloraxis",
         "hovertemplate": "x: %{x}<br>y: %{y}<br>color: %{z}<extra></extra>",
         "name": "0",
         "type": "heatmap",
         "x": [
          "세종",
          "세종특별자치시"
         ],
         "xaxis": "x",
         "y": [
          "세종",
          "세종특별자치시"
         ],
         "yaxis": "y",
         "z": [
          [
           1,
           0.35132170929521644
          ],
          [
           0.35132170929521644,
           1
          ]
         ]
        }
       ],
       "layout": {
        "coloraxis": {
         "colorscale": [
          [
           0,
           "#0d0887"
          ],
          [
           0.1111111111111111,
           "#46039f"
          ],
          [
           0.2222222222222222,
           "#7201a8"
          ],
          [
           0.3333333333333333,
           "#9c179e"
          ],
          [
           0.4444444444444444,
           "#bd3786"
          ],
          [
           0.5555555555555556,
           "#d8576b"
          ],
          [
           0.6666666666666666,
           "#ed7953"
          ],
          [
           0.7777777777777778,
           "#fb9f3a"
          ],
          [
           0.8888888888888888,
           "#fdca26"
          ],
          [
           1,
           "#f0f921"
          ]
         ]
        },
        "margin": {
         "t": 60
        },
        "template": {
         "data": {
          "bar": [
           {
            "error_x": {
             "color": "#2a3f5f"
            },
            "error_y": {
             "color": "#2a3f5f"
            },
            "marker": {
             "line": {
              "color": "#E5ECF6",
              "width": 0.5
             }
            },
            "type": "bar"
           }
          ],
          "barpolar": [
           {
            "marker": {
             "line": {
              "color": "#E5ECF6",
              "width": 0.5
             }
            },
            "type": "barpolar"
           }
          ],
          "carpet": [
           {
            "aaxis": {
             "endlinecolor": "#2a3f5f",
             "gridcolor": "white",
             "linecolor": "white",
             "minorgridcolor": "white",
             "startlinecolor": "#2a3f5f"
            },
            "baxis": {
             "endlinecolor": "#2a3f5f",
             "gridcolor": "white",
             "linecolor": "white",
             "minorgridcolor": "white",
             "startlinecolor": "#2a3f5f"
            },
            "type": "carpet"
           }
          ],
          "choropleth": [
           {
            "colorbar": {
             "outlinewidth": 0,
             "ticks": ""
            },
            "type": "choropleth"
           }
          ],
          "contour": [
           {
            "colorbar": {
             "outlinewidth": 0,
             "ticks": ""
            },
            "colorscale": [
             [
              0,
              "#0d0887"
             ],
             [
              0.1111111111111111,
              "#46039f"
             ],
             [
              0.2222222222222222,
              "#7201a8"
             ],
             [
              0.3333333333333333,
              "#9c179e"
             ],
             [
              0.4444444444444444,
              "#bd3786"
             ],
             [
              0.5555555555555556,
              "#d8576b"
             ],
             [
              0.6666666666666666,
              "#ed7953"
             ],
             [
              0.7777777777777778,
              "#fb9f3a"
             ],
             [
              0.8888888888888888,
              "#fdca26"
             ],
             [
              1,
              "#f0f921"
             ]
            ],
            "type": "contour"
           }
          ],
          "contourcarpet": [
           {
            "colorbar": {
             "outlinewidth": 0,
             "ticks": ""
            },
            "type": "contourcarpet"
           }
          ],
          "heatmap": [
           {
            "colorbar": {
             "outlinewidth": 0,
             "ticks": ""
            },
            "colorscale": [
             [
              0,
              "#0d0887"
             ],
             [
              0.1111111111111111,
              "#46039f"
             ],
             [
              0.2222222222222222,
              "#7201a8"
             ],
             [
              0.3333333333333333,
              "#9c179e"
             ],
             [
              0.4444444444444444,
              "#bd3786"
             ],
             [
              0.5555555555555556,
              "#d8576b"
             ],
             [
              0.6666666666666666,
              "#ed7953"
             ],
             [
              0.7777777777777778,
              "#fb9f3a"
             ],
             [
              0.8888888888888888,
              "#fdca26"
             ],
             [
              1,
              "#f0f921"
             ]
            ],
            "type": "heatmap"
           }
          ],
          "heatmapgl": [
           {
            "colorbar": {
             "outlinewidth": 0,
             "ticks": ""
            },
            "colorscale": [
             [
              0,
              "#0d0887"
             ],
             [
              0.1111111111111111,
              "#46039f"
             ],
             [
              0.2222222222222222,
              "#7201a8"
             ],
             [
              0.3333333333333333,
              "#9c179e"
             ],
             [
              0.4444444444444444,
              "#bd3786"
             ],
             [
              0.5555555555555556,
              "#d8576b"
             ],
             [
              0.6666666666666666,
              "#ed7953"
             ],
             [
              0.7777777777777778,
              "#fb9f3a"
             ],
             [
              0.8888888888888888,
              "#fdca26"
             ],
             [
              1,
              "#f0f921"
             ]
            ],
            "type": "heatmapgl"
           }
          ],
          "histogram": [
           {
            "marker": {
             "colorbar": {
              "outlinewidth": 0,
              "ticks": ""
             }
            },
            "type": "histogram"
           }
          ],
          "histogram2d": [
           {
            "colorbar": {
             "outlinewidth": 0,
             "ticks": ""
            },
            "colorscale": [
             [
              0,
              "#0d0887"
             ],
             [
              0.1111111111111111,
              "#46039f"
             ],
             [
              0.2222222222222222,
              "#7201a8"
             ],
             [
              0.3333333333333333,
              "#9c179e"
             ],
             [
              0.4444444444444444,
              "#bd3786"
             ],
             [
              0.5555555555555556,
              "#d8576b"
             ],
             [
              0.6666666666666666,
              "#ed7953"
             ],
             [
              0.7777777777777778,
              "#fb9f3a"
             ],
             [
              0.8888888888888888,
              "#fdca26"
             ],
             [
              1,
              "#f0f921"
             ]
            ],
            "type": "histogram2d"
           }
          ],
          "histogram2dcontour": [
           {
            "colorbar": {
             "outlinewidth": 0,
             "ticks": ""
            },
            "colorscale": [
             [
              0,
              "#0d0887"
             ],
             [
              0.1111111111111111,
              "#46039f"
             ],
             [
              0.2222222222222222,
              "#7201a8"
             ],
             [
              0.3333333333333333,
              "#9c179e"
             ],
             [
              0.4444444444444444,
              "#bd3786"
             ],
             [
              0.5555555555555556,
              "#d8576b"
             ],
             [
              0.6666666666666666,
              "#ed7953"
             ],
             [
              0.7777777777777778,
              "#fb9f3a"
             ],
             [
              0.8888888888888888,
              "#fdca26"
             ],
             [
              1,
              "#f0f921"
             ]
            ],
            "type": "histogram2dcontour"
           }
          ],
          "mesh3d": [
           {
            "colorbar": {
             "outlinewidth": 0,
             "ticks": ""
            },
            "type": "mesh3d"
           }
          ],
          "parcoords": [
           {
            "line": {
             "colorbar": {
              "outlinewidth": 0,
              "ticks": ""
             }
            },
            "type": "parcoords"
           }
          ],
          "pie": [
           {
            "automargin": true,
            "type": "pie"
           }
          ],
          "scatter": [
           {
            "marker": {
             "colorbar": {
              "outlinewidth": 0,
              "ticks": ""
             }
            },
            "type": "scatter"
           }
          ],
          "scatter3d": [
           {
            "line": {
             "colorbar": {
              "outlinewidth": 0,
              "ticks": ""
             }
            },
            "marker": {
             "colorbar": {
              "outlinewidth": 0,
              "ticks": ""
             }
            },
            "type": "scatter3d"
           }
          ],
          "scattercarpet": [
           {
            "marker": {
             "colorbar": {
              "outlinewidth": 0,
              "ticks": ""
             }
            },
            "type": "scattercarpet"
           }
          ],
          "scattergeo": [
           {
            "marker": {
             "colorbar": {
              "outlinewidth": 0,
              "ticks": ""
             }
            },
            "type": "scattergeo"
           }
          ],
          "scattergl": [
           {
            "marker": {
             "colorbar": {
              "outlinewidth": 0,
              "ticks": ""
             }
            },
            "type": "scattergl"
           }
          ],
          "scattermapbox": [
           {
            "marker": {
             "colorbar": {
              "outlinewidth": 0,
              "ticks": ""
             }
            },
            "type": "scattermapbox"
           }
          ],
          "scatterpolar": [
           {
            "marker": {
             "colorbar": {
              "outlinewidth": 0,
              "ticks": ""
             }
            },
            "type": "scatterpolar"
           }
          ],
          "scatterpolargl": [
           {
            "marker": {
             "colorbar": {
              "outlinewidth": 0,
              "ticks": ""
             }
            },
            "type": "scatterpolargl"
           }
          ],
          "scatterternary": [
           {
            "marker": {
             "colorbar": {
              "outlinewidth": 0,
              "ticks": ""
             }
            },
            "type": "scatterternary"
           }
          ],
          "surface": [
           {
            "colorbar": {
             "outlinewidth": 0,
             "ticks": ""
            },
            "colorscale": [
             [
              0,
              "#0d0887"
             ],
             [
              0.1111111111111111,
              "#46039f"
             ],
             [
              0.2222222222222222,
              "#7201a8"
             ],
             [
              0.3333333333333333,
              "#9c179e"
             ],
             [
              0.4444444444444444,
              "#bd3786"
             ],
             [
              0.5555555555555556,
              "#d8576b"
             ],
             [
              0.6666666666666666,
              "#ed7953"
             ],
             [
              0.7777777777777778,
              "#fb9f3a"
             ],
             [
              0.8888888888888888,
              "#fdca26"
             ],
             [
              1,
              "#f0f921"
             ]
            ],
            "type": "surface"
           }
          ],
          "table": [
           {
            "cells": {
             "fill": {
              "color": "#EBF0F8"
             },
             "line": {
              "color": "white"
             }
            },
            "header": {
             "fill": {
              "color": "#C8D4E3"
             },
             "line": {
              "color": "white"
             }
            },
            "type": "table"
           }
          ]
         },
         "layout": {
          "annotationdefaults": {
           "arrowcolor": "#2a3f5f",
           "arrowhead": 0,
           "arrowwidth": 1
          },
          "autotypenumbers": "strict",
          "coloraxis": {
           "colorbar": {
            "outlinewidth": 0,
            "ticks": ""
           }
          },
          "colorscale": {
           "diverging": [
            [
             0,
             "#8e0152"
            ],
            [
             0.1,
             "#c51b7d"
            ],
            [
             0.2,
             "#de77ae"
            ],
            [
             0.3,
             "#f1b6da"
            ],
            [
             0.4,
             "#fde0ef"
            ],
            [
             0.5,
             "#f7f7f7"
            ],
            [
             0.6,
             "#e6f5d0"
            ],
            [
             0.7,
             "#b8e186"
            ],
            [
             0.8,
             "#7fbc41"
            ],
            [
             0.9,
             "#4d9221"
            ],
            [
             1,
             "#276419"
            ]
           ],
           "sequential": [
            [
             0,
             "#0d0887"
            ],
            [
             0.1111111111111111,
             "#46039f"
            ],
            [
             0.2222222222222222,
             "#7201a8"
            ],
            [
             0.3333333333333333,
             "#9c179e"
            ],
            [
             0.4444444444444444,
             "#bd3786"
            ],
            [
             0.5555555555555556,
             "#d8576b"
            ],
            [
             0.6666666666666666,
             "#ed7953"
            ],
            [
             0.7777777777777778,
             "#fb9f3a"
            ],
            [
             0.8888888888888888,
             "#fdca26"
            ],
            [
             1,
             "#f0f921"
            ]
           ],
           "sequentialminus": [
            [
             0,
             "#0d0887"
            ],
            [
             0.1111111111111111,
             "#46039f"
            ],
            [
             0.2222222222222222,
             "#7201a8"
            ],
            [
             0.3333333333333333,
             "#9c179e"
            ],
            [
             0.4444444444444444,
             "#bd3786"
            ],
            [
             0.5555555555555556,
             "#d8576b"
            ],
            [
             0.6666666666666666,
             "#ed7953"
            ],
            [
             0.7777777777777778,
             "#fb9f3a"
            ],
            [
             0.8888888888888888,
             "#fdca26"
            ],
            [
             1,
             "#f0f921"
            ]
           ]
          },
          "colorway": [
           "#636efa",
           "#EF553B",
           "#00cc96",
           "#ab63fa",
           "#FFA15A",
           "#19d3f3",
           "#FF6692",
           "#B6E880",
           "#FF97FF",
           "#FECB52"
          ],
          "font": {
           "color": "#2a3f5f"
          },
          "geo": {
           "bgcolor": "white",
           "lakecolor": "white",
           "landcolor": "#E5ECF6",
           "showlakes": true,
           "showland": true,
           "subunitcolor": "white"
          },
          "hoverlabel": {
           "align": "left"
          },
          "hovermode": "closest",
          "mapbox": {
           "style": "light"
          },
          "paper_bgcolor": "white",
          "plot_bgcolor": "#E5ECF6",
          "polar": {
           "angularaxis": {
            "gridcolor": "white",
            "linecolor": "white",
            "ticks": ""
           },
           "bgcolor": "#E5ECF6",
           "radialaxis": {
            "gridcolor": "white",
            "linecolor": "white",
            "ticks": ""
           }
          },
          "scene": {
           "xaxis": {
            "backgroundcolor": "#E5ECF6",
            "gridcolor": "white",
            "gridwidth": 2,
            "linecolor": "white",
            "showbackground": true,
            "ticks": "",
            "zerolinecolor": "white"
           },
           "yaxis": {
            "backgroundcolor": "#E5ECF6",
            "gridcolor": "white",
            "gridwidth": 2,
            "linecolor": "white",
            "showbackground": true,
            "ticks": "",
            "zerolinecolor": "white"
           },
           "zaxis": {
            "backgroundcolor": "#E5ECF6",
            "gridcolor": "white",
            "gridwidth": 2,
            "linecolor": "white",
            "showbackground": true,
            "ticks": "",
            "zerolinecolor": "white"
           }
          },
          "shapedefaults": {
           "line": {
            "color": "#2a3f5f"
           }
          },
          "ternary": {
           "aaxis": {
            "gridcolor": "white",
            "linecolor": "white",
            "ticks": ""
           },
           "baxis": {
            "gridcolor": "white",
            "linecolor": "white",
            "ticks": ""
           },
           "bgcolor": "#E5ECF6",
           "caxis": {
            "gridcolor": "white",
            "linecolor": "white",
            "ticks": ""
           }
          },
          "title": {
           "x": 0.05
          },
          "xaxis": {
           "automargin": true,
           "gridcolor": "white",
           "linecolor": "white",
           "ticks": "",
           "title": {
            "standoff": 15
           },
           "zerolinecolor": "white",
           "zerolinewidth": 2
          },
          "yaxis": {
           "automargin": true,
           "gridcolor": "white",
           "linecolor": "white",
           "ticks": "",
           "title": {
            "standoff": 15
           },
           "zerolinecolor": "white",
           "zerolinewidth": 2
          }
         }
        },
        "xaxis": {
         "anchor": "y",
         "constrain": "domain",
         "domain": [
          0,
          1
         ],
         "scaleanchor": "y"
        },
        "yaxis": {
         "anchor": "x",
         "autorange": "reversed",
         "constrain": "domain",
         "domain": [
          0,
          1
         ]
        }
       }
      },
      "text/html": [
       "<div>                            <div id=\"e6793f4d-8c1f-4ca0-acab-7005471a0e7d\" class=\"plotly-graph-div\" style=\"height:525px; width:100%;\"></div>            <script type=\"text/javascript\">                require([\"plotly\"], function(Plotly) {                    window.PLOTLYENV=window.PLOTLYENV || {};                                    if (document.getElementById(\"e6793f4d-8c1f-4ca0-acab-7005471a0e7d\")) {                    Plotly.newPlot(                        \"e6793f4d-8c1f-4ca0-acab-7005471a0e7d\",                        [{\"coloraxis\": \"coloraxis\", \"hovertemplate\": \"x: %{x}<br>y: %{y}<br>color: %{z}<extra></extra>\", \"name\": \"0\", \"type\": \"heatmap\", \"x\": [\"\\uc138\\uc885\", \"\\uc138\\uc885\\ud2b9\\ubcc4\\uc790\\uce58\\uc2dc\"], \"xaxis\": \"x\", \"y\": [\"\\uc138\\uc885\", \"\\uc138\\uc885\\ud2b9\\ubcc4\\uc790\\uce58\\uc2dc\"], \"yaxis\": \"y\", \"z\": [[1.0, 0.35132170929521644], [0.35132170929521644, 1.0]]}],                        {\"coloraxis\": {\"colorscale\": [[0.0, \"#0d0887\"], [0.1111111111111111, \"#46039f\"], [0.2222222222222222, \"#7201a8\"], [0.3333333333333333, \"#9c179e\"], [0.4444444444444444, \"#bd3786\"], [0.5555555555555556, \"#d8576b\"], [0.6666666666666666, \"#ed7953\"], [0.7777777777777778, \"#fb9f3a\"], [0.8888888888888888, \"#fdca26\"], [1.0, \"#f0f921\"]]}, \"margin\": {\"t\": 60}, \"template\": {\"data\": {\"bar\": [{\"error_x\": {\"color\": \"#2a3f5f\"}, \"error_y\": {\"color\": \"#2a3f5f\"}, \"marker\": {\"line\": {\"color\": \"#E5ECF6\", \"width\": 0.5}}, \"type\": \"bar\"}], \"barpolar\": [{\"marker\": {\"line\": {\"color\": \"#E5ECF6\", \"width\": 0.5}}, \"type\": \"barpolar\"}], \"carpet\": [{\"aaxis\": {\"endlinecolor\": \"#2a3f5f\", \"gridcolor\": \"white\", \"linecolor\": \"white\", \"minorgridcolor\": \"white\", \"startlinecolor\": \"#2a3f5f\"}, \"baxis\": {\"endlinecolor\": \"#2a3f5f\", \"gridcolor\": \"white\", \"linecolor\": \"white\", \"minorgridcolor\": \"white\", \"startlinecolor\": \"#2a3f5f\"}, \"type\": \"carpet\"}], \"choropleth\": [{\"colorbar\": {\"outlinewidth\": 0, \"ticks\": \"\"}, \"type\": \"choropleth\"}], \"contour\": [{\"colorbar\": {\"outlinewidth\": 0, \"ticks\": \"\"}, \"colorscale\": [[0.0, \"#0d0887\"], [0.1111111111111111, \"#46039f\"], [0.2222222222222222, \"#7201a8\"], [0.3333333333333333, \"#9c179e\"], [0.4444444444444444, \"#bd3786\"], [0.5555555555555556, \"#d8576b\"], [0.6666666666666666, \"#ed7953\"], [0.7777777777777778, \"#fb9f3a\"], [0.8888888888888888, \"#fdca26\"], [1.0, \"#f0f921\"]], \"type\": \"contour\"}], \"contourcarpet\": [{\"colorbar\": {\"outlinewidth\": 0, \"ticks\": \"\"}, \"type\": \"contourcarpet\"}], \"heatmap\": [{\"colorbar\": {\"outlinewidth\": 0, \"ticks\": \"\"}, \"colorscale\": [[0.0, \"#0d0887\"], [0.1111111111111111, \"#46039f\"], [0.2222222222222222, \"#7201a8\"], [0.3333333333333333, \"#9c179e\"], [0.4444444444444444, \"#bd3786\"], [0.5555555555555556, \"#d8576b\"], [0.6666666666666666, \"#ed7953\"], [0.7777777777777778, \"#fb9f3a\"], [0.8888888888888888, \"#fdca26\"], [1.0, \"#f0f921\"]], \"type\": \"heatmap\"}], \"heatmapgl\": [{\"colorbar\": {\"outlinewidth\": 0, \"ticks\": \"\"}, \"colorscale\": [[0.0, \"#0d0887\"], [0.1111111111111111, \"#46039f\"], [0.2222222222222222, \"#7201a8\"], [0.3333333333333333, \"#9c179e\"], [0.4444444444444444, \"#bd3786\"], [0.5555555555555556, \"#d8576b\"], [0.6666666666666666, \"#ed7953\"], [0.7777777777777778, \"#fb9f3a\"], [0.8888888888888888, \"#fdca26\"], [1.0, \"#f0f921\"]], \"type\": \"heatmapgl\"}], \"histogram\": [{\"marker\": {\"colorbar\": {\"outlinewidth\": 0, \"ticks\": \"\"}}, \"type\": \"histogram\"}], \"histogram2d\": [{\"colorbar\": {\"outlinewidth\": 0, \"ticks\": \"\"}, \"colorscale\": [[0.0, \"#0d0887\"], [0.1111111111111111, \"#46039f\"], [0.2222222222222222, \"#7201a8\"], [0.3333333333333333, \"#9c179e\"], [0.4444444444444444, \"#bd3786\"], [0.5555555555555556, \"#d8576b\"], [0.6666666666666666, \"#ed7953\"], [0.7777777777777778, \"#fb9f3a\"], [0.8888888888888888, \"#fdca26\"], [1.0, \"#f0f921\"]], \"type\": \"histogram2d\"}], \"histogram2dcontour\": [{\"colorbar\": {\"outlinewidth\": 0, \"ticks\": \"\"}, \"colorscale\": [[0.0, \"#0d0887\"], [0.1111111111111111, \"#46039f\"], [0.2222222222222222, \"#7201a8\"], [0.3333333333333333, \"#9c179e\"], [0.4444444444444444, \"#bd3786\"], [0.5555555555555556, \"#d8576b\"], [0.6666666666666666, \"#ed7953\"], [0.7777777777777778, \"#fb9f3a\"], [0.8888888888888888, \"#fdca26\"], [1.0, \"#f0f921\"]], \"type\": \"histogram2dcontour\"}], \"mesh3d\": [{\"colorbar\": {\"outlinewidth\": 0, \"ticks\": \"\"}, \"type\": \"mesh3d\"}], \"parcoords\": [{\"line\": {\"colorbar\": {\"outlinewidth\": 0, \"ticks\": \"\"}}, \"type\": \"parcoords\"}], \"pie\": [{\"automargin\": true, \"type\": \"pie\"}], \"scatter\": [{\"marker\": {\"colorbar\": {\"outlinewidth\": 0, \"ticks\": \"\"}}, \"type\": \"scatter\"}], \"scatter3d\": [{\"line\": {\"colorbar\": {\"outlinewidth\": 0, \"ticks\": \"\"}}, \"marker\": {\"colorbar\": {\"outlinewidth\": 0, \"ticks\": \"\"}}, \"type\": \"scatter3d\"}], \"scattercarpet\": [{\"marker\": {\"colorbar\": {\"outlinewidth\": 0, \"ticks\": \"\"}}, \"type\": \"scattercarpet\"}], \"scattergeo\": [{\"marker\": {\"colorbar\": {\"outlinewidth\": 0, \"ticks\": \"\"}}, \"type\": \"scattergeo\"}], \"scattergl\": [{\"marker\": {\"colorbar\": {\"outlinewidth\": 0, \"ticks\": \"\"}}, \"type\": \"scattergl\"}], \"scattermapbox\": [{\"marker\": {\"colorbar\": {\"outlinewidth\": 0, \"ticks\": \"\"}}, \"type\": \"scattermapbox\"}], \"scatterpolar\": [{\"marker\": {\"colorbar\": {\"outlinewidth\": 0, \"ticks\": \"\"}}, \"type\": \"scatterpolar\"}], \"scatterpolargl\": [{\"marker\": {\"colorbar\": {\"outlinewidth\": 0, \"ticks\": \"\"}}, \"type\": \"scatterpolargl\"}], \"scatterternary\": [{\"marker\": {\"colorbar\": {\"outlinewidth\": 0, \"ticks\": \"\"}}, \"type\": \"scatterternary\"}], \"surface\": [{\"colorbar\": {\"outlinewidth\": 0, \"ticks\": \"\"}, \"colorscale\": [[0.0, \"#0d0887\"], [0.1111111111111111, \"#46039f\"], [0.2222222222222222, \"#7201a8\"], [0.3333333333333333, \"#9c179e\"], [0.4444444444444444, \"#bd3786\"], [0.5555555555555556, \"#d8576b\"], [0.6666666666666666, \"#ed7953\"], [0.7777777777777778, \"#fb9f3a\"], [0.8888888888888888, \"#fdca26\"], [1.0, \"#f0f921\"]], \"type\": \"surface\"}], \"table\": [{\"cells\": {\"fill\": {\"color\": \"#EBF0F8\"}, \"line\": {\"color\": \"white\"}}, \"header\": {\"fill\": {\"color\": \"#C8D4E3\"}, \"line\": {\"color\": \"white\"}}, \"type\": \"table\"}]}, \"layout\": {\"annotationdefaults\": {\"arrowcolor\": \"#2a3f5f\", \"arrowhead\": 0, \"arrowwidth\": 1}, \"autotypenumbers\": \"strict\", \"coloraxis\": {\"colorbar\": {\"outlinewidth\": 0, \"ticks\": \"\"}}, \"colorscale\": {\"diverging\": [[0, \"#8e0152\"], [0.1, \"#c51b7d\"], [0.2, \"#de77ae\"], [0.3, \"#f1b6da\"], [0.4, \"#fde0ef\"], [0.5, \"#f7f7f7\"], [0.6, \"#e6f5d0\"], [0.7, \"#b8e186\"], [0.8, \"#7fbc41\"], [0.9, \"#4d9221\"], [1, \"#276419\"]], \"sequential\": [[0.0, \"#0d0887\"], [0.1111111111111111, \"#46039f\"], [0.2222222222222222, \"#7201a8\"], [0.3333333333333333, \"#9c179e\"], [0.4444444444444444, \"#bd3786\"], [0.5555555555555556, \"#d8576b\"], [0.6666666666666666, \"#ed7953\"], [0.7777777777777778, \"#fb9f3a\"], [0.8888888888888888, \"#fdca26\"], [1.0, \"#f0f921\"]], \"sequentialminus\": [[0.0, \"#0d0887\"], [0.1111111111111111, \"#46039f\"], [0.2222222222222222, \"#7201a8\"], [0.3333333333333333, \"#9c179e\"], [0.4444444444444444, \"#bd3786\"], [0.5555555555555556, \"#d8576b\"], [0.6666666666666666, \"#ed7953\"], [0.7777777777777778, \"#fb9f3a\"], [0.8888888888888888, \"#fdca26\"], [1.0, \"#f0f921\"]]}, \"colorway\": [\"#636efa\", \"#EF553B\", \"#00cc96\", \"#ab63fa\", \"#FFA15A\", \"#19d3f3\", \"#FF6692\", \"#B6E880\", \"#FF97FF\", \"#FECB52\"], \"font\": {\"color\": \"#2a3f5f\"}, \"geo\": {\"bgcolor\": \"white\", \"lakecolor\": \"white\", \"landcolor\": \"#E5ECF6\", \"showlakes\": true, \"showland\": true, \"subunitcolor\": \"white\"}, \"hoverlabel\": {\"align\": \"left\"}, \"hovermode\": \"closest\", \"mapbox\": {\"style\": \"light\"}, \"paper_bgcolor\": \"white\", \"plot_bgcolor\": \"#E5ECF6\", \"polar\": {\"angularaxis\": {\"gridcolor\": \"white\", \"linecolor\": \"white\", \"ticks\": \"\"}, \"bgcolor\": \"#E5ECF6\", \"radialaxis\": {\"gridcolor\": \"white\", \"linecolor\": \"white\", \"ticks\": \"\"}}, \"scene\": {\"xaxis\": {\"backgroundcolor\": \"#E5ECF6\", \"gridcolor\": \"white\", \"gridwidth\": 2, \"linecolor\": \"white\", \"showbackground\": true, \"ticks\": \"\", \"zerolinecolor\": \"white\"}, \"yaxis\": {\"backgroundcolor\": \"#E5ECF6\", \"gridcolor\": \"white\", \"gridwidth\": 2, \"linecolor\": \"white\", \"showbackground\": true, \"ticks\": \"\", \"zerolinecolor\": \"white\"}, \"zaxis\": {\"backgroundcolor\": \"#E5ECF6\", \"gridcolor\": \"white\", \"gridwidth\": 2, \"linecolor\": \"white\", \"showbackground\": true, \"ticks\": \"\", \"zerolinecolor\": \"white\"}}, \"shapedefaults\": {\"line\": {\"color\": \"#2a3f5f\"}}, \"ternary\": {\"aaxis\": {\"gridcolor\": \"white\", \"linecolor\": \"white\", \"ticks\": \"\"}, \"baxis\": {\"gridcolor\": \"white\", \"linecolor\": \"white\", \"ticks\": \"\"}, \"bgcolor\": \"#E5ECF6\", \"caxis\": {\"gridcolor\": \"white\", \"linecolor\": \"white\", \"ticks\": \"\"}}, \"title\": {\"x\": 0.05}, \"xaxis\": {\"automargin\": true, \"gridcolor\": \"white\", \"linecolor\": \"white\", \"ticks\": \"\", \"title\": {\"standoff\": 15}, \"zerolinecolor\": \"white\", \"zerolinewidth\": 2}, \"yaxis\": {\"automargin\": true, \"gridcolor\": \"white\", \"linecolor\": \"white\", \"ticks\": \"\", \"title\": {\"standoff\": 15}, \"zerolinecolor\": \"white\", \"zerolinewidth\": 2}}}, \"xaxis\": {\"anchor\": \"y\", \"constrain\": \"domain\", \"domain\": [0.0, 1.0], \"scaleanchor\": \"y\"}, \"yaxis\": {\"anchor\": \"x\", \"autorange\": \"reversed\", \"constrain\": \"domain\", \"domain\": [0.0, 1.0]}},                        {\"responsive\": true}                    ).then(function(){\n",
       "                            \n",
       "var gd = document.getElementById('e6793f4d-8c1f-4ca0-acab-7005471a0e7d');\n",
       "var x = new MutationObserver(function (mutations, observer) {{\n",
       "        var display = window.getComputedStyle(gd).display;\n",
       "        if (!display || display === 'none') {{\n",
       "            console.log([gd, 'removed!']);\n",
       "            Plotly.purge(gd);\n",
       "            observer.disconnect();\n",
       "        }}\n",
       "}});\n",
       "\n",
       "// Listen for the removal of the full notebook cells\n",
       "var notebookContainer = gd.closest('#notebook-container');\n",
       "if (notebookContainer) {{\n",
       "    x.observe(notebookContainer, {childList: true});\n",
       "}}\n",
       "\n",
       "// Listen for the clearing of the current output cell\n",
       "var outputEl = gd.closest('.output');\n",
       "if (outputEl) {{\n",
       "    x.observe(outputEl, {childList: true});\n",
       "}}\n",
       "\n",
       "                        })                };                });            </script>        </div>"
      ]
     },
     "metadata": {},
     "output_type": "display_data"
    }
   ],
   "source": [
    "corr = populations.corr(method = 'pearson') \n",
    "fig = px.imshow(corr)\n",
    "fig.show()"
   ]
  },
  {
   "cell_type": "code",
   "execution_count": 387,
   "metadata": {},
   "outputs": [
    {
     "data": {
      "text/plain": [
       "(0.35132170929521656, 0.0024782827311330704)"
      ]
     },
     "execution_count": 387,
     "metadata": {},
     "output_type": "execute_result"
    }
   ],
   "source": [
    "import scipy.stats \n",
    "\n",
    "scipy.stats.pearsonr(populations.iloc[:,0].values, populations.iloc[:,1].values)"
   ]
  },
  {
   "cell_type": "markdown",
   "metadata": {},
   "source": [
    "# 세종 2012~ 2021.5"
   ]
  },
  {
   "cell_type": "code",
   "execution_count": 6,
   "metadata": {
    "scrolled": true
   },
   "outputs": [],
   "source": [
    "sejong = pd.read_csv('세종매매상승률.csv',encoding='CP949',header=[0,1]) #csv파일을 읽어온다. \n",
    "\n",
    "test = sejong.iloc[:,[-1]]\n",
    "test.rename(columns = {'Unnamed: 204':'2021년 5월'},inplace=True)\n",
    "test.index = sejong.iloc[:,0]\n",
    "\n",
    "[sejong.rename(columns={sejong.columns[index][0]:sejong.columns[index-1][0]},inplace=True) for index,i in enumerate(sejong.columns[1:]) if index%2==0]\n",
    "sejong.rename(columns={'Unnamed: 0_level_1':'지역'},inplace=True) # 지역으로 이름변경\n",
    "sejong.rename(columns={'Unnamed: 204':'지역'},inplace=True) # 지역으로 이름변경\n",
    "sejong.set_index('지역',inplace=True)\n",
    "sejong.index = sejong.index.map(lambda x : x[0]) \n",
    "sejong2 = pd.DataFrame(sejong.iloc[:,1::2].values,columns=sejong.columns[1::2].map(lambda x : x[0])) #변동률별로 데이터프레임 생성\n",
    "sejong2.index = sejong.index\n",
    "sejong2 = pd.concat([sejong2,test], axis=1)"
   ]
  },
  {
   "cell_type": "code",
   "execution_count": 7,
   "metadata": {},
   "outputs": [],
   "source": [
    "pop = pd.read_csv('세종인구.csv',encoding='CP949',header=1,index_col=0) #csv파일을 읽어온다. \n",
    "pop.index.name='지역'\n",
    "sejong2.columns = pop.columns\n",
    "pop = pop.transpose()\n",
    "sejong2 = sejong2.transpose()"
   ]
  },
  {
   "cell_type": "code",
   "execution_count": 8,
   "metadata": {},
   "outputs": [
    {
     "data": {
      "text/html": [
       "<div>\n",
       "<style scoped>\n",
       "    .dataframe tbody tr th:only-of-type {\n",
       "        vertical-align: middle;\n",
       "    }\n",
       "\n",
       "    .dataframe tbody tr th {\n",
       "        vertical-align: top;\n",
       "    }\n",
       "\n",
       "    .dataframe thead th {\n",
       "        text-align: right;\n",
       "    }\n",
       "</style>\n",
       "<table border=\"1\" class=\"dataframe\">\n",
       "  <thead>\n",
       "    <tr style=\"text-align: right;\">\n",
       "      <th></th>\n",
       "      <th>전국</th>\n",
       "      <th>서울</th>\n",
       "      <th>경기</th>\n",
       "      <th>인천</th>\n",
       "      <th>부산</th>\n",
       "      <th>대구</th>\n",
       "      <th>광주</th>\n",
       "      <th>대전</th>\n",
       "      <th>울산</th>\n",
       "      <th>세종</th>\n",
       "      <th>강원</th>\n",
       "      <th>충북</th>\n",
       "      <th>충남</th>\n",
       "      <th>전북</th>\n",
       "      <th>전남</th>\n",
       "      <th>경북</th>\n",
       "      <th>경남</th>\n",
       "      <th>제주</th>\n",
       "    </tr>\n",
       "  </thead>\n",
       "  <tbody>\n",
       "    <tr>\n",
       "      <th>2012. 12</th>\n",
       "      <td>-0.28</td>\n",
       "      <td>-0.64</td>\n",
       "      <td>-0.55</td>\n",
       "      <td>-0.65</td>\n",
       "      <td>-0.33</td>\n",
       "      <td>0.72</td>\n",
       "      <td>0.27</td>\n",
       "      <td>0.07</td>\n",
       "      <td>-0.28</td>\n",
       "      <td>1.61</td>\n",
       "      <td>0.04</td>\n",
       "      <td>0.16</td>\n",
       "      <td>0.78</td>\n",
       "      <td>-1.02</td>\n",
       "      <td>-0.16</td>\n",
       "      <td>0.54</td>\n",
       "      <td>-0.33</td>\n",
       "      <td>-0.51</td>\n",
       "    </tr>\n",
       "    <tr>\n",
       "      <th>2013. 01</th>\n",
       "      <td>-0.32</td>\n",
       "      <td>-0.63</td>\n",
       "      <td>-0.64</td>\n",
       "      <td>-0.81</td>\n",
       "      <td>-0.33</td>\n",
       "      <td>0.71</td>\n",
       "      <td>0.03</td>\n",
       "      <td>0.05</td>\n",
       "      <td>-0.12</td>\n",
       "      <td>1.56</td>\n",
       "      <td>-0.14</td>\n",
       "      <td>-0.08</td>\n",
       "      <td>0.51</td>\n",
       "      <td>-0.75</td>\n",
       "      <td>-0.05</td>\n",
       "      <td>0.65</td>\n",
       "      <td>-0.36</td>\n",
       "      <td>-0.26</td>\n",
       "    </tr>\n",
       "    <tr>\n",
       "      <th>2013. 02</th>\n",
       "      <td>-0.23</td>\n",
       "      <td>-0.39</td>\n",
       "      <td>-0.44</td>\n",
       "      <td>-0.57</td>\n",
       "      <td>-0.24</td>\n",
       "      <td>0.25</td>\n",
       "      <td>0.11</td>\n",
       "      <td>-0.09</td>\n",
       "      <td>-0.19</td>\n",
       "      <td>1.14</td>\n",
       "      <td>-0.22</td>\n",
       "      <td>0.04</td>\n",
       "      <td>0.18</td>\n",
       "      <td>-0.08</td>\n",
       "      <td>-0.27</td>\n",
       "      <td>0.48</td>\n",
       "      <td>-0.21</td>\n",
       "      <td>-0.02</td>\n",
       "    </tr>\n",
       "    <tr>\n",
       "      <th>2013. 03</th>\n",
       "      <td>-0.10</td>\n",
       "      <td>-0.12</td>\n",
       "      <td>-0.32</td>\n",
       "      <td>-0.38</td>\n",
       "      <td>-0.16</td>\n",
       "      <td>0.26</td>\n",
       "      <td>0.16</td>\n",
       "      <td>0.08</td>\n",
       "      <td>-0.17</td>\n",
       "      <td>1.26</td>\n",
       "      <td>-0.32</td>\n",
       "      <td>0.02</td>\n",
       "      <td>0.23</td>\n",
       "      <td>-0.18</td>\n",
       "      <td>-0.20</td>\n",
       "      <td>0.65</td>\n",
       "      <td>-0.01</td>\n",
       "      <td>-0.04</td>\n",
       "    </tr>\n",
       "    <tr>\n",
       "      <th>2013. 04</th>\n",
       "      <td>0.18</td>\n",
       "      <td>0.14</td>\n",
       "      <td>-0.03</td>\n",
       "      <td>0.21</td>\n",
       "      <td>0.01</td>\n",
       "      <td>1.12</td>\n",
       "      <td>0.31</td>\n",
       "      <td>0.29</td>\n",
       "      <td>0.08</td>\n",
       "      <td>0.92</td>\n",
       "      <td>0.06</td>\n",
       "      <td>0.32</td>\n",
       "      <td>0.26</td>\n",
       "      <td>0.01</td>\n",
       "      <td>-0.24</td>\n",
       "      <td>0.70</td>\n",
       "      <td>0.29</td>\n",
       "      <td>0.18</td>\n",
       "    </tr>\n",
       "    <tr>\n",
       "      <th>...</th>\n",
       "      <td>...</td>\n",
       "      <td>...</td>\n",
       "      <td>...</td>\n",
       "      <td>...</td>\n",
       "      <td>...</td>\n",
       "      <td>...</td>\n",
       "      <td>...</td>\n",
       "      <td>...</td>\n",
       "      <td>...</td>\n",
       "      <td>...</td>\n",
       "      <td>...</td>\n",
       "      <td>...</td>\n",
       "      <td>...</td>\n",
       "      <td>...</td>\n",
       "      <td>...</td>\n",
       "      <td>...</td>\n",
       "      <td>...</td>\n",
       "      <td>...</td>\n",
       "    </tr>\n",
       "    <tr>\n",
       "      <th>2021. 01</th>\n",
       "      <td>1.14</td>\n",
       "      <td>0.40</td>\n",
       "      <td>1.54</td>\n",
       "      <td>1.09</td>\n",
       "      <td>1.92</td>\n",
       "      <td>1.51</td>\n",
       "      <td>0.64</td>\n",
       "      <td>1.46</td>\n",
       "      <td>2.08</td>\n",
       "      <td>0.95</td>\n",
       "      <td>0.78</td>\n",
       "      <td>0.64</td>\n",
       "      <td>1.09</td>\n",
       "      <td>0.29</td>\n",
       "      <td>0.19</td>\n",
       "      <td>1.26</td>\n",
       "      <td>1.07</td>\n",
       "      <td>0.46</td>\n",
       "    </tr>\n",
       "    <tr>\n",
       "      <th>2021. 02</th>\n",
       "      <td>1.31</td>\n",
       "      <td>0.67</td>\n",
       "      <td>2.30</td>\n",
       "      <td>1.77</td>\n",
       "      <td>1.35</td>\n",
       "      <td>1.74</td>\n",
       "      <td>0.44</td>\n",
       "      <td>1.65</td>\n",
       "      <td>1.14</td>\n",
       "      <td>0.95</td>\n",
       "      <td>0.77</td>\n",
       "      <td>0.74</td>\n",
       "      <td>0.94</td>\n",
       "      <td>0.13</td>\n",
       "      <td>0.10</td>\n",
       "      <td>1.04</td>\n",
       "      <td>0.54</td>\n",
       "      <td>0.63</td>\n",
       "    </tr>\n",
       "    <tr>\n",
       "      <th>2021. 03</th>\n",
       "      <td>1.07</td>\n",
       "      <td>0.49</td>\n",
       "      <td>1.77</td>\n",
       "      <td>2.07</td>\n",
       "      <td>0.85</td>\n",
       "      <td>1.46</td>\n",
       "      <td>0.38</td>\n",
       "      <td>1.56</td>\n",
       "      <td>0.63</td>\n",
       "      <td>0.67</td>\n",
       "      <td>0.70</td>\n",
       "      <td>0.81</td>\n",
       "      <td>0.89</td>\n",
       "      <td>0.17</td>\n",
       "      <td>0.05</td>\n",
       "      <td>0.70</td>\n",
       "      <td>0.47</td>\n",
       "      <td>0.45</td>\n",
       "    </tr>\n",
       "    <tr>\n",
       "      <th>2021. 04</th>\n",
       "      <td>1.01</td>\n",
       "      <td>0.43</td>\n",
       "      <td>1.63</td>\n",
       "      <td>2.27</td>\n",
       "      <td>0.73</td>\n",
       "      <td>1.05</td>\n",
       "      <td>0.51</td>\n",
       "      <td>1.30</td>\n",
       "      <td>0.46</td>\n",
       "      <td>0.43</td>\n",
       "      <td>0.68</td>\n",
       "      <td>0.87</td>\n",
       "      <td>1.08</td>\n",
       "      <td>0.39</td>\n",
       "      <td>0.14</td>\n",
       "      <td>0.69</td>\n",
       "      <td>0.56</td>\n",
       "      <td>0.60</td>\n",
       "    </tr>\n",
       "    <tr>\n",
       "      <th>2021. 05</th>\n",
       "      <td>0.98</td>\n",
       "      <td>0.48</td>\n",
       "      <td>1.41</td>\n",
       "      <td>2.19</td>\n",
       "      <td>1.03</td>\n",
       "      <td>0.98</td>\n",
       "      <td>0.53</td>\n",
       "      <td>1.16</td>\n",
       "      <td>0.40</td>\n",
       "      <td>0.12</td>\n",
       "      <td>0.54</td>\n",
       "      <td>0.89</td>\n",
       "      <td>0.94</td>\n",
       "      <td>0.43</td>\n",
       "      <td>0.16</td>\n",
       "      <td>0.83</td>\n",
       "      <td>0.55</td>\n",
       "      <td>2.02</td>\n",
       "    </tr>\n",
       "  </tbody>\n",
       "</table>\n",
       "<p>102 rows × 18 columns</p>\n",
       "</div>"
      ],
      "text/plain": [
       "            전국    서울    경기    인천    부산    대구    광주    대전    울산    세종    강원  \\\n",
       "2012. 12 -0.28 -0.64 -0.55 -0.65 -0.33  0.72  0.27  0.07 -0.28  1.61  0.04   \n",
       "2013. 01 -0.32 -0.63 -0.64 -0.81 -0.33  0.71  0.03  0.05 -0.12  1.56 -0.14   \n",
       "2013. 02 -0.23 -0.39 -0.44 -0.57 -0.24  0.25  0.11 -0.09 -0.19  1.14 -0.22   \n",
       "2013. 03 -0.10 -0.12 -0.32 -0.38 -0.16  0.26  0.16  0.08 -0.17  1.26 -0.32   \n",
       "2013. 04  0.18  0.14 -0.03  0.21  0.01  1.12  0.31  0.29  0.08  0.92  0.06   \n",
       "...        ...   ...   ...   ...   ...   ...   ...   ...   ...   ...   ...   \n",
       "2021. 01  1.14  0.40  1.54  1.09  1.92  1.51  0.64  1.46  2.08  0.95  0.78   \n",
       "2021. 02  1.31  0.67  2.30  1.77  1.35  1.74  0.44  1.65  1.14  0.95  0.77   \n",
       "2021. 03  1.07  0.49  1.77  2.07  0.85  1.46  0.38  1.56  0.63  0.67  0.70   \n",
       "2021. 04  1.01  0.43  1.63  2.27  0.73  1.05  0.51  1.30  0.46  0.43  0.68   \n",
       "2021. 05  0.98  0.48  1.41  2.19  1.03  0.98  0.53  1.16  0.40  0.12  0.54   \n",
       "\n",
       "            충북    충남    전북    전남    경북    경남    제주  \n",
       "2012. 12  0.16  0.78 -1.02 -0.16  0.54 -0.33 -0.51  \n",
       "2013. 01 -0.08  0.51 -0.75 -0.05  0.65 -0.36 -0.26  \n",
       "2013. 02  0.04  0.18 -0.08 -0.27  0.48 -0.21 -0.02  \n",
       "2013. 03  0.02  0.23 -0.18 -0.20  0.65 -0.01 -0.04  \n",
       "2013. 04  0.32  0.26  0.01 -0.24  0.70  0.29  0.18  \n",
       "...        ...   ...   ...   ...   ...   ...   ...  \n",
       "2021. 01  0.64  1.09  0.29  0.19  1.26  1.07  0.46  \n",
       "2021. 02  0.74  0.94  0.13  0.10  1.04  0.54  0.63  \n",
       "2021. 03  0.81  0.89  0.17  0.05  0.70  0.47  0.45  \n",
       "2021. 04  0.87  1.08  0.39  0.14  0.69  0.56  0.60  \n",
       "2021. 05  0.89  0.94  0.43  0.16  0.83  0.55  2.02  \n",
       "\n",
       "[102 rows x 18 columns]"
      ]
     },
     "execution_count": 8,
     "metadata": {},
     "output_type": "execute_result"
    }
   ],
   "source": [
    "sejong2"
   ]
  },
  {
   "cell_type": "code",
   "execution_count": 11,
   "metadata": {},
   "outputs": [
    {
     "data": {
      "text/plain": [
       "(0.23933586431898102, 0.015405449759896495)"
      ]
     },
     "execution_count": 11,
     "metadata": {},
     "output_type": "execute_result"
    }
   ],
   "source": [
    "scipy.stats.pearsonr(pop.iloc[:,1].values, sejong2['전국'].values)"
   ]
  },
  {
   "cell_type": "code",
   "execution_count": 12,
   "metadata": {},
   "outputs": [
    {
     "data": {
      "text/plain": [
       "(0.28715258134827787, 0.003430769732369909)"
      ]
     },
     "execution_count": 12,
     "metadata": {},
     "output_type": "execute_result"
    }
   ],
   "source": [
    "scipy.stats.pearsonr(pop.iloc[:,1].values, sejong2['세종'].values)"
   ]
  },
  {
   "cell_type": "code",
   "execution_count": 13,
   "metadata": {
    "scrolled": true
   },
   "outputs": [
    {
     "data": {
      "text/plain": [
       "(0.11438492964830348, 0.2523105373685586)"
      ]
     },
     "execution_count": 13,
     "metadata": {},
     "output_type": "execute_result"
    }
   ],
   "source": [
    "scipy.stats.pearsonr(pop.iloc[:,0].values, sejong2['전국'].values)"
   ]
  },
  {
   "cell_type": "code",
   "execution_count": 14,
   "metadata": {},
   "outputs": [
    {
     "data": {
      "text/plain": [
       "(0.3266368468556503, 0.0008063305006765543)"
      ]
     },
     "execution_count": 14,
     "metadata": {},
     "output_type": "execute_result"
    }
   ],
   "source": [
    "scipy.stats.pearsonr(pop.iloc[:,0].values, sejong2['서울'].values)"
   ]
  },
  {
   "cell_type": "code",
   "execution_count": 15,
   "metadata": {
    "scrolled": true
   },
   "outputs": [],
   "source": [
    "gdp = pd.DataFrame({2012': [2.4], '2013':[3.2],'2014':[3.2],'2015':[2.8],'2016':[2.9],'2017':[3.2],'2018':[2.9],'2019':[2.2],'2020':[-0.9]})\n",
    "gdp = gdp.transpose()\n",
    "gdp.columns=['한국']"
   ]
  },
  {
   "cell_type": "code",
   "execution_count": 17,
   "metadata": {},
   "outputs": [],
   "source": [
    "gdp2=pd.DataFrame()\n",
    "for i in range(2012,2021):\n",
    "    for n in range(sejong2.loc[sejong2.index.str.contains(str(i))]['세종'].size):\n",
    "        gdp2 = gdp2.append(gdp.loc[[str(i)]])"
   ]
  },
  {
   "cell_type": "code",
   "execution_count": 18,
   "metadata": {
    "scrolled": false
   },
   "outputs": [
    {
     "data": {
      "text/plain": [
       "(-0.511084096867477, 8.839118957841992e-08)"
      ]
     },
     "execution_count": 18,
     "metadata": {},
     "output_type": "execute_result"
    }
   ],
   "source": [
    "scipy.stats.pearsonr(sejong2['전국'][:97].values, gdp2.values.flatten())"
   ]
  },
  {
   "cell_type": "code",
   "execution_count": 41,
   "metadata": {},
   "outputs": [
    {
     "data": {
      "text/plain": [
       "2015. 01   -0.13\n",
       "2015. 02   -0.04\n",
       "2015. 03   -0.05\n",
       "2015. 04    0.02\n",
       "2015. 05   -0.10\n",
       "            ... \n",
       "2020. 08    0.51\n",
       "2020. 09    0.42\n",
       "2020. 10    0.24\n",
       "2020. 11    0.27\n",
       "2020. 12    0.27\n",
       "Name: 세종, Length: 72, dtype: float64"
      ]
     },
     "execution_count": 41,
     "metadata": {},
     "output_type": "execute_result"
    }
   ],
   "source": [
    "populations['세종']"
   ]
  },
  {
   "cell_type": "code",
   "execution_count": 46,
   "metadata": {
    "scrolled": true
   },
   "outputs": [
    {
     "name": "stdout",
     "output_type": "stream",
     "text": [
      "세종 집값과 세종 인구의 상관계수 : 0.35132170929521656\n",
      "세종 집값과 세종 인구의 P-values : 0.0024782827311330704\n"
     ]
    }
   ],
   "source": [
    "print(\"세종 집값과 세종 인구의 상관계수 :\",scipy.stats.pearsonr(populations['세종'],populations['세종특별자치시'])[0])\n",
    "print(\"세종 집값과 세종 인구의 P-values :\",scipy.stats.pearsonr(populations['세종'],populations['세종특별자치시'])[1])"
   ]
  },
  {
   "cell_type": "code",
   "execution_count": 38,
   "metadata": {},
   "outputs": [
    {
     "data": {
      "application/vnd.plotly.v1+json": {
       "config": {
        "plotlyServerURL": "https://plot.ly"
       },
       "data": [
        {
         "hovertemplate": "세종=%{x}<br>세종특별자치시=%{y}<extra></extra>",
         "legendgroup": "",
         "marker": {
          "color": "#636efa",
          "symbol": "circle"
         },
         "mode": "markers",
         "name": "",
         "orientation": "v",
         "showlegend": false,
         "type": "scatter",
         "x": [
          -0.13,
          -0.04,
          -0.05,
          0.02,
          -0.1,
          -0.02,
          -0.04,
          -0.01,
          -0.01,
          -0.02,
          -0.03,
          -0.01,
          0,
          0.01,
          0.02,
          -0.01,
          -0.04,
          0.02,
          0,
          0,
          0,
          0,
          0.06,
          0.01,
          0,
          0,
          0.06,
          0.05,
          0.65,
          0.16,
          0.27,
          0,
          0.04,
          -0.06,
          0.02,
          0,
          -0.03,
          0,
          0.01,
          0,
          0,
          0.2,
          0,
          -0.06,
          -0.05,
          0.02,
          0.02,
          -0.01,
          -0.04,
          -0.07,
          -0.11,
          -0.11,
          -0.12,
          -0.31,
          -0.1,
          -0.03,
          0,
          -0.07,
          0.01,
          0.99,
          0.44,
          1.52,
          0.24,
          0.04,
          0.28,
          1.48,
          2.95,
          0.51,
          0.42,
          0.24,
          0.27,
          0.27
         ],
         "xaxis": "x",
         "y": [
          161716,
          169762,
          174920,
          178656,
          182028,
          185212,
          189478,
          194173,
          197964,
          202214,
          206044,
          210884,
          215418,
          220108,
          223461,
          225488,
          227972,
          230327,
          232117,
          234510,
          236134,
          238533,
          240560,
          243048,
          244939,
          247600,
          251178,
          254112,
          259157,
          263056,
          266075,
          269102,
          271410,
          274092,
          276879,
          280100,
          283198,
          288079,
          291182,
          295041,
          297604,
          300332,
          302703,
          305648,
          308068,
          310403,
          312103,
          314126,
          316814,
          320326,
          322693,
          324417,
          325777,
          327643,
          330298,
          332098,
          333757,
          336356,
          338647,
          340575,
          342328,
          343788,
          344792,
          345216,
          345373,
          345341,
          346217,
          347232,
          348014,
          351007,
          353430,
          355831
         ],
         "yaxis": "y"
        },
        {
         "hovertemplate": "<b>OLS trendline</b><br>세종특별자치시 = 43940 * 세종 + 270586<br>R<sup>2</sup>=0.123427<br><br>세종=%{x}<br>세종특별자치시=%{y} <b>(trend)</b><extra></extra>",
         "legendgroup": "",
         "marker": {
          "color": "#636efa",
          "symbol": "circle"
         },
         "mode": "lines",
         "name": "",
         "showlegend": false,
         "type": "scatter",
         "x": [
          -0.31,
          -0.13,
          -0.12,
          -0.11,
          -0.11,
          -0.1,
          -0.1,
          -0.07,
          -0.07,
          -0.06,
          -0.06,
          -0.05,
          -0.05,
          -0.04,
          -0.04,
          -0.04,
          -0.04,
          -0.03,
          -0.03,
          -0.03,
          -0.02,
          -0.02,
          -0.01,
          -0.01,
          -0.01,
          -0.01,
          -0.01,
          0,
          0,
          0,
          0,
          0,
          0,
          0,
          0,
          0,
          0,
          0,
          0,
          0,
          0,
          0.01,
          0.01,
          0.01,
          0.01,
          0.02,
          0.02,
          0.02,
          0.02,
          0.02,
          0.02,
          0.04,
          0.04,
          0.05,
          0.06,
          0.06,
          0.16,
          0.2,
          0.24,
          0.24,
          0.27,
          0.27,
          0.27,
          0.28,
          0.42,
          0.44,
          0.51,
          0.65,
          0.99,
          1.48,
          1.52,
          2.95
         ],
         "xaxis": "x",
         "y": [
          256964.4566928117,
          264873.653977131,
          265313.05382625986,
          265752.4536753887,
          265752.4536753887,
          266191.85352451756,
          266191.85352451756,
          267510.0530719041,
          267510.0530719041,
          267949.45292103296,
          267949.45292103296,
          268388.8527701618,
          268388.8527701618,
          268828.25261929067,
          268828.25261929067,
          268828.25261929067,
          268828.25261929067,
          269267.6524684195,
          269267.6524684195,
          269267.6524684195,
          269707.05231754837,
          269707.05231754837,
          270146.4521666772,
          270146.4521666772,
          270146.4521666772,
          270146.4521666772,
          270146.4521666772,
          270585.8520158061,
          270585.8520158061,
          270585.8520158061,
          270585.8520158061,
          270585.8520158061,
          270585.8520158061,
          270585.8520158061,
          270585.8520158061,
          270585.8520158061,
          270585.8520158061,
          270585.8520158061,
          270585.8520158061,
          270585.8520158061,
          270585.8520158061,
          271025.2518649349,
          271025.2518649349,
          271025.2518649349,
          271025.2518649349,
          271464.6517140638,
          271464.6517140638,
          271464.6517140638,
          271464.6517140638,
          271464.6517140638,
          271464.6517140638,
          272343.4514123215,
          272343.4514123215,
          272782.8512614503,
          273222.2511105792,
          273222.2511105792,
          277616.2496018677,
          279373.8489983831,
          281131.4483948985,
          281131.4483948985,
          282449.64794228505,
          282449.64794228505,
          282449.64794228505,
          282889.04779141385,
          289040.64567921776,
          289919.44537747547,
          292995.2443213774,
          299146.84220918134,
          314086.4370795622,
          335617.0296868759,
          337374.6290833913,
          400208.8075088168
         ],
         "yaxis": "y"
        }
       ],
       "layout": {
        "legend": {
         "tracegroupgap": 0
        },
        "margin": {
         "t": 60
        },
        "template": {
         "data": {
          "bar": [
           {
            "error_x": {
             "color": "#2a3f5f"
            },
            "error_y": {
             "color": "#2a3f5f"
            },
            "marker": {
             "line": {
              "color": "#E5ECF6",
              "width": 0.5
             }
            },
            "type": "bar"
           }
          ],
          "barpolar": [
           {
            "marker": {
             "line": {
              "color": "#E5ECF6",
              "width": 0.5
             }
            },
            "type": "barpolar"
           }
          ],
          "carpet": [
           {
            "aaxis": {
             "endlinecolor": "#2a3f5f",
             "gridcolor": "white",
             "linecolor": "white",
             "minorgridcolor": "white",
             "startlinecolor": "#2a3f5f"
            },
            "baxis": {
             "endlinecolor": "#2a3f5f",
             "gridcolor": "white",
             "linecolor": "white",
             "minorgridcolor": "white",
             "startlinecolor": "#2a3f5f"
            },
            "type": "carpet"
           }
          ],
          "choropleth": [
           {
            "colorbar": {
             "outlinewidth": 0,
             "ticks": ""
            },
            "type": "choropleth"
           }
          ],
          "contour": [
           {
            "colorbar": {
             "outlinewidth": 0,
             "ticks": ""
            },
            "colorscale": [
             [
              0,
              "#0d0887"
             ],
             [
              0.1111111111111111,
              "#46039f"
             ],
             [
              0.2222222222222222,
              "#7201a8"
             ],
             [
              0.3333333333333333,
              "#9c179e"
             ],
             [
              0.4444444444444444,
              "#bd3786"
             ],
             [
              0.5555555555555556,
              "#d8576b"
             ],
             [
              0.6666666666666666,
              "#ed7953"
             ],
             [
              0.7777777777777778,
              "#fb9f3a"
             ],
             [
              0.8888888888888888,
              "#fdca26"
             ],
             [
              1,
              "#f0f921"
             ]
            ],
            "type": "contour"
           }
          ],
          "contourcarpet": [
           {
            "colorbar": {
             "outlinewidth": 0,
             "ticks": ""
            },
            "type": "contourcarpet"
           }
          ],
          "heatmap": [
           {
            "colorbar": {
             "outlinewidth": 0,
             "ticks": ""
            },
            "colorscale": [
             [
              0,
              "#0d0887"
             ],
             [
              0.1111111111111111,
              "#46039f"
             ],
             [
              0.2222222222222222,
              "#7201a8"
             ],
             [
              0.3333333333333333,
              "#9c179e"
             ],
             [
              0.4444444444444444,
              "#bd3786"
             ],
             [
              0.5555555555555556,
              "#d8576b"
             ],
             [
              0.6666666666666666,
              "#ed7953"
             ],
             [
              0.7777777777777778,
              "#fb9f3a"
             ],
             [
              0.8888888888888888,
              "#fdca26"
             ],
             [
              1,
              "#f0f921"
             ]
            ],
            "type": "heatmap"
           }
          ],
          "heatmapgl": [
           {
            "colorbar": {
             "outlinewidth": 0,
             "ticks": ""
            },
            "colorscale": [
             [
              0,
              "#0d0887"
             ],
             [
              0.1111111111111111,
              "#46039f"
             ],
             [
              0.2222222222222222,
              "#7201a8"
             ],
             [
              0.3333333333333333,
              "#9c179e"
             ],
             [
              0.4444444444444444,
              "#bd3786"
             ],
             [
              0.5555555555555556,
              "#d8576b"
             ],
             [
              0.6666666666666666,
              "#ed7953"
             ],
             [
              0.7777777777777778,
              "#fb9f3a"
             ],
             [
              0.8888888888888888,
              "#fdca26"
             ],
             [
              1,
              "#f0f921"
             ]
            ],
            "type": "heatmapgl"
           }
          ],
          "histogram": [
           {
            "marker": {
             "colorbar": {
              "outlinewidth": 0,
              "ticks": ""
             }
            },
            "type": "histogram"
           }
          ],
          "histogram2d": [
           {
            "colorbar": {
             "outlinewidth": 0,
             "ticks": ""
            },
            "colorscale": [
             [
              0,
              "#0d0887"
             ],
             [
              0.1111111111111111,
              "#46039f"
             ],
             [
              0.2222222222222222,
              "#7201a8"
             ],
             [
              0.3333333333333333,
              "#9c179e"
             ],
             [
              0.4444444444444444,
              "#bd3786"
             ],
             [
              0.5555555555555556,
              "#d8576b"
             ],
             [
              0.6666666666666666,
              "#ed7953"
             ],
             [
              0.7777777777777778,
              "#fb9f3a"
             ],
             [
              0.8888888888888888,
              "#fdca26"
             ],
             [
              1,
              "#f0f921"
             ]
            ],
            "type": "histogram2d"
           }
          ],
          "histogram2dcontour": [
           {
            "colorbar": {
             "outlinewidth": 0,
             "ticks": ""
            },
            "colorscale": [
             [
              0,
              "#0d0887"
             ],
             [
              0.1111111111111111,
              "#46039f"
             ],
             [
              0.2222222222222222,
              "#7201a8"
             ],
             [
              0.3333333333333333,
              "#9c179e"
             ],
             [
              0.4444444444444444,
              "#bd3786"
             ],
             [
              0.5555555555555556,
              "#d8576b"
             ],
             [
              0.6666666666666666,
              "#ed7953"
             ],
             [
              0.7777777777777778,
              "#fb9f3a"
             ],
             [
              0.8888888888888888,
              "#fdca26"
             ],
             [
              1,
              "#f0f921"
             ]
            ],
            "type": "histogram2dcontour"
           }
          ],
          "mesh3d": [
           {
            "colorbar": {
             "outlinewidth": 0,
             "ticks": ""
            },
            "type": "mesh3d"
           }
          ],
          "parcoords": [
           {
            "line": {
             "colorbar": {
              "outlinewidth": 0,
              "ticks": ""
             }
            },
            "type": "parcoords"
           }
          ],
          "pie": [
           {
            "automargin": true,
            "type": "pie"
           }
          ],
          "scatter": [
           {
            "marker": {
             "colorbar": {
              "outlinewidth": 0,
              "ticks": ""
             }
            },
            "type": "scatter"
           }
          ],
          "scatter3d": [
           {
            "line": {
             "colorbar": {
              "outlinewidth": 0,
              "ticks": ""
             }
            },
            "marker": {
             "colorbar": {
              "outlinewidth": 0,
              "ticks": ""
             }
            },
            "type": "scatter3d"
           }
          ],
          "scattercarpet": [
           {
            "marker": {
             "colorbar": {
              "outlinewidth": 0,
              "ticks": ""
             }
            },
            "type": "scattercarpet"
           }
          ],
          "scattergeo": [
           {
            "marker": {
             "colorbar": {
              "outlinewidth": 0,
              "ticks": ""
             }
            },
            "type": "scattergeo"
           }
          ],
          "scattergl": [
           {
            "marker": {
             "colorbar": {
              "outlinewidth": 0,
              "ticks": ""
             }
            },
            "type": "scattergl"
           }
          ],
          "scattermapbox": [
           {
            "marker": {
             "colorbar": {
              "outlinewidth": 0,
              "ticks": ""
             }
            },
            "type": "scattermapbox"
           }
          ],
          "scatterpolar": [
           {
            "marker": {
             "colorbar": {
              "outlinewidth": 0,
              "ticks": ""
             }
            },
            "type": "scatterpolar"
           }
          ],
          "scatterpolargl": [
           {
            "marker": {
             "colorbar": {
              "outlinewidth": 0,
              "ticks": ""
             }
            },
            "type": "scatterpolargl"
           }
          ],
          "scatterternary": [
           {
            "marker": {
             "colorbar": {
              "outlinewidth": 0,
              "ticks": ""
             }
            },
            "type": "scatterternary"
           }
          ],
          "surface": [
           {
            "colorbar": {
             "outlinewidth": 0,
             "ticks": ""
            },
            "colorscale": [
             [
              0,
              "#0d0887"
             ],
             [
              0.1111111111111111,
              "#46039f"
             ],
             [
              0.2222222222222222,
              "#7201a8"
             ],
             [
              0.3333333333333333,
              "#9c179e"
             ],
             [
              0.4444444444444444,
              "#bd3786"
             ],
             [
              0.5555555555555556,
              "#d8576b"
             ],
             [
              0.6666666666666666,
              "#ed7953"
             ],
             [
              0.7777777777777778,
              "#fb9f3a"
             ],
             [
              0.8888888888888888,
              "#fdca26"
             ],
             [
              1,
              "#f0f921"
             ]
            ],
            "type": "surface"
           }
          ],
          "table": [
           {
            "cells": {
             "fill": {
              "color": "#EBF0F8"
             },
             "line": {
              "color": "white"
             }
            },
            "header": {
             "fill": {
              "color": "#C8D4E3"
             },
             "line": {
              "color": "white"
             }
            },
            "type": "table"
           }
          ]
         },
         "layout": {
          "annotationdefaults": {
           "arrowcolor": "#2a3f5f",
           "arrowhead": 0,
           "arrowwidth": 1
          },
          "autotypenumbers": "strict",
          "coloraxis": {
           "colorbar": {
            "outlinewidth": 0,
            "ticks": ""
           }
          },
          "colorscale": {
           "diverging": [
            [
             0,
             "#8e0152"
            ],
            [
             0.1,
             "#c51b7d"
            ],
            [
             0.2,
             "#de77ae"
            ],
            [
             0.3,
             "#f1b6da"
            ],
            [
             0.4,
             "#fde0ef"
            ],
            [
             0.5,
             "#f7f7f7"
            ],
            [
             0.6,
             "#e6f5d0"
            ],
            [
             0.7,
             "#b8e186"
            ],
            [
             0.8,
             "#7fbc41"
            ],
            [
             0.9,
             "#4d9221"
            ],
            [
             1,
             "#276419"
            ]
           ],
           "sequential": [
            [
             0,
             "#0d0887"
            ],
            [
             0.1111111111111111,
             "#46039f"
            ],
            [
             0.2222222222222222,
             "#7201a8"
            ],
            [
             0.3333333333333333,
             "#9c179e"
            ],
            [
             0.4444444444444444,
             "#bd3786"
            ],
            [
             0.5555555555555556,
             "#d8576b"
            ],
            [
             0.6666666666666666,
             "#ed7953"
            ],
            [
             0.7777777777777778,
             "#fb9f3a"
            ],
            [
             0.8888888888888888,
             "#fdca26"
            ],
            [
             1,
             "#f0f921"
            ]
           ],
           "sequentialminus": [
            [
             0,
             "#0d0887"
            ],
            [
             0.1111111111111111,
             "#46039f"
            ],
            [
             0.2222222222222222,
             "#7201a8"
            ],
            [
             0.3333333333333333,
             "#9c179e"
            ],
            [
             0.4444444444444444,
             "#bd3786"
            ],
            [
             0.5555555555555556,
             "#d8576b"
            ],
            [
             0.6666666666666666,
             "#ed7953"
            ],
            [
             0.7777777777777778,
             "#fb9f3a"
            ],
            [
             0.8888888888888888,
             "#fdca26"
            ],
            [
             1,
             "#f0f921"
            ]
           ]
          },
          "colorway": [
           "#636efa",
           "#EF553B",
           "#00cc96",
           "#ab63fa",
           "#FFA15A",
           "#19d3f3",
           "#FF6692",
           "#B6E880",
           "#FF97FF",
           "#FECB52"
          ],
          "font": {
           "color": "#2a3f5f"
          },
          "geo": {
           "bgcolor": "white",
           "lakecolor": "white",
           "landcolor": "#E5ECF6",
           "showlakes": true,
           "showland": true,
           "subunitcolor": "white"
          },
          "hoverlabel": {
           "align": "left"
          },
          "hovermode": "closest",
          "mapbox": {
           "style": "light"
          },
          "paper_bgcolor": "white",
          "plot_bgcolor": "#E5ECF6",
          "polar": {
           "angularaxis": {
            "gridcolor": "white",
            "linecolor": "white",
            "ticks": ""
           },
           "bgcolor": "#E5ECF6",
           "radialaxis": {
            "gridcolor": "white",
            "linecolor": "white",
            "ticks": ""
           }
          },
          "scene": {
           "xaxis": {
            "backgroundcolor": "#E5ECF6",
            "gridcolor": "white",
            "gridwidth": 2,
            "linecolor": "white",
            "showbackground": true,
            "ticks": "",
            "zerolinecolor": "white"
           },
           "yaxis": {
            "backgroundcolor": "#E5ECF6",
            "gridcolor": "white",
            "gridwidth": 2,
            "linecolor": "white",
            "showbackground": true,
            "ticks": "",
            "zerolinecolor": "white"
           },
           "zaxis": {
            "backgroundcolor": "#E5ECF6",
            "gridcolor": "white",
            "gridwidth": 2,
            "linecolor": "white",
            "showbackground": true,
            "ticks": "",
            "zerolinecolor": "white"
           }
          },
          "shapedefaults": {
           "line": {
            "color": "#2a3f5f"
           }
          },
          "ternary": {
           "aaxis": {
            "gridcolor": "white",
            "linecolor": "white",
            "ticks": ""
           },
           "baxis": {
            "gridcolor": "white",
            "linecolor": "white",
            "ticks": ""
           },
           "bgcolor": "#E5ECF6",
           "caxis": {
            "gridcolor": "white",
            "linecolor": "white",
            "ticks": ""
           }
          },
          "title": {
           "x": 0.05
          },
          "xaxis": {
           "automargin": true,
           "gridcolor": "white",
           "linecolor": "white",
           "ticks": "",
           "title": {
            "standoff": 15
           },
           "zerolinecolor": "white",
           "zerolinewidth": 2
          },
          "yaxis": {
           "automargin": true,
           "gridcolor": "white",
           "linecolor": "white",
           "ticks": "",
           "title": {
            "standoff": 15
           },
           "zerolinecolor": "white",
           "zerolinewidth": 2
          }
         }
        },
        "xaxis": {
         "anchor": "y",
         "domain": [
          0,
          1
         ],
         "title": {
          "text": "세종"
         }
        },
        "yaxis": {
         "anchor": "x",
         "domain": [
          0,
          1
         ],
         "title": {
          "text": "세종특별자치시"
         }
        }
       }
      },
      "text/html": [
       "<div>                            <div id=\"33cb358b-8798-4544-9014-aab37f06f17a\" class=\"plotly-graph-div\" style=\"height:525px; width:100%;\"></div>            <script type=\"text/javascript\">                require([\"plotly\"], function(Plotly) {                    window.PLOTLYENV=window.PLOTLYENV || {};                                    if (document.getElementById(\"33cb358b-8798-4544-9014-aab37f06f17a\")) {                    Plotly.newPlot(                        \"33cb358b-8798-4544-9014-aab37f06f17a\",                        [{\"hovertemplate\": \"\\uc138\\uc885=%{x}<br>\\uc138\\uc885\\ud2b9\\ubcc4\\uc790\\uce58\\uc2dc=%{y}<extra></extra>\", \"legendgroup\": \"\", \"marker\": {\"color\": \"#636efa\", \"symbol\": \"circle\"}, \"mode\": \"markers\", \"name\": \"\", \"orientation\": \"v\", \"showlegend\": false, \"type\": \"scatter\", \"x\": [-0.13, -0.04, -0.05, 0.02, -0.1, -0.02, -0.04, -0.01, -0.01, -0.02, -0.03, -0.01, 0.0, 0.01, 0.02, -0.01, -0.04, 0.02, 0.0, 0.0, 0.0, 0.0, 0.06, 0.01, 0.0, 0.0, 0.06, 0.05, 0.65, 0.16, 0.27, 0.0, 0.04, -0.06, 0.02, 0.0, -0.03, 0.0, 0.01, 0.0, 0.0, 0.2, 0.0, -0.06, -0.05, 0.02, 0.02, -0.01, -0.04, -0.07, -0.11, -0.11, -0.12, -0.31, -0.1, -0.03, 0.0, -0.07, 0.01, 0.99, 0.44, 1.52, 0.24, 0.04, 0.28, 1.48, 2.95, 0.51, 0.42, 0.24, 0.27, 0.27], \"xaxis\": \"x\", \"y\": [161716, 169762, 174920, 178656, 182028, 185212, 189478, 194173, 197964, 202214, 206044, 210884, 215418, 220108, 223461, 225488, 227972, 230327, 232117, 234510, 236134, 238533, 240560, 243048, 244939, 247600, 251178, 254112, 259157, 263056, 266075, 269102, 271410, 274092, 276879, 280100, 283198, 288079, 291182, 295041, 297604, 300332, 302703, 305648, 308068, 310403, 312103, 314126, 316814, 320326, 322693, 324417, 325777, 327643, 330298, 332098, 333757, 336356, 338647, 340575, 342328, 343788, 344792, 345216, 345373, 345341, 346217, 347232, 348014, 351007, 353430, 355831], \"yaxis\": \"y\"}, {\"hovertemplate\": \"<b>OLS trendline</b><br>\\uc138\\uc885\\ud2b9\\ubcc4\\uc790\\uce58\\uc2dc = 43940 * \\uc138\\uc885 + 270586<br>R<sup>2</sup>=0.123427<br><br>\\uc138\\uc885=%{x}<br>\\uc138\\uc885\\ud2b9\\ubcc4\\uc790\\uce58\\uc2dc=%{y} <b>(trend)</b><extra></extra>\", \"legendgroup\": \"\", \"marker\": {\"color\": \"#636efa\", \"symbol\": \"circle\"}, \"mode\": \"lines\", \"name\": \"\", \"showlegend\": false, \"type\": \"scatter\", \"x\": [-0.31, -0.13, -0.12, -0.11, -0.11, -0.1, -0.1, -0.07, -0.07, -0.06, -0.06, -0.05, -0.05, -0.04, -0.04, -0.04, -0.04, -0.03, -0.03, -0.03, -0.02, -0.02, -0.01, -0.01, -0.01, -0.01, -0.01, 0.0, 0.0, 0.0, 0.0, 0.0, 0.0, 0.0, 0.0, 0.0, 0.0, 0.0, 0.0, 0.0, 0.0, 0.01, 0.01, 0.01, 0.01, 0.02, 0.02, 0.02, 0.02, 0.02, 0.02, 0.04, 0.04, 0.05, 0.06, 0.06, 0.16, 0.2, 0.24, 0.24, 0.27, 0.27, 0.27, 0.28, 0.42, 0.44, 0.51, 0.65, 0.99, 1.48, 1.52, 2.95], \"xaxis\": \"x\", \"y\": [256964.4566928117, 264873.653977131, 265313.05382625986, 265752.4536753887, 265752.4536753887, 266191.85352451756, 266191.85352451756, 267510.0530719041, 267510.0530719041, 267949.45292103296, 267949.45292103296, 268388.8527701618, 268388.8527701618, 268828.25261929067, 268828.25261929067, 268828.25261929067, 268828.25261929067, 269267.6524684195, 269267.6524684195, 269267.6524684195, 269707.05231754837, 269707.05231754837, 270146.4521666772, 270146.4521666772, 270146.4521666772, 270146.4521666772, 270146.4521666772, 270585.8520158061, 270585.8520158061, 270585.8520158061, 270585.8520158061, 270585.8520158061, 270585.8520158061, 270585.8520158061, 270585.8520158061, 270585.8520158061, 270585.8520158061, 270585.8520158061, 270585.8520158061, 270585.8520158061, 270585.8520158061, 271025.2518649349, 271025.2518649349, 271025.2518649349, 271025.2518649349, 271464.6517140638, 271464.6517140638, 271464.6517140638, 271464.6517140638, 271464.6517140638, 271464.6517140638, 272343.4514123215, 272343.4514123215, 272782.8512614503, 273222.2511105792, 273222.2511105792, 277616.2496018677, 279373.8489983831, 281131.4483948985, 281131.4483948985, 282449.64794228505, 282449.64794228505, 282449.64794228505, 282889.04779141385, 289040.64567921776, 289919.44537747547, 292995.2443213774, 299146.84220918134, 314086.4370795622, 335617.0296868759, 337374.6290833913, 400208.8075088168], \"yaxis\": \"y\"}],                        {\"legend\": {\"tracegroupgap\": 0}, \"margin\": {\"t\": 60}, \"template\": {\"data\": {\"bar\": [{\"error_x\": {\"color\": \"#2a3f5f\"}, \"error_y\": {\"color\": \"#2a3f5f\"}, \"marker\": {\"line\": {\"color\": \"#E5ECF6\", \"width\": 0.5}}, \"type\": \"bar\"}], \"barpolar\": [{\"marker\": {\"line\": {\"color\": \"#E5ECF6\", \"width\": 0.5}}, \"type\": \"barpolar\"}], \"carpet\": [{\"aaxis\": {\"endlinecolor\": \"#2a3f5f\", \"gridcolor\": \"white\", \"linecolor\": \"white\", \"minorgridcolor\": \"white\", \"startlinecolor\": \"#2a3f5f\"}, \"baxis\": {\"endlinecolor\": \"#2a3f5f\", \"gridcolor\": \"white\", \"linecolor\": \"white\", \"minorgridcolor\": \"white\", \"startlinecolor\": \"#2a3f5f\"}, \"type\": \"carpet\"}], \"choropleth\": [{\"colorbar\": {\"outlinewidth\": 0, \"ticks\": \"\"}, \"type\": \"choropleth\"}], \"contour\": [{\"colorbar\": {\"outlinewidth\": 0, \"ticks\": \"\"}, \"colorscale\": [[0.0, \"#0d0887\"], [0.1111111111111111, \"#46039f\"], [0.2222222222222222, \"#7201a8\"], [0.3333333333333333, \"#9c179e\"], [0.4444444444444444, \"#bd3786\"], [0.5555555555555556, \"#d8576b\"], [0.6666666666666666, \"#ed7953\"], [0.7777777777777778, \"#fb9f3a\"], [0.8888888888888888, \"#fdca26\"], [1.0, \"#f0f921\"]], \"type\": \"contour\"}], \"contourcarpet\": [{\"colorbar\": {\"outlinewidth\": 0, \"ticks\": \"\"}, \"type\": \"contourcarpet\"}], \"heatmap\": [{\"colorbar\": {\"outlinewidth\": 0, \"ticks\": \"\"}, \"colorscale\": [[0.0, \"#0d0887\"], [0.1111111111111111, \"#46039f\"], [0.2222222222222222, \"#7201a8\"], [0.3333333333333333, \"#9c179e\"], [0.4444444444444444, \"#bd3786\"], [0.5555555555555556, \"#d8576b\"], [0.6666666666666666, \"#ed7953\"], [0.7777777777777778, \"#fb9f3a\"], [0.8888888888888888, \"#fdca26\"], [1.0, \"#f0f921\"]], \"type\": \"heatmap\"}], \"heatmapgl\": [{\"colorbar\": {\"outlinewidth\": 0, \"ticks\": \"\"}, \"colorscale\": [[0.0, \"#0d0887\"], [0.1111111111111111, \"#46039f\"], [0.2222222222222222, \"#7201a8\"], [0.3333333333333333, \"#9c179e\"], [0.4444444444444444, \"#bd3786\"], [0.5555555555555556, \"#d8576b\"], [0.6666666666666666, \"#ed7953\"], [0.7777777777777778, \"#fb9f3a\"], [0.8888888888888888, \"#fdca26\"], [1.0, \"#f0f921\"]], \"type\": \"heatmapgl\"}], \"histogram\": [{\"marker\": {\"colorbar\": {\"outlinewidth\": 0, \"ticks\": \"\"}}, \"type\": \"histogram\"}], \"histogram2d\": [{\"colorbar\": {\"outlinewidth\": 0, \"ticks\": \"\"}, \"colorscale\": [[0.0, \"#0d0887\"], [0.1111111111111111, \"#46039f\"], [0.2222222222222222, \"#7201a8\"], [0.3333333333333333, \"#9c179e\"], [0.4444444444444444, \"#bd3786\"], [0.5555555555555556, \"#d8576b\"], [0.6666666666666666, \"#ed7953\"], [0.7777777777777778, \"#fb9f3a\"], [0.8888888888888888, \"#fdca26\"], [1.0, \"#f0f921\"]], \"type\": \"histogram2d\"}], \"histogram2dcontour\": [{\"colorbar\": {\"outlinewidth\": 0, \"ticks\": \"\"}, \"colorscale\": [[0.0, \"#0d0887\"], [0.1111111111111111, \"#46039f\"], [0.2222222222222222, \"#7201a8\"], [0.3333333333333333, \"#9c179e\"], [0.4444444444444444, \"#bd3786\"], [0.5555555555555556, \"#d8576b\"], [0.6666666666666666, \"#ed7953\"], [0.7777777777777778, \"#fb9f3a\"], [0.8888888888888888, \"#fdca26\"], [1.0, \"#f0f921\"]], \"type\": \"histogram2dcontour\"}], \"mesh3d\": [{\"colorbar\": {\"outlinewidth\": 0, \"ticks\": \"\"}, \"type\": \"mesh3d\"}], \"parcoords\": [{\"line\": {\"colorbar\": {\"outlinewidth\": 0, \"ticks\": \"\"}}, \"type\": \"parcoords\"}], \"pie\": [{\"automargin\": true, \"type\": \"pie\"}], \"scatter\": [{\"marker\": {\"colorbar\": {\"outlinewidth\": 0, \"ticks\": \"\"}}, \"type\": \"scatter\"}], \"scatter3d\": [{\"line\": {\"colorbar\": {\"outlinewidth\": 0, \"ticks\": \"\"}}, \"marker\": {\"colorbar\": {\"outlinewidth\": 0, \"ticks\": \"\"}}, \"type\": \"scatter3d\"}], \"scattercarpet\": [{\"marker\": {\"colorbar\": {\"outlinewidth\": 0, \"ticks\": \"\"}}, \"type\": \"scattercarpet\"}], \"scattergeo\": [{\"marker\": {\"colorbar\": {\"outlinewidth\": 0, \"ticks\": \"\"}}, \"type\": \"scattergeo\"}], \"scattergl\": [{\"marker\": {\"colorbar\": {\"outlinewidth\": 0, \"ticks\": \"\"}}, \"type\": \"scattergl\"}], \"scattermapbox\": [{\"marker\": {\"colorbar\": {\"outlinewidth\": 0, \"ticks\": \"\"}}, \"type\": \"scattermapbox\"}], \"scatterpolar\": [{\"marker\": {\"colorbar\": {\"outlinewidth\": 0, \"ticks\": \"\"}}, \"type\": \"scatterpolar\"}], \"scatterpolargl\": [{\"marker\": {\"colorbar\": {\"outlinewidth\": 0, \"ticks\": \"\"}}, \"type\": \"scatterpolargl\"}], \"scatterternary\": [{\"marker\": {\"colorbar\": {\"outlinewidth\": 0, \"ticks\": \"\"}}, \"type\": \"scatterternary\"}], \"surface\": [{\"colorbar\": {\"outlinewidth\": 0, \"ticks\": \"\"}, \"colorscale\": [[0.0, \"#0d0887\"], [0.1111111111111111, \"#46039f\"], [0.2222222222222222, \"#7201a8\"], [0.3333333333333333, \"#9c179e\"], [0.4444444444444444, \"#bd3786\"], [0.5555555555555556, \"#d8576b\"], [0.6666666666666666, \"#ed7953\"], [0.7777777777777778, \"#fb9f3a\"], [0.8888888888888888, \"#fdca26\"], [1.0, \"#f0f921\"]], \"type\": \"surface\"}], \"table\": [{\"cells\": {\"fill\": {\"color\": \"#EBF0F8\"}, \"line\": {\"color\": \"white\"}}, \"header\": {\"fill\": {\"color\": \"#C8D4E3\"}, \"line\": {\"color\": \"white\"}}, \"type\": \"table\"}]}, \"layout\": {\"annotationdefaults\": {\"arrowcolor\": \"#2a3f5f\", \"arrowhead\": 0, \"arrowwidth\": 1}, \"autotypenumbers\": \"strict\", \"coloraxis\": {\"colorbar\": {\"outlinewidth\": 0, \"ticks\": \"\"}}, \"colorscale\": {\"diverging\": [[0, \"#8e0152\"], [0.1, \"#c51b7d\"], [0.2, \"#de77ae\"], [0.3, \"#f1b6da\"], [0.4, \"#fde0ef\"], [0.5, \"#f7f7f7\"], [0.6, \"#e6f5d0\"], [0.7, \"#b8e186\"], [0.8, \"#7fbc41\"], [0.9, \"#4d9221\"], [1, \"#276419\"]], \"sequential\": [[0.0, \"#0d0887\"], [0.1111111111111111, \"#46039f\"], [0.2222222222222222, \"#7201a8\"], [0.3333333333333333, \"#9c179e\"], [0.4444444444444444, \"#bd3786\"], [0.5555555555555556, \"#d8576b\"], [0.6666666666666666, \"#ed7953\"], [0.7777777777777778, \"#fb9f3a\"], [0.8888888888888888, \"#fdca26\"], [1.0, \"#f0f921\"]], \"sequentialminus\": [[0.0, \"#0d0887\"], [0.1111111111111111, \"#46039f\"], [0.2222222222222222, \"#7201a8\"], [0.3333333333333333, \"#9c179e\"], [0.4444444444444444, \"#bd3786\"], [0.5555555555555556, \"#d8576b\"], [0.6666666666666666, \"#ed7953\"], [0.7777777777777778, \"#fb9f3a\"], [0.8888888888888888, \"#fdca26\"], [1.0, \"#f0f921\"]]}, \"colorway\": [\"#636efa\", \"#EF553B\", \"#00cc96\", \"#ab63fa\", \"#FFA15A\", \"#19d3f3\", \"#FF6692\", \"#B6E880\", \"#FF97FF\", \"#FECB52\"], \"font\": {\"color\": \"#2a3f5f\"}, \"geo\": {\"bgcolor\": \"white\", \"lakecolor\": \"white\", \"landcolor\": \"#E5ECF6\", \"showlakes\": true, \"showland\": true, \"subunitcolor\": \"white\"}, \"hoverlabel\": {\"align\": \"left\"}, \"hovermode\": \"closest\", \"mapbox\": {\"style\": \"light\"}, \"paper_bgcolor\": \"white\", \"plot_bgcolor\": \"#E5ECF6\", \"polar\": {\"angularaxis\": {\"gridcolor\": \"white\", \"linecolor\": \"white\", \"ticks\": \"\"}, \"bgcolor\": \"#E5ECF6\", \"radialaxis\": {\"gridcolor\": \"white\", \"linecolor\": \"white\", \"ticks\": \"\"}}, \"scene\": {\"xaxis\": {\"backgroundcolor\": \"#E5ECF6\", \"gridcolor\": \"white\", \"gridwidth\": 2, \"linecolor\": \"white\", \"showbackground\": true, \"ticks\": \"\", \"zerolinecolor\": \"white\"}, \"yaxis\": {\"backgroundcolor\": \"#E5ECF6\", \"gridcolor\": \"white\", \"gridwidth\": 2, \"linecolor\": \"white\", \"showbackground\": true, \"ticks\": \"\", \"zerolinecolor\": \"white\"}, \"zaxis\": {\"backgroundcolor\": \"#E5ECF6\", \"gridcolor\": \"white\", \"gridwidth\": 2, \"linecolor\": \"white\", \"showbackground\": true, \"ticks\": \"\", \"zerolinecolor\": \"white\"}}, \"shapedefaults\": {\"line\": {\"color\": \"#2a3f5f\"}}, \"ternary\": {\"aaxis\": {\"gridcolor\": \"white\", \"linecolor\": \"white\", \"ticks\": \"\"}, \"baxis\": {\"gridcolor\": \"white\", \"linecolor\": \"white\", \"ticks\": \"\"}, \"bgcolor\": \"#E5ECF6\", \"caxis\": {\"gridcolor\": \"white\", \"linecolor\": \"white\", \"ticks\": \"\"}}, \"title\": {\"x\": 0.05}, \"xaxis\": {\"automargin\": true, \"gridcolor\": \"white\", \"linecolor\": \"white\", \"ticks\": \"\", \"title\": {\"standoff\": 15}, \"zerolinecolor\": \"white\", \"zerolinewidth\": 2}, \"yaxis\": {\"automargin\": true, \"gridcolor\": \"white\", \"linecolor\": \"white\", \"ticks\": \"\", \"title\": {\"standoff\": 15}, \"zerolinecolor\": \"white\", \"zerolinewidth\": 2}}}, \"xaxis\": {\"anchor\": \"y\", \"domain\": [0.0, 1.0], \"title\": {\"text\": \"\\uc138\\uc885\"}}, \"yaxis\": {\"anchor\": \"x\", \"domain\": [0.0, 1.0], \"title\": {\"text\": \"\\uc138\\uc885\\ud2b9\\ubcc4\\uc790\\uce58\\uc2dc\"}}},                        {\"responsive\": true}                    ).then(function(){\n",
       "                            \n",
       "var gd = document.getElementById('33cb358b-8798-4544-9014-aab37f06f17a');\n",
       "var x = new MutationObserver(function (mutations, observer) {{\n",
       "        var display = window.getComputedStyle(gd).display;\n",
       "        if (!display || display === 'none') {{\n",
       "            console.log([gd, 'removed!']);\n",
       "            Plotly.purge(gd);\n",
       "            observer.disconnect();\n",
       "        }}\n",
       "}});\n",
       "\n",
       "// Listen for the removal of the full notebook cells\n",
       "var notebookContainer = gd.closest('#notebook-container');\n",
       "if (notebookContainer) {{\n",
       "    x.observe(notebookContainer, {childList: true});\n",
       "}}\n",
       "\n",
       "// Listen for the clearing of the current output cell\n",
       "var outputEl = gd.closest('.output');\n",
       "if (outputEl) {{\n",
       "    x.observe(outputEl, {childList: true});\n",
       "}}\n",
       "\n",
       "                        })                };                });            </script>        </div>"
      ]
     },
     "metadata": {},
     "output_type": "display_data"
    }
   ],
   "source": [
    "fig = px.scatter(populations,x='세종', y='세종특별자치시',trendline='ols')\n",
    "fig.show()"
   ]
  },
  {
   "cell_type": "code",
   "execution_count": 56,
   "metadata": {},
   "outputs": [
    {
     "data": {
      "text/html": [
       "<div>\n",
       "<style scoped>\n",
       "    .dataframe tbody tr th:only-of-type {\n",
       "        vertical-align: middle;\n",
       "    }\n",
       "\n",
       "    .dataframe tbody tr th {\n",
       "        vertical-align: top;\n",
       "    }\n",
       "\n",
       "    .dataframe thead th {\n",
       "        text-align: right;\n",
       "    }\n",
       "</style>\n",
       "<table border=\"1\" class=\"dataframe\">\n",
       "  <thead>\n",
       "    <tr style=\"text-align: right;\">\n",
       "      <th>medal</th>\n",
       "      <th>gold</th>\n",
       "      <th>silver</th>\n",
       "      <th>bronze</th>\n",
       "    </tr>\n",
       "    <tr>\n",
       "      <th>nation</th>\n",
       "      <th></th>\n",
       "      <th></th>\n",
       "      <th></th>\n",
       "    </tr>\n",
       "  </thead>\n",
       "  <tbody>\n",
       "    <tr>\n",
       "      <th>South Korea</th>\n",
       "      <td>24</td>\n",
       "      <td>13</td>\n",
       "      <td>11</td>\n",
       "    </tr>\n",
       "    <tr>\n",
       "      <th>China</th>\n",
       "      <td>10</td>\n",
       "      <td>15</td>\n",
       "      <td>8</td>\n",
       "    </tr>\n",
       "    <tr>\n",
       "      <th>Canada</th>\n",
       "      <td>9</td>\n",
       "      <td>12</td>\n",
       "      <td>12</td>\n",
       "    </tr>\n",
       "  </tbody>\n",
       "</table>\n",
       "</div>"
      ],
      "text/plain": [
       "medal        gold  silver  bronze\n",
       "nation                           \n",
       "South Korea    24      13      11\n",
       "China          10      15       8\n",
       "Canada          9      12      12"
      ]
     },
     "execution_count": 56,
     "metadata": {},
     "output_type": "execute_result"
    }
   ],
   "source": [
    "px.data.medals_wide(indexed=True)"
   ]
  },
  {
   "cell_type": "code",
   "execution_count": 62,
   "metadata": {},
   "outputs": [
    {
     "data": {
      "text/html": [
       "<div>\n",
       "<style scoped>\n",
       "    .dataframe tbody tr th:only-of-type {\n",
       "        vertical-align: middle;\n",
       "    }\n",
       "\n",
       "    .dataframe tbody tr th {\n",
       "        vertical-align: top;\n",
       "    }\n",
       "\n",
       "    .dataframe thead th {\n",
       "        text-align: right;\n",
       "    }\n",
       "</style>\n",
       "<table border=\"1\" class=\"dataframe\">\n",
       "  <thead>\n",
       "    <tr style=\"text-align: right;\">\n",
       "      <th></th>\n",
       "      <th>세종</th>\n",
       "      <th>세종특별자치시</th>\n",
       "    </tr>\n",
       "  </thead>\n",
       "  <tbody>\n",
       "    <tr>\n",
       "      <th>세종</th>\n",
       "      <td>1.000000</td>\n",
       "      <td>0.351322</td>\n",
       "    </tr>\n",
       "    <tr>\n",
       "      <th>세종특별자치시</th>\n",
       "      <td>0.351322</td>\n",
       "      <td>1.000000</td>\n",
       "    </tr>\n",
       "  </tbody>\n",
       "</table>\n",
       "</div>"
      ],
      "text/plain": [
       "               세종   세종특별자치시\n",
       "세종       1.000000  0.351322\n",
       "세종특별자치시  0.351322  1.000000"
      ]
     },
     "execution_count": 62,
     "metadata": {},
     "output_type": "execute_result"
    }
   ],
   "source": [
    "populations.corr(method = 'pearson')"
   ]
  },
  {
   "cell_type": "code",
   "execution_count": 61,
   "metadata": {},
   "outputs": [
    {
     "data": {
      "application/vnd.plotly.v1+json": {
       "config": {
        "plotlyServerURL": "https://plot.ly"
       },
       "data": [
        {
         "coloraxis": "coloraxis",
         "hovertemplate": "x: %{x}<br>y: %{y}<br>color: %{z}<extra></extra>",
         "name": "0",
         "type": "heatmap",
         "x": [
          "세종",
          "세종특별자치시"
         ],
         "xaxis": "x",
         "y": [
          "세종",
          "세종특별자치시"
         ],
         "yaxis": "y",
         "z": [
          [
           1,
           0.35132170929521644
          ],
          [
           0.35132170929521644,
           1
          ]
         ]
        }
       ],
       "layout": {
        "coloraxis": {
         "colorscale": [
          [
           0,
           "#0d0887"
          ],
          [
           0.1111111111111111,
           "#46039f"
          ],
          [
           0.2222222222222222,
           "#7201a8"
          ],
          [
           0.3333333333333333,
           "#9c179e"
          ],
          [
           0.4444444444444444,
           "#bd3786"
          ],
          [
           0.5555555555555556,
           "#d8576b"
          ],
          [
           0.6666666666666666,
           "#ed7953"
          ],
          [
           0.7777777777777778,
           "#fb9f3a"
          ],
          [
           0.8888888888888888,
           "#fdca26"
          ],
          [
           1,
           "#f0f921"
          ]
         ]
        },
        "margin": {
         "t": 60
        },
        "template": {
         "data": {
          "bar": [
           {
            "error_x": {
             "color": "#2a3f5f"
            },
            "error_y": {
             "color": "#2a3f5f"
            },
            "marker": {
             "line": {
              "color": "#E5ECF6",
              "width": 0.5
             }
            },
            "type": "bar"
           }
          ],
          "barpolar": [
           {
            "marker": {
             "line": {
              "color": "#E5ECF6",
              "width": 0.5
             }
            },
            "type": "barpolar"
           }
          ],
          "carpet": [
           {
            "aaxis": {
             "endlinecolor": "#2a3f5f",
             "gridcolor": "white",
             "linecolor": "white",
             "minorgridcolor": "white",
             "startlinecolor": "#2a3f5f"
            },
            "baxis": {
             "endlinecolor": "#2a3f5f",
             "gridcolor": "white",
             "linecolor": "white",
             "minorgridcolor": "white",
             "startlinecolor": "#2a3f5f"
            },
            "type": "carpet"
           }
          ],
          "choropleth": [
           {
            "colorbar": {
             "outlinewidth": 0,
             "ticks": ""
            },
            "type": "choropleth"
           }
          ],
          "contour": [
           {
            "colorbar": {
             "outlinewidth": 0,
             "ticks": ""
            },
            "colorscale": [
             [
              0,
              "#0d0887"
             ],
             [
              0.1111111111111111,
              "#46039f"
             ],
             [
              0.2222222222222222,
              "#7201a8"
             ],
             [
              0.3333333333333333,
              "#9c179e"
             ],
             [
              0.4444444444444444,
              "#bd3786"
             ],
             [
              0.5555555555555556,
              "#d8576b"
             ],
             [
              0.6666666666666666,
              "#ed7953"
             ],
             [
              0.7777777777777778,
              "#fb9f3a"
             ],
             [
              0.8888888888888888,
              "#fdca26"
             ],
             [
              1,
              "#f0f921"
             ]
            ],
            "type": "contour"
           }
          ],
          "contourcarpet": [
           {
            "colorbar": {
             "outlinewidth": 0,
             "ticks": ""
            },
            "type": "contourcarpet"
           }
          ],
          "heatmap": [
           {
            "colorbar": {
             "outlinewidth": 0,
             "ticks": ""
            },
            "colorscale": [
             [
              0,
              "#0d0887"
             ],
             [
              0.1111111111111111,
              "#46039f"
             ],
             [
              0.2222222222222222,
              "#7201a8"
             ],
             [
              0.3333333333333333,
              "#9c179e"
             ],
             [
              0.4444444444444444,
              "#bd3786"
             ],
             [
              0.5555555555555556,
              "#d8576b"
             ],
             [
              0.6666666666666666,
              "#ed7953"
             ],
             [
              0.7777777777777778,
              "#fb9f3a"
             ],
             [
              0.8888888888888888,
              "#fdca26"
             ],
             [
              1,
              "#f0f921"
             ]
            ],
            "type": "heatmap"
           }
          ],
          "heatmapgl": [
           {
            "colorbar": {
             "outlinewidth": 0,
             "ticks": ""
            },
            "colorscale": [
             [
              0,
              "#0d0887"
             ],
             [
              0.1111111111111111,
              "#46039f"
             ],
             [
              0.2222222222222222,
              "#7201a8"
             ],
             [
              0.3333333333333333,
              "#9c179e"
             ],
             [
              0.4444444444444444,
              "#bd3786"
             ],
             [
              0.5555555555555556,
              "#d8576b"
             ],
             [
              0.6666666666666666,
              "#ed7953"
             ],
             [
              0.7777777777777778,
              "#fb9f3a"
             ],
             [
              0.8888888888888888,
              "#fdca26"
             ],
             [
              1,
              "#f0f921"
             ]
            ],
            "type": "heatmapgl"
           }
          ],
          "histogram": [
           {
            "marker": {
             "colorbar": {
              "outlinewidth": 0,
              "ticks": ""
             }
            },
            "type": "histogram"
           }
          ],
          "histogram2d": [
           {
            "colorbar": {
             "outlinewidth": 0,
             "ticks": ""
            },
            "colorscale": [
             [
              0,
              "#0d0887"
             ],
             [
              0.1111111111111111,
              "#46039f"
             ],
             [
              0.2222222222222222,
              "#7201a8"
             ],
             [
              0.3333333333333333,
              "#9c179e"
             ],
             [
              0.4444444444444444,
              "#bd3786"
             ],
             [
              0.5555555555555556,
              "#d8576b"
             ],
             [
              0.6666666666666666,
              "#ed7953"
             ],
             [
              0.7777777777777778,
              "#fb9f3a"
             ],
             [
              0.8888888888888888,
              "#fdca26"
             ],
             [
              1,
              "#f0f921"
             ]
            ],
            "type": "histogram2d"
           }
          ],
          "histogram2dcontour": [
           {
            "colorbar": {
             "outlinewidth": 0,
             "ticks": ""
            },
            "colorscale": [
             [
              0,
              "#0d0887"
             ],
             [
              0.1111111111111111,
              "#46039f"
             ],
             [
              0.2222222222222222,
              "#7201a8"
             ],
             [
              0.3333333333333333,
              "#9c179e"
             ],
             [
              0.4444444444444444,
              "#bd3786"
             ],
             [
              0.5555555555555556,
              "#d8576b"
             ],
             [
              0.6666666666666666,
              "#ed7953"
             ],
             [
              0.7777777777777778,
              "#fb9f3a"
             ],
             [
              0.8888888888888888,
              "#fdca26"
             ],
             [
              1,
              "#f0f921"
             ]
            ],
            "type": "histogram2dcontour"
           }
          ],
          "mesh3d": [
           {
            "colorbar": {
             "outlinewidth": 0,
             "ticks": ""
            },
            "type": "mesh3d"
           }
          ],
          "parcoords": [
           {
            "line": {
             "colorbar": {
              "outlinewidth": 0,
              "ticks": ""
             }
            },
            "type": "parcoords"
           }
          ],
          "pie": [
           {
            "automargin": true,
            "type": "pie"
           }
          ],
          "scatter": [
           {
            "marker": {
             "colorbar": {
              "outlinewidth": 0,
              "ticks": ""
             }
            },
            "type": "scatter"
           }
          ],
          "scatter3d": [
           {
            "line": {
             "colorbar": {
              "outlinewidth": 0,
              "ticks": ""
             }
            },
            "marker": {
             "colorbar": {
              "outlinewidth": 0,
              "ticks": ""
             }
            },
            "type": "scatter3d"
           }
          ],
          "scattercarpet": [
           {
            "marker": {
             "colorbar": {
              "outlinewidth": 0,
              "ticks": ""
             }
            },
            "type": "scattercarpet"
           }
          ],
          "scattergeo": [
           {
            "marker": {
             "colorbar": {
              "outlinewidth": 0,
              "ticks": ""
             }
            },
            "type": "scattergeo"
           }
          ],
          "scattergl": [
           {
            "marker": {
             "colorbar": {
              "outlinewidth": 0,
              "ticks": ""
             }
            },
            "type": "scattergl"
           }
          ],
          "scattermapbox": [
           {
            "marker": {
             "colorbar": {
              "outlinewidth": 0,
              "ticks": ""
             }
            },
            "type": "scattermapbox"
           }
          ],
          "scatterpolar": [
           {
            "marker": {
             "colorbar": {
              "outlinewidth": 0,
              "ticks": ""
             }
            },
            "type": "scatterpolar"
           }
          ],
          "scatterpolargl": [
           {
            "marker": {
             "colorbar": {
              "outlinewidth": 0,
              "ticks": ""
             }
            },
            "type": "scatterpolargl"
           }
          ],
          "scatterternary": [
           {
            "marker": {
             "colorbar": {
              "outlinewidth": 0,
              "ticks": ""
             }
            },
            "type": "scatterternary"
           }
          ],
          "surface": [
           {
            "colorbar": {
             "outlinewidth": 0,
             "ticks": ""
            },
            "colorscale": [
             [
              0,
              "#0d0887"
             ],
             [
              0.1111111111111111,
              "#46039f"
             ],
             [
              0.2222222222222222,
              "#7201a8"
             ],
             [
              0.3333333333333333,
              "#9c179e"
             ],
             [
              0.4444444444444444,
              "#bd3786"
             ],
             [
              0.5555555555555556,
              "#d8576b"
             ],
             [
              0.6666666666666666,
              "#ed7953"
             ],
             [
              0.7777777777777778,
              "#fb9f3a"
             ],
             [
              0.8888888888888888,
              "#fdca26"
             ],
             [
              1,
              "#f0f921"
             ]
            ],
            "type": "surface"
           }
          ],
          "table": [
           {
            "cells": {
             "fill": {
              "color": "#EBF0F8"
             },
             "line": {
              "color": "white"
             }
            },
            "header": {
             "fill": {
              "color": "#C8D4E3"
             },
             "line": {
              "color": "white"
             }
            },
            "type": "table"
           }
          ]
         },
         "layout": {
          "annotationdefaults": {
           "arrowcolor": "#2a3f5f",
           "arrowhead": 0,
           "arrowwidth": 1
          },
          "autotypenumbers": "strict",
          "coloraxis": {
           "colorbar": {
            "outlinewidth": 0,
            "ticks": ""
           }
          },
          "colorscale": {
           "diverging": [
            [
             0,
             "#8e0152"
            ],
            [
             0.1,
             "#c51b7d"
            ],
            [
             0.2,
             "#de77ae"
            ],
            [
             0.3,
             "#f1b6da"
            ],
            [
             0.4,
             "#fde0ef"
            ],
            [
             0.5,
             "#f7f7f7"
            ],
            [
             0.6,
             "#e6f5d0"
            ],
            [
             0.7,
             "#b8e186"
            ],
            [
             0.8,
             "#7fbc41"
            ],
            [
             0.9,
             "#4d9221"
            ],
            [
             1,
             "#276419"
            ]
           ],
           "sequential": [
            [
             0,
             "#0d0887"
            ],
            [
             0.1111111111111111,
             "#46039f"
            ],
            [
             0.2222222222222222,
             "#7201a8"
            ],
            [
             0.3333333333333333,
             "#9c179e"
            ],
            [
             0.4444444444444444,
             "#bd3786"
            ],
            [
             0.5555555555555556,
             "#d8576b"
            ],
            [
             0.6666666666666666,
             "#ed7953"
            ],
            [
             0.7777777777777778,
             "#fb9f3a"
            ],
            [
             0.8888888888888888,
             "#fdca26"
            ],
            [
             1,
             "#f0f921"
            ]
           ],
           "sequentialminus": [
            [
             0,
             "#0d0887"
            ],
            [
             0.1111111111111111,
             "#46039f"
            ],
            [
             0.2222222222222222,
             "#7201a8"
            ],
            [
             0.3333333333333333,
             "#9c179e"
            ],
            [
             0.4444444444444444,
             "#bd3786"
            ],
            [
             0.5555555555555556,
             "#d8576b"
            ],
            [
             0.6666666666666666,
             "#ed7953"
            ],
            [
             0.7777777777777778,
             "#fb9f3a"
            ],
            [
             0.8888888888888888,
             "#fdca26"
            ],
            [
             1,
             "#f0f921"
            ]
           ]
          },
          "colorway": [
           "#636efa",
           "#EF553B",
           "#00cc96",
           "#ab63fa",
           "#FFA15A",
           "#19d3f3",
           "#FF6692",
           "#B6E880",
           "#FF97FF",
           "#FECB52"
          ],
          "font": {
           "color": "#2a3f5f"
          },
          "geo": {
           "bgcolor": "white",
           "lakecolor": "white",
           "landcolor": "#E5ECF6",
           "showlakes": true,
           "showland": true,
           "subunitcolor": "white"
          },
          "hoverlabel": {
           "align": "left"
          },
          "hovermode": "closest",
          "mapbox": {
           "style": "light"
          },
          "paper_bgcolor": "white",
          "plot_bgcolor": "#E5ECF6",
          "polar": {
           "angularaxis": {
            "gridcolor": "white",
            "linecolor": "white",
            "ticks": ""
           },
           "bgcolor": "#E5ECF6",
           "radialaxis": {
            "gridcolor": "white",
            "linecolor": "white",
            "ticks": ""
           }
          },
          "scene": {
           "xaxis": {
            "backgroundcolor": "#E5ECF6",
            "gridcolor": "white",
            "gridwidth": 2,
            "linecolor": "white",
            "showbackground": true,
            "ticks": "",
            "zerolinecolor": "white"
           },
           "yaxis": {
            "backgroundcolor": "#E5ECF6",
            "gridcolor": "white",
            "gridwidth": 2,
            "linecolor": "white",
            "showbackground": true,
            "ticks": "",
            "zerolinecolor": "white"
           },
           "zaxis": {
            "backgroundcolor": "#E5ECF6",
            "gridcolor": "white",
            "gridwidth": 2,
            "linecolor": "white",
            "showbackground": true,
            "ticks": "",
            "zerolinecolor": "white"
           }
          },
          "shapedefaults": {
           "line": {
            "color": "#2a3f5f"
           }
          },
          "ternary": {
           "aaxis": {
            "gridcolor": "white",
            "linecolor": "white",
            "ticks": ""
           },
           "baxis": {
            "gridcolor": "white",
            "linecolor": "white",
            "ticks": ""
           },
           "bgcolor": "#E5ECF6",
           "caxis": {
            "gridcolor": "white",
            "linecolor": "white",
            "ticks": ""
           }
          },
          "title": {
           "x": 0.05
          },
          "xaxis": {
           "automargin": true,
           "gridcolor": "white",
           "linecolor": "white",
           "ticks": "",
           "title": {
            "standoff": 15
           },
           "zerolinecolor": "white",
           "zerolinewidth": 2
          },
          "yaxis": {
           "automargin": true,
           "gridcolor": "white",
           "linecolor": "white",
           "ticks": "",
           "title": {
            "standoff": 15
           },
           "zerolinecolor": "white",
           "zerolinewidth": 2
          }
         }
        },
        "xaxis": {
         "anchor": "y",
         "constrain": "domain",
         "domain": [
          0,
          1
         ],
         "scaleanchor": "y"
        },
        "yaxis": {
         "anchor": "x",
         "autorange": "reversed",
         "constrain": "domain",
         "domain": [
          0,
          1
         ]
        }
       }
      },
      "text/html": [
       "<div>                            <div id=\"731531f3-397e-492e-956b-f039df7526fa\" class=\"plotly-graph-div\" style=\"height:525px; width:100%;\"></div>            <script type=\"text/javascript\">                require([\"plotly\"], function(Plotly) {                    window.PLOTLYENV=window.PLOTLYENV || {};                                    if (document.getElementById(\"731531f3-397e-492e-956b-f039df7526fa\")) {                    Plotly.newPlot(                        \"731531f3-397e-492e-956b-f039df7526fa\",                        [{\"coloraxis\": \"coloraxis\", \"hovertemplate\": \"x: %{x}<br>y: %{y}<br>color: %{z}<extra></extra>\", \"name\": \"0\", \"type\": \"heatmap\", \"x\": [\"\\uc138\\uc885\", \"\\uc138\\uc885\\ud2b9\\ubcc4\\uc790\\uce58\\uc2dc\"], \"xaxis\": \"x\", \"y\": [\"\\uc138\\uc885\", \"\\uc138\\uc885\\ud2b9\\ubcc4\\uc790\\uce58\\uc2dc\"], \"yaxis\": \"y\", \"z\": [[1.0, 0.35132170929521644], [0.35132170929521644, 1.0]]}],                        {\"coloraxis\": {\"colorscale\": [[0.0, \"#0d0887\"], [0.1111111111111111, \"#46039f\"], [0.2222222222222222, \"#7201a8\"], [0.3333333333333333, \"#9c179e\"], [0.4444444444444444, \"#bd3786\"], [0.5555555555555556, \"#d8576b\"], [0.6666666666666666, \"#ed7953\"], [0.7777777777777778, \"#fb9f3a\"], [0.8888888888888888, \"#fdca26\"], [1.0, \"#f0f921\"]]}, \"margin\": {\"t\": 60}, \"template\": {\"data\": {\"bar\": [{\"error_x\": {\"color\": \"#2a3f5f\"}, \"error_y\": {\"color\": \"#2a3f5f\"}, \"marker\": {\"line\": {\"color\": \"#E5ECF6\", \"width\": 0.5}}, \"type\": \"bar\"}], \"barpolar\": [{\"marker\": {\"line\": {\"color\": \"#E5ECF6\", \"width\": 0.5}}, \"type\": \"barpolar\"}], \"carpet\": [{\"aaxis\": {\"endlinecolor\": \"#2a3f5f\", \"gridcolor\": \"white\", \"linecolor\": \"white\", \"minorgridcolor\": \"white\", \"startlinecolor\": \"#2a3f5f\"}, \"baxis\": {\"endlinecolor\": \"#2a3f5f\", \"gridcolor\": \"white\", \"linecolor\": \"white\", \"minorgridcolor\": \"white\", \"startlinecolor\": \"#2a3f5f\"}, \"type\": \"carpet\"}], \"choropleth\": [{\"colorbar\": {\"outlinewidth\": 0, \"ticks\": \"\"}, \"type\": \"choropleth\"}], \"contour\": [{\"colorbar\": {\"outlinewidth\": 0, \"ticks\": \"\"}, \"colorscale\": [[0.0, \"#0d0887\"], [0.1111111111111111, \"#46039f\"], [0.2222222222222222, \"#7201a8\"], [0.3333333333333333, \"#9c179e\"], [0.4444444444444444, \"#bd3786\"], [0.5555555555555556, \"#d8576b\"], [0.6666666666666666, \"#ed7953\"], [0.7777777777777778, \"#fb9f3a\"], [0.8888888888888888, \"#fdca26\"], [1.0, \"#f0f921\"]], \"type\": \"contour\"}], \"contourcarpet\": [{\"colorbar\": {\"outlinewidth\": 0, \"ticks\": \"\"}, \"type\": \"contourcarpet\"}], \"heatmap\": [{\"colorbar\": {\"outlinewidth\": 0, \"ticks\": \"\"}, \"colorscale\": [[0.0, \"#0d0887\"], [0.1111111111111111, \"#46039f\"], [0.2222222222222222, \"#7201a8\"], [0.3333333333333333, \"#9c179e\"], [0.4444444444444444, \"#bd3786\"], [0.5555555555555556, \"#d8576b\"], [0.6666666666666666, \"#ed7953\"], [0.7777777777777778, \"#fb9f3a\"], [0.8888888888888888, \"#fdca26\"], [1.0, \"#f0f921\"]], \"type\": \"heatmap\"}], \"heatmapgl\": [{\"colorbar\": {\"outlinewidth\": 0, \"ticks\": \"\"}, \"colorscale\": [[0.0, \"#0d0887\"], [0.1111111111111111, \"#46039f\"], [0.2222222222222222, \"#7201a8\"], [0.3333333333333333, \"#9c179e\"], [0.4444444444444444, \"#bd3786\"], [0.5555555555555556, \"#d8576b\"], [0.6666666666666666, \"#ed7953\"], [0.7777777777777778, \"#fb9f3a\"], [0.8888888888888888, \"#fdca26\"], [1.0, \"#f0f921\"]], \"type\": \"heatmapgl\"}], \"histogram\": [{\"marker\": {\"colorbar\": {\"outlinewidth\": 0, \"ticks\": \"\"}}, \"type\": \"histogram\"}], \"histogram2d\": [{\"colorbar\": {\"outlinewidth\": 0, \"ticks\": \"\"}, \"colorscale\": [[0.0, \"#0d0887\"], [0.1111111111111111, \"#46039f\"], [0.2222222222222222, \"#7201a8\"], [0.3333333333333333, \"#9c179e\"], [0.4444444444444444, \"#bd3786\"], [0.5555555555555556, \"#d8576b\"], [0.6666666666666666, \"#ed7953\"], [0.7777777777777778, \"#fb9f3a\"], [0.8888888888888888, \"#fdca26\"], [1.0, \"#f0f921\"]], \"type\": \"histogram2d\"}], \"histogram2dcontour\": [{\"colorbar\": {\"outlinewidth\": 0, \"ticks\": \"\"}, \"colorscale\": [[0.0, \"#0d0887\"], [0.1111111111111111, \"#46039f\"], [0.2222222222222222, \"#7201a8\"], [0.3333333333333333, \"#9c179e\"], [0.4444444444444444, \"#bd3786\"], [0.5555555555555556, \"#d8576b\"], [0.6666666666666666, \"#ed7953\"], [0.7777777777777778, \"#fb9f3a\"], [0.8888888888888888, \"#fdca26\"], [1.0, \"#f0f921\"]], \"type\": \"histogram2dcontour\"}], \"mesh3d\": [{\"colorbar\": {\"outlinewidth\": 0, \"ticks\": \"\"}, \"type\": \"mesh3d\"}], \"parcoords\": [{\"line\": {\"colorbar\": {\"outlinewidth\": 0, \"ticks\": \"\"}}, \"type\": \"parcoords\"}], \"pie\": [{\"automargin\": true, \"type\": \"pie\"}], \"scatter\": [{\"marker\": {\"colorbar\": {\"outlinewidth\": 0, \"ticks\": \"\"}}, \"type\": \"scatter\"}], \"scatter3d\": [{\"line\": {\"colorbar\": {\"outlinewidth\": 0, \"ticks\": \"\"}}, \"marker\": {\"colorbar\": {\"outlinewidth\": 0, \"ticks\": \"\"}}, \"type\": \"scatter3d\"}], \"scattercarpet\": [{\"marker\": {\"colorbar\": {\"outlinewidth\": 0, \"ticks\": \"\"}}, \"type\": \"scattercarpet\"}], \"scattergeo\": [{\"marker\": {\"colorbar\": {\"outlinewidth\": 0, \"ticks\": \"\"}}, \"type\": \"scattergeo\"}], \"scattergl\": [{\"marker\": {\"colorbar\": {\"outlinewidth\": 0, \"ticks\": \"\"}}, \"type\": \"scattergl\"}], \"scattermapbox\": [{\"marker\": {\"colorbar\": {\"outlinewidth\": 0, \"ticks\": \"\"}}, \"type\": \"scattermapbox\"}], \"scatterpolar\": [{\"marker\": {\"colorbar\": {\"outlinewidth\": 0, \"ticks\": \"\"}}, \"type\": \"scatterpolar\"}], \"scatterpolargl\": [{\"marker\": {\"colorbar\": {\"outlinewidth\": 0, \"ticks\": \"\"}}, \"type\": \"scatterpolargl\"}], \"scatterternary\": [{\"marker\": {\"colorbar\": {\"outlinewidth\": 0, \"ticks\": \"\"}}, \"type\": \"scatterternary\"}], \"surface\": [{\"colorbar\": {\"outlinewidth\": 0, \"ticks\": \"\"}, \"colorscale\": [[0.0, \"#0d0887\"], [0.1111111111111111, \"#46039f\"], [0.2222222222222222, \"#7201a8\"], [0.3333333333333333, \"#9c179e\"], [0.4444444444444444, \"#bd3786\"], [0.5555555555555556, \"#d8576b\"], [0.6666666666666666, \"#ed7953\"], [0.7777777777777778, \"#fb9f3a\"], [0.8888888888888888, \"#fdca26\"], [1.0, \"#f0f921\"]], \"type\": \"surface\"}], \"table\": [{\"cells\": {\"fill\": {\"color\": \"#EBF0F8\"}, \"line\": {\"color\": \"white\"}}, \"header\": {\"fill\": {\"color\": \"#C8D4E3\"}, \"line\": {\"color\": \"white\"}}, \"type\": \"table\"}]}, \"layout\": {\"annotationdefaults\": {\"arrowcolor\": \"#2a3f5f\", \"arrowhead\": 0, \"arrowwidth\": 1}, \"autotypenumbers\": \"strict\", \"coloraxis\": {\"colorbar\": {\"outlinewidth\": 0, \"ticks\": \"\"}}, \"colorscale\": {\"diverging\": [[0, \"#8e0152\"], [0.1, \"#c51b7d\"], [0.2, \"#de77ae\"], [0.3, \"#f1b6da\"], [0.4, \"#fde0ef\"], [0.5, \"#f7f7f7\"], [0.6, \"#e6f5d0\"], [0.7, \"#b8e186\"], [0.8, \"#7fbc41\"], [0.9, \"#4d9221\"], [1, \"#276419\"]], \"sequential\": [[0.0, \"#0d0887\"], [0.1111111111111111, \"#46039f\"], [0.2222222222222222, \"#7201a8\"], [0.3333333333333333, \"#9c179e\"], [0.4444444444444444, \"#bd3786\"], [0.5555555555555556, \"#d8576b\"], [0.6666666666666666, \"#ed7953\"], [0.7777777777777778, \"#fb9f3a\"], [0.8888888888888888, \"#fdca26\"], [1.0, \"#f0f921\"]], \"sequentialminus\": [[0.0, \"#0d0887\"], [0.1111111111111111, \"#46039f\"], [0.2222222222222222, \"#7201a8\"], [0.3333333333333333, \"#9c179e\"], [0.4444444444444444, \"#bd3786\"], [0.5555555555555556, \"#d8576b\"], [0.6666666666666666, \"#ed7953\"], [0.7777777777777778, \"#fb9f3a\"], [0.8888888888888888, \"#fdca26\"], [1.0, \"#f0f921\"]]}, \"colorway\": [\"#636efa\", \"#EF553B\", \"#00cc96\", \"#ab63fa\", \"#FFA15A\", \"#19d3f3\", \"#FF6692\", \"#B6E880\", \"#FF97FF\", \"#FECB52\"], \"font\": {\"color\": \"#2a3f5f\"}, \"geo\": {\"bgcolor\": \"white\", \"lakecolor\": \"white\", \"landcolor\": \"#E5ECF6\", \"showlakes\": true, \"showland\": true, \"subunitcolor\": \"white\"}, \"hoverlabel\": {\"align\": \"left\"}, \"hovermode\": \"closest\", \"mapbox\": {\"style\": \"light\"}, \"paper_bgcolor\": \"white\", \"plot_bgcolor\": \"#E5ECF6\", \"polar\": {\"angularaxis\": {\"gridcolor\": \"white\", \"linecolor\": \"white\", \"ticks\": \"\"}, \"bgcolor\": \"#E5ECF6\", \"radialaxis\": {\"gridcolor\": \"white\", \"linecolor\": \"white\", \"ticks\": \"\"}}, \"scene\": {\"xaxis\": {\"backgroundcolor\": \"#E5ECF6\", \"gridcolor\": \"white\", \"gridwidth\": 2, \"linecolor\": \"white\", \"showbackground\": true, \"ticks\": \"\", \"zerolinecolor\": \"white\"}, \"yaxis\": {\"backgroundcolor\": \"#E5ECF6\", \"gridcolor\": \"white\", \"gridwidth\": 2, \"linecolor\": \"white\", \"showbackground\": true, \"ticks\": \"\", \"zerolinecolor\": \"white\"}, \"zaxis\": {\"backgroundcolor\": \"#E5ECF6\", \"gridcolor\": \"white\", \"gridwidth\": 2, \"linecolor\": \"white\", \"showbackground\": true, \"ticks\": \"\", \"zerolinecolor\": \"white\"}}, \"shapedefaults\": {\"line\": {\"color\": \"#2a3f5f\"}}, \"ternary\": {\"aaxis\": {\"gridcolor\": \"white\", \"linecolor\": \"white\", \"ticks\": \"\"}, \"baxis\": {\"gridcolor\": \"white\", \"linecolor\": \"white\", \"ticks\": \"\"}, \"bgcolor\": \"#E5ECF6\", \"caxis\": {\"gridcolor\": \"white\", \"linecolor\": \"white\", \"ticks\": \"\"}}, \"title\": {\"x\": 0.05}, \"xaxis\": {\"automargin\": true, \"gridcolor\": \"white\", \"linecolor\": \"white\", \"ticks\": \"\", \"title\": {\"standoff\": 15}, \"zerolinecolor\": \"white\", \"zerolinewidth\": 2}, \"yaxis\": {\"automargin\": true, \"gridcolor\": \"white\", \"linecolor\": \"white\", \"ticks\": \"\", \"title\": {\"standoff\": 15}, \"zerolinecolor\": \"white\", \"zerolinewidth\": 2}}}, \"xaxis\": {\"anchor\": \"y\", \"constrain\": \"domain\", \"domain\": [0.0, 1.0], \"scaleanchor\": \"y\"}, \"yaxis\": {\"anchor\": \"x\", \"autorange\": \"reversed\", \"constrain\": \"domain\", \"domain\": [0.0, 1.0]}},                        {\"responsive\": true}                    ).then(function(){\n",
       "                            \n",
       "var gd = document.getElementById('731531f3-397e-492e-956b-f039df7526fa');\n",
       "var x = new MutationObserver(function (mutations, observer) {{\n",
       "        var display = window.getComputedStyle(gd).display;\n",
       "        if (!display || display === 'none') {{\n",
       "            console.log([gd, 'removed!']);\n",
       "            Plotly.purge(gd);\n",
       "            observer.disconnect();\n",
       "        }}\n",
       "}});\n",
       "\n",
       "// Listen for the removal of the full notebook cells\n",
       "var notebookContainer = gd.closest('#notebook-container');\n",
       "if (notebookContainer) {{\n",
       "    x.observe(notebookContainer, {childList: true});\n",
       "}}\n",
       "\n",
       "// Listen for the clearing of the current output cell\n",
       "var outputEl = gd.closest('.output');\n",
       "if (outputEl) {{\n",
       "    x.observe(outputEl, {childList: true});\n",
       "}}\n",
       "\n",
       "                        })                };                });            </script>        </div>"
      ]
     },
     "metadata": {},
     "output_type": "display_data"
    }
   ],
   "source": [
    "fig = px.imshow(populations.corr(method = 'pearson'))\n",
    "fig.show()"
   ]
  },
  {
   "cell_type": "markdown",
   "metadata": {},
   "source": [
    "# apart = pd.read_excel(\"아파트매매가.xlsx\",header=10) #엑셀의 11번째 행부터 읽어들인다.\n",
    "# apart.to_csv(\"아파트매매가.csv\",index=False,encoding='CP949') #CSV 파일로 전환 index행을 만들지 않기위해 False"
   ]
  },
  {
   "cell_type": "markdown",
   "metadata": {},
   "source": [
    "# 아파트 매매가 상승률 2003.12 ~ 2021.05"
   ]
  },
  {
   "cell_type": "code",
   "execution_count": 561,
   "metadata": {},
   "outputs": [
    {
     "data": {
      "text/plain": [
       "3.1"
      ]
     },
     "execution_count": 561,
     "metadata": {},
     "output_type": "execute_result"
    }
   ],
   "source": [
    "apart = pd.read_csv('아파트매매가.csv',encoding='CP949',header=[0,1],index_col=0) #csv파일을 읽어온다. \n",
    "[apart.rename(columns={apart.columns[index][0]:apart.columns[index-1][0]},inplace=True) for index,i in enumerate(apart.columns[:]) if index%2!=0]\n",
    "apart = pd.DataFrame(apart.iloc[:,1::2].values,columns=apart.columns[1::2].map(lambda x: x[0]),index=apart.index)\n",
    "apart = apart.iloc[:,1:].transpose()[['전국','서울','세종']]\n",
    "\n",
    "pop = pd.read_csv('총인구수.csv',encoding='CP949',index_col=0) #csv파일을 읽어온다. \n",
    "pop.index.name='지역'\n",
    "pop = pop.iloc[1:,:].transpose()\n",
    "pop.columns=apart.columns\n",
    "\n",
    "gdp = pd.read_csv('GDP.csv',encoding='CP949',index_col=0)\n",
    "gdp = gdp.transpose()[['국내총생산(실질성장률) (%)']]\n",
    "gdp.columns =['성장률']\n",
    "gdp.iloc[0,0]"
   ]
  },
  {
   "cell_type": "code",
   "execution_count": 562,
   "metadata": {},
   "outputs": [],
   "source": [
    "sejong = apart[['세종']].loc[apart[['세종']].replace('-',np.nan).notnull().values]\n",
    "sejong = sejong.astype(float)\n",
    "sejong_pop = pop[['세종']].loc[pop[['세종']].replace('-',np.nan).notnull().values]\n",
    "sejong_pop = sejong_pop.astype(int)\n",
    "sejong.index = sejong_pop.loc['2012. 12':'2021. 05'].index\n",
    "sejong_sejong_pop = pd.concat([sejong,sejong_pop.loc['2012. 12':'2021. 05']], axis=1)"
   ]
  },
  {
   "cell_type": "code",
   "execution_count": 563,
   "metadata": {},
   "outputs": [
    {
     "data": {
      "text/html": [
       "<div>\n",
       "<style scoped>\n",
       "    .dataframe tbody tr th:only-of-type {\n",
       "        vertical-align: middle;\n",
       "    }\n",
       "\n",
       "    .dataframe tbody tr th {\n",
       "        vertical-align: top;\n",
       "    }\n",
       "\n",
       "    .dataframe thead th {\n",
       "        text-align: right;\n",
       "    }\n",
       "</style>\n",
       "<table border=\"1\" class=\"dataframe\">\n",
       "  <thead>\n",
       "    <tr style=\"text-align: right;\">\n",
       "      <th></th>\n",
       "      <th>세종</th>\n",
       "      <th>세종</th>\n",
       "    </tr>\n",
       "  </thead>\n",
       "  <tbody>\n",
       "    <tr>\n",
       "      <th>세종</th>\n",
       "      <td>1.000000</td>\n",
       "      <td>0.287153</td>\n",
       "    </tr>\n",
       "    <tr>\n",
       "      <th>세종</th>\n",
       "      <td>0.287153</td>\n",
       "      <td>1.000000</td>\n",
       "    </tr>\n",
       "  </tbody>\n",
       "</table>\n",
       "</div>"
      ],
      "text/plain": [
       "          세종        세종\n",
       "세종  1.000000  0.287153\n",
       "세종  0.287153  1.000000"
      ]
     },
     "metadata": {},
     "output_type": "display_data"
    },
    {
     "data": {
      "text/plain": [
       "(0.28715258134827787, 0.003430769732369909)"
      ]
     },
     "metadata": {},
     "output_type": "display_data"
    },
    {
     "name": "stdout",
     "output_type": "stream",
     "text": [
      "세종매매가상승률:세종인구 (상관계수, pvalue)\n"
     ]
    }
   ],
   "source": [
    "display(sejong_sejong_pop.corr(method = 'pearson'))\n",
    "display(scipy.stats.pearsonr(sejong_sejong_pop.iloc[:,0].values, sejong_sejong_pop.iloc[:,1].values))\n",
    "print(\"세종매매가상승률:세종인구 (상관계수, pvalue)\")"
   ]
  },
  {
   "cell_type": "code",
   "execution_count": 564,
   "metadata": {},
   "outputs": [],
   "source": [
    "total_pop = pop[['전국']]\n",
    "total_pop = total_pop.astype(int)\n",
    "sejong_total_pop = pd.concat([sejong,total_pop.loc['2012. 12':'2021. 05']],axis=1)"
   ]
  },
  {
   "cell_type": "code",
   "execution_count": 565,
   "metadata": {},
   "outputs": [
    {
     "data": {
      "text/html": [
       "<div>\n",
       "<style scoped>\n",
       "    .dataframe tbody tr th:only-of-type {\n",
       "        vertical-align: middle;\n",
       "    }\n",
       "\n",
       "    .dataframe tbody tr th {\n",
       "        vertical-align: top;\n",
       "    }\n",
       "\n",
       "    .dataframe thead th {\n",
       "        text-align: right;\n",
       "    }\n",
       "</style>\n",
       "<table border=\"1\" class=\"dataframe\">\n",
       "  <thead>\n",
       "    <tr style=\"text-align: right;\">\n",
       "      <th></th>\n",
       "      <th>세종</th>\n",
       "      <th>전국</th>\n",
       "    </tr>\n",
       "  </thead>\n",
       "  <tbody>\n",
       "    <tr>\n",
       "      <th>세종</th>\n",
       "      <td>1.000000</td>\n",
       "      <td>0.175192</td>\n",
       "    </tr>\n",
       "    <tr>\n",
       "      <th>전국</th>\n",
       "      <td>0.175192</td>\n",
       "      <td>1.000000</td>\n",
       "    </tr>\n",
       "  </tbody>\n",
       "</table>\n",
       "</div>"
      ],
      "text/plain": [
       "          세종        전국\n",
       "세종  1.000000  0.175192\n",
       "전국  0.175192  1.000000"
      ]
     },
     "metadata": {},
     "output_type": "display_data"
    },
    {
     "data": {
      "text/plain": [
       "(0.17519189079123748, 0.07820577932731418)"
      ]
     },
     "metadata": {},
     "output_type": "display_data"
    },
    {
     "name": "stdout",
     "output_type": "stream",
     "text": [
      "세종매매가상승률 : 전체인구 (상관계수, pvalue)\n"
     ]
    }
   ],
   "source": [
    "display(sejong_total_pop.corr(method='pearson'))\n",
    "display(scipy.stats.pearsonr(sejong_total_pop.iloc[:,0].values, sejong_total_pop.iloc[:,1].values))\n",
    "print(\"세종매매가상승률 : 전체인구 (상관계수, pvalue)\")"
   ]
  },
  {
   "cell_type": "code",
   "execution_count": 566,
   "metadata": {},
   "outputs": [],
   "source": [
    "sejong_gdp=pd.DataFrame()\n",
    "for i in range(2012,2021):\n",
    "    for n in range(sejong.loc[sejong.index.str.contains(str(i))].size):\n",
    "        sejong_gdp = sejong_gdp.append(gdp.loc[[str(i)]])\n",
    "sejong_gdp.index=sejong.iloc[:-5].index\n",
    "sejong_sejong_gdp = pd.concat([sejong.iloc[:-5],sejong_gdp],axis=1)"
   ]
  },
  {
   "cell_type": "code",
   "execution_count": 567,
   "metadata": {
    "scrolled": true
   },
   "outputs": [
    {
     "data": {
      "text/html": [
       "<div>\n",
       "<style scoped>\n",
       "    .dataframe tbody tr th:only-of-type {\n",
       "        vertical-align: middle;\n",
       "    }\n",
       "\n",
       "    .dataframe tbody tr th {\n",
       "        vertical-align: top;\n",
       "    }\n",
       "\n",
       "    .dataframe thead th {\n",
       "        text-align: right;\n",
       "    }\n",
       "</style>\n",
       "<table border=\"1\" class=\"dataframe\">\n",
       "  <thead>\n",
       "    <tr style=\"text-align: right;\">\n",
       "      <th></th>\n",
       "      <th>세종</th>\n",
       "      <th>성장률</th>\n",
       "    </tr>\n",
       "  </thead>\n",
       "  <tbody>\n",
       "    <tr>\n",
       "      <th>세종</th>\n",
       "      <td>1.000000</td>\n",
       "      <td>-0.668856</td>\n",
       "    </tr>\n",
       "    <tr>\n",
       "      <th>성장률</th>\n",
       "      <td>-0.668856</td>\n",
       "      <td>1.000000</td>\n",
       "    </tr>\n",
       "  </tbody>\n",
       "</table>\n",
       "</div>"
      ],
      "text/plain": [
       "           세종       성장률\n",
       "세종   1.000000 -0.668856\n",
       "성장률 -0.668856  1.000000"
      ]
     },
     "metadata": {},
     "output_type": "display_data"
    },
    {
     "data": {
      "text/plain": [
       "(-0.668856216275251, 7.029456560521476e-14)"
      ]
     },
     "metadata": {},
     "output_type": "display_data"
    },
    {
     "name": "stdout",
     "output_type": "stream",
     "text": [
      "세종매매가상승률 : GDP성장률 (상관계수, pvalue)\n"
     ]
    }
   ],
   "source": [
    "display(sejong_sejong_gdp.corr(method='pearson'))\n",
    "display(scipy.stats.pearsonr(sejong_sejong_gdp.iloc[:,0].values, sejong_sejong_gdp.iloc[:,1].values))\n",
    "print(\"세종매매가상승률 : GDP성장률 (상관계수, pvalue)\")"
   ]
  },
  {
   "cell_type": "code",
   "execution_count": 568,
   "metadata": {},
   "outputs": [],
   "source": [
    "total = apart[['전국']]\n",
    "total = total.astype(float)\n",
    "total = total.loc['2011년 01월':]\n",
    "total.index = total_pop.iloc[:-1].index\n",
    "total_total_pop = pd.concat([total,total_pop.iloc[:-1]],axis=1)"
   ]
  },
  {
   "cell_type": "code",
   "execution_count": 569,
   "metadata": {},
   "outputs": [
    {
     "data": {
      "text/html": [
       "<div>\n",
       "<style scoped>\n",
       "    .dataframe tbody tr th:only-of-type {\n",
       "        vertical-align: middle;\n",
       "    }\n",
       "\n",
       "    .dataframe tbody tr th {\n",
       "        vertical-align: top;\n",
       "    }\n",
       "\n",
       "    .dataframe thead th {\n",
       "        text-align: right;\n",
       "    }\n",
       "</style>\n",
       "<table border=\"1\" class=\"dataframe\">\n",
       "  <thead>\n",
       "    <tr style=\"text-align: right;\">\n",
       "      <th></th>\n",
       "      <th>전국</th>\n",
       "      <th>전국</th>\n",
       "    </tr>\n",
       "  </thead>\n",
       "  <tbody>\n",
       "    <tr>\n",
       "      <th>전국</th>\n",
       "      <td>1.000000</td>\n",
       "      <td>-0.044543</td>\n",
       "    </tr>\n",
       "    <tr>\n",
       "      <th>전국</th>\n",
       "      <td>-0.044543</td>\n",
       "      <td>1.000000</td>\n",
       "    </tr>\n",
       "  </tbody>\n",
       "</table>\n",
       "</div>"
      ],
      "text/plain": [
       "          전국        전국\n",
       "전국  1.000000 -0.044543\n",
       "전국 -0.044543  1.000000"
      ]
     },
     "metadata": {},
     "output_type": "display_data"
    },
    {
     "data": {
      "text/plain": [
       "(-0.04454305144894789, 0.6218371815048485)"
      ]
     },
     "metadata": {},
     "output_type": "display_data"
    },
    {
     "name": "stdout",
     "output_type": "stream",
     "text": [
      "전국매매가상승률 : 전체인구 (상관계수, pvalue)\n"
     ]
    }
   ],
   "source": [
    "display(total_total_pop.corr(method='pearson'))\n",
    "display(scipy.stats.pearsonr(total_total_pop.iloc[:,0].values, total_total_pop.iloc[:,1].values))\n",
    "print(\"전국매매가상승률 : 전체인구 (상관계수, pvalue)\")"
   ]
  },
  {
   "cell_type": "code",
   "execution_count": 570,
   "metadata": {},
   "outputs": [],
   "source": [
    "total2 = apart[['전국']]\n",
    "total2 = total2.astype(float)\n",
    "\n",
    "total_gdp=pd.DataFrame()\n",
    "for i in range(2003,2021):\n",
    "    for n in range(total2.loc[total2.index.str.contains(str(i))].size):\n",
    "        total_gdp = total_gdp.append(gdp.loc[[str(i)]])\n",
    "total_gdp.index=total2.index[:-5]\n",
    "total_total_gdp = pd.concat([total2.iloc[:-5],total_gdp],axis=1)"
   ]
  },
  {
   "cell_type": "code",
   "execution_count": 571,
   "metadata": {
    "scrolled": false
   },
   "outputs": [
    {
     "data": {
      "text/html": [
       "<div>\n",
       "<style scoped>\n",
       "    .dataframe tbody tr th:only-of-type {\n",
       "        vertical-align: middle;\n",
       "    }\n",
       "\n",
       "    .dataframe tbody tr th {\n",
       "        vertical-align: top;\n",
       "    }\n",
       "\n",
       "    .dataframe thead th {\n",
       "        text-align: right;\n",
       "    }\n",
       "</style>\n",
       "<table border=\"1\" class=\"dataframe\">\n",
       "  <thead>\n",
       "    <tr style=\"text-align: right;\">\n",
       "      <th></th>\n",
       "      <th>전국</th>\n",
       "      <th>성장률</th>\n",
       "    </tr>\n",
       "  </thead>\n",
       "  <tbody>\n",
       "    <tr>\n",
       "      <th>전국</th>\n",
       "      <td>1.000000</td>\n",
       "      <td>0.078324</td>\n",
       "    </tr>\n",
       "    <tr>\n",
       "      <th>성장률</th>\n",
       "      <td>0.078324</td>\n",
       "      <td>1.000000</td>\n",
       "    </tr>\n",
       "  </tbody>\n",
       "</table>\n",
       "</div>"
      ],
      "text/plain": [
       "           전국       성장률\n",
       "전국   1.000000  0.078324\n",
       "성장률  0.078324  1.000000"
      ]
     },
     "metadata": {},
     "output_type": "display_data"
    },
    {
     "data": {
      "text/plain": [
       "(0.07832402503520955, 0.26429891792891175)"
      ]
     },
     "metadata": {},
     "output_type": "display_data"
    },
    {
     "name": "stdout",
     "output_type": "stream",
     "text": [
      "전국매매가상승률 : GDP 성장률 (상관계수, pvalue)\n"
     ]
    }
   ],
   "source": [
    "display(total_total_gdp.corr(method='pearson'))\n",
    "display(scipy.stats.pearsonr(total_total_gdp.iloc[:,0].values, total_total_gdp.iloc[:,1].values))\n",
    "print(\"전국매매가상승률 : GDP 성장률 (상관계수, pvalue)\")"
   ]
  },
  {
   "cell_type": "code",
   "execution_count": 574,
   "metadata": {},
   "outputs": [
    {
     "data": {
      "text/html": [
       "<div>\n",
       "<style scoped>\n",
       "    .dataframe tbody tr th:only-of-type {\n",
       "        vertical-align: middle;\n",
       "    }\n",
       "\n",
       "    .dataframe tbody tr th {\n",
       "        vertical-align: top;\n",
       "    }\n",
       "\n",
       "    .dataframe thead th {\n",
       "        text-align: right;\n",
       "    }\n",
       "</style>\n",
       "<table border=\"1\" class=\"dataframe\">\n",
       "  <thead>\n",
       "    <tr style=\"text-align: right;\">\n",
       "      <th></th>\n",
       "      <th>gdp</th>\n",
       "      <th>totalpop</th>\n",
       "      <th>sejongpop</th>\n",
       "    </tr>\n",
       "  </thead>\n",
       "  <tbody>\n",
       "    <tr>\n",
       "      <th>0</th>\n",
       "      <td>0.078324</td>\n",
       "      <td>-0.044543</td>\n",
       "      <td>NaN</td>\n",
       "    </tr>\n",
       "  </tbody>\n",
       "</table>\n",
       "</div>"
      ],
      "text/plain": [
       "        gdp  totalpop  sejongpop\n",
       "0  0.078324 -0.044543        NaN"
      ]
     },
     "execution_count": 574,
     "metadata": {},
     "output_type": "execute_result"
    }
   ],
   "source": [
    "TOTAL"
   ]
  },
  {
   "cell_type": "code",
   "execution_count": 577,
   "metadata": {
    "scrolled": true
   },
   "outputs": [
    {
     "data": {
      "text/html": [
       "<div>\n",
       "<style scoped>\n",
       "    .dataframe tbody tr th:only-of-type {\n",
       "        vertical-align: middle;\n",
       "    }\n",
       "\n",
       "    .dataframe tbody tr th {\n",
       "        vertical-align: top;\n",
       "    }\n",
       "\n",
       "    .dataframe thead th {\n",
       "        text-align: right;\n",
       "    }\n",
       "</style>\n",
       "<table border=\"1\" class=\"dataframe\">\n",
       "  <thead>\n",
       "    <tr style=\"text-align: right;\">\n",
       "      <th></th>\n",
       "      <th>gdp</th>\n",
       "      <th>totalpop</th>\n",
       "      <th>sejongpop</th>\n",
       "    </tr>\n",
       "  </thead>\n",
       "  <tbody>\n",
       "    <tr>\n",
       "      <th>세종</th>\n",
       "      <td>-0.668856</td>\n",
       "      <td>0.175192</td>\n",
       "      <td>0.287153</td>\n",
       "    </tr>\n",
       "    <tr>\n",
       "      <th>전국</th>\n",
       "      <td>0.078324</td>\n",
       "      <td>-0.044543</td>\n",
       "      <td>0.000000</td>\n",
       "    </tr>\n",
       "  </tbody>\n",
       "</table>\n",
       "</div>"
      ],
      "text/plain": [
       "         gdp  totalpop  sejongpop\n",
       "세종 -0.668856  0.175192   0.287153\n",
       "전국  0.078324 -0.044543   0.000000"
      ]
     },
     "execution_count": 577,
     "metadata": {},
     "output_type": "execute_result"
    }
   ],
   "source": [
    "TOTAL = pd.DataFrame()\n",
    "TOTAL['gdp']=[np.corrcoef(sejong_sejong_gdp.iloc[:,0].values, sejong_sejong_gdp.iloc[:,1].values)[0,1]]\n",
    "TOTAL['totalpop']=np.corrcoef(sejong_total_pop.iloc[:,0].values, sejong_total_pop.iloc[:,1].values)[0,1]\n",
    "TOTAL['sejongpop']=np.corrcoef(sejong_sejong_pop.iloc[:,0].values, sejong_sejong_pop.iloc[:,1].values)[0,1]\n",
    "TOTAL=TOTAL.append({\n",
    "    'totalpop':np.corrcoef(total_total_pop.iloc[:,0].values, total_total_pop.iloc[:,1].values)[0,1],\n",
    "    'gdp':np.corrcoef(total_total_gdp.iloc[:,0].values, total_total_gdp.iloc[:,1].values)[0,1]},\n",
    "    ignore_index=True)\n",
    "TOTAL.index=['세종','전국']\n",
    "TOTAL.fillna(0,inplace=True)\n",
    "TOTAL"
   ]
  },
  {
   "cell_type": "code",
   "execution_count": 557,
   "metadata": {},
   "outputs": [
    {
     "data": {
      "application/vnd.plotly.v1+json": {
       "config": {
        "plotlyServerURL": "https://plot.ly"
       },
       "data": [
        {
         "coloraxis": "coloraxis",
         "hovertemplate": "x: %{x}<br>y: %{y}<br>color: %{z}<extra></extra>",
         "name": "0",
         "type": "heatmap",
         "x": [
          "gdp",
          "totalpop",
          "sejongpop"
         ],
         "xaxis": "x",
         "y": [
          "세종",
          "전국"
         ],
         "yaxis": "y",
         "z": [
          [
           -0.6688562162752508,
           0.17519189079123748,
           0.287152581348278
          ],
          [
           0.07832402503520937,
           -0.04454305144894795,
           0
          ]
         ]
        }
       ],
       "layout": {
        "coloraxis": {
         "colorscale": [
          [
           0,
           "#0d0887"
          ],
          [
           0.1111111111111111,
           "#46039f"
          ],
          [
           0.2222222222222222,
           "#7201a8"
          ],
          [
           0.3333333333333333,
           "#9c179e"
          ],
          [
           0.4444444444444444,
           "#bd3786"
          ],
          [
           0.5555555555555556,
           "#d8576b"
          ],
          [
           0.6666666666666666,
           "#ed7953"
          ],
          [
           0.7777777777777778,
           "#fb9f3a"
          ],
          [
           0.8888888888888888,
           "#fdca26"
          ],
          [
           1,
           "#f0f921"
          ]
         ]
        },
        "margin": {
         "t": 60
        },
        "template": {
         "data": {
          "bar": [
           {
            "error_x": {
             "color": "#2a3f5f"
            },
            "error_y": {
             "color": "#2a3f5f"
            },
            "marker": {
             "line": {
              "color": "#E5ECF6",
              "width": 0.5
             }
            },
            "type": "bar"
           }
          ],
          "barpolar": [
           {
            "marker": {
             "line": {
              "color": "#E5ECF6",
              "width": 0.5
             }
            },
            "type": "barpolar"
           }
          ],
          "carpet": [
           {
            "aaxis": {
             "endlinecolor": "#2a3f5f",
             "gridcolor": "white",
             "linecolor": "white",
             "minorgridcolor": "white",
             "startlinecolor": "#2a3f5f"
            },
            "baxis": {
             "endlinecolor": "#2a3f5f",
             "gridcolor": "white",
             "linecolor": "white",
             "minorgridcolor": "white",
             "startlinecolor": "#2a3f5f"
            },
            "type": "carpet"
           }
          ],
          "choropleth": [
           {
            "colorbar": {
             "outlinewidth": 0,
             "ticks": ""
            },
            "type": "choropleth"
           }
          ],
          "contour": [
           {
            "colorbar": {
             "outlinewidth": 0,
             "ticks": ""
            },
            "colorscale": [
             [
              0,
              "#0d0887"
             ],
             [
              0.1111111111111111,
              "#46039f"
             ],
             [
              0.2222222222222222,
              "#7201a8"
             ],
             [
              0.3333333333333333,
              "#9c179e"
             ],
             [
              0.4444444444444444,
              "#bd3786"
             ],
             [
              0.5555555555555556,
              "#d8576b"
             ],
             [
              0.6666666666666666,
              "#ed7953"
             ],
             [
              0.7777777777777778,
              "#fb9f3a"
             ],
             [
              0.8888888888888888,
              "#fdca26"
             ],
             [
              1,
              "#f0f921"
             ]
            ],
            "type": "contour"
           }
          ],
          "contourcarpet": [
           {
            "colorbar": {
             "outlinewidth": 0,
             "ticks": ""
            },
            "type": "contourcarpet"
           }
          ],
          "heatmap": [
           {
            "colorbar": {
             "outlinewidth": 0,
             "ticks": ""
            },
            "colorscale": [
             [
              0,
              "#0d0887"
             ],
             [
              0.1111111111111111,
              "#46039f"
             ],
             [
              0.2222222222222222,
              "#7201a8"
             ],
             [
              0.3333333333333333,
              "#9c179e"
             ],
             [
              0.4444444444444444,
              "#bd3786"
             ],
             [
              0.5555555555555556,
              "#d8576b"
             ],
             [
              0.6666666666666666,
              "#ed7953"
             ],
             [
              0.7777777777777778,
              "#fb9f3a"
             ],
             [
              0.8888888888888888,
              "#fdca26"
             ],
             [
              1,
              "#f0f921"
             ]
            ],
            "type": "heatmap"
           }
          ],
          "heatmapgl": [
           {
            "colorbar": {
             "outlinewidth": 0,
             "ticks": ""
            },
            "colorscale": [
             [
              0,
              "#0d0887"
             ],
             [
              0.1111111111111111,
              "#46039f"
             ],
             [
              0.2222222222222222,
              "#7201a8"
             ],
             [
              0.3333333333333333,
              "#9c179e"
             ],
             [
              0.4444444444444444,
              "#bd3786"
             ],
             [
              0.5555555555555556,
              "#d8576b"
             ],
             [
              0.6666666666666666,
              "#ed7953"
             ],
             [
              0.7777777777777778,
              "#fb9f3a"
             ],
             [
              0.8888888888888888,
              "#fdca26"
             ],
             [
              1,
              "#f0f921"
             ]
            ],
            "type": "heatmapgl"
           }
          ],
          "histogram": [
           {
            "marker": {
             "colorbar": {
              "outlinewidth": 0,
              "ticks": ""
             }
            },
            "type": "histogram"
           }
          ],
          "histogram2d": [
           {
            "colorbar": {
             "outlinewidth": 0,
             "ticks": ""
            },
            "colorscale": [
             [
              0,
              "#0d0887"
             ],
             [
              0.1111111111111111,
              "#46039f"
             ],
             [
              0.2222222222222222,
              "#7201a8"
             ],
             [
              0.3333333333333333,
              "#9c179e"
             ],
             [
              0.4444444444444444,
              "#bd3786"
             ],
             [
              0.5555555555555556,
              "#d8576b"
             ],
             [
              0.6666666666666666,
              "#ed7953"
             ],
             [
              0.7777777777777778,
              "#fb9f3a"
             ],
             [
              0.8888888888888888,
              "#fdca26"
             ],
             [
              1,
              "#f0f921"
             ]
            ],
            "type": "histogram2d"
           }
          ],
          "histogram2dcontour": [
           {
            "colorbar": {
             "outlinewidth": 0,
             "ticks": ""
            },
            "colorscale": [
             [
              0,
              "#0d0887"
             ],
             [
              0.1111111111111111,
              "#46039f"
             ],
             [
              0.2222222222222222,
              "#7201a8"
             ],
             [
              0.3333333333333333,
              "#9c179e"
             ],
             [
              0.4444444444444444,
              "#bd3786"
             ],
             [
              0.5555555555555556,
              "#d8576b"
             ],
             [
              0.6666666666666666,
              "#ed7953"
             ],
             [
              0.7777777777777778,
              "#fb9f3a"
             ],
             [
              0.8888888888888888,
              "#fdca26"
             ],
             [
              1,
              "#f0f921"
             ]
            ],
            "type": "histogram2dcontour"
           }
          ],
          "mesh3d": [
           {
            "colorbar": {
             "outlinewidth": 0,
             "ticks": ""
            },
            "type": "mesh3d"
           }
          ],
          "parcoords": [
           {
            "line": {
             "colorbar": {
              "outlinewidth": 0,
              "ticks": ""
             }
            },
            "type": "parcoords"
           }
          ],
          "pie": [
           {
            "automargin": true,
            "type": "pie"
           }
          ],
          "scatter": [
           {
            "marker": {
             "colorbar": {
              "outlinewidth": 0,
              "ticks": ""
             }
            },
            "type": "scatter"
           }
          ],
          "scatter3d": [
           {
            "line": {
             "colorbar": {
              "outlinewidth": 0,
              "ticks": ""
             }
            },
            "marker": {
             "colorbar": {
              "outlinewidth": 0,
              "ticks": ""
             }
            },
            "type": "scatter3d"
           }
          ],
          "scattercarpet": [
           {
            "marker": {
             "colorbar": {
              "outlinewidth": 0,
              "ticks": ""
             }
            },
            "type": "scattercarpet"
           }
          ],
          "scattergeo": [
           {
            "marker": {
             "colorbar": {
              "outlinewidth": 0,
              "ticks": ""
             }
            },
            "type": "scattergeo"
           }
          ],
          "scattergl": [
           {
            "marker": {
             "colorbar": {
              "outlinewidth": 0,
              "ticks": ""
             }
            },
            "type": "scattergl"
           }
          ],
          "scattermapbox": [
           {
            "marker": {
             "colorbar": {
              "outlinewidth": 0,
              "ticks": ""
             }
            },
            "type": "scattermapbox"
           }
          ],
          "scatterpolar": [
           {
            "marker": {
             "colorbar": {
              "outlinewidth": 0,
              "ticks": ""
             }
            },
            "type": "scatterpolar"
           }
          ],
          "scatterpolargl": [
           {
            "marker": {
             "colorbar": {
              "outlinewidth": 0,
              "ticks": ""
             }
            },
            "type": "scatterpolargl"
           }
          ],
          "scatterternary": [
           {
            "marker": {
             "colorbar": {
              "outlinewidth": 0,
              "ticks": ""
             }
            },
            "type": "scatterternary"
           }
          ],
          "surface": [
           {
            "colorbar": {
             "outlinewidth": 0,
             "ticks": ""
            },
            "colorscale": [
             [
              0,
              "#0d0887"
             ],
             [
              0.1111111111111111,
              "#46039f"
             ],
             [
              0.2222222222222222,
              "#7201a8"
             ],
             [
              0.3333333333333333,
              "#9c179e"
             ],
             [
              0.4444444444444444,
              "#bd3786"
             ],
             [
              0.5555555555555556,
              "#d8576b"
             ],
             [
              0.6666666666666666,
              "#ed7953"
             ],
             [
              0.7777777777777778,
              "#fb9f3a"
             ],
             [
              0.8888888888888888,
              "#fdca26"
             ],
             [
              1,
              "#f0f921"
             ]
            ],
            "type": "surface"
           }
          ],
          "table": [
           {
            "cells": {
             "fill": {
              "color": "#EBF0F8"
             },
             "line": {
              "color": "white"
             }
            },
            "header": {
             "fill": {
              "color": "#C8D4E3"
             },
             "line": {
              "color": "white"
             }
            },
            "type": "table"
           }
          ]
         },
         "layout": {
          "annotationdefaults": {
           "arrowcolor": "#2a3f5f",
           "arrowhead": 0,
           "arrowwidth": 1
          },
          "autotypenumbers": "strict",
          "coloraxis": {
           "colorbar": {
            "outlinewidth": 0,
            "ticks": ""
           }
          },
          "colorscale": {
           "diverging": [
            [
             0,
             "#8e0152"
            ],
            [
             0.1,
             "#c51b7d"
            ],
            [
             0.2,
             "#de77ae"
            ],
            [
             0.3,
             "#f1b6da"
            ],
            [
             0.4,
             "#fde0ef"
            ],
            [
             0.5,
             "#f7f7f7"
            ],
            [
             0.6,
             "#e6f5d0"
            ],
            [
             0.7,
             "#b8e186"
            ],
            [
             0.8,
             "#7fbc41"
            ],
            [
             0.9,
             "#4d9221"
            ],
            [
             1,
             "#276419"
            ]
           ],
           "sequential": [
            [
             0,
             "#0d0887"
            ],
            [
             0.1111111111111111,
             "#46039f"
            ],
            [
             0.2222222222222222,
             "#7201a8"
            ],
            [
             0.3333333333333333,
             "#9c179e"
            ],
            [
             0.4444444444444444,
             "#bd3786"
            ],
            [
             0.5555555555555556,
             "#d8576b"
            ],
            [
             0.6666666666666666,
             "#ed7953"
            ],
            [
             0.7777777777777778,
             "#fb9f3a"
            ],
            [
             0.8888888888888888,
             "#fdca26"
            ],
            [
             1,
             "#f0f921"
            ]
           ],
           "sequentialminus": [
            [
             0,
             "#0d0887"
            ],
            [
             0.1111111111111111,
             "#46039f"
            ],
            [
             0.2222222222222222,
             "#7201a8"
            ],
            [
             0.3333333333333333,
             "#9c179e"
            ],
            [
             0.4444444444444444,
             "#bd3786"
            ],
            [
             0.5555555555555556,
             "#d8576b"
            ],
            [
             0.6666666666666666,
             "#ed7953"
            ],
            [
             0.7777777777777778,
             "#fb9f3a"
            ],
            [
             0.8888888888888888,
             "#fdca26"
            ],
            [
             1,
             "#f0f921"
            ]
           ]
          },
          "colorway": [
           "#636efa",
           "#EF553B",
           "#00cc96",
           "#ab63fa",
           "#FFA15A",
           "#19d3f3",
           "#FF6692",
           "#B6E880",
           "#FF97FF",
           "#FECB52"
          ],
          "font": {
           "color": "#2a3f5f"
          },
          "geo": {
           "bgcolor": "white",
           "lakecolor": "white",
           "landcolor": "#E5ECF6",
           "showlakes": true,
           "showland": true,
           "subunitcolor": "white"
          },
          "hoverlabel": {
           "align": "left"
          },
          "hovermode": "closest",
          "mapbox": {
           "style": "light"
          },
          "paper_bgcolor": "white",
          "plot_bgcolor": "#E5ECF6",
          "polar": {
           "angularaxis": {
            "gridcolor": "white",
            "linecolor": "white",
            "ticks": ""
           },
           "bgcolor": "#E5ECF6",
           "radialaxis": {
            "gridcolor": "white",
            "linecolor": "white",
            "ticks": ""
           }
          },
          "scene": {
           "xaxis": {
            "backgroundcolor": "#E5ECF6",
            "gridcolor": "white",
            "gridwidth": 2,
            "linecolor": "white",
            "showbackground": true,
            "ticks": "",
            "zerolinecolor": "white"
           },
           "yaxis": {
            "backgroundcolor": "#E5ECF6",
            "gridcolor": "white",
            "gridwidth": 2,
            "linecolor": "white",
            "showbackground": true,
            "ticks": "",
            "zerolinecolor": "white"
           },
           "zaxis": {
            "backgroundcolor": "#E5ECF6",
            "gridcolor": "white",
            "gridwidth": 2,
            "linecolor": "white",
            "showbackground": true,
            "ticks": "",
            "zerolinecolor": "white"
           }
          },
          "shapedefaults": {
           "line": {
            "color": "#2a3f5f"
           }
          },
          "ternary": {
           "aaxis": {
            "gridcolor": "white",
            "linecolor": "white",
            "ticks": ""
           },
           "baxis": {
            "gridcolor": "white",
            "linecolor": "white",
            "ticks": ""
           },
           "bgcolor": "#E5ECF6",
           "caxis": {
            "gridcolor": "white",
            "linecolor": "white",
            "ticks": ""
           }
          },
          "title": {
           "x": 0.05
          },
          "xaxis": {
           "automargin": true,
           "gridcolor": "white",
           "linecolor": "white",
           "ticks": "",
           "title": {
            "standoff": 15
           },
           "zerolinecolor": "white",
           "zerolinewidth": 2
          },
          "yaxis": {
           "automargin": true,
           "gridcolor": "white",
           "linecolor": "white",
           "ticks": "",
           "title": {
            "standoff": 15
           },
           "zerolinecolor": "white",
           "zerolinewidth": 2
          }
         }
        },
        "xaxis": {
         "anchor": "y",
         "constrain": "domain",
         "domain": [
          0,
          1
         ],
         "scaleanchor": "y"
        },
        "yaxis": {
         "anchor": "x",
         "autorange": "reversed",
         "constrain": "domain",
         "domain": [
          0,
          1
         ]
        }
       }
      },
      "text/html": [
       "<div>                            <div id=\"198184e7-86d4-465b-b974-d6bf471d0edd\" class=\"plotly-graph-div\" style=\"height:525px; width:100%;\"></div>            <script type=\"text/javascript\">                require([\"plotly\"], function(Plotly) {                    window.PLOTLYENV=window.PLOTLYENV || {};                                    if (document.getElementById(\"198184e7-86d4-465b-b974-d6bf471d0edd\")) {                    Plotly.newPlot(                        \"198184e7-86d4-465b-b974-d6bf471d0edd\",                        [{\"coloraxis\": \"coloraxis\", \"hovertemplate\": \"x: %{x}<br>y: %{y}<br>color: %{z}<extra></extra>\", \"name\": \"0\", \"type\": \"heatmap\", \"x\": [\"gdp\", \"totalpop\", \"sejongpop\"], \"xaxis\": \"x\", \"y\": [\"\\uc138\\uc885\", \"\\uc804\\uad6d\"], \"yaxis\": \"y\", \"z\": [[-0.6688562162752508, 0.17519189079123748, 0.287152581348278], [0.07832402503520937, -0.04454305144894795, 0.0]]}],                        {\"coloraxis\": {\"colorscale\": [[0.0, \"#0d0887\"], [0.1111111111111111, \"#46039f\"], [0.2222222222222222, \"#7201a8\"], [0.3333333333333333, \"#9c179e\"], [0.4444444444444444, \"#bd3786\"], [0.5555555555555556, \"#d8576b\"], [0.6666666666666666, \"#ed7953\"], [0.7777777777777778, \"#fb9f3a\"], [0.8888888888888888, \"#fdca26\"], [1.0, \"#f0f921\"]]}, \"margin\": {\"t\": 60}, \"template\": {\"data\": {\"bar\": [{\"error_x\": {\"color\": \"#2a3f5f\"}, \"error_y\": {\"color\": \"#2a3f5f\"}, \"marker\": {\"line\": {\"color\": \"#E5ECF6\", \"width\": 0.5}}, \"type\": \"bar\"}], \"barpolar\": [{\"marker\": {\"line\": {\"color\": \"#E5ECF6\", \"width\": 0.5}}, \"type\": \"barpolar\"}], \"carpet\": [{\"aaxis\": {\"endlinecolor\": \"#2a3f5f\", \"gridcolor\": \"white\", \"linecolor\": \"white\", \"minorgridcolor\": \"white\", \"startlinecolor\": \"#2a3f5f\"}, \"baxis\": {\"endlinecolor\": \"#2a3f5f\", \"gridcolor\": \"white\", \"linecolor\": \"white\", \"minorgridcolor\": \"white\", \"startlinecolor\": \"#2a3f5f\"}, \"type\": \"carpet\"}], \"choropleth\": [{\"colorbar\": {\"outlinewidth\": 0, \"ticks\": \"\"}, \"type\": \"choropleth\"}], \"contour\": [{\"colorbar\": {\"outlinewidth\": 0, \"ticks\": \"\"}, \"colorscale\": [[0.0, \"#0d0887\"], [0.1111111111111111, \"#46039f\"], [0.2222222222222222, \"#7201a8\"], [0.3333333333333333, \"#9c179e\"], [0.4444444444444444, \"#bd3786\"], [0.5555555555555556, \"#d8576b\"], [0.6666666666666666, \"#ed7953\"], [0.7777777777777778, \"#fb9f3a\"], [0.8888888888888888, \"#fdca26\"], [1.0, \"#f0f921\"]], \"type\": \"contour\"}], \"contourcarpet\": [{\"colorbar\": {\"outlinewidth\": 0, \"ticks\": \"\"}, \"type\": \"contourcarpet\"}], \"heatmap\": [{\"colorbar\": {\"outlinewidth\": 0, \"ticks\": \"\"}, \"colorscale\": [[0.0, \"#0d0887\"], [0.1111111111111111, \"#46039f\"], [0.2222222222222222, \"#7201a8\"], [0.3333333333333333, \"#9c179e\"], [0.4444444444444444, \"#bd3786\"], [0.5555555555555556, \"#d8576b\"], [0.6666666666666666, \"#ed7953\"], [0.7777777777777778, \"#fb9f3a\"], [0.8888888888888888, \"#fdca26\"], [1.0, \"#f0f921\"]], \"type\": \"heatmap\"}], \"heatmapgl\": [{\"colorbar\": {\"outlinewidth\": 0, \"ticks\": \"\"}, \"colorscale\": [[0.0, \"#0d0887\"], [0.1111111111111111, \"#46039f\"], [0.2222222222222222, \"#7201a8\"], [0.3333333333333333, \"#9c179e\"], [0.4444444444444444, \"#bd3786\"], [0.5555555555555556, \"#d8576b\"], [0.6666666666666666, \"#ed7953\"], [0.7777777777777778, \"#fb9f3a\"], [0.8888888888888888, \"#fdca26\"], [1.0, \"#f0f921\"]], \"type\": \"heatmapgl\"}], \"histogram\": [{\"marker\": {\"colorbar\": {\"outlinewidth\": 0, \"ticks\": \"\"}}, \"type\": \"histogram\"}], \"histogram2d\": [{\"colorbar\": {\"outlinewidth\": 0, \"ticks\": \"\"}, \"colorscale\": [[0.0, \"#0d0887\"], [0.1111111111111111, \"#46039f\"], [0.2222222222222222, \"#7201a8\"], [0.3333333333333333, \"#9c179e\"], [0.4444444444444444, \"#bd3786\"], [0.5555555555555556, \"#d8576b\"], [0.6666666666666666, \"#ed7953\"], [0.7777777777777778, \"#fb9f3a\"], [0.8888888888888888, \"#fdca26\"], [1.0, \"#f0f921\"]], \"type\": \"histogram2d\"}], \"histogram2dcontour\": [{\"colorbar\": {\"outlinewidth\": 0, \"ticks\": \"\"}, \"colorscale\": [[0.0, \"#0d0887\"], [0.1111111111111111, \"#46039f\"], [0.2222222222222222, \"#7201a8\"], [0.3333333333333333, \"#9c179e\"], [0.4444444444444444, \"#bd3786\"], [0.5555555555555556, \"#d8576b\"], [0.6666666666666666, \"#ed7953\"], [0.7777777777777778, \"#fb9f3a\"], [0.8888888888888888, \"#fdca26\"], [1.0, \"#f0f921\"]], \"type\": \"histogram2dcontour\"}], \"mesh3d\": [{\"colorbar\": {\"outlinewidth\": 0, \"ticks\": \"\"}, \"type\": \"mesh3d\"}], \"parcoords\": [{\"line\": {\"colorbar\": {\"outlinewidth\": 0, \"ticks\": \"\"}}, \"type\": \"parcoords\"}], \"pie\": [{\"automargin\": true, \"type\": \"pie\"}], \"scatter\": [{\"marker\": {\"colorbar\": {\"outlinewidth\": 0, \"ticks\": \"\"}}, \"type\": \"scatter\"}], \"scatter3d\": [{\"line\": {\"colorbar\": {\"outlinewidth\": 0, \"ticks\": \"\"}}, \"marker\": {\"colorbar\": {\"outlinewidth\": 0, \"ticks\": \"\"}}, \"type\": \"scatter3d\"}], \"scattercarpet\": [{\"marker\": {\"colorbar\": {\"outlinewidth\": 0, \"ticks\": \"\"}}, \"type\": \"scattercarpet\"}], \"scattergeo\": [{\"marker\": {\"colorbar\": {\"outlinewidth\": 0, \"ticks\": \"\"}}, \"type\": \"scattergeo\"}], \"scattergl\": [{\"marker\": {\"colorbar\": {\"outlinewidth\": 0, \"ticks\": \"\"}}, \"type\": \"scattergl\"}], \"scattermapbox\": [{\"marker\": {\"colorbar\": {\"outlinewidth\": 0, \"ticks\": \"\"}}, \"type\": \"scattermapbox\"}], \"scatterpolar\": [{\"marker\": {\"colorbar\": {\"outlinewidth\": 0, \"ticks\": \"\"}}, \"type\": \"scatterpolar\"}], \"scatterpolargl\": [{\"marker\": {\"colorbar\": {\"outlinewidth\": 0, \"ticks\": \"\"}}, \"type\": \"scatterpolargl\"}], \"scatterternary\": [{\"marker\": {\"colorbar\": {\"outlinewidth\": 0, \"ticks\": \"\"}}, \"type\": \"scatterternary\"}], \"surface\": [{\"colorbar\": {\"outlinewidth\": 0, \"ticks\": \"\"}, \"colorscale\": [[0.0, \"#0d0887\"], [0.1111111111111111, \"#46039f\"], [0.2222222222222222, \"#7201a8\"], [0.3333333333333333, \"#9c179e\"], [0.4444444444444444, \"#bd3786\"], [0.5555555555555556, \"#d8576b\"], [0.6666666666666666, \"#ed7953\"], [0.7777777777777778, \"#fb9f3a\"], [0.8888888888888888, \"#fdca26\"], [1.0, \"#f0f921\"]], \"type\": \"surface\"}], \"table\": [{\"cells\": {\"fill\": {\"color\": \"#EBF0F8\"}, \"line\": {\"color\": \"white\"}}, \"header\": {\"fill\": {\"color\": \"#C8D4E3\"}, \"line\": {\"color\": \"white\"}}, \"type\": \"table\"}]}, \"layout\": {\"annotationdefaults\": {\"arrowcolor\": \"#2a3f5f\", \"arrowhead\": 0, \"arrowwidth\": 1}, \"autotypenumbers\": \"strict\", \"coloraxis\": {\"colorbar\": {\"outlinewidth\": 0, \"ticks\": \"\"}}, \"colorscale\": {\"diverging\": [[0, \"#8e0152\"], [0.1, \"#c51b7d\"], [0.2, \"#de77ae\"], [0.3, \"#f1b6da\"], [0.4, \"#fde0ef\"], [0.5, \"#f7f7f7\"], [0.6, \"#e6f5d0\"], [0.7, \"#b8e186\"], [0.8, \"#7fbc41\"], [0.9, \"#4d9221\"], [1, \"#276419\"]], \"sequential\": [[0.0, \"#0d0887\"], [0.1111111111111111, \"#46039f\"], [0.2222222222222222, \"#7201a8\"], [0.3333333333333333, \"#9c179e\"], [0.4444444444444444, \"#bd3786\"], [0.5555555555555556, \"#d8576b\"], [0.6666666666666666, \"#ed7953\"], [0.7777777777777778, \"#fb9f3a\"], [0.8888888888888888, \"#fdca26\"], [1.0, \"#f0f921\"]], \"sequentialminus\": [[0.0, \"#0d0887\"], [0.1111111111111111, \"#46039f\"], [0.2222222222222222, \"#7201a8\"], [0.3333333333333333, \"#9c179e\"], [0.4444444444444444, \"#bd3786\"], [0.5555555555555556, \"#d8576b\"], [0.6666666666666666, \"#ed7953\"], [0.7777777777777778, \"#fb9f3a\"], [0.8888888888888888, \"#fdca26\"], [1.0, \"#f0f921\"]]}, \"colorway\": [\"#636efa\", \"#EF553B\", \"#00cc96\", \"#ab63fa\", \"#FFA15A\", \"#19d3f3\", \"#FF6692\", \"#B6E880\", \"#FF97FF\", \"#FECB52\"], \"font\": {\"color\": \"#2a3f5f\"}, \"geo\": {\"bgcolor\": \"white\", \"lakecolor\": \"white\", \"landcolor\": \"#E5ECF6\", \"showlakes\": true, \"showland\": true, \"subunitcolor\": \"white\"}, \"hoverlabel\": {\"align\": \"left\"}, \"hovermode\": \"closest\", \"mapbox\": {\"style\": \"light\"}, \"paper_bgcolor\": \"white\", \"plot_bgcolor\": \"#E5ECF6\", \"polar\": {\"angularaxis\": {\"gridcolor\": \"white\", \"linecolor\": \"white\", \"ticks\": \"\"}, \"bgcolor\": \"#E5ECF6\", \"radialaxis\": {\"gridcolor\": \"white\", \"linecolor\": \"white\", \"ticks\": \"\"}}, \"scene\": {\"xaxis\": {\"backgroundcolor\": \"#E5ECF6\", \"gridcolor\": \"white\", \"gridwidth\": 2, \"linecolor\": \"white\", \"showbackground\": true, \"ticks\": \"\", \"zerolinecolor\": \"white\"}, \"yaxis\": {\"backgroundcolor\": \"#E5ECF6\", \"gridcolor\": \"white\", \"gridwidth\": 2, \"linecolor\": \"white\", \"showbackground\": true, \"ticks\": \"\", \"zerolinecolor\": \"white\"}, \"zaxis\": {\"backgroundcolor\": \"#E5ECF6\", \"gridcolor\": \"white\", \"gridwidth\": 2, \"linecolor\": \"white\", \"showbackground\": true, \"ticks\": \"\", \"zerolinecolor\": \"white\"}}, \"shapedefaults\": {\"line\": {\"color\": \"#2a3f5f\"}}, \"ternary\": {\"aaxis\": {\"gridcolor\": \"white\", \"linecolor\": \"white\", \"ticks\": \"\"}, \"baxis\": {\"gridcolor\": \"white\", \"linecolor\": \"white\", \"ticks\": \"\"}, \"bgcolor\": \"#E5ECF6\", \"caxis\": {\"gridcolor\": \"white\", \"linecolor\": \"white\", \"ticks\": \"\"}}, \"title\": {\"x\": 0.05}, \"xaxis\": {\"automargin\": true, \"gridcolor\": \"white\", \"linecolor\": \"white\", \"ticks\": \"\", \"title\": {\"standoff\": 15}, \"zerolinecolor\": \"white\", \"zerolinewidth\": 2}, \"yaxis\": {\"automargin\": true, \"gridcolor\": \"white\", \"linecolor\": \"white\", \"ticks\": \"\", \"title\": {\"standoff\": 15}, \"zerolinecolor\": \"white\", \"zerolinewidth\": 2}}}, \"xaxis\": {\"anchor\": \"y\", \"constrain\": \"domain\", \"domain\": [0.0, 1.0], \"scaleanchor\": \"y\"}, \"yaxis\": {\"anchor\": \"x\", \"autorange\": \"reversed\", \"constrain\": \"domain\", \"domain\": [0.0, 1.0]}},                        {\"responsive\": true}                    ).then(function(){\n",
       "                            \n",
       "var gd = document.getElementById('198184e7-86d4-465b-b974-d6bf471d0edd');\n",
       "var x = new MutationObserver(function (mutations, observer) {{\n",
       "        var display = window.getComputedStyle(gd).display;\n",
       "        if (!display || display === 'none') {{\n",
       "            console.log([gd, 'removed!']);\n",
       "            Plotly.purge(gd);\n",
       "            observer.disconnect();\n",
       "        }}\n",
       "}});\n",
       "\n",
       "// Listen for the removal of the full notebook cells\n",
       "var notebookContainer = gd.closest('#notebook-container');\n",
       "if (notebookContainer) {{\n",
       "    x.observe(notebookContainer, {childList: true});\n",
       "}}\n",
       "\n",
       "// Listen for the clearing of the current output cell\n",
       "var outputEl = gd.closest('.output');\n",
       "if (outputEl) {{\n",
       "    x.observe(outputEl, {childList: true});\n",
       "}}\n",
       "\n",
       "                        })                };                });            </script>        </div>"
      ]
     },
     "metadata": {},
     "output_type": "display_data"
    }
   ],
   "source": [
    "fig = px.imshow(TOTAL)\n",
    "fig.show()"
   ]
  },
  {
   "cell_type": "code",
   "execution_count": 613,
   "metadata": {},
   "outputs": [],
   "source": [
    "P=pd.DataFrame([[scipy.stats.pearsonr(sejong_sejong_gdp.iloc[:,0].values, sejong_sejong_gdp.iloc[:,1].values)[1],\n",
    "                scipy.stats.pearsonr(sejong_total_pop.iloc[:,0].values, sejong_total_pop.iloc[:,1].values)[1],\n",
    "                scipy.stats.pearsonr(sejong_sejong_pop.iloc[:,0].values, sejong_sejong_pop.iloc[:,1].values)[1]]],\n",
    "               columns=['GDP','총인구','세종인구'])\n",
    "P=P.append({\n",
    "    'GDP':scipy.stats.pearsonr(total_total_gdp.iloc[:,0].values, total_total_gdp.iloc[:,1].values)[1],\n",
    "    '총인구':scipy.stats.pearsonr(total_total_pop.iloc[:,0].values, total_total_pop.iloc[:,1].values)[1]\n",
    "},ignore_index=True)\n",
    "P.index=['세종','전국']"
   ]
  },
  {
   "cell_type": "code",
   "execution_count": 633,
   "metadata": {},
   "outputs": [
    {
     "data": {
      "application/vnd.plotly.v1+json": {
       "config": {
        "plotlyServerURL": "https://plot.ly"
       },
       "data": [
        {
         "alignmentgroup": "True",
         "hovertemplate": "variable=GDP<br>index=%{x}<br>value=%{y}<extra></extra>",
         "legendgroup": "GDP",
         "marker": {
          "color": "#636efa"
         },
         "name": "GDP",
         "offsetgroup": "GDP",
         "orientation": "v",
         "showlegend": true,
         "textposition": "auto",
         "type": "bar",
         "x": [
          "세종",
          "전국"
         ],
         "xaxis": "x",
         "y": [
          7.029456560521476e-14,
          0.26429891792891175
         ],
         "yaxis": "y"
        }
       ],
       "layout": {
        "barmode": "relative",
        "legend": {
         "title": {
          "text": "variable"
         },
         "tracegroupgap": 0
        },
        "margin": {
         "t": 60
        },
        "template": {
         "data": {
          "bar": [
           {
            "error_x": {
             "color": "#2a3f5f"
            },
            "error_y": {
             "color": "#2a3f5f"
            },
            "marker": {
             "line": {
              "color": "#E5ECF6",
              "width": 0.5
             }
            },
            "type": "bar"
           }
          ],
          "barpolar": [
           {
            "marker": {
             "line": {
              "color": "#E5ECF6",
              "width": 0.5
             }
            },
            "type": "barpolar"
           }
          ],
          "carpet": [
           {
            "aaxis": {
             "endlinecolor": "#2a3f5f",
             "gridcolor": "white",
             "linecolor": "white",
             "minorgridcolor": "white",
             "startlinecolor": "#2a3f5f"
            },
            "baxis": {
             "endlinecolor": "#2a3f5f",
             "gridcolor": "white",
             "linecolor": "white",
             "minorgridcolor": "white",
             "startlinecolor": "#2a3f5f"
            },
            "type": "carpet"
           }
          ],
          "choropleth": [
           {
            "colorbar": {
             "outlinewidth": 0,
             "ticks": ""
            },
            "type": "choropleth"
           }
          ],
          "contour": [
           {
            "colorbar": {
             "outlinewidth": 0,
             "ticks": ""
            },
            "colorscale": [
             [
              0,
              "#0d0887"
             ],
             [
              0.1111111111111111,
              "#46039f"
             ],
             [
              0.2222222222222222,
              "#7201a8"
             ],
             [
              0.3333333333333333,
              "#9c179e"
             ],
             [
              0.4444444444444444,
              "#bd3786"
             ],
             [
              0.5555555555555556,
              "#d8576b"
             ],
             [
              0.6666666666666666,
              "#ed7953"
             ],
             [
              0.7777777777777778,
              "#fb9f3a"
             ],
             [
              0.8888888888888888,
              "#fdca26"
             ],
             [
              1,
              "#f0f921"
             ]
            ],
            "type": "contour"
           }
          ],
          "contourcarpet": [
           {
            "colorbar": {
             "outlinewidth": 0,
             "ticks": ""
            },
            "type": "contourcarpet"
           }
          ],
          "heatmap": [
           {
            "colorbar": {
             "outlinewidth": 0,
             "ticks": ""
            },
            "colorscale": [
             [
              0,
              "#0d0887"
             ],
             [
              0.1111111111111111,
              "#46039f"
             ],
             [
              0.2222222222222222,
              "#7201a8"
             ],
             [
              0.3333333333333333,
              "#9c179e"
             ],
             [
              0.4444444444444444,
              "#bd3786"
             ],
             [
              0.5555555555555556,
              "#d8576b"
             ],
             [
              0.6666666666666666,
              "#ed7953"
             ],
             [
              0.7777777777777778,
              "#fb9f3a"
             ],
             [
              0.8888888888888888,
              "#fdca26"
             ],
             [
              1,
              "#f0f921"
             ]
            ],
            "type": "heatmap"
           }
          ],
          "heatmapgl": [
           {
            "colorbar": {
             "outlinewidth": 0,
             "ticks": ""
            },
            "colorscale": [
             [
              0,
              "#0d0887"
             ],
             [
              0.1111111111111111,
              "#46039f"
             ],
             [
              0.2222222222222222,
              "#7201a8"
             ],
             [
              0.3333333333333333,
              "#9c179e"
             ],
             [
              0.4444444444444444,
              "#bd3786"
             ],
             [
              0.5555555555555556,
              "#d8576b"
             ],
             [
              0.6666666666666666,
              "#ed7953"
             ],
             [
              0.7777777777777778,
              "#fb9f3a"
             ],
             [
              0.8888888888888888,
              "#fdca26"
             ],
             [
              1,
              "#f0f921"
             ]
            ],
            "type": "heatmapgl"
           }
          ],
          "histogram": [
           {
            "marker": {
             "colorbar": {
              "outlinewidth": 0,
              "ticks": ""
             }
            },
            "type": "histogram"
           }
          ],
          "histogram2d": [
           {
            "colorbar": {
             "outlinewidth": 0,
             "ticks": ""
            },
            "colorscale": [
             [
              0,
              "#0d0887"
             ],
             [
              0.1111111111111111,
              "#46039f"
             ],
             [
              0.2222222222222222,
              "#7201a8"
             ],
             [
              0.3333333333333333,
              "#9c179e"
             ],
             [
              0.4444444444444444,
              "#bd3786"
             ],
             [
              0.5555555555555556,
              "#d8576b"
             ],
             [
              0.6666666666666666,
              "#ed7953"
             ],
             [
              0.7777777777777778,
              "#fb9f3a"
             ],
             [
              0.8888888888888888,
              "#fdca26"
             ],
             [
              1,
              "#f0f921"
             ]
            ],
            "type": "histogram2d"
           }
          ],
          "histogram2dcontour": [
           {
            "colorbar": {
             "outlinewidth": 0,
             "ticks": ""
            },
            "colorscale": [
             [
              0,
              "#0d0887"
             ],
             [
              0.1111111111111111,
              "#46039f"
             ],
             [
              0.2222222222222222,
              "#7201a8"
             ],
             [
              0.3333333333333333,
              "#9c179e"
             ],
             [
              0.4444444444444444,
              "#bd3786"
             ],
             [
              0.5555555555555556,
              "#d8576b"
             ],
             [
              0.6666666666666666,
              "#ed7953"
             ],
             [
              0.7777777777777778,
              "#fb9f3a"
             ],
             [
              0.8888888888888888,
              "#fdca26"
             ],
             [
              1,
              "#f0f921"
             ]
            ],
            "type": "histogram2dcontour"
           }
          ],
          "mesh3d": [
           {
            "colorbar": {
             "outlinewidth": 0,
             "ticks": ""
            },
            "type": "mesh3d"
           }
          ],
          "parcoords": [
           {
            "line": {
             "colorbar": {
              "outlinewidth": 0,
              "ticks": ""
             }
            },
            "type": "parcoords"
           }
          ],
          "pie": [
           {
            "automargin": true,
            "type": "pie"
           }
          ],
          "scatter": [
           {
            "marker": {
             "colorbar": {
              "outlinewidth": 0,
              "ticks": ""
             }
            },
            "type": "scatter"
           }
          ],
          "scatter3d": [
           {
            "line": {
             "colorbar": {
              "outlinewidth": 0,
              "ticks": ""
             }
            },
            "marker": {
             "colorbar": {
              "outlinewidth": 0,
              "ticks": ""
             }
            },
            "type": "scatter3d"
           }
          ],
          "scattercarpet": [
           {
            "marker": {
             "colorbar": {
              "outlinewidth": 0,
              "ticks": ""
             }
            },
            "type": "scattercarpet"
           }
          ],
          "scattergeo": [
           {
            "marker": {
             "colorbar": {
              "outlinewidth": 0,
              "ticks": ""
             }
            },
            "type": "scattergeo"
           }
          ],
          "scattergl": [
           {
            "marker": {
             "colorbar": {
              "outlinewidth": 0,
              "ticks": ""
             }
            },
            "type": "scattergl"
           }
          ],
          "scattermapbox": [
           {
            "marker": {
             "colorbar": {
              "outlinewidth": 0,
              "ticks": ""
             }
            },
            "type": "scattermapbox"
           }
          ],
          "scatterpolar": [
           {
            "marker": {
             "colorbar": {
              "outlinewidth": 0,
              "ticks": ""
             }
            },
            "type": "scatterpolar"
           }
          ],
          "scatterpolargl": [
           {
            "marker": {
             "colorbar": {
              "outlinewidth": 0,
              "ticks": ""
             }
            },
            "type": "scatterpolargl"
           }
          ],
          "scatterternary": [
           {
            "marker": {
             "colorbar": {
              "outlinewidth": 0,
              "ticks": ""
             }
            },
            "type": "scatterternary"
           }
          ],
          "surface": [
           {
            "colorbar": {
             "outlinewidth": 0,
             "ticks": ""
            },
            "colorscale": [
             [
              0,
              "#0d0887"
             ],
             [
              0.1111111111111111,
              "#46039f"
             ],
             [
              0.2222222222222222,
              "#7201a8"
             ],
             [
              0.3333333333333333,
              "#9c179e"
             ],
             [
              0.4444444444444444,
              "#bd3786"
             ],
             [
              0.5555555555555556,
              "#d8576b"
             ],
             [
              0.6666666666666666,
              "#ed7953"
             ],
             [
              0.7777777777777778,
              "#fb9f3a"
             ],
             [
              0.8888888888888888,
              "#fdca26"
             ],
             [
              1,
              "#f0f921"
             ]
            ],
            "type": "surface"
           }
          ],
          "table": [
           {
            "cells": {
             "fill": {
              "color": "#EBF0F8"
             },
             "line": {
              "color": "white"
             }
            },
            "header": {
             "fill": {
              "color": "#C8D4E3"
             },
             "line": {
              "color": "white"
             }
            },
            "type": "table"
           }
          ]
         },
         "layout": {
          "annotationdefaults": {
           "arrowcolor": "#2a3f5f",
           "arrowhead": 0,
           "arrowwidth": 1
          },
          "autotypenumbers": "strict",
          "coloraxis": {
           "colorbar": {
            "outlinewidth": 0,
            "ticks": ""
           }
          },
          "colorscale": {
           "diverging": [
            [
             0,
             "#8e0152"
            ],
            [
             0.1,
             "#c51b7d"
            ],
            [
             0.2,
             "#de77ae"
            ],
            [
             0.3,
             "#f1b6da"
            ],
            [
             0.4,
             "#fde0ef"
            ],
            [
             0.5,
             "#f7f7f7"
            ],
            [
             0.6,
             "#e6f5d0"
            ],
            [
             0.7,
             "#b8e186"
            ],
            [
             0.8,
             "#7fbc41"
            ],
            [
             0.9,
             "#4d9221"
            ],
            [
             1,
             "#276419"
            ]
           ],
           "sequential": [
            [
             0,
             "#0d0887"
            ],
            [
             0.1111111111111111,
             "#46039f"
            ],
            [
             0.2222222222222222,
             "#7201a8"
            ],
            [
             0.3333333333333333,
             "#9c179e"
            ],
            [
             0.4444444444444444,
             "#bd3786"
            ],
            [
             0.5555555555555556,
             "#d8576b"
            ],
            [
             0.6666666666666666,
             "#ed7953"
            ],
            [
             0.7777777777777778,
             "#fb9f3a"
            ],
            [
             0.8888888888888888,
             "#fdca26"
            ],
            [
             1,
             "#f0f921"
            ]
           ],
           "sequentialminus": [
            [
             0,
             "#0d0887"
            ],
            [
             0.1111111111111111,
             "#46039f"
            ],
            [
             0.2222222222222222,
             "#7201a8"
            ],
            [
             0.3333333333333333,
             "#9c179e"
            ],
            [
             0.4444444444444444,
             "#bd3786"
            ],
            [
             0.5555555555555556,
             "#d8576b"
            ],
            [
             0.6666666666666666,
             "#ed7953"
            ],
            [
             0.7777777777777778,
             "#fb9f3a"
            ],
            [
             0.8888888888888888,
             "#fdca26"
            ],
            [
             1,
             "#f0f921"
            ]
           ]
          },
          "colorway": [
           "#636efa",
           "#EF553B",
           "#00cc96",
           "#ab63fa",
           "#FFA15A",
           "#19d3f3",
           "#FF6692",
           "#B6E880",
           "#FF97FF",
           "#FECB52"
          ],
          "font": {
           "color": "#2a3f5f"
          },
          "geo": {
           "bgcolor": "white",
           "lakecolor": "white",
           "landcolor": "#E5ECF6",
           "showlakes": true,
           "showland": true,
           "subunitcolor": "white"
          },
          "hoverlabel": {
           "align": "left"
          },
          "hovermode": "closest",
          "mapbox": {
           "style": "light"
          },
          "paper_bgcolor": "white",
          "plot_bgcolor": "#E5ECF6",
          "polar": {
           "angularaxis": {
            "gridcolor": "white",
            "linecolor": "white",
            "ticks": ""
           },
           "bgcolor": "#E5ECF6",
           "radialaxis": {
            "gridcolor": "white",
            "linecolor": "white",
            "ticks": ""
           }
          },
          "scene": {
           "xaxis": {
            "backgroundcolor": "#E5ECF6",
            "gridcolor": "white",
            "gridwidth": 2,
            "linecolor": "white",
            "showbackground": true,
            "ticks": "",
            "zerolinecolor": "white"
           },
           "yaxis": {
            "backgroundcolor": "#E5ECF6",
            "gridcolor": "white",
            "gridwidth": 2,
            "linecolor": "white",
            "showbackground": true,
            "ticks": "",
            "zerolinecolor": "white"
           },
           "zaxis": {
            "backgroundcolor": "#E5ECF6",
            "gridcolor": "white",
            "gridwidth": 2,
            "linecolor": "white",
            "showbackground": true,
            "ticks": "",
            "zerolinecolor": "white"
           }
          },
          "shapedefaults": {
           "line": {
            "color": "#2a3f5f"
           }
          },
          "ternary": {
           "aaxis": {
            "gridcolor": "white",
            "linecolor": "white",
            "ticks": ""
           },
           "baxis": {
            "gridcolor": "white",
            "linecolor": "white",
            "ticks": ""
           },
           "bgcolor": "#E5ECF6",
           "caxis": {
            "gridcolor": "white",
            "linecolor": "white",
            "ticks": ""
           }
          },
          "title": {
           "x": 0.05
          },
          "xaxis": {
           "automargin": true,
           "gridcolor": "white",
           "linecolor": "white",
           "ticks": "",
           "title": {
            "standoff": 15
           },
           "zerolinecolor": "white",
           "zerolinewidth": 2
          },
          "yaxis": {
           "automargin": true,
           "gridcolor": "white",
           "linecolor": "white",
           "ticks": "",
           "title": {
            "standoff": 15
           },
           "zerolinecolor": "white",
           "zerolinewidth": 2
          }
         }
        },
        "xaxis": {
         "anchor": "y",
         "domain": [
          0,
          1
         ],
         "title": {
          "text": "index"
         }
        },
        "yaxis": {
         "anchor": "x",
         "domain": [
          0,
          1
         ],
         "title": {
          "text": "value"
         }
        }
       }
      },
      "text/html": [
       "<div>                            <div id=\"8e782e95-713a-4571-a2b5-f0bbdc94bc51\" class=\"plotly-graph-div\" style=\"height:525px; width:100%;\"></div>            <script type=\"text/javascript\">                require([\"plotly\"], function(Plotly) {                    window.PLOTLYENV=window.PLOTLYENV || {};                                    if (document.getElementById(\"8e782e95-713a-4571-a2b5-f0bbdc94bc51\")) {                    Plotly.newPlot(                        \"8e782e95-713a-4571-a2b5-f0bbdc94bc51\",                        [{\"alignmentgroup\": \"True\", \"hovertemplate\": \"variable=GDP<br>index=%{x}<br>value=%{y}<extra></extra>\", \"legendgroup\": \"GDP\", \"marker\": {\"color\": \"#636efa\"}, \"name\": \"GDP\", \"offsetgroup\": \"GDP\", \"orientation\": \"v\", \"showlegend\": true, \"textposition\": \"auto\", \"type\": \"bar\", \"x\": [\"\\uc138\\uc885\", \"\\uc804\\uad6d\"], \"xaxis\": \"x\", \"y\": [7.029456560521476e-14, 0.26429891792891175], \"yaxis\": \"y\"}],                        {\"barmode\": \"relative\", \"legend\": {\"title\": {\"text\": \"variable\"}, \"tracegroupgap\": 0}, \"margin\": {\"t\": 60}, \"template\": {\"data\": {\"bar\": [{\"error_x\": {\"color\": \"#2a3f5f\"}, \"error_y\": {\"color\": \"#2a3f5f\"}, \"marker\": {\"line\": {\"color\": \"#E5ECF6\", \"width\": 0.5}}, \"type\": \"bar\"}], \"barpolar\": [{\"marker\": {\"line\": {\"color\": \"#E5ECF6\", \"width\": 0.5}}, \"type\": \"barpolar\"}], \"carpet\": [{\"aaxis\": {\"endlinecolor\": \"#2a3f5f\", \"gridcolor\": \"white\", \"linecolor\": \"white\", \"minorgridcolor\": \"white\", \"startlinecolor\": \"#2a3f5f\"}, \"baxis\": {\"endlinecolor\": \"#2a3f5f\", \"gridcolor\": \"white\", \"linecolor\": \"white\", \"minorgridcolor\": \"white\", \"startlinecolor\": \"#2a3f5f\"}, \"type\": \"carpet\"}], \"choropleth\": [{\"colorbar\": {\"outlinewidth\": 0, \"ticks\": \"\"}, \"type\": \"choropleth\"}], \"contour\": [{\"colorbar\": {\"outlinewidth\": 0, \"ticks\": \"\"}, \"colorscale\": [[0.0, \"#0d0887\"], [0.1111111111111111, \"#46039f\"], [0.2222222222222222, \"#7201a8\"], [0.3333333333333333, \"#9c179e\"], [0.4444444444444444, \"#bd3786\"], [0.5555555555555556, \"#d8576b\"], [0.6666666666666666, \"#ed7953\"], [0.7777777777777778, \"#fb9f3a\"], [0.8888888888888888, \"#fdca26\"], [1.0, \"#f0f921\"]], \"type\": \"contour\"}], \"contourcarpet\": [{\"colorbar\": {\"outlinewidth\": 0, \"ticks\": \"\"}, \"type\": \"contourcarpet\"}], \"heatmap\": [{\"colorbar\": {\"outlinewidth\": 0, \"ticks\": \"\"}, \"colorscale\": [[0.0, \"#0d0887\"], [0.1111111111111111, \"#46039f\"], [0.2222222222222222, \"#7201a8\"], [0.3333333333333333, \"#9c179e\"], [0.4444444444444444, \"#bd3786\"], [0.5555555555555556, \"#d8576b\"], [0.6666666666666666, \"#ed7953\"], [0.7777777777777778, \"#fb9f3a\"], [0.8888888888888888, \"#fdca26\"], [1.0, \"#f0f921\"]], \"type\": \"heatmap\"}], \"heatmapgl\": [{\"colorbar\": {\"outlinewidth\": 0, \"ticks\": \"\"}, \"colorscale\": [[0.0, \"#0d0887\"], [0.1111111111111111, \"#46039f\"], [0.2222222222222222, \"#7201a8\"], [0.3333333333333333, \"#9c179e\"], [0.4444444444444444, \"#bd3786\"], [0.5555555555555556, \"#d8576b\"], [0.6666666666666666, \"#ed7953\"], [0.7777777777777778, \"#fb9f3a\"], [0.8888888888888888, \"#fdca26\"], [1.0, \"#f0f921\"]], \"type\": \"heatmapgl\"}], \"histogram\": [{\"marker\": {\"colorbar\": {\"outlinewidth\": 0, \"ticks\": \"\"}}, \"type\": \"histogram\"}], \"histogram2d\": [{\"colorbar\": {\"outlinewidth\": 0, \"ticks\": \"\"}, \"colorscale\": [[0.0, \"#0d0887\"], [0.1111111111111111, \"#46039f\"], [0.2222222222222222, \"#7201a8\"], [0.3333333333333333, \"#9c179e\"], [0.4444444444444444, \"#bd3786\"], [0.5555555555555556, \"#d8576b\"], [0.6666666666666666, \"#ed7953\"], [0.7777777777777778, \"#fb9f3a\"], [0.8888888888888888, \"#fdca26\"], [1.0, \"#f0f921\"]], \"type\": \"histogram2d\"}], \"histogram2dcontour\": [{\"colorbar\": {\"outlinewidth\": 0, \"ticks\": \"\"}, \"colorscale\": [[0.0, \"#0d0887\"], [0.1111111111111111, \"#46039f\"], [0.2222222222222222, \"#7201a8\"], [0.3333333333333333, \"#9c179e\"], [0.4444444444444444, \"#bd3786\"], [0.5555555555555556, \"#d8576b\"], [0.6666666666666666, \"#ed7953\"], [0.7777777777777778, \"#fb9f3a\"], [0.8888888888888888, \"#fdca26\"], [1.0, \"#f0f921\"]], \"type\": \"histogram2dcontour\"}], \"mesh3d\": [{\"colorbar\": {\"outlinewidth\": 0, \"ticks\": \"\"}, \"type\": \"mesh3d\"}], \"parcoords\": [{\"line\": {\"colorbar\": {\"outlinewidth\": 0, \"ticks\": \"\"}}, \"type\": \"parcoords\"}], \"pie\": [{\"automargin\": true, \"type\": \"pie\"}], \"scatter\": [{\"marker\": {\"colorbar\": {\"outlinewidth\": 0, \"ticks\": \"\"}}, \"type\": \"scatter\"}], \"scatter3d\": [{\"line\": {\"colorbar\": {\"outlinewidth\": 0, \"ticks\": \"\"}}, \"marker\": {\"colorbar\": {\"outlinewidth\": 0, \"ticks\": \"\"}}, \"type\": \"scatter3d\"}], \"scattercarpet\": [{\"marker\": {\"colorbar\": {\"outlinewidth\": 0, \"ticks\": \"\"}}, \"type\": \"scattercarpet\"}], \"scattergeo\": [{\"marker\": {\"colorbar\": {\"outlinewidth\": 0, \"ticks\": \"\"}}, \"type\": \"scattergeo\"}], \"scattergl\": [{\"marker\": {\"colorbar\": {\"outlinewidth\": 0, \"ticks\": \"\"}}, \"type\": \"scattergl\"}], \"scattermapbox\": [{\"marker\": {\"colorbar\": {\"outlinewidth\": 0, \"ticks\": \"\"}}, \"type\": \"scattermapbox\"}], \"scatterpolar\": [{\"marker\": {\"colorbar\": {\"outlinewidth\": 0, \"ticks\": \"\"}}, \"type\": \"scatterpolar\"}], \"scatterpolargl\": [{\"marker\": {\"colorbar\": {\"outlinewidth\": 0, \"ticks\": \"\"}}, \"type\": \"scatterpolargl\"}], \"scatterternary\": [{\"marker\": {\"colorbar\": {\"outlinewidth\": 0, \"ticks\": \"\"}}, \"type\": \"scatterternary\"}], \"surface\": [{\"colorbar\": {\"outlinewidth\": 0, \"ticks\": \"\"}, \"colorscale\": [[0.0, \"#0d0887\"], [0.1111111111111111, \"#46039f\"], [0.2222222222222222, \"#7201a8\"], [0.3333333333333333, \"#9c179e\"], [0.4444444444444444, \"#bd3786\"], [0.5555555555555556, \"#d8576b\"], [0.6666666666666666, \"#ed7953\"], [0.7777777777777778, \"#fb9f3a\"], [0.8888888888888888, \"#fdca26\"], [1.0, \"#f0f921\"]], \"type\": \"surface\"}], \"table\": [{\"cells\": {\"fill\": {\"color\": \"#EBF0F8\"}, \"line\": {\"color\": \"white\"}}, \"header\": {\"fill\": {\"color\": \"#C8D4E3\"}, \"line\": {\"color\": \"white\"}}, \"type\": \"table\"}]}, \"layout\": {\"annotationdefaults\": {\"arrowcolor\": \"#2a3f5f\", \"arrowhead\": 0, \"arrowwidth\": 1}, \"autotypenumbers\": \"strict\", \"coloraxis\": {\"colorbar\": {\"outlinewidth\": 0, \"ticks\": \"\"}}, \"colorscale\": {\"diverging\": [[0, \"#8e0152\"], [0.1, \"#c51b7d\"], [0.2, \"#de77ae\"], [0.3, \"#f1b6da\"], [0.4, \"#fde0ef\"], [0.5, \"#f7f7f7\"], [0.6, \"#e6f5d0\"], [0.7, \"#b8e186\"], [0.8, \"#7fbc41\"], [0.9, \"#4d9221\"], [1, \"#276419\"]], \"sequential\": [[0.0, \"#0d0887\"], [0.1111111111111111, \"#46039f\"], [0.2222222222222222, \"#7201a8\"], [0.3333333333333333, \"#9c179e\"], [0.4444444444444444, \"#bd3786\"], [0.5555555555555556, \"#d8576b\"], [0.6666666666666666, \"#ed7953\"], [0.7777777777777778, \"#fb9f3a\"], [0.8888888888888888, \"#fdca26\"], [1.0, \"#f0f921\"]], \"sequentialminus\": [[0.0, \"#0d0887\"], [0.1111111111111111, \"#46039f\"], [0.2222222222222222, \"#7201a8\"], [0.3333333333333333, \"#9c179e\"], [0.4444444444444444, \"#bd3786\"], [0.5555555555555556, \"#d8576b\"], [0.6666666666666666, \"#ed7953\"], [0.7777777777777778, \"#fb9f3a\"], [0.8888888888888888, \"#fdca26\"], [1.0, \"#f0f921\"]]}, \"colorway\": [\"#636efa\", \"#EF553B\", \"#00cc96\", \"#ab63fa\", \"#FFA15A\", \"#19d3f3\", \"#FF6692\", \"#B6E880\", \"#FF97FF\", \"#FECB52\"], \"font\": {\"color\": \"#2a3f5f\"}, \"geo\": {\"bgcolor\": \"white\", \"lakecolor\": \"white\", \"landcolor\": \"#E5ECF6\", \"showlakes\": true, \"showland\": true, \"subunitcolor\": \"white\"}, \"hoverlabel\": {\"align\": \"left\"}, \"hovermode\": \"closest\", \"mapbox\": {\"style\": \"light\"}, \"paper_bgcolor\": \"white\", \"plot_bgcolor\": \"#E5ECF6\", \"polar\": {\"angularaxis\": {\"gridcolor\": \"white\", \"linecolor\": \"white\", \"ticks\": \"\"}, \"bgcolor\": \"#E5ECF6\", \"radialaxis\": {\"gridcolor\": \"white\", \"linecolor\": \"white\", \"ticks\": \"\"}}, \"scene\": {\"xaxis\": {\"backgroundcolor\": \"#E5ECF6\", \"gridcolor\": \"white\", \"gridwidth\": 2, \"linecolor\": \"white\", \"showbackground\": true, \"ticks\": \"\", \"zerolinecolor\": \"white\"}, \"yaxis\": {\"backgroundcolor\": \"#E5ECF6\", \"gridcolor\": \"white\", \"gridwidth\": 2, \"linecolor\": \"white\", \"showbackground\": true, \"ticks\": \"\", \"zerolinecolor\": \"white\"}, \"zaxis\": {\"backgroundcolor\": \"#E5ECF6\", \"gridcolor\": \"white\", \"gridwidth\": 2, \"linecolor\": \"white\", \"showbackground\": true, \"ticks\": \"\", \"zerolinecolor\": \"white\"}}, \"shapedefaults\": {\"line\": {\"color\": \"#2a3f5f\"}}, \"ternary\": {\"aaxis\": {\"gridcolor\": \"white\", \"linecolor\": \"white\", \"ticks\": \"\"}, \"baxis\": {\"gridcolor\": \"white\", \"linecolor\": \"white\", \"ticks\": \"\"}, \"bgcolor\": \"#E5ECF6\", \"caxis\": {\"gridcolor\": \"white\", \"linecolor\": \"white\", \"ticks\": \"\"}}, \"title\": {\"x\": 0.05}, \"xaxis\": {\"automargin\": true, \"gridcolor\": \"white\", \"linecolor\": \"white\", \"ticks\": \"\", \"title\": {\"standoff\": 15}, \"zerolinecolor\": \"white\", \"zerolinewidth\": 2}, \"yaxis\": {\"automargin\": true, \"gridcolor\": \"white\", \"linecolor\": \"white\", \"ticks\": \"\", \"title\": {\"standoff\": 15}, \"zerolinecolor\": \"white\", \"zerolinewidth\": 2}}}, \"xaxis\": {\"anchor\": \"y\", \"domain\": [0.0, 1.0], \"title\": {\"text\": \"index\"}}, \"yaxis\": {\"anchor\": \"x\", \"domain\": [0.0, 1.0], \"title\": {\"text\": \"value\"}}},                        {\"responsive\": true}                    ).then(function(){\n",
       "                            \n",
       "var gd = document.getElementById('8e782e95-713a-4571-a2b5-f0bbdc94bc51');\n",
       "var x = new MutationObserver(function (mutations, observer) {{\n",
       "        var display = window.getComputedStyle(gd).display;\n",
       "        if (!display || display === 'none') {{\n",
       "            console.log([gd, 'removed!']);\n",
       "            Plotly.purge(gd);\n",
       "            observer.disconnect();\n",
       "        }}\n",
       "}});\n",
       "\n",
       "// Listen for the removal of the full notebook cells\n",
       "var notebookContainer = gd.closest('#notebook-container');\n",
       "if (notebookContainer) {{\n",
       "    x.observe(notebookContainer, {childList: true});\n",
       "}}\n",
       "\n",
       "// Listen for the clearing of the current output cell\n",
       "var outputEl = gd.closest('.output');\n",
       "if (outputEl) {{\n",
       "    x.observe(outputEl, {childList: true});\n",
       "}}\n",
       "\n",
       "                        })                };                });            </script>        </div>"
      ]
     },
     "metadata": {},
     "output_type": "display_data"
    }
   ],
   "source": [
    "px.bar(P.iloc[:,0])"
   ]
  },
  {
   "cell_type": "code",
   "execution_count": null,
   "metadata": {},
   "outputs": [],
   "source": []
  }
 ],
 "metadata": {
  "kernelspec": {
   "display_name": "Python 3",
   "language": "python",
   "name": "python3"
  },
  "language_info": {
   "codemirror_mode": {
    "name": "ipython",
    "version": 3
   },
   "file_extension": ".py",
   "mimetype": "text/x-python",
   "name": "python",
   "nbconvert_exporter": "python",
   "pygments_lexer": "ipython3",
   "version": "3.8.5"
  }
 },
 "nbformat": 4,
 "nbformat_minor": 4
}
